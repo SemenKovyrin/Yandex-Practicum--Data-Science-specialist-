{
 "cells": [
  {
   "cell_type": "markdown",
   "metadata": {},
   "source": [
    "# Защита персональных данных клиентов"
   ]
  },
  {
   "cell_type": "markdown",
   "metadata": {},
   "source": [
    "Нужно защитить данные клиентов страховой компании.  \n",
    "Разработаем такой метод преобразования данных, чтобы по ним было сложно восстановить персональную информацию.  \n",
    "Обоснуем корректность его работы.  \n",
    "При преобразовании, качество моделей машинного обучения не должно ухудшаться."
   ]
  },
  {
   "cell_type": "markdown",
   "metadata": {},
   "source": [
    "**Описание данных:**  \n",
    "`Пол`  \n",
    "`Возраст`  \n",
    "`Зарплата`  \n",
    "`Члены семьи`  \n",
    "**Целевой признак:**  \n",
    "`Страховые выплаты` клиенту за последние 5 лет"
   ]
  },
  {
   "cell_type": "markdown",
   "metadata": {},
   "source": [
    "## Загрузка данных"
   ]
  },
  {
   "cell_type": "code",
   "execution_count": 1,
   "metadata": {},
   "outputs": [],
   "source": [
    "\n",
    "import numpy as np\n",
    "import pandas as pd\n",
    "import seaborn as sns\n",
    "import matplotlib.pyplot as plt\n",
    "from sklearn.metrics import r2_score\n",
    "from sklearn.linear_model import LinearRegression\n"
   ]
  },
  {
   "cell_type": "code",
   "execution_count": 2,
   "metadata": {},
   "outputs": [],
   "source": [
    "df = pd.read_csv('insurance.csv')"
   ]
  },
  {
   "cell_type": "markdown",
   "metadata": {},
   "source": [
    "### Знакомство с данными"
   ]
  },
  {
   "cell_type": "code",
   "execution_count": 3,
   "metadata": {},
   "outputs": [
    {
     "data": {
      "text/html": [
       "<div>\n",
       "<style scoped>\n",
       "    .dataframe tbody tr th:only-of-type {\n",
       "        vertical-align: middle;\n",
       "    }\n",
       "\n",
       "    .dataframe tbody tr th {\n",
       "        vertical-align: top;\n",
       "    }\n",
       "\n",
       "    .dataframe thead th {\n",
       "        text-align: right;\n",
       "    }\n",
       "</style>\n",
       "<table border=\"1\" class=\"dataframe\">\n",
       "  <thead>\n",
       "    <tr style=\"text-align: right;\">\n",
       "      <th></th>\n",
       "      <th>Пол</th>\n",
       "      <th>Возраст</th>\n",
       "      <th>Зарплата</th>\n",
       "      <th>Члены семьи</th>\n",
       "      <th>Страховые выплаты</th>\n",
       "    </tr>\n",
       "  </thead>\n",
       "  <tbody>\n",
       "    <tr>\n",
       "      <td>1501</td>\n",
       "      <td>1</td>\n",
       "      <td>28.0</td>\n",
       "      <td>56100.0</td>\n",
       "      <td>0</td>\n",
       "      <td>0</td>\n",
       "    </tr>\n",
       "    <tr>\n",
       "      <td>2586</td>\n",
       "      <td>1</td>\n",
       "      <td>32.0</td>\n",
       "      <td>41900.0</td>\n",
       "      <td>2</td>\n",
       "      <td>0</td>\n",
       "    </tr>\n",
       "    <tr>\n",
       "      <td>2653</td>\n",
       "      <td>1</td>\n",
       "      <td>30.0</td>\n",
       "      <td>26300.0</td>\n",
       "      <td>0</td>\n",
       "      <td>0</td>\n",
       "    </tr>\n",
       "    <tr>\n",
       "      <td>1055</td>\n",
       "      <td>1</td>\n",
       "      <td>30.0</td>\n",
       "      <td>37300.0</td>\n",
       "      <td>2</td>\n",
       "      <td>0</td>\n",
       "    </tr>\n",
       "    <tr>\n",
       "      <td>705</td>\n",
       "      <td>0</td>\n",
       "      <td>44.0</td>\n",
       "      <td>30000.0</td>\n",
       "      <td>1</td>\n",
       "      <td>1</td>\n",
       "    </tr>\n",
       "    <tr>\n",
       "      <td>106</td>\n",
       "      <td>1</td>\n",
       "      <td>45.0</td>\n",
       "      <td>41600.0</td>\n",
       "      <td>2</td>\n",
       "      <td>1</td>\n",
       "    </tr>\n",
       "    <tr>\n",
       "      <td>589</td>\n",
       "      <td>1</td>\n",
       "      <td>28.0</td>\n",
       "      <td>32800.0</td>\n",
       "      <td>2</td>\n",
       "      <td>0</td>\n",
       "    </tr>\n",
       "    <tr>\n",
       "      <td>2468</td>\n",
       "      <td>1</td>\n",
       "      <td>32.0</td>\n",
       "      <td>20600.0</td>\n",
       "      <td>2</td>\n",
       "      <td>0</td>\n",
       "    </tr>\n",
       "    <tr>\n",
       "      <td>2413</td>\n",
       "      <td>1</td>\n",
       "      <td>30.0</td>\n",
       "      <td>42600.0</td>\n",
       "      <td>2</td>\n",
       "      <td>0</td>\n",
       "    </tr>\n",
       "    <tr>\n",
       "      <td>1600</td>\n",
       "      <td>1</td>\n",
       "      <td>27.0</td>\n",
       "      <td>40700.0</td>\n",
       "      <td>0</td>\n",
       "      <td>0</td>\n",
       "    </tr>\n",
       "  </tbody>\n",
       "</table>\n",
       "</div>"
      ],
      "text/plain": [
       "      Пол  Возраст  Зарплата  Члены семьи  Страховые выплаты\n",
       "1501    1     28.0   56100.0            0                  0\n",
       "2586    1     32.0   41900.0            2                  0\n",
       "2653    1     30.0   26300.0            0                  0\n",
       "1055    1     30.0   37300.0            2                  0\n",
       "705     0     44.0   30000.0            1                  1\n",
       "106     1     45.0   41600.0            2                  1\n",
       "589     1     28.0   32800.0            2                  0\n",
       "2468    1     32.0   20600.0            2                  0\n",
       "2413    1     30.0   42600.0            2                  0\n",
       "1600    1     27.0   40700.0            0                  0"
      ]
     },
     "execution_count": 3,
     "metadata": {},
     "output_type": "execute_result"
    }
   ],
   "source": [
    "df.sample(n=10, random_state=42)"
   ]
  },
  {
   "cell_type": "markdown",
   "metadata": {},
   "source": [
    "Количество членов семьи начинается с нуля.  \n",
    "Можно предположить что:  \n",
    "`0` это одинокий клиент  \n",
    "`1` это клиент в браке  \n",
    "`>= 2` это дети  "
   ]
  },
  {
   "cell_type": "code",
   "execution_count": 4,
   "metadata": {},
   "outputs": [
    {
     "name": "stdout",
     "output_type": "stream",
     "text": [
      "<class 'pandas.core.frame.DataFrame'>\n",
      "RangeIndex: 5000 entries, 0 to 4999\n",
      "Data columns (total 5 columns):\n",
      "Пол                  5000 non-null int64\n",
      "Возраст              5000 non-null float64\n",
      "Зарплата             5000 non-null float64\n",
      "Члены семьи          5000 non-null int64\n",
      "Страховые выплаты    5000 non-null int64\n",
      "dtypes: float64(2), int64(3)\n",
      "memory usage: 195.4 KB\n"
     ]
    }
   ],
   "source": [
    "df.info()"
   ]
  },
  {
   "cell_type": "markdown",
   "metadata": {},
   "source": [
    "Пропусков нет.  \n",
    "Расход памяти небольшой - оптимизация не требуется."
   ]
  },
  {
   "cell_type": "code",
   "execution_count": 5,
   "metadata": {},
   "outputs": [
    {
     "data": {
      "text/html": [
       "<div>\n",
       "<style scoped>\n",
       "    .dataframe tbody tr th:only-of-type {\n",
       "        vertical-align: middle;\n",
       "    }\n",
       "\n",
       "    .dataframe tbody tr th {\n",
       "        vertical-align: top;\n",
       "    }\n",
       "\n",
       "    .dataframe thead th {\n",
       "        text-align: right;\n",
       "    }\n",
       "</style>\n",
       "<table border=\"1\" class=\"dataframe\">\n",
       "  <thead>\n",
       "    <tr style=\"text-align: right;\">\n",
       "      <th></th>\n",
       "      <th>count</th>\n",
       "      <th>mean</th>\n",
       "      <th>std</th>\n",
       "      <th>min</th>\n",
       "      <th>25%</th>\n",
       "      <th>50%</th>\n",
       "      <th>75%</th>\n",
       "      <th>max</th>\n",
       "    </tr>\n",
       "  </thead>\n",
       "  <tbody>\n",
       "    <tr>\n",
       "      <td>Пол</td>\n",
       "      <td>5000.0</td>\n",
       "      <td>0.50</td>\n",
       "      <td>0.50</td>\n",
       "      <td>0.0</td>\n",
       "      <td>0.0</td>\n",
       "      <td>0.0</td>\n",
       "      <td>1.0</td>\n",
       "      <td>1.0</td>\n",
       "    </tr>\n",
       "    <tr>\n",
       "      <td>Возраст</td>\n",
       "      <td>5000.0</td>\n",
       "      <td>30.95</td>\n",
       "      <td>8.44</td>\n",
       "      <td>18.0</td>\n",
       "      <td>24.0</td>\n",
       "      <td>30.0</td>\n",
       "      <td>37.0</td>\n",
       "      <td>65.0</td>\n",
       "    </tr>\n",
       "    <tr>\n",
       "      <td>Зарплата</td>\n",
       "      <td>5000.0</td>\n",
       "      <td>39916.36</td>\n",
       "      <td>9900.08</td>\n",
       "      <td>5300.0</td>\n",
       "      <td>33300.0</td>\n",
       "      <td>40200.0</td>\n",
       "      <td>46600.0</td>\n",
       "      <td>79000.0</td>\n",
       "    </tr>\n",
       "    <tr>\n",
       "      <td>Члены семьи</td>\n",
       "      <td>5000.0</td>\n",
       "      <td>1.19</td>\n",
       "      <td>1.09</td>\n",
       "      <td>0.0</td>\n",
       "      <td>0.0</td>\n",
       "      <td>1.0</td>\n",
       "      <td>2.0</td>\n",
       "      <td>6.0</td>\n",
       "    </tr>\n",
       "    <tr>\n",
       "      <td>Страховые выплаты</td>\n",
       "      <td>5000.0</td>\n",
       "      <td>0.15</td>\n",
       "      <td>0.46</td>\n",
       "      <td>0.0</td>\n",
       "      <td>0.0</td>\n",
       "      <td>0.0</td>\n",
       "      <td>0.0</td>\n",
       "      <td>5.0</td>\n",
       "    </tr>\n",
       "  </tbody>\n",
       "</table>\n",
       "</div>"
      ],
      "text/plain": [
       "                    count      mean      std     min      25%      50%  \\\n",
       "Пол                5000.0      0.50     0.50     0.0      0.0      0.0   \n",
       "Возраст            5000.0     30.95     8.44    18.0     24.0     30.0   \n",
       "Зарплата           5000.0  39916.36  9900.08  5300.0  33300.0  40200.0   \n",
       "Члены семьи        5000.0      1.19     1.09     0.0      0.0      1.0   \n",
       "Страховые выплаты  5000.0      0.15     0.46     0.0      0.0      0.0   \n",
       "\n",
       "                       75%      max  \n",
       "Пол                    1.0      1.0  \n",
       "Возраст               37.0     65.0  \n",
       "Зарплата           46600.0  79000.0  \n",
       "Члены семьи            2.0      6.0  \n",
       "Страховые выплаты      0.0      5.0  "
      ]
     },
     "execution_count": 5,
     "metadata": {},
     "output_type": "execute_result"
    }
   ],
   "source": [
    "df.describe().T.round(2)"
   ]
  },
  {
   "cell_type": "markdown",
   "metadata": {},
   "source": [
    "Вероятность наступления страхового случая у среднего клиента составляет `15%`  \n",
    "Страховые выплаты находятся в четвертом квартиле по возрасту, `>37 лет`"
   ]
  },
  {
   "cell_type": "code",
   "execution_count": 6,
   "metadata": {},
   "outputs": [
    {
     "name": "stdout",
     "output_type": "stream",
     "text": [
      "Доля полных дубликатов в выборке составляет: 3.06%\n"
     ]
    }
   ],
   "source": [
    "print('Доля полных дубликатов в выборке составляет: {:3.2%}'.format(df.duplicated().mean()))"
   ]
  },
  {
   "cell_type": "markdown",
   "metadata": {},
   "source": [
    "Так как у нас стоит задача шифровки данных, а не улучшения модели, мы не будем трогать дубликаты."
   ]
  },
  {
   "cell_type": "code",
   "execution_count": 7,
   "metadata": {
    "scrolled": false
   },
   "outputs": [
    {
     "data": {
      "image/png": "[encoded data removed]",
      "text/plain": [
       "<Figure size 900x900 with 30 Axes>"
      ]
     },
     "metadata": {
      "needs_background": "light"
     },
     "output_type": "display_data"
    }
   ],
   "source": [
    "sns.pairplot(df);"
   ]
  },
  {
   "cell_type": "markdown",
   "metadata": {},
   "source": [
    "Каждый пол в выборке встречается примерно одинаковое количество раз.  \n",
    "Распределение по возрасту выглядит правдоподобно, чаще встречаются младшие клиенты.  \n",
    "Зарплата распределена нормально.  \n",
    "По нашшему предположению о членах семьи, чаще встречаются женатые клиенты.  \n",
    "Большее количество выплат встречается у пола `1`  \n",
    "Как мы и предполагали, страховые выплаты начинаются примерно с сорока лет, еще видно что они возрастают по прямой.  \n",
    "Количество выплат более двух встречается только при количестве членов семьи менее трех.  \n",
    "Так как у нас стоит задача шифровки данных, а не улучшения модели, мы не будем разделять признак количества членов семьи на две группы.  "
   ]
  },
  {
   "cell_type": "code",
   "execution_count": 8,
   "metadata": {},
   "outputs": [
    {
     "data": {
      "image/png": "[encoded data removed]",
      "text/plain": [
       "<Figure size 1152x648 with 2 Axes>"
      ]
     },
     "metadata": {
      "needs_background": "light"
     },
     "output_type": "display_data"
    }
   ],
   "source": [
    "\n",
    "matrix = np.triu(df.corr())\n",
    "fig, ax = plt.subplots(figsize=(16,9))\n",
    "sns.heatmap(df.corr(), annot=True, mask=matrix, cmap='BuPu');\n",
    "    "
   ]
  },
  {
   "cell_type": "markdown",
   "metadata": {},
   "source": [
    "Выделяется корреляция страховых выплат с возрастом.  "
   ]
  },
  {
   "cell_type": "markdown",
   "metadata": {},
   "source": [
    "### Вывод:"
   ]
  },
  {
   "cell_type": "markdown",
   "metadata": {},
   "source": [
    "Мы загрузили и познакомились с данными.  \n",
    "Еще мы нашли темы для размышления помимо основной задачи."
   ]
  },
  {
   "cell_type": "markdown",
   "metadata": {},
   "source": [
    "## Умножение матриц"
   ]
  },
  {
   "cell_type": "markdown",
   "metadata": {},
   "source": [
    "Обозначения:\n",
    "\n",
    "- $X$ — матрица признаков (нулевой столбец состоит из единиц)\n",
    "\n",
    "- $y$ — вектор целевого признака\n",
    "\n",
    "- $P$ — матрица, на которую умножаются признаки\n",
    "\n",
    "- $w$ — вектор весов линейной регрессии (нулевой элемент равен сдвигу)"
   ]
  },
  {
   "cell_type": "markdown",
   "metadata": {},
   "source": [
    "Предсказания:\n",
    "\n",
    "$$\n",
    "a = Xw\n",
    "$$\n",
    "\n",
    "Задача обучения:\n",
    "\n",
    "$$\n",
    "w = \\arg\\min_w MSE(Xw, y)\n",
    "$$\n",
    "\n",
    "Формула обучения:\n",
    "\n",
    "$$\n",
    "w = (X^T X)^{-1} X^T y\n",
    "$$"
   ]
  },
  {
   "cell_type": "markdown",
   "metadata": {},
   "source": [
    "**Ответ:**  \n",
    "Качество модели линейной регрессии не изменится. \n",
    "\n",
    "**Обоснование:**  \n",
    "Линейная регрессия обучается получением вектора весов на исходной матрице признаков `X`   \n",
    "Предсказания делаются уже на новой матрице признаков `X1`, давайте подставим ее в формулу предсказания вместе с формулой обучения:  \n",
    "  \n",
    "$$  \n",
    "a = X1(X^T X)^{-1} X^T y\n",
    "$$   \n",
    "Представим что мы домножили обе матрицы признаков на обратимую матрицу `А` чтобы зашифровать признаки.  \n",
    "Обратимая матрица должна быть квадратной и ее размерность должна совпадать с количеством столбцов в преобразуемой матрице.  \n",
    "Это позволит их перемножить и получить матрицу такого же размера как и преобразуемая.  \n",
    "\n",
    "$$  \n",
    "a = X1A((XA)^T XA)^{-1} (XA)^T y\n",
    "$$  \n",
    "Нам поможет свойство транспонированных матриц - транспонированное произведение матриц равно произведению транспонированных матриц, взятых в обратном порядке `(AB)^T=B^TA^T` \n",
    "\n",
    "$$  \n",
    "a = X1A(A^TX^T XA)^{-1} A^TX^T y\n",
    "$$  \n",
    "У нас появились четыре матрицы `A`, две из которых обратные, они дадут пару единичных матриц которые не влияют на результат.  \n",
    "Сократим пары матриц `A`  \n",
    "$$  \n",
    "a = X1(X^T X)^{-1} X^T y\n",
    "$$  \n",
    "\n",
    "Как видим домножение на обратимую матрицу не повлияло на формулу предсказания, а следовательно и на само предсказание."
   ]
  },
  {
   "cell_type": "markdown",
   "metadata": {},
   "source": [
    "### Вывод:"
   ]
  },
  {
   "cell_type": "markdown",
   "metadata": {},
   "source": [
    "С помощью формул мы увидели что домножение обучающих признаков на обратимую матрицу нее должно повлиять на предсказания и следовательно качество модели.  \n",
    "Осталось это проверить."
   ]
  },
  {
   "cell_type": "markdown",
   "metadata": {},
   "source": [
    "## Алгоритм преобразования"
   ]
  },
  {
   "cell_type": "markdown",
   "metadata": {},
   "source": [
    "**Алгоритм**\n",
    "\n",
    "Домножим матрицу обучающиx признаков (размера `mxn`) на случайную обратимую матрицу размера `nxn` где `n` это количество столбцов в матрице обучающих признаков."
   ]
  },
  {
   "cell_type": "markdown",
   "metadata": {},
   "source": [
    "**Обоснование**\n",
    "\n",
    "Это в точности должно соответствовать выведенным нами формулам."
   ]
  },
  {
   "cell_type": "markdown",
   "metadata": {},
   "source": [
    "### Вывод:"
   ]
  },
  {
   "cell_type": "markdown",
   "metadata": {},
   "source": [
    "Мы предложили простой алгоритм шифрования на основе выводов из формул."
   ]
  },
  {
   "cell_type": "markdown",
   "metadata": {},
   "source": [
    "## Проверка алгоритма"
   ]
  },
  {
   "cell_type": "markdown",
   "metadata": {},
   "source": [
    "Выделим целевой признак."
   ]
  },
  {
   "cell_type": "code",
   "execution_count": 9,
   "metadata": {},
   "outputs": [],
   "source": [
    "\n",
    "features = df.drop('Страховые выплаты', axis=1)\n",
    "target = df['Страховые выплаты']\n"
   ]
  },
  {
   "cell_type": "markdown",
   "metadata": {},
   "source": [
    "Обучим модель и проверим ее качество метрикой `R^2`"
   ]
  },
  {
   "cell_type": "code",
   "execution_count": 10,
   "metadata": {},
   "outputs": [
    {
     "name": "stdout",
     "output_type": "stream",
     "text": [
      "Метрика \"R^2\" до шифрования признаков: 0.425\n"
     ]
    }
   ],
   "source": [
    "\n",
    "model = LinearRegression()\n",
    "model.fit(features, target)\n",
    "predictions = model.predict(features)\n",
    "print('Метрика \"R^2\" до шифрования признаков: {}'.format(r2_score(target, predictions).round(3)))\n"
   ]
  },
  {
   "cell_type": "markdown",
   "metadata": {},
   "source": [
    "Создадим функцию шифрования признаков которая создает случайную обратимую матрицу и возвращает зашифрованные признаки:"
   ]
  },
  {
   "cell_type": "code",
   "execution_count": 11,
   "metadata": {},
   "outputs": [],
   "source": [
    "\n",
    "def encryption_features(features):\n",
    "    \n",
    "    while True:\n",
    "        random_invertible_matrix =\\\n",
    "        np.random.normal(\n",
    "            size=(features.shape[1], features.shape[1])\n",
    "        )\n",
    "        \n",
    "        try: \n",
    "            np.linalg.inv(random_invertible_matrix)\n",
    "            break\n",
    "            \n",
    "        except LinAlgError:\n",
    "            continue\n",
    "            \n",
    "    return np.array(features) @ random_invertible_matrix   \n"
   ]
  },
  {
   "cell_type": "code",
   "execution_count": 12,
   "metadata": {},
   "outputs": [],
   "source": [
    "features_encrypted = encryption_features(features)"
   ]
  },
  {
   "cell_type": "markdown",
   "metadata": {},
   "source": [
    "Увидим что шифрование удалось, признаки изменились."
   ]
  },
  {
   "cell_type": "code",
   "execution_count": 13,
   "metadata": {},
   "outputs": [
    {
     "data": {
      "text/plain": [
       "array([[1.00e+00, 4.10e+01, 4.96e+04, 1.00e+00],\n",
       "       [0.00e+00, 4.60e+01, 3.80e+04, 1.00e+00],\n",
       "       [0.00e+00, 2.90e+01, 2.10e+04, 0.00e+00],\n",
       "       ...,\n",
       "       [0.00e+00, 2.00e+01, 3.39e+04, 2.00e+00],\n",
       "       [1.00e+00, 2.20e+01, 3.27e+04, 3.00e+00],\n",
       "       [1.00e+00, 2.80e+01, 4.06e+04, 1.00e+00]])"
      ]
     },
     "execution_count": 13,
     "metadata": {},
     "output_type": "execute_result"
    }
   ],
   "source": [
    "np.array(features)"
   ]
  },
  {
   "cell_type": "code",
   "execution_count": 14,
   "metadata": {},
   "outputs": [
    {
     "data": {
      "text/plain": [
       "array([[-56653.19632868,   7817.61827683, -22880.8720171 ,\n",
       "         82786.41847788],\n",
       "       [-43421.0361966 ,   5987.62463858, -17519.5407581 ,\n",
       "         63431.58451048],\n",
       "       [-24000.34054256,   3308.5900107 ,  -9679.26675398,\n",
       "         35056.8057102 ],\n",
       "       ...,\n",
       "       [-38710.09449415,   5343.97851067, -15644.5918625 ,\n",
       "         56576.58694658],\n",
       "       [-37343.55021794,   5154.21942876, -15088.07856683,\n",
       "         54572.48231564],\n",
       "       [-46366.63491534,   6399.71974273, -18733.03265616,\n",
       "         67761.82445552]])"
      ]
     },
     "execution_count": 14,
     "metadata": {},
     "output_type": "execute_result"
    }
   ],
   "source": [
    "features_encrypted"
   ]
  },
  {
   "cell_type": "markdown",
   "metadata": {},
   "source": [
    "Проверим модель на новых признаках."
   ]
  },
  {
   "cell_type": "code",
   "execution_count": 15,
   "metadata": {},
   "outputs": [
    {
     "name": "stdout",
     "output_type": "stream",
     "text": [
      "Метрика \"R^2\" после шифрования признаков: 0.425\n"
     ]
    }
   ],
   "source": [
    "\n",
    "model = LinearRegression()\n",
    "model.fit(features_encrypted, target)\n",
    "predictions = model.predict(features_encrypted)\n",
    "print('Метрика \"R^2\" после шифрования признаков: {}'.format(r2_score(target, predictions).round(3)))\n"
   ]
  },
  {
   "cell_type": "markdown",
   "metadata": {},
   "source": [
    "Как видим качество модели не изменилось, алгоритм работает!"
   ]
  },
  {
   "cell_type": "markdown",
   "metadata": {},
   "source": [
    "### Общий вывод:"
   ]
  },
  {
   "cell_type": "markdown",
   "metadata": {},
   "source": [
    "Количество членов семьи начинается с нуля.  \n",
    "Можно предположить что:  \n",
    "`0` это одинокий клиент  \n",
    "`1` это клиент в браке  \n",
    "`>= 2` это дети  \n",
    "Вероятность наступления страхового случая у среднего клиента составляет `15%`  \n",
    "Страховые выплаты находятся в четвертом квартиле по возрасту, `>37 лет`  \n",
    "Каждый пол в выборке встречается примерно одинаковое количество раз.  \n",
    "Распределение по возрасту выглядит правдоподобно, чаще встречаются младшие клиенты.  \n",
    "Зарплата распределена нормально.  \n",
    "По нашшему предположению о членах семьи, чаще встречаются женатые клиенты.  \n",
    "Большее количество выплат встречается у пола `1`  \n",
    "Как мы и предполагали, страховые выплаты начинаются примерно с сорока лет, еще видно что они возрастают по прямой.  \n",
    "Количество выплат более двух встречается только при количестве членов семьи менее трех.  \n",
    "Так как у нас стоит задача шифровки данных, а не улучшения модели, мы не будем разделять признак количества членов семьи на две группы.  \n",
    "Выделяется корреляция страховых выплат с возрастом.  \n",
    "С помощью формул мы увидели что домножение обучающих признаков на обратимую матрицу нее должно повлиять на предсказания и следовательно качество модели.  \n",
    "Описали алгоритм.  \n",
    "Проверили качество модели до и после шифрования по алгоритму.  \n",
    "Качество модели не изменилось, алгоритм работает."
   ]
  }
 ],
 "metadata": {
  "ExecuteTimeLog": [
   {
    "duration": 775,
    "start_time": "2021-07-18T09:45:06.577Z"
   },
   {
    "duration": 23,
    "start_time": "2021-07-18T09:45:29.064Z"
   },
   {
    "duration": 24,
    "start_time": "2021-07-18T09:45:39.335Z"
   },
   {
    "duration": 9,
    "start_time": "2021-07-18T09:46:18.279Z"
   },
   {
    "duration": 9,
    "start_time": "2021-07-18T09:46:23.287Z"
   },
   {
    "duration": 485,
    "start_time": "2021-07-18T09:46:53.303Z"
   },
   {
    "duration": 48,
    "start_time": "2021-07-18T09:47:00.351Z"
   },
   {
    "duration": 50,
    "start_time": "2021-07-18T09:47:04.767Z"
   },
   {
    "duration": 9,
    "start_time": "2021-07-18T09:50:33.756Z"
   },
   {
    "duration": 8,
    "start_time": "2021-07-18T09:50:44.715Z"
   },
   {
    "duration": 9,
    "start_time": "2021-07-18T09:50:59.627Z"
   },
   {
    "duration": 8,
    "start_time": "2021-07-18T09:51:08.892Z"
   },
   {
    "duration": 9,
    "start_time": "2021-07-18T09:52:00.946Z"
   },
   {
    "duration": 673,
    "start_time": "2021-07-18T09:53:50.578Z"
   },
   {
    "duration": 12549,
    "start_time": "2021-07-18T09:53:55.137Z"
   },
   {
    "duration": 892,
    "start_time": "2021-07-18T10:00:34.663Z"
   },
   {
    "duration": 4,
    "start_time": "2021-07-18T10:00:49.414Z"
   },
   {
    "duration": 1327,
    "start_time": "2021-07-18T10:00:53.079Z"
   },
   {
    "duration": 3,
    "start_time": "2021-07-18T10:01:23.015Z"
   },
   {
    "duration": 40450,
    "start_time": "2021-07-18T10:01:28.623Z"
   },
   {
    "duration": 307,
    "start_time": "2021-07-18T10:03:30.894Z"
   },
   {
    "duration": 541,
    "start_time": "2021-07-18T10:03:37.134Z"
   },
   {
    "duration": 471,
    "start_time": "2021-07-18T10:03:44.438Z"
   },
   {
    "duration": 13329,
    "start_time": "2021-07-18T10:03:50.494Z"
   },
   {
    "duration": 548,
    "start_time": "2021-07-18T10:06:30.908Z"
   },
   {
    "duration": 592,
    "start_time": "2021-07-18T10:06:40.116Z"
   },
   {
    "duration": 327,
    "start_time": "2021-07-18T10:08:12.708Z"
   },
   {
    "duration": 774,
    "start_time": "2021-07-18T10:08:41.915Z"
   },
   {
    "duration": 711,
    "start_time": "2021-07-18T10:08:49.963Z"
   },
   {
    "duration": 588,
    "start_time": "2021-07-18T10:09:35.891Z"
   },
   {
    "duration": 603,
    "start_time": "2021-07-18T10:11:02.706Z"
   },
   {
    "duration": 621,
    "start_time": "2021-07-18T10:11:18.697Z"
   },
   {
    "duration": 640,
    "start_time": "2021-07-18T10:11:28.939Z"
   },
   {
    "duration": 14,
    "start_time": "2021-07-18T10:11:53.753Z"
   },
   {
    "duration": 42,
    "start_time": "2021-07-18T15:06:23.798Z"
   },
   {
    "duration": 8,
    "start_time": "2021-07-18T15:20:42.852Z"
   },
   {
    "duration": 7,
    "start_time": "2021-07-18T15:22:13.386Z"
   },
   {
    "duration": 8,
    "start_time": "2021-07-18T15:22:21.577Z"
   },
   {
    "duration": 9,
    "start_time": "2021-07-18T15:22:36.897Z"
   },
   {
    "duration": 123,
    "start_time": "2021-07-18T15:23:05.609Z"
   },
   {
    "duration": 8,
    "start_time": "2021-07-18T15:23:14.025Z"
   },
   {
    "duration": 8,
    "start_time": "2021-07-18T15:23:21.897Z"
   },
   {
    "duration": 428,
    "start_time": "2021-07-18T15:23:41.289Z"
   },
   {
    "duration": 300,
    "start_time": "2021-07-18T15:23:47.632Z"
   },
   {
    "duration": 307,
    "start_time": "2021-07-18T15:23:56.953Z"
   },
   {
    "duration": 8,
    "start_time": "2021-07-18T15:24:07.073Z"
   },
   {
    "duration": 320,
    "start_time": "2021-07-18T15:24:22.977Z"
   },
   {
    "duration": 8,
    "start_time": "2021-07-18T15:24:27.104Z"
   },
   {
    "duration": 7,
    "start_time": "2021-07-18T15:24:55.320Z"
   },
   {
    "duration": 7,
    "start_time": "2021-07-18T15:25:21.616Z"
   },
   {
    "duration": 7,
    "start_time": "2021-07-18T15:26:01.447Z"
   },
   {
    "duration": 8,
    "start_time": "2021-07-18T15:26:06.694Z"
   },
   {
    "duration": 753,
    "start_time": "2021-07-18T15:45:06.456Z"
   },
   {
    "duration": 713,
    "start_time": "2021-07-18T15:45:26.480Z"
   },
   {
    "duration": 1508,
    "start_time": "2021-07-18T15:48:19.872Z"
   },
   {
    "duration": 23,
    "start_time": "2021-07-18T15:48:21.383Z"
   },
   {
    "duration": 21,
    "start_time": "2021-07-18T15:48:21.409Z"
   },
   {
    "duration": 11,
    "start_time": "2021-07-18T15:48:21.433Z"
   },
   {
    "duration": 73,
    "start_time": "2021-07-18T15:48:21.447Z"
   },
   {
    "duration": 9,
    "start_time": "2021-07-18T15:48:21.524Z"
   },
   {
    "duration": 13243,
    "start_time": "2021-07-18T15:48:21.536Z"
   },
   {
    "duration": 603,
    "start_time": "2021-07-18T15:48:34.782Z"
   },
   {
    "duration": 1169,
    "start_time": "2021-07-19T16:25:10.220Z"
   },
   {
    "duration": 337,
    "start_time": "2021-07-19T16:26:55.042Z"
   },
   {
    "duration": 1094,
    "start_time": "2021-07-19T16:27:06.064Z"
   },
   {
    "duration": 17,
    "start_time": "2021-07-19T16:27:07.160Z"
   },
   {
    "duration": 13,
    "start_time": "2021-07-19T16:27:07.178Z"
   },
   {
    "duration": 10,
    "start_time": "2021-07-19T16:27:07.193Z"
   },
   {
    "duration": 23,
    "start_time": "2021-07-19T16:27:07.204Z"
   },
   {
    "duration": 13,
    "start_time": "2021-07-19T16:27:07.229Z"
   },
   {
    "duration": 7546,
    "start_time": "2021-07-19T16:27:07.243Z"
   },
   {
    "duration": 431,
    "start_time": "2021-07-19T16:27:14.791Z"
   },
   {
    "duration": 3,
    "start_time": "2021-07-19T16:27:15.224Z"
   },
   {
    "duration": 22,
    "start_time": "2021-07-19T16:27:15.229Z"
   },
   {
    "duration": 97,
    "start_time": "2021-07-19T16:30:59.117Z"
   },
   {
    "duration": 9,
    "start_time": "2021-07-19T16:34:42.338Z"
   },
   {
    "duration": 362,
    "start_time": "2021-07-19T16:50:51.038Z"
   },
   {
    "duration": 4,
    "start_time": "2021-07-19T16:51:01.463Z"
   },
   {
    "duration": 4,
    "start_time": "2021-07-19T16:51:20.613Z"
   },
   {
    "duration": 3,
    "start_time": "2021-07-19T16:51:32.647Z"
   },
   {
    "duration": 3,
    "start_time": "2021-07-19T16:51:37.605Z"
   },
   {
    "duration": 3,
    "start_time": "2021-07-19T16:51:39.020Z"
   },
   {
    "duration": 4,
    "start_time": "2021-07-19T16:51:39.940Z"
   },
   {
    "duration": 3,
    "start_time": "2021-07-19T16:51:40.717Z"
   },
   {
    "duration": 3,
    "start_time": "2021-07-19T16:51:41.485Z"
   },
   {
    "duration": 4,
    "start_time": "2021-07-19T16:51:42.188Z"
   },
   {
    "duration": 4,
    "start_time": "2021-07-19T16:51:42.796Z"
   },
   {
    "duration": 4,
    "start_time": "2021-07-19T16:51:43.468Z"
   },
   {
    "duration": 4,
    "start_time": "2021-07-19T16:53:21.604Z"
   },
   {
    "duration": 5,
    "start_time": "2021-07-19T16:53:25.707Z"
   },
   {
    "duration": 12,
    "start_time": "2021-07-19T16:53:55.794Z"
   },
   {
    "duration": 290,
    "start_time": "2021-07-19T16:54:11.660Z"
   },
   {
    "duration": 3,
    "start_time": "2021-07-19T16:54:16.577Z"
   },
   {
    "duration": 5,
    "start_time": "2021-07-19T16:54:20.634Z"
   },
   {
    "duration": 324,
    "start_time": "2021-07-19T16:54:50.890Z"
   },
   {
    "duration": 282,
    "start_time": "2021-07-19T16:55:02.570Z"
   },
   {
    "duration": 4,
    "start_time": "2021-07-19T16:55:11.385Z"
   },
   {
    "duration": 4,
    "start_time": "2021-07-19T16:55:18.577Z"
   },
   {
    "duration": 5,
    "start_time": "2021-07-19T16:56:10.073Z"
   },
   {
    "duration": 5,
    "start_time": "2021-07-19T16:56:37.793Z"
   },
   {
    "duration": 6,
    "start_time": "2021-07-19T16:56:47.897Z"
   },
   {
    "duration": 5,
    "start_time": "2021-07-19T16:56:48.681Z"
   },
   {
    "duration": 5,
    "start_time": "2021-07-19T16:56:49.369Z"
   },
   {
    "duration": 6,
    "start_time": "2021-07-19T16:56:50.120Z"
   },
   {
    "duration": 6,
    "start_time": "2021-07-19T16:56:50.776Z"
   },
   {
    "duration": 5,
    "start_time": "2021-07-19T16:56:51.433Z"
   },
   {
    "duration": 6,
    "start_time": "2021-07-19T16:56:53.096Z"
   },
   {
    "duration": 5,
    "start_time": "2021-07-19T16:56:53.808Z"
   },
   {
    "duration": 6,
    "start_time": "2021-07-19T16:56:54.416Z"
   },
   {
    "duration": 5,
    "start_time": "2021-07-19T16:56:55.024Z"
   },
   {
    "duration": 6,
    "start_time": "2021-07-19T16:56:55.616Z"
   },
   {
    "duration": 5,
    "start_time": "2021-07-19T16:57:01.385Z"
   },
   {
    "duration": 5,
    "start_time": "2021-07-19T16:57:02.664Z"
   },
   {
    "duration": 87,
    "start_time": "2021-07-19T16:58:53.463Z"
   },
   {
    "duration": 4,
    "start_time": "2021-07-19T16:59:03.374Z"
   },
   {
    "duration": 7,
    "start_time": "2021-07-19T16:59:05.374Z"
   },
   {
    "duration": 4,
    "start_time": "2021-07-19T16:59:07.038Z"
   },
   {
    "duration": 8,
    "start_time": "2021-07-19T16:59:08.062Z"
   },
   {
    "duration": 5,
    "start_time": "2021-07-19T17:00:35.478Z"
   },
   {
    "duration": 11,
    "start_time": "2021-07-19T17:00:44.997Z"
   },
   {
    "duration": 6,
    "start_time": "2021-07-19T17:00:52.366Z"
   },
   {
    "duration": 279,
    "start_time": "2021-07-19T17:04:19.435Z"
   },
   {
    "duration": 5,
    "start_time": "2021-07-19T17:04:26.051Z"
   },
   {
    "duration": 5,
    "start_time": "2021-07-19T17:04:29.026Z"
   },
   {
    "duration": 5,
    "start_time": "2021-07-19T17:04:29.658Z"
   },
   {
    "duration": 7,
    "start_time": "2021-07-19T17:04:30.234Z"
   },
   {
    "duration": 5,
    "start_time": "2021-07-19T17:04:30.826Z"
   },
   {
    "duration": 7,
    "start_time": "2021-07-19T17:04:31.426Z"
   },
   {
    "duration": 5,
    "start_time": "2021-07-19T17:04:32.090Z"
   },
   {
    "duration": 5,
    "start_time": "2021-07-19T17:04:32.730Z"
   },
   {
    "duration": 5,
    "start_time": "2021-07-19T17:04:33.322Z"
   },
   {
    "duration": 5,
    "start_time": "2021-07-19T17:04:33.922Z"
   },
   {
    "duration": 5,
    "start_time": "2021-07-19T17:04:34.556Z"
   },
   {
    "duration": 5,
    "start_time": "2021-07-19T17:04:35.963Z"
   },
   {
    "duration": 6,
    "start_time": "2021-07-19T17:04:36.682Z"
   },
   {
    "duration": 6,
    "start_time": "2021-07-19T17:04:37.314Z"
   },
   {
    "duration": 6,
    "start_time": "2021-07-19T17:04:37.946Z"
   },
   {
    "duration": 7,
    "start_time": "2021-07-19T17:04:38.579Z"
   },
   {
    "duration": 7,
    "start_time": "2021-07-19T17:04:39.202Z"
   },
   {
    "duration": 6,
    "start_time": "2021-07-19T17:04:39.834Z"
   },
   {
    "duration": 5,
    "start_time": "2021-07-19T17:04:40.474Z"
   },
   {
    "duration": 5,
    "start_time": "2021-07-19T17:04:41.042Z"
   },
   {
    "duration": 5,
    "start_time": "2021-07-19T17:04:41.658Z"
   },
   {
    "duration": 5,
    "start_time": "2021-07-19T17:04:42.194Z"
   },
   {
    "duration": 6,
    "start_time": "2021-07-19T17:04:42.771Z"
   },
   {
    "duration": 6,
    "start_time": "2021-07-19T17:04:43.386Z"
   },
   {
    "duration": 5,
    "start_time": "2021-07-19T17:04:43.978Z"
   },
   {
    "duration": 7,
    "start_time": "2021-07-19T17:04:44.593Z"
   },
   {
    "duration": 7,
    "start_time": "2021-07-19T17:04:45.874Z"
   },
   {
    "duration": 5,
    "start_time": "2021-07-19T17:04:46.514Z"
   },
   {
    "duration": 7,
    "start_time": "2021-07-19T17:04:47.073Z"
   },
   {
    "duration": 6,
    "start_time": "2021-07-19T17:04:47.737Z"
   },
   {
    "duration": 7,
    "start_time": "2021-07-19T17:04:48.340Z"
   },
   {
    "duration": 1106,
    "start_time": "2021-07-19T17:10:36.693Z"
   },
   {
    "duration": 17,
    "start_time": "2021-07-19T17:10:37.801Z"
   },
   {
    "duration": 25,
    "start_time": "2021-07-19T17:10:37.822Z"
   },
   {
    "duration": 17,
    "start_time": "2021-07-19T17:10:37.849Z"
   },
   {
    "duration": 25,
    "start_time": "2021-07-19T17:10:37.867Z"
   },
   {
    "duration": 6,
    "start_time": "2021-07-19T17:10:37.894Z"
   },
   {
    "duration": 7684,
    "start_time": "2021-07-19T17:10:37.902Z"
   },
   {
    "duration": 422,
    "start_time": "2021-07-19T17:10:45.588Z"
   },
   {
    "duration": 4,
    "start_time": "2021-07-19T17:10:46.011Z"
   },
   {
    "duration": 34,
    "start_time": "2021-07-19T17:10:46.016Z"
   },
   {
    "duration": 93,
    "start_time": "2021-07-19T17:10:46.052Z"
   },
   {
    "duration": 182,
    "start_time": "2021-07-19T17:10:46.147Z"
   },
   {
    "duration": 3306,
    "start_time": "2021-07-19T17:10:43.025Z"
   },
   {
    "duration": 3305,
    "start_time": "2021-07-19T17:10:43.027Z"
   },
   {
    "duration": 3304,
    "start_time": "2021-07-19T17:10:43.029Z"
   },
   {
    "duration": 3,
    "start_time": "2021-07-19T17:11:03.746Z"
   },
   {
    "duration": 6,
    "start_time": "2021-07-19T17:11:06.530Z"
   },
   {
    "duration": 5,
    "start_time": "2021-07-19T17:11:08.169Z"
   },
   {
    "duration": 5,
    "start_time": "2021-07-19T17:11:10.394Z"
   },
   {
    "duration": 376,
    "start_time": "2021-07-19T17:15:18.879Z"
   },
   {
    "duration": 3,
    "start_time": "2021-07-19T17:15:27.231Z"
   },
   {
    "duration": 6,
    "start_time": "2021-07-19T17:15:30.110Z"
   },
   {
    "duration": 11,
    "start_time": "2021-07-19T17:15:33.711Z"
   },
   {
    "duration": 101,
    "start_time": "2021-07-19T17:15:36.342Z"
   },
   {
    "duration": 3,
    "start_time": "2021-07-19T17:16:03.517Z"
   },
   {
    "duration": 90,
    "start_time": "2021-07-19T17:16:04.974Z"
   },
   {
    "duration": 4,
    "start_time": "2021-07-19T17:16:06.480Z"
   },
   {
    "duration": 6,
    "start_time": "2021-07-19T17:16:08.790Z"
   },
   {
    "duration": 100,
    "start_time": "2021-07-19T17:16:34.389Z"
   },
   {
    "duration": 8,
    "start_time": "2021-07-19T17:16:43.957Z"
   },
   {
    "duration": 7,
    "start_time": "2021-07-19T17:16:56.005Z"
   },
   {
    "duration": 104,
    "start_time": "2021-07-19T17:22:29.681Z"
   },
   {
    "duration": 9,
    "start_time": "2021-07-19T17:23:42.840Z"
   },
   {
    "duration": 99,
    "start_time": "2021-07-19T17:24:40.456Z"
   },
   {
    "duration": 85,
    "start_time": "2021-07-19T17:25:38.288Z"
   },
   {
    "duration": 97,
    "start_time": "2021-07-19T17:26:03.902Z"
   },
   {
    "duration": 13,
    "start_time": "2021-07-19T17:26:28.606Z"
   },
   {
    "duration": 99,
    "start_time": "2021-07-19T17:27:09.237Z"
   },
   {
    "duration": 1135,
    "start_time": "2021-07-19T17:43:48.532Z"
   },
   {
    "duration": 18,
    "start_time": "2021-07-19T17:43:49.669Z"
   },
   {
    "duration": 11,
    "start_time": "2021-07-19T17:43:49.690Z"
   },
   {
    "duration": 7,
    "start_time": "2021-07-19T17:43:49.703Z"
   },
   {
    "duration": 36,
    "start_time": "2021-07-19T17:43:49.712Z"
   },
   {
    "duration": 5,
    "start_time": "2021-07-19T17:43:49.750Z"
   },
   {
    "duration": 8046,
    "start_time": "2021-07-19T17:43:49.757Z"
   },
   {
    "duration": 447,
    "start_time": "2021-07-19T17:43:57.805Z"
   },
   {
    "duration": 4,
    "start_time": "2021-07-19T17:43:58.254Z"
   },
   {
    "duration": 84,
    "start_time": "2021-07-19T17:43:58.260Z"
   },
   {
    "duration": 94,
    "start_time": "2021-07-19T17:43:58.346Z"
   },
   {
    "duration": 3,
    "start_time": "2021-07-19T17:43:58.442Z"
   },
   {
    "duration": 7,
    "start_time": "2021-07-19T17:43:58.447Z"
   },
   {
    "duration": 4,
    "start_time": "2021-07-19T17:43:58.455Z"
   },
   {
    "duration": 9,
    "start_time": "2021-07-19T17:43:58.460Z"
   },
   {
    "duration": 1379,
    "start_time": "2021-07-19T17:48:53.426Z"
   },
   {
    "duration": 20,
    "start_time": "2021-07-19T17:48:54.807Z"
   },
   {
    "duration": 12,
    "start_time": "2021-07-19T17:48:54.829Z"
   },
   {
    "duration": 7,
    "start_time": "2021-07-19T17:48:54.844Z"
   },
   {
    "duration": 38,
    "start_time": "2021-07-19T17:48:54.853Z"
   },
   {
    "duration": 6,
    "start_time": "2021-07-19T17:48:54.893Z"
   },
   {
    "duration": 8971,
    "start_time": "2021-07-19T17:48:54.900Z"
   },
   {
    "duration": 419,
    "start_time": "2021-07-19T17:49:03.874Z"
   },
   {
    "duration": 4,
    "start_time": "2021-07-19T17:49:04.295Z"
   },
   {
    "duration": 52,
    "start_time": "2021-07-19T17:49:04.301Z"
   },
   {
    "duration": 4,
    "start_time": "2021-07-19T17:49:04.440Z"
   },
   {
    "duration": 8,
    "start_time": "2021-07-19T17:49:04.446Z"
   },
   {
    "duration": 8,
    "start_time": "2021-07-19T17:49:04.456Z"
   },
   {
    "duration": 4,
    "start_time": "2021-07-19T17:49:04.466Z"
   },
   {
    "duration": 76,
    "start_time": "2021-07-19T17:49:04.472Z"
   },
   {
    "duration": 1163,
    "start_time": "2021-07-19T17:50:05.615Z"
   },
   {
    "duration": 18,
    "start_time": "2021-07-19T17:50:06.780Z"
   },
   {
    "duration": 12,
    "start_time": "2021-07-19T17:50:06.800Z"
   },
   {
    "duration": 9,
    "start_time": "2021-07-19T17:50:06.813Z"
   },
   {
    "duration": 34,
    "start_time": "2021-07-19T17:50:06.824Z"
   },
   {
    "duration": 5,
    "start_time": "2021-07-19T17:50:06.859Z"
   },
   {
    "duration": 7948,
    "start_time": "2021-07-19T17:50:06.865Z"
   },
   {
    "duration": 449,
    "start_time": "2021-07-19T17:50:14.815Z"
   },
   {
    "duration": 4,
    "start_time": "2021-07-19T17:50:15.266Z"
   },
   {
    "duration": 74,
    "start_time": "2021-07-19T17:50:15.271Z"
   },
   {
    "duration": 4,
    "start_time": "2021-07-19T17:50:15.353Z"
   },
   {
    "duration": 6,
    "start_time": "2021-07-19T17:50:15.442Z"
   },
   {
    "duration": 7,
    "start_time": "2021-07-19T17:50:15.450Z"
   },
   {
    "duration": 11,
    "start_time": "2021-07-19T17:50:15.459Z"
   },
   {
    "duration": 84,
    "start_time": "2021-07-19T17:50:15.471Z"
   },
   {
    "duration": 1569,
    "start_time": "2021-07-20T06:33:37.339Z"
   },
   {
    "duration": 22,
    "start_time": "2021-07-20T06:33:39.995Z"
   },
   {
    "duration": 22,
    "start_time": "2021-07-20T06:34:08.452Z"
   },
   {
    "duration": 15,
    "start_time": "2021-07-20T06:34:09.938Z"
   },
   {
    "duration": 14,
    "start_time": "2021-07-20T06:34:10.746Z"
   },
   {
    "duration": 14,
    "start_time": "2021-07-20T06:34:11.410Z"
   },
   {
    "duration": 4,
    "start_time": "2021-07-20T07:19:25.934Z"
   },
   {
    "duration": 24,
    "start_time": "2021-07-20T07:19:25.940Z"
   },
   {
    "duration": 13,
    "start_time": "2021-07-20T07:19:25.967Z"
   },
   {
    "duration": 10,
    "start_time": "2021-07-20T07:19:26.044Z"
   },
   {
    "duration": 39,
    "start_time": "2021-07-20T07:19:26.057Z"
   },
   {
    "duration": 7,
    "start_time": "2021-07-20T07:19:26.099Z"
   },
   {
    "duration": 11582,
    "start_time": "2021-07-20T07:19:26.109Z"
   },
   {
    "duration": 594,
    "start_time": "2021-07-20T07:19:37.701Z"
   },
   {
    "duration": 6,
    "start_time": "2021-07-20T07:19:38.297Z"
   },
   {
    "duration": 14,
    "start_time": "2021-07-20T07:19:38.305Z"
   },
   {
    "duration": 6,
    "start_time": "2021-07-20T07:19:42.767Z"
   },
   {
    "duration": 4,
    "start_time": "2021-07-20T07:20:11.889Z"
   },
   {
    "duration": 6,
    "start_time": "2021-07-20T07:20:19.279Z"
   },
   {
    "duration": 4,
    "start_time": "2021-07-20T07:20:34.671Z"
   },
   {
    "duration": 6,
    "start_time": "2021-07-20T07:20:35.976Z"
   },
   {
    "duration": 5,
    "start_time": "2021-07-20T07:20:37.351Z"
   },
   {
    "duration": 6,
    "start_time": "2021-07-20T07:20:38.503Z"
   },
   {
    "duration": 1630,
    "start_time": "2021-07-20T07:21:18.484Z"
   },
   {
    "duration": 22,
    "start_time": "2021-07-20T07:21:20.117Z"
   },
   {
    "duration": 33,
    "start_time": "2021-07-20T07:21:20.142Z"
   },
   {
    "duration": 18,
    "start_time": "2021-07-20T07:21:20.179Z"
   },
   {
    "duration": 43,
    "start_time": "2021-07-20T07:21:20.200Z"
   },
   {
    "duration": 9,
    "start_time": "2021-07-20T07:21:20.246Z"
   },
   {
    "duration": 12458,
    "start_time": "2021-07-20T07:21:20.257Z"
   },
   {
    "duration": 632,
    "start_time": "2021-07-20T07:21:32.719Z"
   },
   {
    "duration": 6,
    "start_time": "2021-07-20T07:21:33.353Z"
   },
   {
    "duration": 48,
    "start_time": "2021-07-20T07:21:33.361Z"
   },
   {
    "duration": 97,
    "start_time": "2021-07-20T07:21:33.504Z"
   },
   {
    "duration": 4,
    "start_time": "2021-07-20T07:21:33.604Z"
   },
   {
    "duration": 91,
    "start_time": "2021-07-20T07:21:33.612Z"
   },
   {
    "duration": 9,
    "start_time": "2021-07-20T07:21:33.706Z"
   },
   {
    "duration": 90,
    "start_time": "2021-07-20T07:21:33.718Z"
   },
   {
    "duration": 1444,
    "start_time": "2021-07-20T07:28:53.810Z"
   },
   {
    "duration": 23,
    "start_time": "2021-07-20T07:28:55.257Z"
   },
   {
    "duration": 30,
    "start_time": "2021-07-20T07:28:55.284Z"
   },
   {
    "duration": 8,
    "start_time": "2021-07-20T07:28:55.317Z"
   },
   {
    "duration": 44,
    "start_time": "2021-07-20T07:28:55.328Z"
   },
   {
    "duration": 28,
    "start_time": "2021-07-20T07:28:55.374Z"
   },
   {
    "duration": 13116,
    "start_time": "2021-07-20T07:28:55.405Z"
   },
   {
    "duration": 634,
    "start_time": "2021-07-20T07:29:08.525Z"
   },
   {
    "duration": 5,
    "start_time": "2021-07-20T07:29:09.163Z"
   },
   {
    "duration": 130,
    "start_time": "2021-07-20T07:29:09.170Z"
   },
   {
    "duration": 100,
    "start_time": "2021-07-20T07:29:09.303Z"
   },
   {
    "duration": 3609,
    "start_time": "2021-07-20T07:29:05.796Z"
   },
   {
    "duration": 3608,
    "start_time": "2021-07-20T07:29:05.798Z"
   },
   {
    "duration": 3605,
    "start_time": "2021-07-20T07:29:05.802Z"
   },
   {
    "duration": 3604,
    "start_time": "2021-07-20T07:29:05.805Z"
   },
   {
    "duration": 5,
    "start_time": "2021-07-20T07:29:30.609Z"
   },
   {
    "duration": 1481,
    "start_time": "2021-07-20T07:29:38.933Z"
   },
   {
    "duration": 22,
    "start_time": "2021-07-20T07:29:40.416Z"
   },
   {
    "duration": 18,
    "start_time": "2021-07-20T07:29:40.444Z"
   },
   {
    "duration": 8,
    "start_time": "2021-07-20T07:29:40.464Z"
   },
   {
    "duration": 64,
    "start_time": "2021-07-20T07:29:40.474Z"
   },
   {
    "duration": 7,
    "start_time": "2021-07-20T07:29:40.540Z"
   },
   {
    "duration": 11452,
    "start_time": "2021-07-20T07:29:40.550Z"
   },
   {
    "duration": 599,
    "start_time": "2021-07-20T07:29:52.004Z"
   },
   {
    "duration": 5,
    "start_time": "2021-07-20T07:29:52.605Z"
   },
   {
    "duration": 89,
    "start_time": "2021-07-20T07:29:52.612Z"
   },
   {
    "duration": 97,
    "start_time": "2021-07-20T07:29:52.704Z"
   },
   {
    "duration": 7,
    "start_time": "2021-07-20T07:29:52.804Z"
   },
   {
    "duration": 88,
    "start_time": "2021-07-20T07:29:52.814Z"
   },
   {
    "duration": 7,
    "start_time": "2021-07-20T07:29:52.904Z"
   },
   {
    "duration": 92,
    "start_time": "2021-07-20T07:29:52.914Z"
   },
   {
    "duration": 1914,
    "start_time": "2021-07-20T07:31:16.245Z"
   },
   {
    "duration": 21,
    "start_time": "2021-07-20T07:31:18.162Z"
   },
   {
    "duration": 40,
    "start_time": "2021-07-20T07:31:18.186Z"
   },
   {
    "duration": 14,
    "start_time": "2021-07-20T07:31:18.230Z"
   },
   {
    "duration": 69,
    "start_time": "2021-07-20T07:31:18.246Z"
   },
   {
    "duration": 9,
    "start_time": "2021-07-20T07:31:18.318Z"
   },
   {
    "duration": 14208,
    "start_time": "2021-07-20T07:31:18.329Z"
   },
   {
    "duration": 632,
    "start_time": "2021-07-20T07:31:32.540Z"
   },
   {
    "duration": 6,
    "start_time": "2021-07-20T07:31:33.174Z"
   },
   {
    "duration": 27,
    "start_time": "2021-07-20T07:31:33.183Z"
   },
   {
    "duration": 91,
    "start_time": "2021-07-20T07:31:33.213Z"
   },
   {
    "duration": 93,
    "start_time": "2021-07-20T07:31:33.308Z"
   },
   {
    "duration": 10,
    "start_time": "2021-07-20T07:31:33.404Z"
   },
   {
    "duration": 88,
    "start_time": "2021-07-20T07:31:33.417Z"
   },
   {
    "duration": 21,
    "start_time": "2021-07-20T07:31:33.508Z"
   },
   {
    "duration": 1511,
    "start_time": "2021-07-22T11:08:07.697Z"
   },
   {
    "duration": 20,
    "start_time": "2021-07-22T11:08:09.211Z"
   },
   {
    "duration": 29,
    "start_time": "2021-07-22T11:08:09.235Z"
   },
   {
    "duration": 11,
    "start_time": "2021-07-22T11:08:09.268Z"
   },
   {
    "duration": 42,
    "start_time": "2021-07-22T11:08:09.282Z"
   },
   {
    "duration": 42,
    "start_time": "2021-07-22T11:08:09.327Z"
   },
   {
    "duration": 11760,
    "start_time": "2021-07-22T11:08:09.372Z"
   },
   {
    "duration": 628,
    "start_time": "2021-07-22T11:08:21.137Z"
   },
   {
    "duration": 6,
    "start_time": "2021-07-22T11:08:21.768Z"
   },
   {
    "duration": 87,
    "start_time": "2021-07-22T11:08:21.778Z"
   },
   {
    "duration": 95,
    "start_time": "2021-07-22T11:08:21.869Z"
   },
   {
    "duration": 16,
    "start_time": "2021-07-22T11:08:21.967Z"
   },
   {
    "duration": 76,
    "start_time": "2021-07-22T11:08:21.986Z"
   },
   {
    "duration": 9,
    "start_time": "2021-07-22T11:08:22.065Z"
   },
   {
    "duration": 91,
    "start_time": "2021-07-22T11:08:22.076Z"
   }
  ],
  "kernelspec": {
   "display_name": "Python 3",
   "language": "python",
   "name": "python3"
  },
  "language_info": {
   "codemirror_mode": {
    "name": "ipython",
    "version": 3
   },
   "file_extension": ".py",
   "mimetype": "text/x-python",
   "name": "python",
   "nbconvert_exporter": "python",
   "pygments_lexer": "ipython3",
   "version": "3.7.6"
  },
  "toc": {
   "base_numbering": 1,
   "nav_menu": {},
   "number_sections": true,
   "sideBar": true,
   "skip_h1_title": true,
   "title_cell": "Содержание",
   "title_sidebar": "Contents",
   "toc_cell": true,
   "toc_position": {},
   "toc_section_display": true,
   "toc_window_display": true
  }
 },
 "nbformat": 4,
 "nbformat_minor": 2
}
