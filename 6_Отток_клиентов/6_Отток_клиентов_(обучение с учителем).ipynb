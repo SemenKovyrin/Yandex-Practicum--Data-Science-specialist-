{
 "cells": [
  {
   "cell_type": "markdown",
   "metadata": {
    "toc": true
   },
   "source": [
    "<h1>Содержание<span class=\"tocSkip\"></span></h1>\n",
    "<div class=\"toc\"><ul class=\"toc-item\"><li><span><a href=\"#Описание-данных\" data-toc-modified-id=\"Описание-данных-1\"><span class=\"toc-item-num\">1&nbsp;&nbsp;</span>Описание данных</a></span></li><li><span><a href=\"#Подготовка-данных\" data-toc-modified-id=\"Подготовка-данных-2\"><span class=\"toc-item-num\">2&nbsp;&nbsp;</span>Подготовка данных</a></span><ul class=\"toc-item\"><li><span><a href=\"#Вывод\" data-toc-modified-id=\"Вывод-2.1\"><span class=\"toc-item-num\">2.1&nbsp;&nbsp;</span>Вывод</a></span></li></ul></li><li><span><a href=\"#Исследование-задачи\" data-toc-modified-id=\"Исследование-задачи-3\"><span class=\"toc-item-num\">3&nbsp;&nbsp;</span>Исследование задачи</a></span><ul class=\"toc-item\"><li><span><a href=\"#Вывод\" data-toc-modified-id=\"Вывод-3.1\"><span class=\"toc-item-num\">3.1&nbsp;&nbsp;</span>Вывод</a></span></li></ul></li><li><span><a href=\"#Борьба-с-дисбалансом\" data-toc-modified-id=\"Борьба-с-дисбалансом-4\"><span class=\"toc-item-num\">4&nbsp;&nbsp;</span>Борьба с дисбалансом</a></span><ul class=\"toc-item\"><li><span><a href=\"#Вывод\" data-toc-modified-id=\"Вывод-4.1\"><span class=\"toc-item-num\">4.1&nbsp;&nbsp;</span>Вывод</a></span></li></ul></li><li><span><a href=\"#Тестирование-модели\" data-toc-modified-id=\"Тестирование-модели-5\"><span class=\"toc-item-num\">5&nbsp;&nbsp;</span>Тестирование модели</a></span><ul class=\"toc-item\"><li><span><a href=\"#Общий-вывод\" data-toc-modified-id=\"Общий-вывод-5.1\"><span class=\"toc-item-num\">5.1&nbsp;&nbsp;</span>Общий вывод</a></span></li></ul></li><li><span><a href=\"#Ссылки\" data-toc-modified-id=\"Ссылки-6\"><span class=\"toc-item-num\">6&nbsp;&nbsp;</span>Ссылки</a></span></li>"
   ]
  },
  {
   "cell_type": "markdown",
   "metadata": {},
   "source": [
    "# Отток клиентов"
   ]
  },
  {
   "cell_type": "markdown",
   "metadata": {},
   "source": [
    "Из банка стали заметно уходить клиенты.\n",
    "Маркетологи посчитали: сохранять дешевле, чем привлекать новых.\n",
    "Спрогнозируем, уйдёт ли клиент из банка в ближайшее время. \n",
    "Есть исторические данные о поведении клиентов и расторжении договоров с банком. \n",
    "Построим модель с предельно большим значением *F1*-меры. \n",
    "Нужно довести метрику до 0.59\n",
    "Дополнительно измерим *AUC-ROC*, сравним её значение с *F1*-мерой.\n",
    "\n",
    "Источник данных: [https://www.kaggle.com/barelydedicated/bank-customer-churn-modeling](https://www.kaggle.com/barelydedicated/bank-customer-churn-modeling)"
   ]
  },
  {
   "cell_type": "markdown",
   "metadata": {},
   "source": [
    "## Описание данных"
   ]
  },
  {
   "cell_type": "markdown",
   "metadata": {},
   "source": [
    "**Признаки:**\n",
    " - `RowNumber` — индекс строки в данных\n",
    " - `CustomerId` — уникальный идентификатор клиента\n",
    " - `Surname` — фамилия\n",
    " - `CreditScore` — кредитный рейтинг\n",
    " - `Geography` — страна проживания\n",
    " - `Gender` — пол\n",
    " - `Age` — возраст\n",
    " - `Tenure` — сколько лет человек является клиентом банка\n",
    " - `Balance` — баланс на счёте\n",
    " - `NumOfProducts` — количество продуктов банка, используемых клиентом\n",
    " - `HasCrCard` — наличие кредитной карты\n",
    " - `IsActiveMember` — активность клиента\n",
    " - `EstimatedSalary` — предполагаемая зарплата  \n",
    " \n",
    "**Целевой признак:**\n",
    " - `Exited` — факт ухода клиента"
   ]
  },
  {
   "cell_type": "markdown",
   "metadata": {},
   "source": [
    "## Подготовка данных"
   ]
  },
  {
   "cell_type": "code",
   "execution_count": 1,
   "metadata": {},
   "outputs": [
    {
     "name": "stdout",
     "output_type": "stream",
     "text": [
      "Defaulting to user installation because normal site-packages is not writeable\n",
      "Requirement already up-to-date: scikit-learn in /home/jovyan/.local/lib/python3.7/site-packages (0.24.2)\n",
      "Requirement already satisfied, skipping upgrade: numpy>=1.13.3 in /opt/conda/lib/python3.7/site-packages (from scikit-learn) (1.19.5)\n",
      "Requirement already satisfied, skipping upgrade: scipy>=0.19.1 in /opt/conda/lib/python3.7/site-packages (from scikit-learn) (1.4.1)\n",
      "Requirement already satisfied, skipping upgrade: threadpoolctl>=2.0.0 in /home/jovyan/.local/lib/python3.7/site-packages (from scikit-learn) (2.1.0)\n",
      "Requirement already satisfied, skipping upgrade: joblib>=0.11 in /opt/conda/lib/python3.7/site-packages (from scikit-learn) (1.0.1)\n"
     ]
    }
   ],
   "source": [
    "\n",
    "import numpy as np\n",
    "import pandas as pd\n",
    "import seaborn as sns\n",
    "!pip install -U scikit-learn\n",
    "import matplotlib.pyplot as plt\n",
    "from sklearn.utils import shuffle\n",
    "from sklearn.metrics import f1_score\n",
    "from sklearn.impute import KNNImputer\n",
    "from sklearn.metrics import roc_curve\n",
    "from sklearn.metrics import roc_auc_score\n",
    "from sklearn.metrics import confusion_matrix\n",
    "from sklearn.tree import DecisionTreeClassifier\n",
    "from sklearn.preprocessing import StandardScaler\n",
    "from sklearn.metrics import classification_report\n",
    "from sklearn.ensemble import RandomForestClassifier\n",
    "from sklearn.linear_model import LogisticRegression\n",
    "from sklearn.model_selection import train_test_split\n"
   ]
  },
  {
   "cell_type": "code",
   "execution_count": 2,
   "metadata": {},
   "outputs": [],
   "source": [
    "df = pd.read_csv('Churn.csv')"
   ]
  },
  {
   "cell_type": "code",
   "execution_count": 3,
   "metadata": {
    "scrolled": true
   },
   "outputs": [
    {
     "data": {
      "text/html": [
       "<div>\n",
       "<style scoped>\n",
       "    .dataframe tbody tr th:only-of-type {\n",
       "        vertical-align: middle;\n",
       "    }\n",
       "\n",
       "    .dataframe tbody tr th {\n",
       "        vertical-align: top;\n",
       "    }\n",
       "\n",
       "    .dataframe thead th {\n",
       "        text-align: right;\n",
       "    }\n",
       "</style>\n",
       "<table border=\"1\" class=\"dataframe\">\n",
       "  <thead>\n",
       "    <tr style=\"text-align: right;\">\n",
       "      <th></th>\n",
       "      <th>RowNumber</th>\n",
       "      <th>CustomerId</th>\n",
       "      <th>Surname</th>\n",
       "      <th>CreditScore</th>\n",
       "      <th>Geography</th>\n",
       "      <th>Gender</th>\n",
       "      <th>Age</th>\n",
       "      <th>Tenure</th>\n",
       "      <th>Balance</th>\n",
       "      <th>NumOfProducts</th>\n",
       "      <th>HasCrCard</th>\n",
       "      <th>IsActiveMember</th>\n",
       "      <th>EstimatedSalary</th>\n",
       "      <th>Exited</th>\n",
       "    </tr>\n",
       "  </thead>\n",
       "  <tbody>\n",
       "    <tr>\n",
       "      <td>20</td>\n",
       "      <td>21</td>\n",
       "      <td>15577657</td>\n",
       "      <td>McDonald</td>\n",
       "      <td>732</td>\n",
       "      <td>France</td>\n",
       "      <td>Male</td>\n",
       "      <td>41</td>\n",
       "      <td>8.0</td>\n",
       "      <td>0.00</td>\n",
       "      <td>2</td>\n",
       "      <td>1</td>\n",
       "      <td>1</td>\n",
       "      <td>170886.17</td>\n",
       "      <td>0</td>\n",
       "    </tr>\n",
       "    <tr>\n",
       "      <td>21</td>\n",
       "      <td>22</td>\n",
       "      <td>15597945</td>\n",
       "      <td>Dellucci</td>\n",
       "      <td>636</td>\n",
       "      <td>Spain</td>\n",
       "      <td>Female</td>\n",
       "      <td>32</td>\n",
       "      <td>8.0</td>\n",
       "      <td>0.00</td>\n",
       "      <td>2</td>\n",
       "      <td>1</td>\n",
       "      <td>0</td>\n",
       "      <td>138555.46</td>\n",
       "      <td>0</td>\n",
       "    </tr>\n",
       "    <tr>\n",
       "      <td>22</td>\n",
       "      <td>23</td>\n",
       "      <td>15699309</td>\n",
       "      <td>Gerasimov</td>\n",
       "      <td>510</td>\n",
       "      <td>Spain</td>\n",
       "      <td>Female</td>\n",
       "      <td>38</td>\n",
       "      <td>4.0</td>\n",
       "      <td>0.00</td>\n",
       "      <td>1</td>\n",
       "      <td>1</td>\n",
       "      <td>0</td>\n",
       "      <td>118913.53</td>\n",
       "      <td>1</td>\n",
       "    </tr>\n",
       "    <tr>\n",
       "      <td>23</td>\n",
       "      <td>24</td>\n",
       "      <td>15725737</td>\n",
       "      <td>Mosman</td>\n",
       "      <td>669</td>\n",
       "      <td>France</td>\n",
       "      <td>Male</td>\n",
       "      <td>46</td>\n",
       "      <td>3.0</td>\n",
       "      <td>0.00</td>\n",
       "      <td>2</td>\n",
       "      <td>0</td>\n",
       "      <td>1</td>\n",
       "      <td>8487.75</td>\n",
       "      <td>0</td>\n",
       "    </tr>\n",
       "    <tr>\n",
       "      <td>24</td>\n",
       "      <td>25</td>\n",
       "      <td>15625047</td>\n",
       "      <td>Yen</td>\n",
       "      <td>846</td>\n",
       "      <td>France</td>\n",
       "      <td>Female</td>\n",
       "      <td>38</td>\n",
       "      <td>5.0</td>\n",
       "      <td>0.00</td>\n",
       "      <td>1</td>\n",
       "      <td>1</td>\n",
       "      <td>1</td>\n",
       "      <td>187616.16</td>\n",
       "      <td>0</td>\n",
       "    </tr>\n",
       "    <tr>\n",
       "      <td>25</td>\n",
       "      <td>26</td>\n",
       "      <td>15738191</td>\n",
       "      <td>Maclean</td>\n",
       "      <td>577</td>\n",
       "      <td>France</td>\n",
       "      <td>Male</td>\n",
       "      <td>25</td>\n",
       "      <td>3.0</td>\n",
       "      <td>0.00</td>\n",
       "      <td>2</td>\n",
       "      <td>0</td>\n",
       "      <td>1</td>\n",
       "      <td>124508.29</td>\n",
       "      <td>0</td>\n",
       "    </tr>\n",
       "    <tr>\n",
       "      <td>26</td>\n",
       "      <td>27</td>\n",
       "      <td>15736816</td>\n",
       "      <td>Young</td>\n",
       "      <td>756</td>\n",
       "      <td>Germany</td>\n",
       "      <td>Male</td>\n",
       "      <td>36</td>\n",
       "      <td>2.0</td>\n",
       "      <td>136815.64</td>\n",
       "      <td>1</td>\n",
       "      <td>1</td>\n",
       "      <td>1</td>\n",
       "      <td>170041.95</td>\n",
       "      <td>0</td>\n",
       "    </tr>\n",
       "    <tr>\n",
       "      <td>27</td>\n",
       "      <td>28</td>\n",
       "      <td>15700772</td>\n",
       "      <td>Nebechi</td>\n",
       "      <td>571</td>\n",
       "      <td>France</td>\n",
       "      <td>Male</td>\n",
       "      <td>44</td>\n",
       "      <td>9.0</td>\n",
       "      <td>0.00</td>\n",
       "      <td>2</td>\n",
       "      <td>0</td>\n",
       "      <td>0</td>\n",
       "      <td>38433.35</td>\n",
       "      <td>0</td>\n",
       "    </tr>\n",
       "    <tr>\n",
       "      <td>28</td>\n",
       "      <td>29</td>\n",
       "      <td>15728693</td>\n",
       "      <td>McWilliams</td>\n",
       "      <td>574</td>\n",
       "      <td>Germany</td>\n",
       "      <td>Female</td>\n",
       "      <td>43</td>\n",
       "      <td>3.0</td>\n",
       "      <td>141349.43</td>\n",
       "      <td>1</td>\n",
       "      <td>1</td>\n",
       "      <td>1</td>\n",
       "      <td>100187.43</td>\n",
       "      <td>0</td>\n",
       "    </tr>\n",
       "    <tr>\n",
       "      <td>29</td>\n",
       "      <td>30</td>\n",
       "      <td>15656300</td>\n",
       "      <td>Lucciano</td>\n",
       "      <td>411</td>\n",
       "      <td>France</td>\n",
       "      <td>Male</td>\n",
       "      <td>29</td>\n",
       "      <td>0.0</td>\n",
       "      <td>59697.17</td>\n",
       "      <td>2</td>\n",
       "      <td>1</td>\n",
       "      <td>1</td>\n",
       "      <td>53483.21</td>\n",
       "      <td>0</td>\n",
       "    </tr>\n",
       "    <tr>\n",
       "      <td>30</td>\n",
       "      <td>31</td>\n",
       "      <td>15589475</td>\n",
       "      <td>Azikiwe</td>\n",
       "      <td>591</td>\n",
       "      <td>Spain</td>\n",
       "      <td>Female</td>\n",
       "      <td>39</td>\n",
       "      <td>NaN</td>\n",
       "      <td>0.00</td>\n",
       "      <td>3</td>\n",
       "      <td>1</td>\n",
       "      <td>0</td>\n",
       "      <td>140469.38</td>\n",
       "      <td>1</td>\n",
       "    </tr>\n",
       "    <tr>\n",
       "      <td>31</td>\n",
       "      <td>32</td>\n",
       "      <td>15706552</td>\n",
       "      <td>Odinakachukwu</td>\n",
       "      <td>533</td>\n",
       "      <td>France</td>\n",
       "      <td>Male</td>\n",
       "      <td>36</td>\n",
       "      <td>7.0</td>\n",
       "      <td>85311.70</td>\n",
       "      <td>1</td>\n",
       "      <td>0</td>\n",
       "      <td>1</td>\n",
       "      <td>156731.91</td>\n",
       "      <td>0</td>\n",
       "    </tr>\n",
       "    <tr>\n",
       "      <td>32</td>\n",
       "      <td>33</td>\n",
       "      <td>15750181</td>\n",
       "      <td>Sanderson</td>\n",
       "      <td>553</td>\n",
       "      <td>Germany</td>\n",
       "      <td>Male</td>\n",
       "      <td>41</td>\n",
       "      <td>9.0</td>\n",
       "      <td>110112.54</td>\n",
       "      <td>2</td>\n",
       "      <td>0</td>\n",
       "      <td>0</td>\n",
       "      <td>81898.81</td>\n",
       "      <td>0</td>\n",
       "    </tr>\n",
       "    <tr>\n",
       "      <td>33</td>\n",
       "      <td>34</td>\n",
       "      <td>15659428</td>\n",
       "      <td>Maggard</td>\n",
       "      <td>520</td>\n",
       "      <td>Spain</td>\n",
       "      <td>Female</td>\n",
       "      <td>42</td>\n",
       "      <td>6.0</td>\n",
       "      <td>0.00</td>\n",
       "      <td>2</td>\n",
       "      <td>1</td>\n",
       "      <td>1</td>\n",
       "      <td>34410.55</td>\n",
       "      <td>0</td>\n",
       "    </tr>\n",
       "    <tr>\n",
       "      <td>34</td>\n",
       "      <td>35</td>\n",
       "      <td>15732963</td>\n",
       "      <td>Clements</td>\n",
       "      <td>722</td>\n",
       "      <td>Spain</td>\n",
       "      <td>Female</td>\n",
       "      <td>29</td>\n",
       "      <td>9.0</td>\n",
       "      <td>0.00</td>\n",
       "      <td>2</td>\n",
       "      <td>1</td>\n",
       "      <td>1</td>\n",
       "      <td>142033.07</td>\n",
       "      <td>0</td>\n",
       "    </tr>\n",
       "  </tbody>\n",
       "</table>\n",
       "</div>"
      ],
      "text/plain": [
       "    RowNumber  CustomerId        Surname  CreditScore Geography  Gender  Age  \\\n",
       "20         21    15577657       McDonald          732    France    Male   41   \n",
       "21         22    15597945       Dellucci          636     Spain  Female   32   \n",
       "22         23    15699309      Gerasimov          510     Spain  Female   38   \n",
       "23         24    15725737         Mosman          669    France    Male   46   \n",
       "24         25    15625047            Yen          846    France  Female   38   \n",
       "25         26    15738191        Maclean          577    France    Male   25   \n",
       "26         27    15736816          Young          756   Germany    Male   36   \n",
       "27         28    15700772        Nebechi          571    France    Male   44   \n",
       "28         29    15728693     McWilliams          574   Germany  Female   43   \n",
       "29         30    15656300       Lucciano          411    France    Male   29   \n",
       "30         31    15589475        Azikiwe          591     Spain  Female   39   \n",
       "31         32    15706552  Odinakachukwu          533    France    Male   36   \n",
       "32         33    15750181      Sanderson          553   Germany    Male   41   \n",
       "33         34    15659428        Maggard          520     Spain  Female   42   \n",
       "34         35    15732963       Clements          722     Spain  Female   29   \n",
       "\n",
       "    Tenure    Balance  NumOfProducts  HasCrCard  IsActiveMember  \\\n",
       "20     8.0       0.00              2          1               1   \n",
       "21     8.0       0.00              2          1               0   \n",
       "22     4.0       0.00              1          1               0   \n",
       "23     3.0       0.00              2          0               1   \n",
       "24     5.0       0.00              1          1               1   \n",
       "25     3.0       0.00              2          0               1   \n",
       "26     2.0  136815.64              1          1               1   \n",
       "27     9.0       0.00              2          0               0   \n",
       "28     3.0  141349.43              1          1               1   \n",
       "29     0.0   59697.17              2          1               1   \n",
       "30     NaN       0.00              3          1               0   \n",
       "31     7.0   85311.70              1          0               1   \n",
       "32     9.0  110112.54              2          0               0   \n",
       "33     6.0       0.00              2          1               1   \n",
       "34     9.0       0.00              2          1               1   \n",
       "\n",
       "    EstimatedSalary  Exited  \n",
       "20        170886.17       0  \n",
       "21        138555.46       0  \n",
       "22        118913.53       1  \n",
       "23          8487.75       0  \n",
       "24        187616.16       0  \n",
       "25        124508.29       0  \n",
       "26        170041.95       0  \n",
       "27         38433.35       0  \n",
       "28        100187.43       0  \n",
       "29         53483.21       0  \n",
       "30        140469.38       1  \n",
       "31        156731.91       0  \n",
       "32         81898.81       0  \n",
       "33         34410.55       0  \n",
       "34        142033.07       0  "
      ]
     },
     "execution_count": 3,
     "metadata": {},
     "output_type": "execute_result"
    }
   ],
   "source": [
    "df.iloc[20:35]"
   ]
  },
  {
   "cell_type": "markdown",
   "metadata": {},
   "source": [
    " - У нас есть признак `RowNumber` который дублирует индекс и не несет полезной информации, его мы удалим.  \n",
    " - Также признаки `Surname`, `CustomerId` не нужны для предсказания и их тоже можно удалить."
   ]
  },
  {
   "cell_type": "code",
   "execution_count": 4,
   "metadata": {},
   "outputs": [],
   "source": [
    "df.drop(['RowNumber', 'Surname', 'CustomerId'], axis=1, inplace=True)"
   ]
  },
  {
   "cell_type": "code",
   "execution_count": 5,
   "metadata": {},
   "outputs": [
    {
     "data": {
      "text/html": [
       "<div>\n",
       "<style scoped>\n",
       "    .dataframe tbody tr th:only-of-type {\n",
       "        vertical-align: middle;\n",
       "    }\n",
       "\n",
       "    .dataframe tbody tr th {\n",
       "        vertical-align: top;\n",
       "    }\n",
       "\n",
       "    .dataframe thead th {\n",
       "        text-align: right;\n",
       "    }\n",
       "</style>\n",
       "<table border=\"1\" class=\"dataframe\">\n",
       "  <thead>\n",
       "    <tr style=\"text-align: right;\">\n",
       "      <th></th>\n",
       "      <th>CreditScore</th>\n",
       "      <th>Geography</th>\n",
       "      <th>Gender</th>\n",
       "      <th>Age</th>\n",
       "      <th>Tenure</th>\n",
       "      <th>Balance</th>\n",
       "      <th>NumOfProducts</th>\n",
       "      <th>HasCrCard</th>\n",
       "      <th>IsActiveMember</th>\n",
       "      <th>EstimatedSalary</th>\n",
       "      <th>Exited</th>\n",
       "    </tr>\n",
       "  </thead>\n",
       "  <tbody>\n",
       "    <tr>\n",
       "      <td>0</td>\n",
       "      <td>619</td>\n",
       "      <td>France</td>\n",
       "      <td>Female</td>\n",
       "      <td>42</td>\n",
       "      <td>2.0</td>\n",
       "      <td>0.00</td>\n",
       "      <td>1</td>\n",
       "      <td>1</td>\n",
       "      <td>1</td>\n",
       "      <td>101348.88</td>\n",
       "      <td>1</td>\n",
       "    </tr>\n",
       "    <tr>\n",
       "      <td>1</td>\n",
       "      <td>608</td>\n",
       "      <td>Spain</td>\n",
       "      <td>Female</td>\n",
       "      <td>41</td>\n",
       "      <td>1.0</td>\n",
       "      <td>83807.86</td>\n",
       "      <td>1</td>\n",
       "      <td>0</td>\n",
       "      <td>1</td>\n",
       "      <td>112542.58</td>\n",
       "      <td>0</td>\n",
       "    </tr>\n",
       "    <tr>\n",
       "      <td>2</td>\n",
       "      <td>502</td>\n",
       "      <td>France</td>\n",
       "      <td>Female</td>\n",
       "      <td>42</td>\n",
       "      <td>8.0</td>\n",
       "      <td>159660.80</td>\n",
       "      <td>3</td>\n",
       "      <td>1</td>\n",
       "      <td>0</td>\n",
       "      <td>113931.57</td>\n",
       "      <td>1</td>\n",
       "    </tr>\n",
       "    <tr>\n",
       "      <td>3</td>\n",
       "      <td>699</td>\n",
       "      <td>France</td>\n",
       "      <td>Female</td>\n",
       "      <td>39</td>\n",
       "      <td>1.0</td>\n",
       "      <td>0.00</td>\n",
       "      <td>2</td>\n",
       "      <td>0</td>\n",
       "      <td>0</td>\n",
       "      <td>93826.63</td>\n",
       "      <td>0</td>\n",
       "    </tr>\n",
       "    <tr>\n",
       "      <td>4</td>\n",
       "      <td>850</td>\n",
       "      <td>Spain</td>\n",
       "      <td>Female</td>\n",
       "      <td>43</td>\n",
       "      <td>2.0</td>\n",
       "      <td>125510.82</td>\n",
       "      <td>1</td>\n",
       "      <td>1</td>\n",
       "      <td>1</td>\n",
       "      <td>79084.10</td>\n",
       "      <td>0</td>\n",
       "    </tr>\n",
       "  </tbody>\n",
       "</table>\n",
       "</div>"
      ],
      "text/plain": [
       "   CreditScore Geography  Gender  Age  Tenure    Balance  NumOfProducts  \\\n",
       "0          619    France  Female   42     2.0       0.00              1   \n",
       "1          608     Spain  Female   41     1.0   83807.86              1   \n",
       "2          502    France  Female   42     8.0  159660.80              3   \n",
       "3          699    France  Female   39     1.0       0.00              2   \n",
       "4          850     Spain  Female   43     2.0  125510.82              1   \n",
       "\n",
       "   HasCrCard  IsActiveMember  EstimatedSalary  Exited  \n",
       "0          1               1        101348.88       1  \n",
       "1          0               1        112542.58       0  \n",
       "2          1               0        113931.57       1  \n",
       "3          0               0         93826.63       0  \n",
       "4          1               1         79084.10       0  "
      ]
     },
     "execution_count": 5,
     "metadata": {},
     "output_type": "execute_result"
    }
   ],
   "source": [
    "df.head()"
   ]
  },
  {
   "cell_type": "code",
   "execution_count": 6,
   "metadata": {},
   "outputs": [
    {
     "name": "stdout",
     "output_type": "stream",
     "text": [
      "<class 'pandas.core.frame.DataFrame'>\n",
      "RangeIndex: 10000 entries, 0 to 9999\n",
      "Data columns (total 11 columns):\n",
      "CreditScore        10000 non-null int64\n",
      "Geography          10000 non-null object\n",
      "Gender             10000 non-null object\n",
      "Age                10000 non-null int64\n",
      "Tenure             9091 non-null float64\n",
      "Balance            10000 non-null float64\n",
      "NumOfProducts      10000 non-null int64\n",
      "HasCrCard          10000 non-null int64\n",
      "IsActiveMember     10000 non-null int64\n",
      "EstimatedSalary    10000 non-null float64\n",
      "Exited             10000 non-null int64\n",
      "dtypes: float64(3), int64(6), object(2)\n",
      "memory usage: 1.9 MB\n"
     ]
    }
   ],
   "source": [
    "df.info(memory_usage='deep')"
   ]
  },
  {
   "cell_type": "code",
   "execution_count": 7,
   "metadata": {},
   "outputs": [
    {
     "name": "stdout",
     "output_type": "stream",
     "text": [
      "Доля нулевых значений в \"Tenure\": 0.0909\n"
     ]
    }
   ],
   "source": [
    "print('Доля нулевых значений в \"Tenure\":', df['Tenure'].isnull().mean())"
   ]
  },
  {
   "cell_type": "markdown",
   "metadata": {},
   "source": [
    " - Наш датасет занимает немного памяти, поэтому её оптимизация не требуется.  \n",
    " - Признак `Tenure` имеет пропуски которые составляют порядка **9%**.  \n",
    " - Учитывая размер нашей выборки желательно их заполнить.  \n",
    " - Чтобы заполнить их более точно, а также для дальнейшего обучения, сначала закодируем строковые значения в цифры.\n",
    " - Для кодирования воспользуемся техникой `One-Hot Encoding` так как она подходит для всех моделей."
   ]
  },
  {
   "cell_type": "code",
   "execution_count": 8,
   "metadata": {},
   "outputs": [
    {
     "data": {
      "text/plain": [
       "Index(['Geography_Germany', 'Geography_Spain', 'Gender_Male'], dtype='object')"
      ]
     },
     "execution_count": 8,
     "metadata": {},
     "output_type": "execute_result"
    }
   ],
   "source": [
    "pd.get_dummies(df[['Geography', 'Gender']], drop_first=True).columns"
   ]
  },
  {
   "cell_type": "code",
   "execution_count": 9,
   "metadata": {},
   "outputs": [],
   "source": [
    "\n",
    "df[['Geography_Germany', 'Geography_Spain', 'Gender_Male']] = pd.get_dummies(df[['Geography', 'Gender']], drop_first=True)\n",
    "df.drop(['Geography', 'Gender'], axis=1, inplace=True)\n"
   ]
  },
  {
   "cell_type": "code",
   "execution_count": 10,
   "metadata": {},
   "outputs": [
    {
     "data": {
      "text/html": [
       "<div>\n",
       "<style scoped>\n",
       "    .dataframe tbody tr th:only-of-type {\n",
       "        vertical-align: middle;\n",
       "    }\n",
       "\n",
       "    .dataframe tbody tr th {\n",
       "        vertical-align: top;\n",
       "    }\n",
       "\n",
       "    .dataframe thead th {\n",
       "        text-align: right;\n",
       "    }\n",
       "</style>\n",
       "<table border=\"1\" class=\"dataframe\">\n",
       "  <thead>\n",
       "    <tr style=\"text-align: right;\">\n",
       "      <th></th>\n",
       "      <th>CreditScore</th>\n",
       "      <th>Age</th>\n",
       "      <th>Tenure</th>\n",
       "      <th>Balance</th>\n",
       "      <th>NumOfProducts</th>\n",
       "      <th>HasCrCard</th>\n",
       "      <th>IsActiveMember</th>\n",
       "      <th>EstimatedSalary</th>\n",
       "      <th>Exited</th>\n",
       "      <th>Geography_Germany</th>\n",
       "      <th>Geography_Spain</th>\n",
       "      <th>Gender_Male</th>\n",
       "    </tr>\n",
       "  </thead>\n",
       "  <tbody>\n",
       "    <tr>\n",
       "      <td>0</td>\n",
       "      <td>619</td>\n",
       "      <td>42</td>\n",
       "      <td>2.0</td>\n",
       "      <td>0.00</td>\n",
       "      <td>1</td>\n",
       "      <td>1</td>\n",
       "      <td>1</td>\n",
       "      <td>101348.88</td>\n",
       "      <td>1</td>\n",
       "      <td>0</td>\n",
       "      <td>0</td>\n",
       "      <td>0</td>\n",
       "    </tr>\n",
       "    <tr>\n",
       "      <td>1</td>\n",
       "      <td>608</td>\n",
       "      <td>41</td>\n",
       "      <td>1.0</td>\n",
       "      <td>83807.86</td>\n",
       "      <td>1</td>\n",
       "      <td>0</td>\n",
       "      <td>1</td>\n",
       "      <td>112542.58</td>\n",
       "      <td>0</td>\n",
       "      <td>0</td>\n",
       "      <td>1</td>\n",
       "      <td>0</td>\n",
       "    </tr>\n",
       "    <tr>\n",
       "      <td>2</td>\n",
       "      <td>502</td>\n",
       "      <td>42</td>\n",
       "      <td>8.0</td>\n",
       "      <td>159660.80</td>\n",
       "      <td>3</td>\n",
       "      <td>1</td>\n",
       "      <td>0</td>\n",
       "      <td>113931.57</td>\n",
       "      <td>1</td>\n",
       "      <td>0</td>\n",
       "      <td>0</td>\n",
       "      <td>0</td>\n",
       "    </tr>\n",
       "    <tr>\n",
       "      <td>3</td>\n",
       "      <td>699</td>\n",
       "      <td>39</td>\n",
       "      <td>1.0</td>\n",
       "      <td>0.00</td>\n",
       "      <td>2</td>\n",
       "      <td>0</td>\n",
       "      <td>0</td>\n",
       "      <td>93826.63</td>\n",
       "      <td>0</td>\n",
       "      <td>0</td>\n",
       "      <td>0</td>\n",
       "      <td>0</td>\n",
       "    </tr>\n",
       "    <tr>\n",
       "      <td>4</td>\n",
       "      <td>850</td>\n",
       "      <td>43</td>\n",
       "      <td>2.0</td>\n",
       "      <td>125510.82</td>\n",
       "      <td>1</td>\n",
       "      <td>1</td>\n",
       "      <td>1</td>\n",
       "      <td>79084.10</td>\n",
       "      <td>0</td>\n",
       "      <td>0</td>\n",
       "      <td>1</td>\n",
       "      <td>0</td>\n",
       "    </tr>\n",
       "  </tbody>\n",
       "</table>\n",
       "</div>"
      ],
      "text/plain": [
       "   CreditScore  Age  Tenure    Balance  NumOfProducts  HasCrCard  \\\n",
       "0          619   42     2.0       0.00              1          1   \n",
       "1          608   41     1.0   83807.86              1          0   \n",
       "2          502   42     8.0  159660.80              3          1   \n",
       "3          699   39     1.0       0.00              2          0   \n",
       "4          850   43     2.0  125510.82              1          1   \n",
       "\n",
       "   IsActiveMember  EstimatedSalary  Exited  Geography_Germany  \\\n",
       "0               1        101348.88       1                  0   \n",
       "1               1        112542.58       0                  0   \n",
       "2               0        113931.57       1                  0   \n",
       "3               0         93826.63       0                  0   \n",
       "4               1         79084.10       0                  0   \n",
       "\n",
       "   Geography_Spain  Gender_Male  \n",
       "0                0            0  \n",
       "1                1            0  \n",
       "2                0            0  \n",
       "3                0            0  \n",
       "4                1            0  "
      ]
     },
     "execution_count": 10,
     "metadata": {},
     "output_type": "execute_result"
    }
   ],
   "source": [
    "df.head()"
   ]
  },
  {
   "cell_type": "code",
   "execution_count": 11,
   "metadata": {},
   "outputs": [],
   "source": [
    "\n",
    "imputer = KNNImputer(n_neighbors = 5)\n",
    "columns = df.columns\n",
    "df_filled = pd.DataFrame(imputer.fit_transform(df), columns=columns)\n"
   ]
  },
  {
   "cell_type": "code",
   "execution_count": 12,
   "metadata": {},
   "outputs": [
    {
     "name": "stdout",
     "output_type": "stream",
     "text": [
      "<class 'pandas.core.frame.DataFrame'>\n",
      "RangeIndex: 10000 entries, 0 to 9999\n",
      "Data columns (total 12 columns):\n",
      "CreditScore          10000 non-null float64\n",
      "Age                  10000 non-null float64\n",
      "Tenure               10000 non-null float64\n",
      "Balance              10000 non-null float64\n",
      "NumOfProducts        10000 non-null float64\n",
      "HasCrCard            10000 non-null float64\n",
      "IsActiveMember       10000 non-null float64\n",
      "EstimatedSalary      10000 non-null float64\n",
      "Exited               10000 non-null float64\n",
      "Geography_Germany    10000 non-null float64\n",
      "Geography_Spain      10000 non-null float64\n",
      "Gender_Male          10000 non-null float64\n",
      "dtypes: float64(12)\n",
      "memory usage: 937.6 KB\n"
     ]
    }
   ],
   "source": [
    "df_filled.info(memory_usage='deep')"
   ]
  },
  {
   "cell_type": "code",
   "execution_count": 13,
   "metadata": {},
   "outputs": [
    {
     "name": "stdout",
     "output_type": "stream",
     "text": [
      "Количество дубликатов: 0\n"
     ]
    }
   ],
   "source": [
    "print('Количество дубликатов:', df_filled.duplicated().sum())"
   ]
  },
  {
   "cell_type": "code",
   "execution_count": 14,
   "metadata": {},
   "outputs": [
    {
     "data": {
      "text/html": [
       "<div>\n",
       "<style scoped>\n",
       "    .dataframe tbody tr th:only-of-type {\n",
       "        vertical-align: middle;\n",
       "    }\n",
       "\n",
       "    .dataframe tbody tr th {\n",
       "        vertical-align: top;\n",
       "    }\n",
       "\n",
       "    .dataframe thead th {\n",
       "        text-align: right;\n",
       "    }\n",
       "</style>\n",
       "<table border=\"1\" class=\"dataframe\">\n",
       "  <thead>\n",
       "    <tr style=\"text-align: right;\">\n",
       "      <th></th>\n",
       "      <th>count</th>\n",
       "      <th>mean</th>\n",
       "      <th>std</th>\n",
       "      <th>min</th>\n",
       "      <th>25%</th>\n",
       "      <th>50%</th>\n",
       "      <th>75%</th>\n",
       "      <th>max</th>\n",
       "    </tr>\n",
       "  </thead>\n",
       "  <tbody>\n",
       "    <tr>\n",
       "      <td>CreditScore</td>\n",
       "      <td>10000.0</td>\n",
       "      <td>650.53</td>\n",
       "      <td>96.65</td>\n",
       "      <td>350.00</td>\n",
       "      <td>584.00</td>\n",
       "      <td>652.00</td>\n",
       "      <td>718.00</td>\n",
       "      <td>850.00</td>\n",
       "    </tr>\n",
       "    <tr>\n",
       "      <td>Age</td>\n",
       "      <td>10000.0</td>\n",
       "      <td>38.92</td>\n",
       "      <td>10.49</td>\n",
       "      <td>18.00</td>\n",
       "      <td>32.00</td>\n",
       "      <td>37.00</td>\n",
       "      <td>44.00</td>\n",
       "      <td>92.00</td>\n",
       "    </tr>\n",
       "    <tr>\n",
       "      <td>Tenure</td>\n",
       "      <td>10000.0</td>\n",
       "      <td>5.00</td>\n",
       "      <td>2.78</td>\n",
       "      <td>0.00</td>\n",
       "      <td>3.00</td>\n",
       "      <td>5.00</td>\n",
       "      <td>7.00</td>\n",
       "      <td>10.00</td>\n",
       "    </tr>\n",
       "    <tr>\n",
       "      <td>Balance</td>\n",
       "      <td>10000.0</td>\n",
       "      <td>76485.89</td>\n",
       "      <td>62397.41</td>\n",
       "      <td>0.00</td>\n",
       "      <td>0.00</td>\n",
       "      <td>97198.54</td>\n",
       "      <td>127644.24</td>\n",
       "      <td>250898.09</td>\n",
       "    </tr>\n",
       "    <tr>\n",
       "      <td>NumOfProducts</td>\n",
       "      <td>10000.0</td>\n",
       "      <td>1.53</td>\n",
       "      <td>0.58</td>\n",
       "      <td>1.00</td>\n",
       "      <td>1.00</td>\n",
       "      <td>1.00</td>\n",
       "      <td>2.00</td>\n",
       "      <td>4.00</td>\n",
       "    </tr>\n",
       "    <tr>\n",
       "      <td>HasCrCard</td>\n",
       "      <td>10000.0</td>\n",
       "      <td>0.71</td>\n",
       "      <td>0.46</td>\n",
       "      <td>0.00</td>\n",
       "      <td>0.00</td>\n",
       "      <td>1.00</td>\n",
       "      <td>1.00</td>\n",
       "      <td>1.00</td>\n",
       "    </tr>\n",
       "    <tr>\n",
       "      <td>IsActiveMember</td>\n",
       "      <td>10000.0</td>\n",
       "      <td>0.52</td>\n",
       "      <td>0.50</td>\n",
       "      <td>0.00</td>\n",
       "      <td>0.00</td>\n",
       "      <td>1.00</td>\n",
       "      <td>1.00</td>\n",
       "      <td>1.00</td>\n",
       "    </tr>\n",
       "    <tr>\n",
       "      <td>EstimatedSalary</td>\n",
       "      <td>10000.0</td>\n",
       "      <td>100090.24</td>\n",
       "      <td>57510.49</td>\n",
       "      <td>11.58</td>\n",
       "      <td>51002.11</td>\n",
       "      <td>100193.92</td>\n",
       "      <td>149388.25</td>\n",
       "      <td>199992.48</td>\n",
       "    </tr>\n",
       "    <tr>\n",
       "      <td>Exited</td>\n",
       "      <td>10000.0</td>\n",
       "      <td>0.20</td>\n",
       "      <td>0.40</td>\n",
       "      <td>0.00</td>\n",
       "      <td>0.00</td>\n",
       "      <td>0.00</td>\n",
       "      <td>0.00</td>\n",
       "      <td>1.00</td>\n",
       "    </tr>\n",
       "    <tr>\n",
       "      <td>Geography_Germany</td>\n",
       "      <td>10000.0</td>\n",
       "      <td>0.25</td>\n",
       "      <td>0.43</td>\n",
       "      <td>0.00</td>\n",
       "      <td>0.00</td>\n",
       "      <td>0.00</td>\n",
       "      <td>1.00</td>\n",
       "      <td>1.00</td>\n",
       "    </tr>\n",
       "    <tr>\n",
       "      <td>Geography_Spain</td>\n",
       "      <td>10000.0</td>\n",
       "      <td>0.25</td>\n",
       "      <td>0.43</td>\n",
       "      <td>0.00</td>\n",
       "      <td>0.00</td>\n",
       "      <td>0.00</td>\n",
       "      <td>0.00</td>\n",
       "      <td>1.00</td>\n",
       "    </tr>\n",
       "    <tr>\n",
       "      <td>Gender_Male</td>\n",
       "      <td>10000.0</td>\n",
       "      <td>0.55</td>\n",
       "      <td>0.50</td>\n",
       "      <td>0.00</td>\n",
       "      <td>0.00</td>\n",
       "      <td>1.00</td>\n",
       "      <td>1.00</td>\n",
       "      <td>1.00</td>\n",
       "    </tr>\n",
       "  </tbody>\n",
       "</table>\n",
       "</div>"
      ],
      "text/plain": [
       "                     count       mean       std     min       25%        50%  \\\n",
       "CreditScore        10000.0     650.53     96.65  350.00    584.00     652.00   \n",
       "Age                10000.0      38.92     10.49   18.00     32.00      37.00   \n",
       "Tenure             10000.0       5.00      2.78    0.00      3.00       5.00   \n",
       "Balance            10000.0   76485.89  62397.41    0.00      0.00   97198.54   \n",
       "NumOfProducts      10000.0       1.53      0.58    1.00      1.00       1.00   \n",
       "HasCrCard          10000.0       0.71      0.46    0.00      0.00       1.00   \n",
       "IsActiveMember     10000.0       0.52      0.50    0.00      0.00       1.00   \n",
       "EstimatedSalary    10000.0  100090.24  57510.49   11.58  51002.11  100193.92   \n",
       "Exited             10000.0       0.20      0.40    0.00      0.00       0.00   \n",
       "Geography_Germany  10000.0       0.25      0.43    0.00      0.00       0.00   \n",
       "Geography_Spain    10000.0       0.25      0.43    0.00      0.00       0.00   \n",
       "Gender_Male        10000.0       0.55      0.50    0.00      0.00       1.00   \n",
       "\n",
       "                         75%        max  \n",
       "CreditScore           718.00     850.00  \n",
       "Age                    44.00      92.00  \n",
       "Tenure                  7.00      10.00  \n",
       "Balance            127644.24  250898.09  \n",
       "NumOfProducts           2.00       4.00  \n",
       "HasCrCard               1.00       1.00  \n",
       "IsActiveMember          1.00       1.00  \n",
       "EstimatedSalary    149388.25  199992.48  \n",
       "Exited                  0.00       1.00  \n",
       "Geography_Germany       1.00       1.00  \n",
       "Geography_Spain         0.00       1.00  \n",
       "Gender_Male             1.00       1.00  "
      ]
     },
     "execution_count": 14,
     "metadata": {},
     "output_type": "execute_result"
    }
   ],
   "source": [
    "df_filled.describe().T.round(2)"
   ]
  },
  {
   "cell_type": "markdown",
   "metadata": {},
   "source": [
    " - Пустые значения заполнены, категориальные данные закодированы с учетом `dummy`-ловушки.  \n",
    " - Дубликатов нет.  \n",
    " - Так как наши количественные признаки имеют разброс в значениях нужно применить масштабирование признаков.  \n",
    " - Воспользуемся стандартизацией чтобы привести признаки к одному масштабу.  "
   ]
  },
  {
   "cell_type": "markdown",
   "metadata": {},
   "source": [
    "- Выделим из датасета целевую переменную чтобы ее не затронули будущие преобразования."
   ]
  },
  {
   "cell_type": "code",
   "execution_count": 15,
   "metadata": {},
   "outputs": [],
   "source": [
    "\n",
    "target = df_filled['Exited']\n",
    "df_filled.drop(['Exited'], axis=1, inplace=True)\n",
    "features = df_filled\n"
   ]
  },
  {
   "cell_type": "markdown",
   "metadata": {},
   "source": [
    " - Перемешаем объекты случайным образом."
   ]
  },
  {
   "cell_type": "code",
   "execution_count": 16,
   "metadata": {},
   "outputs": [],
   "source": [
    "features, target = shuffle(features, target, random_state=12345)"
   ]
  },
  {
   "cell_type": "markdown",
   "metadata": {},
   "source": [
    " - Перед стандартизацией разделим выборку, чтобы `scaler` обучился только на тренировочных данных."
   ]
  },
  {
   "cell_type": "code",
   "execution_count": 17,
   "metadata": {},
   "outputs": [],
   "source": [
    "\n",
    "features_train, features_valid, target_train, target_valid =\\\n",
    "train_test_split(features, target, test_size=0.20, random_state=12345)\n",
    "features_train, features_test, target_train, target_test =\\\n",
    "train_test_split(features_train, target_train, test_size=0.25, random_state=12345)\n"
   ]
  },
  {
   "cell_type": "code",
   "execution_count": 18,
   "metadata": {},
   "outputs": [
    {
     "name": "stdout",
     "output_type": "stream",
     "text": [
      "Train_samples_shape:  (6000, 11) (6000,)\n",
      "Valid_samples_shape:  (2000, 11) (2000,)\n",
      "Test_samples_shape:  (2000, 11) (2000,)\n"
     ]
    }
   ],
   "source": [
    "\n",
    "print('Train_samples_shape: ', features_train.shape, target_train.shape)\n",
    "print('Valid_samples_shape: ', features_valid.shape, target_valid.shape)\n",
    "print('Test_samples_shape: ', features_test.shape, target_test.shape)\n"
   ]
  },
  {
   "cell_type": "markdown",
   "metadata": {},
   "source": [
    "- Мы разбили выборки в соотношении **3:1:1**"
   ]
  },
  {
   "cell_type": "code",
   "execution_count": 19,
   "metadata": {},
   "outputs": [],
   "source": [
    "\n",
    "features_train = features_train.reset_index(drop=True)\n",
    "target_train = target_train.reset_index(drop=True)\n",
    "features_valid = features_valid.reset_index(drop=True)\n",
    "target_valid = target_valid.reset_index(drop=True)\n",
    "features_test = features_test.reset_index(drop=True)\n",
    "target_test = target_test.reset_index(drop=True)\n"
   ]
  },
  {
   "cell_type": "code",
   "execution_count": 20,
   "metadata": {},
   "outputs": [],
   "source": [
    "\n",
    "scaler = StandardScaler()\n",
    "# при масштабировании оставим без изменений бинарные признаки\n",
    "columns = ['CreditScore', 'Age', 'Tenure', 'Balance', 'NumOfProducts', 'EstimatedSalary']\n",
    "scaler.fit(features_train[columns])\n",
    "df_scaled = pd.DataFrame(scaler.transform(features_train[columns]), columns=columns)\n",
    "features_train[columns] = df_scaled[columns]\n",
    "df_scaled = pd.DataFrame(scaler.transform(features_valid[columns]), columns=columns)\n",
    "features_valid[columns] = df_scaled[columns]\n",
    "df_scaled = pd.DataFrame(scaler.transform(features_test[columns]), columns=columns)\n",
    "features_test[columns] = df_scaled[columns]\n"
   ]
  },
  {
   "cell_type": "code",
   "execution_count": 21,
   "metadata": {},
   "outputs": [
    {
     "data": {
      "text/html": [
       "<div>\n",
       "<style scoped>\n",
       "    .dataframe tbody tr th:only-of-type {\n",
       "        vertical-align: middle;\n",
       "    }\n",
       "\n",
       "    .dataframe tbody tr th {\n",
       "        vertical-align: top;\n",
       "    }\n",
       "\n",
       "    .dataframe thead th {\n",
       "        text-align: right;\n",
       "    }\n",
       "</style>\n",
       "<table border=\"1\" class=\"dataframe\">\n",
       "  <thead>\n",
       "    <tr style=\"text-align: right;\">\n",
       "      <th></th>\n",
       "      <th>CreditScore</th>\n",
       "      <th>Age</th>\n",
       "      <th>Tenure</th>\n",
       "      <th>Balance</th>\n",
       "      <th>NumOfProducts</th>\n",
       "      <th>HasCrCard</th>\n",
       "      <th>IsActiveMember</th>\n",
       "      <th>EstimatedSalary</th>\n",
       "      <th>Geography_Germany</th>\n",
       "      <th>Geography_Spain</th>\n",
       "      <th>Gender_Male</th>\n",
       "    </tr>\n",
       "  </thead>\n",
       "  <tbody>\n",
       "    <tr>\n",
       "      <td>0</td>\n",
       "      <td>1.074487</td>\n",
       "      <td>-1.142900</td>\n",
       "      <td>1.071531</td>\n",
       "      <td>-1.227468</td>\n",
       "      <td>0.815194</td>\n",
       "      <td>1.0</td>\n",
       "      <td>1.0</td>\n",
       "      <td>0.989286</td>\n",
       "      <td>0.0</td>\n",
       "      <td>0.0</td>\n",
       "      <td>1.0</td>\n",
       "    </tr>\n",
       "    <tr>\n",
       "      <td>1</td>\n",
       "      <td>-0.301196</td>\n",
       "      <td>1.536557</td>\n",
       "      <td>0.711550</td>\n",
       "      <td>0.876459</td>\n",
       "      <td>-0.915579</td>\n",
       "      <td>0.0</td>\n",
       "      <td>1.0</td>\n",
       "      <td>-0.439997</td>\n",
       "      <td>1.0</td>\n",
       "      <td>0.0</td>\n",
       "      <td>0.0</td>\n",
       "    </tr>\n",
       "    <tr>\n",
       "      <td>2</td>\n",
       "      <td>0.422311</td>\n",
       "      <td>0.388218</td>\n",
       "      <td>1.791492</td>\n",
       "      <td>0.676639</td>\n",
       "      <td>-0.915579</td>\n",
       "      <td>1.0</td>\n",
       "      <td>1.0</td>\n",
       "      <td>1.046788</td>\n",
       "      <td>1.0</td>\n",
       "      <td>0.0</td>\n",
       "      <td>0.0</td>\n",
       "    </tr>\n",
       "    <tr>\n",
       "      <td>3</td>\n",
       "      <td>-0.637475</td>\n",
       "      <td>-0.568731</td>\n",
       "      <td>-1.088354</td>\n",
       "      <td>-1.227468</td>\n",
       "      <td>0.815194</td>\n",
       "      <td>1.0</td>\n",
       "      <td>1.0</td>\n",
       "      <td>-1.538316</td>\n",
       "      <td>0.0</td>\n",
       "      <td>1.0</td>\n",
       "      <td>1.0</td>\n",
       "    </tr>\n",
       "    <tr>\n",
       "      <td>4</td>\n",
       "      <td>0.065652</td>\n",
       "      <td>-0.951510</td>\n",
       "      <td>0.711550</td>\n",
       "      <td>0.119486</td>\n",
       "      <td>-0.915579</td>\n",
       "      <td>1.0</td>\n",
       "      <td>0.0</td>\n",
       "      <td>0.904601</td>\n",
       "      <td>0.0</td>\n",
       "      <td>1.0</td>\n",
       "      <td>1.0</td>\n",
       "    </tr>\n",
       "  </tbody>\n",
       "</table>\n",
       "</div>"
      ],
      "text/plain": [
       "   CreditScore       Age    Tenure   Balance  NumOfProducts  HasCrCard  \\\n",
       "0     1.074487 -1.142900  1.071531 -1.227468       0.815194        1.0   \n",
       "1    -0.301196  1.536557  0.711550  0.876459      -0.915579        0.0   \n",
       "2     0.422311  0.388218  1.791492  0.676639      -0.915579        1.0   \n",
       "3    -0.637475 -0.568731 -1.088354 -1.227468       0.815194        1.0   \n",
       "4     0.065652 -0.951510  0.711550  0.119486      -0.915579        1.0   \n",
       "\n",
       "   IsActiveMember  EstimatedSalary  Geography_Germany  Geography_Spain  \\\n",
       "0             1.0         0.989286                0.0              0.0   \n",
       "1             1.0        -0.439997                1.0              0.0   \n",
       "2             1.0         1.046788                1.0              0.0   \n",
       "3             1.0        -1.538316                0.0              1.0   \n",
       "4             0.0         0.904601                0.0              1.0   \n",
       "\n",
       "   Gender_Male  \n",
       "0          1.0  \n",
       "1          0.0  \n",
       "2          0.0  \n",
       "3          1.0  \n",
       "4          1.0  "
      ]
     },
     "execution_count": 21,
     "metadata": {},
     "output_type": "execute_result"
    }
   ],
   "source": [
    "features_train.head()"
   ]
  },
  {
   "cell_type": "code",
   "execution_count": 22,
   "metadata": {},
   "outputs": [
    {
     "name": "stdout",
     "output_type": "stream",
     "text": [
      "<class 'pandas.core.frame.DataFrame'>\n",
      "RangeIndex: 6000 entries, 0 to 5999\n",
      "Data columns (total 11 columns):\n",
      "CreditScore          6000 non-null float64\n",
      "Age                  6000 non-null float64\n",
      "Tenure               6000 non-null float64\n",
      "Balance              6000 non-null float64\n",
      "NumOfProducts        6000 non-null float64\n",
      "HasCrCard            6000 non-null float64\n",
      "IsActiveMember       6000 non-null float64\n",
      "EstimatedSalary      6000 non-null float64\n",
      "Geography_Germany    6000 non-null float64\n",
      "Geography_Spain      6000 non-null float64\n",
      "Gender_Male          6000 non-null float64\n",
      "dtypes: float64(11)\n",
      "memory usage: 515.8 KB\n"
     ]
    }
   ],
   "source": [
    "features_train.info()"
   ]
  },
  {
   "cell_type": "markdown",
   "metadata": {},
   "source": [
    "### Вывод"
   ]
  },
  {
   "cell_type": "markdown",
   "metadata": {},
   "source": [
    " - Мы подготовили датасет в исследованию.  \n",
    " - Оставили только нужную информацию.  \n",
    " - Заполнили пропуски.  \n",
    " - Промасштабировали признаки.  \n",
    " - Разделили датасет на тренировочную, валидационную, тестовую выборки в соотношении **3:1:1**"
   ]
  },
  {
   "cell_type": "markdown",
   "metadata": {},
   "source": [
    "## Исследование задачи"
   ]
  },
  {
   "cell_type": "markdown",
   "metadata": {},
   "source": [
    "- Построим первую модель и проверим на сколько она она подойдет под нашу задачу получить `F1` меру > **0.59**"
   ]
  },
  {
   "cell_type": "code",
   "execution_count": 23,
   "metadata": {},
   "outputs": [],
   "source": [
    "\n",
    "model = RandomForestClassifier(random_state=12345)\n",
    "model.fit(features_train , target_train)\n",
    "predicted_valid = model.predict(features_valid)\n"
   ]
  },
  {
   "cell_type": "code",
   "execution_count": 24,
   "metadata": {},
   "outputs": [
    {
     "name": "stdout",
     "output_type": "stream",
     "text": [
      "F1: 0.56 \n",
      "\n",
      "              precision    recall  f1-score   support\n",
      "\n",
      "  Non-exited       0.88      0.96      0.92      1609\n",
      "      Exited       0.74      0.45      0.56       391\n",
      "\n",
      "    accuracy                           0.86      2000\n",
      "   macro avg       0.81      0.71      0.74      2000\n",
      "weighted avg       0.85      0.86      0.85      2000\n",
      "\n"
     ]
    }
   ],
   "source": [
    "\n",
    "print(\"F1:\", f1_score(target_valid, predicted_valid).round(3), '\\n')\n",
    "print(classification_report(target_valid, predicted_valid, target_names=['Non-exited', 'Exited']))\n"
   ]
  },
  {
   "cell_type": "markdown",
   "metadata": {},
   "source": [
    " - Метрика `recall` тянет `F1`-меру вниз.  \n",
    " - Её низкое значение говорит о том что наша модель нашла только **45%** из всего имеющегося положительного класса.  \n",
    " - `F1`-мера представляет собой среднее гармоническое между `precision` и `recall`.  \n",
    " - Она стремится к нулю, если `precision` или `recall` стремится к нулю:  \n",
    " $$F=2×\\frac{Precision×Recall}{Precision+Recall}$$"
   ]
  },
  {
   "cell_type": "code",
   "execution_count": 25,
   "metadata": {},
   "outputs": [
    {
     "name": "stdout",
     "output_type": "stream",
     "text": [
      "ROC_AUC: 0.85\n"
     ]
    }
   ],
   "source": [
    "\n",
    "probabilities_valid = model.predict_proba(features_valid)\n",
    "probabilities_one_valid = probabilities_valid[:, 1]\n",
    "print(\"ROC_AUC:\", roc_auc_score(target_valid, probabilities_one_valid).round(3))\n"
   ]
  },
  {
   "cell_type": "markdown",
   "metadata": {},
   "source": [
    " - Критерий ROC_AUC устойчив к несбалансированным классам и может быть интерпретирован как вероятность того, что случайно  выбранный `positive` объект будет проранжирован классификатором выше (будет иметь более высокую вероятность быть `positive`), чем случайно выбранный `negative` объект.  \n",
    " - Теперь проверим первую модель на тестовой выборке."
   ]
  },
  {
   "cell_type": "code",
   "execution_count": 26,
   "metadata": {},
   "outputs": [
    {
     "name": "stdout",
     "output_type": "stream",
     "text": [
      "F1: 0.626\n",
      "              precision    recall  f1-score   support\n",
      "\n",
      "  Non-exited       0.87      0.97      0.92      1558\n",
      "      Exited       0.81      0.51      0.63       442\n",
      "\n",
      "    accuracy                           0.87      2000\n",
      "   macro avg       0.84      0.74      0.77      2000\n",
      "weighted avg       0.86      0.87      0.85      2000\n",
      "\n",
      "ROC_AUC: 0.855\n"
     ]
    }
   ],
   "source": [
    "\n",
    "predicted_test = model.predict(features_test)\n",
    "print(\"F1:\", f1_score(target_test, predicted_test).round(3))\n",
    "print(classification_report(target_test, predicted_test, target_names=['Non-exited', 'Exited']))\n",
    "probabilities_test = model.predict_proba(features_test)\n",
    "probabilities_one_test = probabilities_test[:, 1]\n",
    "print(\"ROC_AUC:\", roc_auc_score(target_test, probabilities_one_test).round(3))\n"
   ]
  },
  {
   "cell_type": "markdown",
   "metadata": {},
   "source": [
    " - На тестовой выборке модель показала себя еще лучше.  \n",
    " - Проверим баланс классов на всем датасете:"
   ]
  },
  {
   "cell_type": "code",
   "execution_count": 27,
   "metadata": {},
   "outputs": [],
   "source": [
    "\n",
    "def calculating_class_balance(positive_sample, negative_sample):\n",
    "    \"\"\"The function calculates the ratio of classes for binary classification.\n",
    "    \n",
    "    Arguments:\n",
    "    (positive_sample, negative_sample).\n",
    "    Return example:\n",
    "    negative_class--> 3.91:1\n",
    "    \"\"\"\n",
    "    if len(negative_sample) > len(positive_sample):\n",
    "        return 'negative_class--> {}'\\\n",
    "                   .format(round(len(negative_sample)/len(positive_sample), 2))\n",
    "    return 'positive_class--> {}'\\\n",
    "               .format(round(len(positive_sample)/len(negative_sample), 2))                        \n"
   ]
  },
  {
   "cell_type": "code",
   "execution_count": 28,
   "metadata": {},
   "outputs": [
    {
     "name": "stdout",
     "output_type": "stream",
     "text": [
      "Соотношение классов в датасете: negative_class--> 3.91:1\n"
     ]
    }
   ],
   "source": [
    "print('Соотношение классов в датасете: {}:1'.format(calculating_class_balance(target[target == 1], target[target == 0])))"
   ]
  },
  {
   "cell_type": "markdown",
   "metadata": {},
   "source": [
    "- Виден дисбаланс классов."
   ]
  },
  {
   "cell_type": "markdown",
   "metadata": {},
   "source": [
    "### Вывод"
   ]
  },
  {
   "cell_type": "markdown",
   "metadata": {},
   "source": [
    "- Нужно убрать дисбаланс классов для стабильного хорошего результата."
   ]
  },
  {
   "cell_type": "markdown",
   "metadata": {},
   "source": [
    "## Борьба с дисбалансом"
   ]
  },
  {
   "cell_type": "markdown",
   "metadata": {},
   "source": [
    "- Проверим методы `взвешивание классов` и `upsampling`, которые устраняют дисбаланс."
   ]
  },
  {
   "cell_type": "code",
   "execution_count": 29,
   "metadata": {},
   "outputs": [
    {
     "name": "stdout",
     "output_type": "stream",
     "text": [
      "F1: 0.566\n",
      "              precision    recall  f1-score   support\n",
      "\n",
      "  Non-exited       0.88      0.97      0.92      1609\n",
      "      Exited       0.77      0.45      0.57       391\n",
      "\n",
      "    accuracy                           0.87      2000\n",
      "   macro avg       0.82      0.71      0.74      2000\n",
      "weighted avg       0.86      0.87      0.85      2000\n",
      "\n",
      "ROC_AUC: 0.854\n"
     ]
    }
   ],
   "source": [
    "\n",
    "model = RandomForestClassifier(random_state=12345, class_weight='balanced')\n",
    "model.fit(features_train , target_train)\n",
    "predicted_valid = model.predict(features_valid)\n",
    "print(\"F1:\", f1_score(target_valid, predicted_valid).round(3))\n",
    "print(classification_report(target_valid, predicted_valid, target_names=['Non-exited', 'Exited']))\n",
    "probabilities_valid = model.predict_proba(features_valid)\n",
    "probabilities_one_valid = probabilities_valid[:, 1]\n",
    "print(\"ROC_AUC:\", roc_auc_score(target_valid, probabilities_one_valid).round(3))\n"
   ]
  },
  {
   "cell_type": "markdown",
   "metadata": {},
   "source": [
    " - Взвешивание классов добавило несколько тысячных долей в метрики:  \n",
    " - F1: **0.56**-->**0.566**  \n",
    " - ROC_AUC: **0.85**-->**0.854**  \n",
    " - Нам нужен больший прирост, учитывая размер нашего датасета не хотелось бы терять информацию, попробуем `upsampling`."
   ]
  },
  {
   "cell_type": "code",
   "execution_count": 30,
   "metadata": {},
   "outputs": [],
   "source": [
    "\n",
    "def upsample(features, target, repeat):\n",
    "    features_zeros = features[target == 0]\n",
    "    features_ones = features[target == 1]\n",
    "    target_zeros = target[target == 0]\n",
    "    target_ones = target[target == 1]\n",
    "    features_upsampled = pd.concat([features_zeros] + [features_ones] * repeat)\n",
    "    target_upsampled = pd.concat([target_zeros] + [target_ones] * repeat)\n",
    "    features_upsampled, target_upsampled = shuffle(\n",
    "    features_upsampled, target_upsampled, random_state=12345\n",
    "    )\n",
    "    return features_upsampled, target_upsampled\n",
    "\n",
    "features_upsampled, target_upsampled = upsample(features_train , target_train, 4)\n"
   ]
  },
  {
   "cell_type": "code",
   "execution_count": 31,
   "metadata": {},
   "outputs": [],
   "source": [
    "features_upsampled, target_upsampled = shuffle(features_upsampled, target_upsampled, random_state=12345)"
   ]
  },
  {
   "cell_type": "code",
   "execution_count": 32,
   "metadata": {},
   "outputs": [
    {
     "name": "stdout",
     "output_type": "stream",
     "text": [
      "F1: 0.589\n",
      "              precision    recall  f1-score   support\n",
      "\n",
      "  Non-exited       0.89      0.94      0.91      1609\n",
      "      Exited       0.67      0.52      0.59       391\n",
      "\n",
      "    accuracy                           0.86      2000\n",
      "   macro avg       0.78      0.73      0.75      2000\n",
      "weighted avg       0.85      0.86      0.85      2000\n",
      "\n",
      "ROC_AUC: 0.848\n"
     ]
    }
   ],
   "source": [
    "\n",
    "model = RandomForestClassifier(random_state=12345)\n",
    "model.fit(features_upsampled , target_upsampled)\n",
    "predicted_valid = model.predict(features_valid)\n",
    "print(\"F1:\", f1_score(target_valid, predicted_valid).round(3))\n",
    "print(classification_report(target_valid, predicted_valid, target_names=['Non-exited', 'Exited']))\n",
    "probabilities_valid = model.predict_proba(features_valid)\n",
    "probabilities_one_valid = probabilities_valid[:, 1]\n",
    "print(\"ROC_AUC:\", roc_auc_score(target_valid, probabilities_one_valid).round(3))\n"
   ]
  },
  {
   "cell_type": "markdown",
   "metadata": {},
   "source": [
    " - `upsampling` поднял значение `F1` почти до **0.59**, остановимся на нем.  \n",
    "  \n",
    " - Теперь подберем каждой модели параметры и выберем лучшую.  \n",
    " - Начнем с логистической регрессии:"
   ]
  },
  {
   "cell_type": "code",
   "execution_count": 33,
   "metadata": {},
   "outputs": [
    {
     "name": "stdout",
     "output_type": "stream",
     "text": [
      "LogisticRegression F1: 0.479\n",
      "LogisticRegression ROC_AUC: 0.758\n"
     ]
    }
   ],
   "source": [
    "\n",
    "model = LogisticRegression(random_state=12345, solver='liblinear')\n",
    "model.fit(features_upsampled , target_upsampled)\n",
    "predicted_valid = model.predict(features_valid)\n",
    "print(\"LogisticRegression F1:\", f1_score(target_valid, predicted_valid).round(3))\n",
    "probabilities_valid = model.predict_proba(features_valid)\n",
    "probabilities_one_valid = probabilities_valid[:, 1]\n",
    "print(\"LogisticRegression ROC_AUC:\", roc_auc_score(target_valid, probabilities_one_valid).round(3))\n"
   ]
  },
  {
   "cell_type": "markdown",
   "metadata": {},
   "source": [
    " - Логистической регрессии нам не подходит.  \n",
    " - Проверим дерево решений:"
   ]
  },
  {
   "cell_type": "code",
   "execution_count": 34,
   "metadata": {},
   "outputs": [
    {
     "name": "stdout",
     "output_type": "stream",
     "text": [
      "The best depth for DecisionTreeClassifier is: 11\n"
     ]
    }
   ],
   "source": [
    "\n",
    "best_f1_score = 0\n",
    "best_depth_DT = 1\n",
    "for depth in range(1, 20):\n",
    "    model = DecisionTreeClassifier(random_state=12345, max_depth=depth)\n",
    "    model.fit(features_upsampled , target_upsampled)\n",
    "    predicted_valid = model.predict(features_valid)\n",
    "    if f1_score(target_valid, predicted_valid).round(3) > best_f1_score:\n",
    "        best_f1_score = f1_score(target_valid, predicted_valid).round(3)\n",
    "        best_depth_DT = depth\n",
    "print('The best depth for DecisionTreeClassifier is:', best_depth_DT)\n"
   ]
  },
  {
   "cell_type": "code",
   "execution_count": 35,
   "metadata": {},
   "outputs": [
    {
     "name": "stdout",
     "output_type": "stream",
     "text": [
      "DecisionTreeClassifier F1: 0.556\n",
      "DecisionTreeClassifier ROC_AUC: 0.754\n"
     ]
    }
   ],
   "source": [
    "\n",
    "model = DecisionTreeClassifier(random_state=12345, max_depth=best_depth_DT)\n",
    "model.fit(features_upsampled , target_upsampled)\n",
    "predicted_valid = model.predict(features_valid)\n",
    "print(\"DecisionTreeClassifier F1:\", f1_score(target_valid, predicted_valid).round(3))\n",
    "probabilities_valid = model.predict_proba(features_valid)\n",
    "probabilities_one_valid = probabilities_valid[:, 1]\n",
    "print(\"DecisionTreeClassifier ROC_AUC:\", roc_auc_score(target_valid, probabilities_one_valid).round(3))\n"
   ]
  },
  {
   "cell_type": "markdown",
   "metadata": {},
   "source": [
    "- Все еще мало.  \n",
    "- Теперь случайный лес:"
   ]
  },
  {
   "cell_type": "code",
   "execution_count": 36,
   "metadata": {},
   "outputs": [
    {
     "name": "stdout",
     "output_type": "stream",
     "text": [
      "The best depth for RandomForestClassifier is: 12\n"
     ]
    }
   ],
   "source": [
    "\n",
    "best_f1_score = 0\n",
    "best_depth_RF = 1\n",
    "for depth in range(1, 20):\n",
    "    model = RandomForestClassifier(random_state=12345, max_depth=depth)\n",
    "    model.fit(features_upsampled , target_upsampled)\n",
    "    predicted_valid = model.predict(features_valid)\n",
    "    if f1_score(target_valid, predicted_valid).round(3) > best_f1_score:\n",
    "        best_f1_score = f1_score(target_valid, predicted_valid).round(3)\n",
    "        best_depth_RF = depth\n",
    "print('The best depth for RandomForestClassifier is:', best_depth_RF)\n"
   ]
  },
  {
   "cell_type": "code",
   "execution_count": 37,
   "metadata": {},
   "outputs": [
    {
     "name": "stdout",
     "output_type": "stream",
     "text": [
      "The best n_estimators for RandomForestClassifier is: 60\n"
     ]
    }
   ],
   "source": [
    "\n",
    "best_f1_score = 0\n",
    "best_est = 10\n",
    "for est in range(10, 100, 10):\n",
    "    model = RandomForestClassifier(random_state=12345, max_depth=best_depth_RF, n_estimators=est)\n",
    "    model.fit(features_upsampled , target_upsampled)\n",
    "    predicted_valid = model.predict(features_valid)\n",
    "    if f1_score(target_valid, predicted_valid).round(3) > best_f1_score:\n",
    "        best_f1_score = f1_score(target_valid, predicted_valid).round(3)\n",
    "        best_est = est\n",
    "print('The best n_estimators for RandomForestClassifier is:', best_est)\n"
   ]
  },
  {
   "cell_type": "code",
   "execution_count": 38,
   "metadata": {},
   "outputs": [
    {
     "name": "stdout",
     "output_type": "stream",
     "text": [
      "RandomForestClassifier F1: 0.614\n",
      "RandomForestClassifier ROC_AUC: 0.846\n"
     ]
    }
   ],
   "source": [
    "\n",
    "model = RandomForestClassifier(random_state=12345, max_depth=best_depth_RF, n_estimators=best_est)\n",
    "model.fit(features_upsampled , target_upsampled)\n",
    "predicted_valid = model.predict(features_valid)\n",
    "print(\"RandomForestClassifier F1:\", f1_score(target_valid, predicted_valid).round(3))\n",
    "probabilities_valid = model.predict_proba(features_valid)\n",
    "probabilities_one_valid = probabilities_valid[:, 1]\n",
    "print(\"RandomForestClassifier ROC_AUC:\", roc_auc_score(target_valid, probabilities_one_valid).round(3))\n"
   ]
  },
  {
   "cell_type": "markdown",
   "metadata": {},
   "source": [
    " - Случайный лес показал хороший результат.  \n",
    " - Возьмем его для проверки на тестовой выборке."
   ]
  },
  {
   "cell_type": "markdown",
   "metadata": {},
   "source": [
    "### Вывод"
   ]
  },
  {
   "cell_type": "markdown",
   "metadata": {},
   "source": [
    "- `upsampling` дал лучшие результаты по сравнению со взвешиванием классов.  \n",
    "- Сочетание `upsampling` и `RandomForestClassifier` с подобранными гиперпараметрами помогло достичь значения метрики `F1` > **0.59**"
   ]
  },
  {
   "cell_type": "markdown",
   "metadata": {},
   "source": [
    "## Тестирование модели"
   ]
  },
  {
   "cell_type": "code",
   "execution_count": 39,
   "metadata": {},
   "outputs": [
    {
     "name": "stdout",
     "output_type": "stream",
     "text": [
      "\n",
      "  RandomForestClassifier F1: 0.619 \n",
      "\n",
      "              precision    recall  f1-score   support\n",
      "\n",
      "  Non-exited       0.89      0.89      0.89      1558\n",
      "      Exited       0.61      0.63      0.62       442\n",
      "\n",
      "    accuracy                           0.83      2000\n",
      "   macro avg       0.75      0.76      0.75      2000\n",
      "weighted avg       0.83      0.83      0.83      2000\n",
      "\n"
     ]
    },
    {
     "data": {
      "image/png": "[encoded data removed]",
      "text/plain": [
       "<Figure size 720x720 with 1 Axes>"
      ]
     },
     "metadata": {},
     "output_type": "display_data"
    },
    {
     "name": "stdout",
     "output_type": "stream",
     "text": [
      "RandomForestClassifier ROC_AUC: 0.862 \n",
      "\n"
     ]
    }
   ],
   "source": [
    "\n",
    "model = RandomForestClassifier(random_state=12345, max_depth=best_depth_RF, n_estimators=best_est)\n",
    "model.fit(features_upsampled , target_upsampled)\n",
    "predicted_test = model.predict(features_test)\n",
    "\n",
    "print('\\n ', \"RandomForestClassifier F1:\", f1_score(target_test, predicted_test).round(3), '\\n')\n",
    "\n",
    "probabilities_test = model.predict_proba(features_test)\n",
    "probabilities_one_test = probabilities_test[:, 1]\n",
    "\n",
    "print(classification_report(target_test, predicted_test, target_names=['Non-exited', 'Exited']))\n",
    "\n",
    "sns.set(font_scale=1.5)\n",
    "sns.set_color_codes(\"muted\")\n",
    "plt.figure(figsize=(10, 10))\n",
    "fpr, tpr, thresholds = roc_curve(target_test, model.predict_proba(features_test)[:,1], pos_label=1)\n",
    "lw = 2\n",
    "plt.plot(fpr, tpr, lw=lw, label='ROC curve ')\n",
    "plt.plot([0, 1], [0, 1])\n",
    "plt.xlim([0.0, 1.0])\n",
    "plt.ylim([0.0, 1.05])\n",
    "plt.xlabel('False Positive Rate')\n",
    "plt.ylabel('True Positive Rate')\n",
    "plt.title('ROC curve')\n",
    "plt.show()\n",
    "\n",
    "print(\"RandomForestClassifier ROC_AUC:\", roc_auc_score(target_test, probabilities_one_test).round(3), '\\n')\n"
   ]
  },
  {
   "cell_type": "markdown",
   "metadata": {},
   "source": [
    "- Мы убедились на своем примере что метрика `ROC_AUC` устойчива к несбалансированной выборке.  \n",
    "- Она слегка увеличилась по сравнению с первой проверкой **0.85**-->**0.862**  \n",
    "- `ROC_AUC` случайной модели = **0.5**, то что у нас **0.862** означает что наша модель превосходит случайность, а значит работает."
   ]
  },
  {
   "cell_type": "markdown",
   "metadata": {},
   "source": [
    "- Выведем матрицу ошибок:"
   ]
  },
  {
   "cell_type": "code",
   "execution_count": 40,
   "metadata": {},
   "outputs": [
    {
     "data": {
      "image/png": "[encoded data removed]",
      "text/plain": [
       "<Figure size 432x288 with 2 Axes>"
      ]
     },
     "metadata": {},
     "output_type": "display_data"
    }
   ],
   "source": [
    "\n",
    "cf_matrix = confusion_matrix(target_test, predicted_test)\n",
    "sns.heatmap(cf_matrix/np.sum(cf_matrix), annot=True, fmt='.1%', cmap='Blues');\n",
    "plt.ylabel('True label');\n",
    "plt.xlabel('Predicted label');\n"
   ]
  },
  {
   "cell_type": "markdown",
   "metadata": {},
   "source": [
    "- Наша модель верно классифицирует **83%** объектов.\n",
    "- Доля ошибок в положительном классе: **8,2%**."
   ]
  },
  {
   "cell_type": "markdown",
   "metadata": {},
   "source": [
    "### Общий вывод"
   ]
  },
  {
   "cell_type": "markdown",
   "metadata": {},
   "source": [
    " - Рекомендуется улучшить полноту заполнения признака `Tenure`.  \n",
    " - Для борьбы с дисбалансом классов, учитывая размер выборки, наиболее подходит метод `upsampling`.  \n",
    " - Лучшим алгоритмом стал `RandomForestClassifier` с гиперпаратрами: max_depth=**12**, n_estimators=**60**.  \n",
    " - В итоге удалось достичь показателей метрик: F1: **0.619**, ROC_AUC: **0.862**.  \n",
    " - Наша модель верно классифицирует **83%** объектов.  \n",
    " - Доля ошибок в положительном классе: **8,2%**.  "
   ]
  },
  {
   "cell_type": "markdown",
   "metadata": {},
   "source": [
    "## Ссылки"
   ]
  },
  {
   "cell_type": "markdown",
   "metadata": {},
   "source": [
    "\n",
    "В проекте использовались материалы следующих статей:  \n",
    "    [Confusion Matrix Visualization](https://medium.com/@dtuk81/confusion-matrix-visualization-fc31e3f30fea)  \n",
    "    [Метрики в задачах машинного обучения](https://habr.com/ru/company/ods/blog/328372/)   \n",
    "    [Оценка классификатора (точность, полнота, F-мера)](http://bazhenov.me/blog/2012/07/21/classification-performance-evaluation.html)\n",
    "    "
   ]
  }
 ],
 "metadata": {
  "ExecuteTimeLog": [
   {
    "duration": 13714,
    "start_time": "2021-06-09T10:10:54.334Z"
   },
   {
    "duration": 32,
    "start_time": "2021-06-09T10:11:08.050Z"
   },
   {
    "duration": 20,
    "start_time": "2021-06-09T10:11:08.084Z"
   },
   {
    "duration": 6,
    "start_time": "2021-06-09T10:11:08.106Z"
   },
   {
    "duration": 13,
    "start_time": "2021-06-09T10:11:08.113Z"
   },
   {
    "duration": 17,
    "start_time": "2021-06-09T10:11:08.127Z"
   },
   {
    "duration": 4,
    "start_time": "2021-06-09T10:11:08.146Z"
   },
   {
    "duration": 41,
    "start_time": "2021-06-09T10:11:08.152Z"
   },
   {
    "duration": 11,
    "start_time": "2021-06-09T10:11:08.195Z"
   },
   {
    "duration": 10,
    "start_time": "2021-06-09T10:11:08.207Z"
   },
   {
    "duration": 1281,
    "start_time": "2021-06-09T10:11:08.219Z"
   },
   {
    "duration": 8,
    "start_time": "2021-06-09T10:11:09.502Z"
   },
   {
    "duration": 9,
    "start_time": "2021-06-09T10:11:09.512Z"
   },
   {
    "duration": 69,
    "start_time": "2021-06-09T10:11:09.523Z"
   },
   {
    "duration": 4,
    "start_time": "2021-06-09T10:11:09.594Z"
   },
   {
    "duration": 8,
    "start_time": "2021-06-09T10:11:09.600Z"
   },
   {
    "duration": 9,
    "start_time": "2021-06-09T10:11:09.609Z"
   },
   {
    "duration": 5,
    "start_time": "2021-06-09T10:11:09.619Z"
   },
   {
    "duration": 7,
    "start_time": "2021-06-09T10:11:09.625Z"
   },
   {
    "duration": 20,
    "start_time": "2021-06-09T10:11:09.634Z"
   },
   {
    "duration": 11,
    "start_time": "2021-06-09T10:11:09.684Z"
   },
   {
    "duration": 7,
    "start_time": "2021-06-09T10:11:09.697Z"
   },
   {
    "duration": 712,
    "start_time": "2021-06-09T10:11:09.708Z"
   },
   {
    "duration": 13,
    "start_time": "2021-06-09T10:11:10.422Z"
   },
   {
    "duration": 57,
    "start_time": "2021-06-09T10:11:10.436Z"
   },
   {
    "duration": 102,
    "start_time": "2021-06-09T10:11:10.495Z"
   },
   {
    "duration": 4,
    "start_time": "2021-06-09T10:11:10.599Z"
   },
   {
    "duration": 7,
    "start_time": "2021-06-09T10:11:10.604Z"
   },
   {
    "duration": 715,
    "start_time": "2021-06-09T10:11:10.613Z"
   },
   {
    "duration": 10,
    "start_time": "2021-06-09T10:11:11.330Z"
   },
   {
    "duration": 4,
    "start_time": "2021-06-09T10:11:11.342Z"
   },
   {
    "duration": 967,
    "start_time": "2021-06-09T10:11:11.348Z"
   },
   {
    "duration": 75,
    "start_time": "2021-06-09T10:11:12.317Z"
   },
   {
    "duration": 750,
    "start_time": "2021-06-09T10:11:12.395Z"
   },
   {
    "duration": 48,
    "start_time": "2021-06-09T10:11:13.147Z"
   },
   {
    "duration": 12412,
    "start_time": "2021-06-09T10:11:13.197Z"
   },
   {
    "duration": 3583,
    "start_time": "2021-06-09T10:11:25.611Z"
   },
   {
    "duration": 526,
    "start_time": "2021-06-09T10:11:29.195Z"
   },
   {
    "duration": 889,
    "start_time": "2021-06-09T10:11:29.723Z"
   },
   {
    "duration": 353,
    "start_time": "2021-06-09T10:11:30.614Z"
   },
   {
    "duration": 87,
    "start_time": "2021-06-10T07:04:12.253Z"
   },
   {
    "duration": 366,
    "start_time": "2021-06-10T07:12:27.663Z"
   },
   {
    "duration": 83,
    "start_time": "2021-06-10T08:33:04.511Z"
   },
   {
    "duration": 11511,
    "start_time": "2021-06-10T08:33:46.382Z"
   },
   {
    "duration": 37,
    "start_time": "2021-06-10T08:33:57.896Z"
   },
   {
    "duration": 26,
    "start_time": "2021-06-10T08:33:57.936Z"
   },
   {
    "duration": 21,
    "start_time": "2021-06-10T08:33:57.965Z"
   },
   {
    "duration": 21,
    "start_time": "2021-06-10T08:33:57.988Z"
   },
   {
    "duration": 27,
    "start_time": "2021-06-10T08:33:58.011Z"
   },
   {
    "duration": 5,
    "start_time": "2021-06-10T08:33:58.040Z"
   },
   {
    "duration": 45,
    "start_time": "2021-06-10T08:33:58.048Z"
   },
   {
    "duration": 17,
    "start_time": "2021-06-10T08:33:58.097Z"
   },
   {
    "duration": 15,
    "start_time": "2021-06-10T08:33:58.117Z"
   },
   {
    "duration": 1636,
    "start_time": "2021-06-10T08:33:58.134Z"
   },
   {
    "duration": 16,
    "start_time": "2021-06-10T08:33:59.773Z"
   },
   {
    "duration": 16,
    "start_time": "2021-06-10T08:33:59.792Z"
   },
   {
    "duration": 84,
    "start_time": "2021-06-10T08:33:59.811Z"
   },
   {
    "duration": 6,
    "start_time": "2021-06-10T08:33:59.897Z"
   },
   {
    "duration": 9,
    "start_time": "2021-06-10T08:33:59.905Z"
   },
   {
    "duration": 10,
    "start_time": "2021-06-10T08:33:59.916Z"
   },
   {
    "duration": 6,
    "start_time": "2021-06-10T08:33:59.928Z"
   },
   {
    "duration": 6,
    "start_time": "2021-06-10T08:33:59.937Z"
   },
   {
    "duration": 32,
    "start_time": "2021-06-10T08:33:59.984Z"
   },
   {
    "duration": 18,
    "start_time": "2021-06-10T08:34:00.018Z"
   },
   {
    "duration": 14,
    "start_time": "2021-06-10T08:34:00.039Z"
   },
   {
    "duration": 967,
    "start_time": "2021-06-10T08:34:00.082Z"
   },
   {
    "duration": 31,
    "start_time": "2021-06-10T08:34:01.052Z"
   },
   {
    "duration": 67,
    "start_time": "2021-06-10T08:34:01.086Z"
   },
   {
    "duration": 154,
    "start_time": "2021-06-10T08:34:01.156Z"
   },
   {
    "duration": 5,
    "start_time": "2021-06-10T08:34:01.315Z"
   },
   {
    "duration": 27,
    "start_time": "2021-06-10T08:34:01.323Z"
   },
   {
    "duration": 1023,
    "start_time": "2021-06-10T08:34:01.353Z"
   },
   {
    "duration": 15,
    "start_time": "2021-06-10T08:34:02.383Z"
   },
   {
    "duration": 8,
    "start_time": "2021-06-10T08:34:02.400Z"
   },
   {
    "duration": 1447,
    "start_time": "2021-06-10T08:34:02.411Z"
   },
   {
    "duration": 225,
    "start_time": "2021-06-10T08:34:03.860Z"
   },
   {
    "duration": 908,
    "start_time": "2021-06-10T08:34:04.088Z"
   },
   {
    "duration": 62,
    "start_time": "2021-06-10T08:34:04.998Z"
   },
   {
    "duration": 20420,
    "start_time": "2021-06-10T08:34:05.063Z"
   },
   {
    "duration": 5800,
    "start_time": "2021-06-10T08:34:25.486Z"
   },
   {
    "duration": 896,
    "start_time": "2021-06-10T08:34:31.289Z"
   },
   {
    "duration": 1373,
    "start_time": "2021-06-10T08:34:32.188Z"
   },
   {
    "duration": 469,
    "start_time": "2021-06-10T08:34:33.564Z"
   },
   {
    "duration": 84,
    "start_time": "2021-06-10T08:47:17.402Z"
   },
   {
    "duration": 2709,
    "start_time": "2021-06-10T08:47:14.782Z"
   },
   {
    "duration": 2706,
    "start_time": "2021-06-10T08:47:14.787Z"
   },
   {
    "duration": 2703,
    "start_time": "2021-06-10T08:47:14.792Z"
   },
   {
    "duration": 2701,
    "start_time": "2021-06-10T08:47:14.796Z"
   },
   {
    "duration": 2699,
    "start_time": "2021-06-10T08:47:14.800Z"
   },
   {
    "duration": 2697,
    "start_time": "2021-06-10T08:47:14.804Z"
   },
   {
    "duration": 2694,
    "start_time": "2021-06-10T08:47:14.809Z"
   },
   {
    "duration": 2692,
    "start_time": "2021-06-10T08:47:14.813Z"
   },
   {
    "duration": 2690,
    "start_time": "2021-06-10T08:47:14.817Z"
   },
   {
    "duration": 2688,
    "start_time": "2021-06-10T08:47:14.821Z"
   },
   {
    "duration": 2687,
    "start_time": "2021-06-10T08:47:14.825Z"
   },
   {
    "duration": 2685,
    "start_time": "2021-06-10T08:47:14.829Z"
   },
   {
    "duration": 2683,
    "start_time": "2021-06-10T08:47:14.833Z"
   },
   {
    "duration": 2681,
    "start_time": "2021-06-10T08:47:14.837Z"
   },
   {
    "duration": 2679,
    "start_time": "2021-06-10T08:47:14.841Z"
   },
   {
    "duration": 2677,
    "start_time": "2021-06-10T08:47:14.845Z"
   },
   {
    "duration": 2676,
    "start_time": "2021-06-10T08:47:14.848Z"
   },
   {
    "duration": 2674,
    "start_time": "2021-06-10T08:47:14.852Z"
   },
   {
    "duration": 2727,
    "start_time": "2021-06-10T08:47:14.856Z"
   },
   {
    "duration": 2726,
    "start_time": "2021-06-10T08:47:14.860Z"
   },
   {
    "duration": 2722,
    "start_time": "2021-06-10T08:47:14.866Z"
   },
   {
    "duration": 2696,
    "start_time": "2021-06-10T08:47:14.894Z"
   },
   {
    "duration": 315,
    "start_time": "2021-06-10T08:47:17.595Z"
   },
   {
    "duration": 2762,
    "start_time": "2021-06-10T08:47:15.151Z"
   },
   {
    "duration": 2679,
    "start_time": "2021-06-10T08:47:15.236Z"
   },
   {
    "duration": 2620,
    "start_time": "2021-06-10T08:47:15.296Z"
   },
   {
    "duration": 2611,
    "start_time": "2021-06-10T08:47:15.307Z"
   },
   {
    "duration": 2607,
    "start_time": "2021-06-10T08:47:15.312Z"
   },
   {
    "duration": 2589,
    "start_time": "2021-06-10T08:47:15.331Z"
   },
   {
    "duration": 2586,
    "start_time": "2021-06-10T08:47:15.335Z"
   },
   {
    "duration": 2583,
    "start_time": "2021-06-10T08:47:15.340Z"
   },
   {
    "duration": 2580,
    "start_time": "2021-06-10T08:47:15.344Z"
   },
   {
    "duration": 2577,
    "start_time": "2021-06-10T08:47:15.348Z"
   },
   {
    "duration": 2575,
    "start_time": "2021-06-10T08:47:15.352Z"
   },
   {
    "duration": 2571,
    "start_time": "2021-06-10T08:47:15.357Z"
   },
   {
    "duration": 2569,
    "start_time": "2021-06-10T08:47:15.361Z"
   },
   {
    "duration": 2566,
    "start_time": "2021-06-10T08:47:15.365Z"
   },
   {
    "duration": 2563,
    "start_time": "2021-06-10T08:47:15.369Z"
   },
   {
    "duration": 2560,
    "start_time": "2021-06-10T08:47:15.374Z"
   },
   {
    "duration": 2557,
    "start_time": "2021-06-10T08:47:15.378Z"
   },
   {
    "duration": 5464,
    "start_time": "2021-06-10T08:58:22.779Z"
   },
   {
    "duration": 37,
    "start_time": "2021-06-10T08:58:28.245Z"
   },
   {
    "duration": 26,
    "start_time": "2021-06-10T08:58:28.285Z"
   },
   {
    "duration": 9,
    "start_time": "2021-06-10T08:58:28.314Z"
   },
   {
    "duration": 23,
    "start_time": "2021-06-10T08:58:28.326Z"
   },
   {
    "duration": 51,
    "start_time": "2021-06-10T08:58:28.351Z"
   },
   {
    "duration": 5,
    "start_time": "2021-06-10T08:58:28.404Z"
   },
   {
    "duration": 21,
    "start_time": "2021-06-10T08:58:28.413Z"
   },
   {
    "duration": 16,
    "start_time": "2021-06-10T08:58:28.437Z"
   },
   {
    "duration": 38,
    "start_time": "2021-06-10T08:58:28.456Z"
   },
   {
    "duration": 1466,
    "start_time": "2021-06-10T08:58:28.496Z"
   },
   {
    "duration": 9,
    "start_time": "2021-06-10T08:58:29.964Z"
   },
   {
    "duration": 12,
    "start_time": "2021-06-10T08:58:29.982Z"
   },
   {
    "duration": 64,
    "start_time": "2021-06-10T08:58:29.996Z"
   },
   {
    "duration": 6,
    "start_time": "2021-06-10T08:58:30.084Z"
   },
   {
    "duration": 20,
    "start_time": "2021-06-10T08:58:30.092Z"
   },
   {
    "duration": 14,
    "start_time": "2021-06-10T08:58:30.114Z"
   },
   {
    "duration": 6,
    "start_time": "2021-06-10T08:58:30.131Z"
   },
   {
    "duration": 11,
    "start_time": "2021-06-10T08:58:30.139Z"
   },
   {
    "duration": 54,
    "start_time": "2021-06-10T08:58:30.152Z"
   },
   {
    "duration": 18,
    "start_time": "2021-06-10T08:58:30.208Z"
   },
   {
    "duration": 20,
    "start_time": "2021-06-10T08:58:30.228Z"
   },
   {
    "duration": 968,
    "start_time": "2021-06-10T08:58:30.253Z"
   },
   {
    "duration": 20,
    "start_time": "2021-06-10T08:58:31.224Z"
   },
   {
    "duration": 86,
    "start_time": "2021-06-10T08:58:31.246Z"
   },
   {
    "duration": 152,
    "start_time": "2021-06-10T08:58:31.335Z"
   },
   {
    "duration": 5,
    "start_time": "2021-06-10T08:58:31.490Z"
   },
   {
    "duration": 14,
    "start_time": "2021-06-10T08:58:31.499Z"
   },
   {
    "duration": 1033,
    "start_time": "2021-06-10T08:58:31.516Z"
   },
   {
    "duration": 31,
    "start_time": "2021-06-10T08:58:32.552Z"
   },
   {
    "duration": 6,
    "start_time": "2021-06-10T08:58:32.585Z"
   },
   {
    "duration": 1432,
    "start_time": "2021-06-10T08:58:32.594Z"
   },
   {
    "duration": 65,
    "start_time": "2021-06-10T08:58:34.028Z"
   },
   {
    "duration": 1004,
    "start_time": "2021-06-10T08:58:34.185Z"
   },
   {
    "duration": 59,
    "start_time": "2021-06-10T08:58:35.192Z"
   },
   {
    "duration": 19296,
    "start_time": "2021-06-10T08:58:35.254Z"
   },
   {
    "duration": 5736,
    "start_time": "2021-06-10T08:58:54.552Z"
   },
   {
    "duration": 788,
    "start_time": "2021-06-10T08:59:00.290Z"
   },
   {
    "duration": 1512,
    "start_time": "2021-06-10T08:59:01.084Z"
   },
   {
    "duration": 464,
    "start_time": "2021-06-10T08:59:02.599Z"
   }
  ],
  "kernelspec": {
   "display_name": "Python 3",
   "language": "python",
   "name": "python3"
  },
  "language_info": {
   "codemirror_mode": {
    "name": "ipython",
    "version": 3
   },
   "file_extension": ".py",
   "mimetype": "text/x-python",
   "name": "python",
   "nbconvert_exporter": "python",
   "pygments_lexer": "ipython3",
   "version": "3.7.6"
  },
  "toc": {
   "base_numbering": 1,
   "nav_menu": {
    "height": "317px",
    "width": "319px"
   },
   "number_sections": true,
   "sideBar": true,
   "skip_h1_title": true,
   "title_cell": "Содержание",
   "title_sidebar": "Contents",
   "toc_cell": true,
   "toc_position": {
    "height": "calc(100% - 180px)",
    "left": "10px",
    "top": "150px",
    "width": "310.391px"
   },
   "toc_section_display": true,
   "toc_window_display": true
  }
 },
 "nbformat": 4,
 "nbformat_minor": 2
}
