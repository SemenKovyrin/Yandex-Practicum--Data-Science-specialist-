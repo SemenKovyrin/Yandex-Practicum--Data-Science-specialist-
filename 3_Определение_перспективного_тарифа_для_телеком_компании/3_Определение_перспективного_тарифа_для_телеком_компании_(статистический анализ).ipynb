{
 "cells": [
  {
   "cell_type": "markdown",
   "metadata": {
    "toc": true
   },
   "source": [
    "<h1>Содержание<span class=\"tocSkip\"></span></h1>\n",
    "<div class=\"toc\"><ul class=\"toc-item\"><li><span><a href=\"#Описание-тарифов\" data-toc-modified-id=\"Описание-тарифов-1\"><span class=\"toc-item-num\">1&nbsp;&nbsp;</span>Описание тарифов</a></span></li><li><span><a href=\"#Описание-данных\" data-toc-modified-id=\"Описание-данных-2\"><span class=\"toc-item-num\">2&nbsp;&nbsp;</span>Описание данных</a></span></li><li><span><a href=\"#Изучение-данных-из-файла\" data-toc-modified-id=\"Изучение-данных-из-файла-3\"><span class=\"toc-item-num\">3&nbsp;&nbsp;</span>Изучение данных из файла</a></span><ul class=\"toc-item\"><li><span><a href=\"#Импорт-библиотек-и-установка-параметров\" data-toc-modified-id=\"Импорт-библиотек-и-установка-параметров-3.1\"><span class=\"toc-item-num\">3.1&nbsp;&nbsp;</span>Импорт библиотек и установка параметров</a></span></li><li><span><a href=\"#Чтение-файлов\" data-toc-modified-id=\"Чтение-файлов-3.2\"><span class=\"toc-item-num\">3.2&nbsp;&nbsp;</span>Чтение файлов</a></span></li><li><span><a href=\"#Подготовка-к-слиянию-таблиц\" data-toc-modified-id=\"Подготовка-к-слиянию-таблиц-3.3\"><span class=\"toc-item-num\">3.3&nbsp;&nbsp;</span>Подготовка к слиянию таблиц</a></span></li><li><span><a href=\"#Слияние-таблиц\" data-toc-modified-id=\"Слияние-таблиц-3.4\"><span class=\"toc-item-num\">3.4&nbsp;&nbsp;</span>Слияние таблиц</a></span></li><li><span><a href=\"#Знакомство-с-данными-и-первичная-обработка\" data-toc-modified-id=\"Знакомство-с-данными-и-первичная-обработка-3.5\"><span class=\"toc-item-num\">3.5&nbsp;&nbsp;</span>Знакомство с данными и первичная обработка</a></span></li></ul></li><li><span><a href=\"#Анализ-данных\" data-toc-modified-id=\"Анализ-данных-4\"><span class=\"toc-item-num\">4&nbsp;&nbsp;</span>Анализ данных</a></span><ul class=\"toc-item\"><li><span><a href=\"#Графики-сравнения-тарифов\" data-toc-modified-id=\"Графики-сравнения-тарифов-4.1\"><span class=\"toc-item-num\">4.1&nbsp;&nbsp;</span>Графики сравнения тарифов</a></span></li></ul></li><li><span><a href=\"#Проверка-гипотез\" data-toc-modified-id=\"Проверка-гипотез-5\"><span class=\"toc-item-num\">5&nbsp;&nbsp;</span>Проверка гипотез</a></span></li><li><span><a href=\"#Общий-вывод:\" data-toc-modified-id=\"Общий-вывод:-6\"><span class=\"toc-item-num\">6&nbsp;&nbsp;</span>Общий вывод:</a></span></li></ul></div>"
   ]
  },
  {
   "cell_type": "markdown",
   "metadata": {},
   "source": [
    "# Определение перспективного тарифа для телеком компании\n",
    "Клиентам предлагают два тарифных плана: `«Смарт»` и `«Ультра»`. \n",
    "Чтобы скорректировать рекламный бюджет, коммерческий департамент хочет понять, какой тариф приносит больше денег.\n",
    "Нам предстоит сделать предварительный анализ тарифов на небольшой выборке клиентов. В нашем распоряжении данные 500 пользователей: кто они, откуда, каким тарифом пользуются, сколько звонков и сообщений каждый отправил за 2018 год. Нужно проанализировать поведение клиентов и сделать вывод — какой тариф лучше."
   ]
  },
  {
   "cell_type": "markdown",
   "metadata": {},
   "source": [
    "## Описание тарифов\n",
    "**Тариф «Смарт»**\n",
    " - Ежемесячная плата: 550 рублей\n",
    " - Включено 500 минут разговора, 50 сообщений и 15 Гб интернет-трафика\n",
    " - Стоимость услуг сверх тарифного пакета:\n",
    "   - минута разговора: 3 рубля\n",
    "   - сообщение: 3 рубля\n",
    "   - 1 Гб интернет-трафика: 200 рублей\n",
    "  \n",
    "**Тариф «Ультра»**\n",
    " - Ежемесячная плата: 1950 рублей\n",
    " - Включено 3000 минут разговора, 1000 сообщений и 30 Гб интернет-трафика\n",
    " - Стоимость услуг сверх тарифного пакета:\n",
    "   - минута разговора: 1 рубль\n",
    "   - сообщение: 1 рубль\n",
    "   - 1 Гб интернет-трафика: 150 рублей  \n",
    "   \n",
    "**Обратите внимание:** \n",
    "Мы всегда округляем вверх значения минут и мегабайтов. \n",
    "Если пользователь проговорил всего 1 секунду, в тарифе засчитывается целая минута.   "
   ]
  },
  {
   "cell_type": "markdown",
   "metadata": {},
   "source": [
    "## Описание данных\n",
    "**Таблица** `users` (информация о пользователях):\n",
    " - `user_id` — уникальный идентификатор пользователя\n",
    " - `first_name` — имя пользователя\n",
    " - `last_name` — фамилия пользователя\n",
    " - `age` — возраст пользователя (годы)\n",
    " - `reg_date` — дата подключения тарифа (день, месяц, год)\n",
    " - `churn_date` — дата прекращения пользования тарифом (если значение пропущено, то тариф ещё действовал на момент выгрузки данных)\n",
    " - `city` — город проживания пользователя\n",
    " - `tariff` — название тарифного плана\n",
    " \n",
    "**Таблица** `calls` (информация о звонках):\n",
    " - `id` — уникальный номер звонка\n",
    " - `call_date` — дата звонка\n",
    " - `duration` — длительность звонка в минутах\n",
    " - `user_id` — идентификатор пользователя, сделавшего звонок\n",
    " \n",
    "**Таблица** `messages` (информация о сообщениях):\n",
    " - `id` — уникальный номер сообщения\n",
    " - `message_date` — дата сообщения\n",
    " - `user_id` — идентификатор пользователя, отправившего сообщение\n",
    "\n",
    "**Таблица** `internet` (информация об интернет-сессиях):\n",
    " - `id` — уникальный номер сессии\n",
    " - `mb_used` — объём потраченного за сессию интернет-трафика (в мегабайтах)\n",
    " - `session_date` — дата интернет-сессии\n",
    " - `user_id` — идентификатор пользователя\n",
    " \n",
    "**Таблица** tariffs (информация о тарифах):\n",
    " - `tariff_name` — название тарифа\n",
    " - `rub_monthly_fee` — ежемесячная абонентская плата в рублях\n",
    " - `minutes_included` — количество минут разговора в месяц, включённых в абонентскую плату\n",
    " - `messages_included` — количество сообщений в месяц, включённых в абонентскую плату\n",
    " - `mb_per_month_included` — объём интернет-трафика, включённого в абонентскую плату (в мегабайтах)\n",
    " - `rub_per_minute` — стоимость минуты разговора сверх тарифного пакета (например, если в тарифе 100 минут разговора в месяц, то со 101 минуты будет взиматься плата)\n",
    " - `rub_per_message` — стоимость отправки сообщения сверх тарифного пакета\n",
    " - `rub_per_gb` — стоимость дополнительного гигабайта интернет-трафика сверх тарифного пакета (1 гигабайт = 1024 мегабайта)"
   ]
  },
  {
   "cell_type": "markdown",
   "metadata": {},
   "source": [
    "## Изучение данных из файла"
   ]
  },
  {
   "cell_type": "markdown",
   "metadata": {},
   "source": [
    "### Импорт библиотек и установка параметров"
   ]
  },
  {
   "cell_type": "code",
   "execution_count": 1,
   "metadata": {},
   "outputs": [],
   "source": [
    "import pandas as pd\n",
    "import matplotlib.pyplot as plt\n",
    "import numpy as np\n",
    "from scipy import stats as st\n",
    "\n",
    "# cнимаем возможное предупреждение\n",
    "import warnings\n",
    "warnings.filterwarnings(\"ignore\")\n",
    "\n",
    "# чтобы pandas показал все столбцы фрейма ниже, включаем настройку:\n",
    "pd.set_option('display.max_columns', None)"
   ]
  },
  {
   "cell_type": "markdown",
   "metadata": {},
   "source": [
    "### Чтение файлов"
   ]
  },
  {
   "cell_type": "code",
   "execution_count": 2,
   "metadata": {},
   "outputs": [],
   "source": [
    "# мы имеем 5 таблиц, для удобства прочтем, затем соединим их вместе\n",
    "\n",
    "calls = pd.read_csv('calls.csv')\n",
    "internet = pd.read_csv('internet.csv')\n",
    "messages = pd.read_csv('messages.csv')\n",
    "tariffs = pd.read_csv('tariffs.csv')\n",
    "users = pd.read_csv('users.csv')"
   ]
  },
  {
   "cell_type": "markdown",
   "metadata": {},
   "source": [
    "### Подготовка к слиянию таблиц"
   ]
  },
  {
   "cell_type": "code",
   "execution_count": 3,
   "metadata": {},
   "outputs": [],
   "source": [
    "# переименуем столбцы 'id' таблиц чтобы лучше их различать в общем датасете\n",
    "\n",
    "calls.rename(columns = {'id': 'id_calls'}, inplace = True)\n",
    "internet.rename(columns = {'id': 'id_internet'}, inplace = True)\n",
    "messages.rename(columns = {'id': 'id_messages'}, inplace = True)"
   ]
  },
  {
   "cell_type": "code",
   "execution_count": 4,
   "metadata": {},
   "outputs": [],
   "source": [
    "# округлим значения минут и мегабайтов\n",
    "\n",
    "calls['duration'] = np.ceil(calls['duration'])\n",
    "internet['mb_used'] = np.ceil(internet['mb_used'])"
   ]
  },
  {
   "cell_type": "code",
   "execution_count": 5,
   "metadata": {},
   "outputs": [],
   "source": [
    "# приведем даты к нужному формату\n",
    "\n",
    "calls['call_date'] = pd.to_datetime(calls['call_date'], format = '%Y-%m-%d')\n",
    "messages['message_date'] = pd.to_datetime(messages['message_date'], format = '%Y-%m-%d')\n",
    "internet['session_date'] = pd.to_datetime(internet['session_date'], format = '%Y-%m-%d')"
   ]
  },
  {
   "cell_type": "code",
   "execution_count": 6,
   "metadata": {},
   "outputs": [],
   "source": [
    "# выделим месяц в каждой таблице\n",
    "\n",
    "calls['call_date'] = calls['call_date'].dt.month\n",
    "messages['message_date'] = messages['message_date'].dt.month\n",
    "internet['session_date'] = internet['session_date'].dt.month"
   ]
  },
  {
   "cell_type": "markdown",
   "metadata": {},
   "source": [
    "Для каждого пользователя нам понадобится:\n",
    " - количество сделанных звонков по месяцам;\n",
    " - количество израсходованных минут по месяцам;\n",
    " - количество отправленных сообщений по месяцам;\n",
    " - объем израсходованного интернет-трафика по месяцам;"
   ]
  },
  {
   "cell_type": "code",
   "execution_count": 7,
   "metadata": {},
   "outputs": [],
   "source": [
    "# сгруппируем данные\n",
    "\n",
    "calls = calls[['call_date', 'duration', 'user_id']].pivot_table(index = ['user_id', 'call_date'], \n",
    "                                                                values = 'duration', \n",
    "                                                                aggfunc = ['count', 'sum'])\n",
    "\n",
    "messages = messages[['message_date', 'user_id', 'id_messages']].pivot_table(index = ['user_id', 'message_date'], \n",
    "                                                                            values = 'id_messages', \n",
    "                                                                            aggfunc = 'count')\n",
    "\n",
    "internet = internet[['session_date', 'user_id', 'mb_used']].pivot_table(index = ['user_id', 'session_date'], \n",
    "                                                                        values = 'mb_used', \n",
    "                                                                        aggfunc = 'sum')"
   ]
  },
  {
   "cell_type": "code",
   "execution_count": 8,
   "metadata": {},
   "outputs": [
    {
     "name": "stdout",
     "output_type": "stream",
     "text": [
      "(3174, 2)\n",
      "(2717, 1)\n",
      "(3203, 1)\n"
     ]
    }
   ],
   "source": [
    "# рассмотрим размер таблиц\n",
    "\n",
    "print(calls.shape)\n",
    "print(messages.shape)\n",
    "print(internet.shape)"
   ]
  },
  {
   "cell_type": "markdown",
   "metadata": {},
   "source": [
    "Размер таблиц разный, это говорит о том что не все услуги были использованы в один и тот же месяц."
   ]
  },
  {
   "cell_type": "code",
   "execution_count": 9,
   "metadata": {},
   "outputs": [],
   "source": [
    "# создадим первые столбцы со всеми вариантами пар пользователь - месяц чтобы ничего не упустить\n",
    "\n",
    "df = pd.DataFrame(columns = ['user_id', 'month'], index = range(0, 6000))\n",
    "row = 0\n",
    "for user in range(1000, 1500):\n",
    "    for month in range(1, 13):\n",
    "        df.iloc[row] = [user, month]\n",
    "        row +=1        "
   ]
  },
  {
   "cell_type": "code",
   "execution_count": 10,
   "metadata": {},
   "outputs": [
    {
     "data": {
      "text/html": [
       "<div>\n",
       "<style scoped>\n",
       "    .dataframe tbody tr th:only-of-type {\n",
       "        vertical-align: middle;\n",
       "    }\n",
       "\n",
       "    .dataframe tbody tr th {\n",
       "        vertical-align: top;\n",
       "    }\n",
       "\n",
       "    .dataframe thead th {\n",
       "        text-align: right;\n",
       "    }\n",
       "</style>\n",
       "<table border=\"1\" class=\"dataframe\">\n",
       "  <thead>\n",
       "    <tr style=\"text-align: right;\">\n",
       "      <th></th>\n",
       "      <th>user_id</th>\n",
       "      <th>month</th>\n",
       "    </tr>\n",
       "  </thead>\n",
       "  <tbody>\n",
       "    <tr>\n",
       "      <th>0</th>\n",
       "      <td>1000</td>\n",
       "      <td>1</td>\n",
       "    </tr>\n",
       "    <tr>\n",
       "      <th>1</th>\n",
       "      <td>1000</td>\n",
       "      <td>2</td>\n",
       "    </tr>\n",
       "    <tr>\n",
       "      <th>2</th>\n",
       "      <td>1000</td>\n",
       "      <td>3</td>\n",
       "    </tr>\n",
       "    <tr>\n",
       "      <th>3</th>\n",
       "      <td>1000</td>\n",
       "      <td>4</td>\n",
       "    </tr>\n",
       "    <tr>\n",
       "      <th>4</th>\n",
       "      <td>1000</td>\n",
       "      <td>5</td>\n",
       "    </tr>\n",
       "    <tr>\n",
       "      <th>...</th>\n",
       "      <td>...</td>\n",
       "      <td>...</td>\n",
       "    </tr>\n",
       "    <tr>\n",
       "      <th>5995</th>\n",
       "      <td>1499</td>\n",
       "      <td>8</td>\n",
       "    </tr>\n",
       "    <tr>\n",
       "      <th>5996</th>\n",
       "      <td>1499</td>\n",
       "      <td>9</td>\n",
       "    </tr>\n",
       "    <tr>\n",
       "      <th>5997</th>\n",
       "      <td>1499</td>\n",
       "      <td>10</td>\n",
       "    </tr>\n",
       "    <tr>\n",
       "      <th>5998</th>\n",
       "      <td>1499</td>\n",
       "      <td>11</td>\n",
       "    </tr>\n",
       "    <tr>\n",
       "      <th>5999</th>\n",
       "      <td>1499</td>\n",
       "      <td>12</td>\n",
       "    </tr>\n",
       "  </tbody>\n",
       "</table>\n",
       "<p>6000 rows × 2 columns</p>\n",
       "</div>"
      ],
      "text/plain": [
       "     user_id month\n",
       "0       1000     1\n",
       "1       1000     2\n",
       "2       1000     3\n",
       "3       1000     4\n",
       "4       1000     5\n",
       "...      ...   ...\n",
       "5995    1499     8\n",
       "5996    1499     9\n",
       "5997    1499    10\n",
       "5998    1499    11\n",
       "5999    1499    12\n",
       "\n",
       "[6000 rows x 2 columns]"
      ]
     },
     "execution_count": 10,
     "metadata": {},
     "output_type": "execute_result"
    }
   ],
   "source": [
    "df"
   ]
  },
  {
   "cell_type": "markdown",
   "metadata": {},
   "source": [
    "### Слияние таблиц"
   ]
  },
  {
   "cell_type": "code",
   "execution_count": 11,
   "metadata": {},
   "outputs": [],
   "source": [
    "df = pd.merge(df, users[['user_id', 'city', 'tariff']], on = 'user_id', how = 'outer')\n",
    "df = pd.merge(df, calls, left_on = ['user_id', 'month'], right_on = ['user_id', 'call_date'], how = 'outer')\n",
    "df = pd.merge(df, messages, left_on = ['user_id', 'month'], right_on = ['user_id', 'message_date'], how = 'outer')\n",
    "df = pd.merge(df, internet, left_on = ['user_id', 'month'], right_on = ['user_id', 'session_date'], how = 'outer')\n",
    "df = pd.merge(df, tariffs, left_on = 'tariff', right_on = 'tariff_name', how = 'outer')"
   ]
  },
  {
   "cell_type": "code",
   "execution_count": 12,
   "metadata": {
    "scrolled": false
   },
   "outputs": [
    {
     "data": {
      "text/html": [
       "<div>\n",
       "<style scoped>\n",
       "    .dataframe tbody tr th:only-of-type {\n",
       "        vertical-align: middle;\n",
       "    }\n",
       "\n",
       "    .dataframe tbody tr th {\n",
       "        vertical-align: top;\n",
       "    }\n",
       "\n",
       "    .dataframe thead th {\n",
       "        text-align: right;\n",
       "    }\n",
       "</style>\n",
       "<table border=\"1\" class=\"dataframe\">\n",
       "  <thead>\n",
       "    <tr style=\"text-align: right;\">\n",
       "      <th></th>\n",
       "      <th>user_id</th>\n",
       "      <th>month</th>\n",
       "      <th>city</th>\n",
       "      <th>tariff</th>\n",
       "      <th>(count, duration)</th>\n",
       "      <th>(sum, duration)</th>\n",
       "      <th>id_messages</th>\n",
       "      <th>mb_used</th>\n",
       "      <th>messages_included</th>\n",
       "      <th>mb_per_month_included</th>\n",
       "      <th>minutes_included</th>\n",
       "      <th>rub_monthly_fee</th>\n",
       "      <th>rub_per_gb</th>\n",
       "      <th>rub_per_message</th>\n",
       "      <th>rub_per_minute</th>\n",
       "      <th>tariff_name</th>\n",
       "    </tr>\n",
       "  </thead>\n",
       "  <tbody>\n",
       "    <tr>\n",
       "      <th>0</th>\n",
       "      <td>1000</td>\n",
       "      <td>1</td>\n",
       "      <td>Краснодар</td>\n",
       "      <td>ultra</td>\n",
       "      <td>NaN</td>\n",
       "      <td>NaN</td>\n",
       "      <td>NaN</td>\n",
       "      <td>NaN</td>\n",
       "      <td>1000</td>\n",
       "      <td>30720</td>\n",
       "      <td>3000</td>\n",
       "      <td>1950</td>\n",
       "      <td>150</td>\n",
       "      <td>1</td>\n",
       "      <td>1</td>\n",
       "      <td>ultra</td>\n",
       "    </tr>\n",
       "    <tr>\n",
       "      <th>1</th>\n",
       "      <td>1000</td>\n",
       "      <td>2</td>\n",
       "      <td>Краснодар</td>\n",
       "      <td>ultra</td>\n",
       "      <td>NaN</td>\n",
       "      <td>NaN</td>\n",
       "      <td>NaN</td>\n",
       "      <td>NaN</td>\n",
       "      <td>1000</td>\n",
       "      <td>30720</td>\n",
       "      <td>3000</td>\n",
       "      <td>1950</td>\n",
       "      <td>150</td>\n",
       "      <td>1</td>\n",
       "      <td>1</td>\n",
       "      <td>ultra</td>\n",
       "    </tr>\n",
       "    <tr>\n",
       "      <th>2</th>\n",
       "      <td>1000</td>\n",
       "      <td>3</td>\n",
       "      <td>Краснодар</td>\n",
       "      <td>ultra</td>\n",
       "      <td>NaN</td>\n",
       "      <td>NaN</td>\n",
       "      <td>NaN</td>\n",
       "      <td>NaN</td>\n",
       "      <td>1000</td>\n",
       "      <td>30720</td>\n",
       "      <td>3000</td>\n",
       "      <td>1950</td>\n",
       "      <td>150</td>\n",
       "      <td>1</td>\n",
       "      <td>1</td>\n",
       "      <td>ultra</td>\n",
       "    </tr>\n",
       "    <tr>\n",
       "      <th>3</th>\n",
       "      <td>1000</td>\n",
       "      <td>4</td>\n",
       "      <td>Краснодар</td>\n",
       "      <td>ultra</td>\n",
       "      <td>NaN</td>\n",
       "      <td>NaN</td>\n",
       "      <td>NaN</td>\n",
       "      <td>NaN</td>\n",
       "      <td>1000</td>\n",
       "      <td>30720</td>\n",
       "      <td>3000</td>\n",
       "      <td>1950</td>\n",
       "      <td>150</td>\n",
       "      <td>1</td>\n",
       "      <td>1</td>\n",
       "      <td>ultra</td>\n",
       "    </tr>\n",
       "    <tr>\n",
       "      <th>4</th>\n",
       "      <td>1000</td>\n",
       "      <td>5</td>\n",
       "      <td>Краснодар</td>\n",
       "      <td>ultra</td>\n",
       "      <td>22.0</td>\n",
       "      <td>159.0</td>\n",
       "      <td>22.0</td>\n",
       "      <td>2256.0</td>\n",
       "      <td>1000</td>\n",
       "      <td>30720</td>\n",
       "      <td>3000</td>\n",
       "      <td>1950</td>\n",
       "      <td>150</td>\n",
       "      <td>1</td>\n",
       "      <td>1</td>\n",
       "      <td>ultra</td>\n",
       "    </tr>\n",
       "    <tr>\n",
       "      <th>...</th>\n",
       "      <td>...</td>\n",
       "      <td>...</td>\n",
       "      <td>...</td>\n",
       "      <td>...</td>\n",
       "      <td>...</td>\n",
       "      <td>...</td>\n",
       "      <td>...</td>\n",
       "      <td>...</td>\n",
       "      <td>...</td>\n",
       "      <td>...</td>\n",
       "      <td>...</td>\n",
       "      <td>...</td>\n",
       "      <td>...</td>\n",
       "      <td>...</td>\n",
       "      <td>...</td>\n",
       "      <td>...</td>\n",
       "    </tr>\n",
       "    <tr>\n",
       "      <th>5995</th>\n",
       "      <td>1499</td>\n",
       "      <td>8</td>\n",
       "      <td>Пермь</td>\n",
       "      <td>smart</td>\n",
       "      <td>NaN</td>\n",
       "      <td>NaN</td>\n",
       "      <td>NaN</td>\n",
       "      <td>NaN</td>\n",
       "      <td>50</td>\n",
       "      <td>15360</td>\n",
       "      <td>500</td>\n",
       "      <td>550</td>\n",
       "      <td>200</td>\n",
       "      <td>3</td>\n",
       "      <td>3</td>\n",
       "      <td>smart</td>\n",
       "    </tr>\n",
       "    <tr>\n",
       "      <th>5996</th>\n",
       "      <td>1499</td>\n",
       "      <td>9</td>\n",
       "      <td>Пермь</td>\n",
       "      <td>smart</td>\n",
       "      <td>9.0</td>\n",
       "      <td>70.0</td>\n",
       "      <td>11.0</td>\n",
       "      <td>1848.0</td>\n",
       "      <td>50</td>\n",
       "      <td>15360</td>\n",
       "      <td>500</td>\n",
       "      <td>550</td>\n",
       "      <td>200</td>\n",
       "      <td>3</td>\n",
       "      <td>3</td>\n",
       "      <td>smart</td>\n",
       "    </tr>\n",
       "    <tr>\n",
       "      <th>5997</th>\n",
       "      <td>1499</td>\n",
       "      <td>10</td>\n",
       "      <td>Пермь</td>\n",
       "      <td>smart</td>\n",
       "      <td>68.0</td>\n",
       "      <td>449.0</td>\n",
       "      <td>48.0</td>\n",
       "      <td>17809.0</td>\n",
       "      <td>50</td>\n",
       "      <td>15360</td>\n",
       "      <td>500</td>\n",
       "      <td>550</td>\n",
       "      <td>200</td>\n",
       "      <td>3</td>\n",
       "      <td>3</td>\n",
       "      <td>smart</td>\n",
       "    </tr>\n",
       "    <tr>\n",
       "      <th>5998</th>\n",
       "      <td>1499</td>\n",
       "      <td>11</td>\n",
       "      <td>Пермь</td>\n",
       "      <td>smart</td>\n",
       "      <td>74.0</td>\n",
       "      <td>612.0</td>\n",
       "      <td>59.0</td>\n",
       "      <td>17984.0</td>\n",
       "      <td>50</td>\n",
       "      <td>15360</td>\n",
       "      <td>500</td>\n",
       "      <td>550</td>\n",
       "      <td>200</td>\n",
       "      <td>3</td>\n",
       "      <td>3</td>\n",
       "      <td>smart</td>\n",
       "    </tr>\n",
       "    <tr>\n",
       "      <th>5999</th>\n",
       "      <td>1499</td>\n",
       "      <td>12</td>\n",
       "      <td>Пермь</td>\n",
       "      <td>smart</td>\n",
       "      <td>69.0</td>\n",
       "      <td>492.0</td>\n",
       "      <td>66.0</td>\n",
       "      <td>13077.0</td>\n",
       "      <td>50</td>\n",
       "      <td>15360</td>\n",
       "      <td>500</td>\n",
       "      <td>550</td>\n",
       "      <td>200</td>\n",
       "      <td>3</td>\n",
       "      <td>3</td>\n",
       "      <td>smart</td>\n",
       "    </tr>\n",
       "  </tbody>\n",
       "</table>\n",
       "<p>6000 rows × 16 columns</p>\n",
       "</div>"
      ],
      "text/plain": [
       "     user_id month       city tariff  (count, duration)  (sum, duration)  \\\n",
       "0       1000     1  Краснодар  ultra                NaN              NaN   \n",
       "1       1000     2  Краснодар  ultra                NaN              NaN   \n",
       "2       1000     3  Краснодар  ultra                NaN              NaN   \n",
       "3       1000     4  Краснодар  ultra                NaN              NaN   \n",
       "4       1000     5  Краснодар  ultra               22.0            159.0   \n",
       "...      ...   ...        ...    ...                ...              ...   \n",
       "5995    1499     8      Пермь  smart                NaN              NaN   \n",
       "5996    1499     9      Пермь  smart                9.0             70.0   \n",
       "5997    1499    10      Пермь  smart               68.0            449.0   \n",
       "5998    1499    11      Пермь  smart               74.0            612.0   \n",
       "5999    1499    12      Пермь  smart               69.0            492.0   \n",
       "\n",
       "      id_messages  mb_used  messages_included  mb_per_month_included  \\\n",
       "0             NaN      NaN               1000                  30720   \n",
       "1             NaN      NaN               1000                  30720   \n",
       "2             NaN      NaN               1000                  30720   \n",
       "3             NaN      NaN               1000                  30720   \n",
       "4            22.0   2256.0               1000                  30720   \n",
       "...           ...      ...                ...                    ...   \n",
       "5995          NaN      NaN                 50                  15360   \n",
       "5996         11.0   1848.0                 50                  15360   \n",
       "5997         48.0  17809.0                 50                  15360   \n",
       "5998         59.0  17984.0                 50                  15360   \n",
       "5999         66.0  13077.0                 50                  15360   \n",
       "\n",
       "      minutes_included  rub_monthly_fee  rub_per_gb  rub_per_message  \\\n",
       "0                 3000             1950         150                1   \n",
       "1                 3000             1950         150                1   \n",
       "2                 3000             1950         150                1   \n",
       "3                 3000             1950         150                1   \n",
       "4                 3000             1950         150                1   \n",
       "...                ...              ...         ...              ...   \n",
       "5995               500              550         200                3   \n",
       "5996               500              550         200                3   \n",
       "5997               500              550         200                3   \n",
       "5998               500              550         200                3   \n",
       "5999               500              550         200                3   \n",
       "\n",
       "      rub_per_minute tariff_name  \n",
       "0                  1       ultra  \n",
       "1                  1       ultra  \n",
       "2                  1       ultra  \n",
       "3                  1       ultra  \n",
       "4                  1       ultra  \n",
       "...              ...         ...  \n",
       "5995               3       smart  \n",
       "5996               3       smart  \n",
       "5997               3       smart  \n",
       "5998               3       smart  \n",
       "5999               3       smart  \n",
       "\n",
       "[6000 rows x 16 columns]"
      ]
     },
     "execution_count": 12,
     "metadata": {},
     "output_type": "execute_result"
    }
   ],
   "source": [
    "df"
   ]
  },
  {
   "cell_type": "markdown",
   "metadata": {},
   "source": [
    "- Можно было использовать левое соединение, но поставив внешнее соединение мы проверили что нет значений пар пользователь - месяц, кроме тех которые мы указали в первых столбцах (количество строк не превысило изначальное количество в 6000).\n",
    "- Это доказывает что мы учли все возможные варианты и не потеряли данные."
   ]
  },
  {
   "cell_type": "markdown",
   "metadata": {},
   "source": [
    "### Знакомство с данными и первичная обработка"
   ]
  },
  {
   "cell_type": "markdown",
   "metadata": {},
   "source": [
    "- Переименуем столбцы, затем удалим строки где клиенты вообще не пользовались ни одним видом связи, удалим лишние столбцы."
   ]
  },
  {
   "cell_type": "code",
   "execution_count": 13,
   "metadata": {},
   "outputs": [],
   "source": [
    "df.rename(columns = {('count', 'duration') : 'number_of_calls', ('sum', 'duration') : 'duration', \n",
    "                      'id_messages' : 'number_of_messages'}, inplace = True)\n",
    "\n",
    "df.dropna(axis = 0, subset = ['number_of_calls', 'duration', 'number_of_messages', 'mb_used'],\n",
    "                       how = 'all', inplace = True)\n",
    "df.reset_index(inplace = True)\n",
    "\n",
    "df.drop(columns = ['tariff_name', 'index'], inplace = True)"
   ]
  },
  {
   "cell_type": "code",
   "execution_count": 14,
   "metadata": {
    "scrolled": true
   },
   "outputs": [
    {
     "data": {
      "text/html": [
       "<div>\n",
       "<style scoped>\n",
       "    .dataframe tbody tr th:only-of-type {\n",
       "        vertical-align: middle;\n",
       "    }\n",
       "\n",
       "    .dataframe tbody tr th {\n",
       "        vertical-align: top;\n",
       "    }\n",
       "\n",
       "    .dataframe thead th {\n",
       "        text-align: right;\n",
       "    }\n",
       "</style>\n",
       "<table border=\"1\" class=\"dataframe\">\n",
       "  <thead>\n",
       "    <tr style=\"text-align: right;\">\n",
       "      <th></th>\n",
       "      <th>user_id</th>\n",
       "      <th>month</th>\n",
       "      <th>city</th>\n",
       "      <th>tariff</th>\n",
       "      <th>number_of_calls</th>\n",
       "      <th>duration</th>\n",
       "      <th>number_of_messages</th>\n",
       "      <th>mb_used</th>\n",
       "      <th>messages_included</th>\n",
       "      <th>mb_per_month_included</th>\n",
       "      <th>minutes_included</th>\n",
       "      <th>rub_monthly_fee</th>\n",
       "      <th>rub_per_gb</th>\n",
       "      <th>rub_per_message</th>\n",
       "      <th>rub_per_minute</th>\n",
       "    </tr>\n",
       "  </thead>\n",
       "  <tbody>\n",
       "    <tr>\n",
       "      <th>0</th>\n",
       "      <td>1000</td>\n",
       "      <td>5</td>\n",
       "      <td>Краснодар</td>\n",
       "      <td>ultra</td>\n",
       "      <td>22.0</td>\n",
       "      <td>159.0</td>\n",
       "      <td>22.0</td>\n",
       "      <td>2256.0</td>\n",
       "      <td>1000</td>\n",
       "      <td>30720</td>\n",
       "      <td>3000</td>\n",
       "      <td>1950</td>\n",
       "      <td>150</td>\n",
       "      <td>1</td>\n",
       "      <td>1</td>\n",
       "    </tr>\n",
       "    <tr>\n",
       "      <th>1</th>\n",
       "      <td>1000</td>\n",
       "      <td>6</td>\n",
       "      <td>Краснодар</td>\n",
       "      <td>ultra</td>\n",
       "      <td>43.0</td>\n",
       "      <td>172.0</td>\n",
       "      <td>60.0</td>\n",
       "      <td>23257.0</td>\n",
       "      <td>1000</td>\n",
       "      <td>30720</td>\n",
       "      <td>3000</td>\n",
       "      <td>1950</td>\n",
       "      <td>150</td>\n",
       "      <td>1</td>\n",
       "      <td>1</td>\n",
       "    </tr>\n",
       "    <tr>\n",
       "      <th>2</th>\n",
       "      <td>1000</td>\n",
       "      <td>7</td>\n",
       "      <td>Краснодар</td>\n",
       "      <td>ultra</td>\n",
       "      <td>47.0</td>\n",
       "      <td>340.0</td>\n",
       "      <td>75.0</td>\n",
       "      <td>14016.0</td>\n",
       "      <td>1000</td>\n",
       "      <td>30720</td>\n",
       "      <td>3000</td>\n",
       "      <td>1950</td>\n",
       "      <td>150</td>\n",
       "      <td>1</td>\n",
       "      <td>1</td>\n",
       "    </tr>\n",
       "    <tr>\n",
       "      <th>3</th>\n",
       "      <td>1000</td>\n",
       "      <td>8</td>\n",
       "      <td>Краснодар</td>\n",
       "      <td>ultra</td>\n",
       "      <td>52.0</td>\n",
       "      <td>408.0</td>\n",
       "      <td>81.0</td>\n",
       "      <td>14070.0</td>\n",
       "      <td>1000</td>\n",
       "      <td>30720</td>\n",
       "      <td>3000</td>\n",
       "      <td>1950</td>\n",
       "      <td>150</td>\n",
       "      <td>1</td>\n",
       "      <td>1</td>\n",
       "    </tr>\n",
       "    <tr>\n",
       "      <th>4</th>\n",
       "      <td>1000</td>\n",
       "      <td>9</td>\n",
       "      <td>Краснодар</td>\n",
       "      <td>ultra</td>\n",
       "      <td>58.0</td>\n",
       "      <td>466.0</td>\n",
       "      <td>57.0</td>\n",
       "      <td>14581.0</td>\n",
       "      <td>1000</td>\n",
       "      <td>30720</td>\n",
       "      <td>3000</td>\n",
       "      <td>1950</td>\n",
       "      <td>150</td>\n",
       "      <td>1</td>\n",
       "      <td>1</td>\n",
       "    </tr>\n",
       "    <tr>\n",
       "      <th>...</th>\n",
       "      <td>...</td>\n",
       "      <td>...</td>\n",
       "      <td>...</td>\n",
       "      <td>...</td>\n",
       "      <td>...</td>\n",
       "      <td>...</td>\n",
       "      <td>...</td>\n",
       "      <td>...</td>\n",
       "      <td>...</td>\n",
       "      <td>...</td>\n",
       "      <td>...</td>\n",
       "      <td>...</td>\n",
       "      <td>...</td>\n",
       "      <td>...</td>\n",
       "      <td>...</td>\n",
       "    </tr>\n",
       "    <tr>\n",
       "      <th>3209</th>\n",
       "      <td>1498</td>\n",
       "      <td>10</td>\n",
       "      <td>Владикавказ</td>\n",
       "      <td>smart</td>\n",
       "      <td>41.0</td>\n",
       "      <td>247.0</td>\n",
       "      <td>42.0</td>\n",
       "      <td>20604.0</td>\n",
       "      <td>50</td>\n",
       "      <td>15360</td>\n",
       "      <td>500</td>\n",
       "      <td>550</td>\n",
       "      <td>200</td>\n",
       "      <td>3</td>\n",
       "      <td>3</td>\n",
       "    </tr>\n",
       "    <tr>\n",
       "      <th>3210</th>\n",
       "      <td>1499</td>\n",
       "      <td>9</td>\n",
       "      <td>Пермь</td>\n",
       "      <td>smart</td>\n",
       "      <td>9.0</td>\n",
       "      <td>70.0</td>\n",
       "      <td>11.0</td>\n",
       "      <td>1848.0</td>\n",
       "      <td>50</td>\n",
       "      <td>15360</td>\n",
       "      <td>500</td>\n",
       "      <td>550</td>\n",
       "      <td>200</td>\n",
       "      <td>3</td>\n",
       "      <td>3</td>\n",
       "    </tr>\n",
       "    <tr>\n",
       "      <th>3211</th>\n",
       "      <td>1499</td>\n",
       "      <td>10</td>\n",
       "      <td>Пермь</td>\n",
       "      <td>smart</td>\n",
       "      <td>68.0</td>\n",
       "      <td>449.0</td>\n",
       "      <td>48.0</td>\n",
       "      <td>17809.0</td>\n",
       "      <td>50</td>\n",
       "      <td>15360</td>\n",
       "      <td>500</td>\n",
       "      <td>550</td>\n",
       "      <td>200</td>\n",
       "      <td>3</td>\n",
       "      <td>3</td>\n",
       "    </tr>\n",
       "    <tr>\n",
       "      <th>3212</th>\n",
       "      <td>1499</td>\n",
       "      <td>11</td>\n",
       "      <td>Пермь</td>\n",
       "      <td>smart</td>\n",
       "      <td>74.0</td>\n",
       "      <td>612.0</td>\n",
       "      <td>59.0</td>\n",
       "      <td>17984.0</td>\n",
       "      <td>50</td>\n",
       "      <td>15360</td>\n",
       "      <td>500</td>\n",
       "      <td>550</td>\n",
       "      <td>200</td>\n",
       "      <td>3</td>\n",
       "      <td>3</td>\n",
       "    </tr>\n",
       "    <tr>\n",
       "      <th>3213</th>\n",
       "      <td>1499</td>\n",
       "      <td>12</td>\n",
       "      <td>Пермь</td>\n",
       "      <td>smart</td>\n",
       "      <td>69.0</td>\n",
       "      <td>492.0</td>\n",
       "      <td>66.0</td>\n",
       "      <td>13077.0</td>\n",
       "      <td>50</td>\n",
       "      <td>15360</td>\n",
       "      <td>500</td>\n",
       "      <td>550</td>\n",
       "      <td>200</td>\n",
       "      <td>3</td>\n",
       "      <td>3</td>\n",
       "    </tr>\n",
       "  </tbody>\n",
       "</table>\n",
       "<p>3214 rows × 15 columns</p>\n",
       "</div>"
      ],
      "text/plain": [
       "     user_id month         city tariff  number_of_calls  duration  \\\n",
       "0       1000     5    Краснодар  ultra             22.0     159.0   \n",
       "1       1000     6    Краснодар  ultra             43.0     172.0   \n",
       "2       1000     7    Краснодар  ultra             47.0     340.0   \n",
       "3       1000     8    Краснодар  ultra             52.0     408.0   \n",
       "4       1000     9    Краснодар  ultra             58.0     466.0   \n",
       "...      ...   ...          ...    ...              ...       ...   \n",
       "3209    1498    10  Владикавказ  smart             41.0     247.0   \n",
       "3210    1499     9        Пермь  smart              9.0      70.0   \n",
       "3211    1499    10        Пермь  smart             68.0     449.0   \n",
       "3212    1499    11        Пермь  smart             74.0     612.0   \n",
       "3213    1499    12        Пермь  smart             69.0     492.0   \n",
       "\n",
       "      number_of_messages  mb_used  messages_included  mb_per_month_included  \\\n",
       "0                   22.0   2256.0               1000                  30720   \n",
       "1                   60.0  23257.0               1000                  30720   \n",
       "2                   75.0  14016.0               1000                  30720   \n",
       "3                   81.0  14070.0               1000                  30720   \n",
       "4                   57.0  14581.0               1000                  30720   \n",
       "...                  ...      ...                ...                    ...   \n",
       "3209                42.0  20604.0                 50                  15360   \n",
       "3210                11.0   1848.0                 50                  15360   \n",
       "3211                48.0  17809.0                 50                  15360   \n",
       "3212                59.0  17984.0                 50                  15360   \n",
       "3213                66.0  13077.0                 50                  15360   \n",
       "\n",
       "      minutes_included  rub_monthly_fee  rub_per_gb  rub_per_message  \\\n",
       "0                 3000             1950         150                1   \n",
       "1                 3000             1950         150                1   \n",
       "2                 3000             1950         150                1   \n",
       "3                 3000             1950         150                1   \n",
       "4                 3000             1950         150                1   \n",
       "...                ...              ...         ...              ...   \n",
       "3209               500              550         200                3   \n",
       "3210               500              550         200                3   \n",
       "3211               500              550         200                3   \n",
       "3212               500              550         200                3   \n",
       "3213               500              550         200                3   \n",
       "\n",
       "      rub_per_minute  \n",
       "0                  1  \n",
       "1                  1  \n",
       "2                  1  \n",
       "3                  1  \n",
       "4                  1  \n",
       "...              ...  \n",
       "3209               3  \n",
       "3210               3  \n",
       "3211               3  \n",
       "3212               3  \n",
       "3213               3  \n",
       "\n",
       "[3214 rows x 15 columns]"
      ]
     },
     "execution_count": 14,
     "metadata": {},
     "output_type": "execute_result"
    }
   ],
   "source": [
    "df"
   ]
  },
  {
   "cell_type": "markdown",
   "metadata": {},
   "source": [
    "- Отлично, остались только строки с месяцами где действительно было использование связи."
   ]
  },
  {
   "cell_type": "markdown",
   "metadata": {},
   "source": [
    "Для каждого пользователя нам понадобится:\n",
    " - помесячная выручка с каждого пользователя (вычтем бесплатный лимит из суммарного количества звонков, сообщений и интернет-трафика; остаток умножим на значение из тарифного плана; прибавим абонентскую плату, соответствующую тарифному плану)."
   ]
  },
  {
   "cell_type": "code",
   "execution_count": 15,
   "metadata": {},
   "outputs": [],
   "source": [
    "# расчитаем выручку за месяц\n",
    "\n",
    "def revenue(row):\n",
    "          \n",
    "    sum = row['rub_monthly_fee']\n",
    "        \n",
    "    if (row['duration'] - row['minutes_included']) > 0:\n",
    "        sum += (row['duration'] - row['minutes_included']) * row['rub_per_minute']\n",
    "            \n",
    "    if (row['number_of_messages'] - row['messages_included']) > 0:\n",
    "        sum += (row['number_of_messages'] - row['messages_included']) * row['rub_per_message']\n",
    "            \n",
    "    if (row['mb_used'] - row['mb_per_month_included']) > 0:\n",
    "        sum += (row['mb_used'] - row['mb_per_month_included']) / 1024 * row['rub_per_gb']\n",
    "            \n",
    "    return sum\n",
    "        \n",
    "df['revenue'] = df.apply(revenue, axis = 1)  "
   ]
  },
  {
   "cell_type": "code",
   "execution_count": 16,
   "metadata": {},
   "outputs": [
    {
     "data": {
      "text/html": [
       "<div>\n",
       "<style scoped>\n",
       "    .dataframe tbody tr th:only-of-type {\n",
       "        vertical-align: middle;\n",
       "    }\n",
       "\n",
       "    .dataframe tbody tr th {\n",
       "        vertical-align: top;\n",
       "    }\n",
       "\n",
       "    .dataframe thead th {\n",
       "        text-align: right;\n",
       "    }\n",
       "</style>\n",
       "<table border=\"1\" class=\"dataframe\">\n",
       "  <thead>\n",
       "    <tr style=\"text-align: right;\">\n",
       "      <th></th>\n",
       "      <th>user_id</th>\n",
       "      <th>month</th>\n",
       "      <th>city</th>\n",
       "      <th>tariff</th>\n",
       "      <th>number_of_calls</th>\n",
       "      <th>duration</th>\n",
       "      <th>number_of_messages</th>\n",
       "      <th>mb_used</th>\n",
       "      <th>messages_included</th>\n",
       "      <th>mb_per_month_included</th>\n",
       "      <th>minutes_included</th>\n",
       "      <th>rub_monthly_fee</th>\n",
       "      <th>rub_per_gb</th>\n",
       "      <th>rub_per_message</th>\n",
       "      <th>rub_per_minute</th>\n",
       "      <th>revenue</th>\n",
       "    </tr>\n",
       "  </thead>\n",
       "  <tbody>\n",
       "    <tr>\n",
       "      <th>0</th>\n",
       "      <td>1000</td>\n",
       "      <td>5</td>\n",
       "      <td>Краснодар</td>\n",
       "      <td>ultra</td>\n",
       "      <td>22.0</td>\n",
       "      <td>159.0</td>\n",
       "      <td>22.0</td>\n",
       "      <td>2256.0</td>\n",
       "      <td>1000</td>\n",
       "      <td>30720</td>\n",
       "      <td>3000</td>\n",
       "      <td>1950</td>\n",
       "      <td>150</td>\n",
       "      <td>1</td>\n",
       "      <td>1</td>\n",
       "      <td>1950.000000</td>\n",
       "    </tr>\n",
       "    <tr>\n",
       "      <th>1</th>\n",
       "      <td>1000</td>\n",
       "      <td>6</td>\n",
       "      <td>Краснодар</td>\n",
       "      <td>ultra</td>\n",
       "      <td>43.0</td>\n",
       "      <td>172.0</td>\n",
       "      <td>60.0</td>\n",
       "      <td>23257.0</td>\n",
       "      <td>1000</td>\n",
       "      <td>30720</td>\n",
       "      <td>3000</td>\n",
       "      <td>1950</td>\n",
       "      <td>150</td>\n",
       "      <td>1</td>\n",
       "      <td>1</td>\n",
       "      <td>1950.000000</td>\n",
       "    </tr>\n",
       "    <tr>\n",
       "      <th>2</th>\n",
       "      <td>1000</td>\n",
       "      <td>7</td>\n",
       "      <td>Краснодар</td>\n",
       "      <td>ultra</td>\n",
       "      <td>47.0</td>\n",
       "      <td>340.0</td>\n",
       "      <td>75.0</td>\n",
       "      <td>14016.0</td>\n",
       "      <td>1000</td>\n",
       "      <td>30720</td>\n",
       "      <td>3000</td>\n",
       "      <td>1950</td>\n",
       "      <td>150</td>\n",
       "      <td>1</td>\n",
       "      <td>1</td>\n",
       "      <td>1950.000000</td>\n",
       "    </tr>\n",
       "    <tr>\n",
       "      <th>3</th>\n",
       "      <td>1000</td>\n",
       "      <td>8</td>\n",
       "      <td>Краснодар</td>\n",
       "      <td>ultra</td>\n",
       "      <td>52.0</td>\n",
       "      <td>408.0</td>\n",
       "      <td>81.0</td>\n",
       "      <td>14070.0</td>\n",
       "      <td>1000</td>\n",
       "      <td>30720</td>\n",
       "      <td>3000</td>\n",
       "      <td>1950</td>\n",
       "      <td>150</td>\n",
       "      <td>1</td>\n",
       "      <td>1</td>\n",
       "      <td>1950.000000</td>\n",
       "    </tr>\n",
       "    <tr>\n",
       "      <th>4</th>\n",
       "      <td>1000</td>\n",
       "      <td>9</td>\n",
       "      <td>Краснодар</td>\n",
       "      <td>ultra</td>\n",
       "      <td>58.0</td>\n",
       "      <td>466.0</td>\n",
       "      <td>57.0</td>\n",
       "      <td>14581.0</td>\n",
       "      <td>1000</td>\n",
       "      <td>30720</td>\n",
       "      <td>3000</td>\n",
       "      <td>1950</td>\n",
       "      <td>150</td>\n",
       "      <td>1</td>\n",
       "      <td>1</td>\n",
       "      <td>1950.000000</td>\n",
       "    </tr>\n",
       "    <tr>\n",
       "      <th>...</th>\n",
       "      <td>...</td>\n",
       "      <td>...</td>\n",
       "      <td>...</td>\n",
       "      <td>...</td>\n",
       "      <td>...</td>\n",
       "      <td>...</td>\n",
       "      <td>...</td>\n",
       "      <td>...</td>\n",
       "      <td>...</td>\n",
       "      <td>...</td>\n",
       "      <td>...</td>\n",
       "      <td>...</td>\n",
       "      <td>...</td>\n",
       "      <td>...</td>\n",
       "      <td>...</td>\n",
       "      <td>...</td>\n",
       "    </tr>\n",
       "    <tr>\n",
       "      <th>3209</th>\n",
       "      <td>1498</td>\n",
       "      <td>10</td>\n",
       "      <td>Владикавказ</td>\n",
       "      <td>smart</td>\n",
       "      <td>41.0</td>\n",
       "      <td>247.0</td>\n",
       "      <td>42.0</td>\n",
       "      <td>20604.0</td>\n",
       "      <td>50</td>\n",
       "      <td>15360</td>\n",
       "      <td>500</td>\n",
       "      <td>550</td>\n",
       "      <td>200</td>\n",
       "      <td>3</td>\n",
       "      <td>3</td>\n",
       "      <td>1574.218750</td>\n",
       "    </tr>\n",
       "    <tr>\n",
       "      <th>3210</th>\n",
       "      <td>1499</td>\n",
       "      <td>9</td>\n",
       "      <td>Пермь</td>\n",
       "      <td>smart</td>\n",
       "      <td>9.0</td>\n",
       "      <td>70.0</td>\n",
       "      <td>11.0</td>\n",
       "      <td>1848.0</td>\n",
       "      <td>50</td>\n",
       "      <td>15360</td>\n",
       "      <td>500</td>\n",
       "      <td>550</td>\n",
       "      <td>200</td>\n",
       "      <td>3</td>\n",
       "      <td>3</td>\n",
       "      <td>550.000000</td>\n",
       "    </tr>\n",
       "    <tr>\n",
       "      <th>3211</th>\n",
       "      <td>1499</td>\n",
       "      <td>10</td>\n",
       "      <td>Пермь</td>\n",
       "      <td>smart</td>\n",
       "      <td>68.0</td>\n",
       "      <td>449.0</td>\n",
       "      <td>48.0</td>\n",
       "      <td>17809.0</td>\n",
       "      <td>50</td>\n",
       "      <td>15360</td>\n",
       "      <td>500</td>\n",
       "      <td>550</td>\n",
       "      <td>200</td>\n",
       "      <td>3</td>\n",
       "      <td>3</td>\n",
       "      <td>1028.320312</td>\n",
       "    </tr>\n",
       "    <tr>\n",
       "      <th>3212</th>\n",
       "      <td>1499</td>\n",
       "      <td>11</td>\n",
       "      <td>Пермь</td>\n",
       "      <td>smart</td>\n",
       "      <td>74.0</td>\n",
       "      <td>612.0</td>\n",
       "      <td>59.0</td>\n",
       "      <td>17984.0</td>\n",
       "      <td>50</td>\n",
       "      <td>15360</td>\n",
       "      <td>500</td>\n",
       "      <td>550</td>\n",
       "      <td>200</td>\n",
       "      <td>3</td>\n",
       "      <td>3</td>\n",
       "      <td>1425.500000</td>\n",
       "    </tr>\n",
       "    <tr>\n",
       "      <th>3213</th>\n",
       "      <td>1499</td>\n",
       "      <td>12</td>\n",
       "      <td>Пермь</td>\n",
       "      <td>smart</td>\n",
       "      <td>69.0</td>\n",
       "      <td>492.0</td>\n",
       "      <td>66.0</td>\n",
       "      <td>13077.0</td>\n",
       "      <td>50</td>\n",
       "      <td>15360</td>\n",
       "      <td>500</td>\n",
       "      <td>550</td>\n",
       "      <td>200</td>\n",
       "      <td>3</td>\n",
       "      <td>3</td>\n",
       "      <td>598.000000</td>\n",
       "    </tr>\n",
       "  </tbody>\n",
       "</table>\n",
       "<p>3214 rows × 16 columns</p>\n",
       "</div>"
      ],
      "text/plain": [
       "     user_id month         city tariff  number_of_calls  duration  \\\n",
       "0       1000     5    Краснодар  ultra             22.0     159.0   \n",
       "1       1000     6    Краснодар  ultra             43.0     172.0   \n",
       "2       1000     7    Краснодар  ultra             47.0     340.0   \n",
       "3       1000     8    Краснодар  ultra             52.0     408.0   \n",
       "4       1000     9    Краснодар  ultra             58.0     466.0   \n",
       "...      ...   ...          ...    ...              ...       ...   \n",
       "3209    1498    10  Владикавказ  smart             41.0     247.0   \n",
       "3210    1499     9        Пермь  smart              9.0      70.0   \n",
       "3211    1499    10        Пермь  smart             68.0     449.0   \n",
       "3212    1499    11        Пермь  smart             74.0     612.0   \n",
       "3213    1499    12        Пермь  smart             69.0     492.0   \n",
       "\n",
       "      number_of_messages  mb_used  messages_included  mb_per_month_included  \\\n",
       "0                   22.0   2256.0               1000                  30720   \n",
       "1                   60.0  23257.0               1000                  30720   \n",
       "2                   75.0  14016.0               1000                  30720   \n",
       "3                   81.0  14070.0               1000                  30720   \n",
       "4                   57.0  14581.0               1000                  30720   \n",
       "...                  ...      ...                ...                    ...   \n",
       "3209                42.0  20604.0                 50                  15360   \n",
       "3210                11.0   1848.0                 50                  15360   \n",
       "3211                48.0  17809.0                 50                  15360   \n",
       "3212                59.0  17984.0                 50                  15360   \n",
       "3213                66.0  13077.0                 50                  15360   \n",
       "\n",
       "      minutes_included  rub_monthly_fee  rub_per_gb  rub_per_message  \\\n",
       "0                 3000             1950         150                1   \n",
       "1                 3000             1950         150                1   \n",
       "2                 3000             1950         150                1   \n",
       "3                 3000             1950         150                1   \n",
       "4                 3000             1950         150                1   \n",
       "...                ...              ...         ...              ...   \n",
       "3209               500              550         200                3   \n",
       "3210               500              550         200                3   \n",
       "3211               500              550         200                3   \n",
       "3212               500              550         200                3   \n",
       "3213               500              550         200                3   \n",
       "\n",
       "      rub_per_minute      revenue  \n",
       "0                  1  1950.000000  \n",
       "1                  1  1950.000000  \n",
       "2                  1  1950.000000  \n",
       "3                  1  1950.000000  \n",
       "4                  1  1950.000000  \n",
       "...              ...          ...  \n",
       "3209               3  1574.218750  \n",
       "3210               3   550.000000  \n",
       "3211               3  1028.320312  \n",
       "3212               3  1425.500000  \n",
       "3213               3   598.000000  \n",
       "\n",
       "[3214 rows x 16 columns]"
      ]
     },
     "execution_count": 16,
     "metadata": {},
     "output_type": "execute_result"
    }
   ],
   "source": [
    "df"
   ]
  },
  {
   "cell_type": "code",
   "execution_count": 17,
   "metadata": {},
   "outputs": [
    {
     "name": "stdout",
     "output_type": "stream",
     "text": [
      "<class 'pandas.core.frame.DataFrame'>\n",
      "RangeIndex: 3214 entries, 0 to 3213\n",
      "Data columns (total 16 columns):\n",
      " #   Column                 Non-Null Count  Dtype  \n",
      "---  ------                 --------------  -----  \n",
      " 0   user_id                3214 non-null   object \n",
      " 1   month                  3214 non-null   object \n",
      " 2   city                   3214 non-null   object \n",
      " 3   tariff                 3214 non-null   object \n",
      " 4   number_of_calls        3174 non-null   float64\n",
      " 5   duration               3174 non-null   float64\n",
      " 6   number_of_messages     2717 non-null   float64\n",
      " 7   mb_used                3203 non-null   float64\n",
      " 8   messages_included      3214 non-null   int64  \n",
      " 9   mb_per_month_included  3214 non-null   int64  \n",
      " 10  minutes_included       3214 non-null   int64  \n",
      " 11  rub_monthly_fee        3214 non-null   int64  \n",
      " 12  rub_per_gb             3214 non-null   int64  \n",
      " 13  rub_per_message        3214 non-null   int64  \n",
      " 14  rub_per_minute         3214 non-null   int64  \n",
      " 15  revenue                3214 non-null   float64\n",
      "dtypes: float64(5), int64(7), object(4)\n",
      "memory usage: 1.0 MB\n"
     ]
    }
   ],
   "source": [
    "df.info(memory_usage = 'deep')"
   ]
  },
  {
   "cell_type": "markdown",
   "metadata": {},
   "source": [
    "- Как видно из таблицы, чеще всего клиенты пользуются трафиком + звонками и в последнюю очередь сообщениями.\n",
    "- Таблица довольно легкая, поэтому заниматься изменением типов не будем."
   ]
  },
  {
   "cell_type": "code",
   "execution_count": 18,
   "metadata": {},
   "outputs": [
    {
     "data": {
      "text/html": [
       "<div>\n",
       "<style scoped>\n",
       "    .dataframe tbody tr th:only-of-type {\n",
       "        vertical-align: middle;\n",
       "    }\n",
       "\n",
       "    .dataframe tbody tr th {\n",
       "        vertical-align: top;\n",
       "    }\n",
       "\n",
       "    .dataframe thead th {\n",
       "        text-align: right;\n",
       "    }\n",
       "</style>\n",
       "<table border=\"1\" class=\"dataframe\">\n",
       "  <thead>\n",
       "    <tr style=\"text-align: right;\">\n",
       "      <th></th>\n",
       "      <th>count</th>\n",
       "      <th>mean</th>\n",
       "      <th>std</th>\n",
       "      <th>min</th>\n",
       "      <th>25%</th>\n",
       "      <th>50%</th>\n",
       "      <th>75%</th>\n",
       "      <th>max</th>\n",
       "    </tr>\n",
       "  </thead>\n",
       "  <tbody>\n",
       "    <tr>\n",
       "      <th>number_of_calls</th>\n",
       "      <td>3174.0</td>\n",
       "      <td>63.8</td>\n",
       "      <td>32.7</td>\n",
       "      <td>1.0</td>\n",
       "      <td>41.0</td>\n",
       "      <td>63.0</td>\n",
       "      <td>83.0</td>\n",
       "      <td>244.0</td>\n",
       "    </tr>\n",
       "    <tr>\n",
       "      <th>duration</th>\n",
       "      <td>3174.0</td>\n",
       "      <td>456.9</td>\n",
       "      <td>238.0</td>\n",
       "      <td>0.0</td>\n",
       "      <td>290.0</td>\n",
       "      <td>447.0</td>\n",
       "      <td>592.0</td>\n",
       "      <td>1673.0</td>\n",
       "    </tr>\n",
       "    <tr>\n",
       "      <th>number_of_messages</th>\n",
       "      <td>2717.0</td>\n",
       "      <td>45.3</td>\n",
       "      <td>35.1</td>\n",
       "      <td>1.0</td>\n",
       "      <td>19.0</td>\n",
       "      <td>38.0</td>\n",
       "      <td>63.0</td>\n",
       "      <td>224.0</td>\n",
       "    </tr>\n",
       "    <tr>\n",
       "      <th>mb_used</th>\n",
       "      <td>3203.0</td>\n",
       "      <td>17286.7</td>\n",
       "      <td>7523.6</td>\n",
       "      <td>0.0</td>\n",
       "      <td>12543.0</td>\n",
       "      <td>16985.0</td>\n",
       "      <td>21455.5</td>\n",
       "      <td>49789.0</td>\n",
       "    </tr>\n",
       "    <tr>\n",
       "      <th>messages_included</th>\n",
       "      <td>3214.0</td>\n",
       "      <td>341.1</td>\n",
       "      <td>438.0</td>\n",
       "      <td>50.0</td>\n",
       "      <td>50.0</td>\n",
       "      <td>50.0</td>\n",
       "      <td>1000.0</td>\n",
       "      <td>1000.0</td>\n",
       "    </tr>\n",
       "    <tr>\n",
       "      <th>mb_per_month_included</th>\n",
       "      <td>3214.0</td>\n",
       "      <td>20067.4</td>\n",
       "      <td>7082.5</td>\n",
       "      <td>15360.0</td>\n",
       "      <td>15360.0</td>\n",
       "      <td>15360.0</td>\n",
       "      <td>30720.0</td>\n",
       "      <td>30720.0</td>\n",
       "    </tr>\n",
       "    <tr>\n",
       "      <th>minutes_included</th>\n",
       "      <td>3214.0</td>\n",
       "      <td>1266.2</td>\n",
       "      <td>1152.7</td>\n",
       "      <td>500.0</td>\n",
       "      <td>500.0</td>\n",
       "      <td>500.0</td>\n",
       "      <td>3000.0</td>\n",
       "      <td>3000.0</td>\n",
       "    </tr>\n",
       "    <tr>\n",
       "      <th>rub_monthly_fee</th>\n",
       "      <td>3214.0</td>\n",
       "      <td>979.1</td>\n",
       "      <td>645.5</td>\n",
       "      <td>550.0</td>\n",
       "      <td>550.0</td>\n",
       "      <td>550.0</td>\n",
       "      <td>1950.0</td>\n",
       "      <td>1950.0</td>\n",
       "    </tr>\n",
       "    <tr>\n",
       "      <th>rub_per_gb</th>\n",
       "      <td>3214.0</td>\n",
       "      <td>184.7</td>\n",
       "      <td>23.1</td>\n",
       "      <td>150.0</td>\n",
       "      <td>150.0</td>\n",
       "      <td>200.0</td>\n",
       "      <td>200.0</td>\n",
       "      <td>200.0</td>\n",
       "    </tr>\n",
       "    <tr>\n",
       "      <th>rub_per_message</th>\n",
       "      <td>3214.0</td>\n",
       "      <td>2.4</td>\n",
       "      <td>0.9</td>\n",
       "      <td>1.0</td>\n",
       "      <td>1.0</td>\n",
       "      <td>3.0</td>\n",
       "      <td>3.0</td>\n",
       "      <td>3.0</td>\n",
       "    </tr>\n",
       "    <tr>\n",
       "      <th>rub_per_minute</th>\n",
       "      <td>3214.0</td>\n",
       "      <td>2.4</td>\n",
       "      <td>0.9</td>\n",
       "      <td>1.0</td>\n",
       "      <td>1.0</td>\n",
       "      <td>3.0</td>\n",
       "      <td>3.0</td>\n",
       "      <td>3.0</td>\n",
       "    </tr>\n",
       "    <tr>\n",
       "      <th>revenue</th>\n",
       "      <td>3214.0</td>\n",
       "      <td>1486.9</td>\n",
       "      <td>784.0</td>\n",
       "      <td>550.0</td>\n",
       "      <td>694.0</td>\n",
       "      <td>1563.2</td>\n",
       "      <td>1950.0</td>\n",
       "      <td>6711.0</td>\n",
       "    </tr>\n",
       "  </tbody>\n",
       "</table>\n",
       "</div>"
      ],
      "text/plain": [
       "                        count     mean     std      min      25%      50%  \\\n",
       "number_of_calls        3174.0     63.8    32.7      1.0     41.0     63.0   \n",
       "duration               3174.0    456.9   238.0      0.0    290.0    447.0   \n",
       "number_of_messages     2717.0     45.3    35.1      1.0     19.0     38.0   \n",
       "mb_used                3203.0  17286.7  7523.6      0.0  12543.0  16985.0   \n",
       "messages_included      3214.0    341.1   438.0     50.0     50.0     50.0   \n",
       "mb_per_month_included  3214.0  20067.4  7082.5  15360.0  15360.0  15360.0   \n",
       "minutes_included       3214.0   1266.2  1152.7    500.0    500.0    500.0   \n",
       "rub_monthly_fee        3214.0    979.1   645.5    550.0    550.0    550.0   \n",
       "rub_per_gb             3214.0    184.7    23.1    150.0    150.0    200.0   \n",
       "rub_per_message        3214.0      2.4     0.9      1.0      1.0      3.0   \n",
       "rub_per_minute         3214.0      2.4     0.9      1.0      1.0      3.0   \n",
       "revenue                3214.0   1486.9   784.0    550.0    694.0   1563.2   \n",
       "\n",
       "                           75%      max  \n",
       "number_of_calls           83.0    244.0  \n",
       "duration                 592.0   1673.0  \n",
       "number_of_messages        63.0    224.0  \n",
       "mb_used                21455.5  49789.0  \n",
       "messages_included       1000.0   1000.0  \n",
       "mb_per_month_included  30720.0  30720.0  \n",
       "minutes_included        3000.0   3000.0  \n",
       "rub_monthly_fee         1950.0   1950.0  \n",
       "rub_per_gb               200.0    200.0  \n",
       "rub_per_message            3.0      3.0  \n",
       "rub_per_minute             3.0      3.0  \n",
       "revenue                 1950.0   6711.0  "
      ]
     },
     "execution_count": 18,
     "metadata": {},
     "output_type": "execute_result"
    }
   ],
   "source": [
    "df.describe().T.round(1)"
   ]
  },
  {
   "cell_type": "markdown",
   "metadata": {},
   "source": [
    "- Среднее и медианное значение звонков в месяц около 63.\n",
    "- Продолжительность около 450 минут.\n",
    "- По числу сообщений есть заметное смещение средней в большую сторону от медианы (38 и 45).\n",
    "- Среднее и медианное значение трафика в месяц около 17 000Мб."
   ]
  },
  {
   "cell_type": "code",
   "execution_count": 19,
   "metadata": {},
   "outputs": [
    {
     "name": "stdout",
     "output_type": "stream",
     "text": [
      "Доля нулевых звонков: 0.002 \n",
      "Отсутствия сообщений: 0.0 \n",
      "Нулевого трафика: 0.001\n"
     ]
    }
   ],
   "source": [
    "# посчитаем нулевые значения продолжительности разговора, сообщений и трафика\n",
    "\n",
    "duration_isnull = df[df['duration'] == 0] ['duration'].isnull().count()\n",
    "\n",
    "message_isnull = df[df['number_of_messages'] == 0] ['number_of_messages'].isnull().count()\n",
    "\n",
    "mb_used_isnull = df[df['mb_used'] == 0] ['mb_used'].isnull().count()\n",
    "\n",
    "print('Доля нулевых звонков: {} \\nОтсутствия сообщений: {} \\nНулевого трафика: {}'\n",
    "      .format((duration_isnull / len(df)).round(3), (message_isnull / len(df)).round(3), (mb_used_isnull / len(df)).round(3)))"
   ]
  },
  {
   "cell_type": "markdown",
   "metadata": {},
   "source": [
    "- Доли нулевых звонков и трафика очень малы, а сообщения пишут всегда.\n",
    "- Не будем удалять такие строки, влияние на выборку не столь сильно, а вот информацию сохраним."
   ]
  },
  {
   "cell_type": "code",
   "execution_count": 20,
   "metadata": {},
   "outputs": [
    {
     "data": {
      "text/html": [
       "<div>\n",
       "<style scoped>\n",
       "    .dataframe tbody tr th:only-of-type {\n",
       "        vertical-align: middle;\n",
       "    }\n",
       "\n",
       "    .dataframe tbody tr th {\n",
       "        vertical-align: top;\n",
       "    }\n",
       "\n",
       "    .dataframe thead th {\n",
       "        text-align: right;\n",
       "    }\n",
       "</style>\n",
       "<table border=\"1\" class=\"dataframe\">\n",
       "  <thead>\n",
       "    <tr style=\"text-align: right;\">\n",
       "      <th></th>\n",
       "      <th>user_id</th>\n",
       "      <th>month</th>\n",
       "      <th>number_of_calls</th>\n",
       "      <th>duration</th>\n",
       "      <th>number_of_messages</th>\n",
       "      <th>mb_used</th>\n",
       "    </tr>\n",
       "  </thead>\n",
       "  <tbody>\n",
       "    <tr>\n",
       "      <th>8</th>\n",
       "      <td>1003</td>\n",
       "      <td>8</td>\n",
       "      <td>55.0</td>\n",
       "      <td>380.0</td>\n",
       "      <td>37.0</td>\n",
       "      <td>8571.0</td>\n",
       "    </tr>\n",
       "    <tr>\n",
       "      <th>9</th>\n",
       "      <td>1003</td>\n",
       "      <td>9</td>\n",
       "      <td>134.0</td>\n",
       "      <td>961.0</td>\n",
       "      <td>91.0</td>\n",
       "      <td>12479.0</td>\n",
       "    </tr>\n",
       "    <tr>\n",
       "      <th>10</th>\n",
       "      <td>1003</td>\n",
       "      <td>10</td>\n",
       "      <td>108.0</td>\n",
       "      <td>855.0</td>\n",
       "      <td>83.0</td>\n",
       "      <td>14779.0</td>\n",
       "    </tr>\n",
       "    <tr>\n",
       "      <th>11</th>\n",
       "      <td>1003</td>\n",
       "      <td>11</td>\n",
       "      <td>115.0</td>\n",
       "      <td>824.0</td>\n",
       "      <td>94.0</td>\n",
       "      <td>11368.0</td>\n",
       "    </tr>\n",
       "    <tr>\n",
       "      <th>12</th>\n",
       "      <td>1003</td>\n",
       "      <td>12</td>\n",
       "      <td>108.0</td>\n",
       "      <td>802.0</td>\n",
       "      <td>75.0</td>\n",
       "      <td>10132.0</td>\n",
       "    </tr>\n",
       "  </tbody>\n",
       "</table>\n",
       "</div>"
      ],
      "text/plain": [
       "   user_id month  number_of_calls  duration  number_of_messages  mb_used\n",
       "8     1003     8             55.0     380.0                37.0   8571.0\n",
       "9     1003     9            134.0     961.0                91.0  12479.0\n",
       "10    1003    10            108.0     855.0                83.0  14779.0\n",
       "11    1003    11            115.0     824.0                94.0  11368.0\n",
       "12    1003    12            108.0     802.0                75.0  10132.0"
      ]
     },
     "execution_count": 20,
     "metadata": {},
     "output_type": "execute_result"
    }
   ],
   "source": [
    "df[df['user_id']==1003][['user_id', 'month', 'number_of_calls', 'duration', \n",
    "                                                   'number_of_messages', 'mb_used']]"
   ]
  },
  {
   "cell_type": "markdown",
   "metadata": {},
   "source": [
    "## Анализ данных"
   ]
  },
  {
   "cell_type": "markdown",
   "metadata": {},
   "source": [
    "### Графики сравнения тарифов"
   ]
  },
  {
   "cell_type": "code",
   "execution_count": 21,
   "metadata": {},
   "outputs": [
    {
     "data": {
      "image/png": "[encoded data removed]",
      "text/plain": [
       "<Figure size 1152x504 with 1 Axes>"
      ]
     },
     "metadata": {
      "needs_background": "light"
     },
     "output_type": "display_data"
    }
   ],
   "source": [
    "# сколько минут разговора, сообщений и трафика требуется пользователям каждого тарифа в месяц?\n",
    "\n",
    "tariff_ultra = df.query('tariff == \"ultra\"').groupby('month') ['duration'].mean()\n",
    "tariff_ultra = tariff_ultra.reset_index()\n",
    "tariff_smart = df.query('tariff == \"smart\"').groupby('month') ['duration'].mean()\n",
    "tariff_smart = tariff_smart.reset_index()\n",
    "\n",
    "ax = tariff_ultra.plot(kind = 'bar', x = 'month', grid = True, alpha = 0.5, color = '#30bfaf',\n",
    "                  figsize = (16, 7));\n",
    "tariff_smart.plot(kind = 'bar', x = 'month', grid = True, alpha = 0.5, color = '#ac30bf',\n",
    "                  figsize = (16, 7), title = \"tariff's_mean_duration\", ax = ax);"
   ]
  },
  {
   "cell_type": "markdown",
   "metadata": {},
   "source": [
    "- январь и ферваль не самые активные месяцы для общения\n",
    "- тариф ультра (салатовый) располагает к разговору больше во все время кроме февраля \n",
    "- именно в февраль клиенты общаются на обоих тарифах одинаково"
   ]
  },
  {
   "cell_type": "code",
   "execution_count": 22,
   "metadata": {},
   "outputs": [
    {
     "data": {
      "image/png": "[encoded data removed]",
      "text/plain": [
       "<Figure size 1152x504 with 1 Axes>"
      ]
     },
     "metadata": {
      "needs_background": "light"
     },
     "output_type": "display_data"
    }
   ],
   "source": [
    "tariff_ultra = df.query('tariff == \"ultra\"').groupby('month') ['number_of_messages'].mean()\n",
    "tariff_ultra = tariff_ultra.reset_index()\n",
    "tariff_smart = df.query('tariff == \"smart\"').groupby('month') ['number_of_messages'].mean()\n",
    "tariff_smart = tariff_smart.reset_index()\n",
    "\n",
    "ax = tariff_ultra.plot(kind = 'bar', x = 'month', grid = True, alpha = 0.5, color = '#30bfaf',\n",
    "                  figsize = (16, 7));\n",
    "tariff_smart.plot(kind = 'bar', x = 'month', grid = True, alpha = 0.5, color = '#ac30bf',\n",
    "                  figsize = (16, 7), title = \"tariff's_mean_number_of_messages\", ax = ax);"
   ]
  },
  {
   "cell_type": "markdown",
   "metadata": {},
   "source": [
    "- по числу сообщений тариф ультра (салатовый) тоже обходит смарт\n",
    "- от начала года к концу число сообщений в среднем растет, но тариф смарт (фиолетовый) к маю достигает своего пика около 40 сообщений\n",
    "- в феврале тарифы по сообщениям ведут себя по разному, ультра падает, смарт растет"
   ]
  },
  {
   "cell_type": "code",
   "execution_count": 23,
   "metadata": {},
   "outputs": [
    {
     "data": {
      "image/png": "[encoded data removed]",
      "text/plain": [
       "<Figure size 1152x504 with 1 Axes>"
      ]
     },
     "metadata": {
      "needs_background": "light"
     },
     "output_type": "display_data"
    }
   ],
   "source": [
    "tariff_ultra = df.query('tariff == \"ultra\"').groupby('month') ['mb_used'].mean()\n",
    "tariff_ultra = tariff_ultra.reset_index()\n",
    "tariff_smart = df.query('tariff == \"smart\"').groupby('month') ['mb_used'].mean()\n",
    "tariff_smart = tariff_smart.reset_index()\n",
    "\n",
    "ax = tariff_ultra.plot(kind = 'bar', x = 'month', grid = True, alpha = 0.5, color = '#30bfaf',\n",
    "                  figsize = (16, 7));\n",
    "tariff_smart.plot(kind = 'bar', x = 'month', grid = True, alpha = 0.5, color = '#ac30bf',\n",
    "                  figsize = (16, 7), title = \"tariff's_mean_mb_used\", ax = ax);"
   ]
  },
  {
   "cell_type": "markdown",
   "metadata": {},
   "source": [
    "- ультра (салатовый) лидирует и в использовании трафика\n",
    "- в январе и феврале трафик расходуется не столь активно, к маю выходит на плато, а декабрь это самый активный месяц"
   ]
  },
  {
   "cell_type": "code",
   "execution_count": 24,
   "metadata": {},
   "outputs": [
    {
     "data": {
      "text/html": [
       "<div>\n",
       "<style scoped>\n",
       "    .dataframe tbody tr th:only-of-type {\n",
       "        vertical-align: middle;\n",
       "    }\n",
       "\n",
       "    .dataframe tbody tr th {\n",
       "        vertical-align: top;\n",
       "    }\n",
       "\n",
       "    .dataframe thead th {\n",
       "        text-align: right;\n",
       "    }\n",
       "</style>\n",
       "<table border=\"1\" class=\"dataframe\">\n",
       "  <thead>\n",
       "    <tr style=\"text-align: right;\">\n",
       "      <th></th>\n",
       "      <th>duration</th>\n",
       "      <th>number_of_messages</th>\n",
       "      <th>mb_used</th>\n",
       "    </tr>\n",
       "    <tr>\n",
       "      <th>tariff</th>\n",
       "      <th></th>\n",
       "      <th></th>\n",
       "      <th></th>\n",
       "    </tr>\n",
       "  </thead>\n",
       "  <tbody>\n",
       "    <tr>\n",
       "      <th>smart</th>\n",
       "      <td>419.1</td>\n",
       "      <td>38.7</td>\n",
       "      <td>16236.5</td>\n",
       "    </tr>\n",
       "    <tr>\n",
       "      <th>ultra</th>\n",
       "      <td>545.5</td>\n",
       "      <td>61.2</td>\n",
       "      <td>19686.8</td>\n",
       "    </tr>\n",
       "  </tbody>\n",
       "</table>\n",
       "</div>"
      ],
      "text/plain": [
       "        duration  number_of_messages  mb_used\n",
       "tariff                                       \n",
       "smart      419.1                38.7  16236.5\n",
       "ultra      545.5                61.2  19686.8"
      ]
     },
     "execution_count": 24,
     "metadata": {},
     "output_type": "execute_result"
    }
   ],
   "source": [
    "# найдем среднее количество, дисперсию и стандартное отклонение найденых величин\n",
    "\n",
    "mean_for_analysis = df.groupby('tariff') [['duration', 'number_of_messages', 'mb_used']].mean().round(1)\n",
    "mean_for_analysis"
   ]
  },
  {
   "cell_type": "markdown",
   "metadata": {},
   "source": [
    "- пользователи 'ultra' активнее во всем"
   ]
  },
  {
   "cell_type": "code",
   "execution_count": 25,
   "metadata": {},
   "outputs": [
    {
     "data": {
      "text/plain": [
       "duration                 35844\n",
       "number_of_messages         717\n",
       "mb_used               34443100\n",
       "dtype: int32"
      ]
     },
     "execution_count": 25,
     "metadata": {},
     "output_type": "execute_result"
    }
   ],
   "source": [
    "smart = df.query('tariff == \"smart\"')\n",
    "np.var(smart[['duration', 'number_of_messages', 'mb_used']], axis = 0, ddof = 1).astype('int32')"
   ]
  },
  {
   "cell_type": "code",
   "execution_count": 26,
   "metadata": {},
   "outputs": [
    {
     "data": {
      "text/plain": [
       "duration                 94203\n",
       "number_of_messages        2109\n",
       "mb_used               99043439\n",
       "dtype: int32"
      ]
     },
     "execution_count": 26,
     "metadata": {},
     "output_type": "execute_result"
    }
   ],
   "source": [
    "ultra = df.query('tariff == \"ultra\"')\n",
    "np.var(ultra[['duration', 'number_of_messages', 'mb_used']], axis = 0, ddof = 1).astype('int32')"
   ]
  },
  {
   "cell_type": "markdown",
   "metadata": {},
   "source": [
    "- дисперсия в 'ultra' заметно выше\n",
    "- теперь расчитаем стандартное отклонение"
   ]
  },
  {
   "cell_type": "code",
   "execution_count": 27,
   "metadata": {},
   "outputs": [
    {
     "data": {
      "text/plain": [
       "duration               189\n",
       "number_of_messages      26\n",
       "mb_used               5867\n",
       "dtype: int32"
      ]
     },
     "execution_count": 27,
     "metadata": {},
     "output_type": "execute_result"
    }
   ],
   "source": [
    "np.std(smart[['duration', 'number_of_messages', 'mb_used']], axis = 0).astype('int32')"
   ]
  },
  {
   "cell_type": "code",
   "execution_count": 28,
   "metadata": {},
   "outputs": [
    {
     "data": {
      "text/plain": [
       "duration               306\n",
       "number_of_messages      45\n",
       "mb_used               9946\n",
       "dtype: int32"
      ]
     },
     "execution_count": 28,
     "metadata": {},
     "output_type": "execute_result"
    }
   ],
   "source": [
    "np.std(ultra[['duration', 'number_of_messages', 'mb_used']], axis = 0).astype('int32')"
   ]
  },
  {
   "cell_type": "code",
   "execution_count": 29,
   "metadata": {},
   "outputs": [
    {
     "data": {
      "text/html": [
       "<style  type=\"text/css\" >\n",
       "</style><table id=\"T_c3b32fe6_f28c_11eb_a81c_3085a940e838\" ><thead>    <tr>        <th class=\"blank\" ></th>        <th class=\"index_name level0\" >tariff</th>        <th class=\"col_heading level0 col0\" >smart</th>        <th class=\"col_heading level0 col1\" >ultra</th>    </tr></thead><tbody>\n",
       "                <tr>\n",
       "                        <th id=\"T_c3b32fe6_f28c_11eb_a81c_3085a940e838level0_row0\" class=\"row_heading level0 row0\" rowspan=3>mean</th>\n",
       "                        <th id=\"T_c3b32fe6_f28c_11eb_a81c_3085a940e838level1_row0\" class=\"row_heading level1 row0\" >duration</th>\n",
       "                        <td id=\"T_c3b32fe6_f28c_11eb_a81c_3085a940e838row0_col0\" class=\"data row0 col0\" >419.06</td>\n",
       "                        <td id=\"T_c3b32fe6_f28c_11eb_a81c_3085a940e838row0_col1\" class=\"data row0 col1\" >545.45</td>\n",
       "            </tr>\n",
       "            <tr>\n",
       "                                <th id=\"T_c3b32fe6_f28c_11eb_a81c_3085a940e838level1_row1\" class=\"row_heading level1 row1\" >mb_used</th>\n",
       "                        <td id=\"T_c3b32fe6_f28c_11eb_a81c_3085a940e838row1_col0\" class=\"data row1 col0\" >16236.47</td>\n",
       "                        <td id=\"T_c3b32fe6_f28c_11eb_a81c_3085a940e838row1_col1\" class=\"data row1 col1\" >19686.77</td>\n",
       "            </tr>\n",
       "            <tr>\n",
       "                                <th id=\"T_c3b32fe6_f28c_11eb_a81c_3085a940e838level1_row2\" class=\"row_heading level1 row2\" >number_of_messages</th>\n",
       "                        <td id=\"T_c3b32fe6_f28c_11eb_a81c_3085a940e838row2_col0\" class=\"data row2 col0\" >38.72</td>\n",
       "                        <td id=\"T_c3b32fe6_f28c_11eb_a81c_3085a940e838row2_col1\" class=\"data row2 col1\" >61.16</td>\n",
       "            </tr>\n",
       "            <tr>\n",
       "                        <th id=\"T_c3b32fe6_f28c_11eb_a81c_3085a940e838level0_row3\" class=\"row_heading level0 row3\" rowspan=3>std</th>\n",
       "                        <th id=\"T_c3b32fe6_f28c_11eb_a81c_3085a940e838level1_row3\" class=\"row_heading level1 row3\" >duration</th>\n",
       "                        <td id=\"T_c3b32fe6_f28c_11eb_a81c_3085a940e838row3_col0\" class=\"data row3 col0\" >189.33</td>\n",
       "                        <td id=\"T_c3b32fe6_f28c_11eb_a81c_3085a940e838row3_col1\" class=\"data row3 col1\" >306.93</td>\n",
       "            </tr>\n",
       "            <tr>\n",
       "                                <th id=\"T_c3b32fe6_f28c_11eb_a81c_3085a940e838level1_row4\" class=\"row_heading level1 row4\" >mb_used</th>\n",
       "                        <td id=\"T_c3b32fe6_f28c_11eb_a81c_3085a940e838row4_col0\" class=\"data row4 col0\" >5868.82</td>\n",
       "                        <td id=\"T_c3b32fe6_f28c_11eb_a81c_3085a940e838row4_col1\" class=\"data row4 col1\" >9952.06</td>\n",
       "            </tr>\n",
       "            <tr>\n",
       "                                <th id=\"T_c3b32fe6_f28c_11eb_a81c_3085a940e838level1_row5\" class=\"row_heading level1 row5\" >number_of_messages</th>\n",
       "                        <td id=\"T_c3b32fe6_f28c_11eb_a81c_3085a940e838row5_col0\" class=\"data row5 col0\" >26.79</td>\n",
       "                        <td id=\"T_c3b32fe6_f28c_11eb_a81c_3085a940e838row5_col1\" class=\"data row5 col1\" >45.93</td>\n",
       "            </tr>\n",
       "            <tr>\n",
       "                        <th id=\"T_c3b32fe6_f28c_11eb_a81c_3085a940e838level0_row6\" class=\"row_heading level0 row6\" rowspan=3>var</th>\n",
       "                        <th id=\"T_c3b32fe6_f28c_11eb_a81c_3085a940e838level1_row6\" class=\"row_heading level1 row6\" >duration</th>\n",
       "                        <td id=\"T_c3b32fe6_f28c_11eb_a81c_3085a940e838row6_col0\" class=\"data row6 col0\" >35844.19</td>\n",
       "                        <td id=\"T_c3b32fe6_f28c_11eb_a81c_3085a940e838row6_col1\" class=\"data row6 col1\" >94203.42</td>\n",
       "            </tr>\n",
       "            <tr>\n",
       "                                <th id=\"T_c3b32fe6_f28c_11eb_a81c_3085a940e838level1_row7\" class=\"row_heading level1 row7\" >mb_used</th>\n",
       "                        <td id=\"T_c3b32fe6_f28c_11eb_a81c_3085a940e838row7_col0\" class=\"data row7 col0\" >34443100.68</td>\n",
       "                        <td id=\"T_c3b32fe6_f28c_11eb_a81c_3085a940e838row7_col1\" class=\"data row7 col1\" >99043439.61</td>\n",
       "            </tr>\n",
       "            <tr>\n",
       "                                <th id=\"T_c3b32fe6_f28c_11eb_a81c_3085a940e838level1_row8\" class=\"row_heading level1 row8\" >number_of_messages</th>\n",
       "                        <td id=\"T_c3b32fe6_f28c_11eb_a81c_3085a940e838row8_col0\" class=\"data row8 col0\" >717.59</td>\n",
       "                        <td id=\"T_c3b32fe6_f28c_11eb_a81c_3085a940e838row8_col1\" class=\"data row8 col1\" >2109.66</td>\n",
       "            </tr>\n",
       "    </tbody></table>"
      ],
      "text/plain": [
       "<pandas.io.formats.style.Styler at 0x7386985d48>"
      ]
     },
     "execution_count": 29,
     "metadata": {},
     "output_type": "execute_result"
    }
   ],
   "source": [
    "df.pivot_table(index='tariff',  \n",
    "                 values=['duration', 'number_of_messages', 'mb_used'], \n",
    "                 aggfunc=['mean', 'std', 'var']).T.style.format('{:.2f}')"
   ]
  },
  {
   "cell_type": "code",
   "execution_count": 30,
   "metadata": {},
   "outputs": [
    {
     "data": {
      "text/html": [
       "<style  type=\"text/css\" >\n",
       "</style><table id=\"T_c3c84218_f28c_11eb_8abb_3085a940e838\" ><thead>    <tr>        <th class=\"blank\" ></th>        <th class=\"index_name level0\" >tariff</th>        <th class=\"col_heading level0 col0\" >smart</th>        <th class=\"col_heading level0 col1\" >ultra</th>    </tr></thead><tbody>\n",
       "                <tr>\n",
       "                        <th id=\"T_c3c84218_f28c_11eb_8abb_3085a940e838level0_row0\" class=\"row_heading level0 row0\" rowspan=3>duration</th>\n",
       "                        <th id=\"T_c3c84218_f28c_11eb_8abb_3085a940e838level1_row0\" class=\"row_heading level1 row0\" ><lambda_0></th>\n",
       "                        <td id=\"T_c3c84218_f28c_11eb_8abb_3085a940e838row0_col0\" class=\"data row0 col0\" >419.06</td>\n",
       "                        <td id=\"T_c3c84218_f28c_11eb_8abb_3085a940e838row0_col1\" class=\"data row0 col1\" >545.45</td>\n",
       "            </tr>\n",
       "            <tr>\n",
       "                                <th id=\"T_c3c84218_f28c_11eb_8abb_3085a940e838level1_row1\" class=\"row_heading level1 row1\" ><lambda_1></th>\n",
       "                        <td id=\"T_c3c84218_f28c_11eb_8abb_3085a940e838row1_col0\" class=\"data row1 col0\" >189.33</td>\n",
       "                        <td id=\"T_c3c84218_f28c_11eb_8abb_3085a940e838row1_col1\" class=\"data row1 col1\" >306.93</td>\n",
       "            </tr>\n",
       "            <tr>\n",
       "                                <th id=\"T_c3c84218_f28c_11eb_8abb_3085a940e838level1_row2\" class=\"row_heading level1 row2\" ><lambda_2></th>\n",
       "                        <td id=\"T_c3c84218_f28c_11eb_8abb_3085a940e838row2_col0\" class=\"data row2 col0\" >35844.19</td>\n",
       "                        <td id=\"T_c3c84218_f28c_11eb_8abb_3085a940e838row2_col1\" class=\"data row2 col1\" >94203.42</td>\n",
       "            </tr>\n",
       "            <tr>\n",
       "                        <th id=\"T_c3c84218_f28c_11eb_8abb_3085a940e838level0_row3\" class=\"row_heading level0 row3\" rowspan=3>mb_used</th>\n",
       "                        <th id=\"T_c3c84218_f28c_11eb_8abb_3085a940e838level1_row3\" class=\"row_heading level1 row3\" ><lambda_0></th>\n",
       "                        <td id=\"T_c3c84218_f28c_11eb_8abb_3085a940e838row3_col0\" class=\"data row3 col0\" >16236.47</td>\n",
       "                        <td id=\"T_c3c84218_f28c_11eb_8abb_3085a940e838row3_col1\" class=\"data row3 col1\" >19686.77</td>\n",
       "            </tr>\n",
       "            <tr>\n",
       "                                <th id=\"T_c3c84218_f28c_11eb_8abb_3085a940e838level1_row4\" class=\"row_heading level1 row4\" ><lambda_1></th>\n",
       "                        <td id=\"T_c3c84218_f28c_11eb_8abb_3085a940e838row4_col0\" class=\"data row4 col0\" >5868.82</td>\n",
       "                        <td id=\"T_c3c84218_f28c_11eb_8abb_3085a940e838row4_col1\" class=\"data row4 col1\" >9952.06</td>\n",
       "            </tr>\n",
       "            <tr>\n",
       "                                <th id=\"T_c3c84218_f28c_11eb_8abb_3085a940e838level1_row5\" class=\"row_heading level1 row5\" ><lambda_2></th>\n",
       "                        <td id=\"T_c3c84218_f28c_11eb_8abb_3085a940e838row5_col0\" class=\"data row5 col0\" >34443100.68</td>\n",
       "                        <td id=\"T_c3c84218_f28c_11eb_8abb_3085a940e838row5_col1\" class=\"data row5 col1\" >99043439.61</td>\n",
       "            </tr>\n",
       "            <tr>\n",
       "                        <th id=\"T_c3c84218_f28c_11eb_8abb_3085a940e838level0_row6\" class=\"row_heading level0 row6\" rowspan=3>number_of_messages</th>\n",
       "                        <th id=\"T_c3c84218_f28c_11eb_8abb_3085a940e838level1_row6\" class=\"row_heading level1 row6\" ><lambda_0></th>\n",
       "                        <td id=\"T_c3c84218_f28c_11eb_8abb_3085a940e838row6_col0\" class=\"data row6 col0\" >38.72</td>\n",
       "                        <td id=\"T_c3c84218_f28c_11eb_8abb_3085a940e838row6_col1\" class=\"data row6 col1\" >61.16</td>\n",
       "            </tr>\n",
       "            <tr>\n",
       "                                <th id=\"T_c3c84218_f28c_11eb_8abb_3085a940e838level1_row7\" class=\"row_heading level1 row7\" ><lambda_1></th>\n",
       "                        <td id=\"T_c3c84218_f28c_11eb_8abb_3085a940e838row7_col0\" class=\"data row7 col0\" >26.79</td>\n",
       "                        <td id=\"T_c3c84218_f28c_11eb_8abb_3085a940e838row7_col1\" class=\"data row7 col1\" >45.93</td>\n",
       "            </tr>\n",
       "            <tr>\n",
       "                                <th id=\"T_c3c84218_f28c_11eb_8abb_3085a940e838level1_row8\" class=\"row_heading level1 row8\" ><lambda_2></th>\n",
       "                        <td id=\"T_c3c84218_f28c_11eb_8abb_3085a940e838row8_col0\" class=\"data row8 col0\" >717.59</td>\n",
       "                        <td id=\"T_c3c84218_f28c_11eb_8abb_3085a940e838row8_col1\" class=\"data row8 col1\" >2109.66</td>\n",
       "            </tr>\n",
       "    </tbody></table>"
      ],
      "text/plain": [
       "<pandas.io.formats.style.Styler at 0x7386c42e88>"
      ]
     },
     "execution_count": 30,
     "metadata": {},
     "output_type": "execute_result"
    }
   ],
   "source": [
    "my_func = lambda x: np.mean(x), lambda x: np.std(x, ddof=1), lambda x: np.var(x, ddof=1)\n",
    "\n",
    "df.pivot_table(index='tariff',  \n",
    "                 values=['duration', 'number_of_messages', 'mb_used'], \n",
    "                 aggfunc=my_func).T.style.format('{:.2f}')"
   ]
  },
  {
   "cell_type": "markdown",
   "metadata": {},
   "source": [
    "- стандартное отклонение зависит от дисперсии, поэтому в 'ultra' оно тоже больше"
   ]
  },
  {
   "cell_type": "code",
   "execution_count": 31,
   "metadata": {},
   "outputs": [
    {
     "data": {
      "image/png": "[encoded data removed]",
      "text/plain": [
       "<Figure size 1152x504 with 1 Axes>"
      ]
     },
     "metadata": {
      "needs_background": "light"
     },
     "output_type": "display_data"
    }
   ],
   "source": [
    "ax = smart['duration'].plot(bins = 25, kind = 'hist', \\\n",
    "                                       figsize = (16, 7), grid = True, alpha = 0.4, color = '#ac30bf', \\\n",
    "                                       legend = True, density = True);\n",
    "\n",
    "ultra['duration'].plot(bins = 25, kind = 'hist', \\\n",
    "                                       figsize = (16, 7), grid = True, alpha = 0.4, color = '#30bfaf', density = True, \\\n",
    "                                       title = \"tariff's_duration_in_minutes\", ax = ax, x = 'duration', \\\n",
    "                                       legend = True);"
   ]
  },
  {
   "cell_type": "markdown",
   "metadata": {},
   "source": [
    "- оба распределения имеют отрицательную скошенность\n",
    "- 'ultra' (салатовый) имеет распределение вида 'плато'\n",
    "- по 'smart' разговаривают чаще около 400 минут, по 'ultra' чаще говорят дольше"
   ]
  },
  {
   "cell_type": "code",
   "execution_count": 32,
   "metadata": {},
   "outputs": [
    {
     "data": {
      "image/png": "[encoded data removed]",
      "text/plain": [
       "<Figure size 1152x504 with 1 Axes>"
      ]
     },
     "metadata": {
      "needs_background": "light"
     },
     "output_type": "display_data"
    }
   ],
   "source": [
    "ax = smart['number_of_messages'].plot(bins = 21, kind = 'hist', \\\n",
    "                                       figsize = (16, 7), grid = True, alpha = 0.4, color = '#ac30bf', legend = True, density = True);\n",
    "\n",
    "ultra['number_of_messages'].plot(bins = 21, kind = 'hist', \\\n",
    "                                       figsize = (16, 7), grid = True, alpha = 0.4, color = '#30bfaf', density = True, \\\n",
    "                                       title = \"tariff's_number_of_messages\", ax = ax, x = 'number_of_messages', legend = True);"
   ]
  },
  {
   "cell_type": "markdown",
   "metadata": {},
   "source": [
    "- оба распределения с обрывом слева\n",
    "- по 'smart' (фиолетовый) сообщения отправляют чаще в меньшем количестве"
   ]
  },
  {
   "cell_type": "code",
   "execution_count": 33,
   "metadata": {},
   "outputs": [
    {
     "data": {
      "image/png": "[encoded data removed]",
      "text/plain": [
       "<Figure size 1152x504 with 1 Axes>"
      ]
     },
     "metadata": {
      "needs_background": "light"
     },
     "output_type": "display_data"
    }
   ],
   "source": [
    "ax = smart['mb_used'].plot(bins = 25, kind = 'hist', \\\n",
    "                                       figsize = (16, 7), grid = True, alpha = 0.4, color = '#ac30bf',\\\n",
    "                                       legend = True, density = True);\n",
    "\n",
    "ultra['mb_used'].plot(bins = 25, kind = 'hist', \\\n",
    "                                       figsize = (16, 7), grid = True, alpha = 0.4, color = '#30bfaf', \\\n",
    "                                       title = \"tariff's_mb_used\", ax = ax, x = 'mb_used', legend = True, density = True);"
   ]
  },
  {
   "cell_type": "markdown",
   "metadata": {},
   "source": [
    "- здесь оба распределения с небольшой скошенностью слева, и в 'ultra' (салатовый) чаще используют много и мало трафика\n",
    "- тариф 'smart' (фиолетовый) имеет распределение более собранное у средних значений"
   ]
  },
  {
   "cell_type": "markdown",
   "metadata": {},
   "source": [
    "## Проверка гипотез"
   ]
  },
  {
   "cell_type": "markdown",
   "metadata": {},
   "source": [
    "- за нулевую гипотезу возьмем утверждение о том что средния выручка у тарифов равна\n",
    "- за альтернативную то что она различается статистически значимо"
   ]
  },
  {
   "cell_type": "code",
   "execution_count": 34,
   "metadata": {},
   "outputs": [
    {
     "name": "stdout",
     "output_type": "stream",
     "text": [
      "p-значение: 8.931402711366754e-296 отвергаем нулевую гипотезу.\n",
      "\n",
      " Cредняя выручка на тарифах разная.\n"
     ]
    }
   ],
   "source": [
    "results = st.ttest_ind(smart['revenue'], ultra['revenue'], equal_var = False)\n",
    "alpha = 0.05\n",
    "if results.pvalue <= alpha:\n",
    "    print('p-значение: {} отвергаем нулевую гипотезу.'.format(results.pvalue))\n",
    "    print('\\n Cредняя выручка на тарифах разная.')\n",
    "else:\n",
    "    print('p-значение: {} нельзя отвергнуть нулевую гипотезу.'.format(results.pvalue))\n",
    "    print('\\n Cредняя выручка на тарифах статистически не различима.')"
   ]
  },
  {
   "cell_type": "markdown",
   "metadata": {},
   "source": [
    "- для данной проверки мы использовали метод `ttest_ind` который проверяет равенство средних для двух выборок\n",
    "- дополнительно указав парметр `equal_var = False` мы учли что дисперсия наших выборок разная"
   ]
  },
  {
   "cell_type": "markdown",
   "metadata": {},
   "source": [
    "- теперь проверим гипотезу о том чтосредняя выручка в Москве отлична от других городов\n",
    "- нулевая гипотеза: средняя выручка Москвы не отличается от других городов, альтернативна соответственно наоборот"
   ]
  },
  {
   "cell_type": "code",
   "execution_count": 35,
   "metadata": {},
   "outputs": [
    {
     "name": "stdout",
     "output_type": "stream",
     "text": [
      "p-значение: 0.47443187631524797 нельзя отвергнуть нулевую гипотезу.\n",
      "\n",
      " Cредняя выручка Москвы и других городов статистически не различима.\n"
     ]
    }
   ],
   "source": [
    "results = st.ttest_ind(df.query('city == \"Москва\"') ['revenue'],\n",
    "                       df.query('city != \"Москва\"') ['revenue'])\n",
    "alpha = 0.05\n",
    "\n",
    "if results.pvalue <= alpha:\n",
    "    print('p-значение: {} отвергаем нулевую гипотезу.'.format(results.pvalue))\n",
    "    print('\\n Cредняя выручка Москвы и других городов разная.')\n",
    "else:\n",
    "    print('p-значение: {} нельзя отвергнуть нулевую гипотезу.'.format(results.pvalue))\n",
    "    print('\\n Cредняя выручка Москвы и других городов статистически не различима.')"
   ]
  },
  {
   "cell_type": "markdown",
   "metadata": {},
   "source": [
    "- как видим вероятность ошибки первого рода слишком велика, мы не можем отвергнуть гипотезу о равенстве средних между Москвой и   другими городами"
   ]
  },
  {
   "cell_type": "markdown",
   "metadata": {},
   "source": [
    "- так какой тариф приносит больше выручки?\n",
    "- давайте посмотрим на среднее и медианное значение"
   ]
  },
  {
   "cell_type": "code",
   "execution_count": 36,
   "metadata": {},
   "outputs": [
    {
     "data": {
      "text/html": [
       "<div>\n",
       "<style scoped>\n",
       "    .dataframe tbody tr th:only-of-type {\n",
       "        vertical-align: middle;\n",
       "    }\n",
       "\n",
       "    .dataframe tbody tr th {\n",
       "        vertical-align: top;\n",
       "    }\n",
       "\n",
       "    .dataframe thead tr th {\n",
       "        text-align: left;\n",
       "    }\n",
       "\n",
       "    .dataframe thead tr:last-of-type th {\n",
       "        text-align: right;\n",
       "    }\n",
       "</style>\n",
       "<table border=\"1\" class=\"dataframe\">\n",
       "  <thead>\n",
       "    <tr>\n",
       "      <th></th>\n",
       "      <th>mean</th>\n",
       "      <th>median</th>\n",
       "    </tr>\n",
       "    <tr>\n",
       "      <th></th>\n",
       "      <th>revenue</th>\n",
       "      <th>revenue</th>\n",
       "    </tr>\n",
       "    <tr>\n",
       "      <th>tariff</th>\n",
       "      <th></th>\n",
       "      <th></th>\n",
       "    </tr>\n",
       "  </thead>\n",
       "  <tbody>\n",
       "    <tr>\n",
       "      <th>smart</th>\n",
       "      <td>1233.3</td>\n",
       "      <td>959.9</td>\n",
       "    </tr>\n",
       "    <tr>\n",
       "      <th>ultra</th>\n",
       "      <td>2060.5</td>\n",
       "      <td>1950.0</td>\n",
       "    </tr>\n",
       "  </tbody>\n",
       "</table>\n",
       "</div>"
      ],
      "text/plain": [
       "          mean  median\n",
       "       revenue revenue\n",
       "tariff                \n",
       "smart   1233.3   959.9\n",
       "ultra   2060.5  1950.0"
      ]
     },
     "execution_count": 36,
     "metadata": {},
     "output_type": "execute_result"
    }
   ],
   "source": [
    "df.pivot_table(index = 'tariff', values = 'revenue', aggfunc = ['mean', 'median']).round(1)"
   ]
  },
  {
   "cell_type": "markdown",
   "metadata": {},
   "source": [
    "- `ultra` выгоднее и стабильнее\n",
    "- `smart` имеет пользователей которые сильно двигают среднее вверх, возможно стоит также сосредоточиться на них \n",
    "- а так как разницы между Москвой и регионами по выручке нет, можно запускать рекламу тарифа везде"
   ]
  },
  {
   "cell_type": "markdown",
   "metadata": {},
   "source": [
    "## Общий вывод:"
   ]
  },
  {
   "cell_type": "markdown",
   "metadata": {},
   "source": [
    "Среднее и медианное значение звонков в месяц около **63**.  \n",
    "\n",
    "Продолжительность около **450** минут.  \n",
    "\n",
    "По числу сообщений есть заметное смещение средней в большую сторону от медианы (**38 и 45**).  \n",
    "\n",
    "Среднее и медианное значение трафика в месяц около **17 000**Мб.  \n",
    "\n",
    "Январь и ферваль не самые активные месяцы для общения.  \n",
    "\n",
    "Тариф ультра располагает к разговору больше во все время кроме февраля.  \n",
    "\n",
    "Именно в февраль клиенты общаются голосом на обоих тарифах одинаково.   \n",
    "\n",
    "От начала года к концу число сообщений **в среднем растет**, тариф смарт к маю достигает своего пика около **40** сообщений.   \n",
    "\n",
    "В феврале тарифы по сообщениям **ведут себя по разному**, ультра **падает**, смарт **растет**. \n",
    "\n",
    "В январе и феврале трафик расходуется не столь активно, к маю выходит на плато, а декабрь это самый активный месяц.  \n",
    "\n",
    "Пользователи ультра активнее в сообщениях, трафике, и разговорах.\n",
    "\n",
    "`ultra` **выгоднее** по выручке и **стабильнее**.  \n",
    "\n",
    "`smart` имеет пользователей которые сильно двигают среднее вверх, возможно стоит также сосредоточиться на них.  \n",
    "\n",
    "А так как разницы между Москвой и регионами по выручке нет, можно запускать рекламу тарифа везде."
   ]
  }
 ],
 "metadata": {
  "kernelspec": {
   "display_name": "Python 3",
   "language": "python",
   "name": "python3"
  },
  "language_info": {
   "codemirror_mode": {
    "name": "ipython",
    "version": 3
   },
   "file_extension": ".py",
   "mimetype": "text/x-python",
   "name": "python",
   "nbconvert_exporter": "python",
   "pygments_lexer": "ipython3",
   "version": "3.7.6"
  },
  "toc": {
   "base_numbering": 1,
   "nav_menu": {
    "height": "264px",
    "width": "491px"
   },
   "number_sections": true,
   "sideBar": true,
   "skip_h1_title": true,
   "title_cell": "Содержание",
   "title_sidebar": "Contents",
   "toc_cell": true,
   "toc_position": {
    "height": "calc(100% - 180px)",
    "left": "10px",
    "top": "150px",
    "width": "310.391px"
   },
   "toc_section_display": true,
   "toc_window_display": true
  }
 },
 "nbformat": 4,
 "nbformat_minor": 2
}
