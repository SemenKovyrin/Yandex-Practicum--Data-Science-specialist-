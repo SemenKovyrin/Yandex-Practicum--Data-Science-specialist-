{
 "cells": [
  {
   "cell_type": "markdown",
   "metadata": {},
   "source": [
    "# Выбор локации для скважины"
   ]
  },
  {
   "cell_type": "markdown",
   "metadata": {},
   "source": [
    "Нефтяной компании нужно знать, где выгодно бурить новую скважину.\n",
    "Есть пробы нефти в трёх регионах: в каждом 10 000 месторождений, измерено качество нефти и объём запасов. Построим модель машинного обучения, которая поможет определить регион, где добыча принесёт наибольшую прибыль. Возможную прибыль и риски проверим техникой *Bootstrap.*\n",
    "\n",
    "Шаги для выбора локации:\n",
    "\n",
    "- В избранном регионе ищут месторождения, для каждого определяют значения признаков;\n",
    "- Строят модель и оценивают объём запасов;\n",
    "- Выбирают месторождения с самым высокими оценками значений. Количество месторождений зависит от бюджета компании и стоимости разработки одной скважины;\n",
    "- Прибыль равна суммарной прибыли отобранных месторождений."
   ]
  },
  {
   "cell_type": "markdown",
   "metadata": {},
   "source": [
    "## Описание данных"
   ]
  },
  {
   "cell_type": "markdown",
   "metadata": {},
   "source": [
    "`id` — уникальный идентификатор скважины;  \n",
    "`f0`, `f1`, `f2` — три признака точек (неважно, что они означают, но сами признаки значимы);  \n",
    "`product` — объём запасов в скважине (тыс. баррелей)."
   ]
  },
  {
   "cell_type": "markdown",
   "metadata": {},
   "source": [
    "## Загрузка и подготовка данных"
   ]
  },
  {
   "cell_type": "code",
   "execution_count": 1,
   "metadata": {},
   "outputs": [
    {
     "name": "stdout",
     "output_type": "stream",
     "text": [
      "Defaulting to user installation because normal site-packages is not writeable\n",
      "Collecting seaborn\n",
      "  Downloading seaborn-0.11.1-py3-none-any.whl (285 kB)\n",
      "\u001b[K     |████████████████████████████████| 285 kB 983 kB/s eta 0:00:01\n",
      "\u001b[?25hRequirement already satisfied, skipping upgrade: matplotlib>=2.2 in /opt/conda/lib/python3.7/site-packages (from seaborn) (3.1.0)\n",
      "Requirement already satisfied, skipping upgrade: pandas>=0.23 in /opt/conda/lib/python3.7/site-packages (from seaborn) (0.25.1)\n",
      "Requirement already satisfied, skipping upgrade: scipy>=1.0 in /opt/conda/lib/python3.7/site-packages (from seaborn) (1.4.1)\n",
      "Requirement already satisfied, skipping upgrade: numpy>=1.15 in /opt/conda/lib/python3.7/site-packages (from seaborn) (1.19.5)\n",
      "Requirement already satisfied, skipping upgrade: python-dateutil>=2.1 in /opt/conda/lib/python3.7/site-packages (from matplotlib>=2.2->seaborn) (2.8.1)\n",
      "Requirement already satisfied, skipping upgrade: kiwisolver>=1.0.1 in /opt/conda/lib/python3.7/site-packages (from matplotlib>=2.2->seaborn) (1.3.1)\n",
      "Requirement already satisfied, skipping upgrade: pyparsing!=2.0.4,!=2.1.2,!=2.1.6,>=2.0.1 in /opt/conda/lib/python3.7/site-packages (from matplotlib>=2.2->seaborn) (2.4.7)\n",
      "Requirement already satisfied, skipping upgrade: cycler>=0.10 in /opt/conda/lib/python3.7/site-packages (from matplotlib>=2.2->seaborn) (0.10.0)\n",
      "Requirement already satisfied, skipping upgrade: pytz>=2017.2 in /opt/conda/lib/python3.7/site-packages (from pandas>=0.23->seaborn) (2021.1)\n",
      "Requirement already satisfied, skipping upgrade: six>=1.5 in /opt/conda/lib/python3.7/site-packages (from python-dateutil>=2.1->matplotlib>=2.2->seaborn) (1.15.0)\n",
      "Installing collected packages: seaborn\n",
      "Successfully installed seaborn-0.11.1\n"
     ]
    }
   ],
   "source": [
    "\n",
    "import numpy as np\n",
    "import pandas as pd\n",
    "!pip install seaborn -U\n",
    "import seaborn as sns\n",
    "import matplotlib.pyplot as plt\n",
    "\n",
    "from scipy import stats\n",
    "from numpy.random import RandomState\n",
    "from sklearn.metrics import mean_squared_error\n",
    "from sklearn.preprocessing import StandardScaler\n",
    "from sklearn.linear_model import LinearRegression\n",
    "from sklearn.model_selection import train_test_split\n",
    "\n",
    "pd.options.mode.chained_assignment = None\n"
   ]
  },
  {
   "cell_type": "code",
   "execution_count": 2,
   "metadata": {},
   "outputs": [],
   "source": [
    "\n",
    "geo_data_0 = pd.read_csv('geo_data_0.csv')\n",
    "geo_data_1 = pd.read_csv('geo_data_1.csv')\n",
    "geo_data_2 = pd.read_csv('geo_data_2.csv')\n"
   ]
  },
  {
   "cell_type": "code",
   "execution_count": 3,
   "metadata": {
    "scrolled": false
   },
   "outputs": [
    {
     "data": {
      "text/html": [
       "<div>\n",
       "<style scoped>\n",
       "    .dataframe tbody tr th:only-of-type {\n",
       "        vertical-align: middle;\n",
       "    }\n",
       "\n",
       "    .dataframe tbody tr th {\n",
       "        vertical-align: top;\n",
       "    }\n",
       "\n",
       "    .dataframe thead th {\n",
       "        text-align: right;\n",
       "    }\n",
       "</style>\n",
       "<table border=\"1\" class=\"dataframe\">\n",
       "  <thead>\n",
       "    <tr style=\"text-align: right;\">\n",
       "      <th></th>\n",
       "      <th>id</th>\n",
       "      <th>f0</th>\n",
       "      <th>f1</th>\n",
       "      <th>f2</th>\n",
       "      <th>product</th>\n",
       "    </tr>\n",
       "  </thead>\n",
       "  <tbody>\n",
       "    <tr>\n",
       "      <td>0</td>\n",
       "      <td>txEyH</td>\n",
       "      <td>0.705745</td>\n",
       "      <td>-0.497823</td>\n",
       "      <td>1.221170</td>\n",
       "      <td>105.280062</td>\n",
       "    </tr>\n",
       "    <tr>\n",
       "      <td>1</td>\n",
       "      <td>2acmU</td>\n",
       "      <td>1.334711</td>\n",
       "      <td>-0.340164</td>\n",
       "      <td>4.365080</td>\n",
       "      <td>73.037750</td>\n",
       "    </tr>\n",
       "    <tr>\n",
       "      <td>2</td>\n",
       "      <td>409Wp</td>\n",
       "      <td>1.022732</td>\n",
       "      <td>0.151990</td>\n",
       "      <td>1.419926</td>\n",
       "      <td>85.265647</td>\n",
       "    </tr>\n",
       "    <tr>\n",
       "      <td>3</td>\n",
       "      <td>iJLyR</td>\n",
       "      <td>-0.032172</td>\n",
       "      <td>0.139033</td>\n",
       "      <td>2.978566</td>\n",
       "      <td>168.620776</td>\n",
       "    </tr>\n",
       "    <tr>\n",
       "      <td>4</td>\n",
       "      <td>Xdl7t</td>\n",
       "      <td>1.988431</td>\n",
       "      <td>0.155413</td>\n",
       "      <td>4.751769</td>\n",
       "      <td>154.036647</td>\n",
       "    </tr>\n",
       "    <tr>\n",
       "      <td>...</td>\n",
       "      <td>...</td>\n",
       "      <td>...</td>\n",
       "      <td>...</td>\n",
       "      <td>...</td>\n",
       "      <td>...</td>\n",
       "    </tr>\n",
       "    <tr>\n",
       "      <td>99995</td>\n",
       "      <td>DLsed</td>\n",
       "      <td>0.971957</td>\n",
       "      <td>0.370953</td>\n",
       "      <td>6.075346</td>\n",
       "      <td>110.744026</td>\n",
       "    </tr>\n",
       "    <tr>\n",
       "      <td>99996</td>\n",
       "      <td>QKivN</td>\n",
       "      <td>1.392429</td>\n",
       "      <td>-0.382606</td>\n",
       "      <td>1.273912</td>\n",
       "      <td>122.346843</td>\n",
       "    </tr>\n",
       "    <tr>\n",
       "      <td>99997</td>\n",
       "      <td>3rnvd</td>\n",
       "      <td>1.029585</td>\n",
       "      <td>0.018787</td>\n",
       "      <td>-1.348308</td>\n",
       "      <td>64.375443</td>\n",
       "    </tr>\n",
       "    <tr>\n",
       "      <td>99998</td>\n",
       "      <td>7kl59</td>\n",
       "      <td>0.998163</td>\n",
       "      <td>-0.528582</td>\n",
       "      <td>1.583869</td>\n",
       "      <td>74.040764</td>\n",
       "    </tr>\n",
       "    <tr>\n",
       "      <td>99999</td>\n",
       "      <td>1CWhH</td>\n",
       "      <td>1.764754</td>\n",
       "      <td>-0.266417</td>\n",
       "      <td>5.722849</td>\n",
       "      <td>149.633246</td>\n",
       "    </tr>\n",
       "  </tbody>\n",
       "</table>\n",
       "<p>100000 rows × 5 columns</p>\n",
       "</div>"
      ],
      "text/plain": [
       "          id        f0        f1        f2     product\n",
       "0      txEyH  0.705745 -0.497823  1.221170  105.280062\n",
       "1      2acmU  1.334711 -0.340164  4.365080   73.037750\n",
       "2      409Wp  1.022732  0.151990  1.419926   85.265647\n",
       "3      iJLyR -0.032172  0.139033  2.978566  168.620776\n",
       "4      Xdl7t  1.988431  0.155413  4.751769  154.036647\n",
       "...      ...       ...       ...       ...         ...\n",
       "99995  DLsed  0.971957  0.370953  6.075346  110.744026\n",
       "99996  QKivN  1.392429 -0.382606  1.273912  122.346843\n",
       "99997  3rnvd  1.029585  0.018787 -1.348308   64.375443\n",
       "99998  7kl59  0.998163 -0.528582  1.583869   74.040764\n",
       "99999  1CWhH  1.764754 -0.266417  5.722849  149.633246\n",
       "\n",
       "[100000 rows x 5 columns]"
      ]
     },
     "execution_count": 3,
     "metadata": {},
     "output_type": "execute_result"
    }
   ],
   "source": [
    "geo_data_0"
   ]
  },
  {
   "cell_type": "code",
   "execution_count": 4,
   "metadata": {},
   "outputs": [
    {
     "data": {
      "text/html": [
       "<div>\n",
       "<style scoped>\n",
       "    .dataframe tbody tr th:only-of-type {\n",
       "        vertical-align: middle;\n",
       "    }\n",
       "\n",
       "    .dataframe tbody tr th {\n",
       "        vertical-align: top;\n",
       "    }\n",
       "\n",
       "    .dataframe thead th {\n",
       "        text-align: right;\n",
       "    }\n",
       "</style>\n",
       "<table border=\"1\" class=\"dataframe\">\n",
       "  <thead>\n",
       "    <tr style=\"text-align: right;\">\n",
       "      <th></th>\n",
       "      <th>id</th>\n",
       "      <th>f0</th>\n",
       "      <th>f1</th>\n",
       "      <th>f2</th>\n",
       "      <th>product</th>\n",
       "    </tr>\n",
       "  </thead>\n",
       "  <tbody>\n",
       "    <tr>\n",
       "      <td>0</td>\n",
       "      <td>kBEdx</td>\n",
       "      <td>-15.001348</td>\n",
       "      <td>-8.276000</td>\n",
       "      <td>-0.005876</td>\n",
       "      <td>3.179103</td>\n",
       "    </tr>\n",
       "    <tr>\n",
       "      <td>1</td>\n",
       "      <td>62mP7</td>\n",
       "      <td>14.272088</td>\n",
       "      <td>-3.475083</td>\n",
       "      <td>0.999183</td>\n",
       "      <td>26.953261</td>\n",
       "    </tr>\n",
       "    <tr>\n",
       "      <td>2</td>\n",
       "      <td>vyE1P</td>\n",
       "      <td>6.263187</td>\n",
       "      <td>-5.948386</td>\n",
       "      <td>5.001160</td>\n",
       "      <td>134.766305</td>\n",
       "    </tr>\n",
       "    <tr>\n",
       "      <td>3</td>\n",
       "      <td>KcrkZ</td>\n",
       "      <td>-13.081196</td>\n",
       "      <td>-11.506057</td>\n",
       "      <td>4.999415</td>\n",
       "      <td>137.945408</td>\n",
       "    </tr>\n",
       "    <tr>\n",
       "      <td>4</td>\n",
       "      <td>AHL4O</td>\n",
       "      <td>12.702195</td>\n",
       "      <td>-8.147433</td>\n",
       "      <td>5.004363</td>\n",
       "      <td>134.766305</td>\n",
       "    </tr>\n",
       "    <tr>\n",
       "      <td>...</td>\n",
       "      <td>...</td>\n",
       "      <td>...</td>\n",
       "      <td>...</td>\n",
       "      <td>...</td>\n",
       "      <td>...</td>\n",
       "    </tr>\n",
       "    <tr>\n",
       "      <td>99995</td>\n",
       "      <td>QywKC</td>\n",
       "      <td>9.535637</td>\n",
       "      <td>-6.878139</td>\n",
       "      <td>1.998296</td>\n",
       "      <td>53.906522</td>\n",
       "    </tr>\n",
       "    <tr>\n",
       "      <td>99996</td>\n",
       "      <td>ptvty</td>\n",
       "      <td>-10.160631</td>\n",
       "      <td>-12.558096</td>\n",
       "      <td>5.005581</td>\n",
       "      <td>137.945408</td>\n",
       "    </tr>\n",
       "    <tr>\n",
       "      <td>99997</td>\n",
       "      <td>09gWa</td>\n",
       "      <td>-7.378891</td>\n",
       "      <td>-3.084104</td>\n",
       "      <td>4.998651</td>\n",
       "      <td>137.945408</td>\n",
       "    </tr>\n",
       "    <tr>\n",
       "      <td>99998</td>\n",
       "      <td>rqwUm</td>\n",
       "      <td>0.665714</td>\n",
       "      <td>-6.152593</td>\n",
       "      <td>1.000146</td>\n",
       "      <td>30.132364</td>\n",
       "    </tr>\n",
       "    <tr>\n",
       "      <td>99999</td>\n",
       "      <td>relB0</td>\n",
       "      <td>-3.426139</td>\n",
       "      <td>-7.794274</td>\n",
       "      <td>-0.003299</td>\n",
       "      <td>3.179103</td>\n",
       "    </tr>\n",
       "  </tbody>\n",
       "</table>\n",
       "<p>100000 rows × 5 columns</p>\n",
       "</div>"
      ],
      "text/plain": [
       "          id         f0         f1        f2     product\n",
       "0      kBEdx -15.001348  -8.276000 -0.005876    3.179103\n",
       "1      62mP7  14.272088  -3.475083  0.999183   26.953261\n",
       "2      vyE1P   6.263187  -5.948386  5.001160  134.766305\n",
       "3      KcrkZ -13.081196 -11.506057  4.999415  137.945408\n",
       "4      AHL4O  12.702195  -8.147433  5.004363  134.766305\n",
       "...      ...        ...        ...       ...         ...\n",
       "99995  QywKC   9.535637  -6.878139  1.998296   53.906522\n",
       "99996  ptvty -10.160631 -12.558096  5.005581  137.945408\n",
       "99997  09gWa  -7.378891  -3.084104  4.998651  137.945408\n",
       "99998  rqwUm   0.665714  -6.152593  1.000146   30.132364\n",
       "99999  relB0  -3.426139  -7.794274 -0.003299    3.179103\n",
       "\n",
       "[100000 rows x 5 columns]"
      ]
     },
     "execution_count": 4,
     "metadata": {},
     "output_type": "execute_result"
    }
   ],
   "source": [
    "geo_data_1"
   ]
  },
  {
   "cell_type": "code",
   "execution_count": 5,
   "metadata": {},
   "outputs": [
    {
     "data": {
      "text/html": [
       "<div>\n",
       "<style scoped>\n",
       "    .dataframe tbody tr th:only-of-type {\n",
       "        vertical-align: middle;\n",
       "    }\n",
       "\n",
       "    .dataframe tbody tr th {\n",
       "        vertical-align: top;\n",
       "    }\n",
       "\n",
       "    .dataframe thead th {\n",
       "        text-align: right;\n",
       "    }\n",
       "</style>\n",
       "<table border=\"1\" class=\"dataframe\">\n",
       "  <thead>\n",
       "    <tr style=\"text-align: right;\">\n",
       "      <th></th>\n",
       "      <th>id</th>\n",
       "      <th>f0</th>\n",
       "      <th>f1</th>\n",
       "      <th>f2</th>\n",
       "      <th>product</th>\n",
       "    </tr>\n",
       "  </thead>\n",
       "  <tbody>\n",
       "    <tr>\n",
       "      <td>0</td>\n",
       "      <td>fwXo0</td>\n",
       "      <td>-1.146987</td>\n",
       "      <td>0.963328</td>\n",
       "      <td>-0.828965</td>\n",
       "      <td>27.758673</td>\n",
       "    </tr>\n",
       "    <tr>\n",
       "      <td>1</td>\n",
       "      <td>WJtFt</td>\n",
       "      <td>0.262778</td>\n",
       "      <td>0.269839</td>\n",
       "      <td>-2.530187</td>\n",
       "      <td>56.069697</td>\n",
       "    </tr>\n",
       "    <tr>\n",
       "      <td>2</td>\n",
       "      <td>ovLUW</td>\n",
       "      <td>0.194587</td>\n",
       "      <td>0.289035</td>\n",
       "      <td>-5.586433</td>\n",
       "      <td>62.871910</td>\n",
       "    </tr>\n",
       "    <tr>\n",
       "      <td>3</td>\n",
       "      <td>q6cA6</td>\n",
       "      <td>2.236060</td>\n",
       "      <td>-0.553760</td>\n",
       "      <td>0.930038</td>\n",
       "      <td>114.572842</td>\n",
       "    </tr>\n",
       "    <tr>\n",
       "      <td>4</td>\n",
       "      <td>WPMUX</td>\n",
       "      <td>-0.515993</td>\n",
       "      <td>1.716266</td>\n",
       "      <td>5.899011</td>\n",
       "      <td>149.600746</td>\n",
       "    </tr>\n",
       "    <tr>\n",
       "      <td>...</td>\n",
       "      <td>...</td>\n",
       "      <td>...</td>\n",
       "      <td>...</td>\n",
       "      <td>...</td>\n",
       "      <td>...</td>\n",
       "    </tr>\n",
       "    <tr>\n",
       "      <td>99995</td>\n",
       "      <td>4GxBu</td>\n",
       "      <td>-1.777037</td>\n",
       "      <td>1.125220</td>\n",
       "      <td>6.263374</td>\n",
       "      <td>172.327046</td>\n",
       "    </tr>\n",
       "    <tr>\n",
       "      <td>99996</td>\n",
       "      <td>YKFjq</td>\n",
       "      <td>-1.261523</td>\n",
       "      <td>-0.894828</td>\n",
       "      <td>2.524545</td>\n",
       "      <td>138.748846</td>\n",
       "    </tr>\n",
       "    <tr>\n",
       "      <td>99997</td>\n",
       "      <td>tKPY3</td>\n",
       "      <td>-1.199934</td>\n",
       "      <td>-2.957637</td>\n",
       "      <td>5.219411</td>\n",
       "      <td>157.080080</td>\n",
       "    </tr>\n",
       "    <tr>\n",
       "      <td>99998</td>\n",
       "      <td>nmxp2</td>\n",
       "      <td>-2.419896</td>\n",
       "      <td>2.417221</td>\n",
       "      <td>-5.548444</td>\n",
       "      <td>51.795253</td>\n",
       "    </tr>\n",
       "    <tr>\n",
       "      <td>99999</td>\n",
       "      <td>V9kWn</td>\n",
       "      <td>-2.551421</td>\n",
       "      <td>-2.025625</td>\n",
       "      <td>6.090891</td>\n",
       "      <td>102.775767</td>\n",
       "    </tr>\n",
       "  </tbody>\n",
       "</table>\n",
       "<p>100000 rows × 5 columns</p>\n",
       "</div>"
      ],
      "text/plain": [
       "          id        f0        f1        f2     product\n",
       "0      fwXo0 -1.146987  0.963328 -0.828965   27.758673\n",
       "1      WJtFt  0.262778  0.269839 -2.530187   56.069697\n",
       "2      ovLUW  0.194587  0.289035 -5.586433   62.871910\n",
       "3      q6cA6  2.236060 -0.553760  0.930038  114.572842\n",
       "4      WPMUX -0.515993  1.716266  5.899011  149.600746\n",
       "...      ...       ...       ...       ...         ...\n",
       "99995  4GxBu -1.777037  1.125220  6.263374  172.327046\n",
       "99996  YKFjq -1.261523 -0.894828  2.524545  138.748846\n",
       "99997  tKPY3 -1.199934 -2.957637  5.219411  157.080080\n",
       "99998  nmxp2 -2.419896  2.417221 -5.548444   51.795253\n",
       "99999  V9kWn -2.551421 -2.025625  6.090891  102.775767\n",
       "\n",
       "[100000 rows x 5 columns]"
      ]
     },
     "execution_count": 5,
     "metadata": {},
     "output_type": "execute_result"
    }
   ],
   "source": [
    "geo_data_2"
   ]
  },
  {
   "cell_type": "markdown",
   "metadata": {},
   "source": [
    "Название столбцов соответствует содержимому.  \n",
    "Все три датасета имеют одинаковую размерность."
   ]
  },
  {
   "cell_type": "code",
   "execution_count": 6,
   "metadata": {},
   "outputs": [
    {
     "name": "stdout",
     "output_type": "stream",
     "text": [
      "<class 'pandas.core.frame.DataFrame'>\n",
      "RangeIndex: 100000 entries, 0 to 99999\n",
      "Data columns (total 5 columns):\n",
      "id         100000 non-null object\n",
      "f0         100000 non-null float64\n",
      "f1         100000 non-null float64\n",
      "f2         100000 non-null float64\n",
      "product    100000 non-null float64\n",
      "dtypes: float64(4), object(1)\n",
      "memory usage: 9.0 MB\n"
     ]
    }
   ],
   "source": [
    "geo_data_0.info(memory_usage='deep')"
   ]
  },
  {
   "cell_type": "code",
   "execution_count": 7,
   "metadata": {
    "scrolled": true
   },
   "outputs": [
    {
     "name": "stdout",
     "output_type": "stream",
     "text": [
      "<class 'pandas.core.frame.DataFrame'>\n",
      "RangeIndex: 100000 entries, 0 to 99999\n",
      "Data columns (total 5 columns):\n",
      "id         100000 non-null object\n",
      "f0         100000 non-null float64\n",
      "f1         100000 non-null float64\n",
      "f2         100000 non-null float64\n",
      "product    100000 non-null float64\n",
      "dtypes: float64(4), object(1)\n",
      "memory usage: 9.0 MB\n"
     ]
    }
   ],
   "source": [
    "geo_data_1.info(memory_usage='deep')"
   ]
  },
  {
   "cell_type": "code",
   "execution_count": 8,
   "metadata": {},
   "outputs": [
    {
     "name": "stdout",
     "output_type": "stream",
     "text": [
      "<class 'pandas.core.frame.DataFrame'>\n",
      "RangeIndex: 100000 entries, 0 to 99999\n",
      "Data columns (total 5 columns):\n",
      "id         100000 non-null object\n",
      "f0         100000 non-null float64\n",
      "f1         100000 non-null float64\n",
      "f2         100000 non-null float64\n",
      "product    100000 non-null float64\n",
      "dtypes: float64(4), object(1)\n",
      "memory usage: 9.0 MB\n"
     ]
    }
   ],
   "source": [
    "geo_data_2.info(memory_usage='deep')"
   ]
  },
  {
   "cell_type": "markdown",
   "metadata": {},
   "source": [
    "Пропущенных значений нет.  \n",
    "Типы данных соответствуют содержимому.  \n",
    "Датасеты занимают незначительный объем памяти."
   ]
  },
  {
   "cell_type": "code",
   "execution_count": 9,
   "metadata": {},
   "outputs": [
    {
     "name": "stdout",
     "output_type": "stream",
     "text": [
      "Количество дубликатов в \"geo_data_0\": 0\n",
      "Количество дубликатов в \"geo_data_1\": 0\n",
      "Количество дубликатов в \"geo_data_2\": 0\n"
     ]
    }
   ],
   "source": [
    "\n",
    "print('Количество дубликатов в \"geo_data_0\":', geo_data_0.duplicated().sum())\n",
    "print('Количество дубликатов в \"geo_data_1\":', geo_data_1.duplicated().sum())\n",
    "print('Количество дубликатов в \"geo_data_2\":', geo_data_2.duplicated().sum())\n"
   ]
  },
  {
   "cell_type": "markdown",
   "metadata": {},
   "source": [
    "Полные дубликаты отсутствуют.  \n",
    "Проверим поле `id`, в не должно быть повторов."
   ]
  },
  {
   "cell_type": "code",
   "execution_count": 10,
   "metadata": {},
   "outputs": [
    {
     "name": "stdout",
     "output_type": "stream",
     "text": [
      "Количество дубликатов в \"geo_data_0.id\": 10\n",
      "Количество дубликатов в \"geo_data_1.id\": 4\n",
      "Количество дубликатов в \"geo_data_2.id\": 4\n"
     ]
    }
   ],
   "source": [
    "\n",
    "print('Количество дубликатов в \"geo_data_0.id\":', geo_data_0['id'].duplicated().sum())\n",
    "print('Количество дубликатов в \"geo_data_1.id\":', geo_data_1['id'].duplicated().sum())\n",
    "print('Количество дубликатов в \"geo_data_2.id\":', geo_data_2['id'].duplicated().sum())\n"
   ]
  },
  {
   "cell_type": "markdown",
   "metadata": {},
   "source": [
    "В `id` есть повторы.  \n",
    "Следует уточнить какие признаки верны для данных `id`  \n",
    "Пока удалим их полностью, так как точные признаки к ним неизвестны."
   ]
  },
  {
   "cell_type": "code",
   "execution_count": 11,
   "metadata": {},
   "outputs": [
    {
     "name": "stdout",
     "output_type": "stream",
     "text": [
      "Количество дубликатов в \"geo_data_0.id\": 0\n",
      "Количество дубликатов в \"geo_data_1.id\": 0\n",
      "Количество дубликатов в \"geo_data_2.id\": 0\n"
     ]
    }
   ],
   "source": [
    "\n",
    "geo_data_0.drop(index=geo_data_0[geo_data_0['id'].duplicated()].index, inplace=True)\n",
    "geo_data_0 = geo_data_0.reset_index(drop=True)\n",
    "geo_data_1.drop(index=geo_data_1[geo_data_1['id'].duplicated()].index, inplace=True)\n",
    "geo_data_1 = geo_data_1.reset_index(drop=True)\n",
    "geo_data_2.drop(index=geo_data_2[geo_data_2['id'].duplicated()].index, inplace=True)\n",
    "geo_data_2 = geo_data_2.reset_index(drop=True)\n",
    "\n",
    "print('Количество дубликатов в \"geo_data_0.id\":', geo_data_0['id'].duplicated().sum())\n",
    "print('Количество дубликатов в \"geo_data_1.id\":', geo_data_1['id'].duplicated().sum())\n",
    "print('Количество дубликатов в \"geo_data_2.id\":', geo_data_2['id'].duplicated().sum())\n"
   ]
  },
  {
   "cell_type": "markdown",
   "metadata": {},
   "source": [
    "Мы убрали строки с повторяющимися скважинами."
   ]
  },
  {
   "cell_type": "code",
   "execution_count": 12,
   "metadata": {
    "scrolled": true
   },
   "outputs": [
    {
     "data": {
      "text/html": [
       "<div>\n",
       "<style scoped>\n",
       "    .dataframe tbody tr th:only-of-type {\n",
       "        vertical-align: middle;\n",
       "    }\n",
       "\n",
       "    .dataframe tbody tr th {\n",
       "        vertical-align: top;\n",
       "    }\n",
       "\n",
       "    .dataframe thead th {\n",
       "        text-align: right;\n",
       "    }\n",
       "</style>\n",
       "<table border=\"1\" class=\"dataframe\">\n",
       "  <thead>\n",
       "    <tr style=\"text-align: right;\">\n",
       "      <th></th>\n",
       "      <th>count</th>\n",
       "      <th>mean</th>\n",
       "      <th>std</th>\n",
       "      <th>min</th>\n",
       "      <th>25%</th>\n",
       "      <th>50%</th>\n",
       "      <th>75%</th>\n",
       "      <th>max</th>\n",
       "    </tr>\n",
       "  </thead>\n",
       "  <tbody>\n",
       "    <tr>\n",
       "      <td>f0</td>\n",
       "      <td>99990.0</td>\n",
       "      <td>0.500</td>\n",
       "      <td>0.872</td>\n",
       "      <td>-1.409</td>\n",
       "      <td>-0.073</td>\n",
       "      <td>0.502</td>\n",
       "      <td>1.074</td>\n",
       "      <td>2.362</td>\n",
       "    </tr>\n",
       "    <tr>\n",
       "      <td>f1</td>\n",
       "      <td>99990.0</td>\n",
       "      <td>0.250</td>\n",
       "      <td>0.504</td>\n",
       "      <td>-0.848</td>\n",
       "      <td>-0.201</td>\n",
       "      <td>0.250</td>\n",
       "      <td>0.701</td>\n",
       "      <td>1.344</td>\n",
       "    </tr>\n",
       "    <tr>\n",
       "      <td>f2</td>\n",
       "      <td>99990.0</td>\n",
       "      <td>2.503</td>\n",
       "      <td>3.248</td>\n",
       "      <td>-12.088</td>\n",
       "      <td>0.288</td>\n",
       "      <td>2.516</td>\n",
       "      <td>4.715</td>\n",
       "      <td>16.004</td>\n",
       "    </tr>\n",
       "    <tr>\n",
       "      <td>product</td>\n",
       "      <td>99990.0</td>\n",
       "      <td>92.500</td>\n",
       "      <td>44.288</td>\n",
       "      <td>0.000</td>\n",
       "      <td>56.497</td>\n",
       "      <td>91.848</td>\n",
       "      <td>128.564</td>\n",
       "      <td>185.364</td>\n",
       "    </tr>\n",
       "  </tbody>\n",
       "</table>\n",
       "</div>"
      ],
      "text/plain": [
       "           count    mean     std     min     25%     50%      75%      max\n",
       "f0       99990.0   0.500   0.872  -1.409  -0.073   0.502    1.074    2.362\n",
       "f1       99990.0   0.250   0.504  -0.848  -0.201   0.250    0.701    1.344\n",
       "f2       99990.0   2.503   3.248 -12.088   0.288   2.516    4.715   16.004\n",
       "product  99990.0  92.500  44.288   0.000  56.497  91.848  128.564  185.364"
      ]
     },
     "execution_count": 12,
     "metadata": {},
     "output_type": "execute_result"
    }
   ],
   "source": [
    "geo_data_0.describe().T.round(3)"
   ]
  },
  {
   "cell_type": "code",
   "execution_count": 13,
   "metadata": {
    "scrolled": true
   },
   "outputs": [
    {
     "data": {
      "text/html": [
       "<div>\n",
       "<style scoped>\n",
       "    .dataframe tbody tr th:only-of-type {\n",
       "        vertical-align: middle;\n",
       "    }\n",
       "\n",
       "    .dataframe tbody tr th {\n",
       "        vertical-align: top;\n",
       "    }\n",
       "\n",
       "    .dataframe thead th {\n",
       "        text-align: right;\n",
       "    }\n",
       "</style>\n",
       "<table border=\"1\" class=\"dataframe\">\n",
       "  <thead>\n",
       "    <tr style=\"text-align: right;\">\n",
       "      <th></th>\n",
       "      <th>count</th>\n",
       "      <th>mean</th>\n",
       "      <th>std</th>\n",
       "      <th>min</th>\n",
       "      <th>25%</th>\n",
       "      <th>50%</th>\n",
       "      <th>75%</th>\n",
       "      <th>max</th>\n",
       "    </tr>\n",
       "  </thead>\n",
       "  <tbody>\n",
       "    <tr>\n",
       "      <td>f0</td>\n",
       "      <td>99996.0</td>\n",
       "      <td>1.141</td>\n",
       "      <td>8.966</td>\n",
       "      <td>-31.610</td>\n",
       "      <td>-6.299</td>\n",
       "      <td>1.153</td>\n",
       "      <td>8.621</td>\n",
       "      <td>29.422</td>\n",
       "    </tr>\n",
       "    <tr>\n",
       "      <td>f1</td>\n",
       "      <td>99996.0</td>\n",
       "      <td>-4.797</td>\n",
       "      <td>5.120</td>\n",
       "      <td>-26.359</td>\n",
       "      <td>-8.268</td>\n",
       "      <td>-4.813</td>\n",
       "      <td>-1.333</td>\n",
       "      <td>18.734</td>\n",
       "    </tr>\n",
       "    <tr>\n",
       "      <td>f2</td>\n",
       "      <td>99996.0</td>\n",
       "      <td>2.495</td>\n",
       "      <td>1.704</td>\n",
       "      <td>-0.018</td>\n",
       "      <td>1.000</td>\n",
       "      <td>2.011</td>\n",
       "      <td>4.000</td>\n",
       "      <td>5.020</td>\n",
       "    </tr>\n",
       "    <tr>\n",
       "      <td>product</td>\n",
       "      <td>99996.0</td>\n",
       "      <td>68.824</td>\n",
       "      <td>45.945</td>\n",
       "      <td>0.000</td>\n",
       "      <td>26.953</td>\n",
       "      <td>57.086</td>\n",
       "      <td>107.813</td>\n",
       "      <td>137.945</td>\n",
       "    </tr>\n",
       "  </tbody>\n",
       "</table>\n",
       "</div>"
      ],
      "text/plain": [
       "           count    mean     std     min     25%     50%      75%      max\n",
       "f0       99996.0   1.141   8.966 -31.610  -6.299   1.153    8.621   29.422\n",
       "f1       99996.0  -4.797   5.120 -26.359  -8.268  -4.813   -1.333   18.734\n",
       "f2       99996.0   2.495   1.704  -0.018   1.000   2.011    4.000    5.020\n",
       "product  99996.0  68.824  45.945   0.000  26.953  57.086  107.813  137.945"
      ]
     },
     "execution_count": 13,
     "metadata": {},
     "output_type": "execute_result"
    }
   ],
   "source": [
    "geo_data_1.describe().T.round(3)"
   ]
  },
  {
   "cell_type": "code",
   "execution_count": 14,
   "metadata": {},
   "outputs": [
    {
     "data": {
      "text/html": [
       "<div>\n",
       "<style scoped>\n",
       "    .dataframe tbody tr th:only-of-type {\n",
       "        vertical-align: middle;\n",
       "    }\n",
       "\n",
       "    .dataframe tbody tr th {\n",
       "        vertical-align: top;\n",
       "    }\n",
       "\n",
       "    .dataframe thead th {\n",
       "        text-align: right;\n",
       "    }\n",
       "</style>\n",
       "<table border=\"1\" class=\"dataframe\">\n",
       "  <thead>\n",
       "    <tr style=\"text-align: right;\">\n",
       "      <th></th>\n",
       "      <th>count</th>\n",
       "      <th>mean</th>\n",
       "      <th>std</th>\n",
       "      <th>min</th>\n",
       "      <th>25%</th>\n",
       "      <th>50%</th>\n",
       "      <th>75%</th>\n",
       "      <th>max</th>\n",
       "    </tr>\n",
       "  </thead>\n",
       "  <tbody>\n",
       "    <tr>\n",
       "      <td>f0</td>\n",
       "      <td>99996.0</td>\n",
       "      <td>0.002</td>\n",
       "      <td>1.732</td>\n",
       "      <td>-8.760</td>\n",
       "      <td>-1.162</td>\n",
       "      <td>0.009</td>\n",
       "      <td>1.158</td>\n",
       "      <td>7.238</td>\n",
       "    </tr>\n",
       "    <tr>\n",
       "      <td>f1</td>\n",
       "      <td>99996.0</td>\n",
       "      <td>-0.002</td>\n",
       "      <td>1.730</td>\n",
       "      <td>-7.084</td>\n",
       "      <td>-1.175</td>\n",
       "      <td>-0.010</td>\n",
       "      <td>1.164</td>\n",
       "      <td>7.845</td>\n",
       "    </tr>\n",
       "    <tr>\n",
       "      <td>f2</td>\n",
       "      <td>99996.0</td>\n",
       "      <td>2.495</td>\n",
       "      <td>3.473</td>\n",
       "      <td>-11.970</td>\n",
       "      <td>0.130</td>\n",
       "      <td>2.484</td>\n",
       "      <td>4.859</td>\n",
       "      <td>16.739</td>\n",
       "    </tr>\n",
       "    <tr>\n",
       "      <td>product</td>\n",
       "      <td>99996.0</td>\n",
       "      <td>94.998</td>\n",
       "      <td>44.750</td>\n",
       "      <td>0.000</td>\n",
       "      <td>59.450</td>\n",
       "      <td>94.925</td>\n",
       "      <td>130.587</td>\n",
       "      <td>190.030</td>\n",
       "    </tr>\n",
       "  </tbody>\n",
       "</table>\n",
       "</div>"
      ],
      "text/plain": [
       "           count    mean     std     min     25%     50%      75%      max\n",
       "f0       99996.0   0.002   1.732  -8.760  -1.162   0.009    1.158    7.238\n",
       "f1       99996.0  -0.002   1.730  -7.084  -1.175  -0.010    1.164    7.845\n",
       "f2       99996.0   2.495   3.473 -11.970   0.130   2.484    4.859   16.739\n",
       "product  99996.0  94.998  44.750   0.000  59.450  94.925  130.587  190.030"
      ]
     },
     "execution_count": 14,
     "metadata": {},
     "output_type": "execute_result"
    }
   ],
   "source": [
    "geo_data_2.describe().T.round(3)"
   ]
  },
  {
   "cell_type": "markdown",
   "metadata": {},
   "source": [
    "Минимальные запасы в каждом регионе неотрицательные, это указано верно, запасы не могут быть отрицательными.  \n",
    "По среднему и медианному значению запасов лидирует `geo_data_2` (**95, 95**).  \n",
    "Чуть меньше у `geo_data_0` (**93, 92**), `geo_data_1` (**69, 57**) заметно отстает.  "
   ]
  },
  {
   "cell_type": "markdown",
   "metadata": {},
   "source": [
    "Выделим целевой признак."
   ]
  },
  {
   "cell_type": "code",
   "execution_count": 15,
   "metadata": {},
   "outputs": [],
   "source": [
    "\n",
    "target_0 = geo_data_0['product']\n",
    "features_0 = geo_data_0.drop(['product'], axis=1)\n",
    "target_1 = geo_data_1['product']\n",
    "features_1 = geo_data_1.drop(['product'], axis=1)\n",
    "target_2 = geo_data_2['product']\n",
    "features_2 = geo_data_2.drop(['product'], axis=1)\n"
   ]
  },
  {
   "cell_type": "markdown",
   "metadata": {},
   "source": [
    "Разобьем данные на обучающую и валидационную выборки в соотношении **75:25**"
   ]
  },
  {
   "cell_type": "code",
   "execution_count": 16,
   "metadata": {},
   "outputs": [],
   "source": [
    "\n",
    "features_0_train, features_0_valid, target_0_train, target_0_valid =\\\n",
    "train_test_split(features_0, target_0, test_size=0.25, random_state=42)\n",
    "features_1_train, features_1_valid, target_1_train, target_1_valid =\\\n",
    "train_test_split(features_1, target_1, test_size=0.25, random_state=42)\n",
    "features_2_train, features_2_valid, target_2_train, target_2_valid =\\\n",
    "train_test_split(features_2, target_2, test_size=0.25, random_state=42)\n"
   ]
  },
  {
   "cell_type": "code",
   "execution_count": 17,
   "metadata": {},
   "outputs": [
    {
     "name": "stdout",
     "output_type": "stream",
     "text": [
      "Размер валидационной и обучающей выборок:\n",
      " (74992, 4) \n",
      " (24998, 4)\n"
     ]
    }
   ],
   "source": [
    "print('Размер валидационной и обучающей выборок:\\n', features_0_train.shape, '\\n', features_0_valid.shape)"
   ]
  },
  {
   "cell_type": "markdown",
   "metadata": {},
   "source": [
    "### Вывод:"
   ]
  },
  {
   "cell_type": "markdown",
   "metadata": {},
   "source": [
    "Название столбцов соответствует содержимому.  \n",
    "Все три датасета имеют одинаковую размерность.  \n",
    "Пропущенных значений нет.  \n",
    "Типы данных соответствуют содержимому.  \n",
    "Датасеты занимают незначительный объем памяти и не нуждаются в оптимизации типов.  \n",
    "Полные дубликаты отсутствуют.  \n",
    "В `id` есть повторы - следует уточнить какие признаки верны для данных `id`  \n",
    "По среднему и медианному значению запасов лидирует `geo_data_2` (**95, 95**).  \n",
    "Чуть меньше у `geo_data_0` (**93, 92**), `geo_data_1` (**69, 57**) заметно отстает.  \n",
    "Выделили целевой признак.  \n",
    "Разобили данные на обучающую и валидационную выборки в соотношении **75:25**   \n",
    "Теперь данные можно показывать модели."
   ]
  },
  {
   "cell_type": "markdown",
   "metadata": {},
   "source": [
    "## Обучение и проверка модели"
   ]
  },
  {
   "cell_type": "markdown",
   "metadata": {},
   "source": [
    "Обучим модель и сделаем предсказание.  \n",
    "Для обучения модели подходит линейная регрессия (остальные — недостаточно предсказуемые)."
   ]
  },
  {
   "cell_type": "code",
   "execution_count": 18,
   "metadata": {},
   "outputs": [],
   "source": [
    "\n",
    "model_0 = LinearRegression(normalize=True)\n",
    "model_0.fit(features_0_train.iloc[:, 1:], target_0_train)\n",
    "predicted_0 = model_0.predict(features_0_valid.iloc[:, 1:])\n",
    "model_1 = LinearRegression(normalize=True)\n",
    "model_1.fit(features_1_train.iloc[:, 1:], target_1_train)\n",
    "predicted_1 = model_1.predict(features_1_valid.iloc[:, 1:])\n",
    "model_2 = LinearRegression(normalize=True)\n",
    "model_2.fit(features_2_train.iloc[:, 1:], target_2_train)\n",
    "predicted_2 = model_2.predict(features_2_valid.iloc[:, 1:])\n"
   ]
  },
  {
   "cell_type": "code",
   "execution_count": 19,
   "metadata": {},
   "outputs": [
    {
     "name": "stdout",
     "output_type": "stream",
     "text": [
      "Средний запас предсказанного сырья для \"geo_data_0\": 92.61, \n",
      "RMSE модели: 37.685\n",
      "\n",
      "Средний запас предсказанного сырья для \"geo_data_1\": 68.577, \n",
      "RMSE модели: 0.893\n",
      "\n",
      "Средний запас предсказанного сырья для \"geo_data_2\": 94.935, \n",
      "RMSE модели: 40.081\n"
     ]
    }
   ],
   "source": [
    "\n",
    "print('Средний запас предсказанного сырья для \"geo_data_0\": {}, \\nRMSE модели: {}\\n'\\\n",
    "      .format(predicted_0.mean().round(3), np.sqrt(mean_squared_error(target_0_valid, predicted_0)).round(3)))\n",
    "print('Средний запас предсказанного сырья для \"geo_data_1\": {}, \\nRMSE модели: {}\\n'\\\n",
    "      .format(predicted_1.mean().round(3), np.sqrt(mean_squared_error(target_1_valid, predicted_1)).round(3)))\n",
    "print('Средний запас предсказанного сырья для \"geo_data_2\": {}, \\nRMSE модели: {}'\\\n",
    "      .format(predicted_2.mean().round(3), np.sqrt(mean_squared_error(target_2_valid, predicted_2)).round(3)))\n"
   ]
  },
  {
   "cell_type": "markdown",
   "metadata": {},
   "source": [
    "Наименьшую ошибку модель показала на `geo_data_1`   \n",
    "Средний запас сырья предсказан очень точно по сравнению со средними запасами в исходных датасетах."
   ]
  },
  {
   "cell_type": "code",
   "execution_count": 20,
   "metadata": {
    "scrolled": false
   },
   "outputs": [
    {
     "data": {
      "image/png": "[encoded data removed]",
      "text/plain": [
       "<Figure size 1296x360 with 6 Axes>"
      ]
     },
     "metadata": {
      "needs_background": "light"
     },
     "output_type": "display_data"
    }
   ],
   "source": [
    "\n",
    "plt.subplots(1, 3, figsize=(18, 5))\n",
    "plt.subplot(1, 3, 1).title.set_text('geo_data_0')\n",
    "mask = np.triu(np.ones_like(geo_data_0.iloc[:, 1:].corr(), dtype=np.bool)) \n",
    "sns.heatmap(geo_data_0.iloc[:, 1:].corr(), annot=True, mask=mask);\n",
    "plt.subplot(1, 3, 2).title.set_text('geo_data_1')\n",
    "mask = np.triu(np.ones_like(geo_data_1.iloc[:, 1:].corr(), dtype=np.bool)) \n",
    "sns.heatmap(geo_data_1.iloc[:, 1:].corr(), annot=True, mask=mask);\n",
    "plt.subplot(1, 3, 3).title.set_text('geo_data_2')\n",
    "mask = np.triu(np.ones_like(geo_data_2.iloc[:, 1:].corr(), dtype=np.bool)) \n",
    "sns.heatmap(geo_data_2.iloc[:, 1:].corr(), annot=True, mask=mask);\n"
   ]
  },
  {
   "cell_type": "markdown",
   "metadata": {},
   "source": [
    "Видно что наибольшая корреляция с целевой переменной имеет признак `f2`"
   ]
  },
  {
   "cell_type": "code",
   "execution_count": 21,
   "metadata": {},
   "outputs": [
    {
     "name": "stdout",
     "output_type": "stream",
     "text": [
      "    Coeffecients_for_geo_data_0\n",
      "f0                     3.674650\n",
      "f1                   -14.121930\n",
      "f2                     6.596011 \n",
      "\n",
      "    Coeffecients_for_geo_data_1\n",
      "f0                    -0.144894\n",
      "f1                    -0.021825\n",
      "f2                    26.950762 \n",
      "\n",
      "    Coeffecients_for_geo_data_2\n",
      "f0                    -0.055518\n",
      "f1                    -0.082223\n",
      "f2                     5.754654\n"
     ]
    }
   ],
   "source": [
    "\n",
    "coeffecients_for_geo_data_0 = pd.DataFrame(model_0.coef_, features_0_train.columns[1:])\n",
    "coeffecients_for_geo_data_0.columns = ['Coeffecients_for_geo_data_0']\n",
    "coeffecients_for_geo_data_1 = pd.DataFrame(model_1.coef_, features_1_train.columns[1:])\n",
    "coeffecients_for_geo_data_1.columns = ['Coeffecients_for_geo_data_1']\n",
    "coeffecients_for_geo_data_2 = pd.DataFrame(model_2.coef_, features_2_train.columns[1:])\n",
    "coeffecients_for_geo_data_2.columns = ['Coeffecients_for_geo_data_2']\n",
    "print(coeffecients_for_geo_data_0, '\\n')\n",
    "print(coeffecients_for_geo_data_1, '\\n')\n",
    "print(coeffecients_for_geo_data_2)\n"
   ]
  },
  {
   "cell_type": "markdown",
   "metadata": {},
   "source": [
    "Признак `f2` также имеет наибольший вес в `geo_data_1`, помимо полной корреляции.  \n",
    "Возможно там стоит сосредоточиться именно на признаке `f2` при изучении новых точек для скважин.  \n",
    "Это может сэкономить средства на разведке."
   ]
  },
  {
   "cell_type": "markdown",
   "metadata": {},
   "source": [
    "### Вывод:"
   ]
  },
  {
   "cell_type": "markdown",
   "metadata": {},
   "source": [
    "Обучили модель и сделали предсказание используя линейную регрессию.  \n",
    "Наименьшую ошибку модель показала на `geo_data_1`    \n",
    "Средний запас сырья предсказан очень точно по сравнению со средними запасами в исходных датасетах.  \n",
    "Видно что наибольшая корреляция с целевой переменной имеет признак `f2`  \n",
    "Признак `f2` также имеет наибольший вес `geo_data_1`  \n",
    "Возможно там стоит сосредоточиться именно на признаке `f2` при изучении новых точек для скважин.  \n",
    "Это может сэкономить средства на разведке.  "
   ]
  },
  {
   "cell_type": "markdown",
   "metadata": {},
   "source": [
    "## Подготовка к расчёту прибыли"
   ]
  },
  {
   "cell_type": "markdown",
   "metadata": {},
   "source": [
    "Определим нужные константы для расчетов:"
   ]
  },
  {
   "cell_type": "code",
   "execution_count": 22,
   "metadata": {},
   "outputs": [],
   "source": [
    "\n",
    "BUDGET_IN_REGION = 10_000_000_000\n",
    "NUM_OF_POINTS_TO_EXPLORE = 500\n",
    "NUM_OF_POINTS_TO_WORK_WITH = 200\n",
    "REVENUE_PER_UNIT_OF_PRODUCT = 450_000\n",
    "MILLION = 1_000_000\n",
    "BILLION = 1_000_000_000\n"
   ]
  },
  {
   "cell_type": "markdown",
   "metadata": {},
   "source": [
    "Рассчитаем достаточный объём сырья для безубыточной разработки новой скважины:"
   ]
  },
  {
   "cell_type": "code",
   "execution_count": 23,
   "metadata": {},
   "outputs": [
    {
     "data": {
      "text/plain": [
       "111.11111111111111"
      ]
     },
     "execution_count": 23,
     "metadata": {},
     "output_type": "execute_result"
    }
   ],
   "source": [
    "\n",
    "MIN_PRODUCT_STOCK = BUDGET_IN_REGION / NUM_OF_POINTS_TO_WORK_WITH / REVENUE_PER_UNIT_OF_PRODUCT\n",
    "MIN_PRODUCT_STOCK\n"
   ]
  },
  {
   "cell_type": "markdown",
   "metadata": {},
   "source": [
    "Минимальный объем сырья для безубыточной работы скважины превышает средние значения запасов в каждом регионе.  \n",
    "Далее мы отберем лучшие скважины в регионах.  \n",
    "Напишем функцию для расчета прибыли:"
   ]
  },
  {
   "cell_type": "code",
   "execution_count": 24,
   "metadata": {},
   "outputs": [],
   "source": [
    "\n",
    "predicted_0 = pd.Series(predicted_0)\n",
    "predicted_1 = pd.Series(predicted_1)\n",
    "predicted_2 = pd.Series(predicted_2)\n",
    "\n",
    "def calculate_revenue(predicted, targets):\n",
    "    '''This function selects the top 200 points by reserves and returns the revenue from their volume.\n",
    "       The arguments are pd.Series objects, containing numbers (volume of product) and having length > 200.\n",
    "       Returns float number.\n",
    "    '''\n",
    "    predicted_sorted = predicted.sort_values(ascending=False)\n",
    "    sum_of_product = targets[predicted_sorted[:NUM_OF_POINTS_TO_WORK_WITH].index].sum()\n",
    "    return sum_of_product * REVENUE_PER_UNIT_OF_PRODUCT - BUDGET_IN_REGION\n",
    "    "
   ]
  },
  {
   "cell_type": "markdown",
   "metadata": {},
   "source": [
    "### Вывод:"
   ]
  },
  {
   "cell_type": "markdown",
   "metadata": {},
   "source": [
    "Определили нужные константы для расчета прибыли.  \n",
    "Рассчитали достаточный объём сырья для безубыточной разработки новой скважины.  \n",
    "Минимальный объем сырья для безубыточной работы скважины превышает средние значения запасов в каждом регионе.     \n",
    "Далее мы отберем лучшие скважины в регионах.  \n",
    "Напишем функцию для расчета прибыли.  "
   ]
  },
  {
   "cell_type": "markdown",
   "metadata": {},
   "source": [
    "## Расчёт прибыли и рисков "
   ]
  },
  {
   "cell_type": "markdown",
   "metadata": {},
   "source": [
    "Найдем среднюю прибыль, **95%** доверительный интервал для каждого региона.  \n",
    "Применим технику `Bootstrap` с **1000** выборок, чтобы найти распределение прибыли.   "
   ]
  },
  {
   "cell_type": "code",
   "execution_count": 26,
   "metadata": {
    "scrolled": false
   },
   "outputs": [
    {
     "name": "stdout",
     "output_type": "stream",
     "text": [
      "Средняя прибыль в регионе \"0\" млн.руб.: 404.0\n",
      "95%-ый доверительный интервал:       -138.0 903.0\n",
      "Риск убытка:                            5.90 %\n",
      "\n",
      "Средняя прибыль в регионе \"1\" млн.руб.: 439.0\n",
      "95%-ый доверительный интервал:       32.0 846.0\n",
      "Риск убытка:                            1.60 %\n",
      "\n",
      "Средняя прибыль в регионе \"2\" млн.руб.: 368.0\n",
      "95%-ый доверительный интервал:       -169.0 877.0\n",
      "Риск убытка:                            8.00 %\n",
      "\n"
     ]
    },
    {
     "data": {
      "image/png": "[encoded data removed]",
      "text/plain": [
       "<Figure size 1152x648 with 1 Axes>"
      ]
     },
     "metadata": {
      "needs_background": "light"
     },
     "output_type": "display_data"
    }
   ],
   "source": [
    "\n",
    "regions_predict = [predicted_0, predicted_1, predicted_2]\n",
    "\n",
    "# сбросим индексы чтобы они соответствовали индексам предсказаний модели\n",
    "targets_valid = [target_0_valid.reset_index(drop=True), \n",
    "                 target_1_valid.reset_index(drop=True), \n",
    "                 target_2_valid.reset_index(drop=True)\n",
    "                ]\n",
    "state = RandomState(42)\n",
    "plt.figure(figsize=(16, 9))\n",
    "\n",
    "# для каждого региона 1000 раз сделаем выборки из 500 точек и передадим их функции расчета прибыли\n",
    "# функция каждый раз отберет лучшие по предсказанным запасам 200 из 500 точек и посчитает прибыль \n",
    "# посчитает уже на настоящих запасах по индексу точек и вернет нам прибыль которую мы запишем в общий список\n",
    "# мы получим список с 1000 прибылями для каждого региона и расчитаем нужные значения\n",
    "\n",
    "for index, region_predict in enumerate(regions_predict):\n",
    "    values = []\n",
    "    count = 0\n",
    "    for i in range(1000):\n",
    "        subsample = region_predict.sample(500, replace=True, random_state=state)\n",
    "        values.append(calculate_revenue(subsample, pd.Series(targets_valid[index])))\n",
    "    values = pd.Series(values)\n",
    "    sns.kdeplot(values, shade=True, label='Регион: '+str(index), alpha=0.6)\n",
    "    mean = values.mean()\n",
    "    print('Средняя прибыль в регионе \"{}\" млн.руб.:'.format(index), (mean/MILLION).round())\n",
    "    \n",
    "    # так как у нас есть факт по прибыли, можно построить дов. интервал напрямую с помощью квантилей, \n",
    "    # не прибегая к моделированию распределения Стьюдента для выборки\n",
    "    \n",
    "    lower_limit = (values.quantile(0.025)/MILLION).round()\n",
    "    upper_limit = (values.quantile(0.975)/MILLION).round()\n",
    "    print('95%-ый доверительный интервал:', ' '*5, lower_limit, upper_limit)\n",
    "    print('Риск убытка:', ' '*26, '{:.2f}'.format(stats.percentileofscore(values, 0, kind='strict')), '%\\n')\n",
    "plt.title('Распределение прибыли на основе выбора точек после \"Bootstrap\".', fontsize=20)\n",
    "plt.legend()\n",
    "plt.show()    \n",
    "    "
   ]
  },
  {
   "cell_type": "markdown",
   "metadata": {},
   "source": [
    "Снова регион 1 выделяется.  \n",
    "Ранее мы уже видели что в нем наименьшая ошибка модели, и наибольшая корреляция со вторым признаком.  \n",
    "Теперь видно что предварительно он самый прибыльный.  \n",
    "Распределение прибыли показывает нам что именно в первом регионе наибольшое количество точек с потенциально большей прибылью, Распределение имеет меньший левый хвост из трех.  \n",
    "У него самый высокий нижний порог доверительного интервала, и самый низкий риск убытка."
   ]
  },
  {
   "cell_type": "markdown",
   "metadata": {},
   "source": [
    "### Вывод:"
   ]
  },
  {
   "cell_type": "markdown",
   "metadata": {},
   "source": [
    "В ходе нашего иследования однозначным лидером стал регион 1.  \n",
    "Рекомендуется вести разработку именно там."
   ]
  },
  {
   "cell_type": "markdown",
   "metadata": {},
   "source": [
    "## Общий вывод:"
   ]
  },
  {
   "cell_type": "markdown",
   "metadata": {},
   "source": [
    "В id есть повторы - следует уточнить какие признаки верны для данных id    \n",
    "Cделано предсказание используя линейную регрессию.  \n",
    "Наименьшую ошибку модель показала на регионе 1.  \n",
    "Средний запас сырья предсказан очень точно по сравнению со средними запасами в исходных датасетах.  \n",
    "Видно что наибольшая корреляция с целевой переменной имеет признак `f2`, в регионе 1 корреляция = 1.  \n",
    "Признак `f2` также имеет наибольший вес в 2х моделях.  \n",
    "Возможно в регионе 1 стоит сосредоточиться именно на признаке `f2` при изучении новых точек для скважин.  \n",
    "Это может сэкономить средства на разведке.  \n",
    "Рассчитан достаточный объём сырья для безубыточной разработки новой скважины исходя из бюджета на разработку **200** лучших скважин по запасам.    \n",
    "Объем сырья для безубыточной работы скважины должен превышать **111 тыс.** баррелей что превосходит средние значения запасов в каждом регионе.      \n",
    "Применена техника `Bootstrap` с **1000** выборок, чтобы найти распределение прибыли.  \n",
    "\n",
    " - Рекомендовано вести разработку в **регионе 1**: \n",
    " - Там наилучшее распределение прибыли.\n",
    " - Наибольшая средняя прибыль: **439** млн.руб. (368, 404) остальные.\n",
    " - С вероятностью **95%** прибыль будет в диапазоне: **32:846** млн.руб. (-138:903, -169:877) остальные.\n",
    " - Риск убытка всего **1.6%** (5.9%, 8%) остальные."
   ]
  }
 ],
 "metadata": {
  "ExecuteTimeLog": [
   {
    "duration": 803,
    "start_time": "2021-06-18T10:19:29.790Z"
   },
   {
    "duration": 106,
    "start_time": "2021-06-18T10:19:31.557Z"
   },
   {
    "duration": 460,
    "start_time": "2021-06-18T10:19:51.957Z"
   },
   {
    "duration": 479,
    "start_time": "2021-06-18T10:19:53.229Z"
   },
   {
    "duration": 26,
    "start_time": "2021-06-18T10:19:54.788Z"
   },
   {
    "duration": 17,
    "start_time": "2021-06-18T10:20:01.869Z"
   },
   {
    "duration": 16,
    "start_time": "2021-06-18T10:20:17.309Z"
   },
   {
    "duration": 17,
    "start_time": "2021-06-18T10:20:44.117Z"
   },
   {
    "duration": 469,
    "start_time": "2021-06-18T10:30:14.024Z"
   },
   {
    "duration": 363,
    "start_time": "2021-06-18T10:30:24.085Z"
   },
   {
    "duration": 462,
    "start_time": "2021-06-18T10:30:31.724Z"
   },
   {
    "duration": 15,
    "start_time": "2021-06-18T10:30:32.452Z"
   },
   {
    "duration": 14,
    "start_time": "2021-06-18T10:30:57.788Z"
   },
   {
    "duration": 14,
    "start_time": "2021-06-18T10:31:06.492Z"
   },
   {
    "duration": 14,
    "start_time": "2021-06-18T10:31:10.715Z"
   },
   {
    "duration": 788,
    "start_time": "2021-06-18T10:32:46.994Z"
   },
   {
    "duration": 476,
    "start_time": "2021-06-18T10:32:47.785Z"
   },
   {
    "duration": 103,
    "start_time": "2021-06-18T10:32:48.265Z"
   },
   {
    "duration": 100,
    "start_time": "2021-06-18T10:32:48.371Z"
   },
   {
    "duration": 104,
    "start_time": "2021-06-18T10:32:48.475Z"
   },
   {
    "duration": 78,
    "start_time": "2021-06-18T10:36:46.559Z"
   },
   {
    "duration": 86,
    "start_time": "2021-06-18T10:36:56.143Z"
   },
   {
    "duration": 124,
    "start_time": "2021-06-18T10:38:52.965Z"
   },
   {
    "duration": 163,
    "start_time": "2021-06-18T10:38:57.357Z"
   },
   {
    "duration": 128,
    "start_time": "2021-06-18T10:39:19.358Z"
   },
   {
    "duration": 182,
    "start_time": "2021-06-18T10:40:46.771Z"
   },
   {
    "duration": 18,
    "start_time": "2021-06-18T10:41:20.371Z"
   },
   {
    "duration": 6594,
    "start_time": "2021-06-18T10:41:27.060Z"
   },
   {
    "duration": 16,
    "start_time": "2021-06-18T10:41:43.755Z"
   },
   {
    "duration": 17,
    "start_time": "2021-06-18T10:41:54.635Z"
   },
   {
    "duration": 16,
    "start_time": "2021-06-18T10:42:01.490Z"
   },
   {
    "duration": 51,
    "start_time": "2021-06-18T10:52:07.522Z"
   },
   {
    "duration": 53,
    "start_time": "2021-06-18T10:52:15.882Z"
   },
   {
    "duration": 51,
    "start_time": "2021-06-18T10:52:29.746Z"
   },
   {
    "duration": 52,
    "start_time": "2021-06-18T10:52:39.993Z"
   },
   {
    "duration": 142,
    "start_time": "2021-06-18T10:54:42.512Z"
   },
   {
    "duration": 58,
    "start_time": "2021-06-18T10:55:01.785Z"
   },
   {
    "duration": 47,
    "start_time": "2021-06-18T10:56:42.238Z"
   },
   {
    "duration": 166,
    "start_time": "2021-06-18T10:57:14.270Z"
   },
   {
    "duration": 115,
    "start_time": "2021-06-18T11:24:13.129Z"
   },
   {
    "duration": 29,
    "start_time": "2021-06-18T11:24:30.721Z"
   },
   {
    "duration": 426,
    "start_time": "2021-06-18T11:27:20.126Z"
   },
   {
    "duration": 22,
    "start_time": "2021-06-18T11:27:24.277Z"
   },
   {
    "duration": 26,
    "start_time": "2021-06-18T11:28:15.365Z"
   },
   {
    "duration": 46,
    "start_time": "2021-06-18T11:28:18.797Z"
   },
   {
    "duration": 398,
    "start_time": "2021-06-18T11:28:56.484Z"
   },
   {
    "duration": 417,
    "start_time": "2021-06-18T11:29:11.124Z"
   },
   {
    "duration": 54,
    "start_time": "2021-06-18T11:29:35.843Z"
   },
   {
    "duration": 105,
    "start_time": "2021-06-18T11:30:39.436Z"
   },
   {
    "duration": 169,
    "start_time": "2021-06-18T11:34:28.114Z"
   },
   {
    "duration": 54,
    "start_time": "2021-06-18T11:36:05.615Z"
   },
   {
    "duration": 52,
    "start_time": "2021-06-18T11:36:07.038Z"
   },
   {
    "duration": 53,
    "start_time": "2021-06-18T11:36:08.160Z"
   },
   {
    "duration": 697,
    "start_time": "2021-06-18T11:48:33.908Z"
   },
   {
    "duration": 4,
    "start_time": "2021-06-18T11:49:16.451Z"
   },
   {
    "duration": 390,
    "start_time": "2021-06-18T13:51:50.388Z"
   },
   {
    "duration": 4,
    "start_time": "2021-06-18T13:52:16.579Z"
   },
   {
    "duration": 361,
    "start_time": "2021-06-18T13:52:21.995Z"
   },
   {
    "duration": 81,
    "start_time": "2021-06-18T13:53:05.202Z"
   },
   {
    "duration": 16,
    "start_time": "2021-06-18T13:53:20.058Z"
   },
   {
    "duration": 17,
    "start_time": "2021-06-18T13:54:11.682Z"
   },
   {
    "duration": 17,
    "start_time": "2021-06-18T13:54:51.994Z"
   },
   {
    "duration": 14,
    "start_time": "2021-06-18T13:55:56.769Z"
   },
   {
    "duration": 1331,
    "start_time": "2021-06-18T13:57:00.277Z"
   },
   {
    "duration": 476,
    "start_time": "2021-06-18T13:57:01.610Z"
   },
   {
    "duration": 28,
    "start_time": "2021-06-18T13:57:02.089Z"
   },
   {
    "duration": 21,
    "start_time": "2021-06-18T13:57:02.127Z"
   },
   {
    "duration": 41,
    "start_time": "2021-06-18T13:57:02.150Z"
   },
   {
    "duration": 114,
    "start_time": "2021-06-18T13:57:02.194Z"
   },
   {
    "duration": 103,
    "start_time": "2021-06-18T13:57:02.310Z"
   },
   {
    "duration": 95,
    "start_time": "2021-06-18T13:57:02.416Z"
   },
   {
    "duration": 229,
    "start_time": "2021-06-18T13:57:02.513Z"
   },
   {
    "duration": 54,
    "start_time": "2021-06-18T13:57:02.744Z"
   },
   {
    "duration": 156,
    "start_time": "2021-06-18T13:57:02.800Z"
   },
   {
    "duration": 16,
    "start_time": "2021-06-18T13:57:02.959Z"
   },
   {
    "duration": 81,
    "start_time": "2021-06-18T13:57:02.979Z"
   },
   {
    "duration": 71,
    "start_time": "2021-06-18T13:57:03.063Z"
   },
   {
    "duration": 54,
    "start_time": "2021-06-18T13:57:03.136Z"
   },
   {
    "duration": 113,
    "start_time": "2021-06-18T13:57:03.192Z"
   },
   {
    "duration": 28,
    "start_time": "2021-06-18T13:57:03.307Z"
   },
   {
    "duration": 1391,
    "start_time": "2021-06-18T13:58:53.445Z"
   },
   {
    "duration": 468,
    "start_time": "2021-06-18T13:58:54.839Z"
   },
   {
    "duration": 32,
    "start_time": "2021-06-18T13:58:55.314Z"
   },
   {
    "duration": 29,
    "start_time": "2021-06-18T13:58:55.348Z"
   },
   {
    "duration": 18,
    "start_time": "2021-06-18T13:58:55.380Z"
   },
   {
    "duration": 111,
    "start_time": "2021-06-18T13:58:55.401Z"
   },
   {
    "duration": 100,
    "start_time": "2021-06-18T13:58:55.527Z"
   },
   {
    "duration": 101,
    "start_time": "2021-06-18T13:58:55.631Z"
   },
   {
    "duration": 213,
    "start_time": "2021-06-18T13:58:55.735Z"
   },
   {
    "duration": 75,
    "start_time": "2021-06-18T13:58:55.951Z"
   },
   {
    "duration": 142,
    "start_time": "2021-06-18T13:58:56.028Z"
   },
   {
    "duration": 13,
    "start_time": "2021-06-18T13:58:56.172Z"
   },
   {
    "duration": 83,
    "start_time": "2021-06-18T13:58:56.188Z"
   },
   {
    "duration": 69,
    "start_time": "2021-06-18T13:58:56.274Z"
   },
   {
    "duration": 60,
    "start_time": "2021-06-18T13:58:56.346Z"
   },
   {
    "duration": 4,
    "start_time": "2021-06-18T13:58:56.425Z"
   },
   {
    "duration": 22,
    "start_time": "2021-06-18T13:58:56.432Z"
   },
   {
    "duration": 18,
    "start_time": "2021-06-18T13:59:06.259Z"
   },
   {
    "duration": 1384,
    "start_time": "2021-06-18T14:00:09.661Z"
   },
   {
    "duration": 483,
    "start_time": "2021-06-18T14:00:11.048Z"
   },
   {
    "duration": 32,
    "start_time": "2021-06-18T14:00:11.535Z"
   },
   {
    "duration": 17,
    "start_time": "2021-06-18T14:00:11.570Z"
   },
   {
    "duration": 48,
    "start_time": "2021-06-18T14:00:11.589Z"
   },
   {
    "duration": 108,
    "start_time": "2021-06-18T14:00:11.640Z"
   },
   {
    "duration": 99,
    "start_time": "2021-06-18T14:00:11.750Z"
   },
   {
    "duration": 104,
    "start_time": "2021-06-18T14:00:11.852Z"
   },
   {
    "duration": 225,
    "start_time": "2021-06-18T14:00:11.958Z"
   },
   {
    "duration": 67,
    "start_time": "2021-06-18T14:00:12.186Z"
   },
   {
    "duration": 176,
    "start_time": "2021-06-18T14:00:12.256Z"
   },
   {
    "duration": 15,
    "start_time": "2021-06-18T14:00:12.434Z"
   },
   {
    "duration": 82,
    "start_time": "2021-06-18T14:00:12.451Z"
   },
   {
    "duration": 54,
    "start_time": "2021-06-18T14:00:12.536Z"
   },
   {
    "duration": 70,
    "start_time": "2021-06-18T14:00:12.593Z"
   },
   {
    "duration": 2,
    "start_time": "2021-06-18T14:00:12.666Z"
   },
   {
    "duration": 21,
    "start_time": "2021-06-18T14:00:12.671Z"
   },
   {
    "duration": 63,
    "start_time": "2021-06-18T14:00:36.819Z"
   },
   {
    "duration": 17,
    "start_time": "2021-06-18T14:00:39.164Z"
   },
   {
    "duration": 52,
    "start_time": "2021-06-18T14:00:59.596Z"
   },
   {
    "duration": 56,
    "start_time": "2021-06-18T14:01:19.932Z"
   },
   {
    "duration": 56,
    "start_time": "2021-06-18T14:02:17.316Z"
   },
   {
    "duration": 57,
    "start_time": "2021-06-18T14:02:27.250Z"
   },
   {
    "duration": 56,
    "start_time": "2021-06-18T14:02:40.146Z"
   },
   {
    "duration": 20,
    "start_time": "2021-06-18T14:26:28.566Z"
   },
   {
    "duration": 494,
    "start_time": "2021-06-18T14:33:43.378Z"
   },
   {
    "duration": 5,
    "start_time": "2021-06-18T14:34:03.872Z"
   },
   {
    "duration": 70,
    "start_time": "2021-06-18T14:34:10.713Z"
   },
   {
    "duration": 5,
    "start_time": "2021-06-18T14:34:45.824Z"
   },
   {
    "duration": 5,
    "start_time": "2021-06-18T14:34:55.368Z"
   },
   {
    "duration": 5,
    "start_time": "2021-06-18T14:35:02.754Z"
   },
   {
    "duration": 322,
    "start_time": "2021-06-18T14:35:06.263Z"
   },
   {
    "duration": 6,
    "start_time": "2021-06-18T14:35:09.264Z"
   },
   {
    "duration": 4,
    "start_time": "2021-06-18T14:35:31.280Z"
   },
   {
    "duration": 117,
    "start_time": "2021-06-18T14:35:47.432Z"
   },
   {
    "duration": 171,
    "start_time": "2021-06-18T14:36:00.215Z"
   },
   {
    "duration": 5,
    "start_time": "2021-06-18T14:36:05.439Z"
   },
   {
    "duration": 108,
    "start_time": "2021-06-18T14:37:10.919Z"
   },
   {
    "duration": 5,
    "start_time": "2021-06-18T14:37:16.334Z"
   },
   {
    "duration": 5,
    "start_time": "2021-06-18T14:37:57.605Z"
   },
   {
    "duration": 5,
    "start_time": "2021-06-18T14:38:04.342Z"
   },
   {
    "duration": 5,
    "start_time": "2021-06-18T14:38:35.941Z"
   },
   {
    "duration": 390,
    "start_time": "2021-06-18T14:46:44.431Z"
   },
   {
    "duration": 109,
    "start_time": "2021-06-18T14:48:29.437Z"
   },
   {
    "duration": 42,
    "start_time": "2021-06-18T14:48:46.085Z"
   },
   {
    "duration": 310,
    "start_time": "2021-06-18T15:04:30.216Z"
   },
   {
    "duration": 101,
    "start_time": "2021-06-18T15:09:16.237Z"
   },
   {
    "duration": 378,
    "start_time": "2021-06-18T15:09:24.924Z"
   },
   {
    "duration": 4,
    "start_time": "2021-06-18T15:09:40.060Z"
   },
   {
    "duration": 381,
    "start_time": "2021-06-18T15:09:46.348Z"
   },
   {
    "duration": 6,
    "start_time": "2021-06-18T15:09:49.355Z"
   },
   {
    "duration": 6,
    "start_time": "2021-06-18T15:09:59.883Z"
   },
   {
    "duration": 7,
    "start_time": "2021-06-18T15:10:09.612Z"
   },
   {
    "duration": 6,
    "start_time": "2021-06-18T15:11:08.026Z"
   },
   {
    "duration": 25,
    "start_time": "2021-06-18T15:11:10.524Z"
   },
   {
    "duration": 371,
    "start_time": "2021-06-18T15:11:46.906Z"
   },
   {
    "duration": 144,
    "start_time": "2021-06-18T15:12:18.585Z"
   },
   {
    "duration": 834,
    "start_time": "2021-06-18T15:12:20.345Z"
   },
   {
    "duration": 1381,
    "start_time": "2021-06-18T15:13:20.007Z"
   },
   {
    "duration": 1278,
    "start_time": "2021-06-18T15:13:21.391Z"
   },
   {
    "duration": 29,
    "start_time": "2021-06-18T15:13:22.673Z"
   },
   {
    "duration": 32,
    "start_time": "2021-06-18T15:13:22.705Z"
   },
   {
    "duration": 18,
    "start_time": "2021-06-18T15:13:22.740Z"
   },
   {
    "duration": 135,
    "start_time": "2021-06-18T15:13:22.761Z"
   },
   {
    "duration": 105,
    "start_time": "2021-06-18T15:13:22.898Z"
   },
   {
    "duration": 111,
    "start_time": "2021-06-18T15:13:23.007Z"
   },
   {
    "duration": 229,
    "start_time": "2021-06-18T15:13:23.125Z"
   },
   {
    "duration": 54,
    "start_time": "2021-06-18T15:13:23.357Z"
   },
   {
    "duration": 164,
    "start_time": "2021-06-18T15:13:23.414Z"
   },
   {
    "duration": 13,
    "start_time": "2021-06-18T15:13:23.580Z"
   },
   {
    "duration": 78,
    "start_time": "2021-06-18T15:13:23.596Z"
   },
   {
    "duration": 69,
    "start_time": "2021-06-18T15:13:23.676Z"
   },
   {
    "duration": 54,
    "start_time": "2021-06-18T15:13:23.748Z"
   },
   {
    "duration": 66,
    "start_time": "2021-06-18T15:13:23.806Z"
   },
   {
    "duration": 79,
    "start_time": "2021-06-18T15:13:23.874Z"
   },
   {
    "duration": 19,
    "start_time": "2021-06-18T15:13:23.957Z"
   },
   {
    "duration": 99,
    "start_time": "2021-06-18T15:13:23.978Z"
   },
   {
    "duration": 5,
    "start_time": "2021-06-18T15:13:24.079Z"
   },
   {
    "duration": 247,
    "start_time": "2021-06-18T15:13:24.087Z"
   },
   {
    "duration": 635,
    "start_time": "2021-06-18T15:13:24.338Z"
   },
   {
    "duration": 410,
    "start_time": "2021-06-18T15:13:27.216Z"
   },
   {
    "duration": 12,
    "start_time": "2021-06-18T15:13:29.119Z"
   },
   {
    "duration": 11,
    "start_time": "2021-06-18T15:13:57.927Z"
   },
   {
    "duration": 10,
    "start_time": "2021-06-18T15:14:29.008Z"
   },
   {
    "duration": 18,
    "start_time": "2021-06-18T15:14:52.904Z"
   },
   {
    "duration": 13,
    "start_time": "2021-06-18T15:15:26.351Z"
   },
   {
    "duration": 13,
    "start_time": "2021-06-18T15:15:43.135Z"
   },
   {
    "duration": 13,
    "start_time": "2021-06-18T15:15:52.007Z"
   },
   {
    "duration": 508,
    "start_time": "2021-06-18T15:16:12.279Z"
   },
   {
    "duration": 11,
    "start_time": "2021-06-18T15:16:37.854Z"
   },
   {
    "duration": 10,
    "start_time": "2021-06-18T15:16:47.910Z"
   },
   {
    "duration": 1430,
    "start_time": "2021-06-18T15:18:06.110Z"
   },
   {
    "duration": 483,
    "start_time": "2021-06-18T15:18:07.542Z"
   },
   {
    "duration": 27,
    "start_time": "2021-06-18T15:18:08.027Z"
   },
   {
    "duration": 17,
    "start_time": "2021-06-18T15:18:08.057Z"
   },
   {
    "duration": 16,
    "start_time": "2021-06-18T15:18:08.076Z"
   },
   {
    "duration": 133,
    "start_time": "2021-06-18T15:18:08.095Z"
   },
   {
    "duration": 98,
    "start_time": "2021-06-18T15:18:08.230Z"
   },
   {
    "duration": 115,
    "start_time": "2021-06-18T15:18:08.331Z"
   },
   {
    "duration": 207,
    "start_time": "2021-06-18T15:18:08.449Z"
   },
   {
    "duration": 50,
    "start_time": "2021-06-18T15:18:08.658Z"
   },
   {
    "duration": 149,
    "start_time": "2021-06-18T15:18:08.725Z"
   },
   {
    "duration": 15,
    "start_time": "2021-06-18T15:18:08.876Z"
   },
   {
    "duration": 81,
    "start_time": "2021-06-18T15:18:08.894Z"
   },
   {
    "duration": 72,
    "start_time": "2021-06-18T15:18:08.977Z"
   },
   {
    "duration": 73,
    "start_time": "2021-06-18T15:18:09.052Z"
   },
   {
    "duration": 3,
    "start_time": "2021-06-18T15:18:09.128Z"
   },
   {
    "duration": 59,
    "start_time": "2021-06-18T15:18:09.134Z"
   },
   {
    "duration": 40,
    "start_time": "2021-06-18T15:18:09.196Z"
   },
   {
    "duration": 86,
    "start_time": "2021-06-18T15:18:09.239Z"
   },
   {
    "duration": 5,
    "start_time": "2021-06-18T15:18:09.328Z"
   },
   {
    "duration": 198,
    "start_time": "2021-06-18T15:18:09.335Z"
   },
   {
    "duration": 190,
    "start_time": "2021-06-18T15:18:09.536Z"
   },
   {
    "duration": 122,
    "start_time": "2021-06-18T15:27:01.541Z"
   },
   {
    "duration": 479,
    "start_time": "2021-06-18T15:27:16.532Z"
   },
   {
    "duration": 11,
    "start_time": "2021-06-18T15:27:39.892Z"
   },
   {
    "duration": 1560,
    "start_time": "2021-06-19T18:35:16.954Z"
   },
   {
    "duration": 477,
    "start_time": "2021-06-19T18:35:18.518Z"
   },
   {
    "duration": 22,
    "start_time": "2021-06-19T18:35:18.998Z"
   },
   {
    "duration": 17,
    "start_time": "2021-06-19T18:35:19.023Z"
   },
   {
    "duration": 16,
    "start_time": "2021-06-19T18:35:19.063Z"
   },
   {
    "duration": 112,
    "start_time": "2021-06-19T18:35:19.081Z"
   },
   {
    "duration": 96,
    "start_time": "2021-06-19T18:35:19.195Z"
   },
   {
    "duration": 99,
    "start_time": "2021-06-19T18:35:19.294Z"
   },
   {
    "duration": 206,
    "start_time": "2021-06-19T18:35:19.395Z"
   },
   {
    "duration": 59,
    "start_time": "2021-06-19T18:35:19.604Z"
   },
   {
    "duration": 143,
    "start_time": "2021-06-19T18:35:19.666Z"
   },
   {
    "duration": 14,
    "start_time": "2021-06-19T18:35:19.811Z"
   },
   {
    "duration": 78,
    "start_time": "2021-06-19T18:35:19.827Z"
   },
   {
    "duration": 57,
    "start_time": "2021-06-19T18:35:19.907Z"
   },
   {
    "duration": 51,
    "start_time": "2021-06-19T18:35:19.966Z"
   },
   {
    "duration": 81,
    "start_time": "2021-06-19T18:35:20.019Z"
   },
   {
    "duration": 19,
    "start_time": "2021-06-19T18:35:20.102Z"
   },
   {
    "duration": 89,
    "start_time": "2021-06-19T18:35:20.123Z"
   },
   {
    "duration": 4,
    "start_time": "2021-06-19T18:35:20.215Z"
   },
   {
    "duration": 142,
    "start_time": "2021-06-19T18:35:20.221Z"
   },
   {
    "duration": 99,
    "start_time": "2021-06-19T18:35:20.365Z"
   },
   {
    "duration": 1204,
    "start_time": "2021-06-19T18:37:20.809Z"
   },
   {
    "duration": 363,
    "start_time": "2021-06-19T18:37:55.993Z"
   },
   {
    "duration": 358,
    "start_time": "2021-06-19T18:38:17.952Z"
   },
   {
    "duration": 368,
    "start_time": "2021-06-19T18:38:35.392Z"
   },
   {
    "duration": 481,
    "start_time": "2021-06-19T18:41:43.997Z"
   },
   {
    "duration": 4,
    "start_time": "2021-06-19T18:42:25.477Z"
   },
   {
    "duration": 321,
    "start_time": "2021-06-19T18:42:37.573Z"
   },
   {
    "duration": 6,
    "start_time": "2021-06-19T18:43:11.965Z"
   },
   {
    "duration": 5,
    "start_time": "2021-06-19T18:43:14.564Z"
   },
   {
    "duration": 1031,
    "start_time": "2021-06-19T18:43:19.996Z"
   },
   {
    "duration": 675,
    "start_time": "2021-06-19T18:44:30.932Z"
   },
   {
    "duration": 698,
    "start_time": "2021-06-19T18:44:49.604Z"
   },
   {
    "duration": 824,
    "start_time": "2021-06-19T18:46:43.042Z"
   },
   {
    "duration": 1158,
    "start_time": "2021-06-19T18:47:30.313Z"
   },
   {
    "duration": 885,
    "start_time": "2021-06-19T18:47:42.713Z"
   },
   {
    "duration": 929,
    "start_time": "2021-06-19T18:48:04.720Z"
   },
   {
    "duration": 1280,
    "start_time": "2021-06-19T18:50:36.418Z"
   },
   {
    "duration": 1212,
    "start_time": "2021-06-19T18:50:56.766Z"
   },
   {
    "duration": 1108,
    "start_time": "2021-06-19T18:51:05.894Z"
   },
   {
    "duration": 1613,
    "start_time": "2021-06-19T18:51:53.214Z"
   },
   {
    "duration": 1243,
    "start_time": "2021-06-19T18:52:19.053Z"
   },
   {
    "duration": 1172,
    "start_time": "2021-06-19T18:52:41.973Z"
   },
   {
    "duration": 1201,
    "start_time": "2021-06-19T18:52:56.868Z"
   },
   {
    "duration": 1105,
    "start_time": "2021-06-19T18:53:09.212Z"
   },
   {
    "duration": 1061,
    "start_time": "2021-06-19T18:53:15.691Z"
   },
   {
    "duration": 1023,
    "start_time": "2021-06-19T18:53:20.604Z"
   },
   {
    "duration": 1146,
    "start_time": "2021-06-19T18:55:00.451Z"
   },
   {
    "duration": 1035,
    "start_time": "2021-06-19T18:55:13.723Z"
   },
   {
    "duration": 1193,
    "start_time": "2021-06-19T18:55:54.946Z"
   },
   {
    "duration": 1179,
    "start_time": "2021-06-19T18:56:10.354Z"
   },
   {
    "duration": 1169,
    "start_time": "2021-06-19T18:56:19.361Z"
   },
   {
    "duration": 1096,
    "start_time": "2021-06-19T18:56:46.361Z"
   },
   {
    "duration": 1178,
    "start_time": "2021-06-19T19:00:45.886Z"
   },
   {
    "duration": 304,
    "start_time": "2021-06-19T19:05:03.644Z"
   },
   {
    "duration": 110,
    "start_time": "2021-06-19T19:06:11.298Z"
   },
   {
    "duration": 778,
    "start_time": "2021-06-19T19:06:15.777Z"
   },
   {
    "duration": 281,
    "start_time": "2021-06-19T19:06:28.209Z"
   },
   {
    "duration": 285,
    "start_time": "2021-06-19T19:08:39.776Z"
   },
   {
    "duration": 7591,
    "start_time": "2021-06-19T19:09:59.607Z"
   },
   {
    "duration": 1102,
    "start_time": "2021-06-19T19:10:14.102Z"
   },
   {
    "duration": 350,
    "start_time": "2021-06-19T19:10:21.359Z"
   },
   {
    "duration": 4,
    "start_time": "2021-06-19T19:10:54.990Z"
   },
   {
    "duration": 37652,
    "start_time": "2021-06-19T19:13:07.645Z"
   },
   {
    "duration": 97,
    "start_time": "2021-06-19T19:24:45.093Z"
   },
   {
    "duration": 294,
    "start_time": "2021-06-19T19:25:52.355Z"
   },
   {
    "duration": 56,
    "start_time": "2021-06-19T19:26:05.402Z"
   },
   {
    "duration": 154,
    "start_time": "2021-06-19T19:26:58.357Z"
   },
   {
    "duration": 1997,
    "start_time": "2021-06-19T19:27:25.194Z"
   },
   {
    "duration": 545,
    "start_time": "2021-06-19T19:27:27.194Z"
   },
   {
    "duration": 32,
    "start_time": "2021-06-19T19:27:27.743Z"
   },
   {
    "duration": 18,
    "start_time": "2021-06-19T19:27:27.779Z"
   },
   {
    "duration": 16,
    "start_time": "2021-06-19T19:27:27.799Z"
   },
   {
    "duration": 123,
    "start_time": "2021-06-19T19:27:27.817Z"
   },
   {
    "duration": 104,
    "start_time": "2021-06-19T19:27:27.942Z"
   },
   {
    "duration": 113,
    "start_time": "2021-06-19T19:27:28.049Z"
   },
   {
    "duration": 205,
    "start_time": "2021-06-19T19:27:28.166Z"
   },
   {
    "duration": 52,
    "start_time": "2021-06-19T19:27:28.374Z"
   },
   {
    "duration": 164,
    "start_time": "2021-06-19T19:27:28.428Z"
   },
   {
    "duration": 14,
    "start_time": "2021-06-19T19:27:28.595Z"
   },
   {
    "duration": 83,
    "start_time": "2021-06-19T19:27:28.611Z"
   },
   {
    "duration": 66,
    "start_time": "2021-06-19T19:27:28.697Z"
   },
   {
    "duration": 57,
    "start_time": "2021-06-19T19:27:28.766Z"
   },
   {
    "duration": 198,
    "start_time": "2021-06-19T19:27:28.825Z"
   },
   {
    "duration": 67,
    "start_time": "2021-06-19T19:27:29.026Z"
   },
   {
    "duration": 17,
    "start_time": "2021-06-19T19:27:29.095Z"
   },
   {
    "duration": 86,
    "start_time": "2021-06-19T19:27:29.114Z"
   },
   {
    "duration": 5,
    "start_time": "2021-06-19T19:27:29.202Z"
   },
   {
    "duration": 253,
    "start_time": "2021-06-19T19:27:29.210Z"
   },
   {
    "duration": 101,
    "start_time": "2021-06-19T19:27:29.467Z"
   },
   {
    "duration": 1286,
    "start_time": "2021-06-19T19:27:29.571Z"
   },
   {
    "duration": 34869,
    "start_time": "2021-06-19T19:27:30.860Z"
   },
   {
    "duration": 33488,
    "start_time": "2021-06-19T19:30:00.174Z"
   },
   {
    "duration": 33376,
    "start_time": "2021-06-19T19:30:52.933Z"
   },
   {
    "duration": 486,
    "start_time": "2021-06-19T19:51:39.254Z"
   },
   {
    "duration": 6,
    "start_time": "2021-06-19T19:52:39.325Z"
   },
   {
    "duration": 13,
    "start_time": "2021-06-19T19:52:46.684Z"
   },
   {
    "duration": 5,
    "start_time": "2021-06-19T19:53:41.123Z"
   },
   {
    "duration": 10,
    "start_time": "2021-06-19T19:53:48.307Z"
   },
   {
    "duration": 11,
    "start_time": "2021-06-19T19:56:19.210Z"
   },
   {
    "duration": 7,
    "start_time": "2021-06-19T19:57:38.929Z"
   },
   {
    "duration": 14,
    "start_time": "2021-06-19T19:58:06.609Z"
   },
   {
    "duration": 13,
    "start_time": "2021-06-19T19:59:23.007Z"
   },
   {
    "duration": 12,
    "start_time": "2021-06-19T19:59:36.015Z"
   },
   {
    "duration": 135,
    "start_time": "2021-06-19T19:59:45.735Z"
   },
   {
    "duration": 15,
    "start_time": "2021-06-19T19:59:54.687Z"
   },
   {
    "duration": 211,
    "start_time": "2021-06-19T20:02:28.158Z"
   },
   {
    "duration": 10,
    "start_time": "2021-06-19T20:02:31.053Z"
   },
   {
    "duration": 14,
    "start_time": "2021-06-19T20:02:48.500Z"
   },
   {
    "duration": 771,
    "start_time": "2021-06-19T20:22:06.654Z"
   },
   {
    "duration": 71997,
    "start_time": "2021-06-19T20:22:28.742Z"
   },
   {
    "duration": 110050,
    "start_time": "2021-06-19T20:24:01.796Z"
   },
   {
    "duration": 7113,
    "start_time": "2021-06-19T20:52:08.478Z"
   },
   {
    "duration": 6416,
    "start_time": "2021-06-19T20:52:26.556Z"
   },
   {
    "duration": 7109,
    "start_time": "2021-06-19T20:52:52.918Z"
   },
   {
    "duration": 118,
    "start_time": "2021-06-19T20:54:47.539Z"
   },
   {
    "duration": 16728,
    "start_time": "2021-06-19T20:56:42.645Z"
   },
   {
    "duration": 16767,
    "start_time": "2021-06-19T20:58:10.426Z"
   },
   {
    "duration": 16649,
    "start_time": "2021-06-19T20:58:41.360Z"
   },
   {
    "duration": 16458,
    "start_time": "2021-06-19T20:59:03.248Z"
   },
   {
    "duration": 16518,
    "start_time": "2021-06-19T20:59:30.319Z"
   },
   {
    "duration": 16630,
    "start_time": "2021-06-19T21:00:12.710Z"
   },
   {
    "duration": 15959,
    "start_time": "2021-06-19T21:00:30.376Z"
   },
   {
    "duration": 16442,
    "start_time": "2021-06-19T21:01:50.174Z"
   },
   {
    "duration": 20160,
    "start_time": "2021-06-19T21:02:34.261Z"
   },
   {
    "duration": 321,
    "start_time": "2021-06-20T05:25:48.597Z"
   },
   {
    "duration": 4,
    "start_time": "2021-06-20T05:25:53.684Z"
   },
   {
    "duration": 13,
    "start_time": "2021-06-20T05:25:55.988Z"
   },
   {
    "duration": 5,
    "start_time": "2021-06-20T05:26:16.724Z"
   },
   {
    "duration": 4,
    "start_time": "2021-06-20T05:30:28.801Z"
   },
   {
    "duration": 5,
    "start_time": "2021-06-20T05:30:30.158Z"
   },
   {
    "duration": 105,
    "start_time": "2021-06-20T05:35:08.797Z"
   },
   {
    "duration": 5,
    "start_time": "2021-06-20T05:35:23.556Z"
   },
   {
    "duration": 3,
    "start_time": "2021-06-20T05:59:27.314Z"
   },
   {
    "duration": 1519,
    "start_time": "2021-06-20T07:02:11.271Z"
   },
   {
    "duration": 359,
    "start_time": "2021-06-20T07:14:55.093Z"
   },
   {
    "duration": 269,
    "start_time": "2021-06-20T07:15:22.067Z"
   },
   {
    "duration": 261,
    "start_time": "2021-06-20T07:15:28.899Z"
   },
   {
    "duration": 1517,
    "start_time": "2021-06-20T07:15:36.937Z"
   },
   {
    "duration": 459,
    "start_time": "2021-06-20T07:15:38.457Z"
   },
   {
    "duration": 20,
    "start_time": "2021-06-20T07:15:38.919Z"
   },
   {
    "duration": 25,
    "start_time": "2021-06-20T07:15:38.941Z"
   },
   {
    "duration": 27,
    "start_time": "2021-06-20T07:15:38.968Z"
   },
   {
    "duration": 98,
    "start_time": "2021-06-20T07:15:38.997Z"
   },
   {
    "duration": 95,
    "start_time": "2021-06-20T07:15:39.097Z"
   },
   {
    "duration": 105,
    "start_time": "2021-06-20T07:15:39.196Z"
   },
   {
    "duration": 324,
    "start_time": "2021-06-20T07:15:39.305Z"
   },
   {
    "duration": 63,
    "start_time": "2021-06-20T07:15:39.632Z"
   },
   {
    "duration": 158,
    "start_time": "2021-06-20T07:15:39.698Z"
   },
   {
    "duration": 59,
    "start_time": "2021-06-20T07:15:39.859Z"
   },
   {
    "duration": 73,
    "start_time": "2021-06-20T07:15:39.921Z"
   },
   {
    "duration": 70,
    "start_time": "2021-06-20T07:15:39.996Z"
   },
   {
    "duration": 185,
    "start_time": "2021-06-20T07:15:40.069Z"
   },
   {
    "duration": 52,
    "start_time": "2021-06-20T07:15:40.257Z"
   },
   {
    "duration": 16,
    "start_time": "2021-06-20T07:15:40.311Z"
   },
   {
    "duration": 87,
    "start_time": "2021-06-20T07:15:40.330Z"
   },
   {
    "duration": 4,
    "start_time": "2021-06-20T07:15:40.420Z"
   },
   {
    "duration": 332,
    "start_time": "2021-06-20T07:15:40.427Z"
   },
   {
    "duration": 101,
    "start_time": "2021-06-20T07:15:40.763Z"
   },
   {
    "duration": 1279,
    "start_time": "2021-06-20T07:15:40.867Z"
   },
   {
    "duration": 13,
    "start_time": "2021-06-20T07:15:42.155Z"
   },
   {
    "duration": 8,
    "start_time": "2021-06-20T07:15:42.170Z"
   },
   {
    "duration": 17,
    "start_time": "2021-06-20T07:15:42.180Z"
   },
   {
    "duration": 577,
    "start_time": "2021-06-20T07:15:42.199Z"
   },
   {
    "duration": 1576,
    "start_time": "2021-06-20T07:15:41.202Z"
   },
   {
    "duration": 448,
    "start_time": "2021-06-20T07:16:38.796Z"
   },
   {
    "duration": 440,
    "start_time": "2021-06-20T07:17:20.387Z"
   },
   {
    "duration": 12,
    "start_time": "2021-06-20T07:18:12.059Z"
   },
   {
    "duration": 13,
    "start_time": "2021-06-20T07:18:45.883Z"
   },
   {
    "duration": 13,
    "start_time": "2021-06-20T07:19:44.617Z"
   },
   {
    "duration": 13,
    "start_time": "2021-06-20T07:20:19.368Z"
   },
   {
    "duration": 11,
    "start_time": "2021-06-20T07:21:36.240Z"
   },
   {
    "duration": 11,
    "start_time": "2021-06-20T07:22:05.319Z"
   },
   {
    "duration": 11,
    "start_time": "2021-06-20T07:22:19.863Z"
   },
   {
    "duration": 469,
    "start_time": "2021-06-20T07:23:29.862Z"
   },
   {
    "duration": 14,
    "start_time": "2021-06-20T07:23:49.479Z"
   },
   {
    "duration": 13,
    "start_time": "2021-06-20T07:24:00.406Z"
   },
   {
    "duration": 11,
    "start_time": "2021-06-20T07:24:10.661Z"
   },
   {
    "duration": 12,
    "start_time": "2021-06-20T07:24:27.956Z"
   },
   {
    "duration": 12,
    "start_time": "2021-06-20T07:25:08.190Z"
   },
   {
    "duration": 11,
    "start_time": "2021-06-20T07:26:09.004Z"
   },
   {
    "duration": 10,
    "start_time": "2021-06-20T07:26:13.580Z"
   },
   {
    "duration": 11,
    "start_time": "2021-06-20T07:26:18.419Z"
   },
   {
    "duration": 11,
    "start_time": "2021-06-20T07:26:25.084Z"
   },
   {
    "duration": 10,
    "start_time": "2021-06-20T07:26:29.492Z"
   },
   {
    "duration": 10,
    "start_time": "2021-06-20T07:26:38.051Z"
   },
   {
    "duration": 11,
    "start_time": "2021-06-20T07:26:46.212Z"
   },
   {
    "duration": 10,
    "start_time": "2021-06-20T07:26:50.491Z"
   },
   {
    "duration": 407,
    "start_time": "2021-06-20T07:34:39.317Z"
   },
   {
    "duration": 1277,
    "start_time": "2021-06-20T07:34:54.469Z"
   },
   {
    "duration": 1233,
    "start_time": "2021-06-20T07:36:22.684Z"
   },
   {
    "duration": 6,
    "start_time": "2021-06-20T07:49:31.505Z"
   },
   {
    "duration": 1454,
    "start_time": "2021-06-20T07:49:32.968Z"
   },
   {
    "duration": 272,
    "start_time": "2021-06-20T07:51:34.183Z"
   },
   {
    "duration": 294,
    "start_time": "2021-06-20T07:53:00.071Z"
   },
   {
    "duration": 3997,
    "start_time": "2021-06-20T07:53:08.462Z"
   },
   {
    "duration": 278,
    "start_time": "2021-06-20T07:54:54.724Z"
   },
   {
    "duration": 272,
    "start_time": "2021-06-20T07:55:18.700Z"
   },
   {
    "duration": 3739,
    "start_time": "2021-06-20T07:56:20.211Z"
   },
   {
    "duration": 3875,
    "start_time": "2021-06-20T07:56:38.077Z"
   },
   {
    "duration": 3873,
    "start_time": "2021-06-20T07:56:47.746Z"
   },
   {
    "duration": 3776,
    "start_time": "2021-06-20T08:00:28.608Z"
   },
   {
    "duration": 3753,
    "start_time": "2021-06-20T08:00:58.687Z"
   },
   {
    "duration": 3810,
    "start_time": "2021-06-20T08:01:34.167Z"
   },
   {
    "duration": 3750,
    "start_time": "2021-06-20T08:05:16.611Z"
   },
   {
    "duration": 3885,
    "start_time": "2021-06-20T08:07:57.210Z"
   },
   {
    "duration": 3840,
    "start_time": "2021-06-20T08:11:07.591Z"
   },
   {
    "duration": 1529,
    "start_time": "2021-06-20T08:15:17.332Z"
   },
   {
    "duration": 1181,
    "start_time": "2021-06-20T08:18:27.265Z"
   },
   {
    "duration": 1376,
    "start_time": "2021-06-20T08:18:43.376Z"
   },
   {
    "duration": 1239,
    "start_time": "2021-06-20T08:27:07.874Z"
   },
   {
    "duration": 1102,
    "start_time": "2021-06-20T08:27:46.178Z"
   },
   {
    "duration": 3789,
    "start_time": "2021-06-20T08:32:34.982Z"
   },
   {
    "duration": 1572,
    "start_time": "2021-06-20T08:34:59.156Z"
   },
   {
    "duration": 1711,
    "start_time": "2021-06-20T08:35:08.251Z"
   },
   {
    "duration": 1548,
    "start_time": "2021-06-20T08:35:49.907Z"
   },
   {
    "duration": 1635,
    "start_time": "2021-06-20T08:35:57.317Z"
   },
   {
    "duration": 1535,
    "start_time": "2021-06-20T08:36:50.698Z"
   },
   {
    "duration": 4234,
    "start_time": "2021-06-20T08:36:57.650Z"
   },
   {
    "duration": 4489,
    "start_time": "2021-06-20T08:38:02.769Z"
   },
   {
    "duration": 1931,
    "start_time": "2021-06-20T08:39:23.296Z"
   },
   {
    "duration": 4456,
    "start_time": "2021-06-20T08:39:43.321Z"
   },
   {
    "duration": 4453,
    "start_time": "2021-06-20T08:40:53.751Z"
   },
   {
    "duration": 4574,
    "start_time": "2021-06-20T08:41:21.158Z"
   },
   {
    "duration": 1934,
    "start_time": "2021-06-20T08:44:30.700Z"
   },
   {
    "duration": 6845,
    "start_time": "2021-06-20T08:45:10.875Z"
   },
   {
    "duration": 1640,
    "start_time": "2021-06-20T08:45:21.203Z"
   },
   {
    "duration": 1560,
    "start_time": "2021-06-20T08:45:35.379Z"
   },
   {
    "duration": 5121,
    "start_time": "2021-06-20T08:46:29.746Z"
   },
   {
    "duration": 461,
    "start_time": "2021-06-20T08:46:34.870Z"
   },
   {
    "duration": 22,
    "start_time": "2021-06-20T08:46:35.335Z"
   },
   {
    "duration": 18,
    "start_time": "2021-06-20T08:46:35.360Z"
   },
   {
    "duration": 21,
    "start_time": "2021-06-20T08:46:35.381Z"
   },
   {
    "duration": 117,
    "start_time": "2021-06-20T08:46:35.405Z"
   },
   {
    "duration": 98,
    "start_time": "2021-06-20T08:46:35.525Z"
   },
   {
    "duration": 96,
    "start_time": "2021-06-20T08:46:35.629Z"
   },
   {
    "duration": 229,
    "start_time": "2021-06-20T08:46:35.729Z"
   },
   {
    "duration": 52,
    "start_time": "2021-06-20T08:46:35.961Z"
   },
   {
    "duration": 167,
    "start_time": "2021-06-20T08:46:36.016Z"
   },
   {
    "duration": 70,
    "start_time": "2021-06-20T08:46:36.186Z"
   },
   {
    "duration": 54,
    "start_time": "2021-06-20T08:46:36.258Z"
   },
   {
    "duration": 77,
    "start_time": "2021-06-20T08:46:36.314Z"
   },
   {
    "duration": 184,
    "start_time": "2021-06-20T08:46:36.393Z"
   },
   {
    "duration": 53,
    "start_time": "2021-06-20T08:46:36.580Z"
   },
   {
    "duration": 30,
    "start_time": "2021-06-20T08:46:36.636Z"
   },
   {
    "duration": 75,
    "start_time": "2021-06-20T08:46:36.668Z"
   },
   {
    "duration": 10,
    "start_time": "2021-06-20T08:46:36.746Z"
   },
   {
    "duration": 297,
    "start_time": "2021-06-20T08:46:36.759Z"
   },
   {
    "duration": 100,
    "start_time": "2021-06-20T08:46:37.059Z"
   },
   {
    "duration": 1174,
    "start_time": "2021-06-20T08:46:37.162Z"
   },
   {
    "duration": 1549,
    "start_time": "2021-06-20T08:46:36.791Z"
   },
   {
    "duration": 1554,
    "start_time": "2021-06-20T08:46:36.799Z"
   },
   {
    "duration": 1547,
    "start_time": "2021-06-20T08:46:36.808Z"
   },
   {
    "duration": 1547,
    "start_time": "2021-06-20T08:46:36.811Z"
   },
   {
    "duration": 1547,
    "start_time": "2021-06-20T08:46:36.813Z"
   },
   {
    "duration": 989,
    "start_time": "2021-06-20T08:47:03.270Z"
   },
   {
    "duration": 3579,
    "start_time": "2021-06-20T08:47:39.176Z"
   },
   {
    "duration": 1419,
    "start_time": "2021-06-20T08:47:54.078Z"
   },
   {
    "duration": 14,
    "start_time": "2021-06-20T08:48:04.604Z"
   },
   {
    "duration": 4,
    "start_time": "2021-06-20T08:48:08.396Z"
   },
   {
    "duration": 6,
    "start_time": "2021-06-20T08:48:10.116Z"
   },
   {
    "duration": 6,
    "start_time": "2021-06-20T08:48:11.884Z"
   },
   {
    "duration": 1546,
    "start_time": "2021-06-20T08:48:16.093Z"
   },
   {
    "duration": 5539,
    "start_time": "2021-06-20T08:48:36.925Z"
   },
   {
    "duration": 4242,
    "start_time": "2021-06-20T08:51:12.219Z"
   },
   {
    "duration": 29445,
    "start_time": "2021-06-20T08:52:41.273Z"
   },
   {
    "duration": 29655,
    "start_time": "2021-06-20T08:56:24.166Z"
   },
   {
    "duration": 4189,
    "start_time": "2021-06-20T08:59:34.803Z"
   },
   {
    "duration": 4377,
    "start_time": "2021-06-20T08:59:39.619Z"
   },
   {
    "duration": 4203,
    "start_time": "2021-06-20T09:00:07.252Z"
   },
   {
    "duration": 4124,
    "start_time": "2021-06-20T09:00:19.643Z"
   },
   {
    "duration": 1518,
    "start_time": "2021-06-20T09:01:07.459Z"
   },
   {
    "duration": 1623,
    "start_time": "2021-06-20T09:01:56.690Z"
   },
   {
    "duration": 1821,
    "start_time": "2021-06-20T09:02:27.450Z"
   },
   {
    "duration": 3859,
    "start_time": "2021-06-20T09:03:11.633Z"
   },
   {
    "duration": 4336,
    "start_time": "2021-06-20T09:03:36.609Z"
   },
   {
    "duration": 4283,
    "start_time": "2021-06-20T09:03:59.312Z"
   },
   {
    "duration": 1808,
    "start_time": "2021-06-20T09:04:37.623Z"
   },
   {
    "duration": 1791,
    "start_time": "2021-06-20T09:04:44.930Z"
   },
   {
    "duration": 4175,
    "start_time": "2021-06-20T09:04:52.489Z"
   },
   {
    "duration": 1883,
    "start_time": "2021-06-20T09:05:50.422Z"
   },
   {
    "duration": 105,
    "start_time": "2021-06-20T09:06:17.552Z"
   },
   {
    "duration": 1839,
    "start_time": "2021-06-20T09:06:23.774Z"
   },
   {
    "duration": 4289,
    "start_time": "2021-06-20T09:06:33.919Z"
   },
   {
    "duration": 4170,
    "start_time": "2021-06-20T09:06:57.686Z"
   },
   {
    "duration": 4154,
    "start_time": "2021-06-20T09:07:30.141Z"
   },
   {
    "duration": 4295,
    "start_time": "2021-06-20T09:12:22.282Z"
   },
   {
    "duration": 1664,
    "start_time": "2021-06-20T09:14:38.832Z"
   },
   {
    "duration": 1578,
    "start_time": "2021-06-20T09:15:41.151Z"
   },
   {
    "duration": 1864,
    "start_time": "2021-06-20T09:16:13.950Z"
   },
   {
    "duration": 1559,
    "start_time": "2021-06-20T09:16:46.128Z"
   },
   {
    "duration": 1548,
    "start_time": "2021-06-20T09:19:05.270Z"
   },
   {
    "duration": 1642,
    "start_time": "2021-06-20T09:19:53.710Z"
   },
   {
    "duration": 1624,
    "start_time": "2021-06-20T09:20:09.396Z"
   },
   {
    "duration": 3843,
    "start_time": "2021-06-20T09:21:39.225Z"
   },
   {
    "duration": 1731,
    "start_time": "2021-06-20T09:29:03.475Z"
   },
   {
    "duration": 1561,
    "start_time": "2021-06-20T09:29:10.612Z"
   },
   {
    "duration": 3829,
    "start_time": "2021-06-20T09:29:52.595Z"
   },
   {
    "duration": 1580,
    "start_time": "2021-06-20T09:30:02.531Z"
   },
   {
    "duration": 1598,
    "start_time": "2021-06-20T09:30:28.699Z"
   },
   {
    "duration": 1548,
    "start_time": "2021-06-20T09:30:47.796Z"
   },
   {
    "duration": 1661,
    "start_time": "2021-06-20T09:32:21.995Z"
   },
   {
    "duration": 1542,
    "start_time": "2021-06-20T09:32:45.458Z"
   },
   {
    "duration": 1554,
    "start_time": "2021-06-20T09:33:04.969Z"
   },
   {
    "duration": 1662,
    "start_time": "2021-06-20T09:33:22.368Z"
   },
   {
    "duration": 3914,
    "start_time": "2021-06-20T09:33:39.283Z"
   },
   {
    "duration": 1593,
    "start_time": "2021-06-20T09:35:19.177Z"
   },
   {
    "duration": 3823,
    "start_time": "2021-06-20T09:36:03.111Z"
   },
   {
    "duration": 7,
    "start_time": "2021-06-20T09:36:09.118Z"
   },
   {
    "duration": 1609,
    "start_time": "2021-06-20T09:36:11.309Z"
   },
   {
    "duration": 1701,
    "start_time": "2021-06-20T09:36:31.127Z"
   },
   {
    "duration": 1619,
    "start_time": "2021-06-20T09:36:39.399Z"
   },
   {
    "duration": 3903,
    "start_time": "2021-06-20T09:36:58.711Z"
   },
   {
    "duration": 1543,
    "start_time": "2021-06-20T09:40:56.307Z"
   },
   {
    "duration": 1543,
    "start_time": "2021-06-20T09:41:21.561Z"
   },
   {
    "duration": 1553,
    "start_time": "2021-06-20T09:42:52.225Z"
   },
   {
    "duration": 3860,
    "start_time": "2021-06-20T09:44:28.145Z"
   },
   {
    "duration": 3890,
    "start_time": "2021-06-20T09:44:37.479Z"
   },
   {
    "duration": 1636,
    "start_time": "2021-06-20T09:46:55.791Z"
   },
   {
    "duration": 266,
    "start_time": "2021-06-20T09:47:35.646Z"
   },
   {
    "duration": 3837,
    "start_time": "2021-06-20T09:48:18.500Z"
   },
   {
    "duration": 3906,
    "start_time": "2021-06-20T09:48:56.348Z"
   },
   {
    "duration": 266,
    "start_time": "2021-06-20T09:49:57.244Z"
   },
   {
    "duration": 1553,
    "start_time": "2021-06-20T09:50:09.932Z"
   },
   {
    "duration": 1543,
    "start_time": "2021-06-20T09:50:28.267Z"
   },
   {
    "duration": 3972,
    "start_time": "2021-06-20T09:50:46.866Z"
   },
   {
    "duration": 277,
    "start_time": "2021-06-20T09:51:53.107Z"
   },
   {
    "duration": 3817,
    "start_time": "2021-06-20T09:53:48.592Z"
   },
   {
    "duration": 1549,
    "start_time": "2021-06-20T09:53:57.978Z"
   },
   {
    "duration": 3889,
    "start_time": "2021-06-20T09:54:40.303Z"
   },
   {
    "duration": 4245,
    "start_time": "2021-06-20T09:56:33.799Z"
   },
   {
    "duration": 4484,
    "start_time": "2021-06-20T09:57:04.759Z"
   },
   {
    "duration": 4018,
    "start_time": "2021-06-20T09:57:53.486Z"
   },
   {
    "duration": 4353,
    "start_time": "2021-06-20T09:58:35.793Z"
   },
   {
    "duration": 4077,
    "start_time": "2021-06-20T09:59:03.356Z"
   },
   {
    "duration": 4081,
    "start_time": "2021-06-20T09:59:13.804Z"
   },
   {
    "duration": 3844,
    "start_time": "2021-06-20T10:01:44.522Z"
   },
   {
    "duration": 3895,
    "start_time": "2021-06-20T10:02:23.689Z"
   },
   {
    "duration": 1586,
    "start_time": "2021-06-20T10:02:53.627Z"
   },
   {
    "duration": 3908,
    "start_time": "2021-06-20T10:03:12.697Z"
   },
   {
    "duration": 4216,
    "start_time": "2021-06-20T10:03:28.314Z"
   },
   {
    "duration": 3825,
    "start_time": "2021-06-20T10:04:09.600Z"
   },
   {
    "duration": 1621,
    "start_time": "2021-06-20T10:04:37.232Z"
   },
   {
    "duration": 1650,
    "start_time": "2021-06-20T10:05:33.439Z"
   },
   {
    "duration": 1753,
    "start_time": "2021-06-20T10:05:39.803Z"
   },
   {
    "duration": 1665,
    "start_time": "2021-06-20T10:06:03.750Z"
   },
   {
    "duration": 1711,
    "start_time": "2021-06-20T10:06:21.134Z"
   },
   {
    "duration": 1572,
    "start_time": "2021-06-20T10:06:28.670Z"
   },
   {
    "duration": 1558,
    "start_time": "2021-06-20T10:06:45.518Z"
   },
   {
    "duration": 1645,
    "start_time": "2021-06-20T10:08:29.862Z"
   },
   {
    "duration": 3857,
    "start_time": "2021-06-20T10:09:11.909Z"
   },
   {
    "duration": 3865,
    "start_time": "2021-06-20T10:13:24.952Z"
   },
   {
    "duration": 4593,
    "start_time": "2021-06-20T10:16:21.528Z"
   },
   {
    "duration": 3940,
    "start_time": "2021-06-20T10:16:41.638Z"
   },
   {
    "duration": 3887,
    "start_time": "2021-06-20T10:16:54.392Z"
   },
   {
    "duration": 3897,
    "start_time": "2021-06-20T10:19:14.372Z"
   },
   {
    "duration": 3842,
    "start_time": "2021-06-20T10:19:42.318Z"
   },
   {
    "duration": 1557,
    "start_time": "2021-06-20T10:20:30.714Z"
   },
   {
    "duration": 1560,
    "start_time": "2021-06-20T10:22:15.546Z"
   },
   {
    "duration": 288,
    "start_time": "2021-06-20T10:22:31.050Z"
   },
   {
    "duration": 1620,
    "start_time": "2021-06-20T10:23:02.250Z"
   },
   {
    "duration": 1580,
    "start_time": "2021-06-20T10:23:08.408Z"
   },
   {
    "duration": 1554,
    "start_time": "2021-06-20T10:23:43.504Z"
   },
   {
    "duration": 1568,
    "start_time": "2021-06-20T10:24:22.568Z"
   },
   {
    "duration": 1674,
    "start_time": "2021-06-20T10:24:59.151Z"
   },
   {
    "duration": 1638,
    "start_time": "2021-06-20T10:25:13.215Z"
   },
   {
    "duration": 4144,
    "start_time": "2021-06-20T10:25:22.143Z"
   },
   {
    "duration": 2252,
    "start_time": "2021-06-20T10:25:37.407Z"
   },
   {
    "duration": 5,
    "start_time": "2021-06-20T10:25:48.224Z"
   },
   {
    "duration": 1602,
    "start_time": "2021-06-20T10:25:50.246Z"
   },
   {
    "duration": 3919,
    "start_time": "2021-06-20T10:27:24.935Z"
   },
   {
    "duration": 5469,
    "start_time": "2021-06-20T10:27:45.516Z"
   },
   {
    "duration": 477,
    "start_time": "2021-06-20T10:27:50.988Z"
   },
   {
    "duration": 22,
    "start_time": "2021-06-20T10:27:51.468Z"
   },
   {
    "duration": 30,
    "start_time": "2021-06-20T10:27:51.493Z"
   },
   {
    "duration": 32,
    "start_time": "2021-06-20T10:27:51.526Z"
   },
   {
    "duration": 103,
    "start_time": "2021-06-20T10:27:51.561Z"
   },
   {
    "duration": 97,
    "start_time": "2021-06-20T10:27:51.666Z"
   },
   {
    "duration": 97,
    "start_time": "2021-06-20T10:27:51.767Z"
   },
   {
    "duration": 205,
    "start_time": "2021-06-20T10:27:51.867Z"
   },
   {
    "duration": 51,
    "start_time": "2021-06-20T10:27:52.075Z"
   },
   {
    "duration": 157,
    "start_time": "2021-06-20T10:27:52.129Z"
   },
   {
    "duration": 74,
    "start_time": "2021-06-20T10:27:52.288Z"
   },
   {
    "duration": 56,
    "start_time": "2021-06-20T10:27:52.365Z"
   },
   {
    "duration": 78,
    "start_time": "2021-06-20T10:27:52.425Z"
   },
   {
    "duration": 204,
    "start_time": "2021-06-20T10:27:52.506Z"
   },
   {
    "duration": 71,
    "start_time": "2021-06-20T10:27:52.712Z"
   },
   {
    "duration": 19,
    "start_time": "2021-06-20T10:27:52.786Z"
   },
   {
    "duration": 100,
    "start_time": "2021-06-20T10:27:52.807Z"
   },
   {
    "duration": 7,
    "start_time": "2021-06-20T10:27:52.909Z"
   },
   {
    "duration": 238,
    "start_time": "2021-06-20T10:27:52.918Z"
   },
   {
    "duration": 102,
    "start_time": "2021-06-20T10:27:53.160Z"
   },
   {
    "duration": 1286,
    "start_time": "2021-06-20T10:27:53.356Z"
   },
   {
    "duration": 14,
    "start_time": "2021-06-20T10:27:54.647Z"
   },
   {
    "duration": 20,
    "start_time": "2021-06-20T10:27:54.663Z"
   },
   {
    "duration": 19,
    "start_time": "2021-06-20T10:27:54.685Z"
   },
   {
    "duration": 14,
    "start_time": "2021-06-20T10:27:54.706Z"
   },
   {
    "duration": 3963,
    "start_time": "2021-06-20T10:27:54.722Z"
   },
   {
    "duration": 4395,
    "start_time": "2021-06-20T10:31:39.925Z"
   },
   {
    "duration": 5070,
    "start_time": "2021-06-20T10:32:18.148Z"
   },
   {
    "duration": 6626,
    "start_time": "2021-06-20T10:32:51.683Z"
   },
   {
    "duration": 1949,
    "start_time": "2021-06-20T10:37:20.551Z"
   },
   {
    "duration": 4286,
    "start_time": "2021-06-20T10:37:32.833Z"
   },
   {
    "duration": 4211,
    "start_time": "2021-06-20T10:38:01.303Z"
   },
   {
    "duration": 5449,
    "start_time": "2021-06-20T10:40:48.109Z"
   },
   {
    "duration": 4297,
    "start_time": "2021-06-20T10:41:07.957Z"
   },
   {
    "duration": 4360,
    "start_time": "2021-06-20T10:42:26.507Z"
   },
   {
    "duration": 4355,
    "start_time": "2021-06-20T10:43:07.901Z"
   },
   {
    "duration": 4294,
    "start_time": "2021-06-20T10:43:34.290Z"
   },
   {
    "duration": 4762,
    "start_time": "2021-06-20T10:50:07.414Z"
   },
   {
    "duration": 4733,
    "start_time": "2021-06-20T10:50:42.190Z"
   },
   {
    "duration": 4494,
    "start_time": "2021-06-20T10:52:59.636Z"
   },
   {
    "duration": 4705,
    "start_time": "2021-06-20T10:55:22.578Z"
   },
   {
    "duration": 4979,
    "start_time": "2021-06-20T10:56:48.232Z"
   },
   {
    "duration": 7059,
    "start_time": "2021-06-20T10:57:01.583Z"
   },
   {
    "duration": 4856,
    "start_time": "2021-06-20T10:57:56.703Z"
   },
   {
    "duration": 4717,
    "start_time": "2021-06-20T10:58:55.582Z"
   },
   {
    "duration": 4798,
    "start_time": "2021-06-20T10:59:10.494Z"
   },
   {
    "duration": 7970,
    "start_time": "2021-06-20T10:59:31.438Z"
   },
   {
    "duration": 5,
    "start_time": "2021-06-20T11:26:02.290Z"
   },
   {
    "duration": 616,
    "start_time": "2021-06-20T11:26:05.936Z"
   },
   {
    "duration": 267,
    "start_time": "2021-06-20T11:40:17.197Z"
   },
   {
    "duration": 278,
    "start_time": "2021-06-20T11:40:59.795Z"
   },
   {
    "duration": 266,
    "start_time": "2021-06-20T11:42:30.987Z"
   },
   {
    "duration": 5,
    "start_time": "2021-06-20T11:42:46.234Z"
   },
   {
    "duration": 961,
    "start_time": "2021-06-20T11:42:47.761Z"
   },
   {
    "duration": 890,
    "start_time": "2021-06-20T11:44:48.394Z"
   },
   {
    "duration": 916,
    "start_time": "2021-06-20T11:46:50.824Z"
   },
   {
    "duration": 894,
    "start_time": "2021-06-20T11:48:12.478Z"
   },
   {
    "duration": 945,
    "start_time": "2021-06-20T11:49:39.654Z"
   },
   {
    "duration": 6,
    "start_time": "2021-06-20T11:55:45.119Z"
   },
   {
    "duration": 903,
    "start_time": "2021-06-20T11:55:48.463Z"
   },
   {
    "duration": 1043,
    "start_time": "2021-06-20T11:56:18.464Z"
   },
   {
    "duration": 5,
    "start_time": "2021-06-20T11:59:10.748Z"
   },
   {
    "duration": 916,
    "start_time": "2021-06-20T11:59:13.013Z"
   },
   {
    "duration": 6,
    "start_time": "2021-06-20T11:59:47.867Z"
   },
   {
    "duration": 1124,
    "start_time": "2021-06-20T11:59:50.404Z"
   },
   {
    "duration": 940,
    "start_time": "2021-06-20T12:03:19.691Z"
   },
   {
    "duration": 948,
    "start_time": "2021-06-20T12:04:27.122Z"
   },
   {
    "duration": 1356,
    "start_time": "2021-06-20T12:05:03.809Z"
   },
   {
    "duration": 6,
    "start_time": "2021-06-20T12:12:46.706Z"
   },
   {
    "duration": 277,
    "start_time": "2021-06-20T12:12:48.394Z"
   },
   {
    "duration": 281,
    "start_time": "2021-06-20T12:13:08.025Z"
   },
   {
    "duration": 6,
    "start_time": "2021-06-20T12:14:15.672Z"
   },
   {
    "duration": 271,
    "start_time": "2021-06-20T12:14:18.441Z"
   },
   {
    "duration": 5,
    "start_time": "2021-06-20T12:15:10.297Z"
   },
   {
    "duration": 299,
    "start_time": "2021-06-20T12:15:11.546Z"
   },
   {
    "duration": 6,
    "start_time": "2021-06-20T12:15:50.088Z"
   },
   {
    "duration": 4904,
    "start_time": "2021-06-20T12:15:51.368Z"
   },
   {
    "duration": 266,
    "start_time": "2021-06-20T12:17:18.742Z"
   },
   {
    "duration": 377,
    "start_time": "2021-06-20T12:17:51.342Z"
   },
   {
    "duration": 5,
    "start_time": "2021-06-20T12:18:08.374Z"
   },
   {
    "duration": 5,
    "start_time": "2021-06-20T12:18:21.406Z"
   },
   {
    "duration": 10670,
    "start_time": "2021-06-20T12:18:24.552Z"
   },
   {
    "duration": 6,
    "start_time": "2021-06-20T12:20:05.156Z"
   },
   {
    "duration": 10118,
    "start_time": "2021-06-20T12:20:07.495Z"
   },
   {
    "duration": 6,
    "start_time": "2021-06-20T12:26:49.047Z"
   },
   {
    "duration": 92,
    "start_time": "2021-06-20T12:26:50.650Z"
   },
   {
    "duration": 7671,
    "start_time": "2021-06-20T12:27:05.327Z"
   },
   {
    "duration": 11096,
    "start_time": "2021-06-20T12:44:29.174Z"
   },
   {
    "duration": 7490,
    "start_time": "2021-06-20T12:45:56.768Z"
   },
   {
    "duration": 11376,
    "start_time": "2021-06-20T16:24:31.891Z"
   },
   {
    "duration": 6742,
    "start_time": "2021-06-21T15:00:02.782Z"
   },
   {
    "duration": 548,
    "start_time": "2021-06-21T15:00:09.527Z"
   },
   {
    "duration": 31,
    "start_time": "2021-06-21T15:00:10.077Z"
   },
   {
    "duration": 17,
    "start_time": "2021-06-21T15:00:10.111Z"
   },
   {
    "duration": 58,
    "start_time": "2021-06-21T15:00:10.132Z"
   },
   {
    "duration": 88,
    "start_time": "2021-06-21T15:00:10.193Z"
   },
   {
    "duration": 99,
    "start_time": "2021-06-21T15:00:10.284Z"
   },
   {
    "duration": 158,
    "start_time": "2021-06-21T15:00:10.389Z"
   },
   {
    "duration": 271,
    "start_time": "2021-06-21T15:00:10.551Z"
   },
   {
    "duration": 90,
    "start_time": "2021-06-21T15:00:10.825Z"
   },
   {
    "duration": 180,
    "start_time": "2021-06-21T15:00:10.918Z"
   },
   {
    "duration": 55,
    "start_time": "2021-06-21T15:00:11.101Z"
   },
   {
    "duration": 80,
    "start_time": "2021-06-21T15:00:11.159Z"
   },
   {
    "duration": 69,
    "start_time": "2021-06-21T15:00:11.241Z"
   },
   {
    "duration": 199,
    "start_time": "2021-06-21T15:00:11.313Z"
   },
   {
    "duration": 72,
    "start_time": "2021-06-21T15:00:11.516Z"
   },
   {
    "duration": 20,
    "start_time": "2021-06-21T15:00:11.591Z"
   },
   {
    "duration": 104,
    "start_time": "2021-06-21T15:00:11.614Z"
   },
   {
    "duration": 6,
    "start_time": "2021-06-21T15:00:11.722Z"
   },
   {
    "duration": 387,
    "start_time": "2021-06-21T15:00:11.730Z"
   },
   {
    "duration": 66,
    "start_time": "2021-06-21T15:00:12.129Z"
   },
   {
    "duration": 1589,
    "start_time": "2021-06-21T15:00:12.199Z"
   },
   {
    "duration": 14,
    "start_time": "2021-06-21T15:00:13.796Z"
   },
   {
    "duration": 12,
    "start_time": "2021-06-21T15:00:13.813Z"
   },
   {
    "duration": 9,
    "start_time": "2021-06-21T15:00:13.828Z"
   },
   {
    "duration": 6,
    "start_time": "2021-06-21T15:00:13.840Z"
   },
   {
    "duration": 8137,
    "start_time": "2021-06-21T15:00:13.891Z"
   },
   {
    "duration": 3835,
    "start_time": "2021-06-21T15:08:46.521Z"
   },
   {
    "duration": 14,
    "start_time": "2021-06-21T15:40:57.564Z"
   },
   {
    "duration": 428,
    "start_time": "2021-06-21T15:41:27.076Z"
   },
   {
    "duration": 268,
    "start_time": "2021-06-21T15:41:49.579Z"
   },
   {
    "duration": 12,
    "start_time": "2021-06-21T15:42:03.307Z"
   },
   {
    "duration": 7275,
    "start_time": "2021-06-21T15:47:29.208Z"
   },
   {
    "duration": 2890,
    "start_time": "2021-06-21T15:51:53.787Z"
   },
   {
    "duration": 7078,
    "start_time": "2021-06-21T15:52:04.876Z"
   },
   {
    "duration": 2971,
    "start_time": "2021-06-21T15:54:59.305Z"
   },
   {
    "duration": 7992,
    "start_time": "2021-06-21T16:02:15.852Z"
   },
   {
    "duration": 7476,
    "start_time": "2021-06-21T16:03:50.346Z"
   },
   {
    "duration": 7026,
    "start_time": "2021-06-21T16:04:33.178Z"
   },
   {
    "duration": 100,
    "start_time": "2021-06-21T16:06:48.879Z"
   },
   {
    "duration": 7002,
    "start_time": "2021-06-21T16:06:55.103Z"
   },
   {
    "duration": 7235,
    "start_time": "2021-06-21T16:07:19.031Z"
   },
   {
    "duration": 7114,
    "start_time": "2021-06-21T16:07:41.062Z"
   },
   {
    "duration": 7273,
    "start_time": "2021-06-21T16:08:09.463Z"
   },
   {
    "duration": 8202,
    "start_time": "2021-06-21T16:08:31.981Z"
   },
   {
    "duration": 7827,
    "start_time": "2021-06-21T16:09:16.709Z"
   },
   {
    "duration": 7558,
    "start_time": "2021-06-21T16:09:26.109Z"
   },
   {
    "duration": 7554,
    "start_time": "2021-06-21T16:09:42.252Z"
   },
   {
    "duration": 7207,
    "start_time": "2021-06-21T16:10:16.452Z"
   },
   {
    "duration": 7207,
    "start_time": "2021-06-21T16:37:53.071Z"
   },
   {
    "duration": 7472,
    "start_time": "2021-06-21T16:38:22.018Z"
   },
   {
    "duration": 3142,
    "start_time": "2021-06-21T16:38:32.806Z"
   },
   {
    "duration": 7322,
    "start_time": "2021-06-21T16:41:44.610Z"
   },
   {
    "duration": 7394,
    "start_time": "2021-06-21T16:42:05.650Z"
   },
   {
    "duration": 8794,
    "start_time": "2021-06-21T16:43:01.169Z"
   },
   {
    "duration": 11019,
    "start_time": "2021-06-21T16:43:55.744Z"
   },
   {
    "duration": 7481,
    "start_time": "2021-06-21T16:44:20.888Z"
   },
   {
    "duration": 8171,
    "start_time": "2021-06-21T17:31:41.693Z"
   },
   {
    "duration": 3547,
    "start_time": "2021-06-21T17:35:18.625Z"
   },
   {
    "duration": 4,
    "start_time": "2021-06-21T17:35:29.151Z"
   },
   {
    "duration": 8066,
    "start_time": "2021-06-21T17:35:32.935Z"
   },
   {
    "duration": 8013,
    "start_time": "2021-06-21T17:36:13.871Z"
   },
   {
    "duration": 8442,
    "start_time": "2021-06-21T17:36:44.342Z"
   },
   {
    "duration": 5532,
    "start_time": "2021-06-21T18:59:44.980Z"
   },
   {
    "duration": 492,
    "start_time": "2021-06-21T18:59:50.514Z"
   },
   {
    "duration": 25,
    "start_time": "2021-06-21T18:59:51.010Z"
   },
   {
    "duration": 18,
    "start_time": "2021-06-21T18:59:51.038Z"
   },
   {
    "duration": 48,
    "start_time": "2021-06-21T18:59:51.058Z"
   },
   {
    "duration": 101,
    "start_time": "2021-06-21T18:59:51.109Z"
   },
   {
    "duration": 109,
    "start_time": "2021-06-21T18:59:51.213Z"
   },
   {
    "duration": 100,
    "start_time": "2021-06-21T18:59:51.325Z"
   },
   {
    "duration": 207,
    "start_time": "2021-06-21T18:59:51.428Z"
   },
   {
    "duration": 71,
    "start_time": "2021-06-21T18:59:51.638Z"
   },
   {
    "duration": 160,
    "start_time": "2021-06-21T18:59:51.712Z"
   },
   {
    "duration": 66,
    "start_time": "2021-06-21T18:59:51.875Z"
   },
   {
    "duration": 77,
    "start_time": "2021-06-21T18:59:51.944Z"
   },
   {
    "duration": 65,
    "start_time": "2021-06-21T18:59:52.024Z"
   },
   {
    "duration": 197,
    "start_time": "2021-06-21T18:59:52.094Z"
   },
   {
    "duration": 57,
    "start_time": "2021-06-21T18:59:52.295Z"
   },
   {
    "duration": 42,
    "start_time": "2021-06-21T18:59:52.355Z"
   },
   {
    "duration": 66,
    "start_time": "2021-06-21T18:59:52.402Z"
   },
   {
    "duration": 23,
    "start_time": "2021-06-21T18:59:52.471Z"
   },
   {
    "duration": 307,
    "start_time": "2021-06-21T18:59:52.497Z"
   },
   {
    "duration": 98,
    "start_time": "2021-06-21T18:59:52.807Z"
   },
   {
    "duration": 1417,
    "start_time": "2021-06-21T18:59:52.908Z"
   },
   {
    "duration": 13,
    "start_time": "2021-06-21T18:59:54.331Z"
   },
   {
    "duration": 8,
    "start_time": "2021-06-21T18:59:54.348Z"
   },
   {
    "duration": 31,
    "start_time": "2021-06-21T18:59:54.359Z"
   },
   {
    "duration": 13,
    "start_time": "2021-06-21T18:59:54.393Z"
   },
   {
    "duration": 3437,
    "start_time": "2021-06-21T18:59:54.412Z"
   },
   {
    "duration": 5165,
    "start_time": "2021-06-21T19:02:36.246Z"
   },
   {
    "duration": 491,
    "start_time": "2021-06-21T19:02:41.414Z"
   },
   {
    "duration": 25,
    "start_time": "2021-06-21T19:02:41.909Z"
   },
   {
    "duration": 47,
    "start_time": "2021-06-21T19:02:41.937Z"
   },
   {
    "duration": 24,
    "start_time": "2021-06-21T19:02:41.987Z"
   },
   {
    "duration": 120,
    "start_time": "2021-06-21T19:02:42.014Z"
   },
   {
    "duration": 98,
    "start_time": "2021-06-21T19:02:42.137Z"
   },
   {
    "duration": 104,
    "start_time": "2021-06-21T19:02:42.240Z"
   },
   {
    "duration": 202,
    "start_time": "2021-06-21T19:02:42.348Z"
   },
   {
    "duration": 75,
    "start_time": "2021-06-21T19:02:42.553Z"
   },
   {
    "duration": 158,
    "start_time": "2021-06-21T19:02:42.630Z"
   },
   {
    "duration": 57,
    "start_time": "2021-06-21T19:02:42.791Z"
   },
   {
    "duration": 75,
    "start_time": "2021-06-21T19:02:42.850Z"
   },
   {
    "duration": 74,
    "start_time": "2021-06-21T19:02:42.927Z"
   },
   {
    "duration": 179,
    "start_time": "2021-06-21T19:02:43.004Z"
   },
   {
    "duration": 56,
    "start_time": "2021-06-21T19:02:43.186Z"
   },
   {
    "duration": 39,
    "start_time": "2021-06-21T19:02:43.244Z"
   },
   {
    "duration": 67,
    "start_time": "2021-06-21T19:02:43.286Z"
   },
   {
    "duration": 7,
    "start_time": "2021-06-21T19:02:43.355Z"
   },
   {
    "duration": 200,
    "start_time": "2021-06-21T19:02:43.384Z"
   },
   {
    "duration": 103,
    "start_time": "2021-06-21T19:02:43.588Z"
   },
   {
    "duration": 1271,
    "start_time": "2021-06-21T19:02:43.696Z"
   },
   {
    "duration": 19,
    "start_time": "2021-06-21T19:02:44.971Z"
   },
   {
    "duration": 24,
    "start_time": "2021-06-21T19:02:44.993Z"
   },
   {
    "duration": 28,
    "start_time": "2021-06-21T19:02:45.020Z"
   },
   {
    "duration": 19,
    "start_time": "2021-06-21T19:02:45.050Z"
   },
   {
    "duration": 7866,
    "start_time": "2021-06-21T19:02:45.071Z"
   },
   {
    "duration": 101,
    "start_time": "2021-06-22T05:23:56.296Z"
   },
   {
    "duration": 6309,
    "start_time": "2021-06-22T05:25:40.416Z"
   },
   {
    "duration": 495,
    "start_time": "2021-06-22T05:25:46.728Z"
   },
   {
    "duration": 22,
    "start_time": "2021-06-22T05:25:47.226Z"
   },
   {
    "duration": 27,
    "start_time": "2021-06-22T05:25:47.250Z"
   },
   {
    "duration": 27,
    "start_time": "2021-06-22T05:25:47.280Z"
   },
   {
    "duration": 105,
    "start_time": "2021-06-22T05:25:47.310Z"
   },
   {
    "duration": 97,
    "start_time": "2021-06-22T05:25:47.418Z"
   },
   {
    "duration": 96,
    "start_time": "2021-06-22T05:25:47.519Z"
   },
   {
    "duration": 224,
    "start_time": "2021-06-22T05:25:47.618Z"
   },
   {
    "duration": 74,
    "start_time": "2021-06-22T05:25:47.845Z"
   },
   {
    "duration": 164,
    "start_time": "2021-06-22T05:25:47.921Z"
   },
   {
    "duration": 95,
    "start_time": "2021-06-22T05:25:48.089Z"
   },
   {
    "duration": 85,
    "start_time": "2021-06-22T05:25:48.187Z"
   },
   {
    "duration": 88,
    "start_time": "2021-06-22T05:25:48.275Z"
   },
   {
    "duration": 26,
    "start_time": "2021-06-22T05:25:48.366Z"
   },
   {
    "duration": 127,
    "start_time": "2021-06-22T05:25:48.395Z"
   },
   {
    "duration": 6,
    "start_time": "2021-06-22T05:25:48.526Z"
   },
   {
    "duration": 69,
    "start_time": "2021-06-22T05:25:48.534Z"
   },
   {
    "duration": 36,
    "start_time": "2021-06-22T05:25:48.605Z"
   },
   {
    "duration": 401,
    "start_time": "2021-06-22T05:25:48.662Z"
   },
   {
    "duration": 100,
    "start_time": "2021-06-22T05:25:49.067Z"
   },
   {
    "duration": 1319,
    "start_time": "2021-06-22T05:25:49.170Z"
   },
   {
    "duration": 14,
    "start_time": "2021-06-22T05:25:50.494Z"
   },
   {
    "duration": 11,
    "start_time": "2021-06-22T05:25:50.511Z"
   },
   {
    "duration": 38,
    "start_time": "2021-06-22T05:25:50.525Z"
   },
   {
    "duration": 6,
    "start_time": "2021-06-22T05:25:50.566Z"
   },
   {
    "duration": 7589,
    "start_time": "2021-06-22T05:25:50.574Z"
   },
   {
    "duration": 53,
    "start_time": "2021-06-22T05:49:08.915Z"
   },
   {
    "duration": 44,
    "start_time": "2021-06-22T05:49:19.713Z"
   },
   {
    "duration": 44,
    "start_time": "2021-06-22T05:50:51.288Z"
   },
   {
    "duration": 481,
    "start_time": "2021-06-22T05:52:43.462Z"
   },
   {
    "duration": 42,
    "start_time": "2021-06-22T05:52:57.968Z"
   },
   {
    "duration": 38,
    "start_time": "2021-06-22T05:57:00.147Z"
   },
   {
    "duration": 16,
    "start_time": "2021-06-22T06:17:00.339Z"
   },
   {
    "duration": 17,
    "start_time": "2021-06-22T06:17:19.489Z"
   },
   {
    "duration": 114,
    "start_time": "2021-06-22T06:17:20.858Z"
   },
   {
    "duration": 3449,
    "start_time": "2021-06-22T06:17:52.900Z"
   },
   {
    "duration": 493,
    "start_time": "2021-06-22T06:17:56.353Z"
   },
   {
    "duration": 19,
    "start_time": "2021-06-22T06:17:56.849Z"
   },
   {
    "duration": 19,
    "start_time": "2021-06-22T06:17:56.871Z"
   },
   {
    "duration": 19,
    "start_time": "2021-06-22T06:17:56.893Z"
   },
   {
    "duration": 121,
    "start_time": "2021-06-22T06:17:56.914Z"
   },
   {
    "duration": 94,
    "start_time": "2021-06-22T06:17:57.038Z"
   },
   {
    "duration": 100,
    "start_time": "2021-06-22T06:17:57.135Z"
   },
   {
    "duration": 200,
    "start_time": "2021-06-22T06:17:57.238Z"
   },
   {
    "duration": 66,
    "start_time": "2021-06-22T06:17:57.441Z"
   },
   {
    "duration": 143,
    "start_time": "2021-06-22T06:17:57.510Z"
   },
   {
    "duration": 59,
    "start_time": "2021-06-22T06:17:57.661Z"
   },
   {
    "duration": 77,
    "start_time": "2021-06-22T06:17:57.722Z"
   },
   {
    "duration": 63,
    "start_time": "2021-06-22T06:17:57.802Z"
   },
   {
    "duration": 26,
    "start_time": "2021-06-22T06:17:57.867Z"
   },
   {
    "duration": 94,
    "start_time": "2021-06-22T06:17:57.895Z"
   },
   {
    "duration": 5,
    "start_time": "2021-06-22T06:17:57.991Z"
   },
   {
    "duration": 7,
    "start_time": "2021-06-22T06:17:57.998Z"
   },
   {
    "duration": 20,
    "start_time": "2021-06-22T06:18:08.001Z"
   },
   {
    "duration": 37,
    "start_time": "2021-06-22T06:18:09.977Z"
   },
   {
    "duration": 23,
    "start_time": "2021-06-22T06:19:36.008Z"
   },
   {
    "duration": 35,
    "start_time": "2021-06-22T06:19:38.199Z"
   },
   {
    "duration": 128,
    "start_time": "2021-06-22T06:20:28.967Z"
   },
   {
    "duration": 23,
    "start_time": "2021-06-22T06:20:40.881Z"
   },
   {
    "duration": 10,
    "start_time": "2021-06-22T06:21:56.646Z"
   },
   {
    "duration": 366,
    "start_time": "2021-06-22T06:22:06.221Z"
   },
   {
    "duration": 421,
    "start_time": "2021-06-22T06:22:15.850Z"
   },
   {
    "duration": 24,
    "start_time": "2021-06-22T06:22:28.269Z"
   },
   {
    "duration": 382,
    "start_time": "2021-06-22T06:24:34.035Z"
   },
   {
    "duration": 59,
    "start_time": "2021-06-22T06:24:46.188Z"
   },
   {
    "duration": 36,
    "start_time": "2021-06-22T06:24:50.803Z"
   },
   {
    "duration": 60,
    "start_time": "2021-06-22T06:27:35.537Z"
   },
   {
    "duration": 55,
    "start_time": "2021-06-22T06:27:46.537Z"
   },
   {
    "duration": 55,
    "start_time": "2021-06-22T06:28:41.713Z"
   },
   {
    "duration": 48,
    "start_time": "2021-06-22T06:28:45.272Z"
   },
   {
    "duration": 4445,
    "start_time": "2021-06-22T06:30:16.206Z"
   },
   {
    "duration": 5848,
    "start_time": "2021-06-22T06:30:31.750Z"
   },
   {
    "duration": 467,
    "start_time": "2021-06-22T06:30:37.601Z"
   },
   {
    "duration": 22,
    "start_time": "2021-06-22T06:30:38.071Z"
   },
   {
    "duration": 19,
    "start_time": "2021-06-22T06:30:38.096Z"
   },
   {
    "duration": 21,
    "start_time": "2021-06-22T06:30:38.118Z"
   },
   {
    "duration": 99,
    "start_time": "2021-06-22T06:30:38.163Z"
   },
   {
    "duration": 99,
    "start_time": "2021-06-22T06:30:38.264Z"
   },
   {
    "duration": 101,
    "start_time": "2021-06-22T06:30:38.367Z"
   },
   {
    "duration": 223,
    "start_time": "2021-06-22T06:30:38.470Z"
   },
   {
    "duration": 68,
    "start_time": "2021-06-22T06:30:38.696Z"
   },
   {
    "duration": 149,
    "start_time": "2021-06-22T06:30:38.767Z"
   },
   {
    "duration": 76,
    "start_time": "2021-06-22T06:30:38.918Z"
   },
   {
    "duration": 69,
    "start_time": "2021-06-22T06:30:38.996Z"
   },
   {
    "duration": 54,
    "start_time": "2021-06-22T06:30:39.068Z"
   },
   {
    "duration": 43,
    "start_time": "2021-06-22T06:30:39.124Z"
   },
   {
    "duration": 72,
    "start_time": "2021-06-22T06:30:39.170Z"
   },
   {
    "duration": 6,
    "start_time": "2021-06-22T06:30:39.262Z"
   },
   {
    "duration": 111,
    "start_time": "2021-06-22T06:30:39.271Z"
   },
   {
    "duration": 51,
    "start_time": "2021-06-22T06:30:39.386Z"
   },
   {
    "duration": 424,
    "start_time": "2021-06-22T06:30:39.439Z"
   },
   {
    "duration": 95,
    "start_time": "2021-06-22T06:30:39.869Z"
   },
   {
    "duration": 1339,
    "start_time": "2021-06-22T06:30:39.967Z"
   },
   {
    "duration": 14,
    "start_time": "2021-06-22T06:30:41.312Z"
   },
   {
    "duration": 5,
    "start_time": "2021-06-22T06:30:41.330Z"
   },
   {
    "duration": 35,
    "start_time": "2021-06-22T06:30:41.338Z"
   },
   {
    "duration": 12,
    "start_time": "2021-06-22T06:30:41.376Z"
   },
   {
    "duration": 11666,
    "start_time": "2021-06-22T06:30:41.391Z"
   },
   {
    "duration": 5567,
    "start_time": "2021-06-22T06:34:17.282Z"
   },
   {
    "duration": 494,
    "start_time": "2021-06-22T06:34:22.851Z"
   },
   {
    "duration": 23,
    "start_time": "2021-06-22T06:34:23.348Z"
   },
   {
    "duration": 16,
    "start_time": "2021-06-22T06:34:23.374Z"
   },
   {
    "duration": 20,
    "start_time": "2021-06-22T06:34:23.393Z"
   },
   {
    "duration": 125,
    "start_time": "2021-06-22T06:34:23.416Z"
   },
   {
    "duration": 97,
    "start_time": "2021-06-22T06:34:23.543Z"
   },
   {
    "duration": 106,
    "start_time": "2021-06-22T06:34:23.644Z"
   },
   {
    "duration": 224,
    "start_time": "2021-06-22T06:34:23.752Z"
   },
   {
    "duration": 57,
    "start_time": "2021-06-22T06:34:23.980Z"
   },
   {
    "duration": 156,
    "start_time": "2021-06-22T06:34:24.063Z"
   },
   {
    "duration": 76,
    "start_time": "2021-06-22T06:34:24.222Z"
   },
   {
    "duration": 71,
    "start_time": "2021-06-22T06:34:24.301Z"
   },
   {
    "duration": 55,
    "start_time": "2021-06-22T06:34:24.375Z"
   },
   {
    "duration": 41,
    "start_time": "2021-06-22T06:34:24.432Z"
   },
   {
    "duration": 86,
    "start_time": "2021-06-22T06:34:24.476Z"
   },
   {
    "duration": 6,
    "start_time": "2021-06-22T06:34:24.564Z"
   },
   {
    "duration": 169,
    "start_time": "2021-06-22T06:34:24.573Z"
   },
   {
    "duration": 51,
    "start_time": "2021-06-22T06:34:24.744Z"
   },
   {
    "duration": 266,
    "start_time": "2021-06-22T06:34:24.797Z"
   },
   {
    "duration": 101,
    "start_time": "2021-06-22T06:34:25.067Z"
   },
   {
    "duration": 1405,
    "start_time": "2021-06-22T06:34:25.179Z"
   },
   {
    "duration": 14,
    "start_time": "2021-06-22T06:34:26.590Z"
   },
   {
    "duration": 8,
    "start_time": "2021-06-22T06:34:26.608Z"
   },
   {
    "duration": 15,
    "start_time": "2021-06-22T06:34:26.619Z"
   },
   {
    "duration": 7,
    "start_time": "2021-06-22T06:34:26.663Z"
   },
   {
    "duration": 7619,
    "start_time": "2021-06-22T06:34:26.672Z"
   },
   {
    "duration": 6245,
    "start_time": "2021-06-22T06:36:10.183Z"
   },
   {
    "duration": 491,
    "start_time": "2021-06-22T06:36:16.431Z"
   },
   {
    "duration": 21,
    "start_time": "2021-06-22T06:36:16.925Z"
   },
   {
    "duration": 28,
    "start_time": "2021-06-22T06:36:16.950Z"
   },
   {
    "duration": 27,
    "start_time": "2021-06-22T06:36:16.980Z"
   },
   {
    "duration": 111,
    "start_time": "2021-06-22T06:36:17.010Z"
   },
   {
    "duration": 94,
    "start_time": "2021-06-22T06:36:17.123Z"
   },
   {
    "duration": 101,
    "start_time": "2021-06-22T06:36:17.220Z"
   },
   {
    "duration": 244,
    "start_time": "2021-06-22T06:36:17.324Z"
   },
   {
    "duration": 68,
    "start_time": "2021-06-22T06:36:17.571Z"
   },
   {
    "duration": 169,
    "start_time": "2021-06-22T06:36:17.641Z"
   },
   {
    "duration": 72,
    "start_time": "2021-06-22T06:36:17.812Z"
   },
   {
    "duration": 55,
    "start_time": "2021-06-22T06:36:17.887Z"
   },
   {
    "duration": 70,
    "start_time": "2021-06-22T06:36:17.944Z"
   },
   {
    "duration": 18,
    "start_time": "2021-06-22T06:36:18.017Z"
   },
   {
    "duration": 87,
    "start_time": "2021-06-22T06:36:18.037Z"
   },
   {
    "duration": 6,
    "start_time": "2021-06-22T06:36:18.127Z"
   },
   {
    "duration": 28,
    "start_time": "2021-06-22T06:36:18.135Z"
   },
   {
    "duration": 60,
    "start_time": "2021-06-22T06:36:18.166Z"
   },
   {
    "duration": 335,
    "start_time": "2021-06-22T06:36:18.228Z"
   },
   {
    "duration": 101,
    "start_time": "2021-06-22T06:36:18.566Z"
   },
   {
    "duration": 1963,
    "start_time": "2021-06-22T06:36:18.671Z"
   },
   {
    "duration": 26,
    "start_time": "2021-06-22T06:36:20.640Z"
   },
   {
    "duration": 8,
    "start_time": "2021-06-22T06:36:20.669Z"
   },
   {
    "duration": 12,
    "start_time": "2021-06-22T06:36:20.680Z"
   },
   {
    "duration": 9,
    "start_time": "2021-06-22T06:36:20.695Z"
   },
   {
    "duration": 12299,
    "start_time": "2021-06-22T06:36:20.707Z"
   },
   {
    "duration": 139,
    "start_time": "2021-06-22T06:50:33.425Z"
   },
   {
    "duration": 63,
    "start_time": "2021-06-22T06:50:35.368Z"
   },
   {
    "duration": 410,
    "start_time": "2021-06-22T06:50:41.856Z"
   },
   {
    "duration": 12,
    "start_time": "2021-06-22T06:50:45.479Z"
   },
   {
    "duration": 4,
    "start_time": "2021-06-22T06:52:16.662Z"
   },
   {
    "duration": 43,
    "start_time": "2021-06-22T06:52:18.110Z"
   },
   {
    "duration": 6426,
    "start_time": "2021-06-22T06:52:25.520Z"
   },
   {
    "duration": 700,
    "start_time": "2021-06-22T06:52:31.950Z"
   },
   {
    "duration": 31,
    "start_time": "2021-06-22T06:52:32.654Z"
   },
   {
    "duration": 26,
    "start_time": "2021-06-22T06:52:32.689Z"
   },
   {
    "duration": 60,
    "start_time": "2021-06-22T06:52:32.718Z"
   },
   {
    "duration": 146,
    "start_time": "2021-06-22T06:52:32.790Z"
   },
   {
    "duration": 153,
    "start_time": "2021-06-22T06:52:32.939Z"
   },
   {
    "duration": 158,
    "start_time": "2021-06-22T06:52:33.097Z"
   },
   {
    "duration": 256,
    "start_time": "2021-06-22T06:52:33.259Z"
   },
   {
    "duration": 92,
    "start_time": "2021-06-22T06:52:33.518Z"
   },
   {
    "duration": 228,
    "start_time": "2021-06-22T06:52:33.614Z"
   },
   {
    "duration": 98,
    "start_time": "2021-06-22T06:52:33.845Z"
   },
   {
    "duration": 88,
    "start_time": "2021-06-22T06:52:33.946Z"
   },
   {
    "duration": 96,
    "start_time": "2021-06-22T06:52:34.037Z"
   },
   {
    "duration": 38,
    "start_time": "2021-06-22T06:52:34.136Z"
   },
   {
    "duration": 120,
    "start_time": "2021-06-22T06:52:34.177Z"
   },
   {
    "duration": 6,
    "start_time": "2021-06-22T06:52:34.300Z"
   },
   {
    "duration": 8,
    "start_time": "2021-06-22T06:52:34.309Z"
   },
   {
    "duration": 89,
    "start_time": "2021-06-22T06:52:34.320Z"
   },
   {
    "duration": 251,
    "start_time": "2021-06-22T06:52:34.413Z"
   },
   {
    "duration": 101,
    "start_time": "2021-06-22T06:52:34.667Z"
   },
   {
    "duration": 1344,
    "start_time": "2021-06-22T06:52:34.773Z"
   },
   {
    "duration": 14,
    "start_time": "2021-06-22T06:52:36.121Z"
   },
   {
    "duration": 25,
    "start_time": "2021-06-22T06:52:36.138Z"
   },
   {
    "duration": 12,
    "start_time": "2021-06-22T06:52:36.165Z"
   },
   {
    "duration": 6,
    "start_time": "2021-06-22T06:52:36.180Z"
   },
   {
    "duration": 13029,
    "start_time": "2021-06-22T06:52:36.190Z"
   },
   {
    "duration": 251,
    "start_time": "2021-06-22T06:53:59.318Z"
   },
   {
    "duration": 10,
    "start_time": "2021-06-22T06:54:01.006Z"
   },
   {
    "duration": 9,
    "start_time": "2021-06-22T06:54:02.758Z"
   },
   {
    "duration": 13,
    "start_time": "2021-06-22T06:54:08.646Z"
   },
   {
    "duration": 13,
    "start_time": "2021-06-22T06:54:15.750Z"
   },
   {
    "duration": 6424,
    "start_time": "2021-06-22T06:55:05.768Z"
   },
   {
    "duration": 458,
    "start_time": "2021-06-22T06:55:12.195Z"
   },
   {
    "duration": 23,
    "start_time": "2021-06-22T06:55:12.656Z"
   },
   {
    "duration": 17,
    "start_time": "2021-06-22T06:55:12.682Z"
   },
   {
    "duration": 16,
    "start_time": "2021-06-22T06:55:12.702Z"
   },
   {
    "duration": 102,
    "start_time": "2021-06-22T06:55:12.761Z"
   },
   {
    "duration": 107,
    "start_time": "2021-06-22T06:55:12.866Z"
   },
   {
    "duration": 112,
    "start_time": "2021-06-22T06:55:12.977Z"
   },
   {
    "duration": 239,
    "start_time": "2021-06-22T06:55:13.092Z"
   },
   {
    "duration": 86,
    "start_time": "2021-06-22T06:55:13.335Z"
   },
   {
    "duration": 211,
    "start_time": "2021-06-22T06:55:13.424Z"
   },
   {
    "duration": 89,
    "start_time": "2021-06-22T06:55:13.638Z"
   },
   {
    "duration": 90,
    "start_time": "2021-06-22T06:55:13.730Z"
   },
   {
    "duration": 86,
    "start_time": "2021-06-22T06:55:13.823Z"
   },
   {
    "duration": 22,
    "start_time": "2021-06-22T06:55:13.912Z"
   },
   {
    "duration": 83,
    "start_time": "2021-06-22T06:55:13.937Z"
   },
   {
    "duration": 5,
    "start_time": "2021-06-22T06:55:14.023Z"
   },
   {
    "duration": 5,
    "start_time": "2021-06-22T06:55:14.030Z"
   },
   {
    "duration": 66,
    "start_time": "2021-06-22T06:55:14.037Z"
   },
   {
    "duration": 257,
    "start_time": "2021-06-22T06:55:14.106Z"
   },
   {
    "duration": 97,
    "start_time": "2021-06-22T06:55:14.366Z"
   },
   {
    "duration": 1277,
    "start_time": "2021-06-22T06:55:14.563Z"
   },
   {
    "duration": 23,
    "start_time": "2021-06-22T06:55:15.846Z"
   },
   {
    "duration": 35,
    "start_time": "2021-06-22T06:55:15.873Z"
   },
   {
    "duration": 9,
    "start_time": "2021-06-22T06:55:15.911Z"
   },
   {
    "duration": 8,
    "start_time": "2021-06-22T06:55:15.923Z"
   },
   {
    "duration": 12675,
    "start_time": "2021-06-22T06:55:15.934Z"
   },
   {
    "duration": 215,
    "start_time": "2021-06-22T07:03:21.151Z"
   },
   {
    "duration": 11,
    "start_time": "2021-06-22T07:03:22.951Z"
   },
   {
    "duration": 1475,
    "start_time": "2021-06-22T07:03:26.094Z"
   },
   {
    "duration": 15,
    "start_time": "2021-06-22T07:03:29.706Z"
   },
   {
    "duration": 13,
    "start_time": "2021-06-22T07:03:36.046Z"
   },
   {
    "duration": 540,
    "start_time": "2021-06-22T07:04:00.687Z"
   },
   {
    "duration": 7,
    "start_time": "2021-06-22T07:04:32.518Z"
   },
   {
    "duration": 11313,
    "start_time": "2021-06-22T07:04:35.254Z"
   },
   {
    "duration": 243,
    "start_time": "2021-06-22T07:08:02.123Z"
   },
   {
    "duration": 11,
    "start_time": "2021-06-22T07:08:20.491Z"
   },
   {
    "duration": 4,
    "start_time": "2021-06-22T07:13:14.847Z"
   },
   {
    "duration": 5,
    "start_time": "2021-06-22T07:13:16.886Z"
   },
   {
    "duration": 5,
    "start_time": "2021-06-22T07:13:18.070Z"
   },
   {
    "duration": 428,
    "start_time": "2021-06-22T07:15:02.616Z"
   },
   {
    "duration": 6,
    "start_time": "2021-06-22T07:15:09.061Z"
   },
   {
    "duration": 7948,
    "start_time": "2021-06-22T07:15:11.133Z"
   },
   {
    "duration": 7768,
    "start_time": "2021-06-22T07:15:59.310Z"
   },
   {
    "duration": 8681,
    "start_time": "2021-06-22T07:17:15.429Z"
   },
   {
    "duration": 9374,
    "start_time": "2021-06-22T07:17:30.452Z"
   },
   {
    "duration": 7702,
    "start_time": "2021-06-22T07:17:58.043Z"
   },
   {
    "duration": 120,
    "start_time": "2021-06-22T07:19:40.207Z"
   },
   {
    "duration": 12009,
    "start_time": "2021-06-22T08:18:56.732Z"
   },
   {
    "duration": 9351,
    "start_time": "2021-06-22T08:21:45.395Z"
   },
   {
    "duration": 8273,
    "start_time": "2021-06-22T08:29:45.836Z"
   },
   {
    "duration": 8341,
    "start_time": "2021-06-22T08:30:22.179Z"
   },
   {
    "duration": 3190,
    "start_time": "2021-06-22T08:30:54.363Z"
   },
   {
    "duration": 3674,
    "start_time": "2021-06-22T08:31:10.818Z"
   },
   {
    "duration": 7956,
    "start_time": "2021-06-22T08:31:34.306Z"
   },
   {
    "duration": 124,
    "start_time": "2021-06-22T08:33:19.200Z"
   },
   {
    "duration": 3581,
    "start_time": "2021-06-22T09:04:44.292Z"
   },
   {
    "duration": 481,
    "start_time": "2021-06-22T09:04:47.876Z"
   },
   {
    "duration": 18,
    "start_time": "2021-06-22T09:04:48.360Z"
   },
   {
    "duration": 19,
    "start_time": "2021-06-22T09:04:48.381Z"
   },
   {
    "duration": 21,
    "start_time": "2021-06-22T09:04:48.402Z"
   },
   {
    "duration": 119,
    "start_time": "2021-06-22T09:04:48.425Z"
   },
   {
    "duration": 89,
    "start_time": "2021-06-22T09:04:48.562Z"
   },
   {
    "duration": 100,
    "start_time": "2021-06-22T09:04:48.664Z"
   },
   {
    "duration": 209,
    "start_time": "2021-06-22T09:04:48.767Z"
   },
   {
    "duration": 96,
    "start_time": "2021-06-22T09:04:48.979Z"
   },
   {
    "duration": 214,
    "start_time": "2021-06-22T09:04:49.078Z"
   },
   {
    "duration": 93,
    "start_time": "2021-06-22T09:04:49.295Z"
   },
   {
    "duration": 89,
    "start_time": "2021-06-22T09:04:49.391Z"
   },
   {
    "duration": 88,
    "start_time": "2021-06-22T09:04:49.483Z"
   },
   {
    "duration": 28,
    "start_time": "2021-06-22T09:04:49.574Z"
   },
   {
    "duration": 122,
    "start_time": "2021-06-22T09:04:49.606Z"
   },
   {
    "duration": 6,
    "start_time": "2021-06-22T09:04:49.731Z"
   },
   {
    "duration": 336,
    "start_time": "2021-06-22T09:04:49.739Z"
   },
   {
    "duration": 14,
    "start_time": "2021-06-22T09:04:50.164Z"
   },
   {
    "duration": 1403,
    "start_time": "2021-06-22T09:04:50.263Z"
   },
   {
    "duration": 13,
    "start_time": "2021-06-22T09:04:51.669Z"
   },
   {
    "duration": 23,
    "start_time": "2021-06-22T09:04:51.685Z"
   },
   {
    "duration": 7,
    "start_time": "2021-06-22T09:04:51.713Z"
   },
   {
    "duration": 7,
    "start_time": "2021-06-22T09:04:51.723Z"
   },
   {
    "duration": 11151,
    "start_time": "2021-06-22T09:04:51.733Z"
   },
   {
    "duration": 6004,
    "start_time": "2021-06-22T09:39:07.833Z"
   },
   {
    "duration": 472,
    "start_time": "2021-06-22T09:39:13.840Z"
   },
   {
    "duration": 32,
    "start_time": "2021-06-22T09:39:14.316Z"
   },
   {
    "duration": 26,
    "start_time": "2021-06-22T09:39:14.364Z"
   },
   {
    "duration": 25,
    "start_time": "2021-06-22T09:39:14.393Z"
   },
   {
    "duration": 176,
    "start_time": "2021-06-22T09:39:14.421Z"
   },
   {
    "duration": 104,
    "start_time": "2021-06-22T09:39:14.599Z"
   },
   {
    "duration": 99,
    "start_time": "2021-06-22T09:39:14.707Z"
   },
   {
    "duration": 212,
    "start_time": "2021-06-22T09:39:14.809Z"
   },
   {
    "duration": 68,
    "start_time": "2021-06-22T09:39:15.024Z"
   },
   {
    "duration": 158,
    "start_time": "2021-06-22T09:39:15.095Z"
   },
   {
    "duration": 62,
    "start_time": "2021-06-22T09:39:15.256Z"
   },
   {
    "duration": 81,
    "start_time": "2021-06-22T09:39:15.321Z"
   },
   {
    "duration": 64,
    "start_time": "2021-06-22T09:39:15.404Z"
   },
   {
    "duration": 18,
    "start_time": "2021-06-22T09:39:15.471Z"
   },
   {
    "duration": 91,
    "start_time": "2021-06-22T09:39:15.491Z"
   },
   {
    "duration": 6,
    "start_time": "2021-06-22T09:39:15.585Z"
   },
   {
    "duration": 278,
    "start_time": "2021-06-22T09:39:15.593Z"
   },
   {
    "duration": 188,
    "start_time": "2021-06-22T09:39:15.875Z"
   },
   {
    "duration": 1865,
    "start_time": "2021-06-22T09:39:16.066Z"
   },
   {
    "duration": 29,
    "start_time": "2021-06-22T09:39:17.934Z"
   },
   {
    "duration": 5,
    "start_time": "2021-06-22T09:39:17.966Z"
   },
   {
    "duration": 7,
    "start_time": "2021-06-22T09:39:17.977Z"
   },
   {
    "duration": 11,
    "start_time": "2021-06-22T09:39:17.987Z"
   },
   {
    "duration": 7794,
    "start_time": "2021-06-22T09:39:18.001Z"
   },
   {
    "duration": 115,
    "start_time": "2021-06-22T12:37:51.840Z"
   },
   {
    "duration": 344,
    "start_time": "2021-06-22T12:37:59.118Z"
   },
   {
    "duration": 6214,
    "start_time": "2021-06-22T12:39:49.727Z"
   },
   {
    "duration": 467,
    "start_time": "2021-06-22T12:39:55.944Z"
   },
   {
    "duration": 23,
    "start_time": "2021-06-22T12:39:56.414Z"
   },
   {
    "duration": 17,
    "start_time": "2021-06-22T12:39:56.440Z"
   },
   {
    "duration": 48,
    "start_time": "2021-06-22T12:39:56.460Z"
   },
   {
    "duration": 97,
    "start_time": "2021-06-22T12:39:56.511Z"
   },
   {
    "duration": 96,
    "start_time": "2021-06-22T12:39:56.611Z"
   },
   {
    "duration": 97,
    "start_time": "2021-06-22T12:39:56.712Z"
   },
   {
    "duration": 195,
    "start_time": "2021-06-22T12:39:56.813Z"
   },
   {
    "duration": 52,
    "start_time": "2021-06-22T12:39:57.010Z"
   },
   {
    "duration": 157,
    "start_time": "2021-06-22T12:39:57.064Z"
   },
   {
    "duration": 57,
    "start_time": "2021-06-22T12:39:57.223Z"
   },
   {
    "duration": 69,
    "start_time": "2021-06-22T12:39:57.282Z"
   },
   {
    "duration": 73,
    "start_time": "2021-06-22T12:39:57.353Z"
   },
   {
    "duration": 18,
    "start_time": "2021-06-22T12:39:57.429Z"
   },
   {
    "duration": 86,
    "start_time": "2021-06-22T12:39:57.449Z"
   },
   {
    "duration": 5,
    "start_time": "2021-06-22T12:39:57.538Z"
   },
   {
    "duration": 161,
    "start_time": "2021-06-22T12:39:57.546Z"
   },
   {
    "duration": 192,
    "start_time": "2021-06-22T12:39:57.710Z"
   },
   {
    "duration": 1264,
    "start_time": "2021-06-22T12:39:57.906Z"
   },
   {
    "duration": 14,
    "start_time": "2021-06-22T12:39:59.173Z"
   },
   {
    "duration": 8,
    "start_time": "2021-06-22T12:39:59.201Z"
   },
   {
    "duration": 10,
    "start_time": "2021-06-22T12:39:59.213Z"
   },
   {
    "duration": 7,
    "start_time": "2021-06-22T12:39:59.225Z"
   },
   {
    "duration": 3266,
    "start_time": "2021-06-22T12:39:59.234Z"
   },
   {
    "duration": 7853,
    "start_time": "2021-06-22T12:41:43.892Z"
   }
  ],
  "kernelspec": {
   "display_name": "Python 3",
   "language": "python",
   "name": "python3"
  },
  "language_info": {
   "codemirror_mode": {
    "name": "ipython",
    "version": 3
   },
   "file_extension": ".py",
   "mimetype": "text/x-python",
   "name": "python",
   "nbconvert_exporter": "python",
   "pygments_lexer": "ipython3",
   "version": "3.7.6"
  },
  "toc": {
   "base_numbering": 1,
   "nav_menu": {},
   "number_sections": true,
   "sideBar": true,
   "skip_h1_title": true,
   "title_cell": "Оглавление.",
   "title_sidebar": "Contents",
   "toc_cell": true,
   "toc_position": {},
   "toc_section_display": true,
   "toc_window_display": false
  }
 },
 "nbformat": 4,
 "nbformat_minor": 2
}
