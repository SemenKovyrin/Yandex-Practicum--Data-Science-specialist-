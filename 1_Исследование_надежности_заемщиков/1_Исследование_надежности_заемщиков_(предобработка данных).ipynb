{
 "cells": [
  {
   "cell_type": "markdown",
   "metadata": {},
   "source": [
    "# Исследование надёжности заёмщиков\n",
    "\n",
    "Кредитному отделу банка нужно понять, влияет ли семейное положение и количество детей клиента на погашение кредита в срок.  Используем статистику о платёжеспособности клиентов.\n",
    "\n",
    "Результаты исследования помогут при построении модели **кредитного скоринга**."
   ]
  },
  {
   "cell_type": "markdown",
   "metadata": {},
   "source": [
    "## Знакомство с данными"
   ]
  },
  {
   "cell_type": "code",
   "execution_count": 1,
   "metadata": {
    "scrolled": true
   },
   "outputs": [
    {
     "name": "stdout",
     "output_type": "stream",
     "text": [
      "<class 'pandas.core.frame.DataFrame'>\n",
      "RangeIndex: 21525 entries, 0 to 21524\n",
      "Data columns (total 12 columns):\n",
      "children            21525 non-null int64\n",
      "days_employed       19351 non-null float64\n",
      "dob_years           21525 non-null int64\n",
      "education           21525 non-null object\n",
      "education_id        21525 non-null int64\n",
      "family_status       21525 non-null object\n",
      "family_status_id    21525 non-null int64\n",
      "gender              21525 non-null object\n",
      "income_type         21525 non-null object\n",
      "debt                21525 non-null int64\n",
      "total_income        19351 non-null float64\n",
      "purpose             21525 non-null object\n",
      "dtypes: float64(2), int64(5), object(5)\n",
      "memory usage: 2.0+ MB\n"
     ]
    }
   ],
   "source": [
    "import pandas as pd\n",
    "\n",
    "credit_info = pd.read_csv('data.csv')\n",
    "# посмотрим общую информацию о данных\n",
    "credit_info.info()"
   ]
  },
  {
   "cell_type": "markdown",
   "metadata": {},
   "source": [
    "*Мы видим что второй и одинадцатый столбец имеют пропущенные значения. Еще эти столбцы имеют значения типа \"float64\" и будет удобнее и логичнее привести их к целочислительному типу.*"
   ]
  },
  {
   "cell_type": "code",
   "execution_count": 2,
   "metadata": {
    "scrolled": false
   },
   "outputs": [
    {
     "data": {
      "text/plain": [
       "children               0\n",
       "days_employed       2174\n",
       "dob_years              0\n",
       "education              0\n",
       "education_id           0\n",
       "family_status          0\n",
       "family_status_id       0\n",
       "gender                 0\n",
       "income_type            0\n",
       "debt                   0\n",
       "total_income        2174\n",
       "purpose                0\n",
       "dtype: int64"
      ]
     },
     "execution_count": 2,
     "metadata": {},
     "output_type": "execute_result"
    }
   ],
   "source": [
    "# посчитаем пропущенные значения\n",
    "credit_info.isnull().sum()"
   ]
  },
  {
   "cell_type": "markdown",
   "metadata": {},
   "source": [
    "*Пропущенные значения по доходу в точности совпадают по количеству с пропущенными значениями по стажу, предварительно можно сделать вывод о том что это заемщики без официального стажа и дохода - тем более 2174 строк с пропусками это около 10% всей информации!.*"
   ]
  },
  {
   "cell_type": "code",
   "execution_count": 3,
   "metadata": {
    "scrolled": true
   },
   "outputs": [
    {
     "data": {
      "text/html": [
       "<div>\n",
       "<style scoped>\n",
       "    .dataframe tbody tr th:only-of-type {\n",
       "        vertical-align: middle;\n",
       "    }\n",
       "\n",
       "    .dataframe tbody tr th {\n",
       "        vertical-align: top;\n",
       "    }\n",
       "\n",
       "    .dataframe thead th {\n",
       "        text-align: right;\n",
       "    }\n",
       "</style>\n",
       "<table border=\"1\" class=\"dataframe\">\n",
       "  <thead>\n",
       "    <tr style=\"text-align: right;\">\n",
       "      <th></th>\n",
       "      <th>children</th>\n",
       "      <th>days_employed</th>\n",
       "      <th>dob_years</th>\n",
       "      <th>education</th>\n",
       "      <th>education_id</th>\n",
       "      <th>family_status</th>\n",
       "      <th>family_status_id</th>\n",
       "      <th>gender</th>\n",
       "      <th>income_type</th>\n",
       "      <th>debt</th>\n",
       "      <th>total_income</th>\n",
       "      <th>purpose</th>\n",
       "    </tr>\n",
       "  </thead>\n",
       "  <tbody>\n",
       "    <tr>\n",
       "      <td>0</td>\n",
       "      <td>1</td>\n",
       "      <td>-8437.673028</td>\n",
       "      <td>42</td>\n",
       "      <td>высшее</td>\n",
       "      <td>0</td>\n",
       "      <td>женат / замужем</td>\n",
       "      <td>0</td>\n",
       "      <td>F</td>\n",
       "      <td>сотрудник</td>\n",
       "      <td>0</td>\n",
       "      <td>253875.639453</td>\n",
       "      <td>покупка жилья</td>\n",
       "    </tr>\n",
       "    <tr>\n",
       "      <td>1</td>\n",
       "      <td>1</td>\n",
       "      <td>-4024.803754</td>\n",
       "      <td>36</td>\n",
       "      <td>среднее</td>\n",
       "      <td>1</td>\n",
       "      <td>женат / замужем</td>\n",
       "      <td>0</td>\n",
       "      <td>F</td>\n",
       "      <td>сотрудник</td>\n",
       "      <td>0</td>\n",
       "      <td>112080.014102</td>\n",
       "      <td>приобретение автомобиля</td>\n",
       "    </tr>\n",
       "    <tr>\n",
       "      <td>2</td>\n",
       "      <td>0</td>\n",
       "      <td>-5623.422610</td>\n",
       "      <td>33</td>\n",
       "      <td>Среднее</td>\n",
       "      <td>1</td>\n",
       "      <td>женат / замужем</td>\n",
       "      <td>0</td>\n",
       "      <td>M</td>\n",
       "      <td>сотрудник</td>\n",
       "      <td>0</td>\n",
       "      <td>145885.952297</td>\n",
       "      <td>покупка жилья</td>\n",
       "    </tr>\n",
       "    <tr>\n",
       "      <td>3</td>\n",
       "      <td>3</td>\n",
       "      <td>-4124.747207</td>\n",
       "      <td>32</td>\n",
       "      <td>среднее</td>\n",
       "      <td>1</td>\n",
       "      <td>женат / замужем</td>\n",
       "      <td>0</td>\n",
       "      <td>M</td>\n",
       "      <td>сотрудник</td>\n",
       "      <td>0</td>\n",
       "      <td>267628.550329</td>\n",
       "      <td>дополнительное образование</td>\n",
       "    </tr>\n",
       "    <tr>\n",
       "      <td>4</td>\n",
       "      <td>0</td>\n",
       "      <td>340266.072047</td>\n",
       "      <td>53</td>\n",
       "      <td>среднее</td>\n",
       "      <td>1</td>\n",
       "      <td>гражданский брак</td>\n",
       "      <td>1</td>\n",
       "      <td>F</td>\n",
       "      <td>пенсионер</td>\n",
       "      <td>0</td>\n",
       "      <td>158616.077870</td>\n",
       "      <td>сыграть свадьбу</td>\n",
       "    </tr>\n",
       "    <tr>\n",
       "      <td>5</td>\n",
       "      <td>0</td>\n",
       "      <td>-926.185831</td>\n",
       "      <td>27</td>\n",
       "      <td>высшее</td>\n",
       "      <td>0</td>\n",
       "      <td>гражданский брак</td>\n",
       "      <td>1</td>\n",
       "      <td>M</td>\n",
       "      <td>компаньон</td>\n",
       "      <td>0</td>\n",
       "      <td>255763.565419</td>\n",
       "      <td>покупка жилья</td>\n",
       "    </tr>\n",
       "    <tr>\n",
       "      <td>6</td>\n",
       "      <td>0</td>\n",
       "      <td>-2879.202052</td>\n",
       "      <td>43</td>\n",
       "      <td>высшее</td>\n",
       "      <td>0</td>\n",
       "      <td>женат / замужем</td>\n",
       "      <td>0</td>\n",
       "      <td>F</td>\n",
       "      <td>компаньон</td>\n",
       "      <td>0</td>\n",
       "      <td>240525.971920</td>\n",
       "      <td>операции с жильем</td>\n",
       "    </tr>\n",
       "    <tr>\n",
       "      <td>7</td>\n",
       "      <td>0</td>\n",
       "      <td>-152.779569</td>\n",
       "      <td>50</td>\n",
       "      <td>СРЕДНЕЕ</td>\n",
       "      <td>1</td>\n",
       "      <td>женат / замужем</td>\n",
       "      <td>0</td>\n",
       "      <td>M</td>\n",
       "      <td>сотрудник</td>\n",
       "      <td>0</td>\n",
       "      <td>135823.934197</td>\n",
       "      <td>образование</td>\n",
       "    </tr>\n",
       "    <tr>\n",
       "      <td>8</td>\n",
       "      <td>2</td>\n",
       "      <td>-6929.865299</td>\n",
       "      <td>35</td>\n",
       "      <td>ВЫСШЕЕ</td>\n",
       "      <td>0</td>\n",
       "      <td>гражданский брак</td>\n",
       "      <td>1</td>\n",
       "      <td>F</td>\n",
       "      <td>сотрудник</td>\n",
       "      <td>0</td>\n",
       "      <td>95856.832424</td>\n",
       "      <td>на проведение свадьбы</td>\n",
       "    </tr>\n",
       "    <tr>\n",
       "      <td>9</td>\n",
       "      <td>0</td>\n",
       "      <td>-2188.756445</td>\n",
       "      <td>41</td>\n",
       "      <td>среднее</td>\n",
       "      <td>1</td>\n",
       "      <td>женат / замужем</td>\n",
       "      <td>0</td>\n",
       "      <td>M</td>\n",
       "      <td>сотрудник</td>\n",
       "      <td>0</td>\n",
       "      <td>144425.938277</td>\n",
       "      <td>покупка жилья для семьи</td>\n",
       "    </tr>\n",
       "  </tbody>\n",
       "</table>\n",
       "</div>"
      ],
      "text/plain": [
       "   children  days_employed  dob_years education  education_id  \\\n",
       "0         1   -8437.673028         42    высшее             0   \n",
       "1         1   -4024.803754         36   среднее             1   \n",
       "2         0   -5623.422610         33   Среднее             1   \n",
       "3         3   -4124.747207         32   среднее             1   \n",
       "4         0  340266.072047         53   среднее             1   \n",
       "5         0    -926.185831         27    высшее             0   \n",
       "6         0   -2879.202052         43    высшее             0   \n",
       "7         0    -152.779569         50   СРЕДНЕЕ             1   \n",
       "8         2   -6929.865299         35    ВЫСШЕЕ             0   \n",
       "9         0   -2188.756445         41   среднее             1   \n",
       "\n",
       "      family_status  family_status_id gender income_type  debt   total_income  \\\n",
       "0   женат / замужем                 0      F   сотрудник     0  253875.639453   \n",
       "1   женат / замужем                 0      F   сотрудник     0  112080.014102   \n",
       "2   женат / замужем                 0      M   сотрудник     0  145885.952297   \n",
       "3   женат / замужем                 0      M   сотрудник     0  267628.550329   \n",
       "4  гражданский брак                 1      F   пенсионер     0  158616.077870   \n",
       "5  гражданский брак                 1      M   компаньон     0  255763.565419   \n",
       "6   женат / замужем                 0      F   компаньон     0  240525.971920   \n",
       "7   женат / замужем                 0      M   сотрудник     0  135823.934197   \n",
       "8  гражданский брак                 1      F   сотрудник     0   95856.832424   \n",
       "9   женат / замужем                 0      M   сотрудник     0  144425.938277   \n",
       "\n",
       "                      purpose  \n",
       "0               покупка жилья  \n",
       "1     приобретение автомобиля  \n",
       "2               покупка жилья  \n",
       "3  дополнительное образование  \n",
       "4             сыграть свадьбу  \n",
       "5               покупка жилья  \n",
       "6           операции с жильем  \n",
       "7                 образование  \n",
       "8       на проведение свадьбы  \n",
       "9     покупка жилья для семьи  "
      ]
     },
     "execution_count": 3,
     "metadata": {},
     "output_type": "execute_result"
    }
   ],
   "source": [
    "# посмотрим первые строки таблицы\n",
    "credit_info.head(10)"
   ]
  },
  {
   "cell_type": "markdown",
   "metadata": {},
   "source": [
    "*Столбец 'days_employed' имеет отрицательные значения, а если перевести некоторые из них в года то получится стаж больше возраста заемщика, здесь можно поставить ограничение по возрасту с 18 лет (стаж не может превышать возраста заемщика минус 18 лет) с которых можно начинать официально трудиться.\n",
    "Столбец 'education' имеет записи одинаковых значений разным шрифтом. Цели займа описаны разными словами, но имеют по сути одну цель - как в случае со свадьбой (\"сыграть свадьбу\" и \"на проведение свадьбы\").*"
   ]
  },
  {
   "cell_type": "code",
   "execution_count": 4,
   "metadata": {},
   "outputs": [
    {
     "data": {
      "text/plain": [
       "54"
      ]
     },
     "execution_count": 4,
     "metadata": {},
     "output_type": "execute_result"
    }
   ],
   "source": [
    "# посчитаем полные дубликаты\n",
    "credit_info.duplicated().sum()"
   ]
  },
  {
   "cell_type": "code",
   "execution_count": 5,
   "metadata": {
    "scrolled": true
   },
   "outputs": [
    {
     "data": {
      "text/html": [
       "<div>\n",
       "<style scoped>\n",
       "    .dataframe tbody tr th:only-of-type {\n",
       "        vertical-align: middle;\n",
       "    }\n",
       "\n",
       "    .dataframe tbody tr th {\n",
       "        vertical-align: top;\n",
       "    }\n",
       "\n",
       "    .dataframe thead th {\n",
       "        text-align: right;\n",
       "    }\n",
       "</style>\n",
       "<table border=\"1\" class=\"dataframe\">\n",
       "  <thead>\n",
       "    <tr style=\"text-align: right;\">\n",
       "      <th></th>\n",
       "      <th>children</th>\n",
       "      <th>days_employed</th>\n",
       "      <th>dob_years</th>\n",
       "      <th>education_id</th>\n",
       "      <th>family_status_id</th>\n",
       "      <th>debt</th>\n",
       "      <th>total_income</th>\n",
       "    </tr>\n",
       "  </thead>\n",
       "  <tbody>\n",
       "    <tr>\n",
       "      <td>count</td>\n",
       "      <td>21525.000000</td>\n",
       "      <td>19351.000000</td>\n",
       "      <td>21525.000000</td>\n",
       "      <td>21525.000000</td>\n",
       "      <td>21525.000000</td>\n",
       "      <td>21525.000000</td>\n",
       "      <td>1.935100e+04</td>\n",
       "    </tr>\n",
       "    <tr>\n",
       "      <td>mean</td>\n",
       "      <td>0.538908</td>\n",
       "      <td>63046.497661</td>\n",
       "      <td>43.293380</td>\n",
       "      <td>0.817236</td>\n",
       "      <td>0.972544</td>\n",
       "      <td>0.080883</td>\n",
       "      <td>1.674223e+05</td>\n",
       "    </tr>\n",
       "    <tr>\n",
       "      <td>std</td>\n",
       "      <td>1.381587</td>\n",
       "      <td>140827.311974</td>\n",
       "      <td>12.574584</td>\n",
       "      <td>0.548138</td>\n",
       "      <td>1.420324</td>\n",
       "      <td>0.272661</td>\n",
       "      <td>1.029716e+05</td>\n",
       "    </tr>\n",
       "    <tr>\n",
       "      <td>min</td>\n",
       "      <td>-1.000000</td>\n",
       "      <td>-18388.949901</td>\n",
       "      <td>0.000000</td>\n",
       "      <td>0.000000</td>\n",
       "      <td>0.000000</td>\n",
       "      <td>0.000000</td>\n",
       "      <td>2.066726e+04</td>\n",
       "    </tr>\n",
       "    <tr>\n",
       "      <td>25%</td>\n",
       "      <td>0.000000</td>\n",
       "      <td>-2747.423625</td>\n",
       "      <td>33.000000</td>\n",
       "      <td>1.000000</td>\n",
       "      <td>0.000000</td>\n",
       "      <td>0.000000</td>\n",
       "      <td>1.030532e+05</td>\n",
       "    </tr>\n",
       "    <tr>\n",
       "      <td>50%</td>\n",
       "      <td>0.000000</td>\n",
       "      <td>-1203.369529</td>\n",
       "      <td>42.000000</td>\n",
       "      <td>1.000000</td>\n",
       "      <td>0.000000</td>\n",
       "      <td>0.000000</td>\n",
       "      <td>1.450179e+05</td>\n",
       "    </tr>\n",
       "    <tr>\n",
       "      <td>75%</td>\n",
       "      <td>1.000000</td>\n",
       "      <td>-291.095954</td>\n",
       "      <td>53.000000</td>\n",
       "      <td>1.000000</td>\n",
       "      <td>1.000000</td>\n",
       "      <td>0.000000</td>\n",
       "      <td>2.034351e+05</td>\n",
       "    </tr>\n",
       "    <tr>\n",
       "      <td>max</td>\n",
       "      <td>20.000000</td>\n",
       "      <td>401755.400475</td>\n",
       "      <td>75.000000</td>\n",
       "      <td>4.000000</td>\n",
       "      <td>4.000000</td>\n",
       "      <td>1.000000</td>\n",
       "      <td>2.265604e+06</td>\n",
       "    </tr>\n",
       "  </tbody>\n",
       "</table>\n",
       "</div>"
      ],
      "text/plain": [
       "           children  days_employed     dob_years  education_id  \\\n",
       "count  21525.000000   19351.000000  21525.000000  21525.000000   \n",
       "mean       0.538908   63046.497661     43.293380      0.817236   \n",
       "std        1.381587  140827.311974     12.574584      0.548138   \n",
       "min       -1.000000  -18388.949901      0.000000      0.000000   \n",
       "25%        0.000000   -2747.423625     33.000000      1.000000   \n",
       "50%        0.000000   -1203.369529     42.000000      1.000000   \n",
       "75%        1.000000    -291.095954     53.000000      1.000000   \n",
       "max       20.000000  401755.400475     75.000000      4.000000   \n",
       "\n",
       "       family_status_id          debt  total_income  \n",
       "count      21525.000000  21525.000000  1.935100e+04  \n",
       "mean           0.972544      0.080883  1.674223e+05  \n",
       "std            1.420324      0.272661  1.029716e+05  \n",
       "min            0.000000      0.000000  2.066726e+04  \n",
       "25%            0.000000      0.000000  1.030532e+05  \n",
       "50%            0.000000      0.000000  1.450179e+05  \n",
       "75%            1.000000      0.000000  2.034351e+05  \n",
       "max            4.000000      1.000000  2.265604e+06  "
      ]
     },
     "execution_count": 5,
     "metadata": {},
     "output_type": "execute_result"
    }
   ],
   "source": [
    "# посмотрим на данные с помощью метода 'describe()'\n",
    "credit_info.describe()"
   ]
  },
  {
   "cell_type": "markdown",
   "metadata": {},
   "source": [
    "*У нас 54 полных дубликата, и это еще без приведения одинаковых значений ячеек к общему формату. И возраст заемщика не может быть равным нулю, исправим это далее.*"
   ]
  },
  {
   "cell_type": "markdown",
   "metadata": {},
   "source": [
    "**Вывод**"
   ]
  },
  {
   "cell_type": "markdown",
   "metadata": {},
   "source": [
    "1. **В таблице есть пропуски которые логично заполнить нулями чтобы оставить данные о заемщиках без стажа и дохода.**\n",
    "2. **Столбец с количеством стажа в днях можно привести к положительным, не превышающим возраста минус 18 лет заемщика значениям, а также исправить нулевой возраст**\n",
    "3. **Типы обраования нужно привести к виду \"lower_case\" чтобы ['Среднее', 'СРЕДНЕЕ'] = 'среднее' и машина легко поняла бы что это одно и тоже.**\n",
    "4. **Потребуется обрабатка целей займа для выявления одинаковых целей описанных разными словами.**"
   ]
  },
  {
   "cell_type": "markdown",
   "metadata": {},
   "source": [
    "## Предобработка данных"
   ]
  },
  {
   "cell_type": "markdown",
   "metadata": {},
   "source": [
    "### Обработка пропусков"
   ]
  },
  {
   "cell_type": "code",
   "execution_count": 6,
   "metadata": {
    "scrolled": true
   },
   "outputs": [
    {
     "name": "stderr",
     "output_type": "stream",
     "text": [
      "/opt/conda/lib/python3.7/site-packages/pandas/core/ops/__init__.py:1115: FutureWarning: elementwise comparison failed; returning scalar instead, but in the future will perform elementwise comparison\n",
      "  result = method(y)\n"
     ]
    },
    {
     "data": {
      "text/html": [
       "<div>\n",
       "<style scoped>\n",
       "    .dataframe tbody tr th:only-of-type {\n",
       "        vertical-align: middle;\n",
       "    }\n",
       "\n",
       "    .dataframe tbody tr th {\n",
       "        vertical-align: top;\n",
       "    }\n",
       "\n",
       "    .dataframe thead th {\n",
       "        text-align: right;\n",
       "    }\n",
       "</style>\n",
       "<table border=\"1\" class=\"dataframe\">\n",
       "  <thead>\n",
       "    <tr style=\"text-align: right;\">\n",
       "      <th></th>\n",
       "      <th>children</th>\n",
       "      <th>days_employed</th>\n",
       "      <th>dob_years</th>\n",
       "      <th>education</th>\n",
       "      <th>education_id</th>\n",
       "      <th>family_status</th>\n",
       "      <th>family_status_id</th>\n",
       "      <th>gender</th>\n",
       "      <th>income_type</th>\n",
       "      <th>debt</th>\n",
       "      <th>total_income</th>\n",
       "      <th>purpose</th>\n",
       "    </tr>\n",
       "  </thead>\n",
       "  <tbody>\n",
       "  </tbody>\n",
       "</table>\n",
       "</div>"
      ],
      "text/plain": [
       "Empty DataFrame\n",
       "Columns: [children, days_employed, dob_years, education, education_id, family_status, family_status_id, gender, income_type, debt, total_income, purpose]\n",
       "Index: []"
      ]
     },
     "execution_count": 6,
     "metadata": {},
     "output_type": "execute_result"
    }
   ],
   "source": [
    "# чтобы решить как нам заполнить пропуски взглянем на эти строки поближе\n",
    "credit_info[credit_info['total_income'] == \"\"]"
   ]
  },
  {
   "cell_type": "markdown",
   "metadata": {},
   "source": [
    "*Странно, как будто нет пустых строк, может дело в том что они не так уж пусты?*"
   ]
  },
  {
   "cell_type": "code",
   "execution_count": 7,
   "metadata": {
    "scrolled": true
   },
   "outputs": [
    {
     "data": {
      "text/html": [
       "<div>\n",
       "<style scoped>\n",
       "    .dataframe tbody tr th:only-of-type {\n",
       "        vertical-align: middle;\n",
       "    }\n",
       "\n",
       "    .dataframe tbody tr th {\n",
       "        vertical-align: top;\n",
       "    }\n",
       "\n",
       "    .dataframe thead th {\n",
       "        text-align: right;\n",
       "    }\n",
       "</style>\n",
       "<table border=\"1\" class=\"dataframe\">\n",
       "  <thead>\n",
       "    <tr style=\"text-align: right;\">\n",
       "      <th></th>\n",
       "      <th>children</th>\n",
       "      <th>days_employed</th>\n",
       "      <th>dob_years</th>\n",
       "      <th>education</th>\n",
       "      <th>education_id</th>\n",
       "      <th>family_status</th>\n",
       "      <th>family_status_id</th>\n",
       "      <th>gender</th>\n",
       "      <th>income_type</th>\n",
       "      <th>debt</th>\n",
       "      <th>total_income</th>\n",
       "      <th>purpose</th>\n",
       "    </tr>\n",
       "  </thead>\n",
       "  <tbody>\n",
       "    <tr>\n",
       "      <td>12</td>\n",
       "      <td>0</td>\n",
       "      <td>NaN</td>\n",
       "      <td>65</td>\n",
       "      <td>среднее</td>\n",
       "      <td>1</td>\n",
       "      <td>гражданский брак</td>\n",
       "      <td>1</td>\n",
       "      <td>M</td>\n",
       "      <td>пенсионер</td>\n",
       "      <td>0</td>\n",
       "      <td>NaN</td>\n",
       "      <td>сыграть свадьбу</td>\n",
       "    </tr>\n",
       "    <tr>\n",
       "      <td>26</td>\n",
       "      <td>0</td>\n",
       "      <td>NaN</td>\n",
       "      <td>41</td>\n",
       "      <td>среднее</td>\n",
       "      <td>1</td>\n",
       "      <td>женат / замужем</td>\n",
       "      <td>0</td>\n",
       "      <td>M</td>\n",
       "      <td>госслужащий</td>\n",
       "      <td>0</td>\n",
       "      <td>NaN</td>\n",
       "      <td>образование</td>\n",
       "    </tr>\n",
       "    <tr>\n",
       "      <td>29</td>\n",
       "      <td>0</td>\n",
       "      <td>NaN</td>\n",
       "      <td>63</td>\n",
       "      <td>среднее</td>\n",
       "      <td>1</td>\n",
       "      <td>Не женат / не замужем</td>\n",
       "      <td>4</td>\n",
       "      <td>F</td>\n",
       "      <td>пенсионер</td>\n",
       "      <td>0</td>\n",
       "      <td>NaN</td>\n",
       "      <td>строительство жилой недвижимости</td>\n",
       "    </tr>\n",
       "    <tr>\n",
       "      <td>41</td>\n",
       "      <td>0</td>\n",
       "      <td>NaN</td>\n",
       "      <td>50</td>\n",
       "      <td>среднее</td>\n",
       "      <td>1</td>\n",
       "      <td>женат / замужем</td>\n",
       "      <td>0</td>\n",
       "      <td>F</td>\n",
       "      <td>госслужащий</td>\n",
       "      <td>0</td>\n",
       "      <td>NaN</td>\n",
       "      <td>сделка с подержанным автомобилем</td>\n",
       "    </tr>\n",
       "    <tr>\n",
       "      <td>55</td>\n",
       "      <td>0</td>\n",
       "      <td>NaN</td>\n",
       "      <td>54</td>\n",
       "      <td>среднее</td>\n",
       "      <td>1</td>\n",
       "      <td>гражданский брак</td>\n",
       "      <td>1</td>\n",
       "      <td>F</td>\n",
       "      <td>пенсионер</td>\n",
       "      <td>1</td>\n",
       "      <td>NaN</td>\n",
       "      <td>сыграть свадьбу</td>\n",
       "    </tr>\n",
       "    <tr>\n",
       "      <td>...</td>\n",
       "      <td>...</td>\n",
       "      <td>...</td>\n",
       "      <td>...</td>\n",
       "      <td>...</td>\n",
       "      <td>...</td>\n",
       "      <td>...</td>\n",
       "      <td>...</td>\n",
       "      <td>...</td>\n",
       "      <td>...</td>\n",
       "      <td>...</td>\n",
       "      <td>...</td>\n",
       "      <td>...</td>\n",
       "    </tr>\n",
       "    <tr>\n",
       "      <td>21489</td>\n",
       "      <td>2</td>\n",
       "      <td>NaN</td>\n",
       "      <td>47</td>\n",
       "      <td>Среднее</td>\n",
       "      <td>1</td>\n",
       "      <td>женат / замужем</td>\n",
       "      <td>0</td>\n",
       "      <td>M</td>\n",
       "      <td>компаньон</td>\n",
       "      <td>0</td>\n",
       "      <td>NaN</td>\n",
       "      <td>сделка с автомобилем</td>\n",
       "    </tr>\n",
       "    <tr>\n",
       "      <td>21495</td>\n",
       "      <td>1</td>\n",
       "      <td>NaN</td>\n",
       "      <td>50</td>\n",
       "      <td>среднее</td>\n",
       "      <td>1</td>\n",
       "      <td>гражданский брак</td>\n",
       "      <td>1</td>\n",
       "      <td>F</td>\n",
       "      <td>сотрудник</td>\n",
       "      <td>0</td>\n",
       "      <td>NaN</td>\n",
       "      <td>свадьба</td>\n",
       "    </tr>\n",
       "    <tr>\n",
       "      <td>21497</td>\n",
       "      <td>0</td>\n",
       "      <td>NaN</td>\n",
       "      <td>48</td>\n",
       "      <td>ВЫСШЕЕ</td>\n",
       "      <td>0</td>\n",
       "      <td>женат / замужем</td>\n",
       "      <td>0</td>\n",
       "      <td>F</td>\n",
       "      <td>компаньон</td>\n",
       "      <td>0</td>\n",
       "      <td>NaN</td>\n",
       "      <td>строительство недвижимости</td>\n",
       "    </tr>\n",
       "    <tr>\n",
       "      <td>21502</td>\n",
       "      <td>1</td>\n",
       "      <td>NaN</td>\n",
       "      <td>42</td>\n",
       "      <td>среднее</td>\n",
       "      <td>1</td>\n",
       "      <td>женат / замужем</td>\n",
       "      <td>0</td>\n",
       "      <td>F</td>\n",
       "      <td>сотрудник</td>\n",
       "      <td>0</td>\n",
       "      <td>NaN</td>\n",
       "      <td>строительство жилой недвижимости</td>\n",
       "    </tr>\n",
       "    <tr>\n",
       "      <td>21510</td>\n",
       "      <td>2</td>\n",
       "      <td>NaN</td>\n",
       "      <td>28</td>\n",
       "      <td>среднее</td>\n",
       "      <td>1</td>\n",
       "      <td>женат / замужем</td>\n",
       "      <td>0</td>\n",
       "      <td>F</td>\n",
       "      <td>сотрудник</td>\n",
       "      <td>0</td>\n",
       "      <td>NaN</td>\n",
       "      <td>приобретение автомобиля</td>\n",
       "    </tr>\n",
       "  </tbody>\n",
       "</table>\n",
       "<p>2174 rows × 12 columns</p>\n",
       "</div>"
      ],
      "text/plain": [
       "       children  days_employed  dob_years education  education_id  \\\n",
       "12            0            NaN         65   среднее             1   \n",
       "26            0            NaN         41   среднее             1   \n",
       "29            0            NaN         63   среднее             1   \n",
       "41            0            NaN         50   среднее             1   \n",
       "55            0            NaN         54   среднее             1   \n",
       "...         ...            ...        ...       ...           ...   \n",
       "21489         2            NaN         47   Среднее             1   \n",
       "21495         1            NaN         50   среднее             1   \n",
       "21497         0            NaN         48    ВЫСШЕЕ             0   \n",
       "21502         1            NaN         42   среднее             1   \n",
       "21510         2            NaN         28   среднее             1   \n",
       "\n",
       "               family_status  family_status_id gender  income_type  debt  \\\n",
       "12          гражданский брак                 1      M    пенсионер     0   \n",
       "26           женат / замужем                 0      M  госслужащий     0   \n",
       "29     Не женат / не замужем                 4      F    пенсионер     0   \n",
       "41           женат / замужем                 0      F  госслужащий     0   \n",
       "55          гражданский брак                 1      F    пенсионер     1   \n",
       "...                      ...               ...    ...          ...   ...   \n",
       "21489        женат / замужем                 0      M    компаньон     0   \n",
       "21495       гражданский брак                 1      F    сотрудник     0   \n",
       "21497        женат / замужем                 0      F    компаньон     0   \n",
       "21502        женат / замужем                 0      F    сотрудник     0   \n",
       "21510        женат / замужем                 0      F    сотрудник     0   \n",
       "\n",
       "       total_income                           purpose  \n",
       "12              NaN                   сыграть свадьбу  \n",
       "26              NaN                       образование  \n",
       "29              NaN  строительство жилой недвижимости  \n",
       "41              NaN  сделка с подержанным автомобилем  \n",
       "55              NaN                   сыграть свадьбу  \n",
       "...             ...                               ...  \n",
       "21489           NaN              сделка с автомобилем  \n",
       "21495           NaN                           свадьба  \n",
       "21497           NaN        строительство недвижимости  \n",
       "21502           NaN  строительство жилой недвижимости  \n",
       "21510           NaN           приобретение автомобиля  \n",
       "\n",
       "[2174 rows x 12 columns]"
      ]
     },
     "execution_count": 7,
     "metadata": {},
     "output_type": "execute_result"
    }
   ],
   "source": [
    "# хоть для нас строки пусты, на самом деле они заполнены NaN, поэтому отбирать их стоит методом \"isna()\"\n",
    "credit_info[pd.isna(credit_info['total_income'])]"
   ]
  },
  {
   "cell_type": "markdown",
   "metadata": {},
   "source": [
    "*Видно что NaN не зависит от конкретной группы заемщиков, предположим что это результат отсутствия справок о доходах и подтверждения стажа.*"
   ]
  },
  {
   "cell_type": "code",
   "execution_count": 8,
   "metadata": {
    "scrolled": true
   },
   "outputs": [
    {
     "data": {
      "text/html": [
       "<div>\n",
       "<style scoped>\n",
       "    .dataframe tbody tr th:only-of-type {\n",
       "        vertical-align: middle;\n",
       "    }\n",
       "\n",
       "    .dataframe tbody tr th {\n",
       "        vertical-align: top;\n",
       "    }\n",
       "\n",
       "    .dataframe thead th {\n",
       "        text-align: right;\n",
       "    }\n",
       "</style>\n",
       "<table border=\"1\" class=\"dataframe\">\n",
       "  <thead>\n",
       "    <tr style=\"text-align: right;\">\n",
       "      <th></th>\n",
       "      <th>children</th>\n",
       "      <th>days_employed</th>\n",
       "      <th>dob_years</th>\n",
       "      <th>education</th>\n",
       "      <th>education_id</th>\n",
       "      <th>family_status</th>\n",
       "      <th>family_status_id</th>\n",
       "      <th>gender</th>\n",
       "      <th>debt</th>\n",
       "      <th>total_income</th>\n",
       "      <th>purpose</th>\n",
       "    </tr>\n",
       "    <tr>\n",
       "      <th>income_type</th>\n",
       "      <th></th>\n",
       "      <th></th>\n",
       "      <th></th>\n",
       "      <th></th>\n",
       "      <th></th>\n",
       "      <th></th>\n",
       "      <th></th>\n",
       "      <th></th>\n",
       "      <th></th>\n",
       "      <th></th>\n",
       "      <th></th>\n",
       "    </tr>\n",
       "  </thead>\n",
       "  <tbody>\n",
       "    <tr>\n",
       "      <td>госслужащий</td>\n",
       "      <td>147</td>\n",
       "      <td>0</td>\n",
       "      <td>147</td>\n",
       "      <td>147</td>\n",
       "      <td>147</td>\n",
       "      <td>147</td>\n",
       "      <td>147</td>\n",
       "      <td>147</td>\n",
       "      <td>147</td>\n",
       "      <td>0</td>\n",
       "      <td>147</td>\n",
       "    </tr>\n",
       "    <tr>\n",
       "      <td>компаньон</td>\n",
       "      <td>508</td>\n",
       "      <td>0</td>\n",
       "      <td>508</td>\n",
       "      <td>508</td>\n",
       "      <td>508</td>\n",
       "      <td>508</td>\n",
       "      <td>508</td>\n",
       "      <td>508</td>\n",
       "      <td>508</td>\n",
       "      <td>0</td>\n",
       "      <td>508</td>\n",
       "    </tr>\n",
       "    <tr>\n",
       "      <td>пенсионер</td>\n",
       "      <td>413</td>\n",
       "      <td>0</td>\n",
       "      <td>413</td>\n",
       "      <td>413</td>\n",
       "      <td>413</td>\n",
       "      <td>413</td>\n",
       "      <td>413</td>\n",
       "      <td>413</td>\n",
       "      <td>413</td>\n",
       "      <td>0</td>\n",
       "      <td>413</td>\n",
       "    </tr>\n",
       "    <tr>\n",
       "      <td>предприниматель</td>\n",
       "      <td>1</td>\n",
       "      <td>0</td>\n",
       "      <td>1</td>\n",
       "      <td>1</td>\n",
       "      <td>1</td>\n",
       "      <td>1</td>\n",
       "      <td>1</td>\n",
       "      <td>1</td>\n",
       "      <td>1</td>\n",
       "      <td>0</td>\n",
       "      <td>1</td>\n",
       "    </tr>\n",
       "    <tr>\n",
       "      <td>сотрудник</td>\n",
       "      <td>1105</td>\n",
       "      <td>0</td>\n",
       "      <td>1105</td>\n",
       "      <td>1105</td>\n",
       "      <td>1105</td>\n",
       "      <td>1105</td>\n",
       "      <td>1105</td>\n",
       "      <td>1105</td>\n",
       "      <td>1105</td>\n",
       "      <td>0</td>\n",
       "      <td>1105</td>\n",
       "    </tr>\n",
       "  </tbody>\n",
       "</table>\n",
       "</div>"
      ],
      "text/plain": [
       "                 children  days_employed  dob_years  education  education_id  \\\n",
       "income_type                                                                    \n",
       "госслужащий           147              0        147        147           147   \n",
       "компаньон             508              0        508        508           508   \n",
       "пенсионер             413              0        413        413           413   \n",
       "предприниматель         1              0          1          1             1   \n",
       "сотрудник            1105              0       1105       1105          1105   \n",
       "\n",
       "                 family_status  family_status_id  gender  debt  total_income  \\\n",
       "income_type                                                                    \n",
       "госслужащий                147               147     147   147             0   \n",
       "компаньон                  508               508     508   508             0   \n",
       "пенсионер                  413               413     413   413             0   \n",
       "предприниматель              1                 1       1     1             0   \n",
       "сотрудник                 1105              1105    1105  1105             0   \n",
       "\n",
       "                 purpose  \n",
       "income_type               \n",
       "госслужащий          147  \n",
       "компаньон            508  \n",
       "пенсионер            413  \n",
       "предприниматель        1  \n",
       "сотрудник           1105  "
      ]
     },
     "execution_count": 8,
     "metadata": {},
     "output_type": "execute_result"
    }
   ],
   "source": [
    "# получается это не люди без дохода и стажа, а отсутствие информации у банка \n",
    "# давайте заполним пропуски средними значениями по столбцу income_type который нам понадобится далее\n",
    "# для начала посмотрим какие группы заемщиков имеют пропуски в доходах\n",
    "credit_info[pd.isna(credit_info['total_income']) == True].groupby('income_type').count()"
   ]
  },
  {
   "cell_type": "markdown",
   "metadata": {},
   "source": [
    "*Выделилось пять групп. Возможно для получения кредита этим группам заемщиков не требуется предоставлять справок о доходе и стаже (кроме предпринимателя), такие условия практикуются банками для доверенным клиентов.*"
   ]
  },
  {
   "cell_type": "code",
   "execution_count": 43,
   "metadata": {
    "scrolled": true
   },
   "outputs": [
    {
     "data": {
      "text/html": [
       "<style  type=\"text/css\" >\n",
       "</style><table id=\"T_e08412a6_a57c_11eb_8f7f_02420a396def\" ><thead>    <tr>        <th class=\"col_heading level0 col0\" >income_type</th>        <th class=\"col_heading level0 col1\" >total_income</th>        <th class=\"col_heading level0 col2\" >days_employed</th>        <th class=\"col_heading level0 col3\" >dob_years</th>    </tr></thead><tbody>\n",
       "                <tr>\n",
       "                                <td id=\"T_e08412a6_a57c_11eb_8f7f_02420a396defrow0_col0\" class=\"data row0 col0\" >госслужащий</td>\n",
       "                        <td id=\"T_e08412a6_a57c_11eb_8f7f_02420a396defrow0_col1\" class=\"data row0 col1\" >170898</td>\n",
       "                        <td id=\"T_e08412a6_a57c_11eb_8f7f_02420a396defrow0_col2\" class=\"data row0 col2\" >3349.82</td>\n",
       "                        <td id=\"T_e08412a6_a57c_11eb_8f7f_02420a396defrow0_col3\" class=\"data row0 col3\" >40.7213</td>\n",
       "            </tr>\n",
       "            <tr>\n",
       "                                <td id=\"T_e08412a6_a57c_11eb_8f7f_02420a396defrow1_col0\" class=\"data row1 col0\" >компаньон</td>\n",
       "                        <td id=\"T_e08412a6_a57c_11eb_8f7f_02420a396defrow1_col1\" class=\"data row1 col1\" >202417</td>\n",
       "                        <td id=\"T_e08412a6_a57c_11eb_8f7f_02420a396defrow1_col2\" class=\"data row1 col2\" >2094.53</td>\n",
       "                        <td id=\"T_e08412a6_a57c_11eb_8f7f_02420a396defrow1_col3\" class=\"data row1 col3\" >39.7643</td>\n",
       "            </tr>\n",
       "            <tr>\n",
       "                                <td id=\"T_e08412a6_a57c_11eb_8f7f_02420a396defrow2_col0\" class=\"data row2 col0\" >пенсионер</td>\n",
       "                        <td id=\"T_e08412a6_a57c_11eb_8f7f_02420a396defrow2_col1\" class=\"data row2 col1\" >137127</td>\n",
       "                        <td id=\"T_e08412a6_a57c_11eb_8f7f_02420a396defrow2_col2\" class=\"data row2 col2\" >14935.4</td>\n",
       "                        <td id=\"T_e08412a6_a57c_11eb_8f7f_02420a396defrow2_col3\" class=\"data row2 col3\" >59.1426</td>\n",
       "            </tr>\n",
       "            <tr>\n",
       "                                <td id=\"T_e08412a6_a57c_11eb_8f7f_02420a396defrow3_col0\" class=\"data row3 col0\" >предприниматель</td>\n",
       "                        <td id=\"T_e08412a6_a57c_11eb_8f7f_02420a396defrow3_col1\" class=\"data row3 col1\" >499163</td>\n",
       "                        <td id=\"T_e08412a6_a57c_11eb_8f7f_02420a396defrow3_col2\" class=\"data row3 col2\" >520</td>\n",
       "                        <td id=\"T_e08412a6_a57c_11eb_8f7f_02420a396defrow3_col3\" class=\"data row3 col3\" >42.5</td>\n",
       "            </tr>\n",
       "            <tr>\n",
       "                                <td id=\"T_e08412a6_a57c_11eb_8f7f_02420a396defrow4_col0\" class=\"data row4 col0\" >сотрудник</td>\n",
       "                        <td id=\"T_e08412a6_a57c_11eb_8f7f_02420a396defrow4_col1\" class=\"data row4 col1\" >161380</td>\n",
       "                        <td id=\"T_e08412a6_a57c_11eb_8f7f_02420a396defrow4_col2\" class=\"data row4 col2\" >2299.77</td>\n",
       "                        <td id=\"T_e08412a6_a57c_11eb_8f7f_02420a396defrow4_col3\" class=\"data row4 col3\" >39.8977</td>\n",
       "            </tr>\n",
       "    </tbody></table>"
      ],
      "text/plain": [
       "<pandas.io.formats.style.Styler at 0x7fb87cf3a290>"
      ]
     },
     "execution_count": 43,
     "metadata": {},
     "output_type": "execute_result"
    }
   ],
   "source": [
    "# расчитаем средний доход/стаж/возраст по группам\n",
    "mean = credit_info[pd.isna(credit_info['total_income']) == False].groupby(\n",
    "    'income_type').mean().sort_values('income_type').reset_index()\n",
    "mean.loc[2:6, ['income_type','total_income', 'days_employed', 'dob_years']].style.hide_index()"
   ]
  },
  {
   "cell_type": "markdown",
   "metadata": {},
   "source": [
    "*У пенсионеров средний стаж аномально большой, мы решим эту проблему далее. А пока посмотрим как расчитать средний стаж пенсионера. К примеру можно из его среднего возраста вычесть 18 лет и умножить на 365 дней. (59 - 18) * 365 =  14 965 дней, больше похоже на правду чем    365 003.*"
   ]
  },
  {
   "cell_type": "code",
   "execution_count": 10,
   "metadata": {
    "scrolled": false
   },
   "outputs": [
    {
     "data": {
      "text/plain": [
       "children            0\n",
       "days_employed       0\n",
       "dob_years           0\n",
       "education           0\n",
       "education_id        0\n",
       "family_status       0\n",
       "family_status_id    0\n",
       "gender              0\n",
       "income_type         0\n",
       "debt                0\n",
       "total_income        0\n",
       "purpose             0\n",
       "dtype: int64"
      ]
     },
     "execution_count": 10,
     "metadata": {},
     "output_type": "execute_result"
    }
   ],
   "source": [
    "# заменим пропуски на средние значения для заполненных ячеек по группам\n",
    "credit_info.loc[(credit_info.income_type == 'госслужащий' ) & (\n",
    "    pd.isna(credit_info.total_income)),'total_income'] = 170898.309923\n",
    "\n",
    "credit_info.loc[(credit_info.income_type == 'компаньон' ) & (\n",
    "    pd.isna(credit_info.total_income)),'total_income'] = 202417.461462\n",
    "\n",
    "credit_info.loc[(credit_info.income_type == 'пенсионер' ) & (\n",
    "    pd.isna(credit_info.total_income)),'total_income'] = 137127.465690\n",
    "\n",
    "credit_info.loc[(credit_info.income_type == 'предприниматель' ) & (\n",
    "    pd.isna(credit_info.total_income)),'total_income'] = 499163.144947\n",
    "\n",
    "credit_info.loc[(credit_info.income_type == 'сотрудник' ) & (\n",
    "    pd.isna(credit_info.total_income)),'total_income'] = 161380.260488\n",
    "\n",
    "credit_info.loc[(credit_info.income_type == 'госслужащий' ) & (\n",
    "    pd.isna(credit_info.days_employed)),'days_employed'] = 3399.896902\n",
    "\n",
    "credit_info.loc[(credit_info.income_type == 'компаньон' ) & (\n",
    "    pd.isna(credit_info.days_employed)),'days_employed'] = 2111.524398\n",
    "\n",
    "credit_info.loc[(credit_info.income_type == 'пенсионер' ) & (\n",
    "    pd.isna(credit_info.days_employed)),'days_employed'] = 14965.0\n",
    "\n",
    "credit_info.loc[(credit_info.income_type == 'предприниматель' ) & (\n",
    "    pd.isna(credit_info.days_employed)),'days_employed'] = 520.848083\n",
    "\n",
    "credit_info.loc[(credit_info.income_type == 'сотрудник' ) & (\n",
    "    pd.isna(credit_info.days_employed)),'days_employed'] = 2326.499216\n",
    "\n",
    "credit_info.isnull().sum()"
   ]
  },
  {
   "cell_type": "markdown",
   "metadata": {},
   "source": [
    "**Вывод**"
   ]
  },
  {
   "cell_type": "markdown",
   "metadata": {},
   "source": [
    "**Пропуски могли быть связаны с доверенными клиентами банка, в любом случае мы их заполнили наиболее близкими к выборке значениями по группам.**"
   ]
  },
  {
   "cell_type": "markdown",
   "metadata": {},
   "source": [
    "### Замена типа данных"
   ]
  },
  {
   "cell_type": "code",
   "execution_count": 11,
   "metadata": {
    "scrolled": true
   },
   "outputs": [
    {
     "name": "stdout",
     "output_type": "stream",
     "text": [
      "Количество отрицательных значений по столбцу после обработки: 0\n"
     ]
    }
   ],
   "source": [
    "# выполним операции над столюцом 'days_employed'\n",
    "# переведем отрицательные значения в положительные\n",
    "credit_info['days_employed'] = credit_info['days_employed'].abs()\n",
    "# проверим на отрицательные значения после обработки\n",
    "is_negative = (credit_info[credit_info['days_employed'] < 0] ['days_employed'].count())\n",
    "print('Количество отрицательных значений по столбцу после обработки: {}'.format(is_negative))"
   ]
  },
  {
   "cell_type": "code",
   "execution_count": 12,
   "metadata": {
    "scrolled": true
   },
   "outputs": [
    {
     "data": {
      "text/html": [
       "<div>\n",
       "<style scoped>\n",
       "    .dataframe tbody tr th:only-of-type {\n",
       "        vertical-align: middle;\n",
       "    }\n",
       "\n",
       "    .dataframe tbody tr th {\n",
       "        vertical-align: top;\n",
       "    }\n",
       "\n",
       "    .dataframe thead th {\n",
       "        text-align: right;\n",
       "    }\n",
       "</style>\n",
       "<table border=\"1\" class=\"dataframe\">\n",
       "  <thead>\n",
       "    <tr style=\"text-align: right;\">\n",
       "      <th></th>\n",
       "      <th>children</th>\n",
       "      <th>days_employed</th>\n",
       "      <th>dob_years</th>\n",
       "      <th>education</th>\n",
       "      <th>education_id</th>\n",
       "      <th>family_status</th>\n",
       "      <th>family_status_id</th>\n",
       "      <th>gender</th>\n",
       "      <th>income_type</th>\n",
       "      <th>debt</th>\n",
       "      <th>total_income</th>\n",
       "      <th>purpose</th>\n",
       "    </tr>\n",
       "  </thead>\n",
       "  <tbody>\n",
       "    <tr>\n",
       "      <td>0</td>\n",
       "      <td>1</td>\n",
       "      <td>8437.673028</td>\n",
       "      <td>42</td>\n",
       "      <td>высшее</td>\n",
       "      <td>0</td>\n",
       "      <td>женат / замужем</td>\n",
       "      <td>0</td>\n",
       "      <td>F</td>\n",
       "      <td>сотрудник</td>\n",
       "      <td>0</td>\n",
       "      <td>253875.639453</td>\n",
       "      <td>покупка жилья</td>\n",
       "    </tr>\n",
       "    <tr>\n",
       "      <td>1</td>\n",
       "      <td>1</td>\n",
       "      <td>4024.803754</td>\n",
       "      <td>36</td>\n",
       "      <td>среднее</td>\n",
       "      <td>1</td>\n",
       "      <td>женат / замужем</td>\n",
       "      <td>0</td>\n",
       "      <td>F</td>\n",
       "      <td>сотрудник</td>\n",
       "      <td>0</td>\n",
       "      <td>112080.014102</td>\n",
       "      <td>приобретение автомобиля</td>\n",
       "    </tr>\n",
       "    <tr>\n",
       "      <td>2</td>\n",
       "      <td>0</td>\n",
       "      <td>5623.422610</td>\n",
       "      <td>33</td>\n",
       "      <td>Среднее</td>\n",
       "      <td>1</td>\n",
       "      <td>женат / замужем</td>\n",
       "      <td>0</td>\n",
       "      <td>M</td>\n",
       "      <td>сотрудник</td>\n",
       "      <td>0</td>\n",
       "      <td>145885.952297</td>\n",
       "      <td>покупка жилья</td>\n",
       "    </tr>\n",
       "    <tr>\n",
       "      <td>3</td>\n",
       "      <td>3</td>\n",
       "      <td>4124.747207</td>\n",
       "      <td>32</td>\n",
       "      <td>среднее</td>\n",
       "      <td>1</td>\n",
       "      <td>женат / замужем</td>\n",
       "      <td>0</td>\n",
       "      <td>M</td>\n",
       "      <td>сотрудник</td>\n",
       "      <td>0</td>\n",
       "      <td>267628.550329</td>\n",
       "      <td>дополнительное образование</td>\n",
       "    </tr>\n",
       "    <tr>\n",
       "      <td>4</td>\n",
       "      <td>0</td>\n",
       "      <td>340266.072047</td>\n",
       "      <td>53</td>\n",
       "      <td>среднее</td>\n",
       "      <td>1</td>\n",
       "      <td>гражданский брак</td>\n",
       "      <td>1</td>\n",
       "      <td>F</td>\n",
       "      <td>пенсионер</td>\n",
       "      <td>0</td>\n",
       "      <td>158616.077870</td>\n",
       "      <td>сыграть свадьбу</td>\n",
       "    </tr>\n",
       "    <tr>\n",
       "      <td>5</td>\n",
       "      <td>0</td>\n",
       "      <td>926.185831</td>\n",
       "      <td>27</td>\n",
       "      <td>высшее</td>\n",
       "      <td>0</td>\n",
       "      <td>гражданский брак</td>\n",
       "      <td>1</td>\n",
       "      <td>M</td>\n",
       "      <td>компаньон</td>\n",
       "      <td>0</td>\n",
       "      <td>255763.565419</td>\n",
       "      <td>покупка жилья</td>\n",
       "    </tr>\n",
       "    <tr>\n",
       "      <td>6</td>\n",
       "      <td>0</td>\n",
       "      <td>2879.202052</td>\n",
       "      <td>43</td>\n",
       "      <td>высшее</td>\n",
       "      <td>0</td>\n",
       "      <td>женат / замужем</td>\n",
       "      <td>0</td>\n",
       "      <td>F</td>\n",
       "      <td>компаньон</td>\n",
       "      <td>0</td>\n",
       "      <td>240525.971920</td>\n",
       "      <td>операции с жильем</td>\n",
       "    </tr>\n",
       "    <tr>\n",
       "      <td>7</td>\n",
       "      <td>0</td>\n",
       "      <td>152.779569</td>\n",
       "      <td>50</td>\n",
       "      <td>СРЕДНЕЕ</td>\n",
       "      <td>1</td>\n",
       "      <td>женат / замужем</td>\n",
       "      <td>0</td>\n",
       "      <td>M</td>\n",
       "      <td>сотрудник</td>\n",
       "      <td>0</td>\n",
       "      <td>135823.934197</td>\n",
       "      <td>образование</td>\n",
       "    </tr>\n",
       "    <tr>\n",
       "      <td>8</td>\n",
       "      <td>2</td>\n",
       "      <td>6929.865299</td>\n",
       "      <td>35</td>\n",
       "      <td>ВЫСШЕЕ</td>\n",
       "      <td>0</td>\n",
       "      <td>гражданский брак</td>\n",
       "      <td>1</td>\n",
       "      <td>F</td>\n",
       "      <td>сотрудник</td>\n",
       "      <td>0</td>\n",
       "      <td>95856.832424</td>\n",
       "      <td>на проведение свадьбы</td>\n",
       "    </tr>\n",
       "    <tr>\n",
       "      <td>9</td>\n",
       "      <td>0</td>\n",
       "      <td>2188.756445</td>\n",
       "      <td>41</td>\n",
       "      <td>среднее</td>\n",
       "      <td>1</td>\n",
       "      <td>женат / замужем</td>\n",
       "      <td>0</td>\n",
       "      <td>M</td>\n",
       "      <td>сотрудник</td>\n",
       "      <td>0</td>\n",
       "      <td>144425.938277</td>\n",
       "      <td>покупка жилья для семьи</td>\n",
       "    </tr>\n",
       "  </tbody>\n",
       "</table>\n",
       "</div>"
      ],
      "text/plain": [
       "   children  days_employed  dob_years education  education_id  \\\n",
       "0         1    8437.673028         42    высшее             0   \n",
       "1         1    4024.803754         36   среднее             1   \n",
       "2         0    5623.422610         33   Среднее             1   \n",
       "3         3    4124.747207         32   среднее             1   \n",
       "4         0  340266.072047         53   среднее             1   \n",
       "5         0     926.185831         27    высшее             0   \n",
       "6         0    2879.202052         43    высшее             0   \n",
       "7         0     152.779569         50   СРЕДНЕЕ             1   \n",
       "8         2    6929.865299         35    ВЫСШЕЕ             0   \n",
       "9         0    2188.756445         41   среднее             1   \n",
       "\n",
       "      family_status  family_status_id gender income_type  debt   total_income  \\\n",
       "0   женат / замужем                 0      F   сотрудник     0  253875.639453   \n",
       "1   женат / замужем                 0      F   сотрудник     0  112080.014102   \n",
       "2   женат / замужем                 0      M   сотрудник     0  145885.952297   \n",
       "3   женат / замужем                 0      M   сотрудник     0  267628.550329   \n",
       "4  гражданский брак                 1      F   пенсионер     0  158616.077870   \n",
       "5  гражданский брак                 1      M   компаньон     0  255763.565419   \n",
       "6   женат / замужем                 0      F   компаньон     0  240525.971920   \n",
       "7   женат / замужем                 0      M   сотрудник     0  135823.934197   \n",
       "8  гражданский брак                 1      F   сотрудник     0   95856.832424   \n",
       "9   женат / замужем                 0      M   сотрудник     0  144425.938277   \n",
       "\n",
       "                      purpose  \n",
       "0               покупка жилья  \n",
       "1     приобретение автомобиля  \n",
       "2               покупка жилья  \n",
       "3  дополнительное образование  \n",
       "4             сыграть свадьбу  \n",
       "5               покупка жилья  \n",
       "6           операции с жильем  \n",
       "7                 образование  \n",
       "8       на проведение свадьбы  \n",
       "9     покупка жилья для семьи  "
      ]
     },
     "execution_count": 12,
     "metadata": {},
     "output_type": "execute_result"
    }
   ],
   "source": [
    "# еще раз взглянем на таблицу\n",
    "credit_info.head(10)"
   ]
  },
  {
   "cell_type": "code",
   "execution_count": 13,
   "metadata": {
    "scrolled": true
   },
   "outputs": [
    {
     "data": {
      "text/plain": [
       "children             int64\n",
       "days_employed        int64\n",
       "dob_years            int64\n",
       "education           object\n",
       "education_id         int64\n",
       "family_status       object\n",
       "family_status_id     int64\n",
       "gender              object\n",
       "income_type         object\n",
       "debt                 int64\n",
       "total_income         int64\n",
       "purpose             object\n",
       "dtype: object"
      ]
     },
     "execution_count": 13,
     "metadata": {},
     "output_type": "execute_result"
    }
   ],
   "source": [
    "# приведем столбцы 'days_employed', 'total_income' к целочислительному типу и проверим результат\n",
    "credit_info[['days_employed', 'total_income']] = credit_info[['days_employed', 'total_income']].astype(int)\n",
    "credit_info.dtypes"
   ]
  },
  {
   "cell_type": "code",
   "execution_count": 14,
   "metadata": {
    "scrolled": true
   },
   "outputs": [
    {
     "data": {
      "text/html": [
       "<div>\n",
       "<style scoped>\n",
       "    .dataframe tbody tr th:only-of-type {\n",
       "        vertical-align: middle;\n",
       "    }\n",
       "\n",
       "    .dataframe tbody tr th {\n",
       "        vertical-align: top;\n",
       "    }\n",
       "\n",
       "    .dataframe thead th {\n",
       "        text-align: right;\n",
       "    }\n",
       "</style>\n",
       "<table border=\"1\" class=\"dataframe\">\n",
       "  <thead>\n",
       "    <tr style=\"text-align: right;\">\n",
       "      <th></th>\n",
       "      <th>children</th>\n",
       "      <th>days_employed</th>\n",
       "      <th>dob_years</th>\n",
       "      <th>education</th>\n",
       "      <th>education_id</th>\n",
       "      <th>family_status</th>\n",
       "      <th>family_status_id</th>\n",
       "      <th>gender</th>\n",
       "      <th>income_type</th>\n",
       "      <th>debt</th>\n",
       "      <th>total_income</th>\n",
       "      <th>purpose</th>\n",
       "    </tr>\n",
       "  </thead>\n",
       "  <tbody>\n",
       "    <tr>\n",
       "      <td>0</td>\n",
       "      <td>1</td>\n",
       "      <td>8437</td>\n",
       "      <td>42</td>\n",
       "      <td>высшее</td>\n",
       "      <td>0</td>\n",
       "      <td>женат / замужем</td>\n",
       "      <td>0</td>\n",
       "      <td>F</td>\n",
       "      <td>сотрудник</td>\n",
       "      <td>0</td>\n",
       "      <td>253875</td>\n",
       "      <td>покупка жилья</td>\n",
       "    </tr>\n",
       "    <tr>\n",
       "      <td>1</td>\n",
       "      <td>1</td>\n",
       "      <td>4024</td>\n",
       "      <td>36</td>\n",
       "      <td>среднее</td>\n",
       "      <td>1</td>\n",
       "      <td>женат / замужем</td>\n",
       "      <td>0</td>\n",
       "      <td>F</td>\n",
       "      <td>сотрудник</td>\n",
       "      <td>0</td>\n",
       "      <td>112080</td>\n",
       "      <td>приобретение автомобиля</td>\n",
       "    </tr>\n",
       "    <tr>\n",
       "      <td>2</td>\n",
       "      <td>0</td>\n",
       "      <td>5623</td>\n",
       "      <td>33</td>\n",
       "      <td>Среднее</td>\n",
       "      <td>1</td>\n",
       "      <td>женат / замужем</td>\n",
       "      <td>0</td>\n",
       "      <td>M</td>\n",
       "      <td>сотрудник</td>\n",
       "      <td>0</td>\n",
       "      <td>145885</td>\n",
       "      <td>покупка жилья</td>\n",
       "    </tr>\n",
       "    <tr>\n",
       "      <td>3</td>\n",
       "      <td>3</td>\n",
       "      <td>4124</td>\n",
       "      <td>32</td>\n",
       "      <td>среднее</td>\n",
       "      <td>1</td>\n",
       "      <td>женат / замужем</td>\n",
       "      <td>0</td>\n",
       "      <td>M</td>\n",
       "      <td>сотрудник</td>\n",
       "      <td>0</td>\n",
       "      <td>267628</td>\n",
       "      <td>дополнительное образование</td>\n",
       "    </tr>\n",
       "    <tr>\n",
       "      <td>4</td>\n",
       "      <td>0</td>\n",
       "      <td>340266</td>\n",
       "      <td>53</td>\n",
       "      <td>среднее</td>\n",
       "      <td>1</td>\n",
       "      <td>гражданский брак</td>\n",
       "      <td>1</td>\n",
       "      <td>F</td>\n",
       "      <td>пенсионер</td>\n",
       "      <td>0</td>\n",
       "      <td>158616</td>\n",
       "      <td>сыграть свадьбу</td>\n",
       "    </tr>\n",
       "    <tr>\n",
       "      <td>5</td>\n",
       "      <td>0</td>\n",
       "      <td>926</td>\n",
       "      <td>27</td>\n",
       "      <td>высшее</td>\n",
       "      <td>0</td>\n",
       "      <td>гражданский брак</td>\n",
       "      <td>1</td>\n",
       "      <td>M</td>\n",
       "      <td>компаньон</td>\n",
       "      <td>0</td>\n",
       "      <td>255763</td>\n",
       "      <td>покупка жилья</td>\n",
       "    </tr>\n",
       "    <tr>\n",
       "      <td>6</td>\n",
       "      <td>0</td>\n",
       "      <td>2879</td>\n",
       "      <td>43</td>\n",
       "      <td>высшее</td>\n",
       "      <td>0</td>\n",
       "      <td>женат / замужем</td>\n",
       "      <td>0</td>\n",
       "      <td>F</td>\n",
       "      <td>компаньон</td>\n",
       "      <td>0</td>\n",
       "      <td>240525</td>\n",
       "      <td>операции с жильем</td>\n",
       "    </tr>\n",
       "    <tr>\n",
       "      <td>7</td>\n",
       "      <td>0</td>\n",
       "      <td>152</td>\n",
       "      <td>50</td>\n",
       "      <td>СРЕДНЕЕ</td>\n",
       "      <td>1</td>\n",
       "      <td>женат / замужем</td>\n",
       "      <td>0</td>\n",
       "      <td>M</td>\n",
       "      <td>сотрудник</td>\n",
       "      <td>0</td>\n",
       "      <td>135823</td>\n",
       "      <td>образование</td>\n",
       "    </tr>\n",
       "    <tr>\n",
       "      <td>8</td>\n",
       "      <td>2</td>\n",
       "      <td>6929</td>\n",
       "      <td>35</td>\n",
       "      <td>ВЫСШЕЕ</td>\n",
       "      <td>0</td>\n",
       "      <td>гражданский брак</td>\n",
       "      <td>1</td>\n",
       "      <td>F</td>\n",
       "      <td>сотрудник</td>\n",
       "      <td>0</td>\n",
       "      <td>95856</td>\n",
       "      <td>на проведение свадьбы</td>\n",
       "    </tr>\n",
       "    <tr>\n",
       "      <td>9</td>\n",
       "      <td>0</td>\n",
       "      <td>2188</td>\n",
       "      <td>41</td>\n",
       "      <td>среднее</td>\n",
       "      <td>1</td>\n",
       "      <td>женат / замужем</td>\n",
       "      <td>0</td>\n",
       "      <td>M</td>\n",
       "      <td>сотрудник</td>\n",
       "      <td>0</td>\n",
       "      <td>144425</td>\n",
       "      <td>покупка жилья для семьи</td>\n",
       "    </tr>\n",
       "  </tbody>\n",
       "</table>\n",
       "</div>"
      ],
      "text/plain": [
       "   children  days_employed  dob_years education  education_id  \\\n",
       "0         1           8437         42    высшее             0   \n",
       "1         1           4024         36   среднее             1   \n",
       "2         0           5623         33   Среднее             1   \n",
       "3         3           4124         32   среднее             1   \n",
       "4         0         340266         53   среднее             1   \n",
       "5         0            926         27    высшее             0   \n",
       "6         0           2879         43    высшее             0   \n",
       "7         0            152         50   СРЕДНЕЕ             1   \n",
       "8         2           6929         35    ВЫСШЕЕ             0   \n",
       "9         0           2188         41   среднее             1   \n",
       "\n",
       "      family_status  family_status_id gender income_type  debt  total_income  \\\n",
       "0   женат / замужем                 0      F   сотрудник     0        253875   \n",
       "1   женат / замужем                 0      F   сотрудник     0        112080   \n",
       "2   женат / замужем                 0      M   сотрудник     0        145885   \n",
       "3   женат / замужем                 0      M   сотрудник     0        267628   \n",
       "4  гражданский брак                 1      F   пенсионер     0        158616   \n",
       "5  гражданский брак                 1      M   компаньон     0        255763   \n",
       "6   женат / замужем                 0      F   компаньон     0        240525   \n",
       "7   женат / замужем                 0      M   сотрудник     0        135823   \n",
       "8  гражданский брак                 1      F   сотрудник     0         95856   \n",
       "9   женат / замужем                 0      M   сотрудник     0        144425   \n",
       "\n",
       "                      purpose  \n",
       "0               покупка жилья  \n",
       "1     приобретение автомобиля  \n",
       "2               покупка жилья  \n",
       "3  дополнительное образование  \n",
       "4             сыграть свадьбу  \n",
       "5               покупка жилья  \n",
       "6           операции с жильем  \n",
       "7                 образование  \n",
       "8       на проведение свадьбы  \n",
       "9     покупка жилья для семьи  "
      ]
     },
     "execution_count": 14,
     "metadata": {},
     "output_type": "execute_result"
    }
   ],
   "source": [
    "credit_info.head(10)"
   ]
  },
  {
   "cell_type": "code",
   "execution_count": 15,
   "metadata": {
    "scrolled": true
   },
   "outputs": [
    {
     "data": {
      "text/html": [
       "<div>\n",
       "<style scoped>\n",
       "    .dataframe tbody tr th:only-of-type {\n",
       "        vertical-align: middle;\n",
       "    }\n",
       "\n",
       "    .dataframe tbody tr th {\n",
       "        vertical-align: top;\n",
       "    }\n",
       "\n",
       "    .dataframe thead th {\n",
       "        text-align: right;\n",
       "    }\n",
       "</style>\n",
       "<table border=\"1\" class=\"dataframe\">\n",
       "  <thead>\n",
       "    <tr style=\"text-align: right;\">\n",
       "      <th></th>\n",
       "      <th>children</th>\n",
       "      <th>days_employed</th>\n",
       "      <th>dob_years</th>\n",
       "      <th>education</th>\n",
       "      <th>education_id</th>\n",
       "      <th>family_status</th>\n",
       "      <th>family_status_id</th>\n",
       "      <th>gender</th>\n",
       "      <th>income_type</th>\n",
       "      <th>debt</th>\n",
       "      <th>total_income</th>\n",
       "      <th>purpose</th>\n",
       "    </tr>\n",
       "  </thead>\n",
       "  <tbody>\n",
       "    <tr>\n",
       "      <td>0</td>\n",
       "      <td>1</td>\n",
       "      <td>8437</td>\n",
       "      <td>42</td>\n",
       "      <td>высшее</td>\n",
       "      <td>0</td>\n",
       "      <td>женат / замужем</td>\n",
       "      <td>0</td>\n",
       "      <td>F</td>\n",
       "      <td>сотрудник</td>\n",
       "      <td>0</td>\n",
       "      <td>253875</td>\n",
       "      <td>покупка жилья</td>\n",
       "    </tr>\n",
       "    <tr>\n",
       "      <td>1</td>\n",
       "      <td>1</td>\n",
       "      <td>4024</td>\n",
       "      <td>36</td>\n",
       "      <td>среднее</td>\n",
       "      <td>1</td>\n",
       "      <td>женат / замужем</td>\n",
       "      <td>0</td>\n",
       "      <td>F</td>\n",
       "      <td>сотрудник</td>\n",
       "      <td>0</td>\n",
       "      <td>112080</td>\n",
       "      <td>приобретение автомобиля</td>\n",
       "    </tr>\n",
       "    <tr>\n",
       "      <td>2</td>\n",
       "      <td>0</td>\n",
       "      <td>5623</td>\n",
       "      <td>33</td>\n",
       "      <td>среднее</td>\n",
       "      <td>1</td>\n",
       "      <td>женат / замужем</td>\n",
       "      <td>0</td>\n",
       "      <td>M</td>\n",
       "      <td>сотрудник</td>\n",
       "      <td>0</td>\n",
       "      <td>145885</td>\n",
       "      <td>покупка жилья</td>\n",
       "    </tr>\n",
       "    <tr>\n",
       "      <td>3</td>\n",
       "      <td>3</td>\n",
       "      <td>4124</td>\n",
       "      <td>32</td>\n",
       "      <td>среднее</td>\n",
       "      <td>1</td>\n",
       "      <td>женат / замужем</td>\n",
       "      <td>0</td>\n",
       "      <td>M</td>\n",
       "      <td>сотрудник</td>\n",
       "      <td>0</td>\n",
       "      <td>267628</td>\n",
       "      <td>дополнительное образование</td>\n",
       "    </tr>\n",
       "    <tr>\n",
       "      <td>4</td>\n",
       "      <td>0</td>\n",
       "      <td>340266</td>\n",
       "      <td>53</td>\n",
       "      <td>среднее</td>\n",
       "      <td>1</td>\n",
       "      <td>гражданский брак</td>\n",
       "      <td>1</td>\n",
       "      <td>F</td>\n",
       "      <td>пенсионер</td>\n",
       "      <td>0</td>\n",
       "      <td>158616</td>\n",
       "      <td>сыграть свадьбу</td>\n",
       "    </tr>\n",
       "    <tr>\n",
       "      <td>5</td>\n",
       "      <td>0</td>\n",
       "      <td>926</td>\n",
       "      <td>27</td>\n",
       "      <td>высшее</td>\n",
       "      <td>0</td>\n",
       "      <td>гражданский брак</td>\n",
       "      <td>1</td>\n",
       "      <td>M</td>\n",
       "      <td>компаньон</td>\n",
       "      <td>0</td>\n",
       "      <td>255763</td>\n",
       "      <td>покупка жилья</td>\n",
       "    </tr>\n",
       "    <tr>\n",
       "      <td>6</td>\n",
       "      <td>0</td>\n",
       "      <td>2879</td>\n",
       "      <td>43</td>\n",
       "      <td>высшее</td>\n",
       "      <td>0</td>\n",
       "      <td>женат / замужем</td>\n",
       "      <td>0</td>\n",
       "      <td>F</td>\n",
       "      <td>компаньон</td>\n",
       "      <td>0</td>\n",
       "      <td>240525</td>\n",
       "      <td>операции с жильем</td>\n",
       "    </tr>\n",
       "    <tr>\n",
       "      <td>7</td>\n",
       "      <td>0</td>\n",
       "      <td>152</td>\n",
       "      <td>50</td>\n",
       "      <td>среднее</td>\n",
       "      <td>1</td>\n",
       "      <td>женат / замужем</td>\n",
       "      <td>0</td>\n",
       "      <td>M</td>\n",
       "      <td>сотрудник</td>\n",
       "      <td>0</td>\n",
       "      <td>135823</td>\n",
       "      <td>образование</td>\n",
       "    </tr>\n",
       "    <tr>\n",
       "      <td>8</td>\n",
       "      <td>2</td>\n",
       "      <td>6929</td>\n",
       "      <td>35</td>\n",
       "      <td>высшее</td>\n",
       "      <td>0</td>\n",
       "      <td>гражданский брак</td>\n",
       "      <td>1</td>\n",
       "      <td>F</td>\n",
       "      <td>сотрудник</td>\n",
       "      <td>0</td>\n",
       "      <td>95856</td>\n",
       "      <td>на проведение свадьбы</td>\n",
       "    </tr>\n",
       "    <tr>\n",
       "      <td>9</td>\n",
       "      <td>0</td>\n",
       "      <td>2188</td>\n",
       "      <td>41</td>\n",
       "      <td>среднее</td>\n",
       "      <td>1</td>\n",
       "      <td>женат / замужем</td>\n",
       "      <td>0</td>\n",
       "      <td>M</td>\n",
       "      <td>сотрудник</td>\n",
       "      <td>0</td>\n",
       "      <td>144425</td>\n",
       "      <td>покупка жилья для семьи</td>\n",
       "    </tr>\n",
       "  </tbody>\n",
       "</table>\n",
       "</div>"
      ],
      "text/plain": [
       "   children  days_employed  dob_years education  education_id  \\\n",
       "0         1           8437         42    высшее             0   \n",
       "1         1           4024         36   среднее             1   \n",
       "2         0           5623         33   среднее             1   \n",
       "3         3           4124         32   среднее             1   \n",
       "4         0         340266         53   среднее             1   \n",
       "5         0            926         27    высшее             0   \n",
       "6         0           2879         43    высшее             0   \n",
       "7         0            152         50   среднее             1   \n",
       "8         2           6929         35    высшее             0   \n",
       "9         0           2188         41   среднее             1   \n",
       "\n",
       "      family_status  family_status_id gender income_type  debt  total_income  \\\n",
       "0   женат / замужем                 0      F   сотрудник     0        253875   \n",
       "1   женат / замужем                 0      F   сотрудник     0        112080   \n",
       "2   женат / замужем                 0      M   сотрудник     0        145885   \n",
       "3   женат / замужем                 0      M   сотрудник     0        267628   \n",
       "4  гражданский брак                 1      F   пенсионер     0        158616   \n",
       "5  гражданский брак                 1      M   компаньон     0        255763   \n",
       "6   женат / замужем                 0      F   компаньон     0        240525   \n",
       "7   женат / замужем                 0      M   сотрудник     0        135823   \n",
       "8  гражданский брак                 1      F   сотрудник     0         95856   \n",
       "9   женат / замужем                 0      M   сотрудник     0        144425   \n",
       "\n",
       "                      purpose  \n",
       "0               покупка жилья  \n",
       "1     приобретение автомобиля  \n",
       "2               покупка жилья  \n",
       "3  дополнительное образование  \n",
       "4             сыграть свадьбу  \n",
       "5               покупка жилья  \n",
       "6           операции с жильем  \n",
       "7                 образование  \n",
       "8       на проведение свадьбы  \n",
       "9     покупка жилья для семьи  "
      ]
     },
     "execution_count": 15,
     "metadata": {},
     "output_type": "execute_result"
    }
   ],
   "source": [
    "# теперь обработаем столбец 'education'\n",
    "credit_info['education'] = credit_info['education'].str.lower()\n",
    "credit_info.head(10)"
   ]
  },
  {
   "cell_type": "code",
   "execution_count": 16,
   "metadata": {},
   "outputs": [
    {
     "name": "stderr",
     "output_type": "stream",
     "text": [
      "/opt/conda/lib/python3.7/site-packages/ipykernel_launcher.py:2: SettingWithCopyWarning: \n",
      "A value is trying to be set on a copy of a slice from a DataFrame\n",
      "\n",
      "See the caveats in the documentation: http://pandas.pydata.org/pandas-docs/stable/user_guide/indexing.html#returning-a-view-versus-a-copy\n",
      "  \n"
     ]
    },
    {
     "data": {
      "text/plain": [
       "18"
      ]
     },
     "execution_count": 16,
     "metadata": {},
     "output_type": "execute_result"
    }
   ],
   "source": [
    "# исправим нулевой возраст заемщика\n",
    "credit_info['dob_years'][credit_info['dob_years'] == 0] = 18\n",
    "credit_info['dob_years'].min()"
   ]
  },
  {
   "cell_type": "code",
   "execution_count": 17,
   "metadata": {
    "scrolled": false
   },
   "outputs": [
    {
     "name": "stdout",
     "output_type": "stream",
     "text": [
      "Максимальный стаж заемщиков до исправления в годах     1101\n",
      "Минимальный стаж заемщиков до исправления в годах        0\n",
      "Максимальный стаж заемщиков после исправления в годах       56\n",
      "Минимальный стаж заемщиков после исправления в годах        0\n"
     ]
    },
    {
     "name": "stderr",
     "output_type": "stream",
     "text": [
      "/opt/conda/lib/python3.7/site-packages/ipykernel_launcher.py:6: SettingWithCopyWarning: \n",
      "A value is trying to be set on a copy of a slice from a DataFrame\n",
      "\n",
      "See the caveats in the documentation: http://pandas.pydata.org/pandas-docs/stable/user_guide/indexing.html#returning-a-view-versus-a-copy\n",
      "  \n"
     ]
    }
   ],
   "source": [
    "# наконец исправим логические неточности в возможной продолжительности стажа в столбце 'days_employed'\n",
    "max_count_of_days_employed_before = credit_info['days_employed'].max()\n",
    "print('Максимальный стаж заемщиков до исправления в годах{:9.0f}'.format(max_count_of_days_employed_before / 365))\n",
    "min_count_of_days_employed_before = credit_info['days_employed'].min()\n",
    "print('Минимальный стаж заемщиков до исправления в годах{:9.0f}'.format(min_count_of_days_employed_before / 365))\n",
    "credit_info['days_employed'][credit_info['days_employed'] / 365 > credit_info['dob_years'] -18] = (credit_info['dob_years'] -18) * 365\n",
    "max_count_of_days_employed_after = credit_info['days_employed'].max()\n",
    "print('Максимальный стаж заемщиков после исправления в годах{:9.0f}'.format(max_count_of_days_employed_after / 365))\n",
    "min_count_of_days_employed_after = credit_info['days_employed'].min()\n",
    "print('Минимальный стаж заемщиков после исправления в годах{:9.0f}'.format(min_count_of_days_employed_after / 365))"
   ]
  },
  {
   "cell_type": "markdown",
   "metadata": {},
   "source": [
    "*Отлично, наши манипуляции привели стаж в порядок.*"
   ]
  },
  {
   "cell_type": "code",
   "execution_count": 19,
   "metadata": {},
   "outputs": [
    {
     "data": {
      "text/html": [
       "<div>\n",
       "<style scoped>\n",
       "    .dataframe tbody tr th:only-of-type {\n",
       "        vertical-align: middle;\n",
       "    }\n",
       "\n",
       "    .dataframe tbody tr th {\n",
       "        vertical-align: top;\n",
       "    }\n",
       "\n",
       "    .dataframe thead th {\n",
       "        text-align: right;\n",
       "    }\n",
       "</style>\n",
       "<table border=\"1\" class=\"dataframe\">\n",
       "  <thead>\n",
       "    <tr style=\"text-align: right;\">\n",
       "      <th></th>\n",
       "      <th>children</th>\n",
       "      <th>days_employed</th>\n",
       "      <th>dob_years</th>\n",
       "      <th>education</th>\n",
       "      <th>education_id</th>\n",
       "      <th>family_status</th>\n",
       "      <th>family_status_id</th>\n",
       "      <th>gender</th>\n",
       "      <th>income_type</th>\n",
       "      <th>debt</th>\n",
       "      <th>total_income</th>\n",
       "      <th>purpose</th>\n",
       "    </tr>\n",
       "  </thead>\n",
       "  <tbody>\n",
       "    <tr>\n",
       "      <td>0</td>\n",
       "      <td>1</td>\n",
       "      <td>8437</td>\n",
       "      <td>42</td>\n",
       "      <td>высшее</td>\n",
       "      <td>0</td>\n",
       "      <td>женат / замужем</td>\n",
       "      <td>0</td>\n",
       "      <td>F</td>\n",
       "      <td>сотрудник</td>\n",
       "      <td>0</td>\n",
       "      <td>253875</td>\n",
       "      <td>покупка жилья</td>\n",
       "    </tr>\n",
       "    <tr>\n",
       "      <td>1</td>\n",
       "      <td>1</td>\n",
       "      <td>4024</td>\n",
       "      <td>36</td>\n",
       "      <td>среднее</td>\n",
       "      <td>1</td>\n",
       "      <td>женат / замужем</td>\n",
       "      <td>0</td>\n",
       "      <td>F</td>\n",
       "      <td>сотрудник</td>\n",
       "      <td>0</td>\n",
       "      <td>112080</td>\n",
       "      <td>приобретение автомобиля</td>\n",
       "    </tr>\n",
       "    <tr>\n",
       "      <td>2</td>\n",
       "      <td>0</td>\n",
       "      <td>5475</td>\n",
       "      <td>33</td>\n",
       "      <td>среднее</td>\n",
       "      <td>1</td>\n",
       "      <td>женат / замужем</td>\n",
       "      <td>0</td>\n",
       "      <td>M</td>\n",
       "      <td>сотрудник</td>\n",
       "      <td>0</td>\n",
       "      <td>145885</td>\n",
       "      <td>покупка жилья</td>\n",
       "    </tr>\n",
       "    <tr>\n",
       "      <td>3</td>\n",
       "      <td>3</td>\n",
       "      <td>4124</td>\n",
       "      <td>32</td>\n",
       "      <td>среднее</td>\n",
       "      <td>1</td>\n",
       "      <td>женат / замужем</td>\n",
       "      <td>0</td>\n",
       "      <td>M</td>\n",
       "      <td>сотрудник</td>\n",
       "      <td>0</td>\n",
       "      <td>267628</td>\n",
       "      <td>дополнительное образование</td>\n",
       "    </tr>\n",
       "    <tr>\n",
       "      <td>4</td>\n",
       "      <td>0</td>\n",
       "      <td>12775</td>\n",
       "      <td>53</td>\n",
       "      <td>среднее</td>\n",
       "      <td>1</td>\n",
       "      <td>гражданский брак</td>\n",
       "      <td>1</td>\n",
       "      <td>F</td>\n",
       "      <td>пенсионер</td>\n",
       "      <td>0</td>\n",
       "      <td>158616</td>\n",
       "      <td>сыграть свадьбу</td>\n",
       "    </tr>\n",
       "    <tr>\n",
       "      <td>5</td>\n",
       "      <td>0</td>\n",
       "      <td>926</td>\n",
       "      <td>27</td>\n",
       "      <td>высшее</td>\n",
       "      <td>0</td>\n",
       "      <td>гражданский брак</td>\n",
       "      <td>1</td>\n",
       "      <td>M</td>\n",
       "      <td>компаньон</td>\n",
       "      <td>0</td>\n",
       "      <td>255763</td>\n",
       "      <td>покупка жилья</td>\n",
       "    </tr>\n",
       "    <tr>\n",
       "      <td>6</td>\n",
       "      <td>0</td>\n",
       "      <td>2879</td>\n",
       "      <td>43</td>\n",
       "      <td>высшее</td>\n",
       "      <td>0</td>\n",
       "      <td>женат / замужем</td>\n",
       "      <td>0</td>\n",
       "      <td>F</td>\n",
       "      <td>компаньон</td>\n",
       "      <td>0</td>\n",
       "      <td>240525</td>\n",
       "      <td>операции с жильем</td>\n",
       "    </tr>\n",
       "    <tr>\n",
       "      <td>7</td>\n",
       "      <td>0</td>\n",
       "      <td>152</td>\n",
       "      <td>50</td>\n",
       "      <td>среднее</td>\n",
       "      <td>1</td>\n",
       "      <td>женат / замужем</td>\n",
       "      <td>0</td>\n",
       "      <td>M</td>\n",
       "      <td>сотрудник</td>\n",
       "      <td>0</td>\n",
       "      <td>135823</td>\n",
       "      <td>образование</td>\n",
       "    </tr>\n",
       "    <tr>\n",
       "      <td>8</td>\n",
       "      <td>2</td>\n",
       "      <td>6205</td>\n",
       "      <td>35</td>\n",
       "      <td>высшее</td>\n",
       "      <td>0</td>\n",
       "      <td>гражданский брак</td>\n",
       "      <td>1</td>\n",
       "      <td>F</td>\n",
       "      <td>сотрудник</td>\n",
       "      <td>0</td>\n",
       "      <td>95856</td>\n",
       "      <td>на проведение свадьбы</td>\n",
       "    </tr>\n",
       "    <tr>\n",
       "      <td>9</td>\n",
       "      <td>0</td>\n",
       "      <td>2188</td>\n",
       "      <td>41</td>\n",
       "      <td>среднее</td>\n",
       "      <td>1</td>\n",
       "      <td>женат / замужем</td>\n",
       "      <td>0</td>\n",
       "      <td>M</td>\n",
       "      <td>сотрудник</td>\n",
       "      <td>0</td>\n",
       "      <td>144425</td>\n",
       "      <td>покупка жилья для семьи</td>\n",
       "    </tr>\n",
       "  </tbody>\n",
       "</table>\n",
       "</div>"
      ],
      "text/plain": [
       "   children  days_employed  dob_years education  education_id  \\\n",
       "0         1           8437         42    высшее             0   \n",
       "1         1           4024         36   среднее             1   \n",
       "2         0           5475         33   среднее             1   \n",
       "3         3           4124         32   среднее             1   \n",
       "4         0          12775         53   среднее             1   \n",
       "5         0            926         27    высшее             0   \n",
       "6         0           2879         43    высшее             0   \n",
       "7         0            152         50   среднее             1   \n",
       "8         2           6205         35    высшее             0   \n",
       "9         0           2188         41   среднее             1   \n",
       "\n",
       "      family_status  family_status_id gender income_type  debt  total_income  \\\n",
       "0   женат / замужем                 0      F   сотрудник     0        253875   \n",
       "1   женат / замужем                 0      F   сотрудник     0        112080   \n",
       "2   женат / замужем                 0      M   сотрудник     0        145885   \n",
       "3   женат / замужем                 0      M   сотрудник     0        267628   \n",
       "4  гражданский брак                 1      F   пенсионер     0        158616   \n",
       "5  гражданский брак                 1      M   компаньон     0        255763   \n",
       "6   женат / замужем                 0      F   компаньон     0        240525   \n",
       "7   женат / замужем                 0      M   сотрудник     0        135823   \n",
       "8  гражданский брак                 1      F   сотрудник     0         95856   \n",
       "9   женат / замужем                 0      M   сотрудник     0        144425   \n",
       "\n",
       "                      purpose  \n",
       "0               покупка жилья  \n",
       "1     приобретение автомобиля  \n",
       "2               покупка жилья  \n",
       "3  дополнительное образование  \n",
       "4             сыграть свадьбу  \n",
       "5               покупка жилья  \n",
       "6           операции с жильем  \n",
       "7                 образование  \n",
       "8       на проведение свадьбы  \n",
       "9     покупка жилья для семьи  "
      ]
     },
     "execution_count": 19,
     "metadata": {},
     "output_type": "execute_result"
    }
   ],
   "source": [
    "credit_info.head(10)"
   ]
  },
  {
   "cell_type": "markdown",
   "metadata": {},
   "source": [
    "**Вывод**"
   ]
  },
  {
   "cell_type": "markdown",
   "metadata": {},
   "source": [
    "1. **Мы убрали отрицательные значения методом abs(), ведь стаж не может быть отрицательным, а также заменили нулевой возраст на минимально возможный.** \n",
    "2. **Привели дни стажа и доход к целочислительному типу методом astype().**\n",
    "3. **Уровень образования \"выровнили\" методом str.lower().**\n",
    "4. **Убрали \"лишний\" опыт из стажа методом присваивания.**\n",
    "5. **Возможно это были человеческие ошибки при вводе данных, а в случае завышенного стажа манипуляции с целью получения кредита или улучшения условий по нему.**"
   ]
  },
  {
   "cell_type": "markdown",
   "metadata": {},
   "source": [
    "### Обработка дубликатов"
   ]
  },
  {
   "cell_type": "code",
   "execution_count": 20,
   "metadata": {
    "scrolled": true
   },
   "outputs": [
    {
     "name": "stdout",
     "output_type": "stream",
     "text": [
      "Количество полных дубликатов после наших манипуляций: 71\n"
     ]
    }
   ],
   "source": [
    "# вычислим количество полных дубликатов после наших манипуляций с данными, но сначала приведем к нижнему регистру все стоблцы с которыми мы еще этого не делали\n",
    "\n",
    "credit_info['family_status'] = credit_info['family_status'].str.lower()\n",
    "credit_info['income_type'] = credit_info['income_type'].str.lower()\n",
    "credit_info['purpose'] = credit_info['purpose'].str.lower()\n",
    "print('Количество полных дубликатов после наших манипуляций: {}'.format(credit_info.duplicated().sum()))"
   ]
  },
  {
   "cell_type": "markdown",
   "metadata": {},
   "source": [
    "*Чтобы выявить все полные дубликаты, их нужно обрабатывать после приведения данных к единому стандарту, иначе результат может отличаться.*"
   ]
  },
  {
   "cell_type": "code",
   "execution_count": 21,
   "metadata": {},
   "outputs": [
    {
     "name": "stdout",
     "output_type": "stream",
     "text": [
      "Количество полных дубликатов после наших манипуляций: 0\n"
     ]
    }
   ],
   "source": [
    "# удалим полные дубликаты\n",
    "\n",
    "credit_info = credit_info.drop_duplicates().reset_index(drop = True)\n",
    "print('Количество полных дубликатов после наших манипуляций: {}'.format(credit_info.duplicated().sum()))"
   ]
  },
  {
   "cell_type": "markdown",
   "metadata": {},
   "source": [
    "**Вывод**"
   ]
  },
  {
   "cell_type": "markdown",
   "metadata": {},
   "source": [
    "1. **Мы посчитали количество дубликатов методом \"duplicated()\" применив к нему метод \"sum()\".**\n",
    "2. **Затем удалили дубликаты методом \"drop_duplicates()\".**\n",
    "3. **Теперь полных дубликатов у нас нет, возможно они появились при повторных визитах заемщиков для получения займа.**"
   ]
  },
  {
   "cell_type": "markdown",
   "metadata": {},
   "source": [
    "### Лемматизация"
   ]
  },
  {
   "cell_type": "code",
   "execution_count": 22,
   "metadata": {},
   "outputs": [
    {
     "data": {
      "text/plain": [
       "lemmatized_purpose\n",
       "автомобиль                                972\n",
       "высокий образование                       452\n",
       "дополнительный образование                460\n",
       "жилье                                     646\n",
       "заниматься высокий образование            496\n",
       "заниматься образование                    408\n",
       "на покупка автомобиль                     471\n",
       "на покупка подержать автомобиль           478\n",
       "на покупка свой автомобиль                505\n",
       "на проведение свадьба                     768\n",
       "недвижимость                              633\n",
       "образование                               447\n",
       "операция с жилье                          652\n",
       "операция с коммерческий недвижимость      650\n",
       "операция с недвижимость                   675\n",
       "операция со свой недвижимость             627\n",
       "покупка жилой недвижимость                606\n",
       "покупка жилье                             646\n",
       "покупка жилье для сдача                   651\n",
       "покупка жилье для семья                   638\n",
       "покупка коммерческий недвижимость         661\n",
       "покупка недвижимость                      621\n",
       "покупка свой жилье                        620\n",
       "получение высокий образование             426\n",
       "получение дополнительный образование      446\n",
       "получение образование                     442\n",
       "приобретение автомобиль                   461\n",
       "профильный образование                    436\n",
       "ремонт жилье                              607\n",
       "свадьба                                   791\n",
       "свой автомобиль                           478\n",
       "сделка с автомобиль                       455\n",
       "сделка с подержанный автомобиль           486\n",
       "строительство жилой недвижимость          624\n",
       "строительство недвижимость                619\n",
       "строительство собственный недвижимость    635\n",
       "сыграть свадьба                           765\n",
       "Name: lemmatized_purpose, dtype: int64"
      ]
     },
     "execution_count": 22,
     "metadata": {},
     "output_type": "execute_result"
    }
   ],
   "source": [
    "# чтобы выделить суть цели получения кредита применим лемматизацию\n",
    "from pymystem3 import Mystem\n",
    "m = Mystem()\n",
    "        \n",
    "def lemmatized_purpose(row):\n",
    "    return ('_'.join(m.lemmatize(row)).replace(\"_\", \"\")).replace(\"\\n\", \"\")\n",
    "    \n",
    "credit_info['lemmatized_purpose'] = credit_info['purpose'].apply(lemmatized_purpose)\n",
    "credit_info.groupby('lemmatized_purpose') ['lemmatized_purpose'].count()"
   ]
  },
  {
   "cell_type": "markdown",
   "metadata": {},
   "source": [
    "**Вывод**"
   ]
  },
  {
   "cell_type": "markdown",
   "metadata": {},
   "source": [
    "1. **Для лемматизации мы воспользовались методами \"Mystem().lemmatize()\" из библиотеки \"pymystem3\", это эффективнее стемминга т.к. выделяет не просто корень слова, а всю его словарную форму.**\n",
    "2. **Люди хотят купить/построить/отремонтировать недвижимость, авто, образование, свадьбу и ремонт.**"
   ]
  },
  {
   "cell_type": "markdown",
   "metadata": {},
   "source": [
    "### Категоризация данных"
   ]
  },
  {
   "cell_type": "code",
   "execution_count": 23,
   "metadata": {
    "scrolled": true
   },
   "outputs": [
    {
     "data": {
      "text/plain": [
       "category_of_purpose\n",
       "автомобиль                4306\n",
       "недвижимость              8326\n",
       "образование               4013\n",
       "свадьба                   2324\n",
       "строительство и ремонт    2485\n",
       "Name: category_of_purpose, dtype: int64"
      ]
     },
     "execution_count": 23,
     "metadata": {},
     "output_type": "execute_result"
    }
   ],
   "source": [
    "# теперь опишем свои категории данных в соответствии с заданием исследования\n",
    "# для ответа на последующие вопросы стоит категоризировать цели кредита и уровень дохода\n",
    "\n",
    "def category_of_purpose(row):\n",
    "    if 'автомобиль' in row:\n",
    "        return 'автомобиль'\n",
    "    elif 'образование' in row:\n",
    "        return 'образование'\n",
    "    elif 'свадьба' in row:\n",
    "        return 'свадьба'\n",
    "    elif 'строительство' in row or 'ремонт' in row:\n",
    "        return 'строительство и ремонт'\n",
    "    elif 'недвижимость' in row or 'жилье' in row:\n",
    "        return 'недвижимость'\n",
    "    else:\n",
    "        return row\n",
    "    \n",
    "credit_info['category_of_purpose'] = credit_info['lemmatized_purpose'].apply(category_of_purpose)\n",
    "credit_info.groupby('category_of_purpose') ['category_of_purpose'].count()"
   ]
  },
  {
   "cell_type": "code",
   "execution_count": 24,
   "metadata": {
    "scrolled": false
   },
   "outputs": [
    {
     "data": {
      "text/plain": [
       "count    21454.000000\n",
       "mean       167.431584\n",
       "std         98.060605\n",
       "min         20.667000\n",
       "25%        107.623000\n",
       "50%        151.887000\n",
       "75%        202.417000\n",
       "max       2265.604000\n",
       "Name: total_income, dtype: float64"
      ]
     },
     "execution_count": 24,
     "metadata": {},
     "output_type": "execute_result"
    }
   ],
   "source": [
    "# теперь категоризируем уровень дохода\n",
    "# чтобы выяснить наши границы доходов рассмотрим их описание в тыс.р. но только для тех кто имеет доход!\n",
    "(credit_info[credit_info['total_income'] > 0] ['total_income'] / 1000).describe()"
   ]
  },
  {
   "cell_type": "code",
   "execution_count": 25,
   "metadata": {},
   "outputs": [
    {
     "data": {
      "text/plain": [
       "category_of_income\n",
       "высокий          5410\n",
       "выше среднего    5317\n",
       "ниже среднего    5363\n",
       "низкий           5364\n",
       "Name: category_of_income, dtype: int64"
      ]
     },
     "execution_count": 25,
     "metadata": {},
     "output_type": "execute_result"
    }
   ],
   "source": [
    "# теперь можно разделить доход по четырем категориям\n",
    "\n",
    "quantile_25 = credit_info['total_income'].quantile(.25)\n",
    "quantile_50 = credit_info['total_income'].quantile(.50)\n",
    "quantile_75 = credit_info['total_income'].quantile(.75)\n",
    "\n",
    "def category_of_income(row):\n",
    "    if row == 0:\n",
    "        return 'доход отсутствует'\n",
    "    if row < quantile_25:\n",
    "        return 'низкий'\n",
    "    elif row < quantile_50:\n",
    "        return 'ниже среднего'\n",
    "    elif row < quantile_75:\n",
    "        return 'выше среднего'\n",
    "    else:\n",
    "        return 'высокий'    \n",
    "    \n",
    "credit_info['category_of_income'] = credit_info['total_income'].apply(category_of_income)\n",
    "credit_info.groupby('category_of_income') ['category_of_income'].count()"
   ]
  },
  {
   "cell_type": "markdown",
   "metadata": {},
   "source": [
    "**Вывод**"
   ]
  },
  {
   "cell_type": "markdown",
   "metadata": {},
   "source": [
    "1. **Мы распределили заемщиков по цели кредита (так как в недвижимости не везде было описание коммерческая она или нет (недвижимость, жилье, жилье под сдачу, коммерческая недвижимость, свое жилье и т.д.) чтобы не ошибиться с самостоятельным присваиванием категории коммерческой или своей недвижимости мы всю недвижимость объединили в одну категорию. Также составили категории по уровню дохода в соответствии с распределением которое получили методом \"describe()\", отсеяли при этом людей без дохода, ведь нам неизвестно какой он может быть потенциально.**\n",
    "2. **Люди хотят купить/построить/отремонтировать недвижимость, авто, образование, свадьбу и ремонт.**\n",
    "3. **Средний доход составляет 167 431 р.**\n",
    "4. **Большинство кредитов связано с недвижимостью, почти поровну идут образование и автомобиль, и замыкает список свадьба.**"
   ]
  },
  {
   "cell_type": "markdown",
   "metadata": {},
   "source": [
    "## Ответы на вопросы исследования"
   ]
  },
  {
   "cell_type": "markdown",
   "metadata": {},
   "source": [
    "- Есть ли зависимость между наличием детей и возвратом кредита в срок?"
   ]
  },
  {
   "cell_type": "code",
   "execution_count": 26,
   "metadata": {
    "scrolled": true
   },
   "outputs": [
    {
     "data": {
      "text/plain": [
       "children\n",
       "-1        47\n",
       " 0     14091\n",
       " 1      4808\n",
       " 2      2052\n",
       " 3       330\n",
       " 4        41\n",
       " 5         9\n",
       " 20       76\n",
       "Name: children, dtype: int64"
      ]
     },
     "execution_count": 26,
     "metadata": {},
     "output_type": "execute_result"
    }
   ],
   "source": [
    "# рассмотрим количество детей в таблице перед построением сводной таблицы\n",
    "\n",
    "credit_info.groupby('children') ['children'].count()"
   ]
  },
  {
   "cell_type": "code",
   "execution_count": 27,
   "metadata": {
    "scrolled": true
   },
   "outputs": [
    {
     "data": {
      "text/plain": [
       "children\n",
       "0    14091\n",
       "1     4855\n",
       "2     2128\n",
       "3      330\n",
       "4       41\n",
       "5        9\n",
       "Name: children, dtype: int64"
      ]
     },
     "execution_count": 27,
     "metadata": {},
     "output_type": "execute_result"
    }
   ],
   "source": [
    "# детей не может быть меньше нуля, скорее всего это ошибка, отсутствие детей между группами 5-20 подозрительно.\n",
    "# 20 у 76 заемщиков почти невозможно, -1 приведем к 1, а 20 к близкому в данном случае по логике значению 2\n",
    "\n",
    "credit_info['children'] = credit_info['children'].abs().replace(20, 2)\n",
    "#credit_info[credit_info['children'] == 20]\n",
    "credit_info.groupby('children') ['children'].count()"
   ]
  },
  {
   "cell_type": "code",
   "execution_count": 28,
   "metadata": {
    "scrolled": true
   },
   "outputs": [
    {
     "data": {
      "text/html": [
       "<style  type=\"text/css\" >\n",
       "</style><table id=\"T_785ce568_a57c_11eb_8f7f_02420a396def\" ><thead>    <tr>        <th class=\"col_heading level0 col0\" >children</th>        <th class=\"col_heading level0 col1\" >debt</th>        <th class=\"col_heading level0 col2\" >count_of_clients</th>    </tr></thead><tbody>\n",
       "                <tr>\n",
       "                                <td id=\"T_785ce568_a57c_11eb_8f7f_02420a396defrow0_col0\" class=\"data row0 col0\" >5</td>\n",
       "                        <td id=\"T_785ce568_a57c_11eb_8f7f_02420a396defrow0_col1\" class=\"data row0 col1\" >0</td>\n",
       "                        <td id=\"T_785ce568_a57c_11eb_8f7f_02420a396defrow0_col2\" class=\"data row0 col2\" >9</td>\n",
       "            </tr>\n",
       "            <tr>\n",
       "                                <td id=\"T_785ce568_a57c_11eb_8f7f_02420a396defrow1_col0\" class=\"data row1 col0\" >0</td>\n",
       "                        <td id=\"T_785ce568_a57c_11eb_8f7f_02420a396defrow1_col1\" class=\"data row1 col1\" >7.5</td>\n",
       "                        <td id=\"T_785ce568_a57c_11eb_8f7f_02420a396defrow1_col2\" class=\"data row1 col2\" >14091</td>\n",
       "            </tr>\n",
       "            <tr>\n",
       "                                <td id=\"T_785ce568_a57c_11eb_8f7f_02420a396defrow2_col0\" class=\"data row2 col0\" >3</td>\n",
       "                        <td id=\"T_785ce568_a57c_11eb_8f7f_02420a396defrow2_col1\" class=\"data row2 col1\" >8.2</td>\n",
       "                        <td id=\"T_785ce568_a57c_11eb_8f7f_02420a396defrow2_col2\" class=\"data row2 col2\" >330</td>\n",
       "            </tr>\n",
       "            <tr>\n",
       "                                <td id=\"T_785ce568_a57c_11eb_8f7f_02420a396defrow3_col0\" class=\"data row3 col0\" >1</td>\n",
       "                        <td id=\"T_785ce568_a57c_11eb_8f7f_02420a396defrow3_col1\" class=\"data row3 col1\" >9.2</td>\n",
       "                        <td id=\"T_785ce568_a57c_11eb_8f7f_02420a396defrow3_col2\" class=\"data row3 col2\" >4855</td>\n",
       "            </tr>\n",
       "            <tr>\n",
       "                                <td id=\"T_785ce568_a57c_11eb_8f7f_02420a396defrow4_col0\" class=\"data row4 col0\" >2</td>\n",
       "                        <td id=\"T_785ce568_a57c_11eb_8f7f_02420a396defrow4_col1\" class=\"data row4 col1\" >9.5</td>\n",
       "                        <td id=\"T_785ce568_a57c_11eb_8f7f_02420a396defrow4_col2\" class=\"data row4 col2\" >2128</td>\n",
       "            </tr>\n",
       "            <tr>\n",
       "                                <td id=\"T_785ce568_a57c_11eb_8f7f_02420a396defrow5_col0\" class=\"data row5 col0\" >4</td>\n",
       "                        <td id=\"T_785ce568_a57c_11eb_8f7f_02420a396defrow5_col1\" class=\"data row5 col1\" >9.8</td>\n",
       "                        <td id=\"T_785ce568_a57c_11eb_8f7f_02420a396defrow5_col2\" class=\"data row5 col2\" >41</td>\n",
       "            </tr>\n",
       "    </tbody></table>"
      ],
      "text/plain": [
       "<pandas.io.formats.style.Styler at 0x7fb87cf64850>"
      ]
     },
     "execution_count": 28,
     "metadata": {},
     "output_type": "execute_result"
    }
   ],
   "source": [
    "# теперь значения в порядке, можно приступать к проверке платежеспособрности\n",
    "\n",
    "debt_from_children = pd.pivot_table(credit_info, index = 'children', values = 'debt', aggfunc = \n",
    "               lambda x: (x.mean() * 100).round(1)).reset_index()\n",
    "debt_from_children['count_of_clients'] = credit_info.groupby('children') ['children'].count()\n",
    "debt_from_children.sort_values(by = ['debt']).style.hide_index()"
   ]
  },
  {
   "cell_type": "code",
   "execution_count": 29,
   "metadata": {},
   "outputs": [
    {
     "name": "stdout",
     "output_type": "stream",
     "text": [
      "С количеством детей:0  доля невозврата = 7.5%\n",
      "С количеством детей:1  доля невозврата = 9.2%\n",
      "С количеством детей:2  доля невозврата = 9.5%\n",
      "С количеством детей:3  доля невозврата = 8.2%\n",
      "С количеством детей:4  доля невозврата = 9.8%\n",
      "С количеством детей:5  доля невозврата = 0.0%\n"
     ]
    }
   ],
   "source": [
    "# напечатаем на экране то что получилось\n",
    "\n",
    "for i in debt_from_children.index:\n",
    "    print('С количеством детей:{0}  доля невозврата = {1}%'.format(\n",
    "        debt_from_children['children'][i], debt_from_children['debt'][i]))"
   ]
  },
  {
   "cell_type": "markdown",
   "metadata": {},
   "source": [
    "**Вывод**"
   ]
  },
  {
   "cell_type": "markdown",
   "metadata": {},
   "source": [
    "1. **Мы проверили процент невозврата по группам от количества детей.**\n",
    "2. **Группы более 2х не репрезентативны по сравнению с остальными.**\n",
    "3. **При наличии до 1го ребенка процент невозврата составляет от 7.5 до 9.2 процентов, а вот в группе с двумя детьми 9.5%**\n",
    "4. **Размах значений доли невозврата по категориям количества детей в самых весомых категориях составляет 2.0%**\n",
    "5. **Наличие детей влияет на возврат кредита отрицательно.**"
   ]
  },
  {
   "cell_type": "markdown",
   "metadata": {},
   "source": [
    "- Есть ли зависимость между семейным положением и возвратом кредита в срок?"
   ]
  },
  {
   "cell_type": "code",
   "execution_count": 30,
   "metadata": {},
   "outputs": [
    {
     "data": {
      "text/plain": [
       "debt\n",
       "0    19713\n",
       "1     1741\n",
       "Name: debt, dtype: int64"
      ]
     },
     "execution_count": 30,
     "metadata": {},
     "output_type": "execute_result"
    }
   ],
   "source": [
    "credit_info.groupby('debt') ['debt'].count()"
   ]
  },
  {
   "cell_type": "code",
   "execution_count": 40,
   "metadata": {
    "scrolled": true
   },
   "outputs": [
    {
     "data": {
      "text/html": [
       "<style  type=\"text/css\" >\n",
       "</style><table id=\"T_c268433c_a57c_11eb_8f7f_02420a396def\" ><thead>    <tr>        <th class=\"col_heading level0 col0\" >family_status</th>        <th class=\"col_heading level0 col1\" >debt</th>    </tr></thead><tbody>\n",
       "                <tr>\n",
       "                                <td id=\"T_c268433c_a57c_11eb_8f7f_02420a396defrow0_col0\" class=\"data row0 col0\" >вдовец / вдова</td>\n",
       "                        <td id=\"T_c268433c_a57c_11eb_8f7f_02420a396defrow0_col1\" class=\"data row0 col1\" >6.6</td>\n",
       "            </tr>\n",
       "            <tr>\n",
       "                                <td id=\"T_c268433c_a57c_11eb_8f7f_02420a396defrow1_col0\" class=\"data row1 col0\" >в разводе</td>\n",
       "                        <td id=\"T_c268433c_a57c_11eb_8f7f_02420a396defrow1_col1\" class=\"data row1 col1\" >7.1</td>\n",
       "            </tr>\n",
       "            <tr>\n",
       "                                <td id=\"T_c268433c_a57c_11eb_8f7f_02420a396defrow2_col0\" class=\"data row2 col0\" >женат / замужем</td>\n",
       "                        <td id=\"T_c268433c_a57c_11eb_8f7f_02420a396defrow2_col1\" class=\"data row2 col1\" >7.5</td>\n",
       "            </tr>\n",
       "            <tr>\n",
       "                                <td id=\"T_c268433c_a57c_11eb_8f7f_02420a396defrow3_col0\" class=\"data row3 col0\" >гражданский брак</td>\n",
       "                        <td id=\"T_c268433c_a57c_11eb_8f7f_02420a396defrow3_col1\" class=\"data row3 col1\" >9.3</td>\n",
       "            </tr>\n",
       "            <tr>\n",
       "                                <td id=\"T_c268433c_a57c_11eb_8f7f_02420a396defrow4_col0\" class=\"data row4 col0\" >не женат / не замужем</td>\n",
       "                        <td id=\"T_c268433c_a57c_11eb_8f7f_02420a396defrow4_col1\" class=\"data row4 col1\" >9.8</td>\n",
       "            </tr>\n",
       "    </tbody></table>"
      ],
      "text/plain": [
       "<pandas.io.formats.style.Styler at 0x7fb8c1058d10>"
      ]
     },
     "execution_count": 40,
     "metadata": {},
     "output_type": "execute_result"
    }
   ],
   "source": [
    "debt_from_family_status = pd.pivot_table(credit_info, index = 'family_status', values = 'debt', aggfunc = \n",
    "               lambda x: (x.mean() * 100).round(1)).reset_index()\n",
    "debt_from_family_status = debt_from_family_status.sort_values(by = ['debt']).reset_index(drop = True)\n",
    "debt_from_family_status.style.hide_index()"
   ]
  },
  {
   "cell_type": "code",
   "execution_count": 32,
   "metadata": {},
   "outputs": [
    {
     "name": "stdout",
     "output_type": "stream",
     "text": [
      "С семейным положением: вдовец / вдова  доля невозврата = 6.6%\n",
      "С семейным положением: в разводе  доля невозврата = 7.1%\n",
      "С семейным положением: женат / замужем  доля невозврата = 7.5%\n",
      "С семейным положением: гражданский брак  доля невозврата = 9.3%\n",
      "С семейным положением: не женат / не замужем  доля невозврата = 9.8%\n"
     ]
    }
   ],
   "source": [
    "for i in debt_from_family_status.index:\n",
    "    print('С семейным положением: {0}  доля невозврата = {1}%'.format(\n",
    "        debt_from_family_status['family_status'][i], debt_from_family_status['debt'][i]))"
   ]
  },
  {
   "cell_type": "markdown",
   "metadata": {},
   "source": [
    "**Вывод**"
   ]
  },
  {
   "cell_type": "markdown",
   "metadata": {},
   "source": [
    "1. **Посмотрев на сводную таблицу, можно увидеть, что доля просроченых кредитов больше у людей, которые находятся в гражданском браке или не женаты. Чаще всего возращают кредиты вдовцы и вдовы.**\n",
    "2. **В группах с женатыми/разведенными/овдовевшими процент невозврата находится в диапазоне 6.6 - 7.5%.**\n",
    "3. **А в группе с гражданским браком 9.3%**\n",
    "4. **Размах значений доли невозврата по категориям семейного положения составляет 3.2%**\n",
    "5. **Самые рисковые - не женатые, а самые надежные овдовевшие.**"
   ]
  },
  {
   "cell_type": "markdown",
   "metadata": {},
   "source": [
    "- Есть ли зависимость между уровнем дохода и возвратом кредита в срок?"
   ]
  },
  {
   "cell_type": "code",
   "execution_count": 41,
   "metadata": {},
   "outputs": [
    {
     "data": {
      "text/html": [
       "<style  type=\"text/css\" >\n",
       "</style><table id=\"T_c6aa47b0_a57c_11eb_8f7f_02420a396def\" ><thead>    <tr>        <th class=\"col_heading level0 col0\" >category_of_income</th>        <th class=\"col_heading level0 col1\" >debt</th>    </tr></thead><tbody>\n",
       "                <tr>\n",
       "                                <td id=\"T_c6aa47b0_a57c_11eb_8f7f_02420a396defrow0_col0\" class=\"data row0 col0\" >высокий</td>\n",
       "                        <td id=\"T_c6aa47b0_a57c_11eb_8f7f_02420a396defrow0_col1\" class=\"data row0 col1\" >6.9</td>\n",
       "            </tr>\n",
       "            <tr>\n",
       "                                <td id=\"T_c6aa47b0_a57c_11eb_8f7f_02420a396defrow1_col0\" class=\"data row1 col0\" >низкий</td>\n",
       "                        <td id=\"T_c6aa47b0_a57c_11eb_8f7f_02420a396defrow1_col1\" class=\"data row1 col1\" >8</td>\n",
       "            </tr>\n",
       "            <tr>\n",
       "                                <td id=\"T_c6aa47b0_a57c_11eb_8f7f_02420a396defrow2_col0\" class=\"data row2 col0\" >выше среднего</td>\n",
       "                        <td id=\"T_c6aa47b0_a57c_11eb_8f7f_02420a396defrow2_col1\" class=\"data row2 col1\" >8.7</td>\n",
       "            </tr>\n",
       "            <tr>\n",
       "                                <td id=\"T_c6aa47b0_a57c_11eb_8f7f_02420a396defrow3_col0\" class=\"data row3 col0\" >ниже среднего</td>\n",
       "                        <td id=\"T_c6aa47b0_a57c_11eb_8f7f_02420a396defrow3_col1\" class=\"data row3 col1\" >8.9</td>\n",
       "            </tr>\n",
       "    </tbody></table>"
      ],
      "text/plain": [
       "<pandas.io.formats.style.Styler at 0x7fb8e1609450>"
      ]
     },
     "execution_count": 41,
     "metadata": {},
     "output_type": "execute_result"
    }
   ],
   "source": [
    "debt_from_category_of_income = pd.pivot_table(credit_info, index = 'category_of_income', values = 'debt', aggfunc = \n",
    "               lambda x: (x.mean() * 100).round(1)).reset_index()\n",
    "debt_from_category_of_income = debt_from_category_of_income.sort_values(by = ['debt']).reset_index(drop = True)\n",
    "debt_from_category_of_income.style.hide_index()"
   ]
  },
  {
   "cell_type": "code",
   "execution_count": 34,
   "metadata": {
    "scrolled": true
   },
   "outputs": [
    {
     "name": "stdout",
     "output_type": "stream",
     "text": [
      "С доходом типа: высокий  доля невозврата = 6.9%\n",
      "С доходом типа: низкий  доля невозврата = 8.0%\n",
      "С доходом типа: выше среднего  доля невозврата = 8.7%\n",
      "С доходом типа: ниже среднего  доля невозврата = 8.9%\n"
     ]
    }
   ],
   "source": [
    "for i in debt_from_category_of_income.index:\n",
    "    print('С доходом типа: {0}  доля невозврата = {1}%'.format(\n",
    "        debt_from_category_of_income['category_of_income'][i], debt_from_category_of_income['debt'][i]))"
   ]
  },
  {
   "cell_type": "markdown",
   "metadata": {},
   "source": [
    "**Вывод**"
   ]
  },
  {
   "cell_type": "markdown",
   "metadata": {},
   "source": [
    "1. **Размах значений доли невозврата по категориям дохода составляет 2.0%**\n",
    "2. **Самая рисковая группа выше среднего и ниже среднего, наименее рисковая с высоким уровнем дохода.**\n",
    "3. **Без дохода люди лучше платят по кредитам чем со средними доходами.**"
   ]
  },
  {
   "cell_type": "markdown",
   "metadata": {},
   "source": [
    "- Как разные цели кредита влияют на его возврат в срок?"
   ]
  },
  {
   "cell_type": "code",
   "execution_count": 42,
   "metadata": {
    "scrolled": true
   },
   "outputs": [
    {
     "data": {
      "text/html": [
       "<style  type=\"text/css\" >\n",
       "</style><table id=\"T_c98eea8a_a57c_11eb_8f7f_02420a396def\" ><thead>    <tr>        <th class=\"col_heading level0 col0\" >category_of_purpose</th>        <th class=\"col_heading level0 col1\" >debt</th>    </tr></thead><tbody>\n",
       "                <tr>\n",
       "                                <td id=\"T_c98eea8a_a57c_11eb_8f7f_02420a396defrow0_col0\" class=\"data row0 col0\" >недвижимость</td>\n",
       "                        <td id=\"T_c98eea8a_a57c_11eb_8f7f_02420a396defrow0_col1\" class=\"data row0 col1\" >7.2</td>\n",
       "            </tr>\n",
       "            <tr>\n",
       "                                <td id=\"T_c98eea8a_a57c_11eb_8f7f_02420a396defrow1_col0\" class=\"data row1 col0\" >строительство и ремонт</td>\n",
       "                        <td id=\"T_c98eea8a_a57c_11eb_8f7f_02420a396defrow1_col1\" class=\"data row1 col1\" >7.2</td>\n",
       "            </tr>\n",
       "            <tr>\n",
       "                                <td id=\"T_c98eea8a_a57c_11eb_8f7f_02420a396defrow2_col0\" class=\"data row2 col0\" >свадьба</td>\n",
       "                        <td id=\"T_c98eea8a_a57c_11eb_8f7f_02420a396defrow2_col1\" class=\"data row2 col1\" >8</td>\n",
       "            </tr>\n",
       "            <tr>\n",
       "                                <td id=\"T_c98eea8a_a57c_11eb_8f7f_02420a396defrow3_col0\" class=\"data row3 col0\" >образование</td>\n",
       "                        <td id=\"T_c98eea8a_a57c_11eb_8f7f_02420a396defrow3_col1\" class=\"data row3 col1\" >9.2</td>\n",
       "            </tr>\n",
       "            <tr>\n",
       "                                <td id=\"T_c98eea8a_a57c_11eb_8f7f_02420a396defrow4_col0\" class=\"data row4 col0\" >автомобиль</td>\n",
       "                        <td id=\"T_c98eea8a_a57c_11eb_8f7f_02420a396defrow4_col1\" class=\"data row4 col1\" >9.4</td>\n",
       "            </tr>\n",
       "    </tbody></table>"
      ],
      "text/plain": [
       "<pandas.io.formats.style.Styler at 0x7fb87f212650>"
      ]
     },
     "execution_count": 42,
     "metadata": {},
     "output_type": "execute_result"
    }
   ],
   "source": [
    "debt_from_category_of_purpose = pd.pivot_table(credit_info, index = 'category_of_purpose', values = 'debt', aggfunc = \n",
    "               lambda x: (x.mean() * 100).round(1)).reset_index()\n",
    "debt_from_category_of_purpose = debt_from_category_of_purpose.sort_values(by = ['debt']).reset_index(drop = True)\n",
    "debt_from_category_of_purpose.style.hide_index()"
   ]
  },
  {
   "cell_type": "code",
   "execution_count": 36,
   "metadata": {},
   "outputs": [
    {
     "name": "stdout",
     "output_type": "stream",
     "text": [
      "С целью типа: недвижимость  доля невозврата = 7.2%\n",
      "С целью типа: строительство и ремонт  доля невозврата = 7.2%\n",
      "С целью типа: свадьба  доля невозврата = 8.0%\n",
      "С целью типа: образование  доля невозврата = 9.2%\n",
      "С целью типа: автомобиль  доля невозврата = 9.4%\n"
     ]
    }
   ],
   "source": [
    "for i in debt_from_category_of_purpose.index:\n",
    "    print('С целью типа: {0}  доля невозврата = {1}%'.format(\n",
    "        debt_from_category_of_purpose['category_of_purpose'][i], debt_from_category_of_purpose['debt'][i]))"
   ]
  },
  {
   "cell_type": "markdown",
   "metadata": {},
   "source": [
    "**Вывод**"
   ]
  },
  {
   "cell_type": "markdown",
   "metadata": {},
   "source": [
    "1. **Размах значений доли невозврата по категориям целей займа составляет 2.2%**\n",
    "2. **Самая рисковая группа на автомобиль, наименее рисковая недвижимость плюс строительство и ремонт.**"
   ]
  },
  {
   "cell_type": "markdown",
   "metadata": {},
   "source": [
    "## Общий вывод"
   ]
  },
  {
   "cell_type": "markdown",
   "metadata": {},
   "source": [
    "**Каждая категория групп клиентов влияет на невозврат долга по своему, ниже представлен общий рейтинг по степени влияния.**\n",
    "\n",
    "1. **Семейное положение        3.2%**\n",
    "2. **Цель займа                2.2%**\n",
    "3. **Дети в весомых категориях 2.0%**\n",
    "4. **Доход                     2.0%**\n",
    "\n",
    "**Таким образом Семейное положение оказалось в полтора раза влиятельней цели займа и количества детей, и уровня дохода. Количество детей и доход влияют на возврат одинаково.**"
   ]
  }
 ],
 "metadata": {
  "kernelspec": {
   "display_name": "Python 3",
   "language": "python",
   "name": "python3"
  },
  "language_info": {
   "codemirror_mode": {
    "name": "ipython",
    "version": 3
   },
   "file_extension": ".py",
   "mimetype": "text/x-python",
   "name": "python",
   "nbconvert_exporter": "python",
   "pygments_lexer": "ipython3",
   "version": "3.7.6"
  },
  "toc": {
   "base_numbering": 1,
   "nav_menu": {},
   "number_sections": true,
   "sideBar": true,
   "skip_h1_title": true,
   "title_cell": "Table of Contents",
   "title_sidebar": "Contents",
   "toc_cell": false,
   "toc_position": {},
   "toc_section_display": true,
   "toc_window_display": false
  }
 },
 "nbformat": 4,
 "nbformat_minor": 2
}
