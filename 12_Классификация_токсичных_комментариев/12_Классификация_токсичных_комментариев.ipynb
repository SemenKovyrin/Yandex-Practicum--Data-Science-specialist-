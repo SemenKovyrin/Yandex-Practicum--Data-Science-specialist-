{
 "cells": [
  {
   "cell_type": "markdown",
   "metadata": {
    "id": "jLa1HBTItK-z",
    "toc": true
   },
   "source": [
    "<h1>Содержание<span class=\"tocSkip\"></span></h1>\n",
    "<li><span><a href=\"#Подготовка\" data-toc-modified-id=\"Подготовка-1\"><span class=\"toc-item-num\">1&nbsp;&nbsp;</span>Подготовка</a></span><ul class=\"toc-item\"><li><span><a href=\"#Подготовка-Без-Bert\" data-toc-modified-id=\"Подготовка-Без-Bert-1.1\"><span class=\"toc-item-num\">1.1&nbsp;&nbsp;</span>Подготовка Без Bert</a></span></li></ul></li><li><span><a href=\"#Обучение\" data-toc-modified-id=\"Обучение-2\"><span class=\"toc-item-num\">2&nbsp;&nbsp;</span>Обучение</a></span></li><li><span><a href=\"#Выводы\" data-toc-modified-id=\"Выводы-3\"><span class=\"toc-item-num\">3&nbsp;&nbsp;</span>Выводы</a></span></li><li><span><a href=\"#Чек-лист-проверки\" data-toc-modified-id=\"Чек-лист-проверки-4\"><span class=\"toc-item-num\">4&nbsp;&nbsp;</span>Чек-лист проверки</a></span></li></ul></div>"
   ]
  },
  {
   "cell_type": "markdown",
   "metadata": {
    "id": "IR20Sh-Fotw-"
   },
   "source": [
    "# Классификация токсичных комментариев (BERT)"
   ]
  },
  {
   "cell_type": "markdown",
   "metadata": {
    "id": "eQVM-8nQotw_"
   },
   "source": [
    "Делаем инструмент, который позволит искать токсичные комментарии в описании товаров интернет магазина для дальнейшей модерации. \n",
    "Нужна модель со значением метрики качества `F1` >= 0.75\n",
    "\n",
    "**Описание данных**\n",
    "\n",
    "`text` - текст комментария  \n",
    "`toxic` - целевой признак  "
   ]
  },
  {
   "cell_type": "markdown",
   "metadata": {
    "id": "jlk4u2BqotxA"
   },
   "source": [
    "## Подготовка"
   ]
  },
  {
   "cell_type": "code",
   "execution_count": 1,
   "metadata": {
    "colab": {
     "base_uri": "https://localhost:8080/"
    },
    "execution": {
     "iopub.execute_input": "2021-09-02T06:20:09.054630Z",
     "iopub.status.busy": "2021-09-02T06:20:09.053869Z",
     "iopub.status.idle": "2021-09-02T06:20:28.461865Z",
     "shell.execute_reply": "2021-09-02T06:20:28.460419Z",
     "shell.execute_reply.started": "2021-09-02T06:20:09.054567Z"
    },
    "id": "9AKzs2VzotxB",
    "outputId": "243717f9-aefd-4959-e280-d324e87281b1"
   },
   "outputs": [
    {
     "name": "stdout",
     "output_type": "stream",
     "text": [
      "[nltk_data] Downloading package punkt to /root/nltk_data...\n",
      "[nltk_data]   Package punkt is already up-to-date!\n",
      "[nltk_data] Downloading package wordnet to /root/nltk_data...\n",
      "[nltk_data]   Package wordnet is already up-to-date!\n",
      "Requirement already satisfied: transformers in /usr/local/lib/python3.7/dist-packages (4.10.0)\n",
      "Requirement already satisfied: importlib-metadata in /usr/local/lib/python3.7/dist-packages (from transformers) (4.6.4)\n",
      "Requirement already satisfied: regex!=2019.12.17 in /usr/local/lib/python3.7/dist-packages (from transformers) (2019.12.20)\n",
      "Requirement already satisfied: filelock in /usr/local/lib/python3.7/dist-packages (from transformers) (3.0.12)\n",
      "Requirement already satisfied: requests in /usr/local/lib/python3.7/dist-packages (from transformers) (2.23.0)\n",
      "Requirement already satisfied: pyyaml>=5.1 in /usr/local/lib/python3.7/dist-packages (from transformers) (5.4.1)\n",
      "Requirement already satisfied: numpy>=1.17 in /usr/local/lib/python3.7/dist-packages (from transformers) (1.19.5)\n",
      "Requirement already satisfied: tqdm>=4.27 in /usr/local/lib/python3.7/dist-packages (from transformers) (4.62.0)\n",
      "Requirement already satisfied: tokenizers<0.11,>=0.10.1 in /usr/local/lib/python3.7/dist-packages (from transformers) (0.10.3)\n",
      "Requirement already satisfied: huggingface-hub>=0.0.12 in /usr/local/lib/python3.7/dist-packages (from transformers) (0.0.16)\n",
      "Requirement already satisfied: packaging in /usr/local/lib/python3.7/dist-packages (from transformers) (21.0)\n",
      "Requirement already satisfied: sacremoses in /usr/local/lib/python3.7/dist-packages (from transformers) (0.0.45)\n",
      "Requirement already satisfied: typing-extensions in /usr/local/lib/python3.7/dist-packages (from huggingface-hub>=0.0.12->transformers) (3.7.4.3)\n",
      "Requirement already satisfied: pyparsing>=2.0.2 in /usr/local/lib/python3.7/dist-packages (from packaging->transformers) (2.4.7)\n",
      "Requirement already satisfied: zipp>=0.5 in /usr/local/lib/python3.7/dist-packages (from importlib-metadata->transformers) (3.5.0)\n",
      "Requirement already satisfied: chardet<4,>=3.0.2 in /usr/local/lib/python3.7/dist-packages (from requests->transformers) (3.0.4)\n",
      "Requirement already satisfied: certifi>=2017.4.17 in /usr/local/lib/python3.7/dist-packages (from requests->transformers) (2021.5.30)\n",
      "Requirement already satisfied: idna<3,>=2.5 in /usr/local/lib/python3.7/dist-packages (from requests->transformers) (2.10)\n",
      "Requirement already satisfied: urllib3!=1.25.0,!=1.25.1,<1.26,>=1.21.1 in /usr/local/lib/python3.7/dist-packages (from requests->transformers) (1.24.3)\n",
      "Requirement already satisfied: click in /usr/local/lib/python3.7/dist-packages (from sacremoses->transformers) (7.1.2)\n",
      "Requirement already satisfied: joblib in /usr/local/lib/python3.7/dist-packages (from sacremoses->transformers) (1.0.1)\n",
      "Requirement already satisfied: six in /usr/local/lib/python3.7/dist-packages (from sacremoses->transformers) (1.15.0)\n",
      "Requirement already satisfied: catboost in /usr/local/lib/python3.7/dist-packages (0.26.1)\n",
      "Requirement already satisfied: graphviz in /usr/local/lib/python3.7/dist-packages (from catboost) (0.10.1)\n",
      "Requirement already satisfied: six in /usr/local/lib/python3.7/dist-packages (from catboost) (1.15.0)\n",
      "Requirement already satisfied: scipy in /usr/local/lib/python3.7/dist-packages (from catboost) (1.4.1)\n",
      "Requirement already satisfied: pandas>=0.24.0 in /usr/local/lib/python3.7/dist-packages (from catboost) (1.1.5)\n",
      "Requirement already satisfied: plotly in /usr/local/lib/python3.7/dist-packages (from catboost) (4.4.1)\n",
      "Requirement already satisfied: numpy>=1.16.0 in /usr/local/lib/python3.7/dist-packages (from catboost) (1.19.5)\n",
      "Requirement already satisfied: matplotlib in /usr/local/lib/python3.7/dist-packages (from catboost) (3.2.2)\n",
      "Requirement already satisfied: python-dateutil>=2.7.3 in /usr/local/lib/python3.7/dist-packages (from pandas>=0.24.0->catboost) (2.8.2)\n",
      "Requirement already satisfied: pytz>=2017.2 in /usr/local/lib/python3.7/dist-packages (from pandas>=0.24.0->catboost) (2018.9)\n",
      "Requirement already satisfied: kiwisolver>=1.0.1 in /usr/local/lib/python3.7/dist-packages (from matplotlib->catboost) (1.3.1)\n",
      "Requirement already satisfied: cycler>=0.10 in /usr/local/lib/python3.7/dist-packages (from matplotlib->catboost) (0.10.0)\n",
      "Requirement already satisfied: pyparsing!=2.0.4,!=2.1.2,!=2.1.6,>=2.0.1 in /usr/local/lib/python3.7/dist-packages (from matplotlib->catboost) (2.4.7)\n",
      "Requirement already satisfied: retrying>=1.3.3 in /usr/local/lib/python3.7/dist-packages (from plotly->catboost) (1.3.3)\n"
     ]
    }
   ],
   "source": [
    "\n",
    "import re \n",
    "\n",
    "import nltk\n",
    "nltk.download('punkt')\n",
    "nltk.download('wordnet')\n",
    "from nltk.stem.wordnet import WordNetLemmatizer\n",
    "from nltk.corpus import stopwords as nltk_stopwords\n",
    "\n",
    "import torch\n",
    "\n",
    "import warnings\n",
    "warnings.filterwarnings('ignore')\n",
    "\n",
    "import numpy as np\n",
    "\n",
    "import pandas as pd\n",
    "pd.set_option('display.max_colwidth', 200)\n",
    "\n",
    "!pip install transformers\n",
    "import transformers\n",
    "\n",
    "from tqdm import tqdm\n",
    "from tqdm import notebook\n",
    "\n",
    "!pip install catboost\n",
    "from catboost import CatBoostClassifier\n",
    "\n",
    "from datetime import datetime\n",
    "\n",
    "from lightgbm import LGBMClassifier\n",
    "\n",
    "from sklearn.metrics import f1_score\n",
    "from sklearn.metrics import make_scorer\n",
    "from sklearn.metrics import classification_report\n",
    "\n",
    "from sklearn.model_selection import GridSearchCV\n",
    "from sklearn.model_selection import cross_val_score\n",
    "from sklearn.model_selection import train_test_split\n",
    "\n",
    "from sklearn.pipeline import Pipeline\n",
    "from sklearn.dummy import DummyClassifier\n",
    "from sklearn.linear_model import LogisticRegression\n",
    "from sklearn.feature_extraction.text import TfidfVectorizer\n"
   ]
  },
  {
   "cell_type": "code",
   "execution_count": 2,
   "metadata": {
    "execution": {
     "iopub.execute_input": "2021-09-02T06:20:28.464631Z",
     "iopub.status.busy": "2021-09-02T06:20:28.464188Z",
     "iopub.status.idle": "2021-09-02T06:20:29.509405Z",
     "shell.execute_reply": "2021-09-02T06:20:29.507521Z",
     "shell.execute_reply.started": "2021-09-02T06:20:28.464590Z"
    },
    "id": "LxE8YJ28otxD"
   },
   "outputs": [],
   "source": [
    "df = pd.read_csv('/content/toxic_comments.csv')"
   ]
  },
  {
   "cell_type": "code",
   "execution_count": 3,
   "metadata": {
    "colab": {
     "base_uri": "https://localhost:8080/",
     "height": 272
    },
    "execution": {
     "iopub.execute_input": "2021-09-02T06:20:29.512636Z",
     "iopub.status.busy": "2021-09-02T06:20:29.512215Z",
     "iopub.status.idle": "2021-09-02T06:20:29.537167Z",
     "shell.execute_reply": "2021-09-02T06:20:29.535593Z",
     "shell.execute_reply.started": "2021-09-02T06:20:29.512599Z"
    },
    "id": "sGMsUBv-otxD",
    "outputId": "ad1b99e9-7c60-4a54-870a-73d051eb4ef8"
   },
   "outputs": [
    {
     "data": {
      "text/html": [
       "<div>\n",
       "<style scoped>\n",
       "    .dataframe tbody tr th:only-of-type {\n",
       "        vertical-align: middle;\n",
       "    }\n",
       "\n",
       "    .dataframe tbody tr th {\n",
       "        vertical-align: top;\n",
       "    }\n",
       "\n",
       "    .dataframe thead th {\n",
       "        text-align: right;\n",
       "    }\n",
       "</style>\n",
       "<table border=\"1\" class=\"dataframe\">\n",
       "  <thead>\n",
       "    <tr style=\"text-align: right;\">\n",
       "      <th></th>\n",
       "      <th>text</th>\n",
       "      <th>toxic</th>\n",
       "    </tr>\n",
       "  </thead>\n",
       "  <tbody>\n",
       "    <tr>\n",
       "      <th>0</th>\n",
       "      <td>Explanation\\nWhy the edits made under my username Hardcore Metallica Fan were reverted? They weren't vandalisms, just closure on some GAs after I voted at New York Dolls FAC. And please don't remo...</td>\n",
       "      <td>0</td>\n",
       "    </tr>\n",
       "    <tr>\n",
       "      <th>1</th>\n",
       "      <td>D'aww! He matches this background colour I'm seemingly stuck with. Thanks.  (talk) 21:51, January 11, 2016 (UTC)</td>\n",
       "      <td>0</td>\n",
       "    </tr>\n",
       "    <tr>\n",
       "      <th>2</th>\n",
       "      <td>Hey man, I'm really not trying to edit war. It's just that this guy is constantly removing relevant information and talking to me through edits instead of my talk page. He seems to care more about...</td>\n",
       "      <td>0</td>\n",
       "    </tr>\n",
       "    <tr>\n",
       "      <th>3</th>\n",
       "      <td>\"\\nMore\\nI can't make any real suggestions on improvement - I wondered if the section statistics should be later on, or a subsection of \"\"types of accidents\"\"  -I think the references may need tid...</td>\n",
       "      <td>0</td>\n",
       "    </tr>\n",
       "    <tr>\n",
       "      <th>4</th>\n",
       "      <td>You, sir, are my hero. Any chance you remember what page that's on?</td>\n",
       "      <td>0</td>\n",
       "    </tr>\n",
       "  </tbody>\n",
       "</table>\n",
       "</div>"
      ],
      "text/plain": [
       "                                                                                                                                                                                                      text  toxic\n",
       "0  Explanation\\nWhy the edits made under my username Hardcore Metallica Fan were reverted? They weren't vandalisms, just closure on some GAs after I voted at New York Dolls FAC. And please don't remo...      0\n",
       "1                                                                                         D'aww! He matches this background colour I'm seemingly stuck with. Thanks.  (talk) 21:51, January 11, 2016 (UTC)      0\n",
       "2  Hey man, I'm really not trying to edit war. It's just that this guy is constantly removing relevant information and talking to me through edits instead of my talk page. He seems to care more about...      0\n",
       "3  \"\\nMore\\nI can't make any real suggestions on improvement - I wondered if the section statistics should be later on, or a subsection of \"\"types of accidents\"\"  -I think the references may need tid...      0\n",
       "4                                                                                                                                      You, sir, are my hero. Any chance you remember what page that's on?      0"
      ]
     },
     "execution_count": 3,
     "metadata": {},
     "output_type": "execute_result"
    }
   ],
   "source": [
    "df.head()"
   ]
  },
  {
   "cell_type": "markdown",
   "metadata": {
    "id": "fyAWoeskotxE"
   },
   "source": [
    "Комментарии на английском языке."
   ]
  },
  {
   "cell_type": "code",
   "execution_count": 4,
   "metadata": {
    "colab": {
     "base_uri": "https://localhost:8080/"
    },
    "execution": {
     "iopub.execute_input": "2021-09-02T06:20:29.539772Z",
     "iopub.status.busy": "2021-09-02T06:20:29.539253Z",
     "iopub.status.idle": "2021-09-02T06:20:29.647018Z",
     "shell.execute_reply": "2021-09-02T06:20:29.645092Z",
     "shell.execute_reply.started": "2021-09-02T06:20:29.539727Z"
    },
    "id": "9w2rbaw7otxF",
    "outputId": "26e990ca-793e-4f6a-88df-45306d8a137c"
   },
   "outputs": [
    {
     "name": "stdout",
     "output_type": "stream",
     "text": [
      "<class 'pandas.core.frame.DataFrame'>\n",
      "RangeIndex: 159571 entries, 0 to 159570\n",
      "Data columns (total 2 columns):\n",
      " #   Column  Non-Null Count   Dtype \n",
      "---  ------  --------------   ----- \n",
      " 0   text    159571 non-null  object\n",
      " 1   toxic   159571 non-null  int64 \n",
      "dtypes: int64(1), object(1)\n",
      "memory usage: 80.1 MB\n"
     ]
    }
   ],
   "source": [
    "df.info(memory_usage='deep')"
   ]
  },
  {
   "cell_type": "markdown",
   "metadata": {
    "id": "EWn8JCM7otxG"
   },
   "source": [
    "Пропуски отсутствуют.  \n",
    "Объем занимаемой памяти небольшой, оптимизация не требуется.  "
   ]
  },
  {
   "cell_type": "code",
   "execution_count": 5,
   "metadata": {
    "colab": {
     "base_uri": "https://localhost:8080/"
    },
    "execution": {
     "iopub.execute_input": "2021-09-02T06:20:29.649582Z",
     "iopub.status.busy": "2021-09-02T06:20:29.649165Z",
     "iopub.status.idle": "2021-09-02T06:20:29.665604Z",
     "shell.execute_reply": "2021-09-02T06:20:29.663480Z",
     "shell.execute_reply.started": "2021-09-02T06:20:29.649547Z"
    },
    "id": "2gVJoFUHotxH",
    "outputId": "ac0d6897-e968-4d92-d17b-5323aa777fee"
   },
   "outputs": [
    {
     "data": {
      "text/plain": [
       "0    0.898321\n",
       "1    0.101679\n",
       "Name: toxic, dtype: float64"
      ]
     },
     "execution_count": 5,
     "metadata": {},
     "output_type": "execute_result"
    }
   ],
   "source": [
    "df['toxic'].value_counts(normalize=True)"
   ]
  },
  {
   "cell_type": "markdown",
   "metadata": {
    "id": "v7R-MeDoZhB3"
   },
   "source": [
    "Есть дисбаланс классов.  \n",
    "Попробуем обучить модели как есть, но учтем пропорции классов при дальнейшем разбиении.  "
   ]
  },
  {
   "cell_type": "markdown",
   "metadata": {
    "id": "7FulsatyaFTh"
   },
   "source": [
    "Обработаем текст с помощью `BERT`, а затем `TF-IDF`  \n",
    "В конце сравним результаты.  "
   ]
  },
  {
   "cell_type": "code",
   "execution_count": 6,
   "metadata": {
    "colab": {
     "base_uri": "https://localhost:8080/",
     "height": 120,
     "referenced_widgets": [
      "bc9bc37c79c549a4a86a5ff5015edec1",
      "32443dffd3dd4bfd9218ef4bac1da0b0",
      "82472f546e9b4491a76e2f4663f73cda",
      "a10dd864dc9d456b98aedb9047b6eb3e",
      "5b4b5cc447eb49ba909a5dbf15b61444",
      "d0867725dfa1485487d33edebd5e0ad7",
      "6cfaadc904ff4ae58c532343acd7dd81",
      "dea1fffaece54ed5b1cec122b43c692b",
      "6e998c3692bd420c9a623f355c78ed62",
      "9fe4d121503a473bb350956da3e9b0fd",
      "589ec96b8c2e4311bef59a1b46f676f9"
     ]
    },
    "execution": {
     "iopub.execute_input": "2021-09-02T06:20:29.667818Z",
     "iopub.status.busy": "2021-09-02T06:20:29.667392Z",
     "iopub.status.idle": "2021-09-02T06:20:41.554816Z",
     "shell.execute_reply": "2021-09-02T06:20:41.553421Z",
     "shell.execute_reply.started": "2021-09-02T06:20:29.667782Z"
    },
    "id": "xTKM_fjLotxI",
    "outputId": "e6e19cca-84b6-45f1-f337-a8c4c8fffec3"
   },
   "outputs": [
    {
     "data": {
      "application/vnd.jupyter.widget-view+json": {
       "model_id": "bc9bc37c79c549a4a86a5ff5015edec1",
       "version_major": 2,
       "version_minor": 0
      },
      "text/plain": [
       "Downloading:   0%|          | 0.00/440M [00:00<?, ?B/s]"
      ]
     },
     "metadata": {},
     "output_type": "display_data"
    },
    {
     "name": "stderr",
     "output_type": "stream",
     "text": [
      "Some weights of the model checkpoint at bert-base-uncased were not used when initializing BertModel: ['cls.predictions.transform.dense.bias', 'cls.predictions.transform.dense.weight', 'cls.predictions.bias', 'cls.seq_relationship.bias', 'cls.predictions.transform.LayerNorm.bias', 'cls.predictions.transform.LayerNorm.weight', 'cls.seq_relationship.weight', 'cls.predictions.decoder.weight']\n",
      "- This IS expected if you are initializing BertModel from the checkpoint of a model trained on another task or with another architecture (e.g. initializing a BertForSequenceClassification model from a BertForPreTraining model).\n",
      "- This IS NOT expected if you are initializing BertModel from the checkpoint of a model that you expect to be exactly identical (initializing a BertForSequenceClassification model from a BertForSequenceClassification model).\n"
     ]
    }
   ],
   "source": [
    "\n",
    "model_class, tokenizer_class, pretrained_weights = (\n",
    "    transformers.BertModel,\n",
    "    transformers.BertTokenizer,\n",
    "    'bert-base-uncased'\n",
    ")\n",
    "\n",
    "tokenizer = tokenizer_class.from_pretrained(pretrained_weights)\n",
    "model = model_class.from_pretrained(pretrained_weights)\n"
   ]
  },
  {
   "cell_type": "markdown",
   "metadata": {
    "id": "O9Dzzg_gotxJ"
   },
   "source": [
    "Мы загрузили натренированную модель `BERT`, и её токенайзер.  \n",
    "Возьмем количество строк кратное 1 батчу обучения.  "
   ]
  },
  {
   "cell_type": "code",
   "execution_count": 7,
   "metadata": {
    "execution": {
     "iopub.execute_input": "2021-09-02T06:20:41.557636Z",
     "iopub.status.busy": "2021-09-02T06:20:41.556795Z",
     "iopub.status.idle": "2021-09-02T06:20:41.562806Z",
     "shell.execute_reply": "2021-09-02T06:20:41.561745Z",
     "shell.execute_reply.started": "2021-09-02T06:20:41.557582Z"
    },
    "id": "mBs9XVWUotxJ"
   },
   "outputs": [],
   "source": [
    "text = df['text'].iloc[:159550].copy()"
   ]
  },
  {
   "cell_type": "code",
   "execution_count": 8,
   "metadata": {
    "execution": {
     "iopub.execute_input": "2021-09-02T06:20:41.567310Z",
     "iopub.status.busy": "2021-09-02T06:20:41.566345Z",
     "iopub.status.idle": "2021-09-02T06:20:41.732876Z",
     "shell.execute_reply": "2021-09-02T06:20:41.731510Z",
     "shell.execute_reply.started": "2021-09-02T06:20:41.567084Z"
    },
    "id": "c8_rkNp3otxK"
   },
   "outputs": [],
   "source": [
    "\n",
    "tokenized = text.apply(\n",
    "    lambda x: tokenizer.encode(\n",
    "        x.lower(),               # приводим к нижнему регистру\n",
    "        add_special_tokens=True, # добавляем токены начала и конца строки\n",
    "        max_length=512,          # ограничиваем максимальную длину последовательности токенов (ограничение BERT = 512)\n",
    "        truncation=True          # обрезаем последовательность по длине\n",
    "        )\n",
    "    )\n"
   ]
  },
  {
   "cell_type": "code",
   "execution_count": 9,
   "metadata": {
    "colab": {
     "base_uri": "https://localhost:8080/"
    },
    "execution": {
     "iopub.execute_input": "2021-09-02T06:20:41.736392Z",
     "iopub.status.busy": "2021-09-02T06:20:41.735986Z",
     "iopub.status.idle": "2021-09-02T06:20:41.747294Z",
     "shell.execute_reply": "2021-09-02T06:20:41.745492Z",
     "shell.execute_reply.started": "2021-09-02T06:20:41.736353Z"
    },
    "id": "rUSPEwKAtK--",
    "outputId": "6baba14d-8090-4116-b33e-2bc686c1988e"
   },
   "outputs": [
    {
     "data": {
      "text/plain": [
       "[101,\n",
       " 7526,\n",
       " 2339,\n",
       " 1996,\n",
       " 10086,\n",
       " 2015,\n",
       " 2081,\n",
       " 2104,\n",
       " 2026,\n",
       " 5310,\n",
       " 18442,\n",
       " 13076,\n",
       " 12392,\n",
       " 2050,\n",
       " 5470,\n",
       " 2020,\n",
       " 16407,\n",
       " 1029,\n",
       " 2027,\n",
       " 4694,\n",
       " 1005,\n",
       " 1056,\n",
       " 3158,\n",
       " 9305,\n",
       " 22556,\n",
       " 1010,\n",
       " 2074,\n",
       " 8503,\n",
       " 2006,\n",
       " 2070,\n",
       " 3806,\n",
       " 2044,\n",
       " 1045,\n",
       " 5444,\n",
       " 2012,\n",
       " 2047,\n",
       " 2259,\n",
       " 14421,\n",
       " 6904,\n",
       " 2278,\n",
       " 1012,\n",
       " 1998,\n",
       " 3531,\n",
       " 2123,\n",
       " 1005,\n",
       " 1056,\n",
       " 6366,\n",
       " 1996,\n",
       " 23561,\n",
       " 2013,\n",
       " 1996,\n",
       " 2831,\n",
       " 3931,\n",
       " 2144,\n",
       " 1045,\n",
       " 1005,\n",
       " 1049,\n",
       " 3394,\n",
       " 2085,\n",
       " 1012,\n",
       " 6486,\n",
       " 1012,\n",
       " 16327,\n",
       " 1012,\n",
       " 4229,\n",
       " 1012,\n",
       " 2676,\n",
       " 102]"
      ]
     },
     "execution_count": 9,
     "metadata": {},
     "output_type": "execute_result"
    }
   ],
   "source": [
    "tokenized[0]"
   ]
  },
  {
   "cell_type": "markdown",
   "metadata": {
    "id": "lt32Lt67otxK"
   },
   "source": [
    "Токенизатор выполнил разбиение строк на слова, добавил спец. символы в начало и конец строки, подставил токены вместо слов.  "
   ]
  },
  {
   "cell_type": "code",
   "execution_count": 10,
   "metadata": {
    "execution": {
     "iopub.execute_input": "2021-09-02T06:20:41.749418Z",
     "iopub.status.busy": "2021-09-02T06:20:41.748973Z",
     "iopub.status.idle": "2021-09-02T06:20:41.770110Z",
     "shell.execute_reply": "2021-09-02T06:20:41.768035Z",
     "shell.execute_reply.started": "2021-09-02T06:20:41.749378Z"
    },
    "id": "DPSqYOJ_otxL"
   },
   "outputs": [],
   "source": [
    "padded = np.array([i + [0]*(512-len(i)) for i in tokenized.values])"
   ]
  },
  {
   "cell_type": "code",
   "execution_count": 11,
   "metadata": {
    "colab": {
     "base_uri": "https://localhost:8080/"
    },
    "execution": {
     "iopub.execute_input": "2021-09-02T06:20:41.773473Z",
     "iopub.status.busy": "2021-09-02T06:20:41.772848Z",
     "iopub.status.idle": "2021-09-02T06:20:41.793090Z",
     "shell.execute_reply": "2021-09-02T06:20:41.790816Z",
     "shell.execute_reply.started": "2021-09-02T06:20:41.773409Z"
    },
    "id": "kxCYu11otK-_",
    "outputId": "748a6232-7dba-4333-ec92-d1ecdde8f085"
   },
   "outputs": [
    {
     "data": {
      "text/plain": [
       "array([  101,  7526,  2339,  1996, 10086,  2015,  2081,  2104,  2026,\n",
       "        5310, 18442, 13076, 12392,  2050,  5470,  2020, 16407,  1029,\n",
       "        2027,  4694,  1005,  1056,  3158,  9305, 22556,  1010,  2074,\n",
       "        8503,  2006,  2070,  3806,  2044,  1045,  5444,  2012,  2047,\n",
       "        2259, 14421,  6904,  2278,  1012,  1998,  3531,  2123,  1005,\n",
       "        1056,  6366,  1996, 23561,  2013,  1996,  2831,  3931,  2144,\n",
       "        1045,  1005,  1049,  3394,  2085,  1012,  6486,  1012, 16327,\n",
       "        1012,  4229,  1012,  2676,   102,     0,     0,     0,     0,\n",
       "           0,     0,     0,     0,     0,     0,     0,     0,     0,\n",
       "           0,     0,     0,     0,     0,     0,     0,     0,     0,\n",
       "           0,     0,     0,     0,     0,     0,     0,     0,     0,\n",
       "           0,     0,     0,     0,     0,     0,     0,     0,     0,\n",
       "           0,     0,     0,     0,     0,     0,     0,     0,     0,\n",
       "           0,     0,     0,     0,     0,     0,     0,     0,     0,\n",
       "           0,     0,     0,     0,     0,     0,     0,     0,     0,\n",
       "           0,     0,     0,     0,     0,     0,     0,     0,     0,\n",
       "           0,     0,     0,     0,     0,     0,     0,     0,     0,\n",
       "           0,     0,     0,     0,     0,     0,     0,     0,     0,\n",
       "           0,     0,     0,     0,     0,     0,     0,     0,     0,\n",
       "           0,     0,     0,     0,     0,     0,     0,     0,     0,\n",
       "           0,     0,     0,     0,     0,     0,     0,     0,     0,\n",
       "           0,     0,     0,     0,     0,     0,     0,     0,     0,\n",
       "           0,     0,     0,     0,     0,     0,     0,     0,     0,\n",
       "           0,     0,     0,     0,     0,     0,     0,     0,     0,\n",
       "           0,     0,     0,     0,     0,     0,     0,     0,     0,\n",
       "           0,     0,     0,     0,     0,     0,     0,     0,     0,\n",
       "           0,     0,     0,     0,     0,     0,     0,     0,     0,\n",
       "           0,     0,     0,     0,     0,     0,     0,     0,     0,\n",
       "           0,     0,     0,     0,     0,     0,     0,     0,     0,\n",
       "           0,     0,     0,     0,     0,     0,     0,     0,     0,\n",
       "           0,     0,     0,     0,     0,     0,     0,     0,     0,\n",
       "           0,     0,     0,     0,     0,     0,     0,     0,     0,\n",
       "           0,     0,     0,     0,     0,     0,     0,     0,     0,\n",
       "           0,     0,     0,     0,     0,     0,     0,     0,     0,\n",
       "           0,     0,     0,     0,     0,     0,     0,     0,     0,\n",
       "           0,     0,     0,     0,     0,     0,     0,     0,     0,\n",
       "           0,     0,     0,     0,     0,     0,     0,     0,     0,\n",
       "           0,     0,     0,     0,     0,     0,     0,     0,     0,\n",
       "           0,     0,     0,     0,     0,     0,     0,     0,     0,\n",
       "           0,     0,     0,     0,     0,     0,     0,     0,     0,\n",
       "           0,     0,     0,     0,     0,     0,     0,     0,     0,\n",
       "           0,     0,     0,     0,     0,     0,     0,     0,     0,\n",
       "           0,     0,     0,     0,     0,     0,     0,     0,     0,\n",
       "           0,     0,     0,     0,     0,     0,     0,     0,     0,\n",
       "           0,     0,     0,     0,     0,     0,     0,     0,     0,\n",
       "           0,     0,     0,     0,     0,     0,     0,     0,     0,\n",
       "           0,     0,     0,     0,     0,     0,     0,     0,     0,\n",
       "           0,     0,     0,     0,     0,     0,     0,     0,     0,\n",
       "           0,     0,     0,     0,     0,     0,     0,     0,     0,\n",
       "           0,     0,     0,     0,     0,     0,     0,     0,     0,\n",
       "           0,     0,     0,     0,     0,     0,     0,     0,     0,\n",
       "           0,     0,     0,     0,     0,     0,     0,     0,     0,\n",
       "           0,     0,     0,     0,     0,     0,     0,     0,     0,\n",
       "           0,     0,     0,     0,     0,     0,     0,     0,     0,\n",
       "           0,     0,     0,     0,     0,     0,     0,     0,     0,\n",
       "           0,     0,     0,     0,     0,     0,     0,     0,     0,\n",
       "           0,     0,     0,     0,     0,     0,     0,     0])"
      ]
     },
     "execution_count": 11,
     "metadata": {},
     "output_type": "execute_result"
    }
   ],
   "source": [
    "padded[0]"
   ]
  },
  {
   "cell_type": "markdown",
   "metadata": {
    "id": "jHeBi2g6otxL"
   },
   "source": [
    "Мы добавили нули ко всем более коротким чем 512 токенов строкам (в новом массиве).  \n",
    "Это называется паддинг (набивка).  \n",
    "Паддинг помогает `BERT` обрабатывать данные быстрее, теперь это один двумерный массив, а не списки токенов разной длины."
   ]
  },
  {
   "cell_type": "code",
   "execution_count": 12,
   "metadata": {
    "execution": {
     "iopub.execute_input": "2021-09-02T06:20:41.797288Z",
     "iopub.status.busy": "2021-09-02T06:20:41.796446Z",
     "iopub.status.idle": "2021-09-02T06:20:41.803677Z",
     "shell.execute_reply": "2021-09-02T06:20:41.802566Z",
     "shell.execute_reply.started": "2021-09-02T06:20:41.797213Z"
    },
    "id": "sFplvH8xotxM"
   },
   "outputs": [],
   "source": [
    "attention_mask = np.where(padded != 0, 1, 0)"
   ]
  },
  {
   "cell_type": "code",
   "execution_count": 13,
   "metadata": {
    "colab": {
     "base_uri": "https://localhost:8080/"
    },
    "execution": {
     "iopub.execute_input": "2021-09-02T06:20:41.805582Z",
     "iopub.status.busy": "2021-09-02T06:20:41.805198Z",
     "iopub.status.idle": "2021-09-02T06:20:41.843812Z",
     "shell.execute_reply": "2021-09-02T06:20:41.841048Z",
     "shell.execute_reply.started": "2021-09-02T06:20:41.805544Z"
    },
    "id": "90o4ocZrtK_A",
    "outputId": "8f6bb562-63fa-4a18-a1a0-8953e079e7c4"
   },
   "outputs": [
    {
     "data": {
      "text/plain": [
       "array([1, 1, 1, 1, 1, 1, 1, 1, 1, 1, 1, 1, 1, 1, 1, 1, 1, 1, 1, 1, 1, 1,\n",
       "       1, 1, 1, 1, 1, 1, 1, 1, 1, 1, 1, 1, 1, 1, 1, 1, 1, 1, 1, 1, 1, 1,\n",
       "       1, 1, 1, 1, 1, 1, 1, 1, 1, 1, 1, 1, 1, 1, 1, 1, 1, 1, 1, 1, 1, 1,\n",
       "       1, 1, 0, 0, 0, 0, 0, 0, 0, 0, 0, 0, 0, 0, 0, 0, 0, 0, 0, 0, 0, 0,\n",
       "       0, 0, 0, 0, 0, 0, 0, 0, 0, 0, 0, 0, 0, 0, 0, 0, 0, 0, 0, 0, 0, 0,\n",
       "       0, 0, 0, 0, 0, 0, 0, 0, 0, 0, 0, 0, 0, 0, 0, 0, 0, 0, 0, 0, 0, 0,\n",
       "       0, 0, 0, 0, 0, 0, 0, 0, 0, 0, 0, 0, 0, 0, 0, 0, 0, 0, 0, 0, 0, 0,\n",
       "       0, 0, 0, 0, 0, 0, 0, 0, 0, 0, 0, 0, 0, 0, 0, 0, 0, 0, 0, 0, 0, 0,\n",
       "       0, 0, 0, 0, 0, 0, 0, 0, 0, 0, 0, 0, 0, 0, 0, 0, 0, 0, 0, 0, 0, 0,\n",
       "       0, 0, 0, 0, 0, 0, 0, 0, 0, 0, 0, 0, 0, 0, 0, 0, 0, 0, 0, 0, 0, 0,\n",
       "       0, 0, 0, 0, 0, 0, 0, 0, 0, 0, 0, 0, 0, 0, 0, 0, 0, 0, 0, 0, 0, 0,\n",
       "       0, 0, 0, 0, 0, 0, 0, 0, 0, 0, 0, 0, 0, 0, 0, 0, 0, 0, 0, 0, 0, 0,\n",
       "       0, 0, 0, 0, 0, 0, 0, 0, 0, 0, 0, 0, 0, 0, 0, 0, 0, 0, 0, 0, 0, 0,\n",
       "       0, 0, 0, 0, 0, 0, 0, 0, 0, 0, 0, 0, 0, 0, 0, 0, 0, 0, 0, 0, 0, 0,\n",
       "       0, 0, 0, 0, 0, 0, 0, 0, 0, 0, 0, 0, 0, 0, 0, 0, 0, 0, 0, 0, 0, 0,\n",
       "       0, 0, 0, 0, 0, 0, 0, 0, 0, 0, 0, 0, 0, 0, 0, 0, 0, 0, 0, 0, 0, 0,\n",
       "       0, 0, 0, 0, 0, 0, 0, 0, 0, 0, 0, 0, 0, 0, 0, 0, 0, 0, 0, 0, 0, 0,\n",
       "       0, 0, 0, 0, 0, 0, 0, 0, 0, 0, 0, 0, 0, 0, 0, 0, 0, 0, 0, 0, 0, 0,\n",
       "       0, 0, 0, 0, 0, 0, 0, 0, 0, 0, 0, 0, 0, 0, 0, 0, 0, 0, 0, 0, 0, 0,\n",
       "       0, 0, 0, 0, 0, 0, 0, 0, 0, 0, 0, 0, 0, 0, 0, 0, 0, 0, 0, 0, 0, 0,\n",
       "       0, 0, 0, 0, 0, 0, 0, 0, 0, 0, 0, 0, 0, 0, 0, 0, 0, 0, 0, 0, 0, 0,\n",
       "       0, 0, 0, 0, 0, 0, 0, 0, 0, 0, 0, 0, 0, 0, 0, 0, 0, 0, 0, 0, 0, 0,\n",
       "       0, 0, 0, 0, 0, 0, 0, 0, 0, 0, 0, 0, 0, 0, 0, 0, 0, 0, 0, 0, 0, 0,\n",
       "       0, 0, 0, 0, 0, 0])"
      ]
     },
     "execution_count": 13,
     "metadata": {},
     "output_type": "execute_result"
    }
   ],
   "source": [
    "attention_mask[0]"
   ]
  },
  {
   "cell_type": "markdown",
   "metadata": {
    "id": "YbUzeQzaotxM"
   },
   "source": [
    "Теперь мы создали 'маску внимания', она поможет `BERT` обращать внимание только на токены, игнорируя добавленные нули.  "
   ]
  },
  {
   "cell_type": "code",
   "execution_count": 14,
   "metadata": {
    "colab": {
     "base_uri": "https://localhost:8080/",
     "height": 83,
     "referenced_widgets": [
      "a588a0a3d84f48bd89a82570bff0fe6b",
      "efbaa58948644c3593807ad980e6b58c",
      "34f134158e4a4770b72a43d00de9359f",
      "1fa5798dcd9046899816c4ea2401a61a",
      "93280ab109dd4889a1a0c96d89f7d4c1",
      "503cd467675146f482167abb5d199fc5",
      "08893fe2105f43cbbed9e764da5323b3",
      "37e2cd0c6c184007b2041cf399ad9e1f",
      "8d3b34373f084b25a96955c5f5ff62b6",
      "c304b51b85654b288deb1760e09964b8",
      "fdb89409afc64fdd96ba03817a2f9f38"
     ]
    },
    "execution": {
     "iopub.execute_input": "2021-09-02T06:20:41.846608Z",
     "iopub.status.busy": "2021-09-02T06:20:41.846064Z",
     "iopub.status.idle": "2021-09-02T06:21:44.979162Z",
     "shell.execute_reply": "2021-09-02T06:21:44.977993Z",
     "shell.execute_reply.started": "2021-09-02T06:20:41.846551Z"
    },
    "id": "z_NAci_EotxN",
    "outputId": "c8c18743-3cc0-4a33-d971-ed2a0695678c"
   },
   "outputs": [
    {
     "data": {
      "application/vnd.jupyter.widget-view+json": {
       "model_id": "a588a0a3d84f48bd89a82570bff0fe6b",
       "version_major": 2,
       "version_minor": 0
      },
      "text/plain": [
       "  0%|          | 0/3191 [00:00<?, ?it/s]"
      ]
     },
     "metadata": {},
     "output_type": "display_data"
    },
    {
     "name": "stdout",
     "output_type": "stream",
     "text": [
      "CPU times: user 3h 1min 10s, sys: 18.5 s, total: 3h 1min 29s\n",
      "Wall time: 3h 1min 3s\n"
     ]
    }
   ],
   "source": [
    "\n",
    "%%time\n",
    "\n",
    "batch_size = 50  # часть выборки для одной итерации цикла\n",
    "embeddings = []\n",
    "\n",
    "for i in notebook.tqdm(range(len(text) // batch_size)):\n",
    "\n",
    "        batch = torch.LongTensor(padded[batch_size*i:batch_size*(i+1)]).cuda() # отправляем вычисления на GPU\n",
    "        attention_mask_batch = torch.LongTensor(attention_mask[batch_size*i:batch_size*(i+1)]).cuda()\n",
    "\n",
    "        with torch.no_grad():\n",
    "            model.cuda()\n",
    "            batch_embeddings = model(batch, attention_mask=attention_mask_batch)\n",
    "            \n",
    "        # берем из трехмерного тензора только признаки классов которые определила модель\n",
    "        embeddings.append(batch_embeddings[0][:, 0, :].cpu().numpy()) \n",
    "\n",
    "features = np.concatenate(embeddings) # собираем признаки классов в один массив\n"
   ]
  },
  {
   "cell_type": "code",
   "execution_count": 15,
   "metadata": {
    "colab": {
     "base_uri": "https://localhost:8080/"
    },
    "execution": {
     "iopub.execute_input": "2021-09-02T06:21:44.982100Z",
     "iopub.status.busy": "2021-09-02T06:21:44.981124Z",
     "iopub.status.idle": "2021-09-02T06:21:45.005697Z",
     "shell.execute_reply": "2021-09-02T06:21:45.004776Z",
     "shell.execute_reply.started": "2021-09-02T06:21:44.982033Z"
    },
    "id": "xCC612Y-tK_B",
    "outputId": "2a02fda3-fa4f-4c4c-dd65-2f430ca44c78"
   },
   "outputs": [
    {
     "data": {
      "text/plain": [
       "array([ 2.50974655e-01,  5.05420975e-02, -2.41744774e-03, -2.32462451e-01,\n",
       "       -3.06949586e-01, -3.72466475e-01,  5.56583345e-01,  5.22573292e-01,\n",
       "        2.18740851e-01, -4.53634709e-01, -1.21842764e-01,  1.39128178e-01,\n",
       "       -2.81780571e-01,  3.17809582e-01,  4.88872468e-01,  1.60018146e-01,\n",
       "       -4.66759115e-01,  5.40292621e-01,  2.01923281e-01,  6.74564689e-02,\n",
       "       -8.11745133e-03, -3.54632229e-01,  1.30774125e-01, -7.25800842e-02,\n",
       "        8.74608383e-02, -7.07302690e-02, -1.83526278e-01, -3.89893353e-01,\n",
       "       -2.17679322e-01,  6.55460218e-03, -2.71842003e-01,  2.25761712e-01,\n",
       "        8.48642290e-02, -1.45496756e-01,  7.10862637e-01, -3.48647773e-01,\n",
       "        1.80211157e-01, -7.64387697e-02,  3.92408520e-01,  2.65866071e-01,\n",
       "       -8.13826919e-02,  1.14874534e-01,  4.10840213e-01,  1.30273417e-01,\n",
       "        7.13752434e-02, -6.27828715e-03, -3.24370885e+00, -1.47058398e-01,\n",
       "       -1.93766594e-01, -3.22880805e-01,  4.09788758e-01, -3.40376526e-01,\n",
       "        2.70481229e-01,  1.29602045e-01,  3.17173243e-01,  1.33573830e-01,\n",
       "       -4.09501106e-01,  7.84273595e-02, -2.72774342e-02,  1.11816213e-01,\n",
       "        1.21161349e-01,  9.98505652e-02,  1.74401831e-02,  1.44379899e-01,\n",
       "        7.79827461e-02,  2.46326283e-01, -5.80064207e-02,  6.81565881e-01,\n",
       "       -4.67047125e-01,  6.32026553e-01, -2.36428767e-01,  1.03725903e-01,\n",
       "        3.23243022e-01, -1.10182188e-01,  6.45565912e-02, -4.30142581e-01,\n",
       "        2.03414652e-02,  6.36186063e-01, -3.75723183e-01,  1.58710778e-01,\n",
       "        4.38006446e-02,  3.25584888e-01,  2.72978544e-01,  4.33138795e-02,\n",
       "        2.93761700e-01,  2.81746447e-01, -4.56847459e-01, -3.87813777e-01,\n",
       "        2.09019274e-01,  4.41361874e-01, -1.16829440e-01,  1.10179661e-02,\n",
       "       -1.74260259e-01,  2.51660228e-01,  3.93831581e-01, -2.59824753e-01,\n",
       "       -1.05145492e-01,  1.76749021e-01,  2.40817294e-02,  2.08201990e-01,\n",
       "        2.44495943e-01,  2.42880702e-01, -1.80149414e-02, -7.50743032e-01,\n",
       "       -4.95047192e-04,  4.86086681e-02, -1.80860490e-01, -3.21541369e-01,\n",
       "        3.43021601e-01, -2.21019769e+00,  4.19932723e-01,  8.18686843e-01,\n",
       "       -3.59198123e-01, -2.39763051e-01,  2.79475302e-02,  3.01385641e-01,\n",
       "        5.19245565e-01, -4.92825478e-01,  4.93354082e-01,  2.32777894e-01,\n",
       "        9.89454463e-02,  2.92652041e-01,  1.27195090e-01, -3.17697436e-01,\n",
       "        1.40324473e-01,  2.81528085e-01,  3.16740990e-01, -2.38888115e-01,\n",
       "        3.23745072e-01,  1.96094066e-01,  1.35477066e-01,  4.04205471e-01,\n",
       "       -1.31806126e-02, -3.69030207e-01,  2.63236221e-02,  8.89853239e-02,\n",
       "        1.15399189e-01, -8.33294243e-02,  5.65147959e-02, -3.33035290e-01,\n",
       "       -5.21634579e-01, -4.82109547e-01, -3.14911866e+00,  2.80281808e-02,\n",
       "        8.14517438e-01,  4.25415426e-01, -1.25690356e-01,  4.87807840e-01,\n",
       "       -1.62357539e-02,  3.67075652e-01, -3.63492630e-02,  2.70002365e-01,\n",
       "       -2.20353633e-01,  1.03852868e-01, -3.39687556e-01, -3.43946181e-02,\n",
       "        2.20428675e-01, -9.64455009e-02,  2.69722432e-01,  6.52050614e-01,\n",
       "        3.87409866e-01,  1.24712028e-01, -1.52899280e-01, -3.33817452e-02,\n",
       "       -1.04134582e-01,  3.43513876e-01,  3.64027709e-01,  3.83883454e-02,\n",
       "        3.69900376e-01, -2.21363425e-01, -4.05974358e-01, -6.17013723e-02,\n",
       "        4.22262281e-01,  8.95214751e-02,  3.39205325e-01,  2.79779375e-01,\n",
       "        3.79252970e-01,  4.07696187e-01,  3.32969159e-01, -1.00662410e-01,\n",
       "       -4.87321615e-01,  7.93903694e-02, -2.90032566e-01,  1.69873908e-02,\n",
       "        1.58345968e-01, -1.37742430e-01,  5.73767662e-01,  2.51601394e-02,\n",
       "       -7.16088191e-02,  4.34378415e-01, -4.38588560e-01, -4.12157536e-01,\n",
       "        5.11210442e-01,  2.17578813e-01,  6.70876861e-01,  9.09546539e-02,\n",
       "        2.67443657e-01, -5.35198092e-01,  1.09170638e-01,  3.17008704e-01,\n",
       "       -5.12377806e-02, -7.32410401e-02,  2.91879654e-01, -1.52643740e-01,\n",
       "       -1.89479008e-01,  4.07195520e+00, -1.47518784e-01, -2.10174859e-01,\n",
       "       -3.12389582e-01,  5.35538316e-01, -5.14967799e-01, -5.51798046e-02,\n",
       "       -2.02623621e-01, -3.83388191e-01, -2.72577882e-01, -1.22692376e-01,\n",
       "        6.96395993e-01, -1.50482073e-01, -5.33005953e-01,  3.65047939e-02,\n",
       "        6.41957074e-02,  4.42294776e-01, -2.17766970e-01,  3.48109752e-01,\n",
       "       -2.96391994e-01,  2.33797938e-01, -3.29257399e-01,  3.02898765e-01,\n",
       "        1.69612586e-01, -1.69366407e+00,  1.90031096e-01,  6.19912259e-02,\n",
       "       -6.26610816e-01,  7.25731909e-01,  2.76236832e-01, -3.31358552e-01,\n",
       "       -3.50326262e-02, -2.12028041e-01,  1.44506516e-02,  1.59488842e-01,\n",
       "        2.24747464e-01,  4.45760399e-01, -9.88092199e-02,  3.37072998e-01,\n",
       "       -5.67554832e-01,  3.92998546e-01,  1.39180934e-02, -4.38170910e-01,\n",
       "        3.89743000e-01,  9.88184288e-02,  7.20601082e-01, -1.93231441e-02,\n",
       "        1.26785725e-01, -3.80466670e-01,  2.37569705e-01,  3.97466898e-01,\n",
       "       -7.06503466e-02,  5.83551778e-03, -8.35790038e-01, -3.55036229e-01,\n",
       "       -5.80834687e-01, -3.53790745e-02,  2.47075185e-02,  1.11600213e-01,\n",
       "       -5.06554186e-01, -2.23981813e-01,  8.92434195e-02, -2.86493361e-01,\n",
       "       -1.62021011e-01, -6.17158413e-01, -1.69281110e-01, -4.91683722e-01,\n",
       "       -7.03029692e-01, -3.25348735e+00,  1.95974614e-02,  1.41046206e-02,\n",
       "        1.80529177e-01,  3.46964985e-01, -9.53331403e-03, -2.91534871e-01,\n",
       "        1.14644468e-01,  2.44391635e-01, -3.10398996e-01,  3.25915962e-01,\n",
       "        2.18759820e-01, -4.07360077e-01,  2.90038168e-01, -4.06183124e-01,\n",
       "       -1.88151821e-01,  3.10506523e-01, -4.13551301e-01, -6.95789605e-02,\n",
       "       -9.41559002e-02, -4.35054228e-02,  5.23351073e-01, -3.01432312e-01,\n",
       "        3.64029288e-01,  1.25780506e-02, -5.10714129e-02, -9.77792591e-02,\n",
       "       -4.89866734e-01, -2.91289557e-02, -4.94144082e-01,  3.53157669e-02,\n",
       "       -1.91937223e-01, -5.45858517e-02, -1.25111431e-01, -2.92801887e-01,\n",
       "       -3.19700456e+00,  2.91867316e-01, -3.37481111e-01, -2.42451444e-01,\n",
       "        1.36445582e-01,  7.46842548e-02,  6.89078510e-01,  2.15223834e-01,\n",
       "       -3.06128234e-01,  3.14333402e-02, -6.52130544e-02,  7.17753842e-02,\n",
       "       -6.01585768e-02, -5.82122244e-02,  2.96799511e-01,  6.25573397e-01,\n",
       "        3.38972449e-01, -1.55513018e-01,  2.72904336e-01,  2.15055794e-01,\n",
       "       -1.35893717e-01,  1.71752766e-01,  3.35839659e-01, -2.83016682e-01,\n",
       "        5.73080719e-01,  5.46414793e-01, -4.62689757e-01,  2.00042307e-01,\n",
       "        7.06568807e-02,  2.17236742e-01,  6.12012565e-01, -8.99624899e-02,\n",
       "       -1.29391193e-01, -1.71899617e-01, -4.12654877e-01, -1.09050490e-01,\n",
       "        9.54985023e-02, -5.43069430e-02,  4.81395364e-01, -2.87392624e-02,\n",
       "        2.70092577e-01,  5.76963365e-01,  1.55720025e-01,  1.67274371e-01,\n",
       "        9.30638790e-01,  5.68366684e-02,  2.23007753e-01,  1.90515071e-01,\n",
       "        1.61504194e-01,  1.68090239e-01, -1.34348243e-01, -2.72812005e-02,\n",
       "        9.37525272e-01,  1.39144644e-01,  1.87769845e-01, -8.14920217e-02,\n",
       "        2.17708156e-01,  3.28772217e-01, -3.49034891e-02,  3.79422814e-01,\n",
       "        6.79671645e-01, -6.75323904e-02,  5.20333052e-01, -2.01065600e-01,\n",
       "       -1.06852755e-01, -6.75833881e-01,  2.72830606e-01, -4.72443014e-01,\n",
       "        2.81112138e-02,  4.33111750e-02, -1.98060110e-01,  6.24390006e-01,\n",
       "       -4.08614337e-01, -1.26972806e+00, -3.37148070e-01, -1.75498929e-02,\n",
       "       -3.22806865e-01,  1.38931409e-01, -2.71755010e-01,  1.33650184e-01,\n",
       "       -2.38933757e-01,  8.61122236e-02, -6.01887226e-01,  8.07803750e-01,\n",
       "       -3.11215818e-01, -1.90678343e-01, -4.04138751e-02,  3.75933528e-01,\n",
       "       -8.59003246e-01,  3.17279667e-01, -3.44576776e-01,  8.36592987e-02,\n",
       "        1.42997101e-01,  3.35136682e-01, -3.89672309e-01, -2.81496886e-02,\n",
       "        4.47444826e-01, -1.00321209e+00,  1.78155825e-01,  3.35800707e-01,\n",
       "        5.31698644e-01, -1.70649886e-01,  3.12034115e-02, -2.48738229e-01,\n",
       "       -1.99059606e-01, -5.18425815e-02, -2.20077872e-01,  1.86973944e-01,\n",
       "        2.07293943e-01,  4.13779467e-02, -8.54119137e-02, -2.38904748e-02,\n",
       "       -3.47517908e-01,  2.42411271e-02,  6.99756801e-01,  1.03816763e-02,\n",
       "       -1.80215612e-01,  3.41929853e-01,  5.10214642e-03,  1.56442136e-01,\n",
       "        2.31391668e-01,  1.11845389e-01, -2.00036034e-01, -6.79186359e-02,\n",
       "       -3.43992829e-01, -7.05866441e-02,  2.00063705e-01, -2.19265461e-01,\n",
       "       -2.17484683e-01, -9.78752002e-02,  3.16815786e-02, -3.56179237e-01,\n",
       "       -8.35956037e-01, -3.59136969e-01,  4.70981002e-02, -6.14633203e-01,\n",
       "       -2.62197793e-01,  2.70282149e-01,  2.65084207e-01, -5.05758412e-02,\n",
       "        3.99340779e-01, -1.03532240e-01, -4.65102613e-01,  3.52570444e-01,\n",
       "       -3.29735219e-01,  8.72089744e-01,  5.43113947e-01, -2.04717532e-01,\n",
       "       -2.47924611e-01,  4.49086666e-01, -3.38210538e-02, -9.68066826e-02,\n",
       "       -2.87390023e-01, -5.19594908e-01,  5.33870995e-01,  1.84467629e-01,\n",
       "       -2.57370323e-01,  1.40990958e-01,  4.21109647e-02, -4.55188639e-02,\n",
       "        3.05512935e-01,  1.31125033e-01, -1.38044953e+00,  3.86681169e-01,\n",
       "        3.60337675e-01, -1.42091230e-01,  2.12684385e-02, -4.50415820e-01,\n",
       "       -3.23395431e-01,  6.73316419e-02, -2.36279026e-01,  3.43424320e-01,\n",
       "       -4.07901019e-01,  1.41632065e-01,  3.12790692e-01, -2.05915719e-01,\n",
       "        2.14882195e-01,  7.63726309e-02,  1.98804811e-01, -1.74962118e-01,\n",
       "       -1.44693702e-01, -4.60124075e-01,  3.45081203e-02,  3.31754386e-01,\n",
       "        3.46159011e-01, -6.17364235e-02,  1.41695529e-01, -3.16441059e-01,\n",
       "       -3.47632542e-02,  4.42076683e-01, -1.85128033e-01,  3.00975233e-01,\n",
       "       -2.70668983e-01, -6.76365554e-01, -6.24410152e-01, -2.92272717e-01,\n",
       "        2.76439011e-01,  2.94681549e-01,  3.74176204e-01,  2.58562285e-02,\n",
       "        5.37735164e-01,  5.00218391e-01, -4.56110209e-01,  6.15183473e-01,\n",
       "        3.74542028e-01,  3.20168823e-01,  4.11827296e-01,  6.76787049e-02,\n",
       "       -2.06894279e-01,  3.44939590e-01,  4.97199088e-01, -4.08113152e-01,\n",
       "       -1.37430146e-01, -3.73670936e-01, -2.69211471e-01, -4.03306812e-01,\n",
       "       -6.38186634e-02, -1.93921417e-01,  1.31653463e-02,  2.20827665e-02,\n",
       "       -5.23746729e-01, -1.23070879e-03,  1.04170769e-01, -7.85792321e-02,\n",
       "       -2.17739195e-01,  1.17561363e-01, -3.22477579e-01, -4.49380159e-01,\n",
       "        2.40219340e-01, -2.80712873e-01, -2.94254094e-01,  3.40263784e-01,\n",
       "        7.68049181e-01,  4.51394022e-01, -4.72572058e-01, -2.02130843e-02,\n",
       "       -2.54204750e-01,  4.33346927e-01, -7.89910182e-02,  2.43920162e-01,\n",
       "        2.08377272e-01, -3.29623610e-01,  4.16070789e-01, -8.62937987e-01,\n",
       "       -3.77311200e-01,  4.66605663e-01, -4.76320326e-01,  3.96772742e-01,\n",
       "       -5.59526861e-01, -4.63369012e-01,  1.81396917e-01,  1.69056609e-01,\n",
       "       -4.85972106e-01, -4.81916189e-01,  2.37726778e-01, -2.58696795e-01,\n",
       "        1.41355380e-01, -2.04855829e-01,  2.58968258e-03,  2.22216528e-02,\n",
       "       -1.58682793e-01, -1.36248767e-01,  1.39348134e-01,  4.04579312e-01,\n",
       "        6.67096734e-01,  5.80789089e-01,  3.15734953e-01,  1.31389797e-01,\n",
       "        3.39818299e-01, -1.56457722e-01, -6.00623727e-01,  1.23969950e-01,\n",
       "       -7.85055161e-02,  5.52179525e-03, -2.93723732e-01, -1.93315789e-01,\n",
       "        1.85411453e-01, -3.27529877e-01,  2.86327779e-01, -3.60721201e-01,\n",
       "        2.01201510e+00,  7.97822624e-02,  2.18183711e-01, -6.39110431e-02,\n",
       "        4.77126539e-01, -1.02977991e-01, -3.97134990e-01,  7.70643502e-02,\n",
       "       -3.86827677e-01,  7.28567660e-01, -6.08876824e-01,  5.78765213e-01,\n",
       "       -8.42854679e-02, -1.60037845e-01,  5.33990800e-01,  6.38959646e-01,\n",
       "       -6.31147474e-02, -7.48944223e-01, -7.43805170e-01, -6.52482659e-02,\n",
       "       -5.19963682e-01,  3.98424506e-01,  8.43244076e-01,  1.02329977e-01,\n",
       "       -2.06997916e-01,  1.76102892e-01,  6.82349503e-02, -3.16281378e-01,\n",
       "       -2.99737714e-02,  1.26731858e-01, -1.23737678e-01,  3.01076680e-01,\n",
       "       -2.28269994e-01,  4.96179432e-01, -5.58219314e-01, -2.92617142e-01,\n",
       "       -6.76040724e-02, -3.30747634e-01, -3.25068295e-01,  1.89349413e-01,\n",
       "       -2.97280252e-01, -2.49628380e-01,  8.32803428e-01, -1.22911394e-01,\n",
       "       -1.29664034e-01,  4.39396739e-01, -3.30004454e-01,  1.58278085e-02,\n",
       "        6.56794369e-01, -1.62896421e-02, -7.26876035e-02, -6.55355453e-02,\n",
       "       -4.63632166e-01, -1.25002349e-03,  4.18616086e-02, -4.74930614e-01,\n",
       "       -2.24966519e-02, -2.68250436e-01, -2.70698398e-01,  4.48068291e-01,\n",
       "       -2.83569604e-01,  3.25130552e-01,  2.07330920e-02, -4.28652704e-01,\n",
       "       -2.16220707e-01,  5.32622822e-02, -7.28347898e-01,  3.39994758e-01,\n",
       "        2.85340965e-01, -1.96826294e-01, -2.90127158e-01,  3.84946078e-01,\n",
       "       -7.96428788e-03, -2.50320554e-01,  2.51754194e-01,  2.21990779e-01,\n",
       "        3.72577548e-01, -3.29892546e-01, -3.40920120e-01, -2.65872860e+00,\n",
       "        2.60348648e-01,  2.47382194e-01,  6.33773655e-02,  9.49289370e-03,\n",
       "        2.69762695e-01,  9.25603136e-03,  1.08951017e-01,  2.09712565e-01,\n",
       "        2.86332339e-01,  1.34791628e-01,  5.70141852e-01,  3.36490989e-01,\n",
       "       -3.13334793e-01,  1.82298839e-01, -8.40643570e-02,  2.83628255e-01,\n",
       "        9.84962136e-02, -1.93068027e-01, -1.15879118e-01,  5.25674559e-02,\n",
       "       -3.21040899e-02, -2.37617627e-01, -1.53432833e-03, -5.18233716e-01,\n",
       "        6.96505755e-02,  1.51723072e-01, -2.03424171e-01,  2.17041820e-01,\n",
       "        3.01238835e-01, -2.56993681e-01,  5.34666359e-01, -2.43890017e-01,\n",
       "        5.19412220e-04,  1.26277879e-01, -1.46189049e-01, -4.07971233e-01,\n",
       "        1.64111942e-01, -3.17083687e-01,  2.03459859e-01, -9.27401334e-02,\n",
       "        7.92845547e-01, -1.44013509e-01,  3.19199264e-01,  7.53915757e-02,\n",
       "       -2.45827630e-01,  6.53391719e-01, -3.73187512e-01,  5.03788471e-01,\n",
       "       -3.93508077e-01,  1.18816808e-01, -1.23108014e-01,  1.76921934e-01,\n",
       "        4.18178812e-02,  2.47227862e-01, -1.99166797e-02,  4.74140141e-03,\n",
       "        3.75298560e-01, -1.48157045e-01, -3.78595889e-01, -3.21765691e-01,\n",
       "        2.99628247e-02, -3.09783459e-01, -3.10035944e-02,  6.89762712e-01,\n",
       "       -4.07870486e-02, -1.51712885e-02, -4.98066396e-02, -2.31919691e-01,\n",
       "       -2.86363602e-01, -2.74760216e-01, -7.23755162e-04,  3.49923551e-01,\n",
       "        2.43781805e-01, -5.35965636e-02, -1.56912059e-01,  5.14697433e-01,\n",
       "        2.96075076e-01,  4.52828109e-01,  1.06223732e-01,  1.17611676e-03,\n",
       "       -3.75110805e-01, -3.63148302e-02,  3.66535008e-01,  2.38087654e-01,\n",
       "       -7.02212191e+00, -3.39507550e-01, -7.25066215e-02, -6.20042503e-01,\n",
       "       -4.79252517e-01, -3.85666549e-01,  1.94120273e-01, -9.14348587e-02,\n",
       "        3.68448836e-03, -2.01188520e-01,  5.69001675e-01,  9.38050896e-02,\n",
       "       -1.21612698e-01, -9.52490866e-02,  3.34348887e-01,  4.79536355e-01],\n",
       "      dtype=float32)"
      ]
     },
     "execution_count": 15,
     "metadata": {},
     "output_type": "execute_result"
    }
   ],
   "source": [
    "features[0]"
   ]
  },
  {
   "cell_type": "markdown",
   "metadata": {
    "id": "Aj_-O0CEotxO"
   },
   "source": [
    "Мы взяли только нужную информацию.  \n",
    "`BERT` проводит свою классификацию предложений, и ставит токен класса на первое место.  \n",
    "Это готовые признаки для обучения и тестирования.  \n",
    "Важное замечание: работая с батчами мы берем только то количество строк которое кратно размеру батча.  \n",
    "Это означает что в нашем случеа мы обработали 159550 строк из 159571.  "
   ]
  },
  {
   "cell_type": "code",
   "execution_count": 16,
   "metadata": {
    "execution": {
     "iopub.execute_input": "2021-09-02T06:21:45.007528Z",
     "iopub.status.busy": "2021-09-02T06:21:45.007136Z",
     "iopub.status.idle": "2021-09-02T06:21:45.024930Z",
     "shell.execute_reply": "2021-09-02T06:21:45.023685Z",
     "shell.execute_reply.started": "2021-09-02T06:21:45.007490Z"
    },
    "id": "TJpSJcv6otxP"
   },
   "outputs": [],
   "source": [
    "\n",
    "X_train, X_test, y_train, y_test = train_test_split(\n",
    "    features,\n",
    "    df['toxic'].iloc[:159550],\n",
    "    test_size=0.25,\n",
    "    stratify=df['toxic'].iloc[:159550],  # сохраняем пропорции классов\n",
    "    random_state=42\n",
    ")\n"
   ]
  },
  {
   "cell_type": "markdown",
   "metadata": {
    "id": "iRQkg6e0tK_C"
   },
   "source": [
    "Разделили выборку, переходим к обучению.  "
   ]
  },
  {
   "cell_type": "code",
   "execution_count": 17,
   "metadata": {
    "execution": {
     "iopub.execute_input": "2021-09-02T06:21:45.027101Z",
     "iopub.status.busy": "2021-09-02T06:21:45.026690Z",
     "iopub.status.idle": "2021-09-02T06:21:45.036924Z",
     "shell.execute_reply": "2021-09-02T06:21:45.035853Z",
     "shell.execute_reply.started": "2021-09-02T06:21:45.027064Z"
    },
    "id": "ZaB03qkbotxP"
   },
   "outputs": [],
   "source": [
    "\n",
    "# для скорости проверки, диапазоны параметров уже указаны близко к оптимальным, вычисленным ранее\n",
    "\n",
    "grid = {\n",
    "    'CBC': {\n",
    "        'model': CatBoostClassifier(),\n",
    "        'parameters': {\n",
    "            'max_depth': [x for x in range(6, 8, 2)],\n",
    "            'n_estimators': [x for x in range(100, 125, 25)],\n",
    "            'silent': [True] # не будем печатать каждую итерацию\n",
    "        }\n",
    "    },\n",
    "    'LGBMC': {\n",
    "        'model': LGBMClassifier(),\n",
    "        'parameters': {\n",
    "            'objective': ['binary'],\n",
    "            'verbosity': [-1],\n",
    "            'num_iterations': [750]\n",
    "        }\n",
    "    }\n",
    "}\n"
   ]
  },
  {
   "cell_type": "code",
   "execution_count": 18,
   "metadata": {
    "colab": {
     "base_uri": "https://localhost:8080/"
    },
    "execution": {
     "iopub.execute_input": "2021-09-02T06:21:45.039519Z",
     "iopub.status.busy": "2021-09-02T06:21:45.038862Z",
     "iopub.status.idle": "2021-09-02T06:21:50.122275Z",
     "shell.execute_reply": "2021-09-02T06:21:50.121295Z",
     "shell.execute_reply.started": "2021-09-02T06:21:45.039472Z"
    },
    "id": "Ecb2qZZGotxQ",
    "outputId": "9fa57cef-876a-43c5-a64e-a877a64cb08c"
   },
   "outputs": [
    {
     "name": "stdout",
     "output_type": "stream",
     "text": [
      "Время работы (ч:м:с.мс) 0:26:55.025502\n"
     ]
    }
   ],
   "source": [
    "\n",
    "F1 = make_scorer(\n",
    "    f1_score, # метрика по которой мы будем оценивать модель это F1 мера\n",
    "    greater_is_better=True\n",
    ")\n",
    "\n",
    "scores = []\n",
    "start_time = datetime.now()\n",
    "\n",
    "for model, parameter in grid.items():\n",
    "    GS_CV = GridSearchCV(\n",
    "        parameter['model'], \n",
    "        parameter['parameters'], \n",
    "        scoring = F1, \n",
    "        cv=2\n",
    "        )\n",
    "    \n",
    "    GS_CV.fit(\n",
    "        X_train,\n",
    "        y_train\n",
    "        )\n",
    "    \n",
    "    scores.append({\n",
    "    'model': model,\n",
    "    'best_train_score': round(GS_CV.best_score_, 3), \n",
    "    'best_parameters': GS_CV.best_params_\n",
    "    })\n",
    "        \n",
    "print('Время работы (ч:м:с.мс) {}'.format(datetime.now()-start_time))\n"
   ]
  },
  {
   "cell_type": "code",
   "execution_count": 19,
   "metadata": {
    "colab": {
     "base_uri": "https://localhost:8080/",
     "height": 111
    },
    "execution": {
     "iopub.execute_input": "2021-09-02T06:21:50.124543Z",
     "iopub.status.busy": "2021-09-02T06:21:50.123823Z",
     "iopub.status.idle": "2021-09-02T06:21:50.146776Z",
     "shell.execute_reply": "2021-09-02T06:21:50.145638Z",
     "shell.execute_reply.started": "2021-09-02T06:21:50.124489Z"
    },
    "id": "f_JlFW30otxR",
    "outputId": "c18177f4-dceb-4b59-f80a-6f10ae935f02"
   },
   "outputs": [
    {
     "data": {
      "text/html": [
       "<div>\n",
       "<style scoped>\n",
       "    .dataframe tbody tr th:only-of-type {\n",
       "        vertical-align: middle;\n",
       "    }\n",
       "\n",
       "    .dataframe tbody tr th {\n",
       "        vertical-align: top;\n",
       "    }\n",
       "\n",
       "    .dataframe thead th {\n",
       "        text-align: right;\n",
       "    }\n",
       "</style>\n",
       "<table border=\"1\" class=\"dataframe\">\n",
       "  <thead>\n",
       "    <tr style=\"text-align: right;\">\n",
       "      <th></th>\n",
       "      <th>model</th>\n",
       "      <th>best_parameters</th>\n",
       "      <th>best_train_score</th>\n",
       "    </tr>\n",
       "  </thead>\n",
       "  <tbody>\n",
       "    <tr>\n",
       "      <th>1</th>\n",
       "      <td>LGBMC</td>\n",
       "      <td>{'num_iterations': 750, 'objective': 'binary', 'verbosity': -1}</td>\n",
       "      <td>0.688</td>\n",
       "    </tr>\n",
       "    <tr>\n",
       "      <th>0</th>\n",
       "      <td>CBC</td>\n",
       "      <td>{'max_depth': 6, 'n_estimators': 100, 'silent': True}</td>\n",
       "      <td>0.661</td>\n",
       "    </tr>\n",
       "  </tbody>\n",
       "</table>\n",
       "</div>"
      ],
      "text/plain": [
       "   model  ... best_train_score\n",
       "1  LGBMC  ...            0.688\n",
       "0    CBC  ...            0.661\n",
       "\n",
       "[2 rows x 3 columns]"
      ]
     },
     "execution_count": 19,
     "metadata": {},
     "output_type": "execute_result"
    }
   ],
   "source": [
    "\n",
    "models_analysis = pd.DataFrame(scores, columns=[\n",
    "    'model',\n",
    "    'best_parameters',\n",
    "    'best_train_score',\n",
    "    'test_score',\n",
    "    'test_training_time', \n",
    "    'test_prediction_time'\n",
    "])\n",
    "models_analysis.iloc[:, :3].sort_values(by=['best_train_score'], ascending=False)\n"
   ]
  },
  {
   "cell_type": "markdown",
   "metadata": {
    "id": "ClljgOyhtK_D"
   },
   "source": [
    "Нам не удалось достичь значения метрики `F1`>=0.75 при использовании `BERT`  \n",
    "Попробуем обойтись более простыми методами.  "
   ]
  },
  {
   "cell_type": "markdown",
   "metadata": {
    "id": "iBfsrVL22QZq"
   },
   "source": [
    "### Подготовка Без BERT"
   ]
  },
  {
   "cell_type": "code",
   "execution_count": 20,
   "metadata": {
    "execution": {
     "iopub.execute_input": "2021-09-02T06:21:50.149186Z",
     "iopub.status.busy": "2021-09-02T06:21:50.148559Z",
     "iopub.status.idle": "2021-09-02T06:21:50.165424Z",
     "shell.execute_reply": "2021-09-02T06:21:50.164155Z",
     "shell.execute_reply.started": "2021-09-02T06:21:50.149144Z"
    },
    "id": "MNxrRups2PcO"
   },
   "outputs": [],
   "source": [
    "corpus = df['text']"
   ]
  },
  {
   "cell_type": "markdown",
   "metadata": {
    "id": "L2pqlcYytK_E"
   },
   "source": [
    "Теперь нам понадобится лемматизация и очистка от ненужных символов.  "
   ]
  },
  {
   "cell_type": "code",
   "execution_count": 21,
   "metadata": {
    "execution": {
     "iopub.execute_input": "2021-09-02T06:21:50.167379Z",
     "iopub.status.busy": "2021-09-02T06:21:50.167009Z",
     "iopub.status.idle": "2021-09-02T06:21:50.184885Z",
     "shell.execute_reply": "2021-09-02T06:21:50.183339Z",
     "shell.execute_reply.started": "2021-09-02T06:21:50.167344Z"
    },
    "id": "yv2IybFTNwq0"
   },
   "outputs": [],
   "source": [
    "\n",
    "def lemmatize(text):\n",
    "    lem = WordNetLemmatizer()\n",
    "    word_list = nltk.word_tokenize(text.lower())\n",
    "    lemm_text =  ' '.join([lem.lemmatize(w) for w in word_list])\n",
    "    return lemm_text\n",
    "\n",
    "\n",
    "def clear_text(text):\n",
    "    sub_text = re.sub(r'[^a-zA-Z ]', ' ', text)\n",
    "    return ' '.join(sub_text.split())\n"
   ]
  },
  {
   "cell_type": "code",
   "execution_count": 22,
   "metadata": {
    "execution": {
     "iopub.execute_input": "2021-09-02T06:21:50.186889Z",
     "iopub.status.busy": "2021-09-02T06:21:50.186503Z",
     "iopub.status.idle": "2021-09-02T06:23:40.768112Z",
     "shell.execute_reply": "2021-09-02T06:23:40.766656Z",
     "shell.execute_reply.started": "2021-09-02T06:21:50.186853Z"
    },
    "id": "t4c-j-4kN2up"
   },
   "outputs": [],
   "source": [
    "lemm_clear_corpus = corpus.apply(lambda x: lemmatize(clear_text(x)))"
   ]
  },
  {
   "cell_type": "code",
   "execution_count": 23,
   "metadata": {
    "execution": {
     "iopub.execute_input": "2021-09-02T06:23:40.772335Z",
     "iopub.status.busy": "2021-09-02T06:23:40.771879Z",
     "iopub.status.idle": "2021-09-02T06:23:40.870668Z",
     "shell.execute_reply": "2021-09-02T06:23:40.869401Z",
     "shell.execute_reply.started": "2021-09-02T06:23:40.772294Z"
    },
    "id": "F-d11Q2PQciC"
   },
   "outputs": [],
   "source": [
    "\n",
    "corpus_train, corpus_test, y_train, y_test = train_test_split(\n",
    "    lemm_clear_corpus,\n",
    "    df['toxic'],\n",
    "    test_size=0.25,\n",
    "    stratify=df['toxic'],\n",
    "    random_state=12345\n",
    ")\n"
   ]
  },
  {
   "cell_type": "markdown",
   "metadata": {
    "id": "RGH4jL56tK_F"
   },
   "source": [
    "Определим слова которые не несут смысла, чтобы их удалить.  "
   ]
  },
  {
   "cell_type": "code",
   "execution_count": 24,
   "metadata": {
    "colab": {
     "base_uri": "https://localhost:8080/"
    },
    "execution": {
     "iopub.execute_input": "2021-09-02T06:23:40.873635Z",
     "iopub.status.busy": "2021-09-02T06:23:40.873170Z",
     "iopub.status.idle": "2021-09-02T06:23:40.884767Z",
     "shell.execute_reply": "2021-09-02T06:23:40.883369Z",
     "shell.execute_reply.started": "2021-09-02T06:23:40.873586Z"
    },
    "id": "n3H-O6HTQKvl",
    "outputId": "ee8c2ed4-6b8d-422d-add2-aea565489c23"
   },
   "outputs": [
    {
     "name": "stdout",
     "output_type": "stream",
     "text": [
      "[nltk_data] Downloading package stopwords to /root/nltk_data...\n",
      "[nltk_data]   Unzipping corpora/stopwords.zip.\n"
     ]
    }
   ],
   "source": [
    "\n",
    "nltk.download('stopwords')\n",
    "stopwords = set(nltk_stopwords.words('english'))\n"
   ]
  },
  {
   "cell_type": "code",
   "execution_count": 25,
   "metadata": {
    "execution": {
     "iopub.execute_input": "2021-09-02T06:23:40.886712Z",
     "iopub.status.busy": "2021-09-02T06:23:40.886323Z",
     "iopub.status.idle": "2021-09-02T06:23:40.896774Z",
     "shell.execute_reply": "2021-09-02T06:23:40.895239Z",
     "shell.execute_reply.started": "2021-09-02T06:23:40.886675Z"
    },
    "id": "N7sSqJ5sQWeD"
   },
   "outputs": [],
   "source": [
    "count_tf_idf = TfidfVectorizer(stop_words=stopwords)"
   ]
  },
  {
   "cell_type": "markdown",
   "metadata": {
    "id": "t1NvO_nv2RP5"
   },
   "source": [
    "Мы определили векторизатор.  \n",
    "Сначала он будет работать в `Pipeline`, затем обработаем им тексты полностью.  "
   ]
  },
  {
   "cell_type": "code",
   "execution_count": 26,
   "metadata": {
    "execution": {
     "iopub.execute_input": "2021-09-02T06:26:29.973916Z",
     "iopub.status.busy": "2021-09-02T06:26:29.973522Z",
     "iopub.status.idle": "2021-09-02T06:26:29.983616Z",
     "shell.execute_reply": "2021-09-02T06:26:29.982046Z",
     "shell.execute_reply.started": "2021-09-02T06:26:29.973885Z"
    },
    "id": "aYhacXdFY6yP"
   },
   "outputs": [],
   "source": [
    "# чтобы Векторизатор не учился на валидационной части при кросс-валидации тренировочной выборки:\n",
    "# воспользуемся Pipeline\n",
    "\n",
    "grid = {\n",
    "    'CBC': {\n",
    "        'model': Pipeline([\n",
    "            ('vekt', count_tf_idf),\n",
    "            ('cbc', CatBoostClassifier())\n",
    "            ]),\n",
    "        'parameters': {\n",
    "            'cbc__max_depth': [x for x in range(6, 8, 2)],\n",
    "            'cbc__n_estimators': [x for x in range(100, 125, 25)],\n",
    "            'cbc__silent': [True] \n",
    "        }\n",
    "    },\n",
    "    'LGBMC': {\n",
    "        'model': Pipeline([\n",
    "            ('vekt', count_tf_idf),\n",
    "            ('lgbmc', LGBMClassifier())\n",
    "            ]),\n",
    "        'parameters': {\n",
    "            'lgbmc__objective': ['binary'],\n",
    "            'lgbmc__verbosity': [-1],\n",
    "            'lgbmc__num_iterations': [750]\n",
    "        }\n",
    "    }\n",
    "}\n"
   ]
  },
  {
   "cell_type": "code",
   "execution_count": 27,
   "metadata": {
    "colab": {
     "base_uri": "https://localhost:8080/"
    },
    "execution": {
     "iopub.execute_input": "2021-09-02T06:27:21.296789Z",
     "iopub.status.busy": "2021-09-02T06:27:21.296281Z",
     "iopub.status.idle": "2021-09-02T06:27:21.378739Z",
     "shell.execute_reply": "2021-09-02T06:27:21.376848Z",
     "shell.execute_reply.started": "2021-09-02T06:27:21.296685Z"
    },
    "id": "C9nCKda2Y3na",
    "outputId": "c8f9d8ee-4b68-4007-86cd-b60af23c4b6c"
   },
   "outputs": [
    {
     "name": "stdout",
     "output_type": "stream",
     "text": [
      "Время работы (ч:м:с.мс) 0:27:39.198011\n"
     ]
    }
   ],
   "source": [
    "\n",
    "F1 = make_scorer(\n",
    "    f1_score,\n",
    "    greater_is_better=True\n",
    ")\n",
    "\n",
    "scores = []\n",
    "start_time = datetime.now()\n",
    "\n",
    "for model, parameter in grid.items():\n",
    "    GS_CV = GridSearchCV(\n",
    "        parameter['model'], \n",
    "        parameter['parameters'], \n",
    "        scoring = F1, \n",
    "        cv=2\n",
    "        )\n",
    "    \n",
    "    GS_CV.fit(\n",
    "        corpus_train,\n",
    "        y_train\n",
    "        )\n",
    "    \n",
    "    scores.append({\n",
    "    'model': model,\n",
    "    'best_train_score': round(GS_CV.best_score_, 3), \n",
    "    'best_parameters': GS_CV.best_params_\n",
    "    })\n",
    "        \n",
    "print('Время работы (ч:м:с.мс) {}'.format(datetime.now()-start_time))\n"
   ]
  },
  {
   "cell_type": "code",
   "execution_count": 28,
   "metadata": {
    "colab": {
     "base_uri": "https://localhost:8080/",
     "height": 111
    },
    "id": "oUTH6UdKYupy",
    "outputId": "9edf7438-a59c-4e04-d8b6-60303073c141"
   },
   "outputs": [
    {
     "data": {
      "text/html": [
       "<div>\n",
       "<style scoped>\n",
       "    .dataframe tbody tr th:only-of-type {\n",
       "        vertical-align: middle;\n",
       "    }\n",
       "\n",
       "    .dataframe tbody tr th {\n",
       "        vertical-align: top;\n",
       "    }\n",
       "\n",
       "    .dataframe thead th {\n",
       "        text-align: right;\n",
       "    }\n",
       "</style>\n",
       "<table border=\"1\" class=\"dataframe\">\n",
       "  <thead>\n",
       "    <tr style=\"text-align: right;\">\n",
       "      <th></th>\n",
       "      <th>model</th>\n",
       "      <th>best_parameters</th>\n",
       "      <th>best_train_score</th>\n",
       "    </tr>\n",
       "  </thead>\n",
       "  <tbody>\n",
       "    <tr>\n",
       "      <th>1</th>\n",
       "      <td>LGBMC</td>\n",
       "      <td>{'lgbmc__num_iterations': 750, 'lgbmc__objective': 'binary', 'lgbmc__verbosity': -1}</td>\n",
       "      <td>0.765</td>\n",
       "    </tr>\n",
       "    <tr>\n",
       "      <th>0</th>\n",
       "      <td>CBC</td>\n",
       "      <td>{'cbc__max_depth': 6, 'cbc__n_estimators': 100, 'cbc__silent': True}</td>\n",
       "      <td>0.734</td>\n",
       "    </tr>\n",
       "  </tbody>\n",
       "</table>\n",
       "</div>"
      ],
      "text/plain": [
       "   model  ... best_train_score\n",
       "1  LGBMC  ...            0.765\n",
       "0    CBC  ...            0.734\n",
       "\n",
       "[2 rows x 3 columns]"
      ]
     },
     "execution_count": 28,
     "metadata": {},
     "output_type": "execute_result"
    }
   ],
   "source": [
    "\n",
    "models_analysis = pd.DataFrame(scores, columns=[\n",
    "    'model',\n",
    "    'best_parameters',\n",
    "    'best_train_score',\n",
    "    'test_score',\n",
    "    'test_training_time', \n",
    "    'test_prediction_time'\n",
    "])\n",
    "models_analysis.iloc[:, :3].sort_values(by=['best_train_score'], ascending=False)\n"
   ]
  },
  {
   "cell_type": "markdown",
   "metadata": {
    "id": "TP92xPHHtK_I"
   },
   "source": [
    " Лучшей моделью стал `LGBMClassifier`  \n",
    " Удалось превзойти значение `F1`>=0.75"
   ]
  },
  {
   "cell_type": "markdown",
   "metadata": {
    "id": "PTR-M1VFotxS"
   },
   "source": [
    "## Обучение"
   ]
  },
  {
   "cell_type": "markdown",
   "metadata": {},
   "source": [
    "Проверим модель на тестовой выборке.  "
   ]
  },
  {
   "cell_type": "code",
   "execution_count": 29,
   "metadata": {
    "execution": {
     "iopub.execute_input": "2021-09-02T06:26:16.097854Z",
     "iopub.status.busy": "2021-09-02T06:26:16.097323Z",
     "iopub.status.idle": "2021-09-02T06:26:23.932032Z",
     "shell.execute_reply": "2021-09-02T06:26:23.930985Z",
     "shell.execute_reply.started": "2021-09-02T06:26:16.097809Z"
    },
    "id": "h8qFd_5b18Vl"
   },
   "outputs": [],
   "source": [
    "\n",
    "tf_idf_train = count_tf_idf.fit_transform(corpus_train)\n",
    "tf_idf_test = count_tf_idf.transform(corpus_test)\n"
   ]
  },
  {
   "cell_type": "markdown",
   "metadata": {},
   "source": [
    "Обработали тексты токенизатором."
   ]
  },
  {
   "cell_type": "code",
   "execution_count": 30,
   "metadata": {
    "id": "WTytPUxfotxS"
   },
   "outputs": [],
   "source": [
    "model = LGBMClassifier(num_boost_round=750, objective='binary', verbosity=-1)"
   ]
  },
  {
   "cell_type": "code",
   "execution_count": 31,
   "metadata": {
    "colab": {
     "base_uri": "https://localhost:8080/"
    },
    "id": "roB02XAdKhtZ",
    "outputId": "a313abf4-7cd2-4964-8d4e-401b772a0ada"
   },
   "outputs": [
    {
     "data": {
      "text/plain": [
       "LGBMClassifier(boosting_type='gbdt', class_weight=None, colsample_bytree=1.0,\n",
       "               importance_type='split', learning_rate=0.1, max_depth=-1,\n",
       "               min_child_samples=20, min_child_weight=0.001, min_split_gain=0.0,\n",
       "               n_estimators=100, n_jobs=-1, num_boost_round=750, num_leaves=31,\n",
       "               objective='binary', random_state=None, reg_alpha=0.0,\n",
       "               reg_lambda=0.0, silent=True, subsample=1.0,\n",
       "               subsample_for_bin=200000, subsample_freq=0, verbosity=-1)"
      ]
     },
     "execution_count": 31,
     "metadata": {},
     "output_type": "execute_result"
    }
   ],
   "source": [
    "model.fit(tf_idf_train, y_train)"
   ]
  },
  {
   "cell_type": "code",
   "execution_count": 32,
   "metadata": {
    "id": "GBKFo1IMKh4X"
   },
   "outputs": [],
   "source": [
    "predictions = model.predict(tf_idf_test)"
   ]
  },
  {
   "cell_type": "code",
   "execution_count": 33,
   "metadata": {
    "colab": {
     "base_uri": "https://localhost:8080/"
    },
    "id": "lUiOww14K01I",
    "outputId": "927162b7-94fc-4d3b-9a35-37b9ad7fa83c"
   },
   "outputs": [
    {
     "name": "stdout",
     "output_type": "stream",
     "text": [
      "              precision    recall  f1-score   support\n",
      "\n",
      "           0       0.97      0.99      0.98     35837\n",
      "           1       0.88      0.70      0.78      4056\n",
      "\n",
      "    accuracy                           0.96     39893\n",
      "   macro avg       0.92      0.84      0.88     39893\n",
      "weighted avg       0.96      0.96      0.96     39893\n",
      "\n"
     ]
    }
   ],
   "source": [
    "print(classification_report(y_test, predictions))"
   ]
  },
  {
   "cell_type": "markdown",
   "metadata": {
    "id": "lGD0jGYHtK_K"
   },
   "source": [
    "Результат стал еще лучше.  \n",
    "Сравним c `DummyClassifier`, константно предскажем везде единицу:"
   ]
  },
  {
   "cell_type": "code",
   "execution_count": 34,
   "metadata": {
    "colab": {
     "base_uri": "https://localhost:8080/"
    },
    "id": "iyqm0dyltK_K",
    "outputId": "ac16b45d-3df9-41fa-90a9-2b2c4f128821"
   },
   "outputs": [
    {
     "name": "stdout",
     "output_type": "stream",
     "text": [
      "F1 score для константной модели:  0.18\n"
     ]
    }
   ],
   "source": [
    "\n",
    "clf = DummyClassifier(strategy='constant', constant=1)\n",
    "\n",
    "clf.fit(tf_idf_train, y_train)\n",
    "predictions = clf.predict(tf_idf_test)\n",
    "\n",
    "print('F1 score для константной модели: ', f1_score(y_test, predictions).round(2))\n"
   ]
  },
  {
   "cell_type": "markdown",
   "metadata": {
    "id": "636MZeuStK_K"
   },
   "source": [
    "Наша модель явно лучше."
   ]
  },
  {
   "cell_type": "markdown",
   "metadata": {
    "id": "LFTEzGR3otxT"
   },
   "source": [
    "## Выводы"
   ]
  },
  {
   "cell_type": "markdown",
   "metadata": {
    "id": "CDrqQ4uxotxT"
   },
   "source": [
    " Для обработки текста мы попробовали сразу применить мощную модель `BERT`.  \n",
    " Однако для нашего случая, с ограниченными ресурсами, вполне можно обойтись и без нейронной сети.  \n",
    " Тем более, что с ней нам не удалось достичь желаемого результата.    \n",
    " С более простой моделью обработки тескта мы достигли `F1` меры > 0.75.  \n",
    " Лучшей моделью классификации стал `LGBMClassifier`  \n",
    " Не всегда применение ресурсных моделей оправдано на практике.  "
   ]
  }
 ],
 "metadata": {
  "accelerator": "GPU",
  "colab": {
   "collapsed_sections": [],
   "name": "1.ipynb",
   "provenance": []
  },
  "kernelspec": {
   "display_name": "Python 3",
   "language": "python",
   "name": "python3"
  },
  "language_info": {
   "codemirror_mode": {
    "name": "ipython",
    "version": 3
   },
   "file_extension": ".py",
   "mimetype": "text/x-python",
   "name": "python",
   "nbconvert_exporter": "python",
   "pygments_lexer": "ipython3",
   "version": "3.7.6"
  },
  "widgets": {
   "application/vnd.jupyter.widget-state+json": {
    "08893fe2105f43cbbed9e764da5323b3": {
     "model_module": "@jupyter-widgets/base",
     "model_module_version": "1.2.0",
     "model_name": "LayoutModel",
     "state": {
      "_model_module": "@jupyter-widgets/base",
      "_model_module_version": "1.2.0",
      "_model_name": "LayoutModel",
      "_view_count": null,
      "_view_module": "@jupyter-widgets/base",
      "_view_module_version": "1.2.0",
      "_view_name": "LayoutView",
      "align_content": null,
      "align_items": null,
      "align_self": null,
      "border": null,
      "bottom": null,
      "display": null,
      "flex": null,
      "flex_flow": null,
      "grid_area": null,
      "grid_auto_columns": null,
      "grid_auto_flow": null,
      "grid_auto_rows": null,
      "grid_column": null,
      "grid_gap": null,
      "grid_row": null,
      "grid_template_areas": null,
      "grid_template_columns": null,
      "grid_template_rows": null,
      "height": null,
      "justify_content": null,
      "justify_items": null,
      "left": null,
      "margin": null,
      "max_height": null,
      "max_width": null,
      "min_height": null,
      "min_width": null,
      "object_fit": null,
      "object_position": null,
      "order": null,
      "overflow": null,
      "overflow_x": null,
      "overflow_y": null,
      "padding": null,
      "right": null,
      "top": null,
      "visibility": null,
      "width": null
     }
    },
    "1fa5798dcd9046899816c4ea2401a61a": {
     "model_module": "@jupyter-widgets/controls",
     "model_module_version": "1.5.0",
     "model_name": "FloatProgressModel",
     "state": {
      "_dom_classes": [],
      "_model_module": "@jupyter-widgets/controls",
      "_model_module_version": "1.5.0",
      "_model_name": "FloatProgressModel",
      "_view_count": null,
      "_view_module": "@jupyter-widgets/controls",
      "_view_module_version": "1.5.0",
      "_view_name": "ProgressView",
      "bar_style": "success",
      "description": "",
      "description_tooltip": null,
      "layout": "IPY_MODEL_8d3b34373f084b25a96955c5f5ff62b6",
      "max": 3191,
      "min": 0,
      "orientation": "horizontal",
      "style": "IPY_MODEL_37e2cd0c6c184007b2041cf399ad9e1f",
      "value": 3191
     }
    },
    "32443dffd3dd4bfd9218ef4bac1da0b0": {
     "model_module": "@jupyter-widgets/base",
     "model_module_version": "1.2.0",
     "model_name": "LayoutModel",
     "state": {
      "_model_module": "@jupyter-widgets/base",
      "_model_module_version": "1.2.0",
      "_model_name": "LayoutModel",
      "_view_count": null,
      "_view_module": "@jupyter-widgets/base",
      "_view_module_version": "1.2.0",
      "_view_name": "LayoutView",
      "align_content": null,
      "align_items": null,
      "align_self": null,
      "border": null,
      "bottom": null,
      "display": null,
      "flex": null,
      "flex_flow": null,
      "grid_area": null,
      "grid_auto_columns": null,
      "grid_auto_flow": null,
      "grid_auto_rows": null,
      "grid_column": null,
      "grid_gap": null,
      "grid_row": null,
      "grid_template_areas": null,
      "grid_template_columns": null,
      "grid_template_rows": null,
      "height": null,
      "justify_content": null,
      "justify_items": null,
      "left": null,
      "margin": null,
      "max_height": null,
      "max_width": null,
      "min_height": null,
      "min_width": null,
      "object_fit": null,
      "object_position": null,
      "order": null,
      "overflow": null,
      "overflow_x": null,
      "overflow_y": null,
      "padding": null,
      "right": null,
      "top": null,
      "visibility": null,
      "width": null
     }
    },
    "34f134158e4a4770b72a43d00de9359f": {
     "model_module": "@jupyter-widgets/controls",
     "model_module_version": "1.5.0",
     "model_name": "HTMLModel",
     "state": {
      "_dom_classes": [],
      "_model_module": "@jupyter-widgets/controls",
      "_model_module_version": "1.5.0",
      "_model_name": "HTMLModel",
      "_view_count": null,
      "_view_module": "@jupyter-widgets/controls",
      "_view_module_version": "1.5.0",
      "_view_name": "HTMLView",
      "description": "",
      "description_tooltip": null,
      "layout": "IPY_MODEL_08893fe2105f43cbbed9e764da5323b3",
      "placeholder": "​",
      "style": "IPY_MODEL_503cd467675146f482167abb5d199fc5",
      "value": "100%"
     }
    },
    "37e2cd0c6c184007b2041cf399ad9e1f": {
     "model_module": "@jupyter-widgets/controls",
     "model_module_version": "1.5.0",
     "model_name": "ProgressStyleModel",
     "state": {
      "_model_module": "@jupyter-widgets/controls",
      "_model_module_version": "1.5.0",
      "_model_name": "ProgressStyleModel",
      "_view_count": null,
      "_view_module": "@jupyter-widgets/base",
      "_view_module_version": "1.2.0",
      "_view_name": "StyleView",
      "bar_color": null,
      "description_width": ""
     }
    },
    "503cd467675146f482167abb5d199fc5": {
     "model_module": "@jupyter-widgets/controls",
     "model_module_version": "1.5.0",
     "model_name": "DescriptionStyleModel",
     "state": {
      "_model_module": "@jupyter-widgets/controls",
      "_model_module_version": "1.5.0",
      "_model_name": "DescriptionStyleModel",
      "_view_count": null,
      "_view_module": "@jupyter-widgets/base",
      "_view_module_version": "1.2.0",
      "_view_name": "StyleView",
      "description_width": ""
     }
    },
    "589ec96b8c2e4311bef59a1b46f676f9": {
     "model_module": "@jupyter-widgets/base",
     "model_module_version": "1.2.0",
     "model_name": "LayoutModel",
     "state": {
      "_model_module": "@jupyter-widgets/base",
      "_model_module_version": "1.2.0",
      "_model_name": "LayoutModel",
      "_view_count": null,
      "_view_module": "@jupyter-widgets/base",
      "_view_module_version": "1.2.0",
      "_view_name": "LayoutView",
      "align_content": null,
      "align_items": null,
      "align_self": null,
      "border": null,
      "bottom": null,
      "display": null,
      "flex": null,
      "flex_flow": null,
      "grid_area": null,
      "grid_auto_columns": null,
      "grid_auto_flow": null,
      "grid_auto_rows": null,
      "grid_column": null,
      "grid_gap": null,
      "grid_row": null,
      "grid_template_areas": null,
      "grid_template_columns": null,
      "grid_template_rows": null,
      "height": null,
      "justify_content": null,
      "justify_items": null,
      "left": null,
      "margin": null,
      "max_height": null,
      "max_width": null,
      "min_height": null,
      "min_width": null,
      "object_fit": null,
      "object_position": null,
      "order": null,
      "overflow": null,
      "overflow_x": null,
      "overflow_y": null,
      "padding": null,
      "right": null,
      "top": null,
      "visibility": null,
      "width": null
     }
    },
    "5b4b5cc447eb49ba909a5dbf15b61444": {
     "model_module": "@jupyter-widgets/controls",
     "model_module_version": "1.5.0",
     "model_name": "HTMLModel",
     "state": {
      "_dom_classes": [],
      "_model_module": "@jupyter-widgets/controls",
      "_model_module_version": "1.5.0",
      "_model_name": "HTMLModel",
      "_view_count": null,
      "_view_module": "@jupyter-widgets/controls",
      "_view_module_version": "1.5.0",
      "_view_name": "HTMLView",
      "description": "",
      "description_tooltip": null,
      "layout": "IPY_MODEL_589ec96b8c2e4311bef59a1b46f676f9",
      "placeholder": "​",
      "style": "IPY_MODEL_9fe4d121503a473bb350956da3e9b0fd",
      "value": " 440M/440M [00:13&lt;00:00, 31.3MB/s]"
     }
    },
    "6cfaadc904ff4ae58c532343acd7dd81": {
     "model_module": "@jupyter-widgets/base",
     "model_module_version": "1.2.0",
     "model_name": "LayoutModel",
     "state": {
      "_model_module": "@jupyter-widgets/base",
      "_model_module_version": "1.2.0",
      "_model_name": "LayoutModel",
      "_view_count": null,
      "_view_module": "@jupyter-widgets/base",
      "_view_module_version": "1.2.0",
      "_view_name": "LayoutView",
      "align_content": null,
      "align_items": null,
      "align_self": null,
      "border": null,
      "bottom": null,
      "display": null,
      "flex": null,
      "flex_flow": null,
      "grid_area": null,
      "grid_auto_columns": null,
      "grid_auto_flow": null,
      "grid_auto_rows": null,
      "grid_column": null,
      "grid_gap": null,
      "grid_row": null,
      "grid_template_areas": null,
      "grid_template_columns": null,
      "grid_template_rows": null,
      "height": null,
      "justify_content": null,
      "justify_items": null,
      "left": null,
      "margin": null,
      "max_height": null,
      "max_width": null,
      "min_height": null,
      "min_width": null,
      "object_fit": null,
      "object_position": null,
      "order": null,
      "overflow": null,
      "overflow_x": null,
      "overflow_y": null,
      "padding": null,
      "right": null,
      "top": null,
      "visibility": null,
      "width": null
     }
    },
    "6e998c3692bd420c9a623f355c78ed62": {
     "model_module": "@jupyter-widgets/base",
     "model_module_version": "1.2.0",
     "model_name": "LayoutModel",
     "state": {
      "_model_module": "@jupyter-widgets/base",
      "_model_module_version": "1.2.0",
      "_model_name": "LayoutModel",
      "_view_count": null,
      "_view_module": "@jupyter-widgets/base",
      "_view_module_version": "1.2.0",
      "_view_name": "LayoutView",
      "align_content": null,
      "align_items": null,
      "align_self": null,
      "border": null,
      "bottom": null,
      "display": null,
      "flex": null,
      "flex_flow": null,
      "grid_area": null,
      "grid_auto_columns": null,
      "grid_auto_flow": null,
      "grid_auto_rows": null,
      "grid_column": null,
      "grid_gap": null,
      "grid_row": null,
      "grid_template_areas": null,
      "grid_template_columns": null,
      "grid_template_rows": null,
      "height": null,
      "justify_content": null,
      "justify_items": null,
      "left": null,
      "margin": null,
      "max_height": null,
      "max_width": null,
      "min_height": null,
      "min_width": null,
      "object_fit": null,
      "object_position": null,
      "order": null,
      "overflow": null,
      "overflow_x": null,
      "overflow_y": null,
      "padding": null,
      "right": null,
      "top": null,
      "visibility": null,
      "width": null
     }
    },
    "82472f546e9b4491a76e2f4663f73cda": {
     "model_module": "@jupyter-widgets/controls",
     "model_module_version": "1.5.0",
     "model_name": "HTMLModel",
     "state": {
      "_dom_classes": [],
      "_model_module": "@jupyter-widgets/controls",
      "_model_module_version": "1.5.0",
      "_model_name": "HTMLModel",
      "_view_count": null,
      "_view_module": "@jupyter-widgets/controls",
      "_view_module_version": "1.5.0",
      "_view_name": "HTMLView",
      "description": "",
      "description_tooltip": null,
      "layout": "IPY_MODEL_6cfaadc904ff4ae58c532343acd7dd81",
      "placeholder": "​",
      "style": "IPY_MODEL_d0867725dfa1485487d33edebd5e0ad7",
      "value": "Downloading: 100%"
     }
    },
    "8d3b34373f084b25a96955c5f5ff62b6": {
     "model_module": "@jupyter-widgets/base",
     "model_module_version": "1.2.0",
     "model_name": "LayoutModel",
     "state": {
      "_model_module": "@jupyter-widgets/base",
      "_model_module_version": "1.2.0",
      "_model_name": "LayoutModel",
      "_view_count": null,
      "_view_module": "@jupyter-widgets/base",
      "_view_module_version": "1.2.0",
      "_view_name": "LayoutView",
      "align_content": null,
      "align_items": null,
      "align_self": null,
      "border": null,
      "bottom": null,
      "display": null,
      "flex": null,
      "flex_flow": null,
      "grid_area": null,
      "grid_auto_columns": null,
      "grid_auto_flow": null,
      "grid_auto_rows": null,
      "grid_column": null,
      "grid_gap": null,
      "grid_row": null,
      "grid_template_areas": null,
      "grid_template_columns": null,
      "grid_template_rows": null,
      "height": null,
      "justify_content": null,
      "justify_items": null,
      "left": null,
      "margin": null,
      "max_height": null,
      "max_width": null,
      "min_height": null,
      "min_width": null,
      "object_fit": null,
      "object_position": null,
      "order": null,
      "overflow": null,
      "overflow_x": null,
      "overflow_y": null,
      "padding": null,
      "right": null,
      "top": null,
      "visibility": null,
      "width": null
     }
    },
    "93280ab109dd4889a1a0c96d89f7d4c1": {
     "model_module": "@jupyter-widgets/controls",
     "model_module_version": "1.5.0",
     "model_name": "HTMLModel",
     "state": {
      "_dom_classes": [],
      "_model_module": "@jupyter-widgets/controls",
      "_model_module_version": "1.5.0",
      "_model_name": "HTMLModel",
      "_view_count": null,
      "_view_module": "@jupyter-widgets/controls",
      "_view_module_version": "1.5.0",
      "_view_name": "HTMLView",
      "description": "",
      "description_tooltip": null,
      "layout": "IPY_MODEL_fdb89409afc64fdd96ba03817a2f9f38",
      "placeholder": "​",
      "style": "IPY_MODEL_c304b51b85654b288deb1760e09964b8",
      "value": " 3191/3191 [3:01:03&lt;00:00,  3.40s/it]"
     }
    },
    "9fe4d121503a473bb350956da3e9b0fd": {
     "model_module": "@jupyter-widgets/controls",
     "model_module_version": "1.5.0",
     "model_name": "DescriptionStyleModel",
     "state": {
      "_model_module": "@jupyter-widgets/controls",
      "_model_module_version": "1.5.0",
      "_model_name": "DescriptionStyleModel",
      "_view_count": null,
      "_view_module": "@jupyter-widgets/base",
      "_view_module_version": "1.2.0",
      "_view_name": "StyleView",
      "description_width": ""
     }
    },
    "a10dd864dc9d456b98aedb9047b6eb3e": {
     "model_module": "@jupyter-widgets/controls",
     "model_module_version": "1.5.0",
     "model_name": "FloatProgressModel",
     "state": {
      "_dom_classes": [],
      "_model_module": "@jupyter-widgets/controls",
      "_model_module_version": "1.5.0",
      "_model_name": "FloatProgressModel",
      "_view_count": null,
      "_view_module": "@jupyter-widgets/controls",
      "_view_module_version": "1.5.0",
      "_view_name": "ProgressView",
      "bar_style": "success",
      "description": "",
      "description_tooltip": null,
      "layout": "IPY_MODEL_6e998c3692bd420c9a623f355c78ed62",
      "max": 440473133,
      "min": 0,
      "orientation": "horizontal",
      "style": "IPY_MODEL_dea1fffaece54ed5b1cec122b43c692b",
      "value": 440473133
     }
    },
    "a588a0a3d84f48bd89a82570bff0fe6b": {
     "model_module": "@jupyter-widgets/controls",
     "model_module_version": "1.5.0",
     "model_name": "HBoxModel",
     "state": {
      "_dom_classes": [],
      "_model_module": "@jupyter-widgets/controls",
      "_model_module_version": "1.5.0",
      "_model_name": "HBoxModel",
      "_view_count": null,
      "_view_module": "@jupyter-widgets/controls",
      "_view_module_version": "1.5.0",
      "_view_name": "HBoxView",
      "box_style": "",
      "children": [
       "IPY_MODEL_34f134158e4a4770b72a43d00de9359f",
       "IPY_MODEL_1fa5798dcd9046899816c4ea2401a61a",
       "IPY_MODEL_93280ab109dd4889a1a0c96d89f7d4c1"
      ],
      "layout": "IPY_MODEL_efbaa58948644c3593807ad980e6b58c"
     }
    },
    "bc9bc37c79c549a4a86a5ff5015edec1": {
     "model_module": "@jupyter-widgets/controls",
     "model_module_version": "1.5.0",
     "model_name": "HBoxModel",
     "state": {
      "_dom_classes": [],
      "_model_module": "@jupyter-widgets/controls",
      "_model_module_version": "1.5.0",
      "_model_name": "HBoxModel",
      "_view_count": null,
      "_view_module": "@jupyter-widgets/controls",
      "_view_module_version": "1.5.0",
      "_view_name": "HBoxView",
      "box_style": "",
      "children": [
       "IPY_MODEL_82472f546e9b4491a76e2f4663f73cda",
       "IPY_MODEL_a10dd864dc9d456b98aedb9047b6eb3e",
       "IPY_MODEL_5b4b5cc447eb49ba909a5dbf15b61444"
      ],
      "layout": "IPY_MODEL_32443dffd3dd4bfd9218ef4bac1da0b0"
     }
    },
    "c304b51b85654b288deb1760e09964b8": {
     "model_module": "@jupyter-widgets/controls",
     "model_module_version": "1.5.0",
     "model_name": "DescriptionStyleModel",
     "state": {
      "_model_module": "@jupyter-widgets/controls",
      "_model_module_version": "1.5.0",
      "_model_name": "DescriptionStyleModel",
      "_view_count": null,
      "_view_module": "@jupyter-widgets/base",
      "_view_module_version": "1.2.0",
      "_view_name": "StyleView",
      "description_width": ""
     }
    },
    "d0867725dfa1485487d33edebd5e0ad7": {
     "model_module": "@jupyter-widgets/controls",
     "model_module_version": "1.5.0",
     "model_name": "DescriptionStyleModel",
     "state": {
      "_model_module": "@jupyter-widgets/controls",
      "_model_module_version": "1.5.0",
      "_model_name": "DescriptionStyleModel",
      "_view_count": null,
      "_view_module": "@jupyter-widgets/base",
      "_view_module_version": "1.2.0",
      "_view_name": "StyleView",
      "description_width": ""
     }
    },
    "dea1fffaece54ed5b1cec122b43c692b": {
     "model_module": "@jupyter-widgets/controls",
     "model_module_version": "1.5.0",
     "model_name": "ProgressStyleModel",
     "state": {
      "_model_module": "@jupyter-widgets/controls",
      "_model_module_version": "1.5.0",
      "_model_name": "ProgressStyleModel",
      "_view_count": null,
      "_view_module": "@jupyter-widgets/base",
      "_view_module_version": "1.2.0",
      "_view_name": "StyleView",
      "bar_color": null,
      "description_width": ""
     }
    },
    "efbaa58948644c3593807ad980e6b58c": {
     "model_module": "@jupyter-widgets/base",
     "model_module_version": "1.2.0",
     "model_name": "LayoutModel",
     "state": {
      "_model_module": "@jupyter-widgets/base",
      "_model_module_version": "1.2.0",
      "_model_name": "LayoutModel",
      "_view_count": null,
      "_view_module": "@jupyter-widgets/base",
      "_view_module_version": "1.2.0",
      "_view_name": "LayoutView",
      "align_content": null,
      "align_items": null,
      "align_self": null,
      "border": null,
      "bottom": null,
      "display": null,
      "flex": null,
      "flex_flow": null,
      "grid_area": null,
      "grid_auto_columns": null,
      "grid_auto_flow": null,
      "grid_auto_rows": null,
      "grid_column": null,
      "grid_gap": null,
      "grid_row": null,
      "grid_template_areas": null,
      "grid_template_columns": null,
      "grid_template_rows": null,
      "height": null,
      "justify_content": null,
      "justify_items": null,
      "left": null,
      "margin": null,
      "max_height": null,
      "max_width": null,
      "min_height": null,
      "min_width": null,
      "object_fit": null,
      "object_position": null,
      "order": null,
      "overflow": null,
      "overflow_x": null,
      "overflow_y": null,
      "padding": null,
      "right": null,
      "top": null,
      "visibility": null,
      "width": null
     }
    },
    "fdb89409afc64fdd96ba03817a2f9f38": {
     "model_module": "@jupyter-widgets/base",
     "model_module_version": "1.2.0",
     "model_name": "LayoutModel",
     "state": {
      "_model_module": "@jupyter-widgets/base",
      "_model_module_version": "1.2.0",
      "_model_name": "LayoutModel",
      "_view_count": null,
      "_view_module": "@jupyter-widgets/base",
      "_view_module_version": "1.2.0",
      "_view_name": "LayoutView",
      "align_content": null,
      "align_items": null,
      "align_self": null,
      "border": null,
      "bottom": null,
      "display": null,
      "flex": null,
      "flex_flow": null,
      "grid_area": null,
      "grid_auto_columns": null,
      "grid_auto_flow": null,
      "grid_auto_rows": null,
      "grid_column": null,
      "grid_gap": null,
      "grid_row": null,
      "grid_template_areas": null,
      "grid_template_columns": null,
      "grid_template_rows": null,
      "height": null,
      "justify_content": null,
      "justify_items": null,
      "left": null,
      "margin": null,
      "max_height": null,
      "max_width": null,
      "min_height": null,
      "min_width": null,
      "object_fit": null,
      "object_position": null,
      "order": null,
      "overflow": null,
      "overflow_x": null,
      "overflow_y": null,
      "padding": null,
      "right": null,
      "top": null,
      "visibility": null,
      "width": null
     }
    }
   }
  }
 },
 "nbformat": 4,
 "nbformat_minor": 1
}
