{
 "cells": [
  {
   "cell_type": "markdown",
   "metadata": {},
   "source": [
    "# Определение стоимости автомобилей"
   ]
  },
  {
   "cell_type": "markdown",
   "metadata": {},
   "source": [
    "В приложении, по продаже авто, хорошо бы иметь функцию определения рыночной стоимости.  \n",
    "Имеются данные: технические характеристики, комплектации и цены автомобилей.  \n",
    "Построим модель для определения стоимости.  \n",
    "\n",
    "Заказчику важны:\n",
    "\n",
    "- качество предсказания;\n",
    "- скорость предсказания;\n",
    "- время обучения."
   ]
  },
  {
   "cell_type": "markdown",
   "metadata": {},
   "source": [
    "Признаки:  \n",
    "\n",
    "`DateCrawled` — дата скачивания анкеты из базы  \n",
    "`VehicleType` — тип автомобильного кузова  \n",
    "`RegistrationYear` — год регистрации автомобиля  \n",
    "`Gearbox` — тип коробки передач  \n",
    "`Power` — мощность (л. с.)  \n",
    "`Model` — модель автомобиля  \n",
    "`Kilometer` — пробег (км)  \n",
    "`RegistrationMonth` — месяц регистрации автомобиля  \n",
    "`FuelType` — тип топлива  \n",
    "`Brand` — марка автомобиля  \n",
    "`NotRepaired` — была машина в ремонте или нет  \n",
    "`DateCreated` — дата создания анкеты  \n",
    "`NumberOfPictures` — количество фотографий автомобиля  \n",
    "`PostalCode` — почтовый индекс владельца анкеты (пользователя)  \n",
    "`LastSeen` — дата последней активности пользователя  \n",
    "\n",
    "Целевой признак:  \n",
    "\n",
    "`Price` — цена (евро)"
   ]
  },
  {
   "cell_type": "markdown",
   "metadata": {},
   "source": [
    "## Подготовка данных"
   ]
  },
  {
   "cell_type": "code",
   "execution_count": 1,
   "metadata": {},
   "outputs": [
    {
     "name": "stdout",
     "output_type": "stream",
     "text": [
      "Defaulting to user installation because normal site-packages is not writeable\n",
      "Requirement already up-to-date: seaborn in /home/jovyan/.local/lib/python3.7/site-packages (0.11.1)\n",
      "Requirement already satisfied, skipping upgrade: pandas>=0.23 in /opt/conda/lib/python3.7/site-packages (from seaborn) (0.25.1)\n",
      "Requirement already satisfied, skipping upgrade: matplotlib>=2.2 in /opt/conda/lib/python3.7/site-packages (from seaborn) (3.1.0)\n",
      "Requirement already satisfied, skipping upgrade: numpy>=1.15 in /opt/conda/lib/python3.7/site-packages (from seaborn) (1.19.5)\n",
      "Requirement already satisfied, skipping upgrade: scipy>=1.0 in /opt/conda/lib/python3.7/site-packages (from seaborn) (1.4.1)\n",
      "Requirement already satisfied, skipping upgrade: pytz>=2017.2 in /opt/conda/lib/python3.7/site-packages (from pandas>=0.23->seaborn) (2021.1)\n",
      "Requirement already satisfied, skipping upgrade: python-dateutil>=2.6.1 in /opt/conda/lib/python3.7/site-packages (from pandas>=0.23->seaborn) (2.8.1)\n",
      "Requirement already satisfied, skipping upgrade: pyparsing!=2.0.4,!=2.1.2,!=2.1.6,>=2.0.1 in /opt/conda/lib/python3.7/site-packages (from matplotlib>=2.2->seaborn) (2.4.7)\n",
      "Requirement already satisfied, skipping upgrade: cycler>=0.10 in /opt/conda/lib/python3.7/site-packages (from matplotlib>=2.2->seaborn) (0.10.0)\n",
      "Requirement already satisfied, skipping upgrade: kiwisolver>=1.0.1 in /opt/conda/lib/python3.7/site-packages (from matplotlib>=2.2->seaborn) (1.3.1)\n",
      "Requirement already satisfied, skipping upgrade: six>=1.5 in /opt/conda/lib/python3.7/site-packages (from python-dateutil>=2.6.1->pandas>=0.23->seaborn) (1.15.0)\n",
      "Defaulting to user installation because normal site-packages is not writeable\n",
      "Requirement already up-to-date: scikit-learn in /home/jovyan/.local/lib/python3.7/site-packages (0.24.2)\n",
      "Requirement already satisfied, skipping upgrade: joblib>=0.11 in /opt/conda/lib/python3.7/site-packages (from scikit-learn) (1.0.1)\n",
      "Requirement already satisfied, skipping upgrade: numpy>=1.13.3 in /opt/conda/lib/python3.7/site-packages (from scikit-learn) (1.19.5)\n",
      "Requirement already satisfied, skipping upgrade: scipy>=0.19.1 in /opt/conda/lib/python3.7/site-packages (from scikit-learn) (1.4.1)\n",
      "Requirement already satisfied, skipping upgrade: threadpoolctl>=2.0.0 in /home/jovyan/.local/lib/python3.7/site-packages (from scikit-learn) (2.2.0)\n"
     ]
    }
   ],
   "source": [
    "\n",
    "import random\n",
    "import warnings\n",
    "import numpy as np\n",
    "import pandas as pd\n",
    "!pip install seaborn -U\n",
    "import seaborn as sns\n",
    "sns.set(style='whitegrid')\n",
    "import lightgbm as lgb\n",
    "!pip install scikit-learn -U\n",
    "from datetime import datetime\n",
    "import matplotlib.pyplot as plt\n",
    "from sklearn.pipeline import Pipeline\n",
    "warnings.simplefilter(action='ignore')\n",
    "pd.set_option('display.max_rows', 300)\n",
    "from sklearn.metrics import make_scorer\n",
    "from sklearn.impute import SimpleImputer\n",
    "pd.set_option('display.max_colwidth', 200)\n",
    "from sklearn.metrics import mean_squared_error\n",
    "from sklearn.tree import DecisionTreeRegressor\n",
    "from sklearn.preprocessing import StandardScaler\n",
    "from sklearn.preprocessing import OrdinalEncoder\n",
    "from sklearn.model_selection import GridSearchCV\n",
    "from sklearn.linear_model import LinearRegression\n",
    "from sklearn.ensemble import RandomForestRegressor\n",
    "from sklearn.model_selection import train_test_split\n"
   ]
  },
  {
   "cell_type": "code",
   "execution_count": 2,
   "metadata": {},
   "outputs": [],
   "source": [
    "df = pd.read_csv('autos.csv')"
   ]
  },
  {
   "cell_type": "code",
   "execution_count": 3,
   "metadata": {
    "scrolled": true
   },
   "outputs": [
    {
     "data": {
      "text/html": [
       "<div>\n",
       "<style scoped>\n",
       "    .dataframe tbody tr th:only-of-type {\n",
       "        vertical-align: middle;\n",
       "    }\n",
       "\n",
       "    .dataframe tbody tr th {\n",
       "        vertical-align: top;\n",
       "    }\n",
       "\n",
       "    .dataframe thead th {\n",
       "        text-align: right;\n",
       "    }\n",
       "</style>\n",
       "<table border=\"1\" class=\"dataframe\">\n",
       "  <thead>\n",
       "    <tr style=\"text-align: right;\">\n",
       "      <th></th>\n",
       "      <th>DateCrawled</th>\n",
       "      <th>Price</th>\n",
       "      <th>VehicleType</th>\n",
       "      <th>RegistrationYear</th>\n",
       "      <th>Gearbox</th>\n",
       "      <th>Power</th>\n",
       "      <th>Model</th>\n",
       "      <th>Kilometer</th>\n",
       "      <th>RegistrationMonth</th>\n",
       "      <th>FuelType</th>\n",
       "      <th>Brand</th>\n",
       "      <th>NotRepaired</th>\n",
       "      <th>DateCreated</th>\n",
       "      <th>NumberOfPictures</th>\n",
       "      <th>PostalCode</th>\n",
       "      <th>LastSeen</th>\n",
       "    </tr>\n",
       "  </thead>\n",
       "  <tbody>\n",
       "    <tr>\n",
       "      <td>18734</td>\n",
       "      <td>2016-04-04 13:36:58</td>\n",
       "      <td>16900</td>\n",
       "      <td>bus</td>\n",
       "      <td>2010</td>\n",
       "      <td>auto</td>\n",
       "      <td>150</td>\n",
       "      <td>viano</td>\n",
       "      <td>150000</td>\n",
       "      <td>4</td>\n",
       "      <td>gasoline</td>\n",
       "      <td>mercedes_benz</td>\n",
       "      <td>no</td>\n",
       "      <td>2016-04-04 00:00:00</td>\n",
       "      <td>0</td>\n",
       "      <td>60326</td>\n",
       "      <td>2016-04-05 12:18:31</td>\n",
       "    </tr>\n",
       "    <tr>\n",
       "      <td>141787</td>\n",
       "      <td>2016-03-07 17:57:08</td>\n",
       "      <td>15500</td>\n",
       "      <td>other</td>\n",
       "      <td>2011</td>\n",
       "      <td>manual</td>\n",
       "      <td>143</td>\n",
       "      <td>1er</td>\n",
       "      <td>40000</td>\n",
       "      <td>5</td>\n",
       "      <td>gasoline</td>\n",
       "      <td>bmw</td>\n",
       "      <td>no</td>\n",
       "      <td>2016-03-07 00:00:00</td>\n",
       "      <td>0</td>\n",
       "      <td>35083</td>\n",
       "      <td>2016-04-06 20:19:15</td>\n",
       "    </tr>\n",
       "    <tr>\n",
       "      <td>37523</td>\n",
       "      <td>2016-03-24 09:37:02</td>\n",
       "      <td>3600</td>\n",
       "      <td>sedan</td>\n",
       "      <td>2004</td>\n",
       "      <td>manual</td>\n",
       "      <td>125</td>\n",
       "      <td>astra</td>\n",
       "      <td>150000</td>\n",
       "      <td>12</td>\n",
       "      <td>petrol</td>\n",
       "      <td>opel</td>\n",
       "      <td>no</td>\n",
       "      <td>2016-03-24 00:00:00</td>\n",
       "      <td>0</td>\n",
       "      <td>13627</td>\n",
       "      <td>2016-03-24 10:38:57</td>\n",
       "    </tr>\n",
       "    <tr>\n",
       "      <td>194192</td>\n",
       "      <td>2016-03-15 09:49:03</td>\n",
       "      <td>8990</td>\n",
       "      <td>sedan</td>\n",
       "      <td>2007</td>\n",
       "      <td>auto</td>\n",
       "      <td>224</td>\n",
       "      <td>c_klasse</td>\n",
       "      <td>150000</td>\n",
       "      <td>9</td>\n",
       "      <td>gasoline</td>\n",
       "      <td>mercedes_benz</td>\n",
       "      <td>no</td>\n",
       "      <td>2016-03-15 00:00:00</td>\n",
       "      <td>0</td>\n",
       "      <td>58135</td>\n",
       "      <td>2016-03-18 02:17:06</td>\n",
       "    </tr>\n",
       "    <tr>\n",
       "      <td>110210</td>\n",
       "      <td>2016-03-29 23:43:52</td>\n",
       "      <td>2500</td>\n",
       "      <td>other</td>\n",
       "      <td>1994</td>\n",
       "      <td>manual</td>\n",
       "      <td>68</td>\n",
       "      <td>transporter</td>\n",
       "      <td>150000</td>\n",
       "      <td>9</td>\n",
       "      <td>gasoline</td>\n",
       "      <td>volkswagen</td>\n",
       "      <td>no</td>\n",
       "      <td>2016-03-29 00:00:00</td>\n",
       "      <td>0</td>\n",
       "      <td>24598</td>\n",
       "      <td>2016-04-02 12:45:46</td>\n",
       "    </tr>\n",
       "    <tr>\n",
       "      <td>63295</td>\n",
       "      <td>2016-03-07 12:55:48</td>\n",
       "      <td>11000</td>\n",
       "      <td>wagon</td>\n",
       "      <td>2010</td>\n",
       "      <td>auto</td>\n",
       "      <td>177</td>\n",
       "      <td>5er</td>\n",
       "      <td>150000</td>\n",
       "      <td>10</td>\n",
       "      <td>gasoline</td>\n",
       "      <td>bmw</td>\n",
       "      <td>no</td>\n",
       "      <td>2016-03-07 00:00:00</td>\n",
       "      <td>0</td>\n",
       "      <td>6237</td>\n",
       "      <td>2016-04-04 02:16:33</td>\n",
       "    </tr>\n",
       "    <tr>\n",
       "      <td>299143</td>\n",
       "      <td>2016-03-24 17:48:59</td>\n",
       "      <td>1200</td>\n",
       "      <td>small</td>\n",
       "      <td>2003</td>\n",
       "      <td>NaN</td>\n",
       "      <td>58</td>\n",
       "      <td>clio</td>\n",
       "      <td>150000</td>\n",
       "      <td>3</td>\n",
       "      <td>petrol</td>\n",
       "      <td>renault</td>\n",
       "      <td>no</td>\n",
       "      <td>2016-03-24 00:00:00</td>\n",
       "      <td>0</td>\n",
       "      <td>25551</td>\n",
       "      <td>2016-03-24 17:48:59</td>\n",
       "    </tr>\n",
       "    <tr>\n",
       "      <td>236634</td>\n",
       "      <td>2016-03-27 09:57:43</td>\n",
       "      <td>12500</td>\n",
       "      <td>convertible</td>\n",
       "      <td>1977</td>\n",
       "      <td>auto</td>\n",
       "      <td>177</td>\n",
       "      <td>sl</td>\n",
       "      <td>150000</td>\n",
       "      <td>5</td>\n",
       "      <td>petrol</td>\n",
       "      <td>mercedes_benz</td>\n",
       "      <td>no</td>\n",
       "      <td>2016-03-27 00:00:00</td>\n",
       "      <td>0</td>\n",
       "      <td>53177</td>\n",
       "      <td>2016-03-27 10:38:40</td>\n",
       "    </tr>\n",
       "    <tr>\n",
       "      <td>44603</td>\n",
       "      <td>2016-04-02 18:38:59</td>\n",
       "      <td>1599</td>\n",
       "      <td>NaN</td>\n",
       "      <td>2016</td>\n",
       "      <td>manual</td>\n",
       "      <td>50</td>\n",
       "      <td>arosa</td>\n",
       "      <td>125000</td>\n",
       "      <td>10</td>\n",
       "      <td>NaN</td>\n",
       "      <td>seat</td>\n",
       "      <td>no</td>\n",
       "      <td>2016-04-02 00:00:00</td>\n",
       "      <td>0</td>\n",
       "      <td>2991</td>\n",
       "      <td>2016-04-06 18:16:10</td>\n",
       "    </tr>\n",
       "    <tr>\n",
       "      <td>251416</td>\n",
       "      <td>2016-03-20 23:53:52</td>\n",
       "      <td>1999</td>\n",
       "      <td>small</td>\n",
       "      <td>2002</td>\n",
       "      <td>manual</td>\n",
       "      <td>75</td>\n",
       "      <td>corsa</td>\n",
       "      <td>150000</td>\n",
       "      <td>1</td>\n",
       "      <td>petrol</td>\n",
       "      <td>opel</td>\n",
       "      <td>NaN</td>\n",
       "      <td>2016-03-20 00:00:00</td>\n",
       "      <td>0</td>\n",
       "      <td>46537</td>\n",
       "      <td>2016-03-21 04:41:29</td>\n",
       "    </tr>\n",
       "  </tbody>\n",
       "</table>\n",
       "</div>"
      ],
      "text/plain": [
       "                DateCrawled  Price  VehicleType  RegistrationYear Gearbox  \\\n",
       "18734   2016-04-04 13:36:58  16900          bus              2010    auto   \n",
       "141787  2016-03-07 17:57:08  15500        other              2011  manual   \n",
       "37523   2016-03-24 09:37:02   3600        sedan              2004  manual   \n",
       "194192  2016-03-15 09:49:03   8990        sedan              2007    auto   \n",
       "110210  2016-03-29 23:43:52   2500        other              1994  manual   \n",
       "63295   2016-03-07 12:55:48  11000        wagon              2010    auto   \n",
       "299143  2016-03-24 17:48:59   1200        small              2003     NaN   \n",
       "236634  2016-03-27 09:57:43  12500  convertible              1977    auto   \n",
       "44603   2016-04-02 18:38:59   1599          NaN              2016  manual   \n",
       "251416  2016-03-20 23:53:52   1999        small              2002  manual   \n",
       "\n",
       "        Power        Model  Kilometer  RegistrationMonth  FuelType  \\\n",
       "18734     150        viano     150000                  4  gasoline   \n",
       "141787    143          1er      40000                  5  gasoline   \n",
       "37523     125        astra     150000                 12    petrol   \n",
       "194192    224     c_klasse     150000                  9  gasoline   \n",
       "110210     68  transporter     150000                  9  gasoline   \n",
       "63295     177          5er     150000                 10  gasoline   \n",
       "299143     58         clio     150000                  3    petrol   \n",
       "236634    177           sl     150000                  5    petrol   \n",
       "44603      50        arosa     125000                 10       NaN   \n",
       "251416     75        corsa     150000                  1    petrol   \n",
       "\n",
       "                Brand NotRepaired          DateCreated  NumberOfPictures  \\\n",
       "18734   mercedes_benz          no  2016-04-04 00:00:00                 0   \n",
       "141787            bmw          no  2016-03-07 00:00:00                 0   \n",
       "37523            opel          no  2016-03-24 00:00:00                 0   \n",
       "194192  mercedes_benz          no  2016-03-15 00:00:00                 0   \n",
       "110210     volkswagen          no  2016-03-29 00:00:00                 0   \n",
       "63295             bmw          no  2016-03-07 00:00:00                 0   \n",
       "299143        renault          no  2016-03-24 00:00:00                 0   \n",
       "236634  mercedes_benz          no  2016-03-27 00:00:00                 0   \n",
       "44603            seat          no  2016-04-02 00:00:00                 0   \n",
       "251416           opel         NaN  2016-03-20 00:00:00                 0   \n",
       "\n",
       "        PostalCode             LastSeen  \n",
       "18734        60326  2016-04-05 12:18:31  \n",
       "141787       35083  2016-04-06 20:19:15  \n",
       "37523        13627  2016-03-24 10:38:57  \n",
       "194192       58135  2016-03-18 02:17:06  \n",
       "110210       24598  2016-04-02 12:45:46  \n",
       "63295         6237  2016-04-04 02:16:33  \n",
       "299143       25551  2016-03-24 17:48:59  \n",
       "236634       53177  2016-03-27 10:38:40  \n",
       "44603         2991  2016-04-06 18:16:10  \n",
       "251416       46537  2016-03-21 04:41:29  "
      ]
     },
     "execution_count": 3,
     "metadata": {},
     "output_type": "execute_result"
    }
   ],
   "source": [
    "df.sample(n=10, random_state=12345)"
   ]
  },
  {
   "cell_type": "markdown",
   "metadata": {},
   "source": [
    "Переименуем столбцы в `snake_case`:"
   ]
  },
  {
   "cell_type": "code",
   "execution_count": 4,
   "metadata": {},
   "outputs": [],
   "source": [
    "\n",
    "snake_case_columns =\\\n",
    "[\n",
    "    'date_crawled',\n",
    "    'price',\n",
    "    'vehicle_type',\n",
    "    'registration_year',\n",
    "    'gearbox',\n",
    "    'power',\n",
    "    'model',\n",
    "    'kilometer',\n",
    "    'registration_month',\n",
    "    'fuel_type',\n",
    "    'brand',\n",
    "    'not_repaired',\n",
    "    'date_created',\n",
    "    'number_of_pictures',\n",
    "    'postal_code',\n",
    "    'last_seen'\n",
    "]\n"
   ]
  },
  {
   "cell_type": "code",
   "execution_count": 5,
   "metadata": {
    "scrolled": true
   },
   "outputs": [
    {
     "data": {
      "text/plain": [
       "['date_crawled',\n",
       " 'price',\n",
       " 'vehicle_type',\n",
       " 'registration_year',\n",
       " 'gearbox',\n",
       " 'power',\n",
       " 'model',\n",
       " 'kilometer',\n",
       " 'registration_month',\n",
       " 'fuel_type',\n",
       " 'brand',\n",
       " 'not_repaired',\n",
       " 'date_created',\n",
       " 'number_of_pictures',\n",
       " 'postal_code',\n",
       " 'last_seen']"
      ]
     },
     "execution_count": 5,
     "metadata": {},
     "output_type": "execute_result"
    }
   ],
   "source": [
    "\n",
    "df.set_axis(snake_case_columns, axis=1, inplace=True)\n",
    "list(df)\n"
   ]
  },
  {
   "cell_type": "code",
   "execution_count": 6,
   "metadata": {},
   "outputs": [
    {
     "name": "stdout",
     "output_type": "stream",
     "text": [
      "<class 'pandas.core.frame.DataFrame'>\n",
      "RangeIndex: 354369 entries, 0 to 354368\n",
      "Data columns (total 16 columns):\n",
      "date_crawled          354369 non-null object\n",
      "price                 354369 non-null int64\n",
      "vehicle_type          316879 non-null object\n",
      "registration_year     354369 non-null int64\n",
      "gearbox               334536 non-null object\n",
      "power                 354369 non-null int64\n",
      "model                 334664 non-null object\n",
      "kilometer             354369 non-null int64\n",
      "registration_month    354369 non-null int64\n",
      "fuel_type             321474 non-null object\n",
      "brand                 354369 non-null object\n",
      "not_repaired          283215 non-null object\n",
      "date_created          354369 non-null object\n",
      "number_of_pictures    354369 non-null int64\n",
      "postal_code           354369 non-null int64\n",
      "last_seen             354369 non-null object\n",
      "dtypes: int64(7), object(9)\n",
      "memory usage: 217.0 MB\n"
     ]
    }
   ],
   "source": [
    "df.info(memory_usage='deep')"
   ]
  },
  {
   "cell_type": "markdown",
   "metadata": {},
   "source": [
    "Памяти занято немного, оптимизация не требуется.  \n",
    "Приведем ячейки с датами к нужному формату:"
   ]
  },
  {
   "cell_type": "code",
   "execution_count": 7,
   "metadata": {},
   "outputs": [],
   "source": [
    "\n",
    "date_time_columns = ['date_crawled', 'date_created', 'last_seen']\n",
    "for column in date_time_columns:\n",
    "    df[column] = pd.to_datetime(df[column])\n"
   ]
  },
  {
   "cell_type": "code",
   "execution_count": 8,
   "metadata": {},
   "outputs": [
    {
     "data": {
      "text/plain": [
       "date_crawled    datetime64[ns]\n",
       "date_created    datetime64[ns]\n",
       "last_seen       datetime64[ns]\n",
       "dtype: object"
      ]
     },
     "execution_count": 8,
     "metadata": {},
     "output_type": "execute_result"
    }
   ],
   "source": [
    "df[date_time_columns].dtypes"
   ]
  },
  {
   "cell_type": "code",
   "execution_count": 9,
   "metadata": {},
   "outputs": [
    {
     "data": {
      "text/html": [
       "<div>\n",
       "<style scoped>\n",
       "    .dataframe tbody tr th:only-of-type {\n",
       "        vertical-align: middle;\n",
       "    }\n",
       "\n",
       "    .dataframe tbody tr th {\n",
       "        vertical-align: top;\n",
       "    }\n",
       "\n",
       "    .dataframe thead th {\n",
       "        text-align: right;\n",
       "    }\n",
       "</style>\n",
       "<table border=\"1\" class=\"dataframe\">\n",
       "  <thead>\n",
       "    <tr style=\"text-align: right;\">\n",
       "      <th></th>\n",
       "      <th>count</th>\n",
       "      <th>mean</th>\n",
       "      <th>std</th>\n",
       "      <th>min</th>\n",
       "      <th>25%</th>\n",
       "      <th>50%</th>\n",
       "      <th>75%</th>\n",
       "      <th>max</th>\n",
       "    </tr>\n",
       "  </thead>\n",
       "  <tbody>\n",
       "    <tr>\n",
       "      <td>price</td>\n",
       "      <td>354369.0</td>\n",
       "      <td>4416.66</td>\n",
       "      <td>4514.16</td>\n",
       "      <td>0.0</td>\n",
       "      <td>1050.0</td>\n",
       "      <td>2700.0</td>\n",
       "      <td>6400.0</td>\n",
       "      <td>20000.0</td>\n",
       "    </tr>\n",
       "    <tr>\n",
       "      <td>registration_year</td>\n",
       "      <td>354369.0</td>\n",
       "      <td>2004.23</td>\n",
       "      <td>90.23</td>\n",
       "      <td>1000.0</td>\n",
       "      <td>1999.0</td>\n",
       "      <td>2003.0</td>\n",
       "      <td>2008.0</td>\n",
       "      <td>9999.0</td>\n",
       "    </tr>\n",
       "    <tr>\n",
       "      <td>power</td>\n",
       "      <td>354369.0</td>\n",
       "      <td>110.09</td>\n",
       "      <td>189.85</td>\n",
       "      <td>0.0</td>\n",
       "      <td>69.0</td>\n",
       "      <td>105.0</td>\n",
       "      <td>143.0</td>\n",
       "      <td>20000.0</td>\n",
       "    </tr>\n",
       "    <tr>\n",
       "      <td>kilometer</td>\n",
       "      <td>354369.0</td>\n",
       "      <td>128211.17</td>\n",
       "      <td>37905.34</td>\n",
       "      <td>5000.0</td>\n",
       "      <td>125000.0</td>\n",
       "      <td>150000.0</td>\n",
       "      <td>150000.0</td>\n",
       "      <td>150000.0</td>\n",
       "    </tr>\n",
       "    <tr>\n",
       "      <td>registration_month</td>\n",
       "      <td>354369.0</td>\n",
       "      <td>5.71</td>\n",
       "      <td>3.73</td>\n",
       "      <td>0.0</td>\n",
       "      <td>3.0</td>\n",
       "      <td>6.0</td>\n",
       "      <td>9.0</td>\n",
       "      <td>12.0</td>\n",
       "    </tr>\n",
       "    <tr>\n",
       "      <td>number_of_pictures</td>\n",
       "      <td>354369.0</td>\n",
       "      <td>0.00</td>\n",
       "      <td>0.00</td>\n",
       "      <td>0.0</td>\n",
       "      <td>0.0</td>\n",
       "      <td>0.0</td>\n",
       "      <td>0.0</td>\n",
       "      <td>0.0</td>\n",
       "    </tr>\n",
       "    <tr>\n",
       "      <td>postal_code</td>\n",
       "      <td>354369.0</td>\n",
       "      <td>50508.69</td>\n",
       "      <td>25783.10</td>\n",
       "      <td>1067.0</td>\n",
       "      <td>30165.0</td>\n",
       "      <td>49413.0</td>\n",
       "      <td>71083.0</td>\n",
       "      <td>99998.0</td>\n",
       "    </tr>\n",
       "  </tbody>\n",
       "</table>\n",
       "</div>"
      ],
      "text/plain": [
       "                       count       mean       std     min       25%       50%  \\\n",
       "price               354369.0    4416.66   4514.16     0.0    1050.0    2700.0   \n",
       "registration_year   354369.0    2004.23     90.23  1000.0    1999.0    2003.0   \n",
       "power               354369.0     110.09    189.85     0.0      69.0     105.0   \n",
       "kilometer           354369.0  128211.17  37905.34  5000.0  125000.0  150000.0   \n",
       "registration_month  354369.0       5.71      3.73     0.0       3.0       6.0   \n",
       "number_of_pictures  354369.0       0.00      0.00     0.0       0.0       0.0   \n",
       "postal_code         354369.0   50508.69  25783.10  1067.0   30165.0   49413.0   \n",
       "\n",
       "                         75%       max  \n",
       "price                 6400.0   20000.0  \n",
       "registration_year     2008.0    9999.0  \n",
       "power                  143.0   20000.0  \n",
       "kilometer           150000.0  150000.0  \n",
       "registration_month       9.0      12.0  \n",
       "number_of_pictures       0.0       0.0  \n",
       "postal_code          71083.0   99998.0  "
      ]
     },
     "execution_count": 9,
     "metadata": {},
     "output_type": "execute_result"
    }
   ],
   "source": [
    "df.describe().T.round(2)"
   ]
  },
  {
   "cell_type": "markdown",
   "metadata": {},
   "source": [
    "Разве может авто стоить `0`?  \n",
    "- Так как это целевой признак, мы не будем пытаться заполнить нули, удалим их. \n",
    "\n",
    "Год регистрации имеет странные крайние значения.  \n",
    "- Нужно рассмотреть колонку с годом регистрации. \n",
    "\n",
    "Мощность тоже или слишком мала или высока.\n",
    "- Нужно рассмотреть колонку с мощностью.\n",
    "\n",
    "По пробегу видно что он ограничен 150 000км, возможно продавцы не хотят указывать больше.  \n",
    "Если это так то будет проблема с точным определением цены, ведь точный пробег неизвестен и под 150 000км может скрываться большой скрытый разброс.  \n",
    "\n",
    "Число фотографий как будто везде отсутствует.\n",
    "- Нужно рассмотреть колонку с числом фото."
   ]
  },
  {
   "cell_type": "markdown",
   "metadata": {},
   "source": [
    "Уберем строки с нулевой ценой, врядли пользователь обрадуется если его авто модель так оценит.  "
   ]
  },
  {
   "cell_type": "code",
   "execution_count": 10,
   "metadata": {},
   "outputs": [],
   "source": [
    "df = df[df['price']>0].reset_index(drop=True)"
   ]
  },
  {
   "cell_type": "markdown",
   "metadata": {},
   "source": [
    "Посмотрим на год регистрации, он должен быть от 1885 до 2021 года:    "
   ]
  },
  {
   "cell_type": "code",
   "execution_count": 11,
   "metadata": {},
   "outputs": [
    {
     "data": {
      "image/png": "[encoded data removed]",
      "text/plain": [
       "<Figure size 640x360 with 1 Axes>"
      ]
     },
     "metadata": {},
     "output_type": "display_data"
    }
   ],
   "source": [
    "sns.displot(\n",
    "    data=df['registration_year'][(df['registration_year']<2021) & (df['registration_year']>1885)], \n",
    "    kde=True, \n",
    "    aspect=16/9\n",
    ");"
   ]
  },
  {
   "cell_type": "markdown",
   "metadata": {},
   "source": [
    "Видно что есть провал продаж примерно между тремя и восемью годами с момента регистрации.  \n",
    "В это время владельцы авто предпочитают ездить на нем сами.  \n",
    "Ограничимся диапазоном от 1970 до 2020 года:  "
   ]
  },
  {
   "cell_type": "code",
   "execution_count": 12,
   "metadata": {},
   "outputs": [],
   "source": [
    "df = df[(df['registration_year']<2020) & (df['registration_year']>1970)].reset_index(drop=True)"
   ]
  },
  {
   "cell_type": "markdown",
   "metadata": {},
   "source": [
    "Поработаем с мощностью:  "
   ]
  },
  {
   "cell_type": "code",
   "execution_count": 13,
   "metadata": {},
   "outputs": [
    {
     "data": {
      "image/png": "[encoded data removed]",
      "text/plain": [
       "<Figure size 640x360 with 1 Axes>"
      ]
     },
     "metadata": {},
     "output_type": "display_data"
    }
   ],
   "source": [
    "sns.displot(data=df['power'][df['power']<375], kde=True, aspect=16/9);"
   ]
  },
  {
   "cell_type": "markdown",
   "metadata": {},
   "source": [
    "Оставим диапазон до 350л.с., нулей слишком много, заполним их позже:"
   ]
  },
  {
   "cell_type": "code",
   "execution_count": 14,
   "metadata": {},
   "outputs": [],
   "source": [
    "df = df[df['power']<350].reset_index(drop=True)"
   ]
  },
  {
   "cell_type": "markdown",
   "metadata": {},
   "source": [
    "Уберем колонки в которых везде только одно значение (`number_of_pictures`?), они на результат не влияют:"
   ]
  },
  {
   "cell_type": "code",
   "execution_count": 15,
   "metadata": {},
   "outputs": [],
   "source": [
    "df = df[[column for column in df.columns if len(df[column].unique()) > 1]]"
   ]
  },
  {
   "cell_type": "code",
   "execution_count": 16,
   "metadata": {},
   "outputs": [
    {
     "data": {
      "text/plain": [
       "15"
      ]
     },
     "execution_count": 16,
     "metadata": {},
     "output_type": "execute_result"
    }
   ],
   "source": [
    "len(df.columns)"
   ]
  },
  {
   "cell_type": "code",
   "execution_count": 17,
   "metadata": {},
   "outputs": [
    {
     "data": {
      "text/plain": [
       "['date_crawled',\n",
       " 'price',\n",
       " 'vehicle_type',\n",
       " 'registration_year',\n",
       " 'gearbox',\n",
       " 'power',\n",
       " 'model',\n",
       " 'kilometer',\n",
       " 'registration_month',\n",
       " 'fuel_type',\n",
       " 'brand',\n",
       " 'not_repaired',\n",
       " 'date_created',\n",
       " 'postal_code',\n",
       " 'last_seen']"
      ]
     },
     "execution_count": 17,
     "metadata": {},
     "output_type": "execute_result"
    }
   ],
   "source": [
    "list(df)"
   ]
  },
  {
   "cell_type": "markdown",
   "metadata": {},
   "source": [
    "Да, мы были правы насчет колонки с числом фотографий, в ней небыло значений кроме нуля.  \n",
    "Сейчас удалилась одна колонка, и это именно `number_of_pictures`  \n",
    "Нужно спросить у разработчиков почему эта колонка не была верно заполнена, а пока поработаем без нее."
   ]
  },
  {
   "cell_type": "markdown",
   "metadata": {},
   "source": [
    "Проверим оставшиеся нулевые значения:  "
   ]
  },
  {
   "cell_type": "code",
   "execution_count": 18,
   "metadata": {},
   "outputs": [
    {
     "name": "stdout",
     "output_type": "stream",
     "text": [
      "power 35711\n",
      "registration_month 32335\n"
     ]
    }
   ],
   "source": [
    "\n",
    "for column in df.columns:\n",
    "    num_of_zeros_in_column = df[column][df[column]==0].count()\n",
    "    if num_of_zeros_in_column > 0:\n",
    "        print(column, num_of_zeros_in_column)\n",
    "    "
   ]
  },
  {
   "cell_type": "markdown",
   "metadata": {},
   "source": [
    "Число нулей в этих колонках существенно, и нулей здесь быть не может, лучше их заменить на адекватные значения.    \n",
    "Чтобы было удобно с ними работать, сначала заменим их на `nan`, а потом заполним адекватными значениями."
   ]
  },
  {
   "cell_type": "code",
   "execution_count": 19,
   "metadata": {},
   "outputs": [],
   "source": [
    "df[['power', 'registration_month']] = df[['power', 'registration_month']].replace(0, np.NaN)"
   ]
  },
  {
   "cell_type": "markdown",
   "metadata": {},
   "source": [
    "Проверим общее количество пропусков в данных:  "
   ]
  },
  {
   "cell_type": "code",
   "execution_count": 20,
   "metadata": {},
   "outputs": [
    {
     "data": {
      "text/plain": [
       "not_repaired          0.191\n",
       "power                 0.105\n",
       "vehicle_type          0.098\n",
       "registration_month    0.095\n",
       "fuel_type             0.085\n",
       "model                 0.050\n",
       "gearbox               0.049\n",
       "last_seen             0.000\n",
       "postal_code           0.000\n",
       "date_created          0.000\n",
       "brand                 0.000\n",
       "kilometer             0.000\n",
       "registration_year     0.000\n",
       "price                 0.000\n",
       "date_crawled          0.000\n",
       "dtype: float64"
      ]
     },
     "execution_count": 20,
     "metadata": {},
     "output_type": "execute_result"
    }
   ],
   "source": [
    "df.isnull().mean().sort_values(ascending=False).round(3)"
   ]
  },
  {
   "cell_type": "markdown",
   "metadata": {},
   "source": [
    "`not_repaired` заполним случайными значениями, так мы не можем точно сказать было авто в ремонте или нет.  \n",
    "Тоже самое с `registration_month`  "
   ]
  },
  {
   "cell_type": "code",
   "execution_count": 21,
   "metadata": {},
   "outputs": [
    {
     "data": {
      "text/plain": [
       "no     242151\n",
       "yes     33773\n",
       "Name: not_repaired, dtype: int64"
      ]
     },
     "execution_count": 21,
     "metadata": {},
     "output_type": "execute_result"
    }
   ],
   "source": [
    "df['not_repaired'].value_counts()"
   ]
  },
  {
   "cell_type": "markdown",
   "metadata": {},
   "source": [
    "Заполним пустые значения случайным образом с учетом вероятности ремонта.  "
   ]
  },
  {
   "cell_type": "code",
   "execution_count": 22,
   "metadata": {},
   "outputs": [],
   "source": [
    "\n",
    "num_of_no = len(\n",
    "    df.query('not_repaired == \"no\"')\n",
    ")\n",
    "num_of_yes = len(\n",
    "    df.query('not_repaired == \"yes\"')\n",
    ")\n",
    "random_repair = []\n",
    "\n",
    "for i in range(\n",
    "    len(\n",
    "        df['not_repaired'][df['not_repaired'].isnull()]\n",
    "    )\n",
    "):\n",
    "    random_repair.append(\n",
    "        random.choices(\n",
    "            ['no', 'yes'],\n",
    "            weights=[num_of_no, num_of_yes]\n",
    "        )\n",
    "    )\n",
    "    \n",
    "df['not_repaired'][df['not_repaired'].isnull()] = random_repair\n"
   ]
  },
  {
   "cell_type": "markdown",
   "metadata": {},
   "source": [
    "Заполним пустые значения `registration_month` случайным образом с учетом их вероятности.  "
   ]
  },
  {
   "cell_type": "code",
   "execution_count": 23,
   "metadata": {},
   "outputs": [
    {
     "data": {
      "text/plain": [
       "1.0     22399\n",
       "2.0     20667\n",
       "3.0     33617\n",
       "4.0     28525\n",
       "5.0     28369\n",
       "6.0     30615\n",
       "7.0     26377\n",
       "8.0     22012\n",
       "9.0     23237\n",
       "10.0    25479\n",
       "11.0    23644\n",
       "12.0    23632\n",
       "Name: registration_month, dtype: int64"
      ]
     },
     "execution_count": 23,
     "metadata": {},
     "output_type": "execute_result"
    }
   ],
   "source": [
    "df['registration_month'].value_counts().sort_index()"
   ]
  },
  {
   "cell_type": "code",
   "execution_count": 24,
   "metadata": {},
   "outputs": [],
   "source": [
    "\n",
    "random_month = []\n",
    "weights = []\n",
    "\n",
    "for month in range(1, 13):\n",
    "    weights.append(\n",
    "        len(\n",
    "            df.query('registration_month == @month')\n",
    "           )\n",
    "    )\n",
    "\n",
    "for i in range(\n",
    "    len(\n",
    "        df['registration_month'][df['registration_month'].isnull()]\n",
    "    )\n",
    "):\n",
    "    random_month.append(\n",
    "        random.choices(\n",
    "            [1, 2, 3, 4, 5, 6, 7, 8, 9, 10, 11, 12],\n",
    "            weights=weights\n",
    "        )\n",
    "    )\n",
    "    \n",
    "df['registration_month'][df['registration_month'].isnull()] = random_month\n"
   ]
  },
  {
   "cell_type": "markdown",
   "metadata": {},
   "source": [
    "Заполним остальные ключевым словом `unknown` для категорий, и медианным значением по группе для мощности."
   ]
  },
  {
   "cell_type": "code",
   "execution_count": 25,
   "metadata": {},
   "outputs": [],
   "source": [
    "\n",
    "imputer = SimpleImputer(strategy='constant', fill_value='unknown')\n",
    "df[['vehicle_type','fuel_type','model', 'gearbox']] =\\\n",
    "imputer.fit_transform(df[['vehicle_type','fuel_type','model', 'gearbox']])\n"
   ]
  },
  {
   "cell_type": "markdown",
   "metadata": {},
   "source": [
    "Проверим сколько уникальных значений скрывается в каждой колонке, расммотрим некоторые из них:      "
   ]
  },
  {
   "cell_type": "code",
   "execution_count": 26,
   "metadata": {},
   "outputs": [
    {
     "name": "stdout",
     "output_type": "stream",
     "text": [
      "date_crawled          263667\n",
      "price                   3717\n",
      "vehicle_type               9\n",
      "registration_year         49\n",
      "gearbox                    3\n",
      "power                    343\n",
      "model                    251\n",
      "kilometer                 13\n",
      "registration_month        12\n",
      "fuel_type                  8\n",
      "brand                     40\n",
      "not_repaired               2\n",
      "date_created             109\n",
      "postal_code             8137\n",
      "last_seen             173675\n",
      "dtype: int64\n"
     ]
    }
   ],
   "source": [
    "print(df.nunique())"
   ]
  },
  {
   "cell_type": "markdown",
   "metadata": {},
   "source": [
    "Есть и сотни тысяч и менее десяти.  "
   ]
  },
  {
   "cell_type": "code",
   "execution_count": 27,
   "metadata": {},
   "outputs": [
    {
     "data": {
      "text/plain": [
       "vehicle_type\n",
       "bus            28284\n",
       "convertible    19704\n",
       "coupe          15280\n",
       "other           2981\n",
       "sedan          88508\n",
       "small          77810\n",
       "suv            11606\n",
       "unknown        33262\n",
       "wagon          63473\n",
       "Name: vehicle_type, dtype: int64"
      ]
     },
     "execution_count": 27,
     "metadata": {},
     "output_type": "execute_result"
    }
   ],
   "source": [
    "df.groupby(['vehicle_type'])['vehicle_type'].count()"
   ]
  },
  {
   "cell_type": "markdown",
   "metadata": {},
   "source": [
    "С типом ТС нет проблем, теперь посмотрим на тип коробки передач:  "
   ]
  },
  {
   "cell_type": "code",
   "execution_count": 28,
   "metadata": {},
   "outputs": [
    {
     "data": {
      "text/plain": [
       "gearbox\n",
       "auto        63969\n",
       "manual     260109\n",
       "unknown     16830\n",
       "Name: gearbox, dtype: int64"
      ]
     },
     "execution_count": 28,
     "metadata": {},
     "output_type": "execute_result"
    }
   ],
   "source": [
    "df.groupby(['gearbox'])['gearbox'].count()"
   ]
  },
  {
   "cell_type": "markdown",
   "metadata": {},
   "source": [
    "Здесь тоже все хорошо, теперь модели:  "
   ]
  },
  {
   "cell_type": "code",
   "execution_count": 29,
   "metadata": {},
   "outputs": [
    {
     "data": {
      "text/plain": [
       "model\n",
       "100                     395\n",
       "145                      45\n",
       "147                     563\n",
       "156                     602\n",
       "159                     208\n",
       "1_reihe                1270\n",
       "1er                    3494\n",
       "200                      17\n",
       "2_reihe                4759\n",
       "300c                    135\n",
       "3_reihe                3421\n",
       "3er                   19143\n",
       "4_reihe                 618\n",
       "500                     866\n",
       "5_reihe                 436\n",
       "5er                    7634\n",
       "601                     326\n",
       "6_reihe                1257\n",
       "6er                     132\n",
       "7er                     954\n",
       "80                     1513\n",
       "850                     206\n",
       "90                       94\n",
       "900                     114\n",
       "9000                     28\n",
       "911                      61\n",
       "a1                      593\n",
       "a2                      367\n",
       "a3                     6019\n",
       "a4                     9629\n",
       "a5                      534\n",
       "a6                     5345\n",
       "a8                      492\n",
       "a_klasse               4126\n",
       "accord                  344\n",
       "agila                   426\n",
       "alhambra                352\n",
       "almera                  563\n",
       "altea                   368\n",
       "amarok                   13\n",
       "antara                  106\n",
       "arosa                   870\n",
       "astra                 10460\n",
       "auris                   234\n",
       "avensis                 561\n",
       "aveo                    117\n",
       "aygo                    424\n",
       "b_klasse                870\n",
       "b_max                    26\n",
       "beetle                  809\n",
       "berlingo                810\n",
       "bora                    852\n",
       "boxster                 220\n",
       "bravo                   310\n",
       "c1                      386\n",
       "c2                      389\n",
       "c3                      497\n",
       "c4                      440\n",
       "c5                      476\n",
       "c_klasse               8137\n",
       "c_max                   681\n",
       "c_reihe                 192\n",
       "caddy                  1552\n",
       "calibra                 193\n",
       "captiva                 167\n",
       "carisma                 401\n",
       "carnival                268\n",
       "cayenne                 176\n",
       "cc                      134\n",
       "ceed                    248\n",
       "charade                  27\n",
       "cherokee                162\n",
       "citigo                   91\n",
       "civic                  1295\n",
       "cl                      191\n",
       "clio                   3456\n",
       "clk                    1770\n",
       "clubman                 200\n",
       "colt                    844\n",
       "combo                   406\n",
       "cooper                 1931\n",
       "cordoba                 383\n",
       "corolla                 674\n",
       "corsa                 12173\n",
       "cr_reihe                333\n",
       "croma                    45\n",
       "crossfire                64\n",
       "cuore                   364\n",
       "cx_reihe                 63\n",
       "defender                 74\n",
       "delta                    34\n",
       "discovery                78\n",
       "doblo                   321\n",
       "ducato                  420\n",
       "duster                  203\n",
       "e_klasse               6531\n",
       "elefantino               11\n",
       "eos                     513\n",
       "escort                  836\n",
       "espace                  580\n",
       "exeo                    100\n",
       "fabia                  2059\n",
       "fiesta                 5651\n",
       "focus                  5741\n",
       "forester                126\n",
       "forfour                 379\n",
       "fortwo                 4293\n",
       "fox                     736\n",
       "freelander              212\n",
       "fusion                  298\n",
       "g_klasse                 91\n",
       "galant                  245\n",
       "galaxy                 1122\n",
       "getz                    413\n",
       "gl                       12\n",
       "glk                      64\n",
       "golf                  28181\n",
       "grand                   554\n",
       "i3                        8\n",
       "i_reihe                1223\n",
       "ibiza                  2639\n",
       "impreza                 212\n",
       "insignia                633\n",
       "jazz                    299\n",
       "jetta                   349\n",
       "jimny                   212\n",
       "juke                    102\n",
       "justy                   136\n",
       "ka                     2607\n",
       "kadett                  305\n",
       "kaefer                  322\n",
       "kalina                    9\n",
       "kalos                    95\n",
       "kangoo                  938\n",
       "kappa                    15\n",
       "kuga                    317\n",
       "laguna                 1307\n",
       "lancer                  215\n",
       "lanos                    86\n",
       "legacy                  157\n",
       "leon                   1277\n",
       "lodgy                    35\n",
       "logan                   320\n",
       "lupo                   2533\n",
       "lybra                    51\n",
       "m_klasse                931\n",
       "m_reihe                  83\n",
       "materia                  18\n",
       "matiz                   436\n",
       "megane                 2801\n",
       "meriva                 1036\n",
       "micra                  1716\n",
       "mii                      81\n",
       "modus                   316\n",
       "mondeo                 3481\n",
       "move                     51\n",
       "musa                     23\n",
       "mustang                 133\n",
       "mx_reihe                997\n",
       "navara                   90\n",
       "niva                    126\n",
       "note                    129\n",
       "nubira                   60\n",
       "octavia                2087\n",
       "omega                  1334\n",
       "one                     887\n",
       "other                 22903\n",
       "outlander               119\n",
       "pajero                  204\n",
       "panda                   665\n",
       "passat                 9820\n",
       "phaeton                 199\n",
       "picanto                 362\n",
       "polo                  12605\n",
       "primera                 594\n",
       "ptcruiser               295\n",
       "punto                  3237\n",
       "q3                       13\n",
       "q5                       97\n",
       "q7                      202\n",
       "qashqai                 528\n",
       "r19                     117\n",
       "range_rover              75\n",
       "range_rover_evoque        2\n",
       "range_rover_sport        53\n",
       "rangerover                4\n",
       "rav                     345\n",
       "rio                     355\n",
       "roadster                180\n",
       "roomster                273\n",
       "rx_reihe                137\n",
       "s60                     145\n",
       "s_klasse                785\n",
       "s_max                   431\n",
       "s_type                  117\n",
       "samara                   12\n",
       "sandero                 291\n",
       "santa                   310\n",
       "scenic                 1413\n",
       "scirocco                591\n",
       "seicento                641\n",
       "serie_1                   1\n",
       "serie_2                   4\n",
       "serie_3                   3\n",
       "sharan                 1453\n",
       "signum                  482\n",
       "sirion                  138\n",
       "sl                      377\n",
       "slk                    1206\n",
       "sorento                 339\n",
       "spark                   122\n",
       "spider                  188\n",
       "sportage                246\n",
       "sprinter                754\n",
       "stilo                   580\n",
       "superb                  363\n",
       "swift                   686\n",
       "terios                   35\n",
       "tigra                   749\n",
       "tiguan                  656\n",
       "toledo                  321\n",
       "touareg                 567\n",
       "touran                 3426\n",
       "transit                 739\n",
       "transporter            4648\n",
       "tt                     1060\n",
       "tucson                  230\n",
       "twingo                 4809\n",
       "unknown               16923\n",
       "up                      346\n",
       "v40                     743\n",
       "v50                     252\n",
       "v60                      42\n",
       "v70                     619\n",
       "v_klasse                145\n",
       "vectra                 4080\n",
       "verso                   308\n",
       "viano                   256\n",
       "vito                    860\n",
       "vivaro                  299\n",
       "voyager                 311\n",
       "wrangler                100\n",
       "x_reihe                1551\n",
       "x_trail                 205\n",
       "x_type                  170\n",
       "xc_reihe                266\n",
       "yaris                  1028\n",
       "yeti                    174\n",
       "ypsilon                 199\n",
       "z_reihe                 709\n",
       "zafira                 2984\n",
       "Name: model, dtype: int64"
      ]
     },
     "execution_count": 29,
     "metadata": {},
     "output_type": "execute_result"
    }
   ],
   "source": [
    "df.groupby(['model'])['model'].count()"
   ]
  },
  {
   "cell_type": "markdown",
   "metadata": {},
   "source": [
    "Модели в порядке, а что с типом топлива?  \n",
    "Нам известно 3 основных типа: бензин, дизель, газ.  \n",
    "В выборке их 8!"
   ]
  },
  {
   "cell_type": "code",
   "execution_count": 30,
   "metadata": {},
   "outputs": [
    {
     "data": {
      "text/plain": [
       "fuel_type\n",
       "cng            550\n",
       "electric        85\n",
       "gasoline     97028\n",
       "hybrid         227\n",
       "lpg           5119\n",
       "other          149\n",
       "petrol      208887\n",
       "unknown      28863\n",
       "Name: fuel_type, dtype: int64"
      ]
     },
     "execution_count": 30,
     "metadata": {},
     "output_type": "execute_result"
    }
   ],
   "source": [
    "df.groupby(['fuel_type'])['fuel_type'].count()"
   ]
  },
  {
   "cell_type": "markdown",
   "metadata": {},
   "source": [
    "Вот в чем дело:  \n",
    "`cng` (Compressed Natural Gas) сжатый природный газ (метан)  \n",
    "`electric` электричество  \n",
    "`gasoline` бензин  \n",
    "`hybrid` гибрид  \n",
    "`lpg` (Liquified Petroleum Gas) сжиженный газ (пропан-бутан)  \n",
    "Газ уже был, количество машин на газу небольшое, можно их объединить под общим названием `gas`  \n",
    "`other` прочие  \n",
    "`petrol` бензин  \n",
    "Это повтор, в разных странах его называют по разному.  \n",
    "Мы не будем объединять эти группы, их объем достаточно большой, и каждая может нести дополнительную информацию для модели, например Британское или Американское происхождение авто.  \n",
    "`unknown` неизвестные"
   ]
  },
  {
   "cell_type": "code",
   "execution_count": 31,
   "metadata": {},
   "outputs": [],
   "source": [
    "\n",
    "gas_ceils = []\n",
    "df_gas = df['fuel_type'][df['fuel_type'].isin(['cng', 'lpg'])]\n",
    "\n",
    "for ceil in range(len(df_gas)):\n",
    "    gas_ceils.append('gas')\n",
    "\n",
    "gas_ceils = pd.Series(gas_ceils)\n",
    "gas_ceils.index = df_gas.index\n",
    "df['fuel_type'][df['fuel_type'].isin(['cng', 'lpg'])] = gas_ceils\n"
   ]
  },
  {
   "cell_type": "code",
   "execution_count": 32,
   "metadata": {},
   "outputs": [
    {
     "data": {
      "text/plain": [
       "fuel_type\n",
       "electric        85\n",
       "gas           5669\n",
       "gasoline     97028\n",
       "hybrid         227\n",
       "other          149\n",
       "petrol      208887\n",
       "unknown      28863\n",
       "Name: fuel_type, dtype: int64"
      ]
     },
     "execution_count": 32,
     "metadata": {},
     "output_type": "execute_result"
    }
   ],
   "source": [
    "df.groupby(['fuel_type'])['fuel_type'].count()"
   ]
  },
  {
   "cell_type": "markdown",
   "metadata": {},
   "source": [
    "Газ объединили.  \n",
    "Посмотрим на бренды:  "
   ]
  },
  {
   "cell_type": "code",
   "execution_count": 33,
   "metadata": {},
   "outputs": [
    {
     "data": {
      "text/plain": [
       "brand\n",
       "alfa_romeo         2215\n",
       "audi              28366\n",
       "bmw               35583\n",
       "chevrolet          1645\n",
       "chrysler           1348\n",
       "citroen            4988\n",
       "dacia               889\n",
       "daewoo              532\n",
       "daihatsu            775\n",
       "fiat               9236\n",
       "ford              24269\n",
       "honda              2710\n",
       "hyundai            3530\n",
       "jaguar              461\n",
       "jeep                638\n",
       "kia                2404\n",
       "lada                213\n",
       "lancia              449\n",
       "land_rover          524\n",
       "mazda              5457\n",
       "mercedes_benz     30919\n",
       "mini               3159\n",
       "mitsubishi         2918\n",
       "nissan             4797\n",
       "opel              38329\n",
       "peugeot           10756\n",
       "porsche             654\n",
       "renault           17335\n",
       "rover               460\n",
       "saab                514\n",
       "seat               6703\n",
       "skoda              5422\n",
       "smart              5166\n",
       "sonstige_autos     2447\n",
       "subaru              729\n",
       "suzuki             2271\n",
       "toyota             4530\n",
       "trabant             412\n",
       "volkswagen        74075\n",
       "volvo              3080\n",
       "Name: brand, dtype: int64"
      ]
     },
     "execution_count": 33,
     "metadata": {},
     "output_type": "execute_result"
    }
   ],
   "source": [
    "df.groupby(['brand'])['brand'].count()"
   ]
  },
  {
   "cell_type": "markdown",
   "metadata": {},
   "source": [
    "Бренды в порядке.  \n",
    "Заполним пропуски в мощности медианой по группам авто.  "
   ]
  },
  {
   "cell_type": "code",
   "execution_count": 34,
   "metadata": {},
   "outputs": [
    {
     "data": {
      "text/html": [
       "<div>\n",
       "<style scoped>\n",
       "    .dataframe tbody tr th:only-of-type {\n",
       "        vertical-align: middle;\n",
       "    }\n",
       "\n",
       "    .dataframe tbody tr th {\n",
       "        vertical-align: top;\n",
       "    }\n",
       "\n",
       "    .dataframe thead th {\n",
       "        text-align: right;\n",
       "    }\n",
       "</style>\n",
       "<table border=\"1\" class=\"dataframe\">\n",
       "  <thead>\n",
       "    <tr style=\"text-align: right;\">\n",
       "      <th></th>\n",
       "      <th>brand</th>\n",
       "      <th>model</th>\n",
       "      <th>power</th>\n",
       "    </tr>\n",
       "  </thead>\n",
       "  <tbody>\n",
       "    <tr>\n",
       "      <td>273</td>\n",
       "      <td>skoda</td>\n",
       "      <td>unknown</td>\n",
       "      <td>86.0</td>\n",
       "    </tr>\n",
       "    <tr>\n",
       "      <td>60</td>\n",
       "      <td>dacia</td>\n",
       "      <td>sandero</td>\n",
       "      <td>75.0</td>\n",
       "    </tr>\n",
       "    <tr>\n",
       "      <td>298</td>\n",
       "      <td>toyota</td>\n",
       "      <td>unknown</td>\n",
       "      <td>101.0</td>\n",
       "    </tr>\n",
       "    <tr>\n",
       "      <td>95</td>\n",
       "      <td>ford</td>\n",
       "      <td>kuga</td>\n",
       "      <td>140.0</td>\n",
       "    </tr>\n",
       "    <tr>\n",
       "      <td>287</td>\n",
       "      <td>suzuki</td>\n",
       "      <td>grand</td>\n",
       "      <td>129.0</td>\n",
       "    </tr>\n",
       "  </tbody>\n",
       "</table>\n",
       "</div>"
      ],
      "text/plain": [
       "      brand    model  power\n",
       "273   skoda  unknown   86.0\n",
       "60    dacia  sandero   75.0\n",
       "298  toyota  unknown  101.0\n",
       "95     ford     kuga  140.0\n",
       "287  suzuki    grand  129.0"
      ]
     },
     "execution_count": 34,
     "metadata": {},
     "output_type": "execute_result"
    }
   ],
   "source": [
    "\n",
    "df_grouped =\\\n",
    "df.groupby(['brand', 'model'])['power'].median().reset_index()\n",
    "df_grouped.sample(5)\n"
   ]
  },
  {
   "cell_type": "code",
   "execution_count": 35,
   "metadata": {},
   "outputs": [
    {
     "name": "stdout",
     "output_type": "stream",
     "text": [
      "Время работы (ч:м:с.мс) 0:01:41.347489\n"
     ]
    }
   ],
   "source": [
    "\n",
    "# воспользуемся векторами и матрицами для скорости\n",
    "matrix_with_power = np.array(df_grouped)\n",
    "\n",
    "matrix_without_power = np.array(\n",
    "    df[['brand', 'model', 'power']][df['power'].isna() == True]\n",
    ")\n",
    "\n",
    "true_power = []\n",
    "start_time = datetime.now()\n",
    "\n",
    "for vector_with_power in matrix_with_power:\n",
    "    for vector_without_power in matrix_without_power:\n",
    "        if np.array_equal(\n",
    "            vector_with_power[:-1],\n",
    "            vector_without_power[:-1]\n",
    "        ):\n",
    "            true_power.append(\n",
    "                vector_with_power[-1:][0]\n",
    "            )\n",
    "            \n",
    "print('Время работы (ч:м:с.мс) {}'.format(datetime.now()-start_time))            \n",
    "            "
   ]
  },
  {
   "cell_type": "code",
   "execution_count": 36,
   "metadata": {},
   "outputs": [],
   "source": [
    "\n",
    "true_power = pd.Series(true_power)\n",
    "true_power.index = df['power'][df['power'].isna() == True].index\n",
    "df['power'][df['power'].isna() == True] = true_power\n"
   ]
  },
  {
   "cell_type": "code",
   "execution_count": 37,
   "metadata": {},
   "outputs": [
    {
     "data": {
      "text/plain": [
       "power                 0.000003\n",
       "last_seen             0.000000\n",
       "postal_code           0.000000\n",
       "date_created          0.000000\n",
       "not_repaired          0.000000\n",
       "brand                 0.000000\n",
       "fuel_type             0.000000\n",
       "registration_month    0.000000\n",
       "kilometer             0.000000\n",
       "model                 0.000000\n",
       "gearbox               0.000000\n",
       "registration_year     0.000000\n",
       "vehicle_type          0.000000\n",
       "price                 0.000000\n",
       "date_crawled          0.000000\n",
       "dtype: float64"
      ]
     },
     "execution_count": 37,
     "metadata": {},
     "output_type": "execute_result"
    }
   ],
   "source": [
    "df.isna().mean().sort_values(ascending=False)"
   ]
  },
  {
   "cell_type": "markdown",
   "metadata": {},
   "source": [
    "Осталось немного пустых значений, их можно удалить.  "
   ]
  },
  {
   "cell_type": "code",
   "execution_count": 38,
   "metadata": {},
   "outputs": [
    {
     "data": {
      "text/plain": [
       "last_seen             0.0\n",
       "postal_code           0.0\n",
       "date_created          0.0\n",
       "not_repaired          0.0\n",
       "brand                 0.0\n",
       "fuel_type             0.0\n",
       "registration_month    0.0\n",
       "kilometer             0.0\n",
       "model                 0.0\n",
       "power                 0.0\n",
       "gearbox               0.0\n",
       "registration_year     0.0\n",
       "vehicle_type          0.0\n",
       "price                 0.0\n",
       "date_crawled          0.0\n",
       "dtype: float64"
      ]
     },
     "execution_count": 38,
     "metadata": {},
     "output_type": "execute_result"
    }
   ],
   "source": [
    "\n",
    "df.dropna(inplace=True)\n",
    "df.isna().mean().sort_values(ascending=False)\n"
   ]
  },
  {
   "cell_type": "markdown",
   "metadata": {},
   "source": [
    "Отлично, пропуски победили.  "
   ]
  },
  {
   "cell_type": "code",
   "execution_count": 39,
   "metadata": {},
   "outputs": [
    {
     "name": "stdout",
     "output_type": "stream",
     "text": [
      "Доля полных дубликатов в выборке составляет: 0.00%\n"
     ]
    }
   ],
   "source": [
    "print('Доля полных дубликатов в выборке составляет: {:3.2%}'.format(df.duplicated().mean()))"
   ]
  },
  {
   "cell_type": "code",
   "execution_count": 40,
   "metadata": {},
   "outputs": [
    {
     "data": {
      "image/png": "[encoded data removed]",
      "text/plain": [
       "<Figure size 1152x648 with 2 Axes>"
      ]
     },
     "metadata": {},
     "output_type": "display_data"
    }
   ],
   "source": [
    "\n",
    "matrix = np.triu(df.corr())\n",
    "fig, ax = plt.subplots(figsize=(16,9))\n",
    "sns.heatmap(df.corr(), annot=True, mask=matrix, cmap='BuPu');\n"
   ]
  },
  {
   "cell_type": "markdown",
   "metadata": {},
   "source": [
    "Наибольшую корреляцию с ценой имеют возраст, мощность и пробег.  \n",
    "Вот только возраст у нас в неявном виде года регистрации.  \n",
    "Однако, возраст это разница между годом регистрации и датой подачи объявления.  \n",
    "Так сделаем возраст авто явным.  \n",
    "А еще избавимся от колонок с датами, они будут мешать при дальнейшем кодировании признаков в числа.  \n",
    "Таким образом мы получим пользу от колонок с датами, хотя могли их просто удалить.  "
   ]
  },
  {
   "cell_type": "code",
   "execution_count": 41,
   "metadata": {},
   "outputs": [
    {
     "data": {
      "text/html": [
       "<div>\n",
       "<style scoped>\n",
       "    .dataframe tbody tr th:only-of-type {\n",
       "        vertical-align: middle;\n",
       "    }\n",
       "\n",
       "    .dataframe tbody tr th {\n",
       "        vertical-align: top;\n",
       "    }\n",
       "\n",
       "    .dataframe thead th {\n",
       "        text-align: right;\n",
       "    }\n",
       "</style>\n",
       "<table border=\"1\" class=\"dataframe\">\n",
       "  <thead>\n",
       "    <tr style=\"text-align: right;\">\n",
       "      <th></th>\n",
       "      <th>date_crawled</th>\n",
       "      <th>price</th>\n",
       "      <th>vehicle_type</th>\n",
       "      <th>registration_year</th>\n",
       "      <th>gearbox</th>\n",
       "      <th>power</th>\n",
       "      <th>model</th>\n",
       "      <th>kilometer</th>\n",
       "      <th>registration_month</th>\n",
       "      <th>fuel_type</th>\n",
       "      <th>brand</th>\n",
       "      <th>not_repaired</th>\n",
       "      <th>date_created</th>\n",
       "      <th>postal_code</th>\n",
       "      <th>last_seen</th>\n",
       "    </tr>\n",
       "  </thead>\n",
       "  <tbody>\n",
       "    <tr>\n",
       "      <td>0</td>\n",
       "      <td>2016-03-24 11:52:17</td>\n",
       "      <td>480</td>\n",
       "      <td>unknown</td>\n",
       "      <td>1993</td>\n",
       "      <td>manual</td>\n",
       "      <td>103.0</td>\n",
       "      <td>golf</td>\n",
       "      <td>150000</td>\n",
       "      <td>1.0</td>\n",
       "      <td>petrol</td>\n",
       "      <td>volkswagen</td>\n",
       "      <td>no</td>\n",
       "      <td>2016-03-24</td>\n",
       "      <td>70435</td>\n",
       "      <td>2016-04-07 03:16:57</td>\n",
       "    </tr>\n",
       "    <tr>\n",
       "      <td>1</td>\n",
       "      <td>2016-03-24 10:58:45</td>\n",
       "      <td>18300</td>\n",
       "      <td>coupe</td>\n",
       "      <td>2011</td>\n",
       "      <td>manual</td>\n",
       "      <td>190.0</td>\n",
       "      <td>unknown</td>\n",
       "      <td>125000</td>\n",
       "      <td>5.0</td>\n",
       "      <td>gasoline</td>\n",
       "      <td>audi</td>\n",
       "      <td>yes</td>\n",
       "      <td>2016-03-24</td>\n",
       "      <td>66954</td>\n",
       "      <td>2016-04-07 01:46:50</td>\n",
       "    </tr>\n",
       "    <tr>\n",
       "      <td>2</td>\n",
       "      <td>2016-03-14 12:52:21</td>\n",
       "      <td>9800</td>\n",
       "      <td>suv</td>\n",
       "      <td>2004</td>\n",
       "      <td>auto</td>\n",
       "      <td>163.0</td>\n",
       "      <td>grand</td>\n",
       "      <td>125000</td>\n",
       "      <td>8.0</td>\n",
       "      <td>gasoline</td>\n",
       "      <td>jeep</td>\n",
       "      <td>no</td>\n",
       "      <td>2016-03-14</td>\n",
       "      <td>90480</td>\n",
       "      <td>2016-04-05 12:47:46</td>\n",
       "    </tr>\n",
       "    <tr>\n",
       "      <td>3</td>\n",
       "      <td>2016-03-17 16:54:04</td>\n",
       "      <td>1500</td>\n",
       "      <td>small</td>\n",
       "      <td>2001</td>\n",
       "      <td>manual</td>\n",
       "      <td>75.0</td>\n",
       "      <td>golf</td>\n",
       "      <td>150000</td>\n",
       "      <td>6.0</td>\n",
       "      <td>petrol</td>\n",
       "      <td>volkswagen</td>\n",
       "      <td>no</td>\n",
       "      <td>2016-03-17</td>\n",
       "      <td>91074</td>\n",
       "      <td>2016-03-17 17:40:17</td>\n",
       "    </tr>\n",
       "    <tr>\n",
       "      <td>4</td>\n",
       "      <td>2016-03-31 17:25:20</td>\n",
       "      <td>3600</td>\n",
       "      <td>small</td>\n",
       "      <td>2008</td>\n",
       "      <td>manual</td>\n",
       "      <td>69.0</td>\n",
       "      <td>fabia</td>\n",
       "      <td>90000</td>\n",
       "      <td>7.0</td>\n",
       "      <td>gasoline</td>\n",
       "      <td>skoda</td>\n",
       "      <td>no</td>\n",
       "      <td>2016-03-31</td>\n",
       "      <td>60437</td>\n",
       "      <td>2016-04-06 10:17:21</td>\n",
       "    </tr>\n",
       "  </tbody>\n",
       "</table>\n",
       "</div>"
      ],
      "text/plain": [
       "         date_crawled  price vehicle_type  registration_year gearbox  power  \\\n",
       "0 2016-03-24 11:52:17    480      unknown               1993  manual  103.0   \n",
       "1 2016-03-24 10:58:45  18300        coupe               2011  manual  190.0   \n",
       "2 2016-03-14 12:52:21   9800          suv               2004    auto  163.0   \n",
       "3 2016-03-17 16:54:04   1500        small               2001  manual   75.0   \n",
       "4 2016-03-31 17:25:20   3600        small               2008  manual   69.0   \n",
       "\n",
       "     model  kilometer  registration_month fuel_type       brand not_repaired  \\\n",
       "0     golf     150000                 1.0    petrol  volkswagen           no   \n",
       "1  unknown     125000                 5.0  gasoline        audi          yes   \n",
       "2    grand     125000                 8.0  gasoline        jeep           no   \n",
       "3     golf     150000                 6.0    petrol  volkswagen           no   \n",
       "4    fabia      90000                 7.0  gasoline       skoda           no   \n",
       "\n",
       "  date_created  postal_code           last_seen  \n",
       "0   2016-03-24        70435 2016-04-07 03:16:57  \n",
       "1   2016-03-24        66954 2016-04-07 01:46:50  \n",
       "2   2016-03-14        90480 2016-04-05 12:47:46  \n",
       "3   2016-03-17        91074 2016-03-17 17:40:17  \n",
       "4   2016-03-31        60437 2016-04-06 10:17:21  "
      ]
     },
     "execution_count": 41,
     "metadata": {},
     "output_type": "execute_result"
    }
   ],
   "source": [
    "df.head()"
   ]
  },
  {
   "cell_type": "code",
   "execution_count": 42,
   "metadata": {},
   "outputs": [],
   "source": [
    "\n",
    "year_created = pd.DatetimeIndex(df['date_created']).year\n",
    "month_created = pd.DatetimeIndex(df['date_created']).month\n",
    "# для приведения месяцев к десятичной доле года разделим их количество на 12 и затем на 1.2\n",
    "\n",
    "df['car_age'] = round(\n",
    "    year_created -\\\n",
    "    df['registration_year'] -\\\n",
    "    df['registration_month'] / 12 / 1.2 +\\\n",
    "    month_created / 12 / 1.2, 3\n",
    ")\n"
   ]
  },
  {
   "cell_type": "code",
   "execution_count": 43,
   "metadata": {},
   "outputs": [
    {
     "data": {
      "text/plain": [
       "0    23.139\n",
       "1     4.861\n",
       "2    11.653\n",
       "3    14.792\n",
       "4     7.722\n",
       "Name: car_age, dtype: float64"
      ]
     },
     "execution_count": 43,
     "metadata": {},
     "output_type": "execute_result"
    }
   ],
   "source": [
    "df['car_age'].head()"
   ]
  },
  {
   "cell_type": "markdown",
   "metadata": {},
   "source": [
    "Отлично, мы получили возраст авто в чистом виде.  \n",
    "Теперь можно удалить колонки с датами:"
   ]
  },
  {
   "cell_type": "code",
   "execution_count": 44,
   "metadata": {},
   "outputs": [],
   "source": [
    "df.drop(['date_crawled', 'registration_year', 'registration_month', 'date_created', 'last_seen'], axis=1, inplace=True)"
   ]
  },
  {
   "cell_type": "code",
   "execution_count": 45,
   "metadata": {},
   "outputs": [
    {
     "data": {
      "text/html": [
       "<div>\n",
       "<style scoped>\n",
       "    .dataframe tbody tr th:only-of-type {\n",
       "        vertical-align: middle;\n",
       "    }\n",
       "\n",
       "    .dataframe tbody tr th {\n",
       "        vertical-align: top;\n",
       "    }\n",
       "\n",
       "    .dataframe thead th {\n",
       "        text-align: right;\n",
       "    }\n",
       "</style>\n",
       "<table border=\"1\" class=\"dataframe\">\n",
       "  <thead>\n",
       "    <tr style=\"text-align: right;\">\n",
       "      <th></th>\n",
       "      <th>price</th>\n",
       "      <th>vehicle_type</th>\n",
       "      <th>gearbox</th>\n",
       "      <th>power</th>\n",
       "      <th>model</th>\n",
       "      <th>kilometer</th>\n",
       "      <th>fuel_type</th>\n",
       "      <th>brand</th>\n",
       "      <th>not_repaired</th>\n",
       "      <th>postal_code</th>\n",
       "      <th>car_age</th>\n",
       "    </tr>\n",
       "  </thead>\n",
       "  <tbody>\n",
       "    <tr>\n",
       "      <td>0</td>\n",
       "      <td>480</td>\n",
       "      <td>unknown</td>\n",
       "      <td>manual</td>\n",
       "      <td>103.0</td>\n",
       "      <td>golf</td>\n",
       "      <td>150000</td>\n",
       "      <td>petrol</td>\n",
       "      <td>volkswagen</td>\n",
       "      <td>no</td>\n",
       "      <td>70435</td>\n",
       "      <td>23.139</td>\n",
       "    </tr>\n",
       "    <tr>\n",
       "      <td>1</td>\n",
       "      <td>18300</td>\n",
       "      <td>coupe</td>\n",
       "      <td>manual</td>\n",
       "      <td>190.0</td>\n",
       "      <td>unknown</td>\n",
       "      <td>125000</td>\n",
       "      <td>gasoline</td>\n",
       "      <td>audi</td>\n",
       "      <td>yes</td>\n",
       "      <td>66954</td>\n",
       "      <td>4.861</td>\n",
       "    </tr>\n",
       "    <tr>\n",
       "      <td>2</td>\n",
       "      <td>9800</td>\n",
       "      <td>suv</td>\n",
       "      <td>auto</td>\n",
       "      <td>163.0</td>\n",
       "      <td>grand</td>\n",
       "      <td>125000</td>\n",
       "      <td>gasoline</td>\n",
       "      <td>jeep</td>\n",
       "      <td>no</td>\n",
       "      <td>90480</td>\n",
       "      <td>11.653</td>\n",
       "    </tr>\n",
       "    <tr>\n",
       "      <td>3</td>\n",
       "      <td>1500</td>\n",
       "      <td>small</td>\n",
       "      <td>manual</td>\n",
       "      <td>75.0</td>\n",
       "      <td>golf</td>\n",
       "      <td>150000</td>\n",
       "      <td>petrol</td>\n",
       "      <td>volkswagen</td>\n",
       "      <td>no</td>\n",
       "      <td>91074</td>\n",
       "      <td>14.792</td>\n",
       "    </tr>\n",
       "    <tr>\n",
       "      <td>4</td>\n",
       "      <td>3600</td>\n",
       "      <td>small</td>\n",
       "      <td>manual</td>\n",
       "      <td>69.0</td>\n",
       "      <td>fabia</td>\n",
       "      <td>90000</td>\n",
       "      <td>gasoline</td>\n",
       "      <td>skoda</td>\n",
       "      <td>no</td>\n",
       "      <td>60437</td>\n",
       "      <td>7.722</td>\n",
       "    </tr>\n",
       "  </tbody>\n",
       "</table>\n",
       "</div>"
      ],
      "text/plain": [
       "   price vehicle_type gearbox  power    model  kilometer fuel_type  \\\n",
       "0    480      unknown  manual  103.0     golf     150000    petrol   \n",
       "1  18300        coupe  manual  190.0  unknown     125000  gasoline   \n",
       "2   9800          suv    auto  163.0    grand     125000  gasoline   \n",
       "3   1500        small  manual   75.0     golf     150000    petrol   \n",
       "4   3600        small  manual   69.0    fabia      90000  gasoline   \n",
       "\n",
       "        brand not_repaired  postal_code  car_age  \n",
       "0  volkswagen           no        70435   23.139  \n",
       "1        audi          yes        66954    4.861  \n",
       "2        jeep           no        90480   11.653  \n",
       "3  volkswagen           no        91074   14.792  \n",
       "4       skoda           no        60437    7.722  "
      ]
     },
     "execution_count": 45,
     "metadata": {},
     "output_type": "execute_result"
    }
   ],
   "source": [
    "df.head()"
   ]
  },
  {
   "cell_type": "code",
   "execution_count": 46,
   "metadata": {},
   "outputs": [],
   "source": [
    "\n",
    "# сделаем копию отдельно для LGBM, чтобы опробовать его собственные возможности кодировки кат. переменных\n",
    "df_lgbm = df\n"
   ]
  },
  {
   "cell_type": "markdown",
   "metadata": {},
   "source": [
    "Хорошо, теперь закодируем категориальные признаки техникой `Ordinal Encoding`  \n",
    "Почему не `One Hot Encoding`?  \n",
    "\n",
    "Потому что у нас есть сотни категорий, которые при `One Hot Encoding` превратятся в сотни столбцов всего с двумя значениями.   \n",
    "Такое количество столбцов увеличит размер датасета в десятки раз.  \n",
    "`Ordinal Encoding` просто запишет в столбец номер категории вместо ее названия.  "
   ]
  },
  {
   "cell_type": "code",
   "execution_count": 47,
   "metadata": {},
   "outputs": [],
   "source": [
    "\n",
    "columns = [\n",
    "    'vehicle_type',\n",
    "    'gearbox',\n",
    "    'kilometer',\n",
    "    'fuel_type',\n",
    "    'brand',\n",
    "    'not_repaired',\n",
    "    'model'\n",
    "]\n",
    "\n",
    "df[columns] = OrdinalEncoder().fit_transform(df[columns])\n"
   ]
  },
  {
   "cell_type": "code",
   "execution_count": 48,
   "metadata": {},
   "outputs": [
    {
     "data": {
      "text/html": [
       "<div>\n",
       "<style scoped>\n",
       "    .dataframe tbody tr th:only-of-type {\n",
       "        vertical-align: middle;\n",
       "    }\n",
       "\n",
       "    .dataframe tbody tr th {\n",
       "        vertical-align: top;\n",
       "    }\n",
       "\n",
       "    .dataframe thead th {\n",
       "        text-align: right;\n",
       "    }\n",
       "</style>\n",
       "<table border=\"1\" class=\"dataframe\">\n",
       "  <thead>\n",
       "    <tr style=\"text-align: right;\">\n",
       "      <th></th>\n",
       "      <th>price</th>\n",
       "      <th>vehicle_type</th>\n",
       "      <th>gearbox</th>\n",
       "      <th>power</th>\n",
       "      <th>model</th>\n",
       "      <th>kilometer</th>\n",
       "      <th>fuel_type</th>\n",
       "      <th>brand</th>\n",
       "      <th>not_repaired</th>\n",
       "      <th>postal_code</th>\n",
       "      <th>car_age</th>\n",
       "    </tr>\n",
       "  </thead>\n",
       "  <tbody>\n",
       "    <tr>\n",
       "      <td>0</td>\n",
       "      <td>480</td>\n",
       "      <td>7.0</td>\n",
       "      <td>1.0</td>\n",
       "      <td>103.0</td>\n",
       "      <td>116.0</td>\n",
       "      <td>12.0</td>\n",
       "      <td>5.0</td>\n",
       "      <td>38.0</td>\n",
       "      <td>0.0</td>\n",
       "      <td>70435</td>\n",
       "      <td>23.139</td>\n",
       "    </tr>\n",
       "    <tr>\n",
       "      <td>1</td>\n",
       "      <td>18300</td>\n",
       "      <td>2.0</td>\n",
       "      <td>1.0</td>\n",
       "      <td>190.0</td>\n",
       "      <td>228.0</td>\n",
       "      <td>11.0</td>\n",
       "      <td>2.0</td>\n",
       "      <td>1.0</td>\n",
       "      <td>1.0</td>\n",
       "      <td>66954</td>\n",
       "      <td>4.861</td>\n",
       "    </tr>\n",
       "    <tr>\n",
       "      <td>2</td>\n",
       "      <td>9800</td>\n",
       "      <td>6.0</td>\n",
       "      <td>0.0</td>\n",
       "      <td>163.0</td>\n",
       "      <td>117.0</td>\n",
       "      <td>11.0</td>\n",
       "      <td>2.0</td>\n",
       "      <td>14.0</td>\n",
       "      <td>0.0</td>\n",
       "      <td>90480</td>\n",
       "      <td>11.653</td>\n",
       "    </tr>\n",
       "    <tr>\n",
       "      <td>3</td>\n",
       "      <td>1500</td>\n",
       "      <td>5.0</td>\n",
       "      <td>1.0</td>\n",
       "      <td>75.0</td>\n",
       "      <td>116.0</td>\n",
       "      <td>12.0</td>\n",
       "      <td>5.0</td>\n",
       "      <td>38.0</td>\n",
       "      <td>0.0</td>\n",
       "      <td>91074</td>\n",
       "      <td>14.792</td>\n",
       "    </tr>\n",
       "    <tr>\n",
       "      <td>4</td>\n",
       "      <td>3600</td>\n",
       "      <td>5.0</td>\n",
       "      <td>1.0</td>\n",
       "      <td>69.0</td>\n",
       "      <td>101.0</td>\n",
       "      <td>9.0</td>\n",
       "      <td>2.0</td>\n",
       "      <td>31.0</td>\n",
       "      <td>0.0</td>\n",
       "      <td>60437</td>\n",
       "      <td>7.722</td>\n",
       "    </tr>\n",
       "  </tbody>\n",
       "</table>\n",
       "</div>"
      ],
      "text/plain": [
       "   price  vehicle_type  gearbox  power  model  kilometer  fuel_type  brand  \\\n",
       "0    480           7.0      1.0  103.0  116.0       12.0        5.0   38.0   \n",
       "1  18300           2.0      1.0  190.0  228.0       11.0        2.0    1.0   \n",
       "2   9800           6.0      0.0  163.0  117.0       11.0        2.0   14.0   \n",
       "3   1500           5.0      1.0   75.0  116.0       12.0        5.0   38.0   \n",
       "4   3600           5.0      1.0   69.0  101.0        9.0        2.0   31.0   \n",
       "\n",
       "   not_repaired  postal_code  car_age  \n",
       "0           0.0        70435   23.139  \n",
       "1           1.0        66954    4.861  \n",
       "2           0.0        90480   11.653  \n",
       "3           0.0        91074   14.792  \n",
       "4           0.0        60437    7.722  "
      ]
     },
     "execution_count": 48,
     "metadata": {},
     "output_type": "execute_result"
    }
   ],
   "source": [
    "df.head()"
   ]
  },
  {
   "cell_type": "markdown",
   "metadata": {},
   "source": [
    "Для `LGBM` изменим тип колонок категориальных признаков:"
   ]
  },
  {
   "cell_type": "code",
   "execution_count": 49,
   "metadata": {},
   "outputs": [],
   "source": [
    "\n",
    "for column in columns:\n",
    "    df_lgbm[column] = df_lgbm[column].astype('category')\n"
   ]
  },
  {
   "cell_type": "code",
   "execution_count": 50,
   "metadata": {},
   "outputs": [
    {
     "data": {
      "text/plain": [
       "price              int64\n",
       "vehicle_type    category\n",
       "gearbox         category\n",
       "power            float64\n",
       "model           category\n",
       "kilometer       category\n",
       "fuel_type       category\n",
       "brand           category\n",
       "not_repaired    category\n",
       "postal_code        int64\n",
       "car_age          float64\n",
       "dtype: object"
      ]
     },
     "execution_count": 50,
     "metadata": {},
     "output_type": "execute_result"
    }
   ],
   "source": [
    "df_lgbm.dtypes"
   ]
  },
  {
   "cell_type": "markdown",
   "metadata": {},
   "source": [
    "Разобьем выборку на тренировочную и целевую."
   ]
  },
  {
   "cell_type": "code",
   "execution_count": 51,
   "metadata": {},
   "outputs": [],
   "source": [
    "\n",
    "y = df['price']\n",
    "X = df.drop(['price'], axis=1)\n",
    "\n",
    "# тоже для LGBM\n",
    "y_lgbm = df_lgbm['price']\n",
    "X_lgbm = df_lgbm.drop(['price'], axis=1)\n"
   ]
  },
  {
   "cell_type": "markdown",
   "metadata": {},
   "source": [
    "Выделим тренировочные и тестовые части."
   ]
  },
  {
   "cell_type": "code",
   "execution_count": 52,
   "metadata": {},
   "outputs": [],
   "source": [
    "\n",
    "X_train, X_test, y_train, y_test =\\\n",
    "train_test_split(\n",
    "    X,\n",
    "    y,\n",
    "    test_size=0.25,\n",
    "    random_state=42\n",
    ")\n",
    "\n",
    "# тоже для LGBM\n",
    "X_train_lgbm, X_test_lgbm, y_train_lgbm, y_test_lgbm =\\\n",
    "train_test_split(\n",
    "    X_lgbm,\n",
    "    y_lgbm,\n",
    "    test_size=0.25,\n",
    "    random_state=42\n",
    ")\n"
   ]
  },
  {
   "cell_type": "markdown",
   "metadata": {},
   "source": [
    "Масштабируем тестовые признаки."
   ]
  },
  {
   "cell_type": "code",
   "execution_count": 53,
   "metadata": {},
   "outputs": [],
   "source": [
    "\n",
    "# учим на тренировочной, масштабируем тестовую\n",
    "scaler = StandardScaler()\n",
    "columns = X_train.columns\n",
    "scaler.fit(X_train[columns])\n",
    "X_test = pd.DataFrame(scaler.transform(X_test[columns]), columns=columns)\n"
   ]
  },
  {
   "cell_type": "markdown",
   "metadata": {},
   "source": [
    "### Вывод:\n",
    "Мы полностью подготовили данные.  \n",
    "Можно переходить к построению моделей."
   ]
  },
  {
   "cell_type": "markdown",
   "metadata": {},
   "source": [
    "## Обучение моделей"
   ]
  },
  {
   "cell_type": "markdown",
   "metadata": {},
   "source": [
    "Сначала построим простый модели, подберем параметры с помощью поиска по сетке."
   ]
  },
  {
   "cell_type": "code",
   "execution_count": 54,
   "metadata": {},
   "outputs": [],
   "source": [
    "\n",
    "# создадим словарь с  моделями и их параметрами для перебора\n",
    "# чтобы StandardScaler не учился на валидационной части при кросс-валидации тренировочной выборки:\n",
    "# воспользуемся Pipeline\n",
    "\n",
    "# для скорости проверки диапазоны настроек уже установлены близкими к оптимальным, вычисленным ранее\n",
    "\n",
    "grid = {\n",
    "    'LR': {\n",
    "        'model': Pipeline([\n",
    "            ('sc', StandardScaler()),\n",
    "            ('lr', LinearRegression())\n",
    "        ]),\n",
    "        'parameters': {\n",
    "            'lr__normalize': ['False']\n",
    "        }\n",
    "    },\n",
    "    'DTR': {\n",
    "        'model': Pipeline([\n",
    "            ('sc', StandardScaler()),\n",
    "            ('dtr', DecisionTreeRegressor(random_state=42))\n",
    "        ]),\n",
    "        'parameters': {\n",
    "            'dtr__criterion': ['mse', 'friedman_mse'],\n",
    "            'dtr__max_depth': [x for x in range(15, 20, 5)]\n",
    "        }\n",
    "    },\n",
    "    'RFR': {\n",
    "        'model': Pipeline([\n",
    "            ('sc', StandardScaler()),\n",
    "            ('rfr', RandomForestRegressor(random_state=42))\n",
    "        ]),\n",
    "        'parameters': {\n",
    "           'rfr__n_estimators': [x for x in range(180, 200, 20)],\n",
    "           'rfr__max_depth': [x for x in range(20, 22, 2)]\n",
    "        }\n",
    "    },\n",
    "    'LGBM': {\n",
    "        'model': Pipeline([\n",
    "            ('sc', StandardScaler()),\n",
    "            ('lgbm', lgb.LGBMModel())\n",
    "        ]),\n",
    "        'parameters': {\n",
    "            'lgbm__learning_rate': [0.1, 0.12],\n",
    "            'lgbm__objective': ['regression'],\n",
    "            'lgbm__max_depth': [x for x in range(20, 25, 5)],\n",
    "            'lgbm__n_estimators': [x for x in range(300, 350, 50)],\n",
    "            'lgbm__num_iterations': [x for x in range(300, 350, 50)],\n",
    "            'lgbm__boosting': ['gbdt']\n",
    "        }\n",
    "    }\n",
    "}\n"
   ]
  },
  {
   "cell_type": "code",
   "execution_count": 55,
   "metadata": {},
   "outputs": [
    {
     "name": "stdout",
     "output_type": "stream",
     "text": [
      "Время работы (ч:м:с.мс) 0:21:51.088043\n"
     ]
    }
   ],
   "source": [
    "\n",
    "RMSE = make_scorer(\n",
    "    mean_squared_error,\n",
    "    squared=False, # False берет корень квадратный из MSE, получаем RMSE\n",
    "    greater_is_better=False\n",
    ")\n",
    "\n",
    "scores = []\n",
    "start_time = datetime.now()\n",
    "\n",
    "for model, parameter in grid.items():\n",
    "    GS_CV = GridSearchCV(parameter['model'], \n",
    "                         parameter['parameters'], \n",
    "                         scoring = RMSE, \n",
    "                         cv=5\n",
    "                        )\n",
    "    GS_CV.fit(X_train,  y_train)\n",
    "    scores.append({\n",
    "    'model': model,\n",
    "    'best_train_score': round(GS_CV.best_score_ * -1, 1), # умножая на -1 возвращаем верный знак нашей оценке\n",
    "    'best_parameters': GS_CV.best_params_\n",
    "    })\n",
    "        \n",
    "print('Время работы (ч:м:с.мс) {}'.format(datetime.now()-start_time))\n"
   ]
  },
  {
   "cell_type": "code",
   "execution_count": 56,
   "metadata": {},
   "outputs": [
    {
     "data": {
      "text/html": [
       "<div>\n",
       "<style scoped>\n",
       "    .dataframe tbody tr th:only-of-type {\n",
       "        vertical-align: middle;\n",
       "    }\n",
       "\n",
       "    .dataframe tbody tr th {\n",
       "        vertical-align: top;\n",
       "    }\n",
       "\n",
       "    .dataframe thead th {\n",
       "        text-align: right;\n",
       "    }\n",
       "</style>\n",
       "<table border=\"1\" class=\"dataframe\">\n",
       "  <thead>\n",
       "    <tr style=\"text-align: right;\">\n",
       "      <th></th>\n",
       "      <th>model</th>\n",
       "      <th>best_parameters</th>\n",
       "      <th>best_train_score</th>\n",
       "      <th>test_score</th>\n",
       "      <th>training_time</th>\n",
       "      <th>prediction_time</th>\n",
       "    </tr>\n",
       "  </thead>\n",
       "  <tbody>\n",
       "    <tr>\n",
       "      <td>3</td>\n",
       "      <td>LGBM</td>\n",
       "      <td>{'lgbm__boosting': 'gbdt', 'lgbm__learning_rate': 0.12, 'lgbm__max_depth': 20, 'lgbm__n_estimators': 300, 'lgbm__num_iterations': 300, 'lgbm__objective': 'regression'}</td>\n",
       "      <td>1679.6</td>\n",
       "      <td>NaN</td>\n",
       "      <td>NaN</td>\n",
       "      <td>NaN</td>\n",
       "    </tr>\n",
       "    <tr>\n",
       "      <td>2</td>\n",
       "      <td>RFR</td>\n",
       "      <td>{'rfr__max_depth': 20, 'rfr__n_estimators': 180}</td>\n",
       "      <td>1687.5</td>\n",
       "      <td>NaN</td>\n",
       "      <td>NaN</td>\n",
       "      <td>NaN</td>\n",
       "    </tr>\n",
       "    <tr>\n",
       "      <td>1</td>\n",
       "      <td>DTR</td>\n",
       "      <td>{'dtr__criterion': 'mse', 'dtr__max_depth': 15}</td>\n",
       "      <td>2073.5</td>\n",
       "      <td>NaN</td>\n",
       "      <td>NaN</td>\n",
       "      <td>NaN</td>\n",
       "    </tr>\n",
       "    <tr>\n",
       "      <td>0</td>\n",
       "      <td>LR</td>\n",
       "      <td>{'lr__normalize': 'False'}</td>\n",
       "      <td>3061.7</td>\n",
       "      <td>NaN</td>\n",
       "      <td>NaN</td>\n",
       "      <td>NaN</td>\n",
       "    </tr>\n",
       "  </tbody>\n",
       "</table>\n",
       "</div>"
      ],
      "text/plain": [
       "  model  \\\n",
       "3  LGBM   \n",
       "2   RFR   \n",
       "1   DTR   \n",
       "0    LR   \n",
       "\n",
       "                                                                                                                                                           best_parameters  \\\n",
       "3  {'lgbm__boosting': 'gbdt', 'lgbm__learning_rate': 0.12, 'lgbm__max_depth': 20, 'lgbm__n_estimators': 300, 'lgbm__num_iterations': 300, 'lgbm__objective': 'regression'}   \n",
       "2                                                                                                                         {'rfr__max_depth': 20, 'rfr__n_estimators': 180}   \n",
       "1                                                                                                                          {'dtr__criterion': 'mse', 'dtr__max_depth': 15}   \n",
       "0                                                                                                                                               {'lr__normalize': 'False'}   \n",
       "\n",
       "   best_train_score  test_score  training_time  prediction_time  \n",
       "3            1679.6         NaN            NaN              NaN  \n",
       "2            1687.5         NaN            NaN              NaN  \n",
       "1            2073.5         NaN            NaN              NaN  \n",
       "0            3061.7         NaN            NaN              NaN  "
      ]
     },
     "execution_count": 56,
     "metadata": {},
     "output_type": "execute_result"
    }
   ],
   "source": [
    "\n",
    "models_analysis = pd.DataFrame(scores, columns=[\n",
    "    'model',\n",
    "    'best_parameters',\n",
    "    'best_train_score',\n",
    "    'test_score',\n",
    "    'training_time', \n",
    "    'prediction_time'\n",
    "])\n",
    "models_analysis.sort_values(by=['best_train_score'])\n"
   ]
  },
  {
   "cell_type": "markdown",
   "metadata": {},
   "source": [
    "### Вывод:\n",
    "Отлично, мы подобрали оптимальные параметры моделей."
   ]
  },
  {
   "cell_type": "markdown",
   "metadata": {},
   "source": [
    "## Анализ моделей"
   ]
  },
  {
   "cell_type": "markdown",
   "metadata": {},
   "source": [
    "Давайте добавим время обучения/предсказания и RMSE на тесте в таблицу:"
   ]
  },
  {
   "cell_type": "code",
   "execution_count": 57,
   "metadata": {},
   "outputs": [],
   "source": [
    "X_train = pd.DataFrame(scaler.transform(X_train[columns]), columns=columns)"
   ]
  },
  {
   "cell_type": "code",
   "execution_count": 58,
   "metadata": {},
   "outputs": [],
   "source": [
    "\n",
    "LR = LinearRegression(normalize=False)\n",
    "\n",
    "DTR = DecisionTreeRegressor(\n",
    "    max_depth=15,\n",
    "    criterion='friedman_mse',\n",
    "    random_state=123\n",
    ")\n",
    "\n",
    "RFR = RandomForestRegressor(\n",
    "    max_depth=20,\n",
    "    n_estimators=180,\n",
    "    random_state=123\n",
    ")\n",
    "\n",
    "LGBM = lgb.LGBMModel(\n",
    "    learning_rate=0.12,\n",
    "    objective='regression',\n",
    "    max_depth=20,\n",
    "    n_estimators=300,\n",
    "    num_iterations=300,\n",
    "    boosting='gbdt'\n",
    ")\n",
    "\n",
    "models = [LR, DTR, RFR, LGBM]\n"
   ]
  },
  {
   "cell_type": "code",
   "execution_count": 59,
   "metadata": {},
   "outputs": [],
   "source": [
    "\n",
    "for i, model in enumerate(models):\n",
    "    start_time = datetime.now()\n",
    "    model.fit(X_train, y_train)\n",
    "    models_analysis['training_time'][i] = datetime.now() - start_time\n",
    "    \n",
    "    start_time = datetime.now()\n",
    "    predictions = model.predict(X_test)\n",
    "    models_analysis['prediction_time'][i] = datetime.now() - start_time\n",
    "    \n",
    "    models_analysis['test_score'][i] = round(mean_squared_error(y_test, predictions, squared=False), 1)\n",
    "        "
   ]
  },
  {
   "cell_type": "code",
   "execution_count": 60,
   "metadata": {},
   "outputs": [
    {
     "data": {
      "text/html": [
       "<div>\n",
       "<style scoped>\n",
       "    .dataframe tbody tr th:only-of-type {\n",
       "        vertical-align: middle;\n",
       "    }\n",
       "\n",
       "    .dataframe tbody tr th {\n",
       "        vertical-align: top;\n",
       "    }\n",
       "\n",
       "    .dataframe thead th {\n",
       "        text-align: right;\n",
       "    }\n",
       "</style>\n",
       "<table border=\"1\" class=\"dataframe\">\n",
       "  <thead>\n",
       "    <tr style=\"text-align: right;\">\n",
       "      <th></th>\n",
       "      <th>model</th>\n",
       "      <th>best_parameters</th>\n",
       "      <th>best_train_score</th>\n",
       "      <th>test_score</th>\n",
       "      <th>training_time</th>\n",
       "      <th>prediction_time</th>\n",
       "    </tr>\n",
       "  </thead>\n",
       "  <tbody>\n",
       "    <tr>\n",
       "      <td>0</td>\n",
       "      <td>LR</td>\n",
       "      <td>{'lr__normalize': 'False'}</td>\n",
       "      <td>3061.7</td>\n",
       "      <td>3039.4</td>\n",
       "      <td>0:00:00.063589</td>\n",
       "      <td>0:00:00.049206</td>\n",
       "    </tr>\n",
       "    <tr>\n",
       "      <td>1</td>\n",
       "      <td>DTR</td>\n",
       "      <td>{'dtr__criterion': 'mse', 'dtr__max_depth': 15}</td>\n",
       "      <td>2073.5</td>\n",
       "      <td>2026.8</td>\n",
       "      <td>0:00:01.480445</td>\n",
       "      <td>0:00:00.025137</td>\n",
       "    </tr>\n",
       "    <tr>\n",
       "      <td>2</td>\n",
       "      <td>RFR</td>\n",
       "      <td>{'rfr__max_depth': 20, 'rfr__n_estimators': 180}</td>\n",
       "      <td>1687.5</td>\n",
       "      <td>1650.0</td>\n",
       "      <td>0:03:33.435503</td>\n",
       "      <td>0:00:06.104334</td>\n",
       "    </tr>\n",
       "    <tr>\n",
       "      <td>3</td>\n",
       "      <td>LGBM</td>\n",
       "      <td>{'lgbm__boosting': 'gbdt', 'lgbm__learning_rate': 0.12, 'lgbm__max_depth': 20, 'lgbm__n_estimators': 300, 'lgbm__num_iterations': 300, 'lgbm__objective': 'regression'}</td>\n",
       "      <td>1679.6</td>\n",
       "      <td>1655.2</td>\n",
       "      <td>0:00:36.656824</td>\n",
       "      <td>0:00:02.986414</td>\n",
       "    </tr>\n",
       "  </tbody>\n",
       "</table>\n",
       "</div>"
      ],
      "text/plain": [
       "  model  \\\n",
       "0    LR   \n",
       "1   DTR   \n",
       "2   RFR   \n",
       "3  LGBM   \n",
       "\n",
       "                                                                                                                                                           best_parameters  \\\n",
       "0                                                                                                                                               {'lr__normalize': 'False'}   \n",
       "1                                                                                                                          {'dtr__criterion': 'mse', 'dtr__max_depth': 15}   \n",
       "2                                                                                                                         {'rfr__max_depth': 20, 'rfr__n_estimators': 180}   \n",
       "3  {'lgbm__boosting': 'gbdt', 'lgbm__learning_rate': 0.12, 'lgbm__max_depth': 20, 'lgbm__n_estimators': 300, 'lgbm__num_iterations': 300, 'lgbm__objective': 'regression'}   \n",
       "\n",
       "   best_train_score  test_score   training_time prediction_time  \n",
       "0            3061.7      3039.4  0:00:00.063589  0:00:00.049206  \n",
       "1            2073.5      2026.8  0:00:01.480445  0:00:00.025137  \n",
       "2            1687.5      1650.0  0:03:33.435503  0:00:06.104334  \n",
       "3            1679.6      1655.2  0:00:36.656824  0:00:02.986414  "
      ]
     },
     "execution_count": 60,
     "metadata": {},
     "output_type": "execute_result"
    }
   ],
   "source": [
    "models_analysis"
   ]
  },
  {
   "cell_type": "markdown",
   "metadata": {},
   "source": [
    "Отдельно проверим как `LGBM` сам работает с категориальными признаками: "
   ]
  },
  {
   "cell_type": "code",
   "execution_count": 61,
   "metadata": {},
   "outputs": [],
   "source": [
    "\n",
    "start_time = datetime.now()\n",
    "LGBM.fit(X_train_lgbm, y_train_lgbm)\n",
    "models_analysis = models_analysis.append({'model': 'LGBM_self_encoder'}, ignore_index=True)\n",
    "models_analysis['training_time'][4] = datetime.now() - start_time\n",
    "\n",
    "start_time = datetime.now()\n",
    "predictions = LGBM.predict(X_test_lgbm)\n",
    "models_analysis['prediction_time'][4] = datetime.now() - start_time\n",
    "\n",
    "models_analysis['test_score'][4] = round(mean_squared_error(y_test_lgbm, predictions, squared=False), 1)\n"
   ]
  },
  {
   "cell_type": "code",
   "execution_count": 62,
   "metadata": {},
   "outputs": [
    {
     "data": {
      "text/html": [
       "<div>\n",
       "<style scoped>\n",
       "    .dataframe tbody tr th:only-of-type {\n",
       "        vertical-align: middle;\n",
       "    }\n",
       "\n",
       "    .dataframe tbody tr th {\n",
       "        vertical-align: top;\n",
       "    }\n",
       "\n",
       "    .dataframe thead th {\n",
       "        text-align: right;\n",
       "    }\n",
       "</style>\n",
       "<table border=\"1\" class=\"dataframe\">\n",
       "  <thead>\n",
       "    <tr style=\"text-align: right;\">\n",
       "      <th></th>\n",
       "      <th>model</th>\n",
       "      <th>test_score</th>\n",
       "      <th>training_time</th>\n",
       "      <th>prediction_time</th>\n",
       "    </tr>\n",
       "  </thead>\n",
       "  <tbody>\n",
       "    <tr>\n",
       "      <td>4</td>\n",
       "      <td>LGBM_self_encoder</td>\n",
       "      <td>1614.9</td>\n",
       "      <td>0:00:25.756803</td>\n",
       "      <td>0:00:03.404312</td>\n",
       "    </tr>\n",
       "  </tbody>\n",
       "</table>\n",
       "</div>"
      ],
      "text/plain": [
       "               model  test_score   training_time prediction_time\n",
       "4  LGBM_self_encoder      1614.9  0:00:25.756803  0:00:03.404312"
      ]
     },
     "execution_count": 62,
     "metadata": {},
     "output_type": "execute_result"
    }
   ],
   "source": [
    "models_analysis.iloc[[4], [0, 3, 4, 5]]"
   ]
  },
  {
   "cell_type": "markdown",
   "metadata": {},
   "source": [
    "Даже без кроссвалидации и масштабирования `LGBM` отлично справился."
   ]
  },
  {
   "cell_type": "markdown",
   "metadata": {},
   "source": [
    "### Вывод:"
   ]
  },
  {
   "cell_type": "markdown",
   "metadata": {},
   "source": [
    "Из обычных моделей лучшее качество показал `Случайный Лес`, но он в десятки раз медленнее остальных алгоритмов.  \n",
    "А вот алгоритм `LGBM` обладает всеми качествами, которые важны заказчику:  \n",
    "- Качеством предсказания (на уровне Случайного Леса)\n",
    "- Скоростью обучения (около 10 раз быстрее Случайного Леса)\n",
    "- Скоростью предсказания (втрое быстрее Случайного Леса)  \n",
    "\n",
    "Кроме того, `LGBM` сам может работать с категориальными признаками, и не требует кодировать их предварительно.  \n",
    "Мы проверили это отдельно, и качество на тестовой выборке не пострадало.  \n",
    "При этом мы не масштабировали признаки, не подбирали новые параметры (использовали имеющиеся).  \n",
    "Только привели категориальные колонки к нужному формату.  \n",
    "Время обучения выросло как, и время предсказания.  \n",
    "Но все равно показатели достойные.  "
   ]
  },
  {
   "cell_type": "markdown",
   "metadata": {},
   "source": [
    "## Общий вывод:\n",
    "Изначально мы столкнулись с большим количеством артефактов в выборке.  \n",
    "Нулевые цены, странные годы регистрации, большой разброс мощности.  \n",
    "По пробегу видно что он ограничен 150 000км, возможно продавцы не хотят указывать больше.  \n",
    "Число фото не заполнено, много нулей в месяце регистрации.  \n",
    "Отсутствовал возраст авто в чистом виде.  \n",
    "Бензин, как топливо, назывался двумя разными словами.  \n",
    "Мы обработали данные и подготовили их к моделированию.  \n",
    "Увидели провал продаж примерно между тремя и восемью годами с момента регистрации.  \n",
    "Нашли корреляцию возраста, мощности и пробега с ценой.  \n",
    "Вычислили возраст авто по нескольким колонкам с датами.  \n",
    "Нашли алгоритм который подходит по всем трем параметрам:  \n",
    "- Качеством предсказания  \n",
    "- Скоростью обучения  \n",
    "- Скоростью предсказания  \n",
    "\n",
    "Им стал `LGBM`"
   ]
  }
 ],
 "metadata": {
  "ExecuteTimeLog": [
   {
    "duration": 724,
    "start_time": "2021-07-28T06:08:18.097Z"
   },
   {
    "duration": 1086,
    "start_time": "2021-07-28T06:13:44.285Z"
   },
   {
    "duration": 45,
    "start_time": "2021-07-28T06:13:53.198Z"
   },
   {
    "duration": 152,
    "start_time": "2021-07-28T06:15:42.819Z"
   },
   {
    "duration": 334,
    "start_time": "2021-07-28T06:17:17.407Z"
   },
   {
    "duration": 406,
    "start_time": "2021-07-28T06:18:15.364Z"
   },
   {
    "duration": 2307,
    "start_time": "2021-07-28T06:18:50.504Z"
   },
   {
    "duration": 126,
    "start_time": "2021-07-28T06:19:29.046Z"
   },
   {
    "duration": 122,
    "start_time": "2021-07-28T06:19:43.076Z"
   },
   {
    "duration": 113,
    "start_time": "2021-07-28T06:20:03.821Z"
   },
   {
    "duration": 154,
    "start_time": "2021-07-28T06:20:51.062Z"
   },
   {
    "duration": 155,
    "start_time": "2021-07-28T06:21:08.800Z"
   },
   {
    "duration": 155,
    "start_time": "2021-07-28T06:21:27.177Z"
   },
   {
    "duration": 288,
    "start_time": "2021-07-28T06:22:20.822Z"
   },
   {
    "duration": 549,
    "start_time": "2021-07-28T06:22:26.658Z"
   },
   {
    "duration": 648,
    "start_time": "2021-07-28T06:23:26.362Z"
   },
   {
    "duration": 1315,
    "start_time": "2021-07-28T06:23:50.810Z"
   },
   {
    "duration": 1230,
    "start_time": "2021-07-28T06:24:14.855Z"
   },
   {
    "duration": 154,
    "start_time": "2021-07-28T06:24:36.106Z"
   },
   {
    "duration": 31,
    "start_time": "2021-07-28T06:25:05.502Z"
   },
   {
    "duration": 33,
    "start_time": "2021-07-28T06:25:22.523Z"
   },
   {
    "duration": 35,
    "start_time": "2021-07-28T06:27:16.928Z"
   },
   {
    "duration": 33,
    "start_time": "2021-07-28T06:27:46.449Z"
   },
   {
    "duration": 2320,
    "start_time": "2021-07-28T06:27:54.380Z"
   },
   {
    "duration": 31,
    "start_time": "2021-07-28T06:28:02.473Z"
   },
   {
    "duration": 34,
    "start_time": "2021-07-28T06:28:08.552Z"
   },
   {
    "duration": 33,
    "start_time": "2021-07-28T06:28:18.729Z"
   },
   {
    "duration": 130,
    "start_time": "2021-07-28T06:34:54.924Z"
   },
   {
    "duration": 613,
    "start_time": "2021-07-28T06:35:27.574Z"
   },
   {
    "duration": 1342,
    "start_time": "2021-07-28T06:35:30.312Z"
   },
   {
    "duration": 332,
    "start_time": "2021-07-28T06:35:58.703Z"
   },
   {
    "duration": 628,
    "start_time": "2021-07-28T06:36:22.255Z"
   },
   {
    "duration": 221910,
    "start_time": "2021-07-28T06:36:29.433Z"
   },
   {
    "duration": 163,
    "start_time": "2021-07-28T06:44:17.593Z"
   },
   {
    "duration": 157,
    "start_time": "2021-07-28T06:44:30.942Z"
   },
   {
    "duration": 165,
    "start_time": "2021-07-28T06:44:56.899Z"
   },
   {
    "duration": 162,
    "start_time": "2021-07-28T06:45:07.609Z"
   },
   {
    "duration": 312,
    "start_time": "2021-07-28T06:47:23.800Z"
   },
   {
    "duration": 3,
    "start_time": "2021-07-28T06:47:42.423Z"
   },
   {
    "duration": 313,
    "start_time": "2021-07-28T06:47:47.931Z"
   },
   {
    "duration": 4,
    "start_time": "2021-07-28T06:48:11.741Z"
   },
   {
    "duration": 767,
    "start_time": "2021-07-28T06:48:17.523Z"
   },
   {
    "duration": 153,
    "start_time": "2021-07-28T06:49:45.047Z"
   },
   {
    "duration": 295,
    "start_time": "2021-07-28T09:57:23.253Z"
   },
   {
    "duration": 6,
    "start_time": "2021-07-28T09:57:28.020Z"
   },
   {
    "duration": 3,
    "start_time": "2021-07-28T09:57:49.287Z"
   },
   {
    "duration": 6,
    "start_time": "2021-07-28T09:58:10.969Z"
   },
   {
    "duration": 6,
    "start_time": "2021-07-28T09:58:25.318Z"
   },
   {
    "duration": 7,
    "start_time": "2021-07-28T09:58:39.499Z"
   },
   {
    "duration": 1644,
    "start_time": "2021-07-28T10:15:19.045Z"
   },
   {
    "duration": 1148,
    "start_time": "2021-07-28T10:15:20.692Z"
   },
   {
    "duration": 47,
    "start_time": "2021-07-28T10:15:21.843Z"
   },
   {
    "duration": 6,
    "start_time": "2021-07-28T10:15:21.893Z"
   },
   {
    "duration": 108,
    "start_time": "2021-07-28T10:15:21.901Z"
   },
   {
    "duration": 4832,
    "start_time": "2021-07-28T10:15:17.180Z"
   },
   {
    "duration": 4830,
    "start_time": "2021-07-28T10:15:17.183Z"
   },
   {
    "duration": 4821,
    "start_time": "2021-07-28T10:15:17.194Z"
   },
   {
    "duration": 4820,
    "start_time": "2021-07-28T10:15:17.196Z"
   },
   {
    "duration": 4785,
    "start_time": "2021-07-28T10:15:17.233Z"
   },
   {
    "duration": 4775,
    "start_time": "2021-07-28T10:15:17.244Z"
   },
   {
    "duration": 4764,
    "start_time": "2021-07-28T10:15:17.256Z"
   },
   {
    "duration": 4757,
    "start_time": "2021-07-28T10:15:17.265Z"
   },
   {
    "duration": 1501,
    "start_time": "2021-07-28T10:15:44.807Z"
   },
   {
    "duration": 1155,
    "start_time": "2021-07-28T10:15:46.311Z"
   },
   {
    "duration": 44,
    "start_time": "2021-07-28T10:15:47.470Z"
   },
   {
    "duration": 6,
    "start_time": "2021-07-28T10:15:47.517Z"
   },
   {
    "duration": 9,
    "start_time": "2021-07-28T10:15:47.553Z"
   },
   {
    "duration": 481,
    "start_time": "2021-07-28T10:15:47.565Z"
   },
   {
    "duration": 4793,
    "start_time": "2021-07-28T10:15:43.256Z"
   },
   {
    "duration": 4794,
    "start_time": "2021-07-28T10:15:43.257Z"
   },
   {
    "duration": 4782,
    "start_time": "2021-07-28T10:15:43.271Z"
   },
   {
    "duration": 4782,
    "start_time": "2021-07-28T10:15:43.273Z"
   },
   {
    "duration": 4774,
    "start_time": "2021-07-28T10:15:43.284Z"
   },
   {
    "duration": 4774,
    "start_time": "2021-07-28T10:15:43.286Z"
   },
   {
    "duration": 4774,
    "start_time": "2021-07-28T10:15:43.287Z"
   },
   {
    "duration": 334,
    "start_time": "2021-07-28T10:17:21.904Z"
   },
   {
    "duration": 86,
    "start_time": "2021-07-28T10:19:22.046Z"
   },
   {
    "duration": 45,
    "start_time": "2021-07-28T10:19:28.328Z"
   },
   {
    "duration": 38,
    "start_time": "2021-07-28T10:19:51.876Z"
   },
   {
    "duration": 21,
    "start_time": "2021-07-28T10:20:07.767Z"
   },
   {
    "duration": 1538,
    "start_time": "2021-07-28T10:21:18.859Z"
   },
   {
    "duration": 1199,
    "start_time": "2021-07-28T10:21:20.400Z"
   },
   {
    "duration": 38,
    "start_time": "2021-07-28T10:21:21.603Z"
   },
   {
    "duration": 9,
    "start_time": "2021-07-28T10:21:21.656Z"
   },
   {
    "duration": 13,
    "start_time": "2021-07-28T10:21:21.670Z"
   },
   {
    "duration": 51,
    "start_time": "2021-07-28T10:21:21.690Z"
   },
   {
    "duration": 2895,
    "start_time": "2021-07-28T10:21:21.744Z"
   },
   {
    "duration": 157,
    "start_time": "2021-07-28T10:21:24.642Z"
   },
   {
    "duration": 692,
    "start_time": "2021-07-28T10:21:24.802Z"
   },
   {
    "duration": 1406,
    "start_time": "2021-07-28T10:21:25.496Z"
   },
   {
    "duration": 196,
    "start_time": "2021-07-28T10:21:26.905Z"
   },
   {
    "duration": 262448,
    "start_time": "2021-07-28T10:21:27.103Z"
   },
   {
    "duration": 877,
    "start_time": "2021-07-28T10:25:49.557Z"
   },
   {
    "duration": 1988,
    "start_time": "2021-07-28T10:36:48.434Z"
   },
   {
    "duration": 1886,
    "start_time": "2021-07-28T10:37:33.506Z"
   },
   {
    "duration": 336,
    "start_time": "2021-07-28T10:40:56.158Z"
   },
   {
    "duration": 1662,
    "start_time": "2021-07-28T10:41:13.792Z"
   },
   {
    "duration": 94,
    "start_time": "2021-07-28T10:46:05.586Z"
   },
   {
    "duration": 19,
    "start_time": "2021-07-28T10:46:11.974Z"
   },
   {
    "duration": 270,
    "start_time": "2021-07-28T10:47:29.515Z"
   },
   {
    "duration": 257,
    "start_time": "2021-07-28T10:47:34.703Z"
   },
   {
    "duration": 14,
    "start_time": "2021-07-28T10:48:31.435Z"
   },
   {
    "duration": 307,
    "start_time": "2021-07-28T10:48:37.601Z"
   },
   {
    "duration": 14,
    "start_time": "2021-07-28T10:48:41.484Z"
   },
   {
    "duration": 424,
    "start_time": "2021-07-29T09:20:28.428Z"
   },
   {
    "duration": 1439,
    "start_time": "2021-07-29T09:20:35.502Z"
   },
   {
    "duration": 1077,
    "start_time": "2021-07-29T09:20:36.944Z"
   },
   {
    "duration": 57,
    "start_time": "2021-07-29T09:20:38.024Z"
   },
   {
    "duration": 4,
    "start_time": "2021-07-29T09:20:38.084Z"
   },
   {
    "duration": 29,
    "start_time": "2021-07-29T09:20:38.090Z"
   },
   {
    "duration": 2322,
    "start_time": "2021-07-29T09:20:38.122Z"
   },
   {
    "duration": 422,
    "start_time": "2021-07-29T09:20:40.447Z"
   },
   {
    "duration": 18,
    "start_time": "2021-07-29T09:20:40.873Z"
   },
   {
    "duration": 136,
    "start_time": "2021-07-29T09:20:40.894Z"
   },
   {
    "duration": 380,
    "start_time": "2021-07-29T09:20:41.033Z"
   },
   {
    "duration": 817,
    "start_time": "2021-07-29T09:20:41.416Z"
   },
   {
    "duration": 123,
    "start_time": "2021-07-29T09:20:42.236Z"
   },
   {
    "duration": 220031,
    "start_time": "2021-07-29T09:20:42.362Z"
   },
   {
    "duration": 800,
    "start_time": "2021-07-29T09:24:22.396Z"
   },
   {
    "duration": 33,
    "start_time": "2021-07-29T09:30:00.391Z"
   },
   {
    "duration": 1399,
    "start_time": "2021-07-29T09:30:32.313Z"
   },
   {
    "duration": 1065,
    "start_time": "2021-07-29T09:30:33.715Z"
   },
   {
    "duration": 43,
    "start_time": "2021-07-29T09:30:34.783Z"
   },
   {
    "duration": 4,
    "start_time": "2021-07-29T09:30:34.829Z"
   },
   {
    "duration": 37,
    "start_time": "2021-07-29T09:30:34.835Z"
   },
   {
    "duration": 2307,
    "start_time": "2021-07-29T09:30:34.874Z"
   },
   {
    "duration": 391,
    "start_time": "2021-07-29T09:30:37.183Z"
   },
   {
    "duration": 18,
    "start_time": "2021-07-29T09:30:37.578Z"
   },
   {
    "duration": 128,
    "start_time": "2021-07-29T09:30:37.599Z"
   },
   {
    "duration": 441,
    "start_time": "2021-07-29T09:30:37.729Z"
   },
   {
    "duration": 812,
    "start_time": "2021-07-29T09:30:38.173Z"
   },
   {
    "duration": 117,
    "start_time": "2021-07-29T09:30:38.987Z"
   },
   {
    "duration": 220245,
    "start_time": "2021-07-29T09:30:39.106Z"
   },
   {
    "duration": 794,
    "start_time": "2021-07-29T09:34:19.357Z"
   },
   {
    "duration": 526,
    "start_time": "2021-07-29T09:59:39.119Z"
   },
   {
    "duration": 13,
    "start_time": "2021-07-29T09:59:51.071Z"
   },
   {
    "duration": 419,
    "start_time": "2021-07-29T10:03:50.644Z"
   },
   {
    "duration": 860,
    "start_time": "2021-07-29T10:05:27.636Z"
   },
   {
    "duration": 652,
    "start_time": "2021-07-29T10:06:18.388Z"
   },
   {
    "duration": 666,
    "start_time": "2021-07-29T10:06:46.746Z"
   },
   {
    "duration": 312,
    "start_time": "2021-07-29T10:07:20.049Z"
   },
   {
    "duration": 734,
    "start_time": "2021-07-29T10:10:48.942Z"
   },
   {
    "duration": 684,
    "start_time": "2021-07-29T10:12:48.566Z"
   },
   {
    "duration": 391,
    "start_time": "2021-07-29T10:14:27.164Z"
   },
   {
    "duration": 553,
    "start_time": "2021-07-29T10:14:36.068Z"
   },
   {
    "duration": 127,
    "start_time": "2021-07-29T10:15:53.619Z"
   },
   {
    "duration": 395,
    "start_time": "2021-07-29T10:15:57.659Z"
   },
   {
    "duration": 46,
    "start_time": "2021-07-29T10:16:07.746Z"
   },
   {
    "duration": 268,
    "start_time": "2021-07-29T10:17:30.443Z"
   },
   {
    "duration": 295,
    "start_time": "2021-07-29T10:17:51.864Z"
   },
   {
    "duration": 22,
    "start_time": "2021-07-29T10:17:58.120Z"
   },
   {
    "duration": 8,
    "start_time": "2021-07-29T10:18:38.060Z"
   },
   {
    "duration": 7,
    "start_time": "2021-07-29T10:18:44.208Z"
   },
   {
    "duration": 6,
    "start_time": "2021-07-29T10:18:55.976Z"
   },
   {
    "duration": 6,
    "start_time": "2021-07-29T10:19:09.104Z"
   },
   {
    "duration": 14,
    "start_time": "2021-07-29T10:21:00.838Z"
   },
   {
    "duration": 406,
    "start_time": "2021-07-29T10:21:47.760Z"
   },
   {
    "duration": 21,
    "start_time": "2021-07-29T10:21:56.215Z"
   },
   {
    "duration": 16,
    "start_time": "2021-07-29T10:22:08.013Z"
   },
   {
    "duration": 16,
    "start_time": "2021-07-29T10:22:15.966Z"
   },
   {
    "duration": 397,
    "start_time": "2021-07-29T10:22:34.486Z"
   },
   {
    "duration": 17,
    "start_time": "2021-07-29T10:22:52.892Z"
   },
   {
    "duration": 18,
    "start_time": "2021-07-29T10:22:57.757Z"
   },
   {
    "duration": 16,
    "start_time": "2021-07-29T10:23:08.037Z"
   },
   {
    "duration": 16,
    "start_time": "2021-07-29T10:23:55.149Z"
   },
   {
    "duration": 16,
    "start_time": "2021-07-29T10:24:04.100Z"
   },
   {
    "duration": 456,
    "start_time": "2021-07-29T10:27:34.426Z"
   },
   {
    "duration": 16342,
    "start_time": "2021-07-29T10:27:51.985Z"
   },
   {
    "duration": 7447,
    "start_time": "2021-07-29T10:29:01.189Z"
   },
   {
    "duration": 1097,
    "start_time": "2021-07-29T10:29:08.639Z"
   },
   {
    "duration": 40,
    "start_time": "2021-07-29T10:29:09.739Z"
   },
   {
    "duration": 4,
    "start_time": "2021-07-29T10:29:09.781Z"
   },
   {
    "duration": 22,
    "start_time": "2021-07-29T10:29:09.788Z"
   },
   {
    "duration": 3220,
    "start_time": "2021-07-29T10:29:09.812Z"
   },
   {
    "duration": 384,
    "start_time": "2021-07-29T10:29:13.034Z"
   },
   {
    "duration": 18,
    "start_time": "2021-07-29T10:29:13.422Z"
   },
   {
    "duration": 245,
    "start_time": "2021-07-29T10:29:13.443Z"
   },
   {
    "duration": 669,
    "start_time": "2021-07-29T10:29:13.690Z"
   },
   {
    "duration": 16,
    "start_time": "2021-07-29T10:29:14.361Z"
   },
   {
    "duration": 136,
    "start_time": "2021-07-29T10:29:14.379Z"
   },
   {
    "duration": -53,
    "start_time": "2021-07-29T10:29:14.570Z"
   },
   {
    "duration": -54,
    "start_time": "2021-07-29T10:29:14.573Z"
   },
   {
    "duration": -58,
    "start_time": "2021-07-29T10:29:14.578Z"
   },
   {
    "duration": -59,
    "start_time": "2021-07-29T10:29:14.581Z"
   },
   {
    "duration": -60,
    "start_time": "2021-07-29T10:29:14.583Z"
   },
   {
    "duration": 807,
    "start_time": "2021-07-29T10:34:53.885Z"
   },
   {
    "duration": 867,
    "start_time": "2021-07-29T10:35:23.116Z"
   },
   {
    "duration": 835,
    "start_time": "2021-07-29T10:37:30.355Z"
   },
   {
    "duration": 690,
    "start_time": "2021-07-29T10:37:39.938Z"
   },
   {
    "duration": 660,
    "start_time": "2021-07-29T10:38:33.106Z"
   },
   {
    "duration": 8086,
    "start_time": "2021-07-29T11:55:01.816Z"
   },
   {
    "duration": 7854,
    "start_time": "2021-07-29T11:55:47.974Z"
   },
   {
    "duration": 9251,
    "start_time": "2021-07-29T11:56:13.647Z"
   },
   {
    "duration": 212,
    "start_time": "2021-07-29T12:05:43.808Z"
   },
   {
    "duration": 38,
    "start_time": "2021-07-29T12:05:49.551Z"
   },
   {
    "duration": 204,
    "start_time": "2021-07-29T12:06:50.415Z"
   },
   {
    "duration": 8866,
    "start_time": "2021-07-29T12:07:18.991Z"
   },
   {
    "duration": 6,
    "start_time": "2021-07-29T12:07:40.103Z"
   },
   {
    "duration": 6,
    "start_time": "2021-07-29T12:07:52.366Z"
   },
   {
    "duration": 370,
    "start_time": "2021-07-29T12:13:05.122Z"
   },
   {
    "duration": 6338,
    "start_time": "2021-07-29T12:13:11.098Z"
   },
   {
    "duration": 251,
    "start_time": "2021-07-29T12:15:59.264Z"
   },
   {
    "duration": 421,
    "start_time": "2021-07-29T12:18:13.246Z"
   },
   {
    "duration": 149,
    "start_time": "2021-07-29T12:18:19.678Z"
   },
   {
    "duration": 151,
    "start_time": "2021-07-29T12:19:06.684Z"
   },
   {
    "duration": 152,
    "start_time": "2021-07-29T12:22:48.946Z"
   },
   {
    "duration": 147,
    "start_time": "2021-07-29T12:23:44.946Z"
   },
   {
    "duration": 356,
    "start_time": "2021-07-29T12:30:43.660Z"
   },
   {
    "duration": 33,
    "start_time": "2021-07-29T12:33:10.050Z"
   },
   {
    "duration": 44,
    "start_time": "2021-07-29T12:34:01.897Z"
   },
   {
    "duration": 144,
    "start_time": "2021-07-29T12:34:45.864Z"
   },
   {
    "duration": 7082,
    "start_time": "2021-07-29T12:37:37.150Z"
   },
   {
    "duration": 99,
    "start_time": "2021-07-29T12:38:53.782Z"
   },
   {
    "duration": 101,
    "start_time": "2021-07-29T12:39:26.517Z"
   },
   {
    "duration": 114,
    "start_time": "2021-07-29T12:39:35.902Z"
   },
   {
    "duration": 452,
    "start_time": "2021-07-29T13:03:00.562Z"
   },
   {
    "duration": 367,
    "start_time": "2021-07-29T13:07:09.479Z"
   },
   {
    "duration": 8730,
    "start_time": "2021-07-29T13:07:54.830Z"
   },
   {
    "duration": 392,
    "start_time": "2021-07-29T13:08:09.870Z"
   },
   {
    "duration": 406,
    "start_time": "2021-07-29T13:08:19.629Z"
   },
   {
    "duration": 369,
    "start_time": "2021-07-29T13:09:02.293Z"
   },
   {
    "duration": 9441,
    "start_time": "2021-07-29T13:09:36.142Z"
   },
   {
    "duration": 1065,
    "start_time": "2021-07-29T13:09:45.585Z"
   },
   {
    "duration": 39,
    "start_time": "2021-07-29T13:09:46.654Z"
   },
   {
    "duration": 4,
    "start_time": "2021-07-29T13:09:46.696Z"
   },
   {
    "duration": 21,
    "start_time": "2021-07-29T13:09:46.702Z"
   },
   {
    "duration": 2481,
    "start_time": "2021-07-29T13:09:46.756Z"
   },
   {
    "duration": 376,
    "start_time": "2021-07-29T13:09:49.240Z"
   },
   {
    "duration": 18,
    "start_time": "2021-07-29T13:09:49.620Z"
   },
   {
    "duration": 142,
    "start_time": "2021-07-29T13:09:49.641Z"
   },
   {
    "duration": 222,
    "start_time": "2021-07-29T13:09:49.786Z"
   },
   {
    "duration": 5,
    "start_time": "2021-07-29T13:09:50.011Z"
   },
   {
    "duration": 175,
    "start_time": "2021-07-29T13:09:50.018Z"
   },
   {
    "duration": 60,
    "start_time": "2021-07-29T13:09:50.196Z"
   },
   {
    "duration": 516,
    "start_time": "2021-07-29T13:09:50.258Z"
   },
   {
    "duration": -107,
    "start_time": "2021-07-29T13:09:50.883Z"
   },
   {
    "duration": -108,
    "start_time": "2021-07-29T13:09:50.885Z"
   },
   {
    "duration": -109,
    "start_time": "2021-07-29T13:09:50.888Z"
   },
   {
    "duration": -110,
    "start_time": "2021-07-29T13:09:50.890Z"
   },
   {
    "duration": -113,
    "start_time": "2021-07-29T13:09:50.894Z"
   },
   {
    "duration": -114,
    "start_time": "2021-07-29T13:09:50.897Z"
   },
   {
    "duration": -116,
    "start_time": "2021-07-29T13:09:50.900Z"
   },
   {
    "duration": -117,
    "start_time": "2021-07-29T13:09:50.902Z"
   },
   {
    "duration": -117,
    "start_time": "2021-07-29T13:09:50.904Z"
   },
   {
    "duration": -120,
    "start_time": "2021-07-29T13:09:50.908Z"
   },
   {
    "duration": 7264,
    "start_time": "2021-07-29T13:18:07.008Z"
   },
   {
    "duration": 6575,
    "start_time": "2021-07-29T13:18:25.159Z"
   },
   {
    "duration": 7179,
    "start_time": "2021-07-29T13:18:42.807Z"
   },
   {
    "duration": 456,
    "start_time": "2021-07-29T13:18:52.910Z"
   },
   {
    "duration": 9424,
    "start_time": "2021-07-29T13:19:05.070Z"
   },
   {
    "duration": 1055,
    "start_time": "2021-07-29T13:19:14.497Z"
   },
   {
    "duration": 39,
    "start_time": "2021-07-29T13:19:15.557Z"
   },
   {
    "duration": 4,
    "start_time": "2021-07-29T13:19:15.598Z"
   },
   {
    "duration": 23,
    "start_time": "2021-07-29T13:19:15.604Z"
   },
   {
    "duration": 2467,
    "start_time": "2021-07-29T13:19:15.629Z"
   },
   {
    "duration": 380,
    "start_time": "2021-07-29T13:19:18.099Z"
   },
   {
    "duration": 19,
    "start_time": "2021-07-29T13:19:18.482Z"
   },
   {
    "duration": 136,
    "start_time": "2021-07-29T13:19:18.504Z"
   },
   {
    "duration": 221,
    "start_time": "2021-07-29T13:19:18.642Z"
   },
   {
    "duration": 5,
    "start_time": "2021-07-29T13:19:18.865Z"
   },
   {
    "duration": 164,
    "start_time": "2021-07-29T13:19:18.872Z"
   },
   {
    "duration": 54,
    "start_time": "2021-07-29T13:19:19.039Z"
   },
   {
    "duration": 507,
    "start_time": "2021-07-29T13:19:19.096Z"
   },
   {
    "duration": -97,
    "start_time": "2021-07-29T13:19:19.702Z"
   },
   {
    "duration": -99,
    "start_time": "2021-07-29T13:19:19.706Z"
   },
   {
    "duration": -100,
    "start_time": "2021-07-29T13:19:19.708Z"
   },
   {
    "duration": -100,
    "start_time": "2021-07-29T13:19:19.710Z"
   },
   {
    "duration": -102,
    "start_time": "2021-07-29T13:19:19.713Z"
   },
   {
    "duration": -103,
    "start_time": "2021-07-29T13:19:19.716Z"
   },
   {
    "duration": -103,
    "start_time": "2021-07-29T13:19:19.718Z"
   },
   {
    "duration": -105,
    "start_time": "2021-07-29T13:19:19.721Z"
   },
   {
    "duration": -106,
    "start_time": "2021-07-29T13:19:19.723Z"
   },
   {
    "duration": -107,
    "start_time": "2021-07-29T13:19:19.726Z"
   },
   {
    "duration": 9836,
    "start_time": "2021-07-29T13:36:21.435Z"
   },
   {
    "duration": 1227,
    "start_time": "2021-07-29T13:36:31.274Z"
   },
   {
    "duration": 56,
    "start_time": "2021-07-29T13:36:32.504Z"
   },
   {
    "duration": 4,
    "start_time": "2021-07-29T13:36:32.563Z"
   },
   {
    "duration": 24,
    "start_time": "2021-07-29T13:36:32.569Z"
   },
   {
    "duration": 2400,
    "start_time": "2021-07-29T13:36:32.596Z"
   },
   {
    "duration": 379,
    "start_time": "2021-07-29T13:36:34.999Z"
   },
   {
    "duration": 21,
    "start_time": "2021-07-29T13:36:35.381Z"
   },
   {
    "duration": 142,
    "start_time": "2021-07-29T13:36:35.405Z"
   },
   {
    "duration": 237,
    "start_time": "2021-07-29T13:36:35.555Z"
   },
   {
    "duration": 6,
    "start_time": "2021-07-29T13:36:35.795Z"
   },
   {
    "duration": 168,
    "start_time": "2021-07-29T13:36:35.804Z"
   },
   {
    "duration": 44,
    "start_time": "2021-07-29T13:36:35.974Z"
   },
   {
    "duration": 659,
    "start_time": "2021-07-29T13:36:36.020Z"
   },
   {
    "duration": -1446,
    "start_time": "2021-07-29T13:36:38.127Z"
   },
   {
    "duration": -1447,
    "start_time": "2021-07-29T13:36:38.130Z"
   },
   {
    "duration": -1449,
    "start_time": "2021-07-29T13:36:38.133Z"
   },
   {
    "duration": -1449,
    "start_time": "2021-07-29T13:36:38.135Z"
   },
   {
    "duration": -1450,
    "start_time": "2021-07-29T13:36:38.137Z"
   },
   {
    "duration": -1450,
    "start_time": "2021-07-29T13:36:38.139Z"
   },
   {
    "duration": -1452,
    "start_time": "2021-07-29T13:36:38.142Z"
   },
   {
    "duration": -1452,
    "start_time": "2021-07-29T13:36:38.144Z"
   },
   {
    "duration": -1453,
    "start_time": "2021-07-29T13:36:38.146Z"
   },
   {
    "duration": -1453,
    "start_time": "2021-07-29T13:36:38.148Z"
   },
   {
    "duration": 35339,
    "start_time": "2021-07-29T13:36:54.412Z"
   },
   {
    "duration": 36234,
    "start_time": "2021-07-29T13:38:09.946Z"
   },
   {
    "duration": 37599,
    "start_time": "2021-07-29T13:38:55.097Z"
   },
   {
    "duration": 31861,
    "start_time": "2021-07-29T13:40:09.833Z"
   },
   {
    "duration": 3856,
    "start_time": "2021-07-29T13:41:10.896Z"
   },
   {
    "duration": 3300,
    "start_time": "2021-07-29T13:41:28.080Z"
   },
   {
    "duration": 3316,
    "start_time": "2021-07-29T13:42:09.743Z"
   },
   {
    "duration": 1291,
    "start_time": "2021-07-29T13:42:31.599Z"
   },
   {
    "duration": 3244,
    "start_time": "2021-07-29T13:43:14.566Z"
   },
   {
    "duration": 366,
    "start_time": "2021-07-29T13:50:24.593Z"
   },
   {
    "duration": 167,
    "start_time": "2021-07-29T13:50:54.176Z"
   },
   {
    "duration": 197,
    "start_time": "2021-07-29T13:51:39.913Z"
   },
   {
    "duration": 201,
    "start_time": "2021-07-29T13:52:58.400Z"
   },
   {
    "duration": 12,
    "start_time": "2021-07-29T13:55:23.821Z"
   },
   {
    "duration": 40,
    "start_time": "2021-07-29T13:55:56.477Z"
   },
   {
    "duration": 33,
    "start_time": "2021-07-29T13:56:05.916Z"
   },
   {
    "duration": 12,
    "start_time": "2021-07-29T13:56:11.468Z"
   },
   {
    "duration": 7,
    "start_time": "2021-07-29T13:56:44.132Z"
   },
   {
    "duration": 10,
    "start_time": "2021-07-29T13:58:08.067Z"
   },
   {
    "duration": 9,
    "start_time": "2021-07-29T13:58:11.786Z"
   },
   {
    "duration": 8,
    "start_time": "2021-07-29T13:58:17.698Z"
   },
   {
    "duration": 3217,
    "start_time": "2021-07-29T13:58:59.954Z"
   },
   {
    "duration": 4793,
    "start_time": "2021-07-29T13:59:07.490Z"
   },
   {
    "duration": 3258,
    "start_time": "2021-07-29T13:59:27.266Z"
   },
   {
    "duration": 37258,
    "start_time": "2021-07-29T13:59:57.521Z"
   },
   {
    "duration": 2508,
    "start_time": "2021-07-29T14:01:20.712Z"
   },
   {
    "duration": 2807,
    "start_time": "2021-07-29T14:01:32.489Z"
   },
   {
    "duration": 149739,
    "start_time": "2021-07-29T14:01:43.408Z"
   },
   {
    "duration": 4686,
    "start_time": "2021-07-29T14:05:41.781Z"
   },
   {
    "duration": 4707,
    "start_time": "2021-07-29T14:06:30.987Z"
   },
   {
    "duration": 4996,
    "start_time": "2021-07-29T14:06:54.292Z"
   },
   {
    "duration": 5175,
    "start_time": "2021-07-29T14:07:24.820Z"
   },
   {
    "duration": 5125,
    "start_time": "2021-07-29T14:07:44.100Z"
   },
   {
    "duration": 4986,
    "start_time": "2021-07-29T14:08:20.523Z"
   },
   {
    "duration": 4970,
    "start_time": "2021-07-29T14:09:51.330Z"
   },
   {
    "duration": 5496,
    "start_time": "2021-07-29T14:12:30.016Z"
   },
   {
    "duration": 8004,
    "start_time": "2021-07-29T14:12:54.423Z"
   },
   {
    "duration": 5415,
    "start_time": "2021-07-29T14:13:17.703Z"
   },
   {
    "duration": 813,
    "start_time": "2021-07-29T14:15:22.533Z"
   },
   {
    "duration": 5175,
    "start_time": "2021-07-29T14:16:05.558Z"
   },
   {
    "duration": 132,
    "start_time": "2021-07-29T14:16:42.180Z"
   },
   {
    "duration": 3014,
    "start_time": "2021-07-29T14:17:18.828Z"
   },
   {
    "duration": 127,
    "start_time": "2021-07-29T14:17:50.300Z"
   },
   {
    "duration": 132,
    "start_time": "2021-07-29T14:19:39.114Z"
   },
   {
    "duration": 129,
    "start_time": "2021-07-29T14:20:13.379Z"
   },
   {
    "duration": 5155,
    "start_time": "2021-07-29T14:20:39.241Z"
   },
   {
    "duration": 5371,
    "start_time": "2021-07-29T14:20:53.641Z"
   },
   {
    "duration": 5150,
    "start_time": "2021-07-29T14:22:09.960Z"
   },
   {
    "duration": 5075,
    "start_time": "2021-07-29T14:22:16.832Z"
   },
   {
    "duration": 5207,
    "start_time": "2021-07-29T14:22:54.584Z"
   },
   {
    "duration": 15,
    "start_time": "2021-07-29T14:25:21.230Z"
   },
   {
    "duration": 11,
    "start_time": "2021-07-29T14:25:42.614Z"
   },
   {
    "duration": 9,
    "start_time": "2021-07-29T14:26:31.173Z"
   },
   {
    "duration": 19,
    "start_time": "2021-07-29T14:26:40.476Z"
   },
   {
    "duration": 700,
    "start_time": "2021-07-29T14:26:55.860Z"
   },
   {
    "duration": 10,
    "start_time": "2021-07-29T14:27:55.819Z"
   },
   {
    "duration": 9,
    "start_time": "2021-07-29T14:28:09.411Z"
   },
   {
    "duration": 9,
    "start_time": "2021-07-29T14:28:31.163Z"
   },
   {
    "duration": 10,
    "start_time": "2021-07-29T14:29:05.442Z"
   },
   {
    "duration": 10,
    "start_time": "2021-07-29T14:29:10.402Z"
   },
   {
    "duration": 10,
    "start_time": "2021-07-29T14:29:28.315Z"
   },
   {
    "duration": 9,
    "start_time": "2021-07-29T14:31:32.401Z"
   },
   {
    "duration": 9,
    "start_time": "2021-07-29T14:35:29.798Z"
   },
   {
    "duration": 8232,
    "start_time": "2021-07-29T14:37:40.508Z"
   },
   {
    "duration": 13,
    "start_time": "2021-07-29T14:38:04.244Z"
   },
   {
    "duration": 4973,
    "start_time": "2021-07-29T14:38:41.213Z"
   },
   {
    "duration": 11,
    "start_time": "2021-07-29T14:38:58.451Z"
   },
   {
    "duration": 425,
    "start_time": "2021-07-29T14:44:08.704Z"
   },
   {
    "duration": 13,
    "start_time": "2021-07-29T14:44:21.349Z"
   },
   {
    "duration": 10,
    "start_time": "2021-07-29T14:45:06.382Z"
   },
   {
    "duration": 10,
    "start_time": "2021-07-29T14:49:23.835Z"
   },
   {
    "duration": 14,
    "start_time": "2021-07-29T14:49:52.242Z"
   },
   {
    "duration": 512,
    "start_time": "2021-07-29T15:02:42.448Z"
   },
   {
    "duration": 6252,
    "start_time": "2021-07-29T15:03:16.239Z"
   },
   {
    "duration": 6698,
    "start_time": "2021-07-29T15:04:31.375Z"
   },
   {
    "duration": 449,
    "start_time": "2021-07-29T15:06:33.750Z"
   },
   {
    "duration": 6336,
    "start_time": "2021-07-29T15:06:59.996Z"
   },
   {
    "duration": 443,
    "start_time": "2021-07-29T15:07:27.804Z"
   },
   {
    "duration": 511,
    "start_time": "2021-07-29T15:09:06.770Z"
   },
   {
    "duration": 549,
    "start_time": "2021-07-29T15:09:19.114Z"
   },
   {
    "duration": 616,
    "start_time": "2021-07-29T15:09:35.114Z"
   },
   {
    "duration": 53,
    "start_time": "2021-07-29T15:12:43.999Z"
   },
   {
    "duration": 459,
    "start_time": "2021-07-29T15:12:46.983Z"
   },
   {
    "duration": 6301,
    "start_time": "2021-07-29T15:13:07.046Z"
   },
   {
    "duration": 127,
    "start_time": "2021-07-29T15:13:39.246Z"
   },
   {
    "duration": 6172,
    "start_time": "2021-07-29T15:13:40.248Z"
   },
   {
    "duration": 9560,
    "start_time": "2021-07-29T15:15:50.933Z"
   },
   {
    "duration": 1121,
    "start_time": "2021-07-29T15:16:00.496Z"
   },
   {
    "duration": 74,
    "start_time": "2021-07-29T15:16:01.624Z"
   },
   {
    "duration": 6,
    "start_time": "2021-07-29T15:16:01.701Z"
   },
   {
    "duration": 56,
    "start_time": "2021-07-29T15:16:01.709Z"
   },
   {
    "duration": 4054,
    "start_time": "2021-07-29T15:16:01.768Z"
   },
   {
    "duration": 627,
    "start_time": "2021-07-29T15:16:05.827Z"
   },
   {
    "duration": 23,
    "start_time": "2021-07-29T15:16:06.458Z"
   },
   {
    "duration": 144,
    "start_time": "2021-07-29T15:16:06.484Z"
   },
   {
    "duration": 224,
    "start_time": "2021-07-29T15:16:06.631Z"
   },
   {
    "duration": 6,
    "start_time": "2021-07-29T15:16:06.857Z"
   },
   {
    "duration": 172,
    "start_time": "2021-07-29T15:16:06.866Z"
   },
   {
    "duration": 60,
    "start_time": "2021-07-29T15:16:07.041Z"
   },
   {
    "duration": 5226,
    "start_time": "2021-07-29T15:16:07.103Z"
   },
   {
    "duration": 5098,
    "start_time": "2021-07-29T15:16:12.331Z"
   },
   {
    "duration": 26,
    "start_time": "2021-07-29T15:16:17.432Z"
   },
   {
    "duration": 13,
    "start_time": "2021-07-29T15:16:17.462Z"
   },
   {
    "duration": 141,
    "start_time": "2021-07-29T15:16:17.478Z"
   },
   {
    "duration": 6062,
    "start_time": "2021-07-29T15:16:17.622Z"
   },
   {
    "duration": -161,
    "start_time": "2021-07-29T15:16:23.849Z"
   },
   {
    "duration": -163,
    "start_time": "2021-07-29T15:16:23.853Z"
   },
   {
    "duration": -163,
    "start_time": "2021-07-29T15:16:23.855Z"
   },
   {
    "duration": -165,
    "start_time": "2021-07-29T15:16:23.858Z"
   },
   {
    "duration": -176,
    "start_time": "2021-07-29T15:16:23.871Z"
   },
   {
    "duration": -180,
    "start_time": "2021-07-29T15:16:23.876Z"
   },
   {
    "duration": -182,
    "start_time": "2021-07-29T15:16:23.880Z"
   },
   {
    "duration": -184,
    "start_time": "2021-07-29T15:16:23.883Z"
   },
   {
    "duration": -184,
    "start_time": "2021-07-29T15:16:23.885Z"
   },
   {
    "duration": 10558,
    "start_time": "2021-07-29T15:17:28.567Z"
   },
   {
    "duration": 1099,
    "start_time": "2021-07-29T15:17:39.128Z"
   },
   {
    "duration": 55,
    "start_time": "2021-07-29T15:17:40.229Z"
   },
   {
    "duration": 4,
    "start_time": "2021-07-29T15:17:40.286Z"
   },
   {
    "duration": 24,
    "start_time": "2021-07-29T15:17:40.292Z"
   },
   {
    "duration": 2595,
    "start_time": "2021-07-29T15:17:40.318Z"
   },
   {
    "duration": 397,
    "start_time": "2021-07-29T15:17:42.916Z"
   },
   {
    "duration": 19,
    "start_time": "2021-07-29T15:17:43.317Z"
   },
   {
    "duration": 126,
    "start_time": "2021-07-29T15:17:43.357Z"
   },
   {
    "duration": 227,
    "start_time": "2021-07-29T15:17:43.485Z"
   },
   {
    "duration": 5,
    "start_time": "2021-07-29T15:17:43.714Z"
   },
   {
    "duration": 165,
    "start_time": "2021-07-29T15:17:43.721Z"
   },
   {
    "duration": 47,
    "start_time": "2021-07-29T15:17:43.889Z"
   },
   {
    "duration": 4939,
    "start_time": "2021-07-29T15:17:43.938Z"
   },
   {
    "duration": 4962,
    "start_time": "2021-07-29T15:17:48.880Z"
   },
   {
    "duration": 19,
    "start_time": "2021-07-29T15:17:53.844Z"
   },
   {
    "duration": 15,
    "start_time": "2021-07-29T15:17:53.865Z"
   },
   {
    "duration": 512,
    "start_time": "2021-07-29T15:17:53.882Z"
   },
   {
    "duration": 125,
    "start_time": "2021-07-29T15:17:54.396Z"
   },
   {
    "duration": 7078,
    "start_time": "2021-07-29T15:17:54.523Z"
   },
   {
    "duration": 974,
    "start_time": "2021-07-29T15:18:01.604Z"
   },
   {
    "duration": -153,
    "start_time": "2021-07-29T15:18:02.734Z"
   },
   {
    "duration": -157,
    "start_time": "2021-07-29T15:18:02.739Z"
   },
   {
    "duration": -157,
    "start_time": "2021-07-29T15:18:02.741Z"
   },
   {
    "duration": -159,
    "start_time": "2021-07-29T15:18:02.744Z"
   },
   {
    "duration": -159,
    "start_time": "2021-07-29T15:18:02.746Z"
   },
   {
    "duration": -160,
    "start_time": "2021-07-29T15:18:02.749Z"
   },
   {
    "duration": 53,
    "start_time": "2021-07-29T15:33:34.533Z"
   },
   {
    "duration": 5793,
    "start_time": "2021-07-29T15:33:35.836Z"
   },
   {
    "duration": 52,
    "start_time": "2021-07-29T15:34:09.180Z"
   },
   {
    "duration": 6524,
    "start_time": "2021-07-29T15:34:11.214Z"
   },
   {
    "duration": 53,
    "start_time": "2021-07-29T15:34:39.428Z"
   },
   {
    "duration": 5749,
    "start_time": "2021-07-29T15:34:40.328Z"
   },
   {
    "duration": 112,
    "start_time": "2021-07-29T15:35:02.723Z"
   },
   {
    "duration": 10922,
    "start_time": "2021-07-29T15:35:04.620Z"
   },
   {
    "duration": 10399,
    "start_time": "2021-07-29T15:35:44.675Z"
   },
   {
    "duration": 1102,
    "start_time": "2021-07-29T15:35:55.077Z"
   },
   {
    "duration": 42,
    "start_time": "2021-07-29T15:35:56.182Z"
   },
   {
    "duration": 4,
    "start_time": "2021-07-29T15:35:56.226Z"
   },
   {
    "duration": 44,
    "start_time": "2021-07-29T15:35:56.233Z"
   },
   {
    "duration": 2527,
    "start_time": "2021-07-29T15:35:56.280Z"
   },
   {
    "duration": 394,
    "start_time": "2021-07-29T15:35:58.809Z"
   },
   {
    "duration": 19,
    "start_time": "2021-07-29T15:35:59.206Z"
   },
   {
    "duration": 150,
    "start_time": "2021-07-29T15:35:59.230Z"
   },
   {
    "duration": 233,
    "start_time": "2021-07-29T15:35:59.383Z"
   },
   {
    "duration": 6,
    "start_time": "2021-07-29T15:35:59.619Z"
   },
   {
    "duration": 170,
    "start_time": "2021-07-29T15:35:59.628Z"
   },
   {
    "duration": 66,
    "start_time": "2021-07-29T15:35:59.801Z"
   },
   {
    "duration": 5218,
    "start_time": "2021-07-29T15:35:59.869Z"
   },
   {
    "duration": 5338,
    "start_time": "2021-07-29T15:36:05.089Z"
   },
   {
    "duration": 28,
    "start_time": "2021-07-29T15:36:10.430Z"
   },
   {
    "duration": 14,
    "start_time": "2021-07-29T15:36:10.460Z"
   },
   {
    "duration": 170,
    "start_time": "2021-07-29T15:36:10.477Z"
   },
   {
    "duration": 6110,
    "start_time": "2021-07-29T15:36:10.649Z"
   },
   {
    "duration": -175,
    "start_time": "2021-07-29T15:36:16.937Z"
   },
   {
    "duration": -178,
    "start_time": "2021-07-29T15:36:16.942Z"
   },
   {
    "duration": -180,
    "start_time": "2021-07-29T15:36:16.945Z"
   },
   {
    "duration": -181,
    "start_time": "2021-07-29T15:36:16.948Z"
   },
   {
    "duration": -182,
    "start_time": "2021-07-29T15:36:16.950Z"
   },
   {
    "duration": -184,
    "start_time": "2021-07-29T15:36:16.953Z"
   },
   {
    "duration": -185,
    "start_time": "2021-07-29T15:36:16.956Z"
   },
   {
    "duration": -187,
    "start_time": "2021-07-29T15:36:16.959Z"
   },
   {
    "duration": -188,
    "start_time": "2021-07-29T15:36:16.961Z"
   },
   {
    "duration": 9822,
    "start_time": "2021-07-29T15:39:54.123Z"
   },
   {
    "duration": 1131,
    "start_time": "2021-07-29T15:40:03.948Z"
   },
   {
    "duration": 44,
    "start_time": "2021-07-29T15:40:05.082Z"
   },
   {
    "duration": 4,
    "start_time": "2021-07-29T15:40:05.129Z"
   },
   {
    "duration": 18,
    "start_time": "2021-07-29T15:40:05.155Z"
   },
   {
    "duration": 2392,
    "start_time": "2021-07-29T15:40:05.175Z"
   },
   {
    "duration": 406,
    "start_time": "2021-07-29T15:40:07.570Z"
   },
   {
    "duration": 18,
    "start_time": "2021-07-29T15:40:07.979Z"
   },
   {
    "duration": 183,
    "start_time": "2021-07-29T15:40:08.000Z"
   },
   {
    "duration": 347,
    "start_time": "2021-07-29T15:40:08.185Z"
   },
   {
    "duration": 6,
    "start_time": "2021-07-29T15:40:08.534Z"
   },
   {
    "duration": 166,
    "start_time": "2021-07-29T15:40:08.543Z"
   },
   {
    "duration": 59,
    "start_time": "2021-07-29T15:40:08.712Z"
   },
   {
    "duration": 5332,
    "start_time": "2021-07-29T15:40:08.773Z"
   },
   {
    "duration": 5206,
    "start_time": "2021-07-29T15:40:14.107Z"
   },
   {
    "duration": 11,
    "start_time": "2021-07-29T15:40:19.315Z"
   },
   {
    "duration": 40,
    "start_time": "2021-07-29T15:40:19.328Z"
   },
   {
    "duration": 145,
    "start_time": "2021-07-29T15:40:19.372Z"
   },
   {
    "duration": 6017,
    "start_time": "2021-07-29T15:40:19.521Z"
   },
   {
    "duration": -165,
    "start_time": "2021-07-29T15:40:25.707Z"
   },
   {
    "duration": -167,
    "start_time": "2021-07-29T15:40:25.710Z"
   },
   {
    "duration": -167,
    "start_time": "2021-07-29T15:40:25.712Z"
   },
   {
    "duration": -168,
    "start_time": "2021-07-29T15:40:25.714Z"
   },
   {
    "duration": -169,
    "start_time": "2021-07-29T15:40:25.717Z"
   },
   {
    "duration": -171,
    "start_time": "2021-07-29T15:40:25.720Z"
   },
   {
    "duration": -183,
    "start_time": "2021-07-29T15:40:25.733Z"
   },
   {
    "duration": -187,
    "start_time": "2021-07-29T15:40:25.738Z"
   },
   {
    "duration": -188,
    "start_time": "2021-07-29T15:40:25.741Z"
   },
   {
    "duration": 5766,
    "start_time": "2021-07-29T15:41:03.879Z"
   },
   {
    "duration": 10531,
    "start_time": "2021-07-29T15:41:20.606Z"
   },
   {
    "duration": 1069,
    "start_time": "2021-07-29T15:41:31.140Z"
   },
   {
    "duration": 71,
    "start_time": "2021-07-29T15:41:32.213Z"
   },
   {
    "duration": 5,
    "start_time": "2021-07-29T15:41:32.287Z"
   },
   {
    "duration": 21,
    "start_time": "2021-07-29T15:41:32.295Z"
   },
   {
    "duration": 2480,
    "start_time": "2021-07-29T15:41:32.319Z"
   },
   {
    "duration": 413,
    "start_time": "2021-07-29T15:41:34.802Z"
   },
   {
    "duration": 19,
    "start_time": "2021-07-29T15:41:35.219Z"
   },
   {
    "duration": 135,
    "start_time": "2021-07-29T15:41:35.256Z"
   },
   {
    "duration": 230,
    "start_time": "2021-07-29T15:41:35.394Z"
   },
   {
    "duration": 5,
    "start_time": "2021-07-29T15:41:35.626Z"
   },
   {
    "duration": 172,
    "start_time": "2021-07-29T15:41:35.633Z"
   },
   {
    "duration": 61,
    "start_time": "2021-07-29T15:41:35.807Z"
   },
   {
    "duration": 5112,
    "start_time": "2021-07-29T15:41:35.870Z"
   },
   {
    "duration": 5081,
    "start_time": "2021-07-29T15:41:40.985Z"
   },
   {
    "duration": 11,
    "start_time": "2021-07-29T15:41:46.068Z"
   },
   {
    "duration": 17,
    "start_time": "2021-07-29T15:41:46.081Z"
   },
   {
    "duration": 497,
    "start_time": "2021-07-29T15:41:46.100Z"
   },
   {
    "duration": 126,
    "start_time": "2021-07-29T15:41:46.600Z"
   },
   {
    "duration": 6663,
    "start_time": "2021-07-29T15:41:46.729Z"
   },
   {
    "duration": 1132,
    "start_time": "2021-07-29T15:41:53.395Z"
   },
   {
    "duration": -172,
    "start_time": "2021-07-29T15:41:54.701Z"
   },
   {
    "duration": -174,
    "start_time": "2021-07-29T15:41:54.705Z"
   },
   {
    "duration": -175,
    "start_time": "2021-07-29T15:41:54.708Z"
   },
   {
    "duration": -178,
    "start_time": "2021-07-29T15:41:54.712Z"
   },
   {
    "duration": -179,
    "start_time": "2021-07-29T15:41:54.714Z"
   },
   {
    "duration": -179,
    "start_time": "2021-07-29T15:41:54.716Z"
   },
   {
    "duration": 42,
    "start_time": "2021-07-29T15:42:54.732Z"
   },
   {
    "duration": 6259,
    "start_time": "2021-07-29T15:42:56.995Z"
   },
   {
    "duration": 614,
    "start_time": "2021-07-29T15:43:32.220Z"
   },
   {
    "duration": 59,
    "start_time": "2021-07-29T15:44:29.979Z"
   },
   {
    "duration": 607,
    "start_time": "2021-07-29T15:44:31.195Z"
   },
   {
    "duration": 106,
    "start_time": "2021-07-29T15:45:08.443Z"
   },
   {
    "duration": 605,
    "start_time": "2021-07-29T15:45:09.524Z"
   },
   {
    "duration": 5,
    "start_time": "2021-07-29T15:47:52.320Z"
   },
   {
    "duration": 10275,
    "start_time": "2021-07-29T15:47:59.452Z"
   },
   {
    "duration": 1120,
    "start_time": "2021-07-29T15:48:09.730Z"
   },
   {
    "duration": 44,
    "start_time": "2021-07-29T15:48:10.857Z"
   },
   {
    "duration": 4,
    "start_time": "2021-07-29T15:48:10.903Z"
   },
   {
    "duration": 56,
    "start_time": "2021-07-29T15:48:10.909Z"
   },
   {
    "duration": 2283,
    "start_time": "2021-07-29T15:48:10.968Z"
   },
   {
    "duration": 390,
    "start_time": "2021-07-29T15:48:13.257Z"
   },
   {
    "duration": 18,
    "start_time": "2021-07-29T15:48:13.650Z"
   },
   {
    "duration": 135,
    "start_time": "2021-07-29T15:48:13.670Z"
   },
   {
    "duration": 218,
    "start_time": "2021-07-29T15:48:13.807Z"
   },
   {
    "duration": 5,
    "start_time": "2021-07-29T15:48:14.027Z"
   },
   {
    "duration": 162,
    "start_time": "2021-07-29T15:48:14.035Z"
   },
   {
    "duration": 58,
    "start_time": "2021-07-29T15:48:14.200Z"
   },
   {
    "duration": 5142,
    "start_time": "2021-07-29T15:48:14.260Z"
   },
   {
    "duration": 5594,
    "start_time": "2021-07-29T15:48:19.405Z"
   },
   {
    "duration": 13,
    "start_time": "2021-07-29T15:48:25.002Z"
   },
   {
    "duration": 45,
    "start_time": "2021-07-29T15:48:25.018Z"
   },
   {
    "duration": 29,
    "start_time": "2021-07-29T15:48:25.067Z"
   },
   {
    "duration": 7,
    "start_time": "2021-07-29T15:48:25.099Z"
   },
   {
    "duration": 10527,
    "start_time": "2021-07-29T15:48:25.109Z"
   },
   {
    "duration": -173,
    "start_time": "2021-07-29T15:48:35.812Z"
   },
   {
    "duration": -174,
    "start_time": "2021-07-29T15:48:35.815Z"
   },
   {
    "duration": -177,
    "start_time": "2021-07-29T15:48:35.819Z"
   },
   {
    "duration": -181,
    "start_time": "2021-07-29T15:48:35.825Z"
   },
   {
    "duration": -182,
    "start_time": "2021-07-29T15:48:35.827Z"
   },
   {
    "duration": -183,
    "start_time": "2021-07-29T15:48:35.830Z"
   },
   {
    "duration": -185,
    "start_time": "2021-07-29T15:48:35.833Z"
   },
   {
    "duration": -185,
    "start_time": "2021-07-29T15:48:35.835Z"
   },
   {
    "duration": -188,
    "start_time": "2021-07-29T15:48:35.839Z"
   },
   {
    "duration": 8,
    "start_time": "2021-07-29T15:49:58.487Z"
   },
   {
    "duration": 5,
    "start_time": "2021-07-29T15:49:59.358Z"
   },
   {
    "duration": 9552,
    "start_time": "2021-07-29T15:50:11.172Z"
   },
   {
    "duration": 1083,
    "start_time": "2021-07-29T15:50:20.727Z"
   },
   {
    "duration": 49,
    "start_time": "2021-07-29T15:50:21.813Z"
   },
   {
    "duration": 4,
    "start_time": "2021-07-29T15:50:21.865Z"
   },
   {
    "duration": 31,
    "start_time": "2021-07-29T15:50:21.872Z"
   },
   {
    "duration": 4085,
    "start_time": "2021-07-29T15:50:21.906Z"
   },
   {
    "duration": 636,
    "start_time": "2021-07-29T15:50:25.993Z"
   },
   {
    "duration": 28,
    "start_time": "2021-07-29T15:50:26.632Z"
   },
   {
    "duration": 132,
    "start_time": "2021-07-29T15:50:26.663Z"
   },
   {
    "duration": 223,
    "start_time": "2021-07-29T15:50:26.797Z"
   },
   {
    "duration": 6,
    "start_time": "2021-07-29T15:50:27.022Z"
   },
   {
    "duration": 216,
    "start_time": "2021-07-29T15:50:27.030Z"
   },
   {
    "duration": 66,
    "start_time": "2021-07-29T15:50:27.249Z"
   },
   {
    "duration": 5298,
    "start_time": "2021-07-29T15:50:27.318Z"
   },
   {
    "duration": 5526,
    "start_time": "2021-07-29T15:50:32.618Z"
   },
   {
    "duration": 14,
    "start_time": "2021-07-29T15:50:38.146Z"
   },
   {
    "duration": 11,
    "start_time": "2021-07-29T15:50:38.162Z"
   },
   {
    "duration": 138,
    "start_time": "2021-07-29T15:50:38.176Z"
   },
   {
    "duration": 42,
    "start_time": "2021-07-29T15:50:38.316Z"
   },
   {
    "duration": 460,
    "start_time": "2021-07-29T15:50:38.360Z"
   },
   {
    "duration": 109,
    "start_time": "2021-07-29T15:50:38.822Z"
   },
   {
    "duration": 5953,
    "start_time": "2021-07-29T15:50:38.933Z"
   },
   {
    "duration": 1065,
    "start_time": "2021-07-29T15:50:44.890Z"
   },
   {
    "duration": -164,
    "start_time": "2021-07-29T15:50:46.122Z"
   },
   {
    "duration": -167,
    "start_time": "2021-07-29T15:50:46.126Z"
   },
   {
    "duration": -168,
    "start_time": "2021-07-29T15:50:46.128Z"
   },
   {
    "duration": -174,
    "start_time": "2021-07-29T15:50:46.136Z"
   },
   {
    "duration": -177,
    "start_time": "2021-07-29T15:50:46.140Z"
   },
   {
    "duration": -179,
    "start_time": "2021-07-29T15:50:46.143Z"
   },
   {
    "duration": 10184,
    "start_time": "2021-07-29T15:53:12.727Z"
   },
   {
    "duration": 1054,
    "start_time": "2021-07-29T15:53:22.914Z"
   },
   {
    "duration": 36,
    "start_time": "2021-07-29T15:53:23.975Z"
   },
   {
    "duration": 3,
    "start_time": "2021-07-29T15:53:24.014Z"
   },
   {
    "duration": 49,
    "start_time": "2021-07-29T15:53:24.020Z"
   },
   {
    "duration": 2589,
    "start_time": "2021-07-29T15:53:24.071Z"
   },
   {
    "duration": 382,
    "start_time": "2021-07-29T15:53:26.664Z"
   },
   {
    "duration": 23,
    "start_time": "2021-07-29T15:53:27.049Z"
   },
   {
    "duration": 140,
    "start_time": "2021-07-29T15:53:27.075Z"
   },
   {
    "duration": 231,
    "start_time": "2021-07-29T15:53:27.218Z"
   },
   {
    "duration": 5,
    "start_time": "2021-07-29T15:53:27.456Z"
   },
   {
    "duration": 161,
    "start_time": "2021-07-29T15:53:27.463Z"
   },
   {
    "duration": 48,
    "start_time": "2021-07-29T15:53:27.626Z"
   },
   {
    "duration": 5047,
    "start_time": "2021-07-29T15:53:27.677Z"
   },
   {
    "duration": 5015,
    "start_time": "2021-07-29T15:53:32.726Z"
   },
   {
    "duration": 18,
    "start_time": "2021-07-29T15:53:37.743Z"
   },
   {
    "duration": 14,
    "start_time": "2021-07-29T15:53:37.764Z"
   },
   {
    "duration": 3,
    "start_time": "2021-07-29T15:53:37.781Z"
   },
   {
    "duration": 14,
    "start_time": "2021-07-29T15:53:37.787Z"
   },
   {
    "duration": 505,
    "start_time": "2021-07-29T15:53:37.804Z"
   },
   {
    "duration": 124,
    "start_time": "2021-07-29T15:53:38.311Z"
   },
   {
    "duration": 6739,
    "start_time": "2021-07-29T15:53:38.439Z"
   },
   {
    "duration": 806,
    "start_time": "2021-07-29T15:53:45.181Z"
   },
   {
    "duration": -160,
    "start_time": "2021-07-29T15:53:46.150Z"
   },
   {
    "duration": -162,
    "start_time": "2021-07-29T15:53:46.154Z"
   },
   {
    "duration": -162,
    "start_time": "2021-07-29T15:53:46.156Z"
   },
   {
    "duration": -161,
    "start_time": "2021-07-29T15:53:46.158Z"
   },
   {
    "duration": -162,
    "start_time": "2021-07-29T15:53:46.161Z"
   },
   {
    "duration": -163,
    "start_time": "2021-07-29T15:53:46.164Z"
   },
   {
    "duration": 20,
    "start_time": "2021-07-29T16:00:35.369Z"
   },
   {
    "duration": 18,
    "start_time": "2021-07-29T16:00:44.305Z"
   },
   {
    "duration": 449,
    "start_time": "2021-07-29T16:01:34.088Z"
   },
   {
    "duration": 465,
    "start_time": "2021-07-29T16:01:59.585Z"
   },
   {
    "duration": 5559,
    "start_time": "2021-07-29T16:02:57.616Z"
   },
   {
    "duration": 3662,
    "start_time": "2021-07-29T16:04:24.767Z"
   },
   {
    "duration": 3386,
    "start_time": "2021-07-29T16:04:38.078Z"
   },
   {
    "duration": 3737,
    "start_time": "2021-07-29T16:05:36.365Z"
   },
   {
    "duration": 4238,
    "start_time": "2021-07-29T16:05:59.693Z"
   },
   {
    "duration": 4822,
    "start_time": "2021-07-29T16:06:30.500Z"
   },
   {
    "duration": 3596,
    "start_time": "2021-07-29T16:07:34.355Z"
   },
   {
    "duration": 3678,
    "start_time": "2021-07-29T16:07:50.291Z"
   },
   {
    "duration": 3841,
    "start_time": "2021-07-29T16:08:38.803Z"
   },
   {
    "duration": 3641,
    "start_time": "2021-07-29T16:08:53.579Z"
   },
   {
    "duration": 3999,
    "start_time": "2021-07-29T16:09:05.075Z"
   },
   {
    "duration": 3550,
    "start_time": "2021-07-29T16:09:19.378Z"
   },
   {
    "duration": 3908,
    "start_time": "2021-07-29T16:10:09.793Z"
   },
   {
    "duration": 3664,
    "start_time": "2021-07-29T16:10:43.017Z"
   },
   {
    "duration": 3657,
    "start_time": "2021-07-29T16:10:51.609Z"
   },
   {
    "duration": 28621,
    "start_time": "2021-07-29T16:12:04.608Z"
   },
   {
    "duration": 3044,
    "start_time": "2021-07-29T16:12:47.775Z"
   },
   {
    "duration": 2482,
    "start_time": "2021-07-29T16:13:12.199Z"
   },
   {
    "duration": 2420,
    "start_time": "2021-07-29T16:13:27.511Z"
   },
   {
    "duration": 5313,
    "start_time": "2021-07-29T16:16:54.084Z"
   },
   {
    "duration": 72,
    "start_time": "2021-07-29T16:20:31.297Z"
   },
   {
    "duration": 2154,
    "start_time": "2021-07-29T16:20:32.144Z"
   },
   {
    "duration": 6,
    "start_time": "2021-07-29T16:20:52.824Z"
   },
   {
    "duration": 9554,
    "start_time": "2021-07-29T16:22:06.164Z"
   },
   {
    "duration": 1091,
    "start_time": "2021-07-29T16:22:15.721Z"
   },
   {
    "duration": 53,
    "start_time": "2021-07-29T16:22:16.815Z"
   },
   {
    "duration": 4,
    "start_time": "2021-07-29T16:22:16.872Z"
   },
   {
    "duration": 22,
    "start_time": "2021-07-29T16:22:16.878Z"
   },
   {
    "duration": 2530,
    "start_time": "2021-07-29T16:22:16.902Z"
   },
   {
    "duration": 390,
    "start_time": "2021-07-29T16:22:19.435Z"
   },
   {
    "duration": 31,
    "start_time": "2021-07-29T16:22:19.829Z"
   },
   {
    "duration": 132,
    "start_time": "2021-07-29T16:22:19.862Z"
   },
   {
    "duration": 42,
    "start_time": "2021-07-29T16:22:19.997Z"
   },
   {
    "duration": 113,
    "start_time": "2021-07-29T16:22:20.056Z"
   },
   {
    "duration": 5,
    "start_time": "2021-07-29T16:22:20.171Z"
   },
   {
    "duration": 1981,
    "start_time": "2021-07-29T16:22:20.178Z"
   },
   {
    "duration": 259,
    "start_time": "2021-07-29T16:22:22.162Z"
   },
   {
    "duration": 6,
    "start_time": "2021-07-29T16:22:22.423Z"
   },
   {
    "duration": 163,
    "start_time": "2021-07-29T16:22:22.431Z"
   },
   {
    "duration": 67,
    "start_time": "2021-07-29T16:22:22.597Z"
   },
   {
    "duration": 5000,
    "start_time": "2021-07-29T16:22:22.666Z"
   },
   {
    "duration": 4988,
    "start_time": "2021-07-29T16:22:27.668Z"
   },
   {
    "duration": 14,
    "start_time": "2021-07-29T16:22:32.659Z"
   },
   {
    "duration": 12,
    "start_time": "2021-07-29T16:22:32.676Z"
   },
   {
    "duration": 3,
    "start_time": "2021-07-29T16:22:32.691Z"
   },
   {
    "duration": 60,
    "start_time": "2021-07-29T16:22:32.699Z"
   },
   {
    "duration": 457,
    "start_time": "2021-07-29T16:22:32.762Z"
   },
   {
    "duration": 121,
    "start_time": "2021-07-29T16:22:33.221Z"
   },
   {
    "duration": 6482,
    "start_time": "2021-07-29T16:22:33.345Z"
   },
   {
    "duration": 799,
    "start_time": "2021-07-29T16:22:39.830Z"
   },
   {
    "duration": -179,
    "start_time": "2021-07-29T16:22:40.810Z"
   },
   {
    "duration": -181,
    "start_time": "2021-07-29T16:22:40.814Z"
   },
   {
    "duration": -182,
    "start_time": "2021-07-29T16:22:40.816Z"
   },
   {
    "duration": -183,
    "start_time": "2021-07-29T16:22:40.819Z"
   },
   {
    "duration": -187,
    "start_time": "2021-07-29T16:22:40.824Z"
   },
   {
    "duration": -189,
    "start_time": "2021-07-29T16:22:40.827Z"
   },
   {
    "duration": 13,
    "start_time": "2021-07-29T16:25:15.035Z"
   },
   {
    "duration": 135806,
    "start_time": "2021-07-29T16:25:52.585Z"
   },
   {
    "duration": 21287,
    "start_time": "2021-07-29T16:29:34.183Z"
   },
   {
    "duration": 418,
    "start_time": "2021-07-29T16:30:35.413Z"
   },
   {
    "duration": 4146,
    "start_time": "2021-07-29T16:31:10.006Z"
   },
   {
    "duration": 4325,
    "start_time": "2021-07-29T16:32:44.869Z"
   },
   {
    "duration": 194,
    "start_time": "2021-07-29T16:35:10.946Z"
   },
   {
    "duration": 18,
    "start_time": "2021-07-29T16:36:02.658Z"
   },
   {
    "duration": 8,
    "start_time": "2021-07-29T16:36:12.809Z"
   },
   {
    "duration": 10545,
    "start_time": "2021-07-29T16:43:01.328Z"
   },
   {
    "duration": 1088,
    "start_time": "2021-07-29T16:43:11.877Z"
   },
   {
    "duration": 42,
    "start_time": "2021-07-29T16:43:12.972Z"
   },
   {
    "duration": 3,
    "start_time": "2021-07-29T16:43:13.016Z"
   },
   {
    "duration": 47,
    "start_time": "2021-07-29T16:43:13.021Z"
   },
   {
    "duration": 2478,
    "start_time": "2021-07-29T16:43:13.070Z"
   },
   {
    "duration": 383,
    "start_time": "2021-07-29T16:43:15.556Z"
   },
   {
    "duration": 24,
    "start_time": "2021-07-29T16:43:15.941Z"
   },
   {
    "duration": 145,
    "start_time": "2021-07-29T16:43:15.967Z"
   },
   {
    "duration": 119,
    "start_time": "2021-07-29T16:43:16.114Z"
   },
   {
    "duration": 4474,
    "start_time": "2021-07-29T16:43:16.235Z"
   },
   {
    "duration": 21,
    "start_time": "2021-07-29T16:43:20.712Z"
   },
   {
    "duration": 540,
    "start_time": "2021-07-29T16:43:20.735Z"
   },
   {
    "duration": -181,
    "start_time": "2021-07-29T16:43:21.459Z"
   },
   {
    "duration": -183,
    "start_time": "2021-07-29T16:43:21.462Z"
   },
   {
    "duration": -184,
    "start_time": "2021-07-29T16:43:21.465Z"
   },
   {
    "duration": -192,
    "start_time": "2021-07-29T16:43:21.474Z"
   },
   {
    "duration": -194,
    "start_time": "2021-07-29T16:43:21.478Z"
   },
   {
    "duration": -196,
    "start_time": "2021-07-29T16:43:21.481Z"
   },
   {
    "duration": -198,
    "start_time": "2021-07-29T16:43:21.484Z"
   },
   {
    "duration": -199,
    "start_time": "2021-07-29T16:43:21.487Z"
   },
   {
    "duration": -207,
    "start_time": "2021-07-29T16:43:21.496Z"
   },
   {
    "duration": -210,
    "start_time": "2021-07-29T16:43:21.501Z"
   },
   {
    "duration": -210,
    "start_time": "2021-07-29T16:43:21.503Z"
   },
   {
    "duration": -212,
    "start_time": "2021-07-29T16:43:21.506Z"
   },
   {
    "duration": -212,
    "start_time": "2021-07-29T16:43:21.508Z"
   },
   {
    "duration": -214,
    "start_time": "2021-07-29T16:43:21.511Z"
   },
   {
    "duration": -215,
    "start_time": "2021-07-29T16:43:21.514Z"
   },
   {
    "duration": -217,
    "start_time": "2021-07-29T16:43:21.517Z"
   },
   {
    "duration": -229,
    "start_time": "2021-07-29T16:43:21.531Z"
   },
   {
    "duration": -231,
    "start_time": "2021-07-29T16:43:21.534Z"
   },
   {
    "duration": -231,
    "start_time": "2021-07-29T16:43:21.536Z"
   },
   {
    "duration": 10034,
    "start_time": "2021-07-29T16:44:52.182Z"
   },
   {
    "duration": 1106,
    "start_time": "2021-07-29T16:45:02.219Z"
   },
   {
    "duration": 51,
    "start_time": "2021-07-29T16:45:03.328Z"
   },
   {
    "duration": 5,
    "start_time": "2021-07-29T16:45:03.382Z"
   },
   {
    "duration": 25,
    "start_time": "2021-07-29T16:45:03.390Z"
   },
   {
    "duration": 2441,
    "start_time": "2021-07-29T16:45:03.418Z"
   },
   {
    "duration": 388,
    "start_time": "2021-07-29T16:45:05.862Z"
   },
   {
    "duration": 19,
    "start_time": "2021-07-29T16:45:06.257Z"
   },
   {
    "duration": 150,
    "start_time": "2021-07-29T16:45:06.279Z"
   },
   {
    "duration": 112,
    "start_time": "2021-07-29T16:45:06.431Z"
   },
   {
    "duration": 4573,
    "start_time": "2021-07-29T16:45:06.545Z"
   },
   {
    "duration": 123,
    "start_time": "2021-07-29T16:45:11.121Z"
   },
   {
    "duration": 316,
    "start_time": "2021-07-29T16:45:11.247Z"
   },
   {
    "duration": 7,
    "start_time": "2021-07-29T16:45:11.565Z"
   },
   {
    "duration": 252,
    "start_time": "2021-07-29T16:45:11.575Z"
   },
   {
    "duration": 56,
    "start_time": "2021-07-29T16:45:11.829Z"
   },
   {
    "duration": 5071,
    "start_time": "2021-07-29T16:45:11.888Z"
   },
   {
    "duration": 5271,
    "start_time": "2021-07-29T16:45:16.962Z"
   },
   {
    "duration": 23,
    "start_time": "2021-07-29T16:45:22.236Z"
   },
   {
    "duration": 412,
    "start_time": "2021-07-29T16:45:22.261Z"
   },
   {
    "duration": 3,
    "start_time": "2021-07-29T16:45:22.676Z"
   },
   {
    "duration": 16,
    "start_time": "2021-07-29T16:45:22.681Z"
   },
   {
    "duration": 520,
    "start_time": "2021-07-29T16:45:22.702Z"
   },
   {
    "duration": 132,
    "start_time": "2021-07-29T16:45:23.224Z"
   },
   {
    "duration": 6774,
    "start_time": "2021-07-29T16:45:23.358Z"
   },
   {
    "duration": 790,
    "start_time": "2021-07-29T16:45:30.135Z"
   },
   {
    "duration": -179,
    "start_time": "2021-07-29T16:45:31.108Z"
   },
   {
    "duration": -181,
    "start_time": "2021-07-29T16:45:31.111Z"
   },
   {
    "duration": -184,
    "start_time": "2021-07-29T16:45:31.116Z"
   },
   {
    "duration": -184,
    "start_time": "2021-07-29T16:45:31.118Z"
   },
   {
    "duration": -187,
    "start_time": "2021-07-29T16:45:31.122Z"
   },
   {
    "duration": -188,
    "start_time": "2021-07-29T16:45:31.125Z"
   },
   {
    "duration": 34794,
    "start_time": "2021-07-29T16:50:38.322Z"
   },
   {
    "duration": 7404,
    "start_time": "2021-07-29T16:53:10.087Z"
   },
   {
    "duration": 4210,
    "start_time": "2021-07-29T16:53:18.326Z"
   },
   {
    "duration": 36109,
    "start_time": "2021-07-29T16:54:00.350Z"
   },
   {
    "duration": 5411,
    "start_time": "2021-07-29T16:57:20.756Z"
   },
   {
    "duration": 4304,
    "start_time": "2021-07-29T16:57:41.203Z"
   },
   {
    "duration": 3642,
    "start_time": "2021-07-29T16:58:23.635Z"
   },
   {
    "duration": 96,
    "start_time": "2021-07-29T17:00:50.148Z"
   },
   {
    "duration": 7,
    "start_time": "2021-07-29T17:00:58.561Z"
   },
   {
    "duration": 9343,
    "start_time": "2021-07-29T17:02:20.915Z"
   },
   {
    "duration": 1185,
    "start_time": "2021-07-29T17:02:30.261Z"
   },
   {
    "duration": 44,
    "start_time": "2021-07-29T17:02:31.450Z"
   },
   {
    "duration": 4,
    "start_time": "2021-07-29T17:02:31.497Z"
   },
   {
    "duration": 51,
    "start_time": "2021-07-29T17:02:31.504Z"
   },
   {
    "duration": 2675,
    "start_time": "2021-07-29T17:02:31.558Z"
   },
   {
    "duration": 407,
    "start_time": "2021-07-29T17:02:34.235Z"
   },
   {
    "duration": 23,
    "start_time": "2021-07-29T17:02:34.646Z"
   },
   {
    "duration": 163,
    "start_time": "2021-07-29T17:02:34.672Z"
   },
   {
    "duration": 118,
    "start_time": "2021-07-29T17:02:34.838Z"
   },
   {
    "duration": 4891,
    "start_time": "2021-07-29T17:02:34.958Z"
   },
   {
    "duration": 105,
    "start_time": "2021-07-29T17:02:39.851Z"
   },
   {
    "duration": 4049,
    "start_time": "2021-07-29T17:02:39.959Z"
   },
   {
    "duration": 106,
    "start_time": "2021-07-29T17:02:44.010Z"
   },
   {
    "duration": 5,
    "start_time": "2021-07-29T17:02:44.119Z"
   },
   {
    "duration": 224,
    "start_time": "2021-07-29T17:02:44.126Z"
   },
   {
    "duration": 6,
    "start_time": "2021-07-29T17:02:44.355Z"
   },
   {
    "duration": 155,
    "start_time": "2021-07-29T17:02:44.363Z"
   },
   {
    "duration": 46,
    "start_time": "2021-07-29T17:02:44.520Z"
   },
   {
    "duration": 5049,
    "start_time": "2021-07-29T17:02:44.568Z"
   },
   {
    "duration": 4942,
    "start_time": "2021-07-29T17:02:49.620Z"
   },
   {
    "duration": 9,
    "start_time": "2021-07-29T17:02:54.565Z"
   },
   {
    "duration": 13,
    "start_time": "2021-07-29T17:02:54.580Z"
   },
   {
    "duration": 5,
    "start_time": "2021-07-29T17:02:54.595Z"
   },
   {
    "duration": 55,
    "start_time": "2021-07-29T17:02:54.602Z"
   },
   {
    "duration": 584,
    "start_time": "2021-07-29T17:02:54.659Z"
   },
   {
    "duration": 112,
    "start_time": "2021-07-29T17:02:55.246Z"
   },
   {
    "duration": 6520,
    "start_time": "2021-07-29T17:02:55.361Z"
   },
   {
    "duration": 907,
    "start_time": "2021-07-29T17:03:01.883Z"
   },
   {
    "duration": -198,
    "start_time": "2021-07-29T17:03:02.991Z"
   },
   {
    "duration": -199,
    "start_time": "2021-07-29T17:03:02.994Z"
   },
   {
    "duration": -200,
    "start_time": "2021-07-29T17:03:02.997Z"
   },
   {
    "duration": -203,
    "start_time": "2021-07-29T17:03:03.002Z"
   },
   {
    "duration": -205,
    "start_time": "2021-07-29T17:03:03.005Z"
   },
   {
    "duration": -206,
    "start_time": "2021-07-29T17:03:03.008Z"
   },
   {
    "duration": 9732,
    "start_time": "2021-07-29T17:06:59.670Z"
   },
   {
    "duration": 1107,
    "start_time": "2021-07-29T17:07:09.405Z"
   },
   {
    "duration": 50,
    "start_time": "2021-07-29T17:07:10.515Z"
   },
   {
    "duration": 4,
    "start_time": "2021-07-29T17:07:10.567Z"
   },
   {
    "duration": 39,
    "start_time": "2021-07-29T17:07:10.574Z"
   },
   {
    "duration": 2561,
    "start_time": "2021-07-29T17:07:10.616Z"
   },
   {
    "duration": 387,
    "start_time": "2021-07-29T17:07:13.180Z"
   },
   {
    "duration": 18,
    "start_time": "2021-07-29T17:07:13.570Z"
   },
   {
    "duration": 141,
    "start_time": "2021-07-29T17:07:13.591Z"
   },
   {
    "duration": 118,
    "start_time": "2021-07-29T17:07:13.734Z"
   },
   {
    "duration": 4463,
    "start_time": "2021-07-29T17:07:13.855Z"
   },
   {
    "duration": 111,
    "start_time": "2021-07-29T17:07:18.321Z"
   },
   {
    "duration": 3750,
    "start_time": "2021-07-29T17:07:18.435Z"
   },
   {
    "duration": 105,
    "start_time": "2021-07-29T17:07:22.188Z"
   },
   {
    "duration": 6,
    "start_time": "2021-07-29T17:07:22.296Z"
   },
   {
    "duration": 214,
    "start_time": "2021-07-29T17:07:22.306Z"
   },
   {
    "duration": 5,
    "start_time": "2021-07-29T17:07:22.523Z"
   },
   {
    "duration": 163,
    "start_time": "2021-07-29T17:07:22.531Z"
   },
   {
    "duration": 36,
    "start_time": "2021-07-29T17:07:22.697Z"
   },
   {
    "duration": 5058,
    "start_time": "2021-07-29T17:07:22.736Z"
   },
   {
    "duration": 5071,
    "start_time": "2021-07-29T17:07:27.796Z"
   },
   {
    "duration": 10,
    "start_time": "2021-07-29T17:07:32.870Z"
   },
   {
    "duration": 12,
    "start_time": "2021-07-29T17:07:32.884Z"
   },
   {
    "duration": 3,
    "start_time": "2021-07-29T17:07:32.899Z"
   },
   {
    "duration": 52,
    "start_time": "2021-07-29T17:07:32.905Z"
   },
   {
    "duration": 581,
    "start_time": "2021-07-29T17:07:32.960Z"
   },
   {
    "duration": 106,
    "start_time": "2021-07-29T17:07:33.543Z"
   },
   {
    "duration": 6629,
    "start_time": "2021-07-29T17:07:33.655Z"
   },
   {
    "duration": 789,
    "start_time": "2021-07-29T17:07:40.286Z"
   },
   {
    "duration": -195,
    "start_time": "2021-07-29T17:07:41.273Z"
   },
   {
    "duration": -196,
    "start_time": "2021-07-29T17:07:41.276Z"
   },
   {
    "duration": -198,
    "start_time": "2021-07-29T17:07:41.279Z"
   },
   {
    "duration": -198,
    "start_time": "2021-07-29T17:07:41.281Z"
   },
   {
    "duration": -206,
    "start_time": "2021-07-29T17:07:41.290Z"
   },
   {
    "duration": -209,
    "start_time": "2021-07-29T17:07:41.294Z"
   },
   {
    "duration": 10442,
    "start_time": "2021-07-29T17:11:35.541Z"
   },
   {
    "duration": 1062,
    "start_time": "2021-07-29T17:11:45.987Z"
   },
   {
    "duration": 41,
    "start_time": "2021-07-29T17:11:47.052Z"
   },
   {
    "duration": 4,
    "start_time": "2021-07-29T17:11:47.096Z"
   },
   {
    "duration": 26,
    "start_time": "2021-07-29T17:11:47.103Z"
   },
   {
    "duration": 2365,
    "start_time": "2021-07-29T17:11:47.157Z"
   },
   {
    "duration": 413,
    "start_time": "2021-07-29T17:11:49.524Z"
   },
   {
    "duration": 29,
    "start_time": "2021-07-29T17:11:49.942Z"
   },
   {
    "duration": 155,
    "start_time": "2021-07-29T17:11:49.974Z"
   },
   {
    "duration": 124,
    "start_time": "2021-07-29T17:11:50.131Z"
   },
   {
    "duration": 5047,
    "start_time": "2021-07-29T17:11:50.258Z"
   },
   {
    "duration": 115,
    "start_time": "2021-07-29T17:11:55.307Z"
   },
   {
    "duration": 3874,
    "start_time": "2021-07-29T17:11:55.425Z"
   },
   {
    "duration": 99,
    "start_time": "2021-07-29T17:11:59.301Z"
   },
   {
    "duration": 213,
    "start_time": "2021-07-29T17:11:59.403Z"
   },
   {
    "duration": 6,
    "start_time": "2021-07-29T17:11:59.619Z"
   },
   {
    "duration": 8,
    "start_time": "2021-07-29T17:11:59.629Z"
   },
   {
    "duration": 160,
    "start_time": "2021-07-29T17:11:59.657Z"
   },
   {
    "duration": 52,
    "start_time": "2021-07-29T17:11:59.820Z"
   },
   {
    "duration": 5239,
    "start_time": "2021-07-29T17:11:59.874Z"
   },
   {
    "duration": 5240,
    "start_time": "2021-07-29T17:12:05.116Z"
   },
   {
    "duration": 10,
    "start_time": "2021-07-29T17:12:10.359Z"
   },
   {
    "duration": 22,
    "start_time": "2021-07-29T17:12:10.371Z"
   },
   {
    "duration": 3,
    "start_time": "2021-07-29T17:12:10.395Z"
   },
   {
    "duration": 8,
    "start_time": "2021-07-29T17:12:10.401Z"
   },
   {
    "duration": 601,
    "start_time": "2021-07-29T17:12:10.459Z"
   },
   {
    "duration": 111,
    "start_time": "2021-07-29T17:12:11.063Z"
   },
   {
    "duration": 6410,
    "start_time": "2021-07-29T17:12:11.176Z"
   },
   {
    "duration": 748,
    "start_time": "2021-07-29T17:12:17.588Z"
   },
   {
    "duration": -196,
    "start_time": "2021-07-29T17:12:18.536Z"
   },
   {
    "duration": -199,
    "start_time": "2021-07-29T17:12:18.540Z"
   },
   {
    "duration": -199,
    "start_time": "2021-07-29T17:12:18.543Z"
   },
   {
    "duration": -203,
    "start_time": "2021-07-29T17:12:18.548Z"
   },
   {
    "duration": -205,
    "start_time": "2021-07-29T17:12:18.551Z"
   },
   {
    "duration": -205,
    "start_time": "2021-07-29T17:12:18.553Z"
   },
   {
    "duration": 357,
    "start_time": "2021-07-29T17:13:13.733Z"
   },
   {
    "duration": 358,
    "start_time": "2021-07-29T17:13:28.851Z"
   },
   {
    "duration": 382,
    "start_time": "2021-07-29T17:13:36.995Z"
   },
   {
    "duration": 6,
    "start_time": "2021-07-29T17:15:33.866Z"
   },
   {
    "duration": 251,
    "start_time": "2021-07-29T17:20:14.311Z"
   },
   {
    "duration": 99,
    "start_time": "2021-07-29T17:20:26.085Z"
   },
   {
    "duration": 403,
    "start_time": "2021-07-29T17:48:42.695Z"
   },
   {
    "duration": 10308,
    "start_time": "2021-07-29T17:48:50.158Z"
   },
   {
    "duration": -1123,
    "start_time": "2021-07-29T17:50:41.311Z"
   },
   {
    "duration": 48,
    "start_time": "2021-07-29T17:50:41.850Z"
   },
   {
    "duration": 147,
    "start_time": "2021-07-29T17:54:35.562Z"
   },
   {
    "duration": 8300,
    "start_time": "2021-07-29T17:54:57.602Z"
   },
   {
    "duration": 9370,
    "start_time": "2021-07-29T17:56:37.896Z"
   },
   {
    "duration": 9112,
    "start_time": "2021-07-29T17:56:52.169Z"
   },
   {
    "duration": 116,
    "start_time": "2021-07-29T17:57:19.576Z"
   },
   {
    "duration": 398,
    "start_time": "2021-07-29T17:57:29.215Z"
   },
   {
    "duration": 78,
    "start_time": "2021-07-29T17:57:46.252Z"
   },
   {
    "duration": 113,
    "start_time": "2021-07-29T18:23:25.547Z"
   },
   {
    "duration": 8476,
    "start_time": "2021-07-29T18:23:33.474Z"
   },
   {
    "duration": 85,
    "start_time": "2021-07-29T18:24:20.055Z"
   },
   {
    "duration": 473,
    "start_time": "2021-07-29T18:24:31.849Z"
   },
   {
    "duration": 85,
    "start_time": "2021-07-29T18:24:47.033Z"
   },
   {
    "duration": 451,
    "start_time": "2021-07-29T18:25:21.114Z"
   },
   {
    "duration": 6628,
    "start_time": "2021-07-29T18:25:53.569Z"
   },
   {
    "duration": 8,
    "start_time": "2021-07-29T18:27:40.479Z"
   },
   {
    "duration": 8,
    "start_time": "2021-07-29T18:28:11.231Z"
   },
   {
    "duration": 7,
    "start_time": "2021-07-29T18:28:24.055Z"
   },
   {
    "duration": 30,
    "start_time": "2021-07-29T18:30:33.031Z"
   },
   {
    "duration": 28,
    "start_time": "2021-07-29T18:30:46.525Z"
   },
   {
    "duration": 26,
    "start_time": "2021-07-29T18:30:57.901Z"
   },
   {
    "duration": 7274,
    "start_time": "2021-07-29T18:31:23.696Z"
   },
   {
    "duration": 310,
    "start_time": "2021-07-29T18:31:36.496Z"
   },
   {
    "duration": 42,
    "start_time": "2021-07-29T18:31:47.365Z"
   },
   {
    "duration": 481,
    "start_time": "2021-07-29T18:33:04.291Z"
   },
   {
    "duration": 313,
    "start_time": "2021-07-29T18:39:01.887Z"
   },
   {
    "duration": 32,
    "start_time": "2021-07-29T18:39:11.742Z"
   },
   {
    "duration": 885,
    "start_time": "2021-07-29T18:44:04.259Z"
   },
   {
    "duration": 117,
    "start_time": "2021-07-29T18:44:27.546Z"
   },
   {
    "duration": 15,
    "start_time": "2021-07-29T18:48:40.994Z"
   },
   {
    "duration": 18,
    "start_time": "2021-07-29T18:49:04.199Z"
   },
   {
    "duration": 393,
    "start_time": "2021-07-29T18:57:54.217Z"
   },
   {
    "duration": 423,
    "start_time": "2021-07-29T18:58:07.242Z"
   },
   {
    "duration": 103,
    "start_time": "2021-07-29T18:58:19.415Z"
   },
   {
    "duration": 5996,
    "start_time": "2021-07-29T19:00:52.374Z"
   },
   {
    "duration": 17061,
    "start_time": "2021-07-30T09:53:12.624Z"
   },
   {
    "duration": 1246,
    "start_time": "2021-07-30T09:53:29.689Z"
   },
   {
    "duration": 52,
    "start_time": "2021-07-30T09:53:30.938Z"
   },
   {
    "duration": 5,
    "start_time": "2021-07-30T09:53:30.994Z"
   },
   {
    "duration": 44,
    "start_time": "2021-07-30T09:53:31.002Z"
   },
   {
    "duration": 2400,
    "start_time": "2021-07-30T09:53:31.049Z"
   },
   {
    "duration": 422,
    "start_time": "2021-07-30T09:53:33.455Z"
   },
   {
    "duration": 24,
    "start_time": "2021-07-30T09:53:33.881Z"
   },
   {
    "duration": 164,
    "start_time": "2021-07-30T09:53:33.908Z"
   },
   {
    "duration": 131,
    "start_time": "2021-07-30T09:53:34.075Z"
   },
   {
    "duration": 451,
    "start_time": "2021-07-30T09:53:34.209Z"
   },
   {
    "duration": 1018,
    "start_time": "2021-07-30T09:53:33.645Z"
   },
   {
    "duration": 1016,
    "start_time": "2021-07-30T09:53:33.649Z"
   },
   {
    "duration": 1015,
    "start_time": "2021-07-30T09:53:33.651Z"
   },
   {
    "duration": 1013,
    "start_time": "2021-07-30T09:53:33.654Z"
   },
   {
    "duration": 1010,
    "start_time": "2021-07-30T09:53:33.659Z"
   },
   {
    "duration": 1008,
    "start_time": "2021-07-30T09:53:33.662Z"
   },
   {
    "duration": 997,
    "start_time": "2021-07-30T09:53:33.675Z"
   },
   {
    "duration": 994,
    "start_time": "2021-07-30T09:53:33.679Z"
   },
   {
    "duration": 992,
    "start_time": "2021-07-30T09:53:33.682Z"
   },
   {
    "duration": 990,
    "start_time": "2021-07-30T09:53:33.685Z"
   },
   {
    "duration": 989,
    "start_time": "2021-07-30T09:53:33.688Z"
   },
   {
    "duration": 988,
    "start_time": "2021-07-30T09:53:33.690Z"
   },
   {
    "duration": 979,
    "start_time": "2021-07-30T09:53:33.700Z"
   },
   {
    "duration": 977,
    "start_time": "2021-07-30T09:53:33.704Z"
   },
   {
    "duration": 975,
    "start_time": "2021-07-30T09:53:33.707Z"
   },
   {
    "duration": 973,
    "start_time": "2021-07-30T09:53:33.710Z"
   },
   {
    "duration": 972,
    "start_time": "2021-07-30T09:53:33.713Z"
   },
   {
    "duration": 970,
    "start_time": "2021-07-30T09:53:33.716Z"
   },
   {
    "duration": 969,
    "start_time": "2021-07-30T09:53:33.718Z"
   },
   {
    "duration": 956,
    "start_time": "2021-07-30T09:53:33.732Z"
   },
   {
    "duration": 955,
    "start_time": "2021-07-30T09:53:33.735Z"
   },
   {
    "duration": 4472,
    "start_time": "2021-07-30T10:06:18.253Z"
   },
   {
    "duration": 1005,
    "start_time": "2021-07-30T10:06:21.726Z"
   },
   {
    "duration": 1001,
    "start_time": "2021-07-30T10:06:21.731Z"
   },
   {
    "duration": 999,
    "start_time": "2021-07-30T10:06:21.735Z"
   },
   {
    "duration": 996,
    "start_time": "2021-07-30T10:06:21.739Z"
   },
   {
    "duration": 993,
    "start_time": "2021-07-30T10:06:21.743Z"
   },
   {
    "duration": 992,
    "start_time": "2021-07-30T10:06:21.746Z"
   },
   {
    "duration": 991,
    "start_time": "2021-07-30T10:06:21.748Z"
   },
   {
    "duration": 989,
    "start_time": "2021-07-30T10:06:21.751Z"
   },
   {
    "duration": 987,
    "start_time": "2021-07-30T10:06:21.754Z"
   },
   {
    "duration": 986,
    "start_time": "2021-07-30T10:06:21.757Z"
   },
   {
    "duration": 984,
    "start_time": "2021-07-30T10:06:21.760Z"
   },
   {
    "duration": 982,
    "start_time": "2021-07-30T10:06:21.763Z"
   },
   {
    "duration": 971,
    "start_time": "2021-07-30T10:06:21.775Z"
   },
   {
    "duration": 965,
    "start_time": "2021-07-30T10:06:21.783Z"
   },
   {
    "duration": 962,
    "start_time": "2021-07-30T10:06:21.788Z"
   },
   {
    "duration": 959,
    "start_time": "2021-07-30T10:06:21.792Z"
   },
   {
    "duration": 957,
    "start_time": "2021-07-30T10:06:21.795Z"
   },
   {
    "duration": 955,
    "start_time": "2021-07-30T10:06:21.799Z"
   },
   {
    "duration": 950,
    "start_time": "2021-07-30T10:06:21.805Z"
   },
   {
    "duration": 947,
    "start_time": "2021-07-30T10:06:21.809Z"
   },
   {
    "duration": 946,
    "start_time": "2021-07-30T10:06:21.812Z"
   },
   {
    "duration": 943,
    "start_time": "2021-07-30T10:06:21.816Z"
   },
   {
    "duration": 940,
    "start_time": "2021-07-30T10:06:21.820Z"
   },
   {
    "duration": 938,
    "start_time": "2021-07-30T10:06:21.823Z"
   },
   {
    "duration": 937,
    "start_time": "2021-07-30T10:06:21.826Z"
   },
   {
    "duration": 934,
    "start_time": "2021-07-30T10:06:21.830Z"
   },
   {
    "duration": 932,
    "start_time": "2021-07-30T10:06:21.833Z"
   },
   {
    "duration": 930,
    "start_time": "2021-07-30T10:06:21.836Z"
   },
   {
    "duration": 919,
    "start_time": "2021-07-30T10:06:21.848Z"
   },
   {
    "duration": 916,
    "start_time": "2021-07-30T10:06:21.853Z"
   },
   {
    "duration": 914,
    "start_time": "2021-07-30T10:06:21.856Z"
   },
   {
    "duration": 9176,
    "start_time": "2021-07-30T10:07:52.310Z"
   },
   {
    "duration": 1082,
    "start_time": "2021-07-30T10:08:01.490Z"
   },
   {
    "duration": 44,
    "start_time": "2021-07-30T10:08:02.581Z"
   },
   {
    "duration": 28,
    "start_time": "2021-07-30T10:08:02.628Z"
   },
   {
    "duration": 38,
    "start_time": "2021-07-30T10:08:02.660Z"
   },
   {
    "duration": 2770,
    "start_time": "2021-07-30T10:08:02.701Z"
   },
   {
    "duration": 386,
    "start_time": "2021-07-30T10:08:05.477Z"
   },
   {
    "duration": 19,
    "start_time": "2021-07-30T10:08:05.867Z"
   },
   {
    "duration": 150,
    "start_time": "2021-07-30T10:08:05.888Z"
   },
   {
    "duration": 115,
    "start_time": "2021-07-30T10:08:06.040Z"
   },
   {
    "duration": 4897,
    "start_time": "2021-07-30T10:08:06.157Z"
   },
   {
    "duration": 104,
    "start_time": "2021-07-30T10:08:11.056Z"
   },
   {
    "duration": 3866,
    "start_time": "2021-07-30T10:08:11.163Z"
   },
   {
    "duration": 96,
    "start_time": "2021-07-30T10:08:15.032Z"
   },
   {
    "duration": 218,
    "start_time": "2021-07-30T10:08:15.131Z"
   },
   {
    "duration": 4,
    "start_time": "2021-07-30T10:08:15.352Z"
   },
   {
    "duration": 9,
    "start_time": "2021-07-30T10:08:15.359Z"
   },
   {
    "duration": 163,
    "start_time": "2021-07-30T10:08:15.370Z"
   },
   {
    "duration": 39,
    "start_time": "2021-07-30T10:08:15.535Z"
   },
   {
    "duration": 113,
    "start_time": "2021-07-30T10:08:15.576Z"
   },
   {
    "duration": 42,
    "start_time": "2021-07-30T10:08:15.692Z"
   },
   {
    "duration": 530,
    "start_time": "2021-07-30T10:08:15.739Z"
   },
   {
    "duration": 17,
    "start_time": "2021-07-30T10:08:16.272Z"
   },
   {
    "duration": 551,
    "start_time": "2021-07-30T10:08:16.291Z"
   },
   {
    "duration": 6566,
    "start_time": "2021-07-30T10:08:16.845Z"
   },
   {
    "duration": 584,
    "start_time": "2021-07-30T10:08:23.413Z"
   },
   {
    "duration": 1005,
    "start_time": "2021-07-30T10:08:22.995Z"
   },
   {
    "duration": 1005,
    "start_time": "2021-07-30T10:08:22.998Z"
   },
   {
    "duration": 1000,
    "start_time": "2021-07-30T10:08:23.005Z"
   },
   {
    "duration": 997,
    "start_time": "2021-07-30T10:08:23.010Z"
   },
   {
    "duration": 997,
    "start_time": "2021-07-30T10:08:23.013Z"
   },
   {
    "duration": 996,
    "start_time": "2021-07-30T10:08:23.016Z"
   },
   {
    "duration": 10305,
    "start_time": "2021-07-30T10:11:25.086Z"
   },
   {
    "duration": 1014,
    "start_time": "2021-07-30T10:11:34.381Z"
   },
   {
    "duration": 1016,
    "start_time": "2021-07-30T10:11:34.384Z"
   },
   {
    "duration": 1013,
    "start_time": "2021-07-30T10:11:34.388Z"
   },
   {
    "duration": 1009,
    "start_time": "2021-07-30T10:11:34.394Z"
   },
   {
    "duration": 1004,
    "start_time": "2021-07-30T10:11:34.400Z"
   },
   {
    "duration": 1002,
    "start_time": "2021-07-30T10:11:34.404Z"
   },
   {
    "duration": 997,
    "start_time": "2021-07-30T10:11:34.410Z"
   },
   {
    "duration": 996,
    "start_time": "2021-07-30T10:11:34.413Z"
   },
   {
    "duration": 994,
    "start_time": "2021-07-30T10:11:34.416Z"
   },
   {
    "duration": 992,
    "start_time": "2021-07-30T10:11:34.420Z"
   },
   {
    "duration": 988,
    "start_time": "2021-07-30T10:11:34.425Z"
   },
   {
    "duration": 985,
    "start_time": "2021-07-30T10:11:34.429Z"
   },
   {
    "duration": 984,
    "start_time": "2021-07-30T10:11:34.432Z"
   },
   {
    "duration": 983,
    "start_time": "2021-07-30T10:11:34.434Z"
   },
   {
    "duration": 979,
    "start_time": "2021-07-30T10:11:34.439Z"
   },
   {
    "duration": 978,
    "start_time": "2021-07-30T10:11:34.442Z"
   },
   {
    "duration": 977,
    "start_time": "2021-07-30T10:11:34.445Z"
   },
   {
    "duration": 976,
    "start_time": "2021-07-30T10:11:34.447Z"
   },
   {
    "duration": 975,
    "start_time": "2021-07-30T10:11:34.450Z"
   },
   {
    "duration": 972,
    "start_time": "2021-07-30T10:11:34.454Z"
   },
   {
    "duration": 972,
    "start_time": "2021-07-30T10:11:34.456Z"
   },
   {
    "duration": 969,
    "start_time": "2021-07-30T10:11:34.460Z"
   },
   {
    "duration": 968,
    "start_time": "2021-07-30T10:11:34.462Z"
   },
   {
    "duration": 967,
    "start_time": "2021-07-30T10:11:34.465Z"
   },
   {
    "duration": 986,
    "start_time": "2021-07-30T10:11:34.468Z"
   },
   {
    "duration": 984,
    "start_time": "2021-07-30T10:11:34.471Z"
   },
   {
    "duration": 984,
    "start_time": "2021-07-30T10:11:34.473Z"
   },
   {
    "duration": 982,
    "start_time": "2021-07-30T10:11:34.476Z"
   },
   {
    "duration": 982,
    "start_time": "2021-07-30T10:11:34.478Z"
   },
   {
    "duration": 980,
    "start_time": "2021-07-30T10:11:34.481Z"
   },
   {
    "duration": 980,
    "start_time": "2021-07-30T10:11:34.483Z"
   },
   {
    "duration": 9159,
    "start_time": "2021-07-30T10:18:26.267Z"
   },
   {
    "duration": 1095,
    "start_time": "2021-07-30T10:18:35.429Z"
   },
   {
    "duration": 49,
    "start_time": "2021-07-30T10:18:36.527Z"
   },
   {
    "duration": 4,
    "start_time": "2021-07-30T10:18:36.579Z"
   },
   {
    "duration": 33,
    "start_time": "2021-07-30T10:18:36.586Z"
   },
   {
    "duration": 2362,
    "start_time": "2021-07-30T10:18:36.622Z"
   },
   {
    "duration": 416,
    "start_time": "2021-07-30T10:18:38.986Z"
   },
   {
    "duration": 20,
    "start_time": "2021-07-30T10:18:39.406Z"
   },
   {
    "duration": 202,
    "start_time": "2021-07-30T10:18:39.430Z"
   },
   {
    "duration": 135,
    "start_time": "2021-07-30T10:18:39.635Z"
   },
   {
    "duration": 4895,
    "start_time": "2021-07-30T10:18:39.773Z"
   },
   {
    "duration": 117,
    "start_time": "2021-07-30T10:18:44.671Z"
   },
   {
    "duration": 4002,
    "start_time": "2021-07-30T10:18:44.791Z"
   },
   {
    "duration": 98,
    "start_time": "2021-07-30T10:18:48.795Z"
   },
   {
    "duration": 218,
    "start_time": "2021-07-30T10:18:48.895Z"
   },
   {
    "duration": 5,
    "start_time": "2021-07-30T10:18:49.115Z"
   },
   {
    "duration": 19,
    "start_time": "2021-07-30T10:18:49.122Z"
   },
   {
    "duration": 162,
    "start_time": "2021-07-30T10:18:49.143Z"
   },
   {
    "duration": 30,
    "start_time": "2021-07-30T10:18:49.308Z"
   },
   {
    "duration": 130,
    "start_time": "2021-07-30T10:18:49.340Z"
   },
   {
    "duration": 43,
    "start_time": "2021-07-30T10:18:49.473Z"
   },
   {
    "duration": 516,
    "start_time": "2021-07-30T10:18:49.518Z"
   },
   {
    "duration": 25,
    "start_time": "2021-07-30T10:18:50.039Z"
   },
   {
    "duration": 452,
    "start_time": "2021-07-30T10:18:50.067Z"
   },
   {
    "duration": 6626,
    "start_time": "2021-07-30T10:18:50.522Z"
   },
   {
    "duration": 639,
    "start_time": "2021-07-30T10:18:57.154Z"
   },
   {
    "duration": 986,
    "start_time": "2021-07-30T10:18:56.811Z"
   },
   {
    "duration": 973,
    "start_time": "2021-07-30T10:18:56.826Z"
   },
   {
    "duration": 972,
    "start_time": "2021-07-30T10:18:56.829Z"
   },
   {
    "duration": 961,
    "start_time": "2021-07-30T10:18:56.842Z"
   },
   {
    "duration": 960,
    "start_time": "2021-07-30T10:18:56.846Z"
   },
   {
    "duration": 954,
    "start_time": "2021-07-30T10:18:56.853Z"
   },
   {
    "duration": 111,
    "start_time": "2021-07-30T10:37:46.833Z"
   },
   {
    "duration": 432,
    "start_time": "2021-07-30T10:52:58.942Z"
   },
   {
    "duration": 466,
    "start_time": "2021-07-30T11:01:37.848Z"
   },
   {
    "duration": 180,
    "start_time": "2021-07-30T11:13:22.494Z"
   },
   {
    "duration": 180,
    "start_time": "2021-07-30T11:14:16.719Z"
   },
   {
    "duration": 85,
    "start_time": "2021-07-30T12:10:23.578Z"
   },
   {
    "duration": 264,
    "start_time": "2021-07-30T12:10:28.265Z"
   },
   {
    "duration": 9353,
    "start_time": "2021-07-30T12:10:37.423Z"
   },
   {
    "duration": 1128,
    "start_time": "2021-07-30T12:10:46.779Z"
   },
   {
    "duration": 52,
    "start_time": "2021-07-30T12:10:47.911Z"
   },
   {
    "duration": 5,
    "start_time": "2021-07-30T12:10:47.969Z"
   },
   {
    "duration": 24,
    "start_time": "2021-07-30T12:10:47.976Z"
   },
   {
    "duration": 2554,
    "start_time": "2021-07-30T12:10:48.003Z"
   },
   {
    "duration": 423,
    "start_time": "2021-07-30T12:10:50.560Z"
   },
   {
    "duration": 20,
    "start_time": "2021-07-30T12:10:50.987Z"
   },
   {
    "duration": 154,
    "start_time": "2021-07-30T12:10:51.010Z"
   },
   {
    "duration": 120,
    "start_time": "2021-07-30T12:10:51.169Z"
   },
   {
    "duration": 5510,
    "start_time": "2021-07-30T12:10:51.292Z"
   },
   {
    "duration": 109,
    "start_time": "2021-07-30T12:10:56.805Z"
   },
   {
    "duration": 4261,
    "start_time": "2021-07-30T12:10:56.917Z"
   },
   {
    "duration": 106,
    "start_time": "2021-07-30T12:11:01.181Z"
   },
   {
    "duration": 224,
    "start_time": "2021-07-30T12:11:01.289Z"
   },
   {
    "duration": 6,
    "start_time": "2021-07-30T12:11:01.515Z"
   },
   {
    "duration": 14,
    "start_time": "2021-07-30T12:11:01.523Z"
   },
   {
    "duration": 180,
    "start_time": "2021-07-30T12:11:01.540Z"
   },
   {
    "duration": 42,
    "start_time": "2021-07-30T12:11:01.723Z"
   },
   {
    "duration": 123,
    "start_time": "2021-07-30T12:11:01.768Z"
   },
   {
    "duration": 42,
    "start_time": "2021-07-30T12:11:01.894Z"
   },
   {
    "duration": 548,
    "start_time": "2021-07-30T12:11:01.938Z"
   },
   {
    "duration": 16,
    "start_time": "2021-07-30T12:11:02.490Z"
   },
   {
    "duration": 494,
    "start_time": "2021-07-30T12:11:02.509Z"
   },
   {
    "duration": 204,
    "start_time": "2021-07-30T12:11:03.006Z"
   },
   {
    "duration": 132,
    "start_time": "2021-07-30T12:11:03.213Z"
   },
   {
    "duration": 6922,
    "start_time": "2021-07-30T12:11:03.348Z"
   },
   {
    "duration": 9011,
    "start_time": "2021-07-30T12:11:10.275Z"
   },
   {
    "duration": 394,
    "start_time": "2021-07-30T12:11:19.289Z"
   },
   {
    "duration": 774,
    "start_time": "2021-07-30T12:11:19.686Z"
   },
   {
    "duration": 122,
    "start_time": "2021-07-30T12:11:20.463Z"
   },
   {
    "duration": 212909,
    "start_time": "2021-07-30T12:11:20.587Z"
   },
   {
    "duration": 956,
    "start_time": "2021-07-30T12:14:53.499Z"
   },
   {
    "duration": 3210,
    "start_time": "2021-07-30T12:28:51.495Z"
   },
   {
    "duration": 2836,
    "start_time": "2021-07-30T12:29:06.798Z"
   },
   {
    "duration": 2576,
    "start_time": "2021-07-30T12:29:58.766Z"
   },
   {
    "duration": 2654,
    "start_time": "2021-07-30T12:30:51.093Z"
   },
   {
    "duration": 125,
    "start_time": "2021-07-30T12:36:01.472Z"
   },
   {
    "duration": 105,
    "start_time": "2021-07-30T12:37:19.191Z"
   },
   {
    "duration": 85,
    "start_time": "2021-07-30T12:37:34.439Z"
   },
   {
    "duration": 1137,
    "start_time": "2021-07-30T12:39:12.743Z"
   },
   {
    "duration": 419,
    "start_time": "2021-07-30T12:39:18.893Z"
   },
   {
    "duration": 144,
    "start_time": "2021-07-30T12:41:14.252Z"
   },
   {
    "duration": 469,
    "start_time": "2021-07-30T12:41:20.572Z"
   },
   {
    "duration": 398,
    "start_time": "2021-07-30T12:44:56.169Z"
   },
   {
    "duration": 420,
    "start_time": "2021-07-30T12:45:09.425Z"
   },
   {
    "duration": 17147,
    "start_time": "2021-07-30T12:45:29.764Z"
   },
   {
    "duration": 9596,
    "start_time": "2021-07-30T12:46:10.109Z"
   },
   {
    "duration": 1153,
    "start_time": "2021-07-30T12:46:19.708Z"
   },
   {
    "duration": 46,
    "start_time": "2021-07-30T12:46:20.865Z"
   },
   {
    "duration": 4,
    "start_time": "2021-07-30T12:46:20.915Z"
   },
   {
    "duration": 54,
    "start_time": "2021-07-30T12:46:20.922Z"
   },
   {
    "duration": 2482,
    "start_time": "2021-07-30T12:46:20.979Z"
   },
   {
    "duration": 415,
    "start_time": "2021-07-30T12:46:23.464Z"
   },
   {
    "duration": 18,
    "start_time": "2021-07-30T12:46:23.884Z"
   },
   {
    "duration": 152,
    "start_time": "2021-07-30T12:46:23.906Z"
   },
   {
    "duration": 122,
    "start_time": "2021-07-30T12:46:24.061Z"
   },
   {
    "duration": 5017,
    "start_time": "2021-07-30T12:46:24.185Z"
   },
   {
    "duration": 114,
    "start_time": "2021-07-30T12:46:29.204Z"
   },
   {
    "duration": 4165,
    "start_time": "2021-07-30T12:46:29.320Z"
   },
   {
    "duration": 123,
    "start_time": "2021-07-30T12:46:33.488Z"
   },
   {
    "duration": 317,
    "start_time": "2021-07-30T12:46:33.614Z"
   },
   {
    "duration": 6,
    "start_time": "2021-07-30T12:46:33.934Z"
   },
   {
    "duration": 6,
    "start_time": "2021-07-30T12:46:33.954Z"
   },
   {
    "duration": 187,
    "start_time": "2021-07-30T12:46:33.963Z"
   },
   {
    "duration": 36,
    "start_time": "2021-07-30T12:46:34.152Z"
   },
   {
    "duration": 138,
    "start_time": "2021-07-30T12:46:34.191Z"
   },
   {
    "duration": 57,
    "start_time": "2021-07-30T12:46:34.331Z"
   },
   {
    "duration": 545,
    "start_time": "2021-07-30T12:46:34.390Z"
   },
   {
    "duration": 22,
    "start_time": "2021-07-30T12:46:34.940Z"
   },
   {
    "duration": 475,
    "start_time": "2021-07-30T12:46:34.965Z"
   },
   {
    "duration": 217,
    "start_time": "2021-07-30T12:46:35.443Z"
   },
   {
    "duration": 17926,
    "start_time": "2021-07-30T12:46:35.663Z"
   },
   {
    "duration": 2352,
    "start_time": "2021-07-30T12:46:53.591Z"
   },
   {
    "duration": 6626,
    "start_time": "2021-07-30T12:46:55.945Z"
   },
   {
    "duration": 9286,
    "start_time": "2021-07-30T12:47:02.574Z"
   },
   {
    "duration": 365,
    "start_time": "2021-07-30T12:47:11.863Z"
   },
   {
    "duration": 727,
    "start_time": "2021-07-30T12:47:12.230Z"
   },
   {
    "duration": 118,
    "start_time": "2021-07-30T12:47:12.959Z"
   },
   {
    "duration": 141348,
    "start_time": "2021-07-30T12:47:13.080Z"
   },
   {
    "duration": 887,
    "start_time": "2021-07-30T12:49:34.431Z"
   },
   {
    "duration": 3261,
    "start_time": "2021-07-30T12:49:35.321Z"
   },
   {
    "duration": 3763,
    "start_time": "2021-07-30T12:49:51.793Z"
   },
   {
    "duration": 125,
    "start_time": "2021-07-30T13:07:02.253Z"
   },
   {
    "duration": 157,
    "start_time": "2021-07-30T13:08:05.010Z"
   },
   {
    "duration": 120,
    "start_time": "2021-07-30T13:08:09.595Z"
   },
   {
    "duration": 136,
    "start_time": "2021-07-30T13:08:28.602Z"
   },
   {
    "duration": 130,
    "start_time": "2021-07-30T13:08:47.131Z"
   },
   {
    "duration": 7,
    "start_time": "2021-07-30T13:10:01.170Z"
   },
   {
    "duration": 181,
    "start_time": "2021-07-30T13:10:11.441Z"
   },
   {
    "duration": 47,
    "start_time": "2021-07-30T13:10:22.300Z"
   },
   {
    "duration": 26,
    "start_time": "2021-07-30T13:10:30.544Z"
   },
   {
    "duration": 47,
    "start_time": "2021-07-30T13:10:37.192Z"
   },
   {
    "duration": 44,
    "start_time": "2021-07-30T13:12:25.307Z"
   },
   {
    "duration": 66,
    "start_time": "2021-07-30T13:12:59.407Z"
   },
   {
    "duration": 97,
    "start_time": "2021-07-30T13:13:59.327Z"
   },
   {
    "duration": 41,
    "start_time": "2021-07-30T13:14:25.174Z"
   },
   {
    "duration": 90,
    "start_time": "2021-07-30T13:15:27.724Z"
   },
   {
    "duration": 46,
    "start_time": "2021-07-30T13:15:46.693Z"
   },
   {
    "duration": 7258,
    "start_time": "2021-07-30T13:17:09.539Z"
   },
   {
    "duration": 686,
    "start_time": "2021-07-30T13:17:19.668Z"
   },
   {
    "duration": 126,
    "start_time": "2021-07-30T13:17:30.789Z"
   },
   {
    "duration": 49,
    "start_time": "2021-07-30T13:17:42.219Z"
   },
   {
    "duration": 44,
    "start_time": "2021-07-30T13:44:09.766Z"
   },
   {
    "duration": 130,
    "start_time": "2021-07-30T13:59:03.259Z"
   },
   {
    "duration": 126,
    "start_time": "2021-07-30T13:59:39.426Z"
   },
   {
    "duration": 2213,
    "start_time": "2021-07-30T13:59:41.178Z"
   },
   {
    "duration": 304,
    "start_time": "2021-07-30T14:03:45.502Z"
   },
   {
    "duration": 101,
    "start_time": "2021-07-30T14:05:45.526Z"
   },
   {
    "duration": 769,
    "start_time": "2021-07-30T14:12:01.416Z"
   },
   {
    "duration": 259,
    "start_time": "2021-07-30T14:14:05.110Z"
   },
   {
    "duration": 1038,
    "start_time": "2021-07-30T14:14:09.454Z"
   },
   {
    "duration": 279,
    "start_time": "2021-07-30T14:14:29.742Z"
   },
   {
    "duration": 318,
    "start_time": "2021-07-30T14:14:37.734Z"
   },
   {
    "duration": 277,
    "start_time": "2021-07-30T14:15:13.789Z"
   },
   {
    "duration": 259,
    "start_time": "2021-07-30T14:16:41.075Z"
   },
   {
    "duration": 269,
    "start_time": "2021-07-30T14:16:47.948Z"
   },
   {
    "duration": 278,
    "start_time": "2021-07-30T14:16:58.204Z"
   },
   {
    "duration": 307,
    "start_time": "2021-07-30T14:18:55.466Z"
   },
   {
    "duration": 1003,
    "start_time": "2021-07-30T14:19:02.442Z"
   },
   {
    "duration": 17,
    "start_time": "2021-07-30T14:20:14.690Z"
   },
   {
    "duration": 43,
    "start_time": "2021-07-30T14:20:21.066Z"
   },
   {
    "duration": 901,
    "start_time": "2021-07-30T14:20:52.764Z"
   },
   {
    "duration": 269,
    "start_time": "2021-07-30T14:21:21.417Z"
   },
   {
    "duration": 4203,
    "start_time": "2021-07-30T14:25:45.365Z"
   },
   {
    "duration": 47,
    "start_time": "2021-07-30T14:25:55.900Z"
   },
   {
    "duration": 46,
    "start_time": "2021-07-30T14:28:19.787Z"
   },
   {
    "duration": 47,
    "start_time": "2021-07-30T14:28:30.490Z"
   },
   {
    "duration": 127,
    "start_time": "2021-07-30T14:37:10.974Z"
   },
   {
    "duration": 2159,
    "start_time": "2021-07-30T14:38:30.421Z"
   },
   {
    "duration": 6035,
    "start_time": "2021-07-30T14:42:16.887Z"
   },
   {
    "duration": 13178,
    "start_time": "2021-07-30T14:49:08.698Z"
   },
   {
    "duration": 1106,
    "start_time": "2021-07-30T14:49:21.879Z"
   },
   {
    "duration": 69,
    "start_time": "2021-07-30T14:49:22.989Z"
   },
   {
    "duration": 5,
    "start_time": "2021-07-30T14:49:23.062Z"
   },
   {
    "duration": 33,
    "start_time": "2021-07-30T14:49:23.070Z"
   },
   {
    "duration": 4221,
    "start_time": "2021-07-30T14:49:23.106Z"
   },
   {
    "duration": 631,
    "start_time": "2021-07-30T14:49:27.330Z"
   },
   {
    "duration": 23,
    "start_time": "2021-07-30T14:49:27.967Z"
   },
   {
    "duration": 200,
    "start_time": "2021-07-30T14:49:27.994Z"
   },
   {
    "duration": 123,
    "start_time": "2021-07-30T14:49:28.197Z"
   },
   {
    "duration": 5248,
    "start_time": "2021-07-30T14:49:28.322Z"
   },
   {
    "duration": 118,
    "start_time": "2021-07-30T14:49:33.572Z"
   },
   {
    "duration": 4242,
    "start_time": "2021-07-30T14:49:33.692Z"
   },
   {
    "duration": 99,
    "start_time": "2021-07-30T14:49:37.937Z"
   },
   {
    "duration": 226,
    "start_time": "2021-07-30T14:49:38.039Z"
   },
   {
    "duration": 4,
    "start_time": "2021-07-30T14:49:38.268Z"
   },
   {
    "duration": 19,
    "start_time": "2021-07-30T14:49:38.275Z"
   },
   {
    "duration": 170,
    "start_time": "2021-07-30T14:49:38.296Z"
   },
   {
    "duration": 32,
    "start_time": "2021-07-30T14:49:38.468Z"
   },
   {
    "duration": 128,
    "start_time": "2021-07-30T14:49:38.502Z"
   },
   {
    "duration": 47,
    "start_time": "2021-07-30T14:49:38.633Z"
   },
   {
    "duration": 529,
    "start_time": "2021-07-30T14:49:38.682Z"
   },
   {
    "duration": 18,
    "start_time": "2021-07-30T14:49:39.216Z"
   },
   {
    "duration": 517,
    "start_time": "2021-07-30T14:49:39.237Z"
   },
   {
    "duration": 200,
    "start_time": "2021-07-30T14:49:39.757Z"
   },
   {
    "duration": 6345,
    "start_time": "2021-07-30T14:49:39.960Z"
   },
   {
    "duration": 62,
    "start_time": "2021-07-30T14:49:46.307Z"
   },
   {
    "duration": 45,
    "start_time": "2021-07-30T14:49:46.372Z"
   },
   {
    "duration": 65,
    "start_time": "2021-07-30T14:49:46.419Z"
   },
   {
    "duration": 45,
    "start_time": "2021-07-30T14:49:46.487Z"
   },
   {
    "duration": 51,
    "start_time": "2021-07-30T14:49:46.534Z"
   },
   {
    "duration": 71,
    "start_time": "2021-07-30T14:49:46.588Z"
   },
   {
    "duration": 142,
    "start_time": "2021-07-30T14:49:46.662Z"
   },
   {
    "duration": 90,
    "start_time": "2021-07-30T14:49:46.807Z"
   },
   {
    "duration": 905,
    "start_time": "2021-07-30T14:49:45.995Z"
   },
   {
    "duration": 904,
    "start_time": "2021-07-30T14:49:45.998Z"
   },
   {
    "duration": 903,
    "start_time": "2021-07-30T14:49:46.001Z"
   },
   {
    "duration": 902,
    "start_time": "2021-07-30T14:49:46.004Z"
   },
   {
    "duration": 901,
    "start_time": "2021-07-30T14:49:46.007Z"
   },
   {
    "duration": 892,
    "start_time": "2021-07-30T14:49:46.018Z"
   },
   {
    "duration": 890,
    "start_time": "2021-07-30T14:49:46.022Z"
   },
   {
    "duration": 45,
    "start_time": "2021-07-30T14:51:21.916Z"
   },
   {
    "duration": 37,
    "start_time": "2021-07-30T14:52:04.610Z"
   },
   {
    "duration": 37,
    "start_time": "2021-07-30T14:52:13.482Z"
   },
   {
    "duration": 43,
    "start_time": "2021-07-30T14:52:24.923Z"
   },
   {
    "duration": 43,
    "start_time": "2021-07-30T14:52:37.746Z"
   },
   {
    "duration": 46,
    "start_time": "2021-07-30T14:52:49.186Z"
   },
   {
    "duration": 39,
    "start_time": "2021-07-30T14:53:03.066Z"
   },
   {
    "duration": 444,
    "start_time": "2021-07-30T14:53:13.465Z"
   },
   {
    "duration": 38,
    "start_time": "2021-07-30T14:53:23.002Z"
   },
   {
    "duration": 5621,
    "start_time": "2021-07-30T14:56:08.415Z"
   },
   {
    "duration": 6246,
    "start_time": "2021-07-30T14:58:07.779Z"
   },
   {
    "duration": 313,
    "start_time": "2021-07-30T15:16:56.004Z"
   },
   {
    "duration": 39776,
    "start_time": "2021-07-30T15:20:28.340Z"
   },
   {
    "duration": 9482,
    "start_time": "2021-07-30T15:21:48.111Z"
   },
   {
    "duration": 1108,
    "start_time": "2021-07-30T15:21:57.597Z"
   },
   {
    "duration": 51,
    "start_time": "2021-07-30T15:21:58.708Z"
   },
   {
    "duration": 4,
    "start_time": "2021-07-30T15:21:58.762Z"
   },
   {
    "duration": 35,
    "start_time": "2021-07-30T15:21:58.768Z"
   },
   {
    "duration": 2474,
    "start_time": "2021-07-30T15:21:58.806Z"
   },
   {
    "duration": 407,
    "start_time": "2021-07-30T15:22:01.283Z"
   },
   {
    "duration": 18,
    "start_time": "2021-07-30T15:22:01.694Z"
   },
   {
    "duration": 142,
    "start_time": "2021-07-30T15:22:01.715Z"
   },
   {
    "duration": 120,
    "start_time": "2021-07-30T15:22:01.859Z"
   },
   {
    "duration": 4850,
    "start_time": "2021-07-30T15:22:01.982Z"
   },
   {
    "duration": 111,
    "start_time": "2021-07-30T15:22:06.835Z"
   },
   {
    "duration": 3975,
    "start_time": "2021-07-30T15:22:06.949Z"
   },
   {
    "duration": 104,
    "start_time": "2021-07-30T15:22:10.927Z"
   },
   {
    "duration": 221,
    "start_time": "2021-07-30T15:22:11.034Z"
   },
   {
    "duration": 6,
    "start_time": "2021-07-30T15:22:11.258Z"
   },
   {
    "duration": 13,
    "start_time": "2021-07-30T15:22:11.266Z"
   },
   {
    "duration": 163,
    "start_time": "2021-07-30T15:22:11.281Z"
   },
   {
    "duration": 31,
    "start_time": "2021-07-30T15:22:11.455Z"
   },
   {
    "duration": 122,
    "start_time": "2021-07-30T15:22:11.489Z"
   },
   {
    "duration": 51,
    "start_time": "2021-07-30T15:22:11.613Z"
   },
   {
    "duration": 766,
    "start_time": "2021-07-30T15:22:11.667Z"
   },
   {
    "duration": 29,
    "start_time": "2021-07-30T15:22:12.440Z"
   },
   {
    "duration": 684,
    "start_time": "2021-07-30T15:22:12.473Z"
   },
   {
    "duration": 285,
    "start_time": "2021-07-30T15:22:13.160Z"
   },
   {
    "duration": 9892,
    "start_time": "2021-07-30T15:22:13.448Z"
   },
   {
    "duration": 71,
    "start_time": "2021-07-30T15:22:23.343Z"
   },
   {
    "duration": 63,
    "start_time": "2021-07-30T15:22:23.417Z"
   },
   {
    "duration": 52,
    "start_time": "2021-07-30T15:22:23.483Z"
   },
   {
    "duration": 44,
    "start_time": "2021-07-30T15:22:23.554Z"
   },
   {
    "duration": 58,
    "start_time": "2021-07-30T15:22:23.601Z"
   },
   {
    "duration": 45,
    "start_time": "2021-07-30T15:22:23.662Z"
   },
   {
    "duration": 150,
    "start_time": "2021-07-30T15:22:23.709Z"
   },
   {
    "duration": 36,
    "start_time": "2021-07-30T15:22:23.861Z"
   },
   {
    "duration": 798104,
    "start_time": "2021-07-30T15:22:23.900Z"
   },
   {
    "duration": 907,
    "start_time": "2021-07-30T15:35:41.100Z"
   },
   {
    "duration": 893,
    "start_time": "2021-07-30T15:35:41.115Z"
   },
   {
    "duration": 890,
    "start_time": "2021-07-30T15:35:41.120Z"
   },
   {
    "duration": 886,
    "start_time": "2021-07-30T15:35:41.125Z"
   },
   {
    "duration": 884,
    "start_time": "2021-07-30T15:35:41.128Z"
   },
   {
    "duration": 882,
    "start_time": "2021-07-30T15:35:41.132Z"
   },
   {
    "duration": 879,
    "start_time": "2021-07-30T15:35:41.136Z"
   },
   {
    "duration": 18477,
    "start_time": "2021-07-30T15:36:22.321Z"
   },
   {
    "duration": 519412,
    "start_time": "2021-07-30T15:37:42.439Z"
   },
   {
    "duration": 37,
    "start_time": "2021-07-30T15:52:17.972Z"
   },
   {
    "duration": 37,
    "start_time": "2021-07-30T15:52:30.972Z"
   },
   {
    "duration": 39,
    "start_time": "2021-07-30T15:52:41.019Z"
   },
   {
    "duration": 89,
    "start_time": "2021-07-30T15:54:39.882Z"
   },
   {
    "duration": 85,
    "start_time": "2021-07-30T15:54:57.059Z"
   },
   {
    "duration": 104,
    "start_time": "2021-07-30T15:55:28.681Z"
   },
   {
    "duration": 101,
    "start_time": "2021-07-30T15:55:34.593Z"
   },
   {
    "duration": 5,
    "start_time": "2021-07-30T15:56:01.632Z"
   },
   {
    "duration": 6,
    "start_time": "2021-07-30T15:56:09.688Z"
   },
   {
    "duration": 5,
    "start_time": "2021-07-30T15:56:56.128Z"
   },
   {
    "duration": 6,
    "start_time": "2021-07-30T15:57:02.680Z"
   },
   {
    "duration": 24,
    "start_time": "2021-07-30T15:57:55.016Z"
   },
   {
    "duration": 100,
    "start_time": "2021-07-30T15:58:13.055Z"
   },
   {
    "duration": 9,
    "start_time": "2021-07-30T15:58:22.511Z"
   },
   {
    "duration": 287,
    "start_time": "2021-07-30T15:58:36.630Z"
   },
   {
    "duration": 9,
    "start_time": "2021-07-30T15:59:04.735Z"
   },
   {
    "duration": 17,
    "start_time": "2021-07-30T15:59:39.678Z"
   },
   {
    "duration": 10,
    "start_time": "2021-07-30T15:59:55.007Z"
   },
   {
    "duration": 18,
    "start_time": "2021-07-30T16:00:22.181Z"
   },
   {
    "duration": 13,
    "start_time": "2021-07-30T16:00:45.610Z"
   },
   {
    "duration": 24,
    "start_time": "2021-07-30T16:00:58.101Z"
   },
   {
    "duration": 538,
    "start_time": "2021-07-30T16:01:06.933Z"
   },
   {
    "duration": 443203,
    "start_time": "2021-07-30T16:03:31.995Z"
   },
   {
    "duration": 54,
    "start_time": "2021-07-30T16:10:55.200Z"
   },
   {
    "duration": 96,
    "start_time": "2021-07-30T16:13:06.459Z"
   },
   {
    "duration": 10,
    "start_time": "2021-07-30T16:14:52.755Z"
   },
   {
    "duration": 273,
    "start_time": "2021-07-30T16:15:35.401Z"
   },
   {
    "duration": 7,
    "start_time": "2021-07-30T16:15:58.217Z"
   },
   {
    "duration": 6,
    "start_time": "2021-07-30T16:16:08.009Z"
   },
   {
    "duration": 281,
    "start_time": "2021-07-30T16:16:18.432Z"
   },
   {
    "duration": 8,
    "start_time": "2021-07-30T16:16:28.025Z"
   },
   {
    "duration": 16,
    "start_time": "2021-07-30T16:16:53.544Z"
   },
   {
    "duration": 10,
    "start_time": "2021-07-30T16:17:08.015Z"
   },
   {
    "duration": 9,
    "start_time": "2021-07-30T16:17:27.018Z"
   },
   {
    "duration": 11,
    "start_time": "2021-07-30T16:17:48.080Z"
   },
   {
    "duration": 44,
    "start_time": "2021-07-30T16:18:48.647Z"
   },
   {
    "duration": 10,
    "start_time": "2021-07-30T16:18:50.150Z"
   },
   {
    "duration": 146,
    "start_time": "2021-07-30T16:19:22.078Z"
   },
   {
    "duration": 50,
    "start_time": "2021-07-30T16:20:16.830Z"
   },
   {
    "duration": 115,
    "start_time": "2021-07-30T16:20:18.189Z"
   },
   {
    "duration": 8,
    "start_time": "2021-07-30T16:20:39.133Z"
   },
   {
    "duration": 116,
    "start_time": "2021-07-30T16:21:04.045Z"
   },
   {
    "duration": 66,
    "start_time": "2021-07-30T16:23:07.341Z"
   },
   {
    "duration": 194,
    "start_time": "2021-07-30T16:23:10.676Z"
   },
   {
    "duration": 10883,
    "start_time": "2021-07-30T16:23:53.790Z"
   },
   {
    "duration": 1115,
    "start_time": "2021-07-30T16:24:04.676Z"
   },
   {
    "duration": 57,
    "start_time": "2021-07-30T16:24:05.799Z"
   },
   {
    "duration": 5,
    "start_time": "2021-07-30T16:24:05.859Z"
   },
   {
    "duration": 38,
    "start_time": "2021-07-30T16:24:05.868Z"
   },
   {
    "duration": 2414,
    "start_time": "2021-07-30T16:24:05.909Z"
   },
   {
    "duration": 392,
    "start_time": "2021-07-30T16:24:08.329Z"
   },
   {
    "duration": 33,
    "start_time": "2021-07-30T16:24:08.724Z"
   },
   {
    "duration": 146,
    "start_time": "2021-07-30T16:24:08.760Z"
   },
   {
    "duration": 115,
    "start_time": "2021-07-30T16:24:08.909Z"
   },
   {
    "duration": 5104,
    "start_time": "2021-07-30T16:24:09.026Z"
   },
   {
    "duration": 106,
    "start_time": "2021-07-30T16:24:14.132Z"
   },
   {
    "duration": 4092,
    "start_time": "2021-07-30T16:24:14.240Z"
   },
   {
    "duration": 100,
    "start_time": "2021-07-30T16:24:18.334Z"
   },
   {
    "duration": 230,
    "start_time": "2021-07-30T16:24:18.437Z"
   },
   {
    "duration": 5,
    "start_time": "2021-07-30T16:24:18.669Z"
   },
   {
    "duration": 27,
    "start_time": "2021-07-30T16:24:18.676Z"
   },
   {
    "duration": 170,
    "start_time": "2021-07-30T16:24:18.705Z"
   },
   {
    "duration": 39,
    "start_time": "2021-07-30T16:24:18.878Z"
   },
   {
    "duration": 191,
    "start_time": "2021-07-30T16:24:18.920Z"
   },
   {
    "duration": 83,
    "start_time": "2021-07-30T16:24:19.113Z"
   },
   {
    "duration": 590,
    "start_time": "2021-07-30T16:24:19.201Z"
   },
   {
    "duration": 15,
    "start_time": "2021-07-30T16:24:19.794Z"
   },
   {
    "duration": 462,
    "start_time": "2021-07-30T16:24:19.812Z"
   },
   {
    "duration": 205,
    "start_time": "2021-07-30T16:24:20.276Z"
   },
   {
    "duration": 6449,
    "start_time": "2021-07-30T16:24:20.484Z"
   },
   {
    "duration": 51,
    "start_time": "2021-07-30T16:24:26.935Z"
   },
   {
    "duration": 41,
    "start_time": "2021-07-30T16:24:26.989Z"
   },
   {
    "duration": 64,
    "start_time": "2021-07-30T16:24:27.033Z"
   },
   {
    "duration": 64,
    "start_time": "2021-07-30T16:24:27.100Z"
   },
   {
    "duration": 54,
    "start_time": "2021-07-30T16:24:27.166Z"
   },
   {
    "duration": 62,
    "start_time": "2021-07-30T16:24:27.222Z"
   },
   {
    "duration": 149,
    "start_time": "2021-07-30T16:24:27.287Z"
   },
   {
    "duration": 480166,
    "start_time": "2021-07-30T16:24:27.438Z"
   },
   {
    "duration": 26,
    "start_time": "2021-07-30T16:32:27.606Z"
   },
   {
    "duration": 56,
    "start_time": "2021-07-30T16:32:27.634Z"
   },
   {
    "duration": 180,
    "start_time": "2021-07-30T16:32:27.692Z"
   },
   {
    "duration": 8684,
    "start_time": "2021-07-30T16:32:27.874Z"
   },
   {
    "duration": 375,
    "start_time": "2021-07-30T16:32:36.560Z"
   },
   {
    "duration": 773,
    "start_time": "2021-07-30T16:32:36.937Z"
   },
   {
    "duration": 124,
    "start_time": "2021-07-30T16:32:37.713Z"
   },
   {
    "duration": 170339,
    "start_time": "2021-07-30T16:32:37.839Z"
   },
   {
    "duration": 1022,
    "start_time": "2021-07-30T16:35:28.180Z"
   },
   {
    "duration": 886,
    "start_time": "2021-07-30T16:35:28.603Z"
   },
   {
    "duration": 20,
    "start_time": "2021-07-30T16:36:26.454Z"
   },
   {
    "duration": 112,
    "start_time": "2021-07-30T16:36:49.721Z"
   },
   {
    "duration": 10273,
    "start_time": "2021-07-30T16:38:43.132Z"
   },
   {
    "duration": 1185,
    "start_time": "2021-07-30T16:38:53.408Z"
   },
   {
    "duration": 57,
    "start_time": "2021-07-30T16:38:54.600Z"
   },
   {
    "duration": 4,
    "start_time": "2021-07-30T16:38:54.660Z"
   },
   {
    "duration": 33,
    "start_time": "2021-07-30T16:38:54.667Z"
   },
   {
    "duration": 2530,
    "start_time": "2021-07-30T16:38:54.703Z"
   },
   {
    "duration": 402,
    "start_time": "2021-07-30T16:38:57.237Z"
   },
   {
    "duration": 28,
    "start_time": "2021-07-30T16:38:57.643Z"
   },
   {
    "duration": 150,
    "start_time": "2021-07-30T16:38:57.674Z"
   },
   {
    "duration": 140,
    "start_time": "2021-07-30T16:38:57.827Z"
   },
   {
    "duration": 5090,
    "start_time": "2021-07-30T16:38:57.970Z"
   },
   {
    "duration": 112,
    "start_time": "2021-07-30T16:39:03.063Z"
   },
   {
    "duration": 4110,
    "start_time": "2021-07-30T16:39:03.178Z"
   },
   {
    "duration": 110,
    "start_time": "2021-07-30T16:39:07.292Z"
   },
   {
    "duration": 223,
    "start_time": "2021-07-30T16:39:07.405Z"
   },
   {
    "duration": 6,
    "start_time": "2021-07-30T16:39:07.631Z"
   },
   {
    "duration": 19,
    "start_time": "2021-07-30T16:39:07.640Z"
   },
   {
    "duration": 172,
    "start_time": "2021-07-30T16:39:07.662Z"
   },
   {
    "duration": 44,
    "start_time": "2021-07-30T16:39:07.837Z"
   },
   {
    "duration": 127,
    "start_time": "2021-07-30T16:39:07.884Z"
   },
   {
    "duration": 54,
    "start_time": "2021-07-30T16:39:08.014Z"
   },
   {
    "duration": 524,
    "start_time": "2021-07-30T16:39:08.075Z"
   },
   {
    "duration": 18,
    "start_time": "2021-07-30T16:39:08.603Z"
   },
   {
    "duration": 486,
    "start_time": "2021-07-30T16:39:08.624Z"
   },
   {
    "duration": 212,
    "start_time": "2021-07-30T16:39:09.113Z"
   },
   {
    "duration": 6575,
    "start_time": "2021-07-30T16:39:09.328Z"
   },
   {
    "duration": 64,
    "start_time": "2021-07-30T16:39:15.906Z"
   },
   {
    "duration": 43,
    "start_time": "2021-07-30T16:39:15.973Z"
   },
   {
    "duration": 72,
    "start_time": "2021-07-30T16:39:16.019Z"
   },
   {
    "duration": 61,
    "start_time": "2021-07-30T16:39:16.095Z"
   },
   {
    "duration": 35,
    "start_time": "2021-07-30T16:39:16.158Z"
   },
   {
    "duration": 72,
    "start_time": "2021-07-30T16:39:16.195Z"
   },
   {
    "duration": 139,
    "start_time": "2021-07-30T16:39:16.270Z"
   },
   {
    "duration": 475248,
    "start_time": "2021-07-30T16:39:16.413Z"
   },
   {
    "duration": 873,
    "start_time": "2021-07-30T16:47:10.790Z"
   },
   {
    "duration": 868,
    "start_time": "2021-07-30T16:47:10.797Z"
   },
   {
    "duration": 866,
    "start_time": "2021-07-30T16:47:10.800Z"
   },
   {
    "duration": 865,
    "start_time": "2021-07-30T16:47:10.803Z"
   },
   {
    "duration": 856,
    "start_time": "2021-07-30T16:47:10.813Z"
   },
   {
    "duration": 853,
    "start_time": "2021-07-30T16:47:10.817Z"
   },
   {
    "duration": 851,
    "start_time": "2021-07-30T16:47:10.821Z"
   },
   {
    "duration": 850,
    "start_time": "2021-07-30T16:47:10.823Z"
   },
   {
    "duration": 79,
    "start_time": "2021-07-30T16:47:38.056Z"
   },
   {
    "duration": 113632,
    "start_time": "2021-07-30T16:48:31.598Z"
   },
   {
    "duration": 42,
    "start_time": "2021-07-30T16:53:08.947Z"
   },
   {
    "duration": 150,
    "start_time": "2021-07-30T16:53:12.322Z"
   },
   {
    "duration": 116,
    "start_time": "2021-07-30T17:05:44.179Z"
   },
   {
    "duration": 284,
    "start_time": "2021-07-30T17:05:55.192Z"
   },
   {
    "duration": 395,
    "start_time": "2021-07-30T17:09:18.785Z"
   },
   {
    "duration": 40,
    "start_time": "2021-07-30T17:09:59.199Z"
   },
   {
    "duration": 5,
    "start_time": "2021-07-30T17:10:08.437Z"
   },
   {
    "duration": 38,
    "start_time": "2021-07-30T17:11:18.444Z"
   },
   {
    "duration": 5,
    "start_time": "2021-07-30T17:11:19.732Z"
   },
   {
    "duration": 5,
    "start_time": "2021-07-30T17:14:04.203Z"
   },
   {
    "duration": 7,
    "start_time": "2021-07-30T17:14:09.042Z"
   },
   {
    "duration": 43,
    "start_time": "2021-07-30T17:16:10.377Z"
   },
   {
    "duration": 40,
    "start_time": "2021-07-30T17:17:36.568Z"
   },
   {
    "duration": 43,
    "start_time": "2021-07-30T17:18:00.143Z"
   },
   {
    "duration": 42,
    "start_time": "2021-07-30T17:18:07.535Z"
   },
   {
    "duration": 176,
    "start_time": "2021-07-30T17:19:06.142Z"
   },
   {
    "duration": 3365,
    "start_time": "2021-07-30T17:21:09.485Z"
   },
   {
    "duration": 3938,
    "start_time": "2021-07-30T17:22:38.732Z"
   },
   {
    "duration": 3303,
    "start_time": "2021-07-30T17:23:16.828Z"
   },
   {
    "duration": 3532,
    "start_time": "2021-07-30T17:25:08.594Z"
   },
   {
    "duration": 3411,
    "start_time": "2021-07-30T17:25:40.561Z"
   },
   {
    "duration": 4878,
    "start_time": "2021-07-30T17:26:03.290Z"
   },
   {
    "duration": 104759,
    "start_time": "2021-07-30T17:27:27.368Z"
   },
   {
    "duration": 57,
    "start_time": "2021-07-30T17:29:59.431Z"
   },
   {
    "duration": 116,
    "start_time": "2021-07-30T17:30:01.230Z"
   },
   {
    "duration": 8,
    "start_time": "2021-07-30T17:30:30.237Z"
   },
   {
    "duration": 30,
    "start_time": "2021-07-30T17:30:56.021Z"
   },
   {
    "duration": 115,
    "start_time": "2021-07-30T17:31:22.284Z"
   },
   {
    "duration": 272,
    "start_time": "2021-07-30T17:31:28.644Z"
   },
   {
    "duration": 116,
    "start_time": "2021-07-30T17:31:41.604Z"
   },
   {
    "duration": 7,
    "start_time": "2021-07-30T17:31:53.756Z"
   },
   {
    "duration": 3703,
    "start_time": "2021-07-30T17:32:21.619Z"
   },
   {
    "duration": 16004,
    "start_time": "2021-07-30T17:32:40.292Z"
   },
   {
    "duration": 10234,
    "start_time": "2021-07-30T17:33:04.580Z"
   },
   {
    "duration": 309,
    "start_time": "2021-07-30T17:33:54.651Z"
   },
   {
    "duration": 7302,
    "start_time": "2021-07-30T17:34:28.277Z"
   },
   {
    "duration": 102144,
    "start_time": "2021-07-30T17:34:42.642Z"
   },
   {
    "duration": 9895,
    "start_time": "2021-07-30T17:39:10.886Z"
   },
   {
    "duration": 53,
    "start_time": "2021-07-30T17:39:25.222Z"
   },
   {
    "duration": 7,
    "start_time": "2021-07-30T17:39:26.750Z"
   },
   {
    "duration": 113,
    "start_time": "2021-07-30T17:39:38.581Z"
   },
   {
    "duration": 8,
    "start_time": "2021-07-30T17:40:05.621Z"
   },
   {
    "duration": 115,
    "start_time": "2021-07-30T17:40:25.949Z"
   },
   {
    "duration": 100975,
    "start_time": "2021-07-30T17:40:32.829Z"
   },
   {
    "duration": 58,
    "start_time": "2021-07-30T17:44:45.561Z"
   },
   {
    "duration": 8,
    "start_time": "2021-07-30T17:44:46.633Z"
   },
   {
    "duration": 7,
    "start_time": "2021-07-30T17:44:51.147Z"
   },
   {
    "duration": 124,
    "start_time": "2021-07-30T17:44:53.881Z"
   },
   {
    "duration": 313,
    "start_time": "2021-07-30T17:48:45.014Z"
   },
   {
    "duration": 9873,
    "start_time": "2021-07-30T17:49:13.982Z"
   },
   {
    "duration": 9,
    "start_time": "2021-07-30T17:49:31.550Z"
   },
   {
    "duration": 54,
    "start_time": "2021-07-30T17:49:40.094Z"
   },
   {
    "duration": 8,
    "start_time": "2021-07-30T17:49:41.493Z"
   },
   {
    "duration": 9730,
    "start_time": "2021-07-30T17:50:31.524Z"
   },
   {
    "duration": 56,
    "start_time": "2021-07-30T17:50:59.884Z"
   },
   {
    "duration": 8,
    "start_time": "2021-07-30T17:51:01.164Z"
   },
   {
    "duration": 101717,
    "start_time": "2021-07-30T17:51:15.228Z"
   },
   {
    "duration": 12323,
    "start_time": "2021-07-30T17:53:15.563Z"
   },
   {
    "duration": 56,
    "start_time": "2021-07-30T17:53:32.818Z"
   },
   {
    "duration": 8,
    "start_time": "2021-07-30T17:53:34.346Z"
   },
   {
    "duration": 103910,
    "start_time": "2021-07-30T17:54:08.562Z"
   },
   {
    "duration": 9968,
    "start_time": "2021-07-30T17:55:59.976Z"
   },
   {
    "duration": 61,
    "start_time": "2021-07-30T17:56:16.360Z"
   },
   {
    "duration": 7,
    "start_time": "2021-07-30T17:56:17.728Z"
   },
   {
    "duration": 102154,
    "start_time": "2021-07-30T17:56:41.481Z"
   },
   {
    "duration": 12775,
    "start_time": "2021-07-30T17:58:41.319Z"
   },
   {
    "duration": 56,
    "start_time": "2021-07-30T17:58:57.894Z"
   },
   {
    "duration": 7,
    "start_time": "2021-07-30T17:58:59.414Z"
   },
   {
    "duration": 101781,
    "start_time": "2021-07-30T18:03:52.947Z"
   },
   {
    "duration": 60,
    "start_time": "2021-07-30T18:05:38.480Z"
   },
   {
    "duration": 8,
    "start_time": "2021-07-30T18:05:41.096Z"
   },
   {
    "duration": 7,
    "start_time": "2021-07-30T18:05:48.480Z"
   },
   {
    "duration": 116,
    "start_time": "2021-07-30T18:05:50.321Z"
   },
   {
    "duration": 33,
    "start_time": "2021-07-30T18:06:05.777Z"
   },
   {
    "duration": 4451,
    "start_time": "2021-07-30T18:07:41.351Z"
   },
   {
    "duration": 32,
    "start_time": "2021-07-30T18:07:53.600Z"
   },
   {
    "duration": 6,
    "start_time": "2021-07-30T18:09:42.309Z"
   },
   {
    "duration": 252,
    "start_time": "2021-07-30T18:09:51.222Z"
   },
   {
    "duration": 6,
    "start_time": "2021-07-30T18:09:54.293Z"
   },
   {
    "duration": 79,
    "start_time": "2021-07-30T18:10:18.934Z"
   },
   {
    "duration": 7,
    "start_time": "2021-07-30T18:10:19.872Z"
   },
   {
    "duration": 8,
    "start_time": "2021-07-30T18:10:29.916Z"
   },
   {
    "duration": 114,
    "start_time": "2021-07-30T18:10:44.134Z"
   },
   {
    "duration": 8499,
    "start_time": "2021-07-30T18:16:18.090Z"
   },
   {
    "duration": 391,
    "start_time": "2021-07-30T18:17:59.719Z"
   },
   {
    "duration": 117,
    "start_time": "2021-07-30T18:18:07.295Z"
   },
   {
    "duration": 119,
    "start_time": "2021-07-30T18:18:23.495Z"
   },
   {
    "duration": 113,
    "start_time": "2021-07-30T18:18:35.838Z"
   },
   {
    "duration": 94,
    "start_time": "2021-07-30T18:19:26.545Z"
   },
   {
    "duration": 178,
    "start_time": "2021-07-30T18:20:17.015Z"
   },
   {
    "duration": 286,
    "start_time": "2021-07-30T18:20:35.845Z"
   },
   {
    "duration": 214420,
    "start_time": "2021-07-30T18:21:06.877Z"
   },
   {
    "duration": 9061,
    "start_time": "2021-07-30T18:25:37.906Z"
   },
   {
    "duration": 1107,
    "start_time": "2021-07-30T18:25:46.970Z"
   },
   {
    "duration": 42,
    "start_time": "2021-07-30T18:25:48.081Z"
   },
   {
    "duration": 4,
    "start_time": "2021-07-30T18:25:48.126Z"
   },
   {
    "duration": 36,
    "start_time": "2021-07-30T18:25:48.133Z"
   },
   {
    "duration": 2518,
    "start_time": "2021-07-30T18:25:48.171Z"
   },
   {
    "duration": 399,
    "start_time": "2021-07-30T18:25:50.692Z"
   },
   {
    "duration": 19,
    "start_time": "2021-07-30T18:25:51.094Z"
   },
   {
    "duration": 139,
    "start_time": "2021-07-30T18:25:51.116Z"
   },
   {
    "duration": 119,
    "start_time": "2021-07-30T18:25:51.258Z"
   },
   {
    "duration": 4753,
    "start_time": "2021-07-30T18:25:51.379Z"
   },
   {
    "duration": 112,
    "start_time": "2021-07-30T18:25:56.135Z"
   },
   {
    "duration": 3885,
    "start_time": "2021-07-30T18:25:56.249Z"
   },
   {
    "duration": 99,
    "start_time": "2021-07-30T18:26:00.136Z"
   },
   {
    "duration": 225,
    "start_time": "2021-07-30T18:26:00.238Z"
   },
   {
    "duration": 5,
    "start_time": "2021-07-30T18:26:00.465Z"
   },
   {
    "duration": 28,
    "start_time": "2021-07-30T18:26:00.473Z"
   },
   {
    "duration": 172,
    "start_time": "2021-07-30T18:26:00.503Z"
   },
   {
    "duration": 34,
    "start_time": "2021-07-30T18:26:00.677Z"
   },
   {
    "duration": 127,
    "start_time": "2021-07-30T18:26:00.713Z"
   },
   {
    "duration": 47,
    "start_time": "2021-07-30T18:26:00.842Z"
   },
   {
    "duration": 512,
    "start_time": "2021-07-30T18:26:00.892Z"
   },
   {
    "duration": 16,
    "start_time": "2021-07-30T18:26:01.409Z"
   },
   {
    "duration": 464,
    "start_time": "2021-07-30T18:26:01.428Z"
   },
   {
    "duration": 199,
    "start_time": "2021-07-30T18:26:01.894Z"
   },
   {
    "duration": 6315,
    "start_time": "2021-07-30T18:26:02.095Z"
   },
   {
    "duration": 59,
    "start_time": "2021-07-30T18:26:08.413Z"
   },
   {
    "duration": 46,
    "start_time": "2021-07-30T18:26:08.474Z"
   },
   {
    "duration": 73,
    "start_time": "2021-07-30T18:26:08.523Z"
   },
   {
    "duration": 67,
    "start_time": "2021-07-30T18:26:08.599Z"
   },
   {
    "duration": 39,
    "start_time": "2021-07-30T18:26:08.668Z"
   },
   {
    "duration": 66,
    "start_time": "2021-07-30T18:26:08.709Z"
   },
   {
    "duration": 92,
    "start_time": "2021-07-30T18:26:08.777Z"
   },
   {
    "duration": 107396,
    "start_time": "2021-07-30T18:26:08.871Z"
   },
   {
    "duration": 23,
    "start_time": "2021-07-30T18:27:56.270Z"
   },
   {
    "duration": 115,
    "start_time": "2021-07-30T18:27:56.296Z"
   },
   {
    "duration": 253,
    "start_time": "2021-07-30T18:27:56.413Z"
   },
   {
    "duration": 330,
    "start_time": "2021-07-30T18:27:56.668Z"
   },
   {
    "duration": 206497,
    "start_time": "2021-07-30T18:27:57.001Z"
   },
   {
    "duration": 895,
    "start_time": "2021-07-30T18:31:23.500Z"
   },
   {
    "duration": 1163,
    "start_time": "2021-07-30T18:31:30.679Z"
   },
   {
    "duration": 7338,
    "start_time": "2021-07-30T18:32:05.346Z"
   },
   {
    "duration": 1041,
    "start_time": "2021-07-30T18:32:12.687Z"
   },
   {
    "duration": 47,
    "start_time": "2021-07-30T18:32:13.732Z"
   },
   {
    "duration": 5,
    "start_time": "2021-07-30T18:32:13.782Z"
   },
   {
    "duration": 6,
    "start_time": "2021-07-30T18:32:24.517Z"
   },
   {
    "duration": 2536,
    "start_time": "2021-07-30T18:33:01.788Z"
   },
   {
    "duration": 10,
    "start_time": "2021-07-30T18:48:35.681Z"
   },
   {
    "duration": 22,
    "start_time": "2021-07-30T18:49:02.768Z"
   },
   {
    "duration": 54,
    "start_time": "2021-07-30T18:49:56.049Z"
   },
   {
    "duration": 75,
    "start_time": "2021-07-30T18:51:39.966Z"
   },
   {
    "duration": 52,
    "start_time": "2021-07-30T18:51:40.886Z"
   },
   {
    "duration": 7208,
    "start_time": "2021-07-30T18:54:20.487Z"
   },
   {
    "duration": 1041,
    "start_time": "2021-07-30T18:54:27.698Z"
   },
   {
    "duration": 36,
    "start_time": "2021-07-30T18:54:28.742Z"
   },
   {
    "duration": 5,
    "start_time": "2021-07-30T18:54:28.781Z"
   },
   {
    "duration": 9,
    "start_time": "2021-07-30T18:54:28.790Z"
   },
   {
    "duration": 2782,
    "start_time": "2021-07-30T18:54:28.801Z"
   },
   {
    "duration": 363,
    "start_time": "2021-07-30T18:54:31.585Z"
   },
   {
    "duration": 16,
    "start_time": "2021-07-30T18:54:31.952Z"
   },
   {
    "duration": 142,
    "start_time": "2021-07-30T18:54:31.971Z"
   },
   {
    "duration": 119,
    "start_time": "2021-07-30T18:54:32.115Z"
   },
   {
    "duration": 4880,
    "start_time": "2021-07-30T18:54:32.236Z"
   },
   {
    "duration": 83,
    "start_time": "2021-07-30T18:54:37.119Z"
   },
   {
    "duration": 4545,
    "start_time": "2021-07-30T18:54:37.205Z"
   },
   {
    "duration": 103,
    "start_time": "2021-07-30T18:54:41.755Z"
   },
   {
    "duration": 222,
    "start_time": "2021-07-30T18:54:41.860Z"
   },
   {
    "duration": 5,
    "start_time": "2021-07-30T18:54:42.084Z"
   },
   {
    "duration": 23,
    "start_time": "2021-07-30T18:54:42.092Z"
   },
   {
    "duration": 164,
    "start_time": "2021-07-30T18:54:42.117Z"
   },
   {
    "duration": 36,
    "start_time": "2021-07-30T18:54:42.283Z"
   },
   {
    "duration": 120,
    "start_time": "2021-07-30T18:54:42.322Z"
   },
   {
    "duration": 48,
    "start_time": "2021-07-30T18:54:42.445Z"
   },
   {
    "duration": 436,
    "start_time": "2021-07-30T18:54:42.495Z"
   },
   {
    "duration": 20,
    "start_time": "2021-07-30T18:54:42.936Z"
   },
   {
    "duration": 584,
    "start_time": "2021-07-30T18:54:42.958Z"
   },
   {
    "duration": 204,
    "start_time": "2021-07-30T18:54:43.544Z"
   },
   {
    "duration": 6484,
    "start_time": "2021-07-30T18:54:43.751Z"
   },
   {
    "duration": 49,
    "start_time": "2021-07-30T18:54:50.238Z"
   },
   {
    "duration": 42,
    "start_time": "2021-07-30T18:54:50.289Z"
   },
   {
    "duration": 65,
    "start_time": "2021-07-30T18:54:50.333Z"
   },
   {
    "duration": 64,
    "start_time": "2021-07-30T18:54:50.401Z"
   },
   {
    "duration": 54,
    "start_time": "2021-07-30T18:54:50.468Z"
   },
   {
    "duration": 59,
    "start_time": "2021-07-30T18:54:50.525Z"
   },
   {
    "duration": 80,
    "start_time": "2021-07-30T18:55:57.092Z"
   },
   {
    "duration": 9446,
    "start_time": "2021-07-30T19:18:48.320Z"
   },
   {
    "duration": 1113,
    "start_time": "2021-07-30T19:18:57.769Z"
   },
   {
    "duration": 42,
    "start_time": "2021-07-30T19:18:58.885Z"
   },
   {
    "duration": 4,
    "start_time": "2021-07-30T19:18:58.930Z"
   },
   {
    "duration": 25,
    "start_time": "2021-07-30T19:18:58.936Z"
   },
   {
    "duration": 2529,
    "start_time": "2021-07-30T19:18:58.964Z"
   },
   {
    "duration": 421,
    "start_time": "2021-07-30T19:19:01.495Z"
   },
   {
    "duration": 16,
    "start_time": "2021-07-30T19:19:01.920Z"
   },
   {
    "duration": 152,
    "start_time": "2021-07-30T19:19:01.939Z"
   },
   {
    "duration": 121,
    "start_time": "2021-07-30T19:19:02.094Z"
   },
   {
    "duration": 4944,
    "start_time": "2021-07-30T19:19:02.217Z"
   },
   {
    "duration": 118,
    "start_time": "2021-07-30T19:19:07.163Z"
   },
   {
    "duration": 4065,
    "start_time": "2021-07-30T19:19:07.283Z"
   },
   {
    "duration": 107,
    "start_time": "2021-07-30T19:19:11.351Z"
   },
   {
    "duration": 216,
    "start_time": "2021-07-30T19:19:11.460Z"
   },
   {
    "duration": 5,
    "start_time": "2021-07-30T19:19:11.679Z"
   },
   {
    "duration": 8,
    "start_time": "2021-07-30T19:19:11.687Z"
   },
   {
    "duration": 171,
    "start_time": "2021-07-30T19:19:11.698Z"
   },
   {
    "duration": 36,
    "start_time": "2021-07-30T19:19:11.871Z"
   },
   {
    "duration": 124,
    "start_time": "2021-07-30T19:19:11.910Z"
   },
   {
    "duration": 42,
    "start_time": "2021-07-30T19:19:12.036Z"
   },
   {
    "duration": 512,
    "start_time": "2021-07-30T19:19:12.081Z"
   },
   {
    "duration": 16,
    "start_time": "2021-07-30T19:19:12.598Z"
   },
   {
    "duration": 467,
    "start_time": "2021-07-30T19:19:12.617Z"
   },
   {
    "duration": 198,
    "start_time": "2021-07-30T19:19:13.086Z"
   },
   {
    "duration": 6697,
    "start_time": "2021-07-30T19:19:13.286Z"
   },
   {
    "duration": 43,
    "start_time": "2021-07-30T19:19:19.985Z"
   },
   {
    "duration": 57,
    "start_time": "2021-07-30T19:19:20.031Z"
   },
   {
    "duration": 64,
    "start_time": "2021-07-30T19:19:20.090Z"
   },
   {
    "duration": 43,
    "start_time": "2021-07-30T19:19:20.156Z"
   },
   {
    "duration": 76,
    "start_time": "2021-07-30T19:19:20.201Z"
   },
   {
    "duration": 42,
    "start_time": "2021-07-30T19:19:20.280Z"
   },
   {
    "duration": 61,
    "start_time": "2021-07-30T19:19:20.324Z"
   },
   {
    "duration": 89,
    "start_time": "2021-07-30T19:19:20.387Z"
   },
   {
    "duration": 112826,
    "start_time": "2021-07-30T19:19:20.479Z"
   },
   {
    "duration": 25,
    "start_time": "2021-07-30T19:21:13.308Z"
   },
   {
    "duration": 119,
    "start_time": "2021-07-30T19:21:13.336Z"
   },
   {
    "duration": 257,
    "start_time": "2021-07-30T19:21:13.458Z"
   },
   {
    "duration": 378,
    "start_time": "2021-07-30T19:21:13.718Z"
   },
   {
    "duration": 824,
    "start_time": "2021-07-30T19:21:14.098Z"
   },
   {
    "duration": 17433,
    "start_time": "2021-08-05T13:20:19.450Z"
   },
   {
    "duration": 1101,
    "start_time": "2021-08-05T13:20:36.886Z"
   },
   {
    "duration": 43,
    "start_time": "2021-08-05T13:20:37.991Z"
   },
   {
    "duration": 4,
    "start_time": "2021-08-05T13:20:38.054Z"
   },
   {
    "duration": 17,
    "start_time": "2021-08-05T13:20:38.061Z"
   },
   {
    "duration": 2511,
    "start_time": "2021-08-05T13:20:38.081Z"
   },
   {
    "duration": 412,
    "start_time": "2021-08-05T13:20:40.595Z"
   },
   {
    "duration": 15,
    "start_time": "2021-08-05T13:20:41.011Z"
   },
   {
    "duration": 145,
    "start_time": "2021-08-05T13:20:41.029Z"
   },
   {
    "duration": 121,
    "start_time": "2021-08-05T13:20:41.177Z"
   },
   {
    "duration": 5067,
    "start_time": "2021-08-05T13:20:41.300Z"
   },
   {
    "duration": 112,
    "start_time": "2021-08-05T13:20:46.370Z"
   },
   {
    "duration": 3931,
    "start_time": "2021-08-05T13:20:46.484Z"
   },
   {
    "duration": 99,
    "start_time": "2021-08-05T13:20:50.418Z"
   },
   {
    "duration": 222,
    "start_time": "2021-08-05T13:20:50.519Z"
   },
   {
    "duration": 11,
    "start_time": "2021-08-05T13:20:50.743Z"
   },
   {
    "duration": 23,
    "start_time": "2021-08-05T13:20:50.757Z"
   },
   {
    "duration": 160,
    "start_time": "2021-08-05T13:20:50.782Z"
   },
   {
    "duration": 38,
    "start_time": "2021-08-05T13:20:50.944Z"
   },
   {
    "duration": 126,
    "start_time": "2021-08-05T13:20:50.984Z"
   },
   {
    "duration": 48,
    "start_time": "2021-08-05T13:20:51.112Z"
   },
   {
    "duration": 501,
    "start_time": "2021-08-05T13:20:51.163Z"
   },
   {
    "duration": 16,
    "start_time": "2021-08-05T13:20:51.669Z"
   },
   {
    "duration": 449,
    "start_time": "2021-08-05T13:20:51.688Z"
   },
   {
    "duration": 199,
    "start_time": "2021-08-05T13:20:52.140Z"
   },
   {
    "duration": 6843,
    "start_time": "2021-08-05T13:20:52.342Z"
   },
   {
    "duration": 46,
    "start_time": "2021-08-05T13:20:59.188Z"
   },
   {
    "duration": 45,
    "start_time": "2021-08-05T13:20:59.254Z"
   },
   {
    "duration": 76,
    "start_time": "2021-08-05T13:20:59.302Z"
   },
   {
    "duration": 46,
    "start_time": "2021-08-05T13:20:59.381Z"
   },
   {
    "duration": 82,
    "start_time": "2021-08-05T13:20:59.430Z"
   },
   {
    "duration": 62,
    "start_time": "2021-08-05T13:20:59.515Z"
   },
   {
    "duration": 48,
    "start_time": "2021-08-05T13:20:59.579Z"
   },
   {
    "duration": 101,
    "start_time": "2021-08-05T13:20:59.629Z"
   },
   {
    "duration": 153177,
    "start_time": "2021-08-05T13:20:59.733Z"
   },
   {
    "duration": 50,
    "start_time": "2021-08-05T13:23:32.913Z"
   },
   {
    "duration": 178,
    "start_time": "2021-08-05T13:23:32.965Z"
   },
   {
    "duration": 399,
    "start_time": "2021-08-05T13:23:33.145Z"
   },
   {
    "duration": 432,
    "start_time": "2021-08-05T13:23:33.547Z"
   },
   {
    "duration": 1140,
    "start_time": "2021-08-05T13:23:33.981Z"
   },
   {
    "duration": 43,
    "start_time": "2021-08-05T13:24:02.416Z"
   },
   {
    "duration": 518,
    "start_time": "2021-08-05T13:31:54.459Z"
   },
   {
    "duration": 273,
    "start_time": "2021-08-05T13:32:15.234Z"
   },
   {
    "duration": 400,
    "start_time": "2021-08-05T13:32:21.505Z"
   },
   {
    "duration": 274,
    "start_time": "2021-08-05T13:32:39.217Z"
   },
   {
    "duration": 117,
    "start_time": "2021-08-05T13:33:04.963Z"
   },
   {
    "duration": 281,
    "start_time": "2021-08-05T13:33:56.824Z"
   },
   {
    "duration": 280,
    "start_time": "2021-08-05T13:35:06.456Z"
   },
   {
    "duration": 274,
    "start_time": "2021-08-05T13:35:19.015Z"
   },
   {
    "duration": 259,
    "start_time": "2021-08-05T13:35:26.583Z"
   },
   {
    "duration": 264,
    "start_time": "2021-08-05T13:35:38.590Z"
   },
   {
    "duration": 43,
    "start_time": "2021-08-05T13:36:17.462Z"
   },
   {
    "duration": 59,
    "start_time": "2021-08-05T13:36:35.086Z"
   },
   {
    "duration": 59,
    "start_time": "2021-08-05T13:37:10.149Z"
   },
   {
    "duration": 48,
    "start_time": "2021-08-05T13:38:44.500Z"
   },
   {
    "duration": 48,
    "start_time": "2021-08-05T13:39:20.356Z"
   },
   {
    "duration": 102,
    "start_time": "2021-08-05T13:41:51.499Z"
   },
   {
    "duration": 92,
    "start_time": "2021-08-05T13:41:57.721Z"
   },
   {
    "duration": 88,
    "start_time": "2021-08-05T13:44:01.592Z"
   },
   {
    "duration": 91,
    "start_time": "2021-08-05T13:45:27.535Z"
   },
   {
    "duration": 375,
    "start_time": "2021-08-05T13:45:33.302Z"
   },
   {
    "duration": 112,
    "start_time": "2021-08-05T13:45:44.735Z"
   },
   {
    "duration": 98,
    "start_time": "2021-08-05T13:48:01.541Z"
   },
   {
    "duration": 58,
    "start_time": "2021-08-05T13:48:08.877Z"
   },
   {
    "duration": 47,
    "start_time": "2021-08-05T13:48:32.868Z"
   },
   {
    "duration": 50,
    "start_time": "2021-08-05T13:48:57.140Z"
   },
   {
    "duration": 51,
    "start_time": "2021-08-05T13:49:42.075Z"
   },
   {
    "duration": 93,
    "start_time": "2021-08-05T13:50:45.203Z"
   },
   {
    "duration": 108,
    "start_time": "2021-08-05T13:58:16.589Z"
   },
   {
    "duration": 90,
    "start_time": "2021-08-05T13:58:22.188Z"
   },
   {
    "duration": 36,
    "start_time": "2021-08-05T13:58:31.445Z"
   },
   {
    "duration": 93,
    "start_time": "2021-08-05T13:59:26.739Z"
   },
   {
    "duration": 25,
    "start_time": "2021-08-05T13:59:30.971Z"
   },
   {
    "duration": 7,
    "start_time": "2021-08-05T13:59:54.756Z"
   },
   {
    "duration": 9,
    "start_time": "2021-08-05T14:07:13.936Z"
   },
   {
    "duration": 1833,
    "start_time": "2021-08-05T14:08:25.037Z"
   },
   {
    "duration": 283,
    "start_time": "2021-08-05T14:10:14.668Z"
   },
   {
    "duration": 58,
    "start_time": "2021-08-05T14:10:20.820Z"
   },
   {
    "duration": 53,
    "start_time": "2021-08-05T14:11:14.323Z"
   },
   {
    "duration": 265,
    "start_time": "2021-08-05T15:58:38.398Z"
   },
   {
    "duration": 14,
    "start_time": "2021-08-05T15:58:51.989Z"
   },
   {
    "duration": 16,
    "start_time": "2021-08-05T16:00:25.180Z"
   },
   {
    "duration": 46,
    "start_time": "2021-08-05T16:00:31.740Z"
   },
   {
    "duration": 278,
    "start_time": "2021-08-05T16:00:40.091Z"
   },
   {
    "duration": 97,
    "start_time": "2021-08-05T16:01:52.563Z"
   },
   {
    "duration": 497,
    "start_time": "2021-08-05T16:01:59.810Z"
   },
   {
    "duration": 579,
    "start_time": "2021-08-05T16:02:57.139Z"
   },
   {
    "duration": 318,
    "start_time": "2021-08-05T16:03:34.545Z"
   },
   {
    "duration": 454,
    "start_time": "2021-08-05T16:03:57.794Z"
   },
   {
    "duration": 19,
    "start_time": "2021-08-05T16:04:47.896Z"
   },
   {
    "duration": 391,
    "start_time": "2021-08-05T16:04:52.105Z"
   },
   {
    "duration": 306,
    "start_time": "2021-08-05T16:08:40.982Z"
   },
   {
    "duration": 1490,
    "start_time": "2021-08-05T16:09:52.382Z"
   },
   {
    "duration": 8298,
    "start_time": "2021-08-05T16:21:53.827Z"
   },
   {
    "duration": 8271,
    "start_time": "2021-08-05T16:26:22.424Z"
   },
   {
    "duration": 110,
    "start_time": "2021-08-05T16:44:09.066Z"
   },
   {
    "duration": 31,
    "start_time": "2021-08-05T16:47:40.824Z"
   },
   {
    "duration": 8155,
    "start_time": "2021-08-05T16:56:20.642Z"
   },
   {
    "duration": 288,
    "start_time": "2021-08-05T16:58:52.278Z"
   },
   {
    "duration": 7,
    "start_time": "2021-08-05T17:00:16.190Z"
   },
   {
    "duration": 6,
    "start_time": "2021-08-05T17:00:24.229Z"
   },
   {
    "duration": 8577,
    "start_time": "2021-08-05T17:01:24.045Z"
   },
   {
    "duration": 9791,
    "start_time": "2021-08-05T17:01:51.911Z"
   },
   {
    "duration": 1590,
    "start_time": "2021-08-05T17:02:01.706Z"
   },
   {
    "duration": 63,
    "start_time": "2021-08-05T17:02:03.300Z"
   },
   {
    "duration": 4,
    "start_time": "2021-08-05T17:02:03.366Z"
   },
   {
    "duration": 22,
    "start_time": "2021-08-05T17:02:03.372Z"
   },
   {
    "duration": 3245,
    "start_time": "2021-08-05T17:02:03.397Z"
   },
   {
    "duration": 352,
    "start_time": "2021-08-05T17:02:06.646Z"
   },
   {
    "duration": 14,
    "start_time": "2021-08-05T17:02:07.002Z"
   },
   {
    "duration": 138,
    "start_time": "2021-08-05T17:02:07.019Z"
   },
   {
    "duration": 117,
    "start_time": "2021-08-05T17:02:07.159Z"
   },
   {
    "duration": 5292,
    "start_time": "2021-08-05T17:02:07.278Z"
   },
   {
    "duration": 122,
    "start_time": "2021-08-05T17:02:12.573Z"
   },
   {
    "duration": 4437,
    "start_time": "2021-08-05T17:02:12.697Z"
   },
   {
    "duration": 93,
    "start_time": "2021-08-05T17:02:17.136Z"
   },
   {
    "duration": 357,
    "start_time": "2021-08-05T17:02:17.231Z"
   },
   {
    "duration": 6,
    "start_time": "2021-08-05T17:02:17.591Z"
   },
   {
    "duration": 13,
    "start_time": "2021-08-05T17:02:17.600Z"
   },
   {
    "duration": 278,
    "start_time": "2021-08-05T17:02:17.616Z"
   },
   {
    "duration": 39,
    "start_time": "2021-08-05T17:02:17.896Z"
   },
   {
    "duration": 120,
    "start_time": "2021-08-05T17:02:17.953Z"
   },
   {
    "duration": 45,
    "start_time": "2021-08-05T17:02:18.075Z"
   },
   {
    "duration": 421,
    "start_time": "2021-08-05T17:02:18.122Z"
   },
   {
    "duration": 16,
    "start_time": "2021-08-05T17:02:18.548Z"
   },
   {
    "duration": 661,
    "start_time": "2021-08-05T17:02:18.567Z"
   },
   {
    "duration": 289,
    "start_time": "2021-08-05T17:02:19.231Z"
   },
   {
    "duration": 8577,
    "start_time": "2021-08-05T17:02:19.523Z"
   },
   {
    "duration": 74,
    "start_time": "2021-08-05T17:02:28.103Z"
   },
   {
    "duration": 45,
    "start_time": "2021-08-05T17:02:28.180Z"
   },
   {
    "duration": 73,
    "start_time": "2021-08-05T17:02:28.228Z"
   },
   {
    "duration": 66,
    "start_time": "2021-08-05T17:02:28.303Z"
   },
   {
    "duration": 59,
    "start_time": "2021-08-05T17:02:28.372Z"
   },
   {
    "duration": 59,
    "start_time": "2021-08-05T17:02:28.433Z"
   },
   {
    "duration": 66,
    "start_time": "2021-08-05T17:02:28.495Z"
   },
   {
    "duration": 108,
    "start_time": "2021-08-05T17:02:28.564Z"
   },
   {
    "duration": 112543,
    "start_time": "2021-08-05T17:02:28.675Z"
   },
   {
    "duration": 42,
    "start_time": "2021-08-05T17:04:21.220Z"
   },
   {
    "duration": 119,
    "start_time": "2021-08-05T17:04:21.264Z"
   },
   {
    "duration": 280,
    "start_time": "2021-08-05T17:04:21.386Z"
   },
   {
    "duration": 385,
    "start_time": "2021-08-05T17:04:21.669Z"
   },
   {
    "duration": 851,
    "start_time": "2021-08-05T17:04:22.056Z"
   },
   {
    "duration": 23,
    "start_time": "2021-08-05T17:04:22.909Z"
   },
   {
    "duration": 123,
    "start_time": "2021-08-05T17:04:22.934Z"
   },
   {
    "duration": 10,
    "start_time": "2021-08-05T17:04:23.066Z"
   },
   {
    "duration": 34,
    "start_time": "2021-08-05T17:04:23.078Z"
   },
   {
    "duration": 17,
    "start_time": "2021-08-05T17:04:23.115Z"
   },
   {
    "duration": 1676,
    "start_time": "2021-08-05T17:04:23.154Z"
   },
   {
    "duration": 546,
    "start_time": "2021-08-05T17:04:24.832Z"
   },
   {
    "duration": -263,
    "start_time": "2021-08-05T17:04:25.644Z"
   },
   {
    "duration": 28,
    "start_time": "2021-08-05T17:04:49.874Z"
   },
   {
    "duration": 6,
    "start_time": "2021-08-05T17:04:52.768Z"
   },
   {
    "duration": 5,
    "start_time": "2021-08-05T17:04:58.537Z"
   },
   {
    "duration": 467,
    "start_time": "2021-08-05T17:05:04.916Z"
   },
   {
    "duration": 8947,
    "start_time": "2021-08-05T17:06:48.422Z"
   },
   {
    "duration": 8310,
    "start_time": "2021-08-05T17:07:21.954Z"
   },
   {
    "duration": 1170,
    "start_time": "2021-08-05T17:07:30.268Z"
   },
   {
    "duration": 46,
    "start_time": "2021-08-05T17:07:31.441Z"
   },
   {
    "duration": 4,
    "start_time": "2021-08-05T17:07:31.490Z"
   },
   {
    "duration": 30,
    "start_time": "2021-08-05T17:07:31.497Z"
   },
   {
    "duration": 2570,
    "start_time": "2021-08-05T17:07:31.529Z"
   },
   {
    "duration": 377,
    "start_time": "2021-08-05T17:07:34.102Z"
   },
   {
    "duration": 15,
    "start_time": "2021-08-05T17:07:34.483Z"
   },
   {
    "duration": 148,
    "start_time": "2021-08-05T17:07:34.501Z"
   },
   {
    "duration": 112,
    "start_time": "2021-08-05T17:07:34.654Z"
   },
   {
    "duration": 5044,
    "start_time": "2021-08-05T17:07:34.769Z"
   },
   {
    "duration": 100,
    "start_time": "2021-08-05T17:07:39.815Z"
   },
   {
    "duration": 4393,
    "start_time": "2021-08-05T17:07:39.917Z"
   },
   {
    "duration": 104,
    "start_time": "2021-08-05T17:07:44.312Z"
   },
   {
    "duration": 343,
    "start_time": "2021-08-05T17:07:44.419Z"
   },
   {
    "duration": 6,
    "start_time": "2021-08-05T17:07:44.765Z"
   },
   {
    "duration": 8,
    "start_time": "2021-08-05T17:07:44.774Z"
   },
   {
    "duration": 189,
    "start_time": "2021-08-05T17:07:44.785Z"
   },
   {
    "duration": 37,
    "start_time": "2021-08-05T17:07:44.977Z"
   },
   {
    "duration": 154,
    "start_time": "2021-08-05T17:07:45.016Z"
   },
   {
    "duration": 45,
    "start_time": "2021-08-05T17:07:45.173Z"
   },
   {
    "duration": 472,
    "start_time": "2021-08-05T17:07:45.221Z"
   },
   {
    "duration": 16,
    "start_time": "2021-08-05T17:07:45.700Z"
   },
   {
    "duration": 524,
    "start_time": "2021-08-05T17:07:45.720Z"
   },
   {
    "duration": 217,
    "start_time": "2021-08-05T17:07:46.247Z"
   },
   {
    "duration": 8716,
    "start_time": "2021-08-05T17:07:46.468Z"
   },
   {
    "duration": 46,
    "start_time": "2021-08-05T17:07:55.187Z"
   },
   {
    "duration": 69,
    "start_time": "2021-08-05T17:07:55.236Z"
   },
   {
    "duration": 85,
    "start_time": "2021-08-05T17:07:55.308Z"
   },
   {
    "duration": 85,
    "start_time": "2021-08-05T17:07:55.396Z"
   },
   {
    "duration": 58,
    "start_time": "2021-08-05T17:07:55.484Z"
   },
   {
    "duration": 55,
    "start_time": "2021-08-05T17:07:55.557Z"
   },
   {
    "duration": 73,
    "start_time": "2021-08-05T17:07:55.614Z"
   },
   {
    "duration": 100,
    "start_time": "2021-08-05T17:07:55.689Z"
   },
   {
    "duration": 112917,
    "start_time": "2021-08-05T17:07:55.792Z"
   },
   {
    "duration": 25,
    "start_time": "2021-08-05T17:09:48.712Z"
   },
   {
    "duration": 121,
    "start_time": "2021-08-05T17:09:48.755Z"
   },
   {
    "duration": 296,
    "start_time": "2021-08-05T17:09:48.878Z"
   },
   {
    "duration": 372,
    "start_time": "2021-08-05T17:09:49.176Z"
   },
   {
    "duration": 1061,
    "start_time": "2021-08-05T17:09:49.555Z"
   },
   {
    "duration": 23,
    "start_time": "2021-08-05T17:09:50.618Z"
   },
   {
    "duration": 111,
    "start_time": "2021-08-05T17:09:50.658Z"
   },
   {
    "duration": 7,
    "start_time": "2021-08-05T17:09:50.771Z"
   },
   {
    "duration": 40,
    "start_time": "2021-08-05T17:09:50.780Z"
   },
   {
    "duration": 36,
    "start_time": "2021-08-05T17:09:50.822Z"
   },
   {
    "duration": 1501,
    "start_time": "2021-08-05T17:09:50.862Z"
   },
   {
    "duration": 28,
    "start_time": "2021-08-05T17:11:43.764Z"
   },
   {
    "duration": 163,
    "start_time": "2021-08-05T17:11:49.771Z"
   },
   {
    "duration": 451,
    "start_time": "2021-08-05T17:15:11.338Z"
   },
   {
    "duration": 37,
    "start_time": "2021-08-05T17:16:24.343Z"
   },
   {
    "duration": 8486,
    "start_time": "2021-08-05T17:17:31.075Z"
   },
   {
    "duration": 1139,
    "start_time": "2021-08-05T17:17:39.565Z"
   },
   {
    "duration": 48,
    "start_time": "2021-08-05T17:17:40.708Z"
   },
   {
    "duration": 4,
    "start_time": "2021-08-05T17:17:40.759Z"
   },
   {
    "duration": 15,
    "start_time": "2021-08-05T17:17:40.767Z"
   },
   {
    "duration": 4207,
    "start_time": "2021-08-05T17:17:40.786Z"
   },
   {
    "duration": 584,
    "start_time": "2021-08-05T17:17:44.995Z"
   },
   {
    "duration": 18,
    "start_time": "2021-08-05T17:17:45.584Z"
   },
   {
    "duration": 185,
    "start_time": "2021-08-05T17:17:45.606Z"
   },
   {
    "duration": 113,
    "start_time": "2021-08-05T17:17:45.793Z"
   },
   {
    "duration": 4994,
    "start_time": "2021-08-05T17:17:45.908Z"
   },
   {
    "duration": 107,
    "start_time": "2021-08-05T17:17:50.904Z"
   },
   {
    "duration": 4241,
    "start_time": "2021-08-05T17:17:51.013Z"
   },
   {
    "duration": 113,
    "start_time": "2021-08-05T17:17:55.257Z"
   },
   {
    "duration": 222,
    "start_time": "2021-08-05T17:17:55.374Z"
   },
   {
    "duration": 6,
    "start_time": "2021-08-05T17:17:55.599Z"
   },
   {
    "duration": 16,
    "start_time": "2021-08-05T17:17:55.608Z"
   },
   {
    "duration": 191,
    "start_time": "2021-08-05T17:17:55.627Z"
   },
   {
    "duration": 47,
    "start_time": "2021-08-05T17:17:55.821Z"
   },
   {
    "duration": 120,
    "start_time": "2021-08-05T17:17:55.874Z"
   },
   {
    "duration": 59,
    "start_time": "2021-08-05T17:17:55.997Z"
   },
   {
    "duration": 728,
    "start_time": "2021-08-05T17:17:56.059Z"
   },
   {
    "duration": 16,
    "start_time": "2021-08-05T17:17:56.792Z"
   },
   {
    "duration": 501,
    "start_time": "2021-08-05T17:17:56.812Z"
   },
   {
    "duration": 211,
    "start_time": "2021-08-05T17:17:57.315Z"
   },
   {
    "duration": 7406,
    "start_time": "2021-08-05T17:17:57.528Z"
   },
   {
    "duration": 60,
    "start_time": "2021-08-05T17:18:04.937Z"
   },
   {
    "duration": 64,
    "start_time": "2021-08-05T17:18:04.999Z"
   },
   {
    "duration": 53,
    "start_time": "2021-08-05T17:18:05.066Z"
   },
   {
    "duration": 66,
    "start_time": "2021-08-05T17:18:05.122Z"
   },
   {
    "duration": 73,
    "start_time": "2021-08-05T17:18:05.190Z"
   },
   {
    "duration": 46,
    "start_time": "2021-08-05T17:18:05.266Z"
   },
   {
    "duration": 72,
    "start_time": "2021-08-05T17:18:05.315Z"
   },
   {
    "duration": 88,
    "start_time": "2021-08-05T17:18:05.389Z"
   },
   {
    "duration": 114717,
    "start_time": "2021-08-05T17:18:05.479Z"
   },
   {
    "duration": 27,
    "start_time": "2021-08-05T17:20:00.199Z"
   },
   {
    "duration": 135,
    "start_time": "2021-08-05T17:20:00.229Z"
   },
   {
    "duration": 291,
    "start_time": "2021-08-05T17:20:00.367Z"
   },
   {
    "duration": 508,
    "start_time": "2021-08-05T17:20:00.660Z"
   },
   {
    "duration": 846,
    "start_time": "2021-08-05T17:20:01.173Z"
   },
   {
    "duration": 35,
    "start_time": "2021-08-05T17:20:02.021Z"
   },
   {
    "duration": 114,
    "start_time": "2021-08-05T17:20:02.060Z"
   },
   {
    "duration": 7,
    "start_time": "2021-08-05T17:20:02.177Z"
   },
   {
    "duration": 52,
    "start_time": "2021-08-05T17:20:02.186Z"
   },
   {
    "duration": 35,
    "start_time": "2021-08-05T17:20:02.240Z"
   },
   {
    "duration": 1409,
    "start_time": "2021-08-05T17:20:02.278Z"
   },
   {
    "duration": 244,
    "start_time": "2021-08-05T17:20:03.689Z"
   },
   {
    "duration": 1229,
    "start_time": "2021-08-05T17:20:03.935Z"
   },
   {
    "duration": 2343,
    "start_time": "2021-08-05T17:20:05.166Z"
   },
   {
    "duration": 5,
    "start_time": "2021-08-05T17:54:15.987Z"
   },
   {
    "duration": 326,
    "start_time": "2021-08-05T17:54:22.338Z"
   },
   {
    "duration": 8458,
    "start_time": "2021-08-05T17:55:04.672Z"
   },
   {
    "duration": 477,
    "start_time": "2021-08-05T17:55:13.134Z"
   },
   {
    "duration": 416,
    "start_time": "2021-08-05T17:57:55.687Z"
   },
   {
    "duration": 303,
    "start_time": "2021-08-05T18:02:48.221Z"
   },
   {
    "duration": 6,
    "start_time": "2021-08-05T18:04:49.042Z"
   },
   {
    "duration": 71,
    "start_time": "2021-08-05T18:05:26.594Z"
   },
   {
    "duration": 43,
    "start_time": "2021-08-05T18:05:32.468Z"
   },
   {
    "duration": 6,
    "start_time": "2021-08-05T18:06:15.051Z"
   },
   {
    "duration": 15,
    "start_time": "2021-08-05T18:06:19.657Z"
   },
   {
    "duration": 8953,
    "start_time": "2021-08-05T18:09:14.275Z"
   },
   {
    "duration": 1137,
    "start_time": "2021-08-05T18:09:23.231Z"
   },
   {
    "duration": 52,
    "start_time": "2021-08-05T18:09:24.372Z"
   },
   {
    "duration": 5,
    "start_time": "2021-08-05T18:09:24.428Z"
   },
   {
    "duration": 11,
    "start_time": "2021-08-05T18:09:24.462Z"
   },
   {
    "duration": 2581,
    "start_time": "2021-08-05T18:09:24.476Z"
   },
   {
    "duration": 378,
    "start_time": "2021-08-05T18:09:27.059Z"
   },
   {
    "duration": 26,
    "start_time": "2021-08-05T18:09:27.441Z"
   },
   {
    "duration": 143,
    "start_time": "2021-08-05T18:09:27.471Z"
   },
   {
    "duration": 112,
    "start_time": "2021-08-05T18:09:27.616Z"
   },
   {
    "duration": 5237,
    "start_time": "2021-08-05T18:09:27.731Z"
   },
   {
    "duration": 91,
    "start_time": "2021-08-05T18:09:32.971Z"
   },
   {
    "duration": 4249,
    "start_time": "2021-08-05T18:09:33.065Z"
   },
   {
    "duration": 83,
    "start_time": "2021-08-05T18:09:37.317Z"
   },
   {
    "duration": 236,
    "start_time": "2021-08-05T18:09:37.403Z"
   },
   {
    "duration": 15,
    "start_time": "2021-08-05T18:09:37.641Z"
   },
   {
    "duration": 5,
    "start_time": "2021-08-05T18:09:37.659Z"
   },
   {
    "duration": 211,
    "start_time": "2021-08-05T18:09:37.673Z"
   },
   {
    "duration": 39,
    "start_time": "2021-08-05T18:09:37.886Z"
   },
   {
    "duration": 145,
    "start_time": "2021-08-05T18:09:37.927Z"
   },
   {
    "duration": 44,
    "start_time": "2021-08-05T18:09:38.074Z"
   },
   {
    "duration": 471,
    "start_time": "2021-08-05T18:09:38.121Z"
   },
   {
    "duration": 16,
    "start_time": "2021-08-05T18:09:38.597Z"
   },
   {
    "duration": 682,
    "start_time": "2021-08-05T18:09:38.615Z"
   },
   {
    "duration": 222,
    "start_time": "2021-08-05T18:09:39.300Z"
   },
   {
    "duration": 7671,
    "start_time": "2021-08-05T18:09:39.524Z"
   },
   {
    "duration": 62,
    "start_time": "2021-08-05T18:09:47.197Z"
   },
   {
    "duration": 48,
    "start_time": "2021-08-05T18:09:47.262Z"
   },
   {
    "duration": 80,
    "start_time": "2021-08-05T18:09:47.313Z"
   },
   {
    "duration": 64,
    "start_time": "2021-08-05T18:09:47.396Z"
   },
   {
    "duration": 59,
    "start_time": "2021-08-05T18:09:47.464Z"
   },
   {
    "duration": 68,
    "start_time": "2021-08-05T18:09:47.526Z"
   },
   {
    "duration": 67,
    "start_time": "2021-08-05T18:09:47.597Z"
   },
   {
    "duration": 96,
    "start_time": "2021-08-05T18:09:47.667Z"
   },
   {
    "duration": 121654,
    "start_time": "2021-08-05T18:09:47.766Z"
   },
   {
    "duration": 34,
    "start_time": "2021-08-05T18:11:49.422Z"
   },
   {
    "duration": 121,
    "start_time": "2021-08-05T18:11:49.459Z"
   },
   {
    "duration": 290,
    "start_time": "2021-08-05T18:11:49.583Z"
   },
   {
    "duration": 459,
    "start_time": "2021-08-05T18:11:49.876Z"
   },
   {
    "duration": 870,
    "start_time": "2021-08-05T18:11:50.338Z"
   },
   {
    "duration": 30,
    "start_time": "2021-08-05T18:11:51.210Z"
   },
   {
    "duration": 129,
    "start_time": "2021-08-05T18:11:51.255Z"
   },
   {
    "duration": 8,
    "start_time": "2021-08-05T18:11:51.387Z"
   },
   {
    "duration": 59,
    "start_time": "2021-08-05T18:11:51.399Z"
   },
   {
    "duration": 19,
    "start_time": "2021-08-05T18:11:51.466Z"
   },
   {
    "duration": 1615,
    "start_time": "2021-08-05T18:11:51.488Z"
   },
   {
    "duration": 468,
    "start_time": "2021-08-05T18:21:55.804Z"
   },
   {
    "duration": 9,
    "start_time": "2021-08-05T18:21:59.204Z"
   },
   {
    "duration": 230,
    "start_time": "2021-08-05T18:22:15.780Z"
   },
   {
    "duration": 8,
    "start_time": "2021-08-05T18:22:21.244Z"
   },
   {
    "duration": 1329,
    "start_time": "2021-08-05T18:22:27.547Z"
   },
   {
    "duration": 10,
    "start_time": "2021-08-05T18:22:33.555Z"
   },
   {
    "duration": 9,
    "start_time": "2021-08-05T18:22:40.638Z"
   },
   {
    "duration": 2507,
    "start_time": "2021-08-05T18:22:45.284Z"
   },
   {
    "duration": 4,
    "start_time": "2021-08-05T18:23:04.603Z"
   },
   {
    "duration": 233236,
    "start_time": "2021-08-05T18:23:06.947Z"
   },
   {
    "duration": 18,
    "start_time": "2021-08-05T18:30:39.956Z"
   },
   {
    "duration": 225277,
    "start_time": "2021-08-05T18:31:26.203Z"
   },
   {
    "duration": 14,
    "start_time": "2021-08-05T18:37:34.335Z"
   },
   {
    "duration": 6,
    "start_time": "2021-08-05T18:38:38.790Z"
   },
   {
    "duration": 133538,
    "start_time": "2021-08-05T18:38:41.199Z"
   },
   {
    "duration": 24,
    "start_time": "2021-08-05T18:41:02.742Z"
   },
   {
    "duration": 8,
    "start_time": "2021-08-05T18:41:38.750Z"
   },
   {
    "duration": 259099,
    "start_time": "2021-08-05T18:41:39.588Z"
   },
   {
    "duration": 14,
    "start_time": "2021-08-05T18:45:58.690Z"
   },
   {
    "duration": 7,
    "start_time": "2021-08-05T18:46:19.161Z"
   },
   {
    "duration": 424702,
    "start_time": "2021-08-05T18:46:19.714Z"
   },
   {
    "duration": 16,
    "start_time": "2021-08-05T18:53:24.419Z"
   },
   {
    "duration": 5,
    "start_time": "2021-08-05T18:54:16.177Z"
   },
   {
    "duration": 244128,
    "start_time": "2021-08-05T18:54:18.530Z"
   },
   {
    "duration": 14,
    "start_time": "2021-08-05T18:58:22.665Z"
   },
   {
    "duration": 7,
    "start_time": "2021-08-05T19:04:10.474Z"
   },
   {
    "duration": 592702,
    "start_time": "2021-08-05T19:04:11.057Z"
   },
   {
    "duration": 20,
    "start_time": "2021-08-05T19:14:03.763Z"
   },
   {
    "duration": 5,
    "start_time": "2021-08-05T19:16:44.528Z"
   },
   {
    "duration": 727769,
    "start_time": "2021-08-05T19:16:48.895Z"
   },
   {
    "duration": 17,
    "start_time": "2021-08-05T19:28:56.667Z"
   },
   {
    "duration": 5,
    "start_time": "2021-08-05T19:42:52.876Z"
   },
   {
    "duration": 2820906,
    "start_time": "2021-08-05T19:42:54.115Z"
   },
   {
    "duration": 13,
    "start_time": "2021-08-05T20:29:55.024Z"
   },
   {
    "duration": 14906,
    "start_time": "2021-08-06T04:21:24.468Z"
   },
   {
    "duration": 1074,
    "start_time": "2021-08-06T04:21:39.377Z"
   },
   {
    "duration": 56,
    "start_time": "2021-08-06T04:21:40.456Z"
   },
   {
    "duration": 3,
    "start_time": "2021-08-06T04:21:40.515Z"
   },
   {
    "duration": 14,
    "start_time": "2021-08-06T04:21:40.520Z"
   },
   {
    "duration": 2390,
    "start_time": "2021-08-06T04:21:40.536Z"
   },
   {
    "duration": 390,
    "start_time": "2021-08-06T04:21:42.930Z"
   },
   {
    "duration": 14,
    "start_time": "2021-08-06T04:21:43.323Z"
   },
   {
    "duration": 133,
    "start_time": "2021-08-06T04:21:43.339Z"
   },
   {
    "duration": 107,
    "start_time": "2021-08-06T04:21:43.482Z"
   },
   {
    "duration": 4540,
    "start_time": "2021-08-06T04:21:43.594Z"
   },
   {
    "duration": 105,
    "start_time": "2021-08-06T04:21:48.136Z"
   },
   {
    "duration": 3793,
    "start_time": "2021-08-06T04:21:48.243Z"
   },
   {
    "duration": 99,
    "start_time": "2021-08-06T04:21:52.038Z"
   },
   {
    "duration": 210,
    "start_time": "2021-08-06T04:21:52.139Z"
   },
   {
    "duration": 5,
    "start_time": "2021-08-06T04:21:52.351Z"
   },
   {
    "duration": 7,
    "start_time": "2021-08-06T04:21:52.359Z"
   },
   {
    "duration": 162,
    "start_time": "2021-08-06T04:21:52.387Z"
   },
   {
    "duration": 39,
    "start_time": "2021-08-06T04:21:52.551Z"
   },
   {
    "duration": 121,
    "start_time": "2021-08-06T04:21:52.593Z"
   },
   {
    "duration": 42,
    "start_time": "2021-08-06T04:21:52.716Z"
   },
   {
    "duration": 495,
    "start_time": "2021-08-06T04:21:52.763Z"
   },
   {
    "duration": 29,
    "start_time": "2021-08-06T04:21:53.261Z"
   },
   {
    "duration": 456,
    "start_time": "2021-08-06T04:21:53.293Z"
   },
   {
    "duration": 195,
    "start_time": "2021-08-06T04:21:53.751Z"
   },
   {
    "duration": 6555,
    "start_time": "2021-08-06T04:21:53.948Z"
   },
   {
    "duration": 43,
    "start_time": "2021-08-06T04:22:00.505Z"
   },
   {
    "duration": 68,
    "start_time": "2021-08-06T04:22:00.550Z"
   },
   {
    "duration": 48,
    "start_time": "2021-08-06T04:22:00.620Z"
   },
   {
    "duration": 49,
    "start_time": "2021-08-06T04:22:00.683Z"
   },
   {
    "duration": 76,
    "start_time": "2021-08-06T04:22:00.735Z"
   },
   {
    "duration": 40,
    "start_time": "2021-08-06T04:22:00.813Z"
   },
   {
    "duration": 65,
    "start_time": "2021-08-06T04:22:00.855Z"
   },
   {
    "duration": 92,
    "start_time": "2021-08-06T04:22:00.923Z"
   },
   {
    "duration": 105080,
    "start_time": "2021-08-06T04:22:01.017Z"
   },
   {
    "duration": 23,
    "start_time": "2021-08-06T04:23:46.100Z"
   },
   {
    "duration": 118,
    "start_time": "2021-08-06T04:23:46.126Z"
   },
   {
    "duration": 242,
    "start_time": "2021-08-06T04:23:46.247Z"
   },
   {
    "duration": 345,
    "start_time": "2021-08-06T04:23:46.494Z"
   },
   {
    "duration": 772,
    "start_time": "2021-08-06T04:23:46.841Z"
   },
   {
    "duration": 21,
    "start_time": "2021-08-06T04:23:47.616Z"
   },
   {
    "duration": 106,
    "start_time": "2021-08-06T04:23:47.640Z"
   },
   {
    "duration": 6,
    "start_time": "2021-08-06T04:23:47.749Z"
   },
   {
    "duration": 45,
    "start_time": "2021-08-06T04:23:47.757Z"
   },
   {
    "duration": 17,
    "start_time": "2021-08-06T04:23:47.804Z"
   },
   {
    "duration": 213,
    "start_time": "2021-08-06T04:23:47.823Z"
   },
   {
    "duration": 56,
    "start_time": "2021-08-06T04:23:48.039Z"
   },
   {
    "duration": 271,
    "start_time": "2021-08-06T04:23:48.097Z"
   },
   {
    "duration": 490,
    "start_time": "2021-08-06T04:23:48.371Z"
   },
   {
    "duration": 7,
    "start_time": "2021-08-06T04:23:48.863Z"
   },
   {
    "duration": 23,
    "start_time": "2021-08-06T04:23:48.873Z"
   },
   {
    "duration": 714247,
    "start_time": "2021-08-06T04:23:48.899Z"
   },
   {
    "duration": 13,
    "start_time": "2021-08-06T04:35:43.149Z"
   },
   {
    "duration": 5,
    "start_time": "2021-08-06T04:38:07.224Z"
   },
   {
    "duration": 1635204,
    "start_time": "2021-08-06T04:38:07.728Z"
   },
   {
    "duration": 14,
    "start_time": "2021-08-06T05:05:22.935Z"
   },
   {
    "duration": 6,
    "start_time": "2021-08-06T05:07:55.130Z"
   },
   {
    "duration": 1808201,
    "start_time": "2021-08-06T05:07:55.554Z"
   },
   {
    "duration": -21,
    "start_time": "2021-08-06T05:38:03.779Z"
   },
   {
    "duration": 5,
    "start_time": "2021-08-06T05:38:05.619Z"
   },
   {
    "duration": 1001125,
    "start_time": "2021-08-06T05:38:06.398Z"
   },
   {
    "duration": 12,
    "start_time": "2021-08-06T05:54:47.525Z"
   },
   {
    "duration": 4,
    "start_time": "2021-08-06T05:56:32.765Z"
   },
   {
    "duration": 2118175,
    "start_time": "2021-08-06T05:56:33.228Z"
   },
   {
    "duration": 12,
    "start_time": "2021-08-06T06:31:51.406Z"
   },
   {
    "duration": 8,
    "start_time": "2021-08-06T06:38:24.563Z"
   },
   {
    "duration": 23425882,
    "start_time": "2021-08-06T06:38:26.530Z"
   },
   {
    "duration": -218,
    "start_time": "2021-08-06T13:08:52.634Z"
   },
   {
    "duration": 16,
    "start_time": "2021-08-06T13:08:56.735Z"
   },
   {
    "duration": 100,
    "start_time": "2021-08-06T13:11:18.813Z"
   },
   {
    "duration": -441,
    "start_time": "2021-08-07T02:30:17.654Z"
   },
   {
    "duration": -447,
    "start_time": "2021-08-07T02:30:17.661Z"
   },
   {
    "duration": -449,
    "start_time": "2021-08-07T02:30:17.665Z"
   },
   {
    "duration": 108,
    "start_time": "2021-08-07T02:31:37.192Z"
   },
   {
    "duration": 94,
    "start_time": "2021-08-07T02:32:03.024Z"
   },
   {
    "duration": 128,
    "start_time": "2021-08-07T02:32:11.080Z"
   },
   {
    "duration": 5,
    "start_time": "2021-08-07T02:32:15.968Z"
   },
   {
    "duration": 2242955,
    "start_time": "2021-08-07T02:32:19.696Z"
   },
   {
    "duration": -493,
    "start_time": "2021-08-07T03:09:43.147Z"
   },
   {
    "duration": 18739,
    "start_time": "2021-08-07T09:21:39.081Z"
   },
   {
    "duration": 1176,
    "start_time": "2021-08-07T09:21:57.823Z"
   },
   {
    "duration": 40,
    "start_time": "2021-08-07T09:21:59.003Z"
   },
   {
    "duration": 4,
    "start_time": "2021-08-07T09:21:59.046Z"
   },
   {
    "duration": 41,
    "start_time": "2021-08-07T09:21:59.052Z"
   },
   {
    "duration": 2615,
    "start_time": "2021-08-07T09:21:59.096Z"
   },
   {
    "duration": 422,
    "start_time": "2021-08-07T09:22:01.714Z"
   },
   {
    "duration": 15,
    "start_time": "2021-08-07T09:22:02.140Z"
   },
   {
    "duration": 155,
    "start_time": "2021-08-07T09:22:02.158Z"
   },
   {
    "duration": 121,
    "start_time": "2021-08-07T09:22:02.315Z"
   },
   {
    "duration": 5285,
    "start_time": "2021-08-07T09:22:02.439Z"
   },
   {
    "duration": 122,
    "start_time": "2021-08-07T09:22:07.727Z"
   },
   {
    "duration": 4438,
    "start_time": "2021-08-07T09:22:07.852Z"
   },
   {
    "duration": 103,
    "start_time": "2021-08-07T09:22:12.292Z"
   },
   {
    "duration": 236,
    "start_time": "2021-08-07T09:22:12.402Z"
   },
   {
    "duration": 5,
    "start_time": "2021-08-07T09:22:12.640Z"
   },
   {
    "duration": 8,
    "start_time": "2021-08-07T09:22:12.647Z"
   },
   {
    "duration": 183,
    "start_time": "2021-08-07T09:22:12.657Z"
   },
   {
    "duration": 32,
    "start_time": "2021-08-07T09:22:12.842Z"
   },
   {
    "duration": 137,
    "start_time": "2021-08-07T09:22:12.876Z"
   },
   {
    "duration": 43,
    "start_time": "2021-08-07T09:22:13.015Z"
   },
   {
    "duration": 520,
    "start_time": "2021-08-07T09:22:13.060Z"
   },
   {
    "duration": 18,
    "start_time": "2021-08-07T09:22:13.589Z"
   },
   {
    "duration": 465,
    "start_time": "2021-08-07T09:22:13.610Z"
   },
   {
    "duration": 205,
    "start_time": "2021-08-07T09:22:14.078Z"
   },
   {
    "duration": 7108,
    "start_time": "2021-08-07T09:22:14.285Z"
   },
   {
    "duration": 49,
    "start_time": "2021-08-07T09:22:21.395Z"
   },
   {
    "duration": 69,
    "start_time": "2021-08-07T09:22:21.446Z"
   },
   {
    "duration": 50,
    "start_time": "2021-08-07T09:22:21.518Z"
   },
   {
    "duration": 47,
    "start_time": "2021-08-07T09:22:21.594Z"
   },
   {
    "duration": 69,
    "start_time": "2021-08-07T09:22:21.643Z"
   },
   {
    "duration": 44,
    "start_time": "2021-08-07T09:22:21.715Z"
   },
   {
    "duration": 66,
    "start_time": "2021-08-07T09:22:21.762Z"
   },
   {
    "duration": 105,
    "start_time": "2021-08-07T09:22:21.830Z"
   },
   {
    "duration": 115122,
    "start_time": "2021-08-07T09:22:21.938Z"
   },
   {
    "duration": 31,
    "start_time": "2021-08-07T09:24:17.062Z"
   },
   {
    "duration": 101,
    "start_time": "2021-08-07T09:24:17.096Z"
   },
   {
    "duration": 399,
    "start_time": "2021-08-07T09:24:17.200Z"
   },
   {
    "duration": 496,
    "start_time": "2021-08-07T09:24:17.601Z"
   },
   {
    "duration": 842,
    "start_time": "2021-08-07T09:24:18.100Z"
   },
   {
    "duration": 41,
    "start_time": "2021-08-07T09:24:18.944Z"
   },
   {
    "duration": 114,
    "start_time": "2021-08-07T09:24:18.988Z"
   },
   {
    "duration": 7,
    "start_time": "2021-08-07T09:24:19.104Z"
   },
   {
    "duration": 34,
    "start_time": "2021-08-07T09:24:19.113Z"
   },
   {
    "duration": 40,
    "start_time": "2021-08-07T09:24:19.149Z"
   },
   {
    "duration": 215,
    "start_time": "2021-08-07T09:24:19.192Z"
   },
   {
    "duration": 43,
    "start_time": "2021-08-07T09:24:19.409Z"
   },
   {
    "duration": 317,
    "start_time": "2021-08-07T09:24:19.455Z"
   },
   {
    "duration": 547,
    "start_time": "2021-08-07T09:24:19.774Z"
   },
   {
    "duration": 8,
    "start_time": "2021-08-07T09:24:20.323Z"
   },
   {
    "duration": 16,
    "start_time": "2021-08-07T09:24:20.333Z"
   },
   {
    "duration": 11007779,
    "start_time": "2021-08-07T09:24:20.352Z"
   },
   {
    "duration": 14,
    "start_time": "2021-08-07T12:27:48.133Z"
   },
   {
    "duration": 6,
    "start_time": "2021-08-07T13:15:57.278Z"
   },
   {
    "duration": 33423070,
    "start_time": "2021-08-07T13:15:58.452Z"
   },
   {
    "duration": 13,
    "start_time": "2021-08-07T22:33:01.525Z"
   },
   {
    "duration": 10302,
    "start_time": "2021-08-08T04:54:17.543Z"
   },
   {
    "duration": 1159,
    "start_time": "2021-08-08T04:54:27.848Z"
   },
   {
    "duration": 43,
    "start_time": "2021-08-08T04:54:29.015Z"
   },
   {
    "duration": 4,
    "start_time": "2021-08-08T04:54:29.061Z"
   },
   {
    "duration": 7,
    "start_time": "2021-08-08T04:54:29.087Z"
   },
   {
    "duration": 2463,
    "start_time": "2021-08-08T04:54:29.098Z"
   },
   {
    "duration": 436,
    "start_time": "2021-08-08T04:54:31.565Z"
   },
   {
    "duration": 16,
    "start_time": "2021-08-08T04:54:32.004Z"
   },
   {
    "duration": 150,
    "start_time": "2021-08-08T04:54:32.023Z"
   },
   {
    "duration": 128,
    "start_time": "2021-08-08T04:54:32.176Z"
   },
   {
    "duration": 5018,
    "start_time": "2021-08-08T04:54:32.306Z"
   },
   {
    "duration": 117,
    "start_time": "2021-08-08T04:54:37.326Z"
   },
   {
    "duration": 4072,
    "start_time": "2021-08-08T04:54:37.446Z"
   },
   {
    "duration": 108,
    "start_time": "2021-08-08T04:54:41.520Z"
   },
   {
    "duration": 222,
    "start_time": "2021-08-08T04:54:41.630Z"
   },
   {
    "duration": 6,
    "start_time": "2021-08-08T04:54:41.855Z"
   },
   {
    "duration": 11,
    "start_time": "2021-08-08T04:54:41.863Z"
   },
   {
    "duration": 161,
    "start_time": "2021-08-08T04:54:41.886Z"
   },
   {
    "duration": 45,
    "start_time": "2021-08-08T04:54:42.049Z"
   },
   {
    "duration": 116,
    "start_time": "2021-08-08T04:54:42.096Z"
   },
   {
    "duration": 45,
    "start_time": "2021-08-08T04:54:42.215Z"
   },
   {
    "duration": 521,
    "start_time": "2021-08-08T04:54:42.286Z"
   },
   {
    "duration": 16,
    "start_time": "2021-08-08T04:54:42.810Z"
   },
   {
    "duration": 473,
    "start_time": "2021-08-08T04:54:42.828Z"
   },
   {
    "duration": 202,
    "start_time": "2021-08-08T04:54:43.304Z"
   },
   {
    "duration": 7213,
    "start_time": "2021-08-08T04:54:43.508Z"
   },
   {
    "duration": 46,
    "start_time": "2021-08-08T04:54:50.723Z"
   },
   {
    "duration": 45,
    "start_time": "2021-08-08T04:54:50.786Z"
   },
   {
    "duration": 67,
    "start_time": "2021-08-08T04:54:50.833Z"
   },
   {
    "duration": 91,
    "start_time": "2021-08-08T04:54:50.902Z"
   },
   {
    "duration": 112,
    "start_time": "2021-08-08T04:54:50.997Z"
   },
   {
    "duration": 91,
    "start_time": "2021-08-08T04:54:51.112Z"
   },
   {
    "duration": 56,
    "start_time": "2021-08-08T04:54:51.206Z"
   },
   {
    "duration": 108,
    "start_time": "2021-08-08T04:54:51.265Z"
   },
   {
    "duration": 100129,
    "start_time": "2021-08-08T04:54:51.385Z"
   },
   {
    "duration": 28,
    "start_time": "2021-08-08T04:56:31.517Z"
   },
   {
    "duration": 126,
    "start_time": "2021-08-08T04:56:31.547Z"
   },
   {
    "duration": 247,
    "start_time": "2021-08-08T04:56:31.684Z"
   },
   {
    "duration": 379,
    "start_time": "2021-08-08T04:56:31.934Z"
   },
   {
    "duration": 826,
    "start_time": "2021-08-08T04:56:32.316Z"
   },
   {
    "duration": 23,
    "start_time": "2021-08-08T04:56:33.144Z"
   },
   {
    "duration": 115,
    "start_time": "2021-08-08T04:56:33.170Z"
   },
   {
    "duration": 7,
    "start_time": "2021-08-08T04:56:33.288Z"
   },
   {
    "duration": 47,
    "start_time": "2021-08-08T04:56:33.297Z"
   },
   {
    "duration": 18,
    "start_time": "2021-08-08T04:56:33.346Z"
   },
   {
    "duration": 210,
    "start_time": "2021-08-08T04:56:33.366Z"
   },
   {
    "duration": 43,
    "start_time": "2021-08-08T04:56:33.578Z"
   },
   {
    "duration": 298,
    "start_time": "2021-08-08T04:56:33.623Z"
   },
   {
    "duration": 555,
    "start_time": "2021-08-08T04:56:33.924Z"
   },
   {
    "duration": 7,
    "start_time": "2021-08-08T04:56:34.482Z"
   },
   {
    "duration": 7393466,
    "start_time": "2021-08-08T04:56:34.491Z"
   },
   {
    "duration": 14,
    "start_time": "2021-08-08T06:59:47.959Z"
   },
   {
    "duration": 7,
    "start_time": "2021-08-08T07:05:16.152Z"
   },
   {
    "duration": 2615598,
    "start_time": "2021-08-08T07:05:19.934Z"
   },
   {
    "duration": 15,
    "start_time": "2021-08-08T07:48:55.535Z"
   },
   {
    "duration": 138,
    "start_time": "2021-08-08T08:09:03.709Z"
   },
   {
    "duration": 7,
    "start_time": "2021-08-08T17:05:57.293Z"
   },
   {
    "duration": 7,
    "start_time": "2021-08-08T17:06:12.542Z"
   },
   {
    "duration": 142,
    "start_time": "2021-08-08T17:06:36.476Z"
   },
   {
    "duration": 348,
    "start_time": "2021-08-08T17:06:50.028Z"
   },
   {
    "duration": 389,
    "start_time": "2021-08-08T17:08:11.891Z"
   },
   {
    "duration": 5,
    "start_time": "2021-08-08T17:08:19.474Z"
   },
   {
    "duration": 576,
    "start_time": "2021-08-08T17:16:46.861Z"
   },
   {
    "duration": 376,
    "start_time": "2021-08-08T17:16:57.524Z"
   },
   {
    "duration": 21498,
    "start_time": "2021-08-08T17:17:12.416Z"
   },
   {
    "duration": 1134,
    "start_time": "2021-08-08T17:17:33.917Z"
   },
   {
    "duration": 55,
    "start_time": "2021-08-08T17:17:35.054Z"
   },
   {
    "duration": 4,
    "start_time": "2021-08-08T17:17:35.111Z"
   },
   {
    "duration": 13,
    "start_time": "2021-08-08T17:17:35.118Z"
   },
   {
    "duration": 2410,
    "start_time": "2021-08-08T17:17:35.134Z"
   },
   {
    "duration": 403,
    "start_time": "2021-08-08T17:17:37.548Z"
   },
   {
    "duration": 31,
    "start_time": "2021-08-08T17:17:37.955Z"
   },
   {
    "duration": 144,
    "start_time": "2021-08-08T17:17:37.990Z"
   },
   {
    "duration": 118,
    "start_time": "2021-08-08T17:17:38.137Z"
   },
   {
    "duration": 6868,
    "start_time": "2021-08-08T17:17:38.258Z"
   },
   {
    "duration": 139,
    "start_time": "2021-08-08T17:17:45.130Z"
   },
   {
    "duration": 4607,
    "start_time": "2021-08-08T17:17:45.272Z"
   },
   {
    "duration": 100,
    "start_time": "2021-08-08T17:17:49.885Z"
   },
   {
    "duration": 218,
    "start_time": "2021-08-08T17:17:49.988Z"
   },
   {
    "duration": 7,
    "start_time": "2021-08-08T17:17:50.209Z"
   },
   {
    "duration": 13,
    "start_time": "2021-08-08T17:17:50.219Z"
   },
   {
    "duration": 182,
    "start_time": "2021-08-08T17:17:50.235Z"
   },
   {
    "duration": 33,
    "start_time": "2021-08-08T17:17:50.419Z"
   },
   {
    "duration": 131,
    "start_time": "2021-08-08T17:17:50.455Z"
   },
   {
    "duration": 44,
    "start_time": "2021-08-08T17:17:50.589Z"
   },
   {
    "duration": 632,
    "start_time": "2021-08-08T17:17:50.636Z"
   },
   {
    "duration": 21,
    "start_time": "2021-08-08T17:17:51.274Z"
   },
   {
    "duration": 511,
    "start_time": "2021-08-08T17:17:51.298Z"
   },
   {
    "duration": 197,
    "start_time": "2021-08-08T17:17:51.811Z"
   },
   {
    "duration": 7098,
    "start_time": "2021-08-08T17:17:52.011Z"
   },
   {
    "duration": 43,
    "start_time": "2021-08-08T17:17:59.112Z"
   },
   {
    "duration": 61,
    "start_time": "2021-08-08T17:17:59.158Z"
   },
   {
    "duration": 67,
    "start_time": "2021-08-08T17:17:59.221Z"
   },
   {
    "duration": 43,
    "start_time": "2021-08-08T17:17:59.290Z"
   },
   {
    "duration": 67,
    "start_time": "2021-08-08T17:17:59.335Z"
   },
   {
    "duration": 44,
    "start_time": "2021-08-08T17:17:59.404Z"
   },
   {
    "duration": 61,
    "start_time": "2021-08-08T17:17:59.450Z"
   },
   {
    "duration": 91,
    "start_time": "2021-08-08T17:17:59.513Z"
   },
   {
    "duration": 108881,
    "start_time": "2021-08-08T17:17:59.606Z"
   },
   {
    "duration": 25,
    "start_time": "2021-08-08T17:19:48.489Z"
   },
   {
    "duration": 123,
    "start_time": "2021-08-08T17:19:48.517Z"
   },
   {
    "duration": 417,
    "start_time": "2021-08-08T17:19:48.643Z"
   },
   {
    "duration": 526,
    "start_time": "2021-08-08T17:19:49.063Z"
   },
   {
    "duration": 1240,
    "start_time": "2021-08-08T17:19:49.592Z"
   },
   {
    "duration": 22,
    "start_time": "2021-08-08T17:19:50.835Z"
   },
   {
    "duration": 111,
    "start_time": "2021-08-08T17:19:50.859Z"
   },
   {
    "duration": 14,
    "start_time": "2021-08-08T17:19:50.973Z"
   },
   {
    "duration": 33,
    "start_time": "2021-08-08T17:19:50.990Z"
   },
   {
    "duration": 16,
    "start_time": "2021-08-08T17:19:51.026Z"
   },
   {
    "duration": 244,
    "start_time": "2021-08-08T17:19:51.045Z"
   },
   {
    "duration": 48,
    "start_time": "2021-08-08T17:19:51.291Z"
   },
   {
    "duration": 294,
    "start_time": "2021-08-08T17:19:51.341Z"
   },
   {
    "duration": 496,
    "start_time": "2021-08-08T17:19:51.638Z"
   },
   {
    "duration": 7,
    "start_time": "2021-08-08T17:19:52.137Z"
   },
   {
    "duration": 2784107,
    "start_time": "2021-08-08T17:19:52.147Z"
   },
   {
    "duration": 14,
    "start_time": "2021-08-08T18:06:16.256Z"
   },
   {
    "duration": 15692,
    "start_time": "2021-08-08T18:06:16.286Z"
   },
   {
    "duration": 2310,
    "start_time": "2021-08-08T18:06:29.671Z"
   },
   {
    "duration": 16,
    "start_time": "2021-08-08T18:09:41.656Z"
   },
   {
    "duration": 87179,
    "start_time": "2021-08-08T18:09:54.731Z"
   },
   {
    "duration": 20,
    "start_time": "2021-08-08T18:12:16.894Z"
   },
   {
    "duration": 20,
    "start_time": "2021-08-08T18:12:42.325Z"
   },
   {
    "duration": 9830,
    "start_time": "2021-08-08T18:13:41.356Z"
   },
   {
    "duration": 412914,
    "start_time": "2021-08-08T18:16:59.811Z"
   },
   {
    "duration": 13,
    "start_time": "2021-08-08T18:23:52.728Z"
   },
   {
    "duration": 371614,
    "start_time": "2021-08-08T18:27:01.546Z"
   },
   {
    "duration": 23,
    "start_time": "2021-08-08T18:33:13.163Z"
   },
   {
    "duration": 342743,
    "start_time": "2021-08-08T18:41:20.327Z"
   },
   {
    "duration": 24,
    "start_time": "2021-08-08T18:47:03.073Z"
   },
   {
    "duration": 337953,
    "start_time": "2021-08-08T18:48:44.832Z"
   },
   {
    "duration": 15,
    "start_time": "2021-08-08T18:54:22.788Z"
   },
   {
    "duration": 10420,
    "start_time": "2021-08-08T19:02:41.078Z"
   },
   {
    "duration": 1138,
    "start_time": "2021-08-08T19:02:51.501Z"
   },
   {
    "duration": 47,
    "start_time": "2021-08-08T19:02:52.642Z"
   },
   {
    "duration": 5,
    "start_time": "2021-08-08T19:02:52.691Z"
   },
   {
    "duration": 10,
    "start_time": "2021-08-08T19:02:52.698Z"
   },
   {
    "duration": 2582,
    "start_time": "2021-08-08T19:02:52.710Z"
   },
   {
    "duration": 418,
    "start_time": "2021-08-08T19:02:55.294Z"
   },
   {
    "duration": 15,
    "start_time": "2021-08-08T19:02:55.716Z"
   },
   {
    "duration": 140,
    "start_time": "2021-08-08T19:02:55.734Z"
   },
   {
    "duration": 122,
    "start_time": "2021-08-08T19:02:55.876Z"
   },
   {
    "duration": 5010,
    "start_time": "2021-08-08T19:02:56.001Z"
   },
   {
    "duration": 110,
    "start_time": "2021-08-08T19:03:01.013Z"
   },
   {
    "duration": 4047,
    "start_time": "2021-08-08T19:03:01.126Z"
   },
   {
    "duration": 101,
    "start_time": "2021-08-08T19:03:05.175Z"
   },
   {
    "duration": 223,
    "start_time": "2021-08-08T19:03:05.278Z"
   },
   {
    "duration": 5,
    "start_time": "2021-08-08T19:03:05.504Z"
   },
   {
    "duration": 10,
    "start_time": "2021-08-08T19:03:05.511Z"
   },
   {
    "duration": 166,
    "start_time": "2021-08-08T19:03:05.524Z"
   },
   {
    "duration": 33,
    "start_time": "2021-08-08T19:03:05.692Z"
   },
   {
    "duration": 125,
    "start_time": "2021-08-08T19:03:05.728Z"
   },
   {
    "duration": 50,
    "start_time": "2021-08-08T19:03:05.856Z"
   },
   {
    "duration": 528,
    "start_time": "2021-08-08T19:03:05.909Z"
   },
   {
    "duration": 17,
    "start_time": "2021-08-08T19:03:06.442Z"
   },
   {
    "duration": 485,
    "start_time": "2021-08-08T19:03:06.462Z"
   },
   {
    "duration": 202,
    "start_time": "2021-08-08T19:03:06.949Z"
   },
   {
    "duration": 6449,
    "start_time": "2021-08-08T19:03:07.153Z"
   },
   {
    "duration": 47,
    "start_time": "2021-08-08T19:03:13.605Z"
   },
   {
    "duration": 63,
    "start_time": "2021-08-08T19:03:13.655Z"
   },
   {
    "duration": 67,
    "start_time": "2021-08-08T19:03:13.720Z"
   },
   {
    "duration": 44,
    "start_time": "2021-08-08T19:03:13.790Z"
   },
   {
    "duration": 91,
    "start_time": "2021-08-08T19:03:13.836Z"
   },
   {
    "duration": 56,
    "start_time": "2021-08-08T19:03:13.930Z"
   },
   {
    "duration": 51,
    "start_time": "2021-08-08T19:03:13.988Z"
   },
   {
    "duration": 121,
    "start_time": "2021-08-08T19:03:14.042Z"
   },
   {
    "duration": 106742,
    "start_time": "2021-08-08T19:03:14.166Z"
   },
   {
    "duration": 29,
    "start_time": "2021-08-08T19:05:00.911Z"
   },
   {
    "duration": 133,
    "start_time": "2021-08-08T19:05:00.943Z"
   },
   {
    "duration": 263,
    "start_time": "2021-08-08T19:05:01.079Z"
   },
   {
    "duration": 433,
    "start_time": "2021-08-08T19:05:01.346Z"
   },
   {
    "duration": 861,
    "start_time": "2021-08-08T19:05:01.786Z"
   },
   {
    "duration": 23,
    "start_time": "2021-08-08T19:05:02.650Z"
   },
   {
    "duration": 109,
    "start_time": "2021-08-08T19:05:02.687Z"
   },
   {
    "duration": 7,
    "start_time": "2021-08-08T19:05:02.799Z"
   },
   {
    "duration": 41,
    "start_time": "2021-08-08T19:05:02.809Z"
   },
   {
    "duration": 41,
    "start_time": "2021-08-08T19:05:02.853Z"
   },
   {
    "duration": 206,
    "start_time": "2021-08-08T19:05:02.896Z"
   },
   {
    "duration": 42,
    "start_time": "2021-08-08T19:05:03.104Z"
   },
   {
    "duration": 305,
    "start_time": "2021-08-08T19:05:03.148Z"
   },
   {
    "duration": 541,
    "start_time": "2021-08-08T19:05:03.455Z"
   },
   {
    "duration": 8,
    "start_time": "2021-08-08T19:05:03.999Z"
   },
   {
    "duration": 137,
    "start_time": "2021-08-08T19:05:04.009Z"
   },
   {
    "duration": 2293,
    "start_time": "2021-08-08T19:05:01.855Z"
   },
   {
    "duration": 2291,
    "start_time": "2021-08-08T19:05:01.859Z"
   },
   {
    "duration": 2285,
    "start_time": "2021-08-08T19:05:01.866Z"
   },
   {
    "duration": 2270,
    "start_time": "2021-08-08T19:05:01.883Z"
   },
   {
    "duration": 2267,
    "start_time": "2021-08-08T19:05:01.888Z"
   },
   {
    "duration": 2723222,
    "start_time": "2021-08-08T19:15:45.082Z"
   },
   {
    "duration": 17,
    "start_time": "2021-08-08T20:01:08.307Z"
   },
   {
    "duration": 143,
    "start_time": "2021-08-08T20:01:08.327Z"
   },
   {
    "duration": 2282,
    "start_time": "2021-08-08T20:01:06.191Z"
   },
   {
    "duration": 2279,
    "start_time": "2021-08-08T20:01:06.196Z"
   },
   {
    "duration": 2270,
    "start_time": "2021-08-08T20:01:06.206Z"
   },
   {
    "duration": 181,
    "start_time": "2021-08-08T20:11:58.616Z"
   },
   {
    "duration": 4,
    "start_time": "2021-08-08T20:11:59.631Z"
   },
   {
    "duration": 484540,
    "start_time": "2021-08-08T20:12:01.080Z"
   },
   {
    "duration": 14,
    "start_time": "2021-08-08T20:20:05.622Z"
   },
   {
    "duration": 7882,
    "start_time": "2021-08-08T20:39:27.095Z"
   },
   {
    "duration": 11601,
    "start_time": "2021-08-09T04:35:18.463Z"
   },
   {
    "duration": 4715,
    "start_time": "2021-08-09T04:38:20.688Z"
   },
   {
    "duration": 715,
    "start_time": "2021-08-09T04:38:25.405Z"
   },
   {
    "duration": 24,
    "start_time": "2021-08-09T04:38:26.122Z"
   },
   {
    "duration": 2,
    "start_time": "2021-08-09T04:38:26.148Z"
   },
   {
    "duration": 9,
    "start_time": "2021-08-09T04:38:26.152Z"
   },
   {
    "duration": 1369,
    "start_time": "2021-08-09T04:38:26.162Z"
   },
   {
    "duration": 272,
    "start_time": "2021-08-09T04:38:27.533Z"
   },
   {
    "duration": 12,
    "start_time": "2021-08-09T04:38:27.807Z"
   },
   {
    "duration": 102,
    "start_time": "2021-08-09T04:38:27.820Z"
   },
   {
    "duration": 79,
    "start_time": "2021-08-09T04:38:27.923Z"
   },
   {
    "duration": 3227,
    "start_time": "2021-08-09T04:38:28.003Z"
   },
   {
    "duration": 71,
    "start_time": "2021-08-09T04:38:31.232Z"
   },
   {
    "duration": 2657,
    "start_time": "2021-08-09T04:38:31.305Z"
   },
   {
    "duration": 72,
    "start_time": "2021-08-09T04:38:33.964Z"
   },
   {
    "duration": 138,
    "start_time": "2021-08-09T04:38:34.037Z"
   },
   {
    "duration": 3,
    "start_time": "2021-08-09T04:38:34.177Z"
   },
   {
    "duration": 10,
    "start_time": "2021-08-09T04:38:34.182Z"
   },
   {
    "duration": 109,
    "start_time": "2021-08-09T04:38:34.194Z"
   },
   {
    "duration": 28,
    "start_time": "2021-08-09T04:38:34.304Z"
   },
   {
    "duration": 98,
    "start_time": "2021-08-09T04:38:34.333Z"
   },
   {
    "duration": 30,
    "start_time": "2021-08-09T04:38:34.433Z"
   },
   {
    "duration": 461,
    "start_time": "2021-08-09T04:38:34.464Z"
   },
   {
    "duration": 11,
    "start_time": "2021-08-09T04:38:34.929Z"
   },
   {
    "duration": 284,
    "start_time": "2021-08-09T04:38:34.942Z"
   },
   {
    "duration": 119,
    "start_time": "2021-08-09T04:38:35.227Z"
   },
   {
    "duration": 4726,
    "start_time": "2021-08-09T04:38:35.347Z"
   },
   {
    "duration": 36,
    "start_time": "2021-08-09T04:38:40.074Z"
   },
   {
    "duration": 28,
    "start_time": "2021-08-09T04:38:40.111Z"
   },
   {
    "duration": 32,
    "start_time": "2021-08-09T04:38:40.141Z"
   },
   {
    "duration": 44,
    "start_time": "2021-08-09T04:38:40.174Z"
   },
   {
    "duration": 25,
    "start_time": "2021-08-09T04:38:40.219Z"
   },
   {
    "duration": 46,
    "start_time": "2021-08-09T04:38:40.245Z"
   },
   {
    "duration": 30,
    "start_time": "2021-08-09T04:38:40.293Z"
   },
   {
    "duration": 49,
    "start_time": "2021-08-09T04:38:40.325Z"
   },
   {
    "duration": 60541,
    "start_time": "2021-08-09T04:38:40.375Z"
   },
   {
    "duration": 18,
    "start_time": "2021-08-09T04:39:40.917Z"
   },
   {
    "duration": 89,
    "start_time": "2021-08-09T04:39:40.936Z"
   },
   {
    "duration": 170,
    "start_time": "2021-08-09T04:39:41.027Z"
   },
   {
    "duration": 188,
    "start_time": "2021-08-09T04:39:41.199Z"
   },
   {
    "duration": 530,
    "start_time": "2021-08-09T04:39:41.391Z"
   },
   {
    "duration": 13,
    "start_time": "2021-08-09T04:39:41.922Z"
   },
   {
    "duration": 73,
    "start_time": "2021-08-09T04:39:41.937Z"
   },
   {
    "duration": 4,
    "start_time": "2021-08-09T04:39:42.012Z"
   },
   {
    "duration": 2,
    "start_time": "2021-08-09T04:40:37.435Z"
   },
   {
    "duration": 23,
    "start_time": "2021-08-09T04:41:00.962Z"
   },
   {
    "duration": 11,
    "start_time": "2021-08-09T04:41:03.347Z"
   },
   {
    "duration": 720,
    "start_time": "2021-08-09T04:48:41.957Z"
   },
   {
    "duration": 4530,
    "start_time": "2021-08-09T04:50:44.254Z"
   },
   {
    "duration": 689,
    "start_time": "2021-08-09T04:50:48.787Z"
   },
   {
    "duration": 27,
    "start_time": "2021-08-09T04:50:49.478Z"
   },
   {
    "duration": 3,
    "start_time": "2021-08-09T04:50:49.507Z"
   },
   {
    "duration": 7,
    "start_time": "2021-08-09T04:50:49.511Z"
   },
   {
    "duration": 1262,
    "start_time": "2021-08-09T04:50:49.520Z"
   },
   {
    "duration": 220,
    "start_time": "2021-08-09T04:50:50.784Z"
   },
   {
    "duration": 12,
    "start_time": "2021-08-09T04:50:51.006Z"
   },
   {
    "duration": 108,
    "start_time": "2021-08-09T04:50:51.020Z"
   },
   {
    "duration": 76,
    "start_time": "2021-08-09T04:50:51.130Z"
   },
   {
    "duration": 2921,
    "start_time": "2021-08-09T04:50:51.207Z"
   },
   {
    "duration": 68,
    "start_time": "2021-08-09T04:50:54.129Z"
   },
   {
    "duration": 2582,
    "start_time": "2021-08-09T04:50:54.198Z"
   },
   {
    "duration": 65,
    "start_time": "2021-08-09T04:50:56.782Z"
   },
   {
    "duration": 142,
    "start_time": "2021-08-09T04:50:56.849Z"
   },
   {
    "duration": 3,
    "start_time": "2021-08-09T04:50:56.993Z"
   },
   {
    "duration": 12,
    "start_time": "2021-08-09T04:50:56.997Z"
   },
   {
    "duration": 101,
    "start_time": "2021-08-09T04:50:57.011Z"
   },
   {
    "duration": 25,
    "start_time": "2021-08-09T04:50:57.114Z"
   },
   {
    "duration": 89,
    "start_time": "2021-08-09T04:50:57.141Z"
   },
   {
    "duration": 29,
    "start_time": "2021-08-09T04:50:57.231Z"
   },
   {
    "duration": 242,
    "start_time": "2021-08-09T04:50:57.261Z"
   },
   {
    "duration": 10,
    "start_time": "2021-08-09T04:50:57.507Z"
   },
   {
    "duration": 295,
    "start_time": "2021-08-09T04:50:57.519Z"
   },
   {
    "duration": 119,
    "start_time": "2021-08-09T04:50:57.816Z"
   },
   {
    "duration": 4341,
    "start_time": "2021-08-09T04:50:57.936Z"
   },
   {
    "duration": 34,
    "start_time": "2021-08-09T04:51:02.278Z"
   },
   {
    "duration": 28,
    "start_time": "2021-08-09T04:51:02.314Z"
   },
   {
    "duration": 53,
    "start_time": "2021-08-09T04:51:02.344Z"
   },
   {
    "duration": 29,
    "start_time": "2021-08-09T04:51:02.399Z"
   },
   {
    "duration": 27,
    "start_time": "2021-08-09T04:51:02.429Z"
   },
   {
    "duration": 48,
    "start_time": "2021-08-09T04:51:02.457Z"
   },
   {
    "duration": 30,
    "start_time": "2021-08-09T04:51:02.506Z"
   },
   {
    "duration": 70,
    "start_time": "2021-08-09T04:51:02.538Z"
   },
   {
    "duration": 59633,
    "start_time": "2021-08-09T04:51:02.609Z"
   },
   {
    "duration": 19,
    "start_time": "2021-08-09T04:52:02.243Z"
   },
   {
    "duration": 90,
    "start_time": "2021-08-09T04:52:02.263Z"
   },
   {
    "duration": 198,
    "start_time": "2021-08-09T04:52:02.355Z"
   },
   {
    "duration": 199,
    "start_time": "2021-08-09T04:52:02.555Z"
   },
   {
    "duration": 522,
    "start_time": "2021-08-09T04:52:02.755Z"
   },
   {
    "duration": 19,
    "start_time": "2021-08-09T04:52:03.279Z"
   },
   {
    "duration": 64,
    "start_time": "2021-08-09T04:52:03.300Z"
   },
   {
    "duration": 4,
    "start_time": "2021-08-09T04:52:03.366Z"
   },
   {
    "duration": 20,
    "start_time": "2021-08-09T04:52:03.372Z"
   },
   {
    "duration": 24,
    "start_time": "2021-08-09T04:52:03.394Z"
   },
   {
    "duration": 12,
    "start_time": "2021-08-09T04:52:03.420Z"
   },
   {
    "duration": 6,
    "start_time": "2021-08-09T04:52:03.433Z"
   },
   {
    "duration": 1151,
    "start_time": "2021-08-09T04:55:02.775Z"
   },
   {
    "duration": 13,
    "start_time": "2021-08-09T05:00:36.476Z"
   },
   {
    "duration": 26,
    "start_time": "2021-08-09T05:01:28.509Z"
   },
   {
    "duration": 60,
    "start_time": "2021-08-09T05:01:32.027Z"
   },
   {
    "duration": 77,
    "start_time": "2021-08-09T05:01:46.299Z"
   },
   {
    "duration": 5,
    "start_time": "2021-08-09T05:01:53.508Z"
   },
   {
    "duration": 710,
    "start_time": "2021-08-09T05:01:57.660Z"
   },
   {
    "duration": 5914,
    "start_time": "2021-08-09T05:02:35.686Z"
   },
   {
    "duration": 720,
    "start_time": "2021-08-09T05:02:41.602Z"
   },
   {
    "duration": 27,
    "start_time": "2021-08-09T05:02:42.324Z"
   },
   {
    "duration": 2,
    "start_time": "2021-08-09T05:02:42.353Z"
   },
   {
    "duration": 8,
    "start_time": "2021-08-09T05:02:42.356Z"
   },
   {
    "duration": 1265,
    "start_time": "2021-08-09T05:02:42.366Z"
   },
   {
    "duration": 270,
    "start_time": "2021-08-09T05:02:43.633Z"
   },
   {
    "duration": 11,
    "start_time": "2021-08-09T05:02:43.906Z"
   },
   {
    "duration": 97,
    "start_time": "2021-08-09T05:02:43.919Z"
   },
   {
    "duration": 79,
    "start_time": "2021-08-09T05:02:44.018Z"
   },
   {
    "duration": 2956,
    "start_time": "2021-08-09T05:02:44.099Z"
   },
   {
    "duration": 73,
    "start_time": "2021-08-09T05:02:47.056Z"
   },
   {
    "duration": 2365,
    "start_time": "2021-08-09T05:02:47.130Z"
   },
   {
    "duration": 59,
    "start_time": "2021-08-09T05:02:49.496Z"
   },
   {
    "duration": 144,
    "start_time": "2021-08-09T05:02:49.557Z"
   },
   {
    "duration": 4,
    "start_time": "2021-08-09T05:02:49.703Z"
   },
   {
    "duration": 6,
    "start_time": "2021-08-09T05:02:49.709Z"
   },
   {
    "duration": 113,
    "start_time": "2021-08-09T05:02:49.716Z"
   },
   {
    "duration": 25,
    "start_time": "2021-08-09T05:02:49.831Z"
   },
   {
    "duration": 87,
    "start_time": "2021-08-09T05:02:49.857Z"
   },
   {
    "duration": 27,
    "start_time": "2021-08-09T05:02:49.945Z"
   },
   {
    "duration": 324,
    "start_time": "2021-08-09T05:02:49.974Z"
   },
   {
    "duration": 11,
    "start_time": "2021-08-09T05:02:50.301Z"
   },
   {
    "duration": 280,
    "start_time": "2021-08-09T05:02:50.314Z"
   },
   {
    "duration": 114,
    "start_time": "2021-08-09T05:02:50.595Z"
   },
   {
    "duration": 4363,
    "start_time": "2021-08-09T05:02:50.710Z"
   },
   {
    "duration": 31,
    "start_time": "2021-08-09T05:02:55.075Z"
   },
   {
    "duration": 27,
    "start_time": "2021-08-09T05:02:55.108Z"
   },
   {
    "duration": 33,
    "start_time": "2021-08-09T05:02:55.136Z"
   },
   {
    "duration": 44,
    "start_time": "2021-08-09T05:02:55.171Z"
   },
   {
    "duration": 35,
    "start_time": "2021-08-09T05:02:55.217Z"
   },
   {
    "duration": 50,
    "start_time": "2021-08-09T05:02:55.253Z"
   },
   {
    "duration": 30,
    "start_time": "2021-08-09T05:02:55.305Z"
   },
   {
    "duration": 61,
    "start_time": "2021-08-09T05:02:55.337Z"
   },
   {
    "duration": 57991,
    "start_time": "2021-08-09T05:02:55.400Z"
   },
   {
    "duration": 17,
    "start_time": "2021-08-09T05:03:53.393Z"
   },
   {
    "duration": 82,
    "start_time": "2021-08-09T05:03:53.412Z"
   },
   {
    "duration": 165,
    "start_time": "2021-08-09T05:03:53.495Z"
   },
   {
    "duration": 170,
    "start_time": "2021-08-09T05:03:53.661Z"
   },
   {
    "duration": 517,
    "start_time": "2021-08-09T05:03:53.833Z"
   },
   {
    "duration": 12,
    "start_time": "2021-08-09T05:03:54.352Z"
   },
   {
    "duration": 66,
    "start_time": "2021-08-09T05:03:54.366Z"
   },
   {
    "duration": 4,
    "start_time": "2021-08-09T05:03:54.434Z"
   },
   {
    "duration": 5,
    "start_time": "2021-08-09T05:03:54.439Z"
   },
   {
    "duration": 26,
    "start_time": "2021-08-09T05:03:54.445Z"
   },
   {
    "duration": 20,
    "start_time": "2021-08-09T05:03:54.472Z"
   },
   {
    "duration": 2,
    "start_time": "2021-08-09T05:03:54.494Z"
   },
   {
    "duration": 1137,
    "start_time": "2021-08-09T05:03:54.497Z"
   },
   {
    "duration": 11,
    "start_time": "2021-08-09T05:03:55.636Z"
   },
   {
    "duration": 30,
    "start_time": "2021-08-09T05:03:55.649Z"
   },
   {
    "duration": 65,
    "start_time": "2021-08-09T05:03:55.681Z"
   },
   {
    "duration": 74,
    "start_time": "2021-08-09T05:03:55.747Z"
   },
   {
    "duration": 5,
    "start_time": "2021-08-09T05:03:55.822Z"
   },
   {
    "duration": 730097,
    "start_time": "2021-08-09T05:03:55.828Z"
   },
   {
    "duration": 10,
    "start_time": "2021-08-09T05:16:05.927Z"
   },
   {
    "duration": 36,
    "start_time": "2021-08-09T05:16:05.939Z"
   },
   {
    "duration": 16,
    "start_time": "2021-08-09T05:16:05.976Z"
   },
   {
    "duration": 152375,
    "start_time": "2021-08-09T05:16:05.993Z"
   },
   {
    "duration": 8,
    "start_time": "2021-08-09T05:18:38.370Z"
   },
   {
    "duration": 3,
    "start_time": "2021-08-09T05:18:38.391Z"
   },
   {
    "duration": 5121,
    "start_time": "2021-08-09T05:19:19.455Z"
   },
   {
    "duration": 12,
    "start_time": "2021-08-09T05:19:44.168Z"
   },
   {
    "duration": 5210,
    "start_time": "2021-08-09T05:20:18.472Z"
   },
   {
    "duration": 14,
    "start_time": "2021-08-09T05:20:29.695Z"
   },
   {
    "duration": 11,
    "start_time": "2021-08-09T05:20:36.519Z"
   },
   {
    "duration": 4857,
    "start_time": "2021-08-09T05:20:51.440Z"
   },
   {
    "duration": 12,
    "start_time": "2021-08-09T05:20:59.854Z"
   },
   {
    "duration": 4810,
    "start_time": "2021-08-09T05:22:06.813Z"
   },
   {
    "duration": 12,
    "start_time": "2021-08-09T05:22:14.421Z"
   },
   {
    "duration": 5,
    "start_time": "2021-08-09T05:23:06.436Z"
   },
   {
    "duration": 8413,
    "start_time": "2021-08-09T07:30:00.257Z"
   },
   {
    "duration": 706,
    "start_time": "2021-08-09T07:30:08.672Z"
   },
   {
    "duration": 32,
    "start_time": "2021-08-09T07:30:09.380Z"
   },
   {
    "duration": 3,
    "start_time": "2021-08-09T07:30:09.413Z"
   },
   {
    "duration": 21,
    "start_time": "2021-08-09T07:30:09.417Z"
   },
   {
    "duration": 1261,
    "start_time": "2021-08-09T07:30:09.439Z"
   },
   {
    "duration": 276,
    "start_time": "2021-08-09T07:30:10.702Z"
   },
   {
    "duration": 15,
    "start_time": "2021-08-09T07:30:10.981Z"
   },
   {
    "duration": 96,
    "start_time": "2021-08-09T07:30:10.998Z"
   },
   {
    "duration": 71,
    "start_time": "2021-08-09T07:30:11.095Z"
   },
   {
    "duration": 3012,
    "start_time": "2021-08-09T07:30:11.168Z"
   },
   {
    "duration": 70,
    "start_time": "2021-08-09T07:30:14.181Z"
   },
   {
    "duration": 2541,
    "start_time": "2021-08-09T07:30:14.253Z"
   },
   {
    "duration": 58,
    "start_time": "2021-08-09T07:30:16.796Z"
   },
   {
    "duration": 146,
    "start_time": "2021-08-09T07:30:16.855Z"
   },
   {
    "duration": 4,
    "start_time": "2021-08-09T07:30:17.003Z"
   },
   {
    "duration": 6,
    "start_time": "2021-08-09T07:30:17.008Z"
   },
   {
    "duration": 116,
    "start_time": "2021-08-09T07:30:17.016Z"
   },
   {
    "duration": 26,
    "start_time": "2021-08-09T07:30:17.133Z"
   },
   {
    "duration": 88,
    "start_time": "2021-08-09T07:30:17.161Z"
   },
   {
    "duration": 29,
    "start_time": "2021-08-09T07:30:17.250Z"
   },
   {
    "duration": 323,
    "start_time": "2021-08-09T07:30:17.280Z"
   },
   {
    "duration": 10,
    "start_time": "2021-08-09T07:30:17.607Z"
   },
   {
    "duration": 283,
    "start_time": "2021-08-09T07:30:17.619Z"
   },
   {
    "duration": 117,
    "start_time": "2021-08-09T07:30:17.904Z"
   },
   {
    "duration": 4368,
    "start_time": "2021-08-09T07:30:18.023Z"
   },
   {
    "duration": 28,
    "start_time": "2021-08-09T07:30:22.393Z"
   },
   {
    "duration": 28,
    "start_time": "2021-08-09T07:30:22.422Z"
   },
   {
    "duration": 53,
    "start_time": "2021-08-09T07:30:22.451Z"
   },
   {
    "duration": 29,
    "start_time": "2021-08-09T07:30:22.505Z"
   },
   {
    "duration": 39,
    "start_time": "2021-08-09T07:30:22.535Z"
   },
   {
    "duration": 29,
    "start_time": "2021-08-09T07:30:22.591Z"
   },
   {
    "duration": 29,
    "start_time": "2021-08-09T07:30:22.622Z"
   },
   {
    "duration": 67,
    "start_time": "2021-08-09T07:30:22.653Z"
   },
   {
    "duration": 63785,
    "start_time": "2021-08-09T07:30:22.721Z"
   },
   {
    "duration": 19,
    "start_time": "2021-08-09T07:31:26.509Z"
   },
   {
    "duration": 88,
    "start_time": "2021-08-09T07:31:26.530Z"
   },
   {
    "duration": 171,
    "start_time": "2021-08-09T07:31:26.620Z"
   },
   {
    "duration": 177,
    "start_time": "2021-08-09T07:31:26.793Z"
   },
   {
    "duration": 514,
    "start_time": "2021-08-09T07:31:26.972Z"
   },
   {
    "duration": 13,
    "start_time": "2021-08-09T07:31:27.491Z"
   },
   {
    "duration": 60,
    "start_time": "2021-08-09T07:31:27.505Z"
   },
   {
    "duration": 5,
    "start_time": "2021-08-09T07:31:27.566Z"
   },
   {
    "duration": 19,
    "start_time": "2021-08-09T07:31:27.572Z"
   },
   {
    "duration": 21,
    "start_time": "2021-08-09T07:31:27.593Z"
   },
   {
    "duration": 11,
    "start_time": "2021-08-09T07:31:27.615Z"
   },
   {
    "duration": 6,
    "start_time": "2021-08-09T07:31:27.627Z"
   },
   {
    "duration": 1114,
    "start_time": "2021-08-09T07:31:27.635Z"
   },
   {
    "duration": 12,
    "start_time": "2021-08-09T07:31:28.750Z"
   },
   {
    "duration": 41,
    "start_time": "2021-08-09T07:31:28.764Z"
   },
   {
    "duration": 59,
    "start_time": "2021-08-09T07:31:28.807Z"
   },
   {
    "duration": 72,
    "start_time": "2021-08-09T07:31:28.868Z"
   },
   {
    "duration": 4,
    "start_time": "2021-08-09T07:31:28.942Z"
   },
   {
    "duration": 2805243,
    "start_time": "2021-08-09T07:31:28.948Z"
   },
   {
    "duration": 10,
    "start_time": "2021-08-09T08:18:14.193Z"
   },
   {
    "duration": 39,
    "start_time": "2021-08-09T08:18:14.205Z"
   },
   {
    "duration": 3,
    "start_time": "2021-08-09T08:18:14.246Z"
   },
   {
    "duration": 157889,
    "start_time": "2021-08-09T08:18:14.250Z"
   },
   {
    "duration": 8,
    "start_time": "2021-08-09T08:20:52.141Z"
   },
   {
    "duration": 5,
    "start_time": "2021-08-09T08:20:52.150Z"
   },
   {
    "duration": 3,
    "start_time": "2021-08-09T08:32:33.960Z"
   },
   {
    "duration": 8609,
    "start_time": "2021-08-09T08:36:35.757Z"
   },
   {
    "duration": 829,
    "start_time": "2021-08-09T08:36:44.368Z"
   },
   {
    "duration": 28,
    "start_time": "2021-08-09T08:36:45.199Z"
   },
   {
    "duration": 3,
    "start_time": "2021-08-09T08:36:45.228Z"
   },
   {
    "duration": 7,
    "start_time": "2021-08-09T08:36:45.232Z"
   },
   {
    "duration": 1268,
    "start_time": "2021-08-09T08:36:45.241Z"
   },
   {
    "duration": 282,
    "start_time": "2021-08-09T08:36:46.511Z"
   },
   {
    "duration": 11,
    "start_time": "2021-08-09T08:36:46.796Z"
   },
   {
    "duration": 97,
    "start_time": "2021-08-09T08:36:46.809Z"
   },
   {
    "duration": 83,
    "start_time": "2021-08-09T08:36:46.908Z"
   },
   {
    "duration": 3085,
    "start_time": "2021-08-09T08:36:46.993Z"
   },
   {
    "duration": 66,
    "start_time": "2021-08-09T08:36:50.080Z"
   },
   {
    "duration": 2629,
    "start_time": "2021-08-09T08:36:50.148Z"
   },
   {
    "duration": 65,
    "start_time": "2021-08-09T08:36:52.778Z"
   },
   {
    "duration": 140,
    "start_time": "2021-08-09T08:36:52.845Z"
   },
   {
    "duration": 4,
    "start_time": "2021-08-09T08:36:52.986Z"
   },
   {
    "duration": 5,
    "start_time": "2021-08-09T08:36:52.992Z"
   },
   {
    "duration": 116,
    "start_time": "2021-08-09T08:36:52.999Z"
   },
   {
    "duration": 25,
    "start_time": "2021-08-09T08:36:53.117Z"
   },
   {
    "duration": 82,
    "start_time": "2021-08-09T08:36:53.144Z"
   },
   {
    "duration": 28,
    "start_time": "2021-08-09T08:36:53.228Z"
   },
   {
    "duration": 330,
    "start_time": "2021-08-09T08:36:53.257Z"
   },
   {
    "duration": 11,
    "start_time": "2021-08-09T08:36:53.591Z"
   },
   {
    "duration": 283,
    "start_time": "2021-08-09T08:36:53.604Z"
   },
   {
    "duration": 119,
    "start_time": "2021-08-09T08:36:53.891Z"
   },
   {
    "duration": 4379,
    "start_time": "2021-08-09T08:36:54.012Z"
   },
   {
    "duration": 28,
    "start_time": "2021-08-09T08:36:58.393Z"
   },
   {
    "duration": 28,
    "start_time": "2021-08-09T08:36:58.422Z"
   },
   {
    "duration": 51,
    "start_time": "2021-08-09T08:36:58.451Z"
   },
   {
    "duration": 28,
    "start_time": "2021-08-09T08:36:58.504Z"
   },
   {
    "duration": 41,
    "start_time": "2021-08-09T08:36:58.534Z"
   },
   {
    "duration": 28,
    "start_time": "2021-08-09T08:36:58.592Z"
   },
   {
    "duration": 29,
    "start_time": "2021-08-09T08:36:58.622Z"
   },
   {
    "duration": 66,
    "start_time": "2021-08-09T08:36:58.653Z"
   },
   {
    "duration": 59715,
    "start_time": "2021-08-09T08:36:58.721Z"
   },
   {
    "duration": 19,
    "start_time": "2021-08-09T08:37:58.438Z"
   },
   {
    "duration": 82,
    "start_time": "2021-08-09T08:37:58.458Z"
   },
   {
    "duration": 173,
    "start_time": "2021-08-09T08:37:58.542Z"
   },
   {
    "duration": 181,
    "start_time": "2021-08-09T08:37:58.717Z"
   },
   {
    "duration": 557,
    "start_time": "2021-08-09T08:37:58.900Z"
   },
   {
    "duration": 15,
    "start_time": "2021-08-09T08:37:59.458Z"
   },
   {
    "duration": 69,
    "start_time": "2021-08-09T08:37:59.475Z"
   },
   {
    "duration": 4,
    "start_time": "2021-08-09T08:37:59.546Z"
   },
   {
    "duration": 25,
    "start_time": "2021-08-09T08:37:59.552Z"
   },
   {
    "duration": 10,
    "start_time": "2021-08-09T08:37:59.591Z"
   },
   {
    "duration": 1216,
    "start_time": "2021-08-09T08:37:59.603Z"
   },
   {
    "duration": 12,
    "start_time": "2021-08-09T08:38:00.821Z"
   },
   {
    "duration": 24,
    "start_time": "2021-08-09T08:38:00.834Z"
   },
   {
    "duration": 81,
    "start_time": "2021-08-09T08:38:00.859Z"
   },
   {
    "duration": 88,
    "start_time": "2021-08-09T08:38:00.941Z"
   },
   {
    "duration": 4,
    "start_time": "2021-08-09T08:38:01.031Z"
   },
   {
    "duration": 752387,
    "start_time": "2021-08-09T08:38:01.037Z"
   },
   {
    "duration": 10,
    "start_time": "2021-08-09T08:50:33.426Z"
   },
   {
    "duration": 34,
    "start_time": "2021-08-09T08:50:33.438Z"
   },
   {
    "duration": 18,
    "start_time": "2021-08-09T08:50:33.474Z"
   },
   {
    "duration": 152413,
    "start_time": "2021-08-09T08:50:33.494Z"
   },
   {
    "duration": 8,
    "start_time": "2021-08-09T08:53:05.909Z"
   },
   {
    "duration": 8,
    "start_time": "2021-08-09T08:53:05.918Z"
   },
   {
    "duration": 19184,
    "start_time": "2021-08-09T09:15:26.308Z"
   },
   {
    "duration": 10367,
    "start_time": "2021-08-09T09:16:23.738Z"
   },
   {
    "duration": 16561,
    "start_time": "2021-08-09T09:16:47.042Z"
   },
   {
    "duration": 10521,
    "start_time": "2021-08-09T09:19:50.480Z"
   },
   {
    "duration": 14796,
    "start_time": "2021-08-09T09:20:12.815Z"
   },
   {
    "duration": 15516,
    "start_time": "2021-08-09T09:26:14.590Z"
   },
   {
    "duration": 25140,
    "start_time": "2021-08-09T09:30:51.367Z"
   },
   {
    "duration": 17976,
    "start_time": "2021-08-09T09:31:21.735Z"
   },
   {
    "duration": 14464,
    "start_time": "2021-08-09T09:31:55.647Z"
   },
   {
    "duration": 22069,
    "start_time": "2021-08-09T09:37:17.939Z"
   },
   {
    "duration": 10975,
    "start_time": "2021-08-09T09:43:04.430Z"
   },
   {
    "duration": 14144,
    "start_time": "2021-08-09T09:43:48.854Z"
   },
   {
    "duration": 12546,
    "start_time": "2021-08-09T09:44:11.758Z"
   },
   {
    "duration": 9769,
    "start_time": "2021-08-09T09:44:30.532Z"
   },
   {
    "duration": 7143,
    "start_time": "2021-08-09T09:44:43.861Z"
   },
   {
    "duration": 7126,
    "start_time": "2021-08-09T09:44:56.381Z"
   },
   {
    "duration": 5113,
    "start_time": "2021-08-09T09:57:40.230Z"
   },
   {
    "duration": 697,
    "start_time": "2021-08-09T09:57:45.345Z"
   },
   {
    "duration": 22,
    "start_time": "2021-08-09T09:57:46.044Z"
   },
   {
    "duration": 2,
    "start_time": "2021-08-09T09:57:46.068Z"
   },
   {
    "duration": 6,
    "start_time": "2021-08-09T09:57:46.071Z"
   },
   {
    "duration": 1367,
    "start_time": "2021-08-09T09:57:46.079Z"
   },
   {
    "duration": 215,
    "start_time": "2021-08-09T09:57:47.448Z"
   },
   {
    "duration": 11,
    "start_time": "2021-08-09T09:57:47.665Z"
   },
   {
    "duration": 94,
    "start_time": "2021-08-09T09:57:47.678Z"
   },
   {
    "duration": 71,
    "start_time": "2021-08-09T09:57:47.773Z"
   },
   {
    "duration": 2876,
    "start_time": "2021-08-09T09:57:47.846Z"
   },
   {
    "duration": 47,
    "start_time": "2021-08-09T09:57:50.723Z"
   },
   {
    "duration": 2491,
    "start_time": "2021-08-09T09:57:50.772Z"
   },
   {
    "duration": 58,
    "start_time": "2021-08-09T09:57:53.265Z"
   },
   {
    "duration": 140,
    "start_time": "2021-08-09T09:57:53.325Z"
   },
   {
    "duration": 3,
    "start_time": "2021-08-09T09:57:53.467Z"
   },
   {
    "duration": 7,
    "start_time": "2021-08-09T09:57:53.472Z"
   },
   {
    "duration": 104,
    "start_time": "2021-08-09T09:57:53.480Z"
   },
   {
    "duration": 35,
    "start_time": "2021-08-09T09:57:53.585Z"
   },
   {
    "duration": 87,
    "start_time": "2021-08-09T09:57:53.622Z"
   },
   {
    "duration": 28,
    "start_time": "2021-08-09T09:57:53.710Z"
   },
   {
    "duration": 243,
    "start_time": "2021-08-09T09:57:53.740Z"
   },
   {
    "duration": 11,
    "start_time": "2021-08-09T09:57:53.986Z"
   },
   {
    "duration": 271,
    "start_time": "2021-08-09T09:57:53.999Z"
   },
   {
    "duration": 119,
    "start_time": "2021-08-09T09:57:54.272Z"
   },
   {
    "duration": 4131,
    "start_time": "2021-08-09T09:57:54.393Z"
   },
   {
    "duration": 28,
    "start_time": "2021-08-09T09:57:58.525Z"
   },
   {
    "duration": 41,
    "start_time": "2021-08-09T09:57:58.554Z"
   },
   {
    "duration": 31,
    "start_time": "2021-08-09T09:57:58.597Z"
   },
   {
    "duration": 28,
    "start_time": "2021-08-09T09:57:58.629Z"
   },
   {
    "duration": 57,
    "start_time": "2021-08-09T09:57:58.659Z"
   },
   {
    "duration": 29,
    "start_time": "2021-08-09T09:57:58.718Z"
   },
   {
    "duration": 45,
    "start_time": "2021-08-09T09:57:58.748Z"
   },
   {
    "duration": 50,
    "start_time": "2021-08-09T09:57:58.794Z"
   },
   {
    "duration": 62030,
    "start_time": "2021-08-09T09:57:58.846Z"
   },
   {
    "duration": 23,
    "start_time": "2021-08-09T09:59:00.878Z"
   },
   {
    "duration": 71,
    "start_time": "2021-08-09T09:59:00.902Z"
   },
   {
    "duration": 183,
    "start_time": "2021-08-09T09:59:00.975Z"
   },
   {
    "duration": 193,
    "start_time": "2021-08-09T09:59:01.159Z"
   },
   {
    "duration": 548,
    "start_time": "2021-08-09T09:59:01.353Z"
   },
   {
    "duration": 14,
    "start_time": "2021-08-09T09:59:01.902Z"
   },
   {
    "duration": 81,
    "start_time": "2021-08-09T09:59:01.918Z"
   },
   {
    "duration": 5,
    "start_time": "2021-08-09T09:59:02.001Z"
   },
   {
    "duration": 26,
    "start_time": "2021-08-09T09:59:02.007Z"
   },
   {
    "duration": 12,
    "start_time": "2021-08-09T09:59:02.035Z"
   },
   {
    "duration": 1118,
    "start_time": "2021-08-09T09:59:02.049Z"
   },
   {
    "duration": 12,
    "start_time": "2021-08-09T09:59:03.169Z"
   },
   {
    "duration": 26,
    "start_time": "2021-08-09T09:59:03.192Z"
   },
   {
    "duration": 71,
    "start_time": "2021-08-09T09:59:03.220Z"
   },
   {
    "duration": 64,
    "start_time": "2021-08-09T09:59:03.293Z"
   },
   {
    "duration": 366,
    "start_time": "2021-08-09T09:59:03.359Z"
   },
   {
    "duration": 2053,
    "start_time": "2021-08-09T09:59:01.674Z"
   },
   {
    "duration": 7,
    "start_time": "2021-08-09T10:01:01.954Z"
   },
   {
    "duration": 757153,
    "start_time": "2021-08-09T10:01:11.281Z"
   },
   {
    "duration": 2068,
    "start_time": "2021-08-09T10:13:46.368Z"
   },
   {
    "duration": 7,
    "start_time": "2021-08-09T10:17:42.621Z"
   },
   {
    "duration": 1039240,
    "start_time": "2021-08-09T10:17:44.421Z"
   },
   {
    "duration": 2019,
    "start_time": "2021-08-09T10:35:01.645Z"
   },
   {
    "duration": 4,
    "start_time": "2021-08-09T10:37:06.574Z"
   },
   {
    "duration": 155553,
    "start_time": "2021-08-09T10:37:07.943Z"
   },
   {
    "duration": 11,
    "start_time": "2021-08-09T10:45:05.327Z"
   },
   {
    "duration": 3,
    "start_time": "2021-08-09T10:45:42.030Z"
   },
   {
    "duration": 225001,
    "start_time": "2021-08-09T10:45:42.694Z"
   },
   {
    "duration": 12,
    "start_time": "2021-08-09T10:49:27.697Z"
   },
   {
    "duration": 4,
    "start_time": "2021-08-09T10:51:27.091Z"
   },
   {
    "duration": 924594,
    "start_time": "2021-08-09T10:51:27.802Z"
   },
   {
    "duration": 11,
    "start_time": "2021-08-09T11:06:52.398Z"
   },
   {
    "duration": 4761,
    "start_time": "2021-08-09T11:17:48.328Z"
   },
   {
    "duration": 9,
    "start_time": "2021-08-09T11:17:58.471Z"
   },
   {
    "duration": 12,
    "start_time": "2021-08-09T11:18:17.070Z"
   },
   {
    "duration": 4,
    "start_time": "2021-08-09T11:18:42.582Z"
   },
   {
    "duration": 480922,
    "start_time": "2021-08-09T11:18:43.774Z"
   },
   {
    "duration": 11,
    "start_time": "2021-08-09T11:26:44.698Z"
   },
   {
    "duration": 4971,
    "start_time": "2021-08-09T11:34:23.926Z"
   },
   {
    "duration": 673,
    "start_time": "2021-08-09T11:34:28.900Z"
   },
   {
    "duration": 27,
    "start_time": "2021-08-09T11:34:29.575Z"
   },
   {
    "duration": 2,
    "start_time": "2021-08-09T11:34:29.604Z"
   },
   {
    "duration": 9,
    "start_time": "2021-08-09T11:34:29.608Z"
   },
   {
    "duration": 1300,
    "start_time": "2021-08-09T11:34:29.619Z"
   },
   {
    "duration": 234,
    "start_time": "2021-08-09T11:34:30.921Z"
   },
   {
    "duration": 13,
    "start_time": "2021-08-09T11:34:31.157Z"
   },
   {
    "duration": 109,
    "start_time": "2021-08-09T11:34:31.173Z"
   },
   {
    "duration": 69,
    "start_time": "2021-08-09T11:34:31.284Z"
   },
   {
    "duration": 3230,
    "start_time": "2021-08-09T11:34:31.355Z"
   },
   {
    "duration": 61,
    "start_time": "2021-08-09T11:34:34.587Z"
   },
   {
    "duration": 2592,
    "start_time": "2021-08-09T11:34:34.650Z"
   },
   {
    "duration": 59,
    "start_time": "2021-08-09T11:34:37.243Z"
   },
   {
    "duration": 135,
    "start_time": "2021-08-09T11:34:37.303Z"
   },
   {
    "duration": 4,
    "start_time": "2021-08-09T11:34:37.440Z"
   },
   {
    "duration": 8,
    "start_time": "2021-08-09T11:34:37.445Z"
   },
   {
    "duration": 106,
    "start_time": "2021-08-09T11:34:37.454Z"
   },
   {
    "duration": 35,
    "start_time": "2021-08-09T11:34:37.562Z"
   },
   {
    "duration": 75,
    "start_time": "2021-08-09T11:34:37.599Z"
   },
   {
    "duration": 36,
    "start_time": "2021-08-09T11:34:37.676Z"
   },
   {
    "duration": 347,
    "start_time": "2021-08-09T11:34:37.714Z"
   },
   {
    "duration": 11,
    "start_time": "2021-08-09T11:34:38.064Z"
   },
   {
    "duration": 275,
    "start_time": "2021-08-09T11:34:38.077Z"
   },
   {
    "duration": 116,
    "start_time": "2021-08-09T11:34:38.354Z"
   },
   {
    "duration": 4704,
    "start_time": "2021-08-09T11:34:38.472Z"
   },
   {
    "duration": 34,
    "start_time": "2021-08-09T11:34:43.178Z"
   },
   {
    "duration": 29,
    "start_time": "2021-08-09T11:34:43.214Z"
   },
   {
    "duration": 49,
    "start_time": "2021-08-09T11:34:43.244Z"
   },
   {
    "duration": 28,
    "start_time": "2021-08-09T11:34:43.295Z"
   },
   {
    "duration": 41,
    "start_time": "2021-08-09T11:34:43.325Z"
   },
   {
    "duration": 46,
    "start_time": "2021-08-09T11:34:43.368Z"
   },
   {
    "duration": 31,
    "start_time": "2021-08-09T11:34:43.416Z"
   },
   {
    "duration": 73,
    "start_time": "2021-08-09T11:34:43.449Z"
   },
   {
    "duration": 61228,
    "start_time": "2021-08-09T11:34:43.524Z"
   },
   {
    "duration": 19,
    "start_time": "2021-08-09T11:35:44.754Z"
   },
   {
    "duration": 84,
    "start_time": "2021-08-09T11:35:44.774Z"
   },
   {
    "duration": 173,
    "start_time": "2021-08-09T11:35:44.859Z"
   },
   {
    "duration": 288,
    "start_time": "2021-08-09T11:35:45.034Z"
   },
   {
    "duration": 531,
    "start_time": "2021-08-09T11:35:45.323Z"
   },
   {
    "duration": 13,
    "start_time": "2021-08-09T11:35:45.855Z"
   },
   {
    "duration": 69,
    "start_time": "2021-08-09T11:35:45.869Z"
   },
   {
    "duration": 4,
    "start_time": "2021-08-09T11:35:45.940Z"
   },
   {
    "duration": 25,
    "start_time": "2021-08-09T11:35:45.945Z"
   },
   {
    "duration": 23,
    "start_time": "2021-08-09T11:35:45.971Z"
   },
   {
    "duration": 1174,
    "start_time": "2021-08-09T11:35:45.996Z"
   },
   {
    "duration": 11,
    "start_time": "2021-08-09T11:35:47.172Z"
   },
   {
    "duration": 21,
    "start_time": "2021-08-09T11:35:47.192Z"
   },
   {
    "duration": 61,
    "start_time": "2021-08-09T11:35:47.215Z"
   },
   {
    "duration": 77,
    "start_time": "2021-08-09T11:35:47.278Z"
   },
   {
    "duration": 6,
    "start_time": "2021-08-09T11:35:47.356Z"
   },
   {
    "duration": 899839,
    "start_time": "2021-08-09T11:35:47.364Z"
   },
   {
    "duration": 12,
    "start_time": "2021-08-09T11:50:47.204Z"
   },
   {
    "duration": 9,
    "start_time": "2021-08-09T11:50:47.293Z"
   },
   {
    "duration": 27,
    "start_time": "2021-08-09T11:54:24.852Z"
   },
   {
    "duration": 4,
    "start_time": "2021-08-09T11:54:26.196Z"
   },
   {
    "duration": 169301,
    "start_time": "2021-08-09T11:54:27.698Z"
   },
   {
    "duration": 9,
    "start_time": "2021-08-09T11:57:17.001Z"
   },
   {
    "duration": 6491,
    "start_time": "2021-08-09T12:53:55.059Z"
   },
   {
    "duration": 755,
    "start_time": "2021-08-09T12:54:01.552Z"
   },
   {
    "duration": 31,
    "start_time": "2021-08-09T12:54:02.309Z"
   },
   {
    "duration": 3,
    "start_time": "2021-08-09T12:54:02.342Z"
   },
   {
    "duration": 20,
    "start_time": "2021-08-09T12:54:02.346Z"
   },
   {
    "duration": 1335,
    "start_time": "2021-08-09T12:54:02.368Z"
   },
   {
    "duration": 290,
    "start_time": "2021-08-09T12:54:03.705Z"
   },
   {
    "duration": 12,
    "start_time": "2021-08-09T12:54:03.997Z"
   },
   {
    "duration": 105,
    "start_time": "2021-08-09T12:54:04.011Z"
   },
   {
    "duration": 82,
    "start_time": "2021-08-09T12:54:04.117Z"
   },
   {
    "duration": 3045,
    "start_time": "2021-08-09T12:54:04.201Z"
   },
   {
    "duration": 74,
    "start_time": "2021-08-09T12:54:07.248Z"
   },
   {
    "duration": 2439,
    "start_time": "2021-08-09T12:54:07.324Z"
   },
   {
    "duration": 71,
    "start_time": "2021-08-09T12:54:09.765Z"
   },
   {
    "duration": 137,
    "start_time": "2021-08-09T12:54:09.838Z"
   },
   {
    "duration": 4,
    "start_time": "2021-08-09T12:54:09.977Z"
   },
   {
    "duration": 13,
    "start_time": "2021-08-09T12:54:09.982Z"
   },
   {
    "duration": 106,
    "start_time": "2021-08-09T12:54:09.996Z"
   },
   {
    "duration": 26,
    "start_time": "2021-08-09T12:54:10.104Z"
   },
   {
    "duration": 87,
    "start_time": "2021-08-09T12:54:10.131Z"
   },
   {
    "duration": 29,
    "start_time": "2021-08-09T12:54:10.220Z"
   },
   {
    "duration": 332,
    "start_time": "2021-08-09T12:54:10.251Z"
   },
   {
    "duration": 11,
    "start_time": "2021-08-09T12:54:10.587Z"
   },
   {
    "duration": 281,
    "start_time": "2021-08-09T12:54:10.600Z"
   },
   {
    "duration": 120,
    "start_time": "2021-08-09T12:54:10.883Z"
   },
   {
    "duration": 4342,
    "start_time": "2021-08-09T12:54:11.004Z"
   },
   {
    "duration": 28,
    "start_time": "2021-08-09T12:54:15.348Z"
   },
   {
    "duration": 35,
    "start_time": "2021-08-09T12:54:15.378Z"
   },
   {
    "duration": 31,
    "start_time": "2021-08-09T12:54:15.415Z"
   },
   {
    "duration": 49,
    "start_time": "2021-08-09T12:54:15.448Z"
   },
   {
    "duration": 34,
    "start_time": "2021-08-09T12:54:15.499Z"
   },
   {
    "duration": 28,
    "start_time": "2021-08-09T12:54:15.535Z"
   },
   {
    "duration": 46,
    "start_time": "2021-08-09T12:54:15.564Z"
   },
   {
    "duration": 50,
    "start_time": "2021-08-09T12:54:15.611Z"
   },
   {
    "duration": 59919,
    "start_time": "2021-08-09T12:54:15.663Z"
   },
   {
    "duration": 24,
    "start_time": "2021-08-09T12:55:15.584Z"
   },
   {
    "duration": 70,
    "start_time": "2021-08-09T12:55:15.610Z"
   },
   {
    "duration": 177,
    "start_time": "2021-08-09T12:55:15.692Z"
   },
   {
    "duration": 185,
    "start_time": "2021-08-09T12:55:15.871Z"
   },
   {
    "duration": 533,
    "start_time": "2021-08-09T12:55:16.058Z"
   },
   {
    "duration": 14,
    "start_time": "2021-08-09T12:55:16.593Z"
   },
   {
    "duration": 63,
    "start_time": "2021-08-09T12:55:16.608Z"
   },
   {
    "duration": 4,
    "start_time": "2021-08-09T12:55:16.673Z"
   },
   {
    "duration": 618,
    "start_time": "2021-08-09T12:55:16.679Z"
   },
   {
    "duration": 18,
    "start_time": "2021-08-09T12:55:17.299Z"
   },
   {
    "duration": 11,
    "start_time": "2021-08-09T12:55:17.319Z"
   },
   {
    "duration": 1204,
    "start_time": "2021-08-09T12:55:17.332Z"
   },
   {
    "duration": 12,
    "start_time": "2021-08-09T12:55:18.538Z"
   },
   {
    "duration": 30,
    "start_time": "2021-08-09T12:55:18.552Z"
   },
   {
    "duration": 66,
    "start_time": "2021-08-09T12:55:18.591Z"
   },
   {
    "duration": 88,
    "start_time": "2021-08-09T12:55:18.659Z"
   },
   {
    "duration": 6,
    "start_time": "2021-08-09T12:55:18.749Z"
   },
   {
    "duration": 788575,
    "start_time": "2021-08-09T12:55:18.757Z"
   },
   {
    "duration": 1979,
    "start_time": "2021-08-09T13:08:25.355Z"
   },
   {
    "duration": 1975,
    "start_time": "2021-08-09T13:08:25.360Z"
   },
   {
    "duration": 1972,
    "start_time": "2021-08-09T13:08:25.364Z"
   },
   {
    "duration": 1964,
    "start_time": "2021-08-09T13:08:25.373Z"
   },
   {
    "duration": 1961,
    "start_time": "2021-08-09T13:08:25.377Z"
   },
   {
    "duration": 881,
    "start_time": "2021-08-09T13:08:56.711Z"
   },
   {
    "duration": 7936,
    "start_time": "2021-08-09T13:10:03.137Z"
   },
   {
    "duration": 829,
    "start_time": "2021-08-09T13:10:11.075Z"
   },
   {
    "duration": 26,
    "start_time": "2021-08-09T13:10:11.906Z"
   },
   {
    "duration": 4,
    "start_time": "2021-08-09T13:10:11.934Z"
   },
   {
    "duration": 11,
    "start_time": "2021-08-09T13:10:11.940Z"
   },
   {
    "duration": 1454,
    "start_time": "2021-08-09T13:10:11.953Z"
   },
   {
    "duration": 286,
    "start_time": "2021-08-09T13:10:13.409Z"
   },
   {
    "duration": 13,
    "start_time": "2021-08-09T13:10:13.698Z"
   },
   {
    "duration": 107,
    "start_time": "2021-08-09T13:10:13.713Z"
   },
   {
    "duration": 81,
    "start_time": "2021-08-09T13:10:13.822Z"
   },
   {
    "duration": 3234,
    "start_time": "2021-08-09T13:10:13.904Z"
   },
   {
    "duration": 73,
    "start_time": "2021-08-09T13:10:17.140Z"
   },
   {
    "duration": 2627,
    "start_time": "2021-08-09T13:10:17.215Z"
   },
   {
    "duration": 71,
    "start_time": "2021-08-09T13:10:19.844Z"
   },
   {
    "duration": 140,
    "start_time": "2021-08-09T13:10:19.916Z"
   },
   {
    "duration": 4,
    "start_time": "2021-08-09T13:10:20.057Z"
   },
   {
    "duration": 21,
    "start_time": "2021-08-09T13:10:20.062Z"
   },
   {
    "duration": 99,
    "start_time": "2021-08-09T13:10:20.084Z"
   },
   {
    "duration": 24,
    "start_time": "2021-08-09T13:10:20.184Z"
   },
   {
    "duration": 83,
    "start_time": "2021-08-09T13:10:20.210Z"
   },
   {
    "duration": 29,
    "start_time": "2021-08-09T13:10:20.294Z"
   },
   {
    "duration": 344,
    "start_time": "2021-08-09T13:10:20.324Z"
   },
   {
    "duration": 12,
    "start_time": "2021-08-09T13:10:20.671Z"
   },
   {
    "duration": 298,
    "start_time": "2021-08-09T13:10:20.685Z"
   },
   {
    "duration": 127,
    "start_time": "2021-08-09T13:10:20.985Z"
   },
   {
    "duration": 4413,
    "start_time": "2021-08-09T13:10:21.113Z"
   },
   {
    "duration": 28,
    "start_time": "2021-08-09T13:10:25.528Z"
   },
   {
    "duration": 45,
    "start_time": "2021-08-09T13:10:25.558Z"
   },
   {
    "duration": 33,
    "start_time": "2021-08-09T13:10:25.605Z"
   },
   {
    "duration": 29,
    "start_time": "2021-08-09T13:10:25.640Z"
   },
   {
    "duration": 57,
    "start_time": "2021-08-09T13:10:25.670Z"
   },
   {
    "duration": 29,
    "start_time": "2021-08-09T13:10:25.729Z"
   },
   {
    "duration": 47,
    "start_time": "2021-08-09T13:10:25.760Z"
   },
   {
    "duration": 50,
    "start_time": "2021-08-09T13:10:25.808Z"
   },
   {
    "duration": 61372,
    "start_time": "2021-08-09T13:10:25.859Z"
   },
   {
    "duration": 19,
    "start_time": "2021-08-09T13:11:27.233Z"
   },
   {
    "duration": 87,
    "start_time": "2021-08-09T13:11:27.254Z"
   },
   {
    "duration": 176,
    "start_time": "2021-08-09T13:11:27.342Z"
   },
   {
    "duration": 187,
    "start_time": "2021-08-09T13:11:27.520Z"
   },
   {
    "duration": 545,
    "start_time": "2021-08-09T13:11:27.709Z"
   },
   {
    "duration": 13,
    "start_time": "2021-08-09T13:11:28.256Z"
   },
   {
    "duration": 70,
    "start_time": "2021-08-09T13:11:28.271Z"
   },
   {
    "duration": 4,
    "start_time": "2021-08-09T13:11:28.343Z"
   },
   {
    "duration": 29,
    "start_time": "2021-08-09T13:11:28.349Z"
   },
   {
    "duration": 16,
    "start_time": "2021-08-09T13:11:28.380Z"
   },
   {
    "duration": 1164,
    "start_time": "2021-08-09T13:11:28.398Z"
   },
   {
    "duration": 12,
    "start_time": "2021-08-09T13:11:29.564Z"
   },
   {
    "duration": 42,
    "start_time": "2021-08-09T13:11:29.577Z"
   },
   {
    "duration": 62,
    "start_time": "2021-08-09T13:11:29.621Z"
   },
   {
    "duration": 83,
    "start_time": "2021-08-09T13:11:29.691Z"
   },
   {
    "duration": 15,
    "start_time": "2021-08-09T13:11:29.776Z"
   },
   {
    "duration": 913509,
    "start_time": "2021-08-09T13:11:29.793Z"
   },
   {
    "duration": 12,
    "start_time": "2021-08-09T13:26:43.303Z"
   },
   {
    "duration": 104,
    "start_time": "2021-08-09T13:26:43.316Z"
   },
   {
    "duration": 4,
    "start_time": "2021-08-09T13:26:43.422Z"
   },
   {
    "duration": 179672,
    "start_time": "2021-08-09T13:26:43.427Z"
   },
   {
    "duration": 11,
    "start_time": "2021-08-09T13:29:43.101Z"
   },
   {
    "duration": 18771,
    "start_time": "2021-08-09T17:57:23.044Z"
   },
   {
    "duration": 1142,
    "start_time": "2021-08-09T17:57:41.818Z"
   },
   {
    "duration": 42,
    "start_time": "2021-08-09T17:57:42.963Z"
   },
   {
    "duration": 4,
    "start_time": "2021-08-09T17:57:43.007Z"
   },
   {
    "duration": 21,
    "start_time": "2021-08-09T17:57:43.014Z"
   },
   {
    "duration": 2544,
    "start_time": "2021-08-09T17:57:43.056Z"
   },
   {
    "duration": 467,
    "start_time": "2021-08-09T17:57:45.602Z"
   },
   {
    "duration": 15,
    "start_time": "2021-08-09T17:57:46.073Z"
   },
   {
    "duration": 153,
    "start_time": "2021-08-09T17:57:46.091Z"
   },
   {
    "duration": 118,
    "start_time": "2021-08-09T17:57:46.246Z"
   },
   {
    "duration": 5333,
    "start_time": "2021-08-09T17:57:46.366Z"
   },
   {
    "duration": 117,
    "start_time": "2021-08-09T17:57:51.701Z"
   },
   {
    "duration": 4259,
    "start_time": "2021-08-09T17:57:51.821Z"
   },
   {
    "duration": 105,
    "start_time": "2021-08-09T17:57:56.083Z"
   },
   {
    "duration": 223,
    "start_time": "2021-08-09T17:57:56.190Z"
   },
   {
    "duration": 5,
    "start_time": "2021-08-09T17:57:56.416Z"
   },
   {
    "duration": 30,
    "start_time": "2021-08-09T17:57:56.423Z"
   },
   {
    "duration": 162,
    "start_time": "2021-08-09T17:57:56.456Z"
   },
   {
    "duration": 41,
    "start_time": "2021-08-09T17:57:56.620Z"
   },
   {
    "duration": 113,
    "start_time": "2021-08-09T17:57:56.664Z"
   },
   {
    "duration": 42,
    "start_time": "2021-08-09T17:57:56.780Z"
   },
   {
    "duration": 529,
    "start_time": "2021-08-09T17:57:56.825Z"
   },
   {
    "duration": 21,
    "start_time": "2021-08-09T17:57:57.360Z"
   },
   {
    "duration": 513,
    "start_time": "2021-08-09T17:57:57.385Z"
   },
   {
    "duration": 200,
    "start_time": "2021-08-09T17:57:57.901Z"
   },
   {
    "duration": 6384,
    "start_time": "2021-08-09T17:57:58.103Z"
   },
   {
    "duration": 43,
    "start_time": "2021-08-09T17:58:04.489Z"
   },
   {
    "duration": 55,
    "start_time": "2021-08-09T17:58:04.534Z"
   },
   {
    "duration": 77,
    "start_time": "2021-08-09T17:58:04.591Z"
   },
   {
    "duration": 43,
    "start_time": "2021-08-09T17:58:04.671Z"
   },
   {
    "duration": 75,
    "start_time": "2021-08-09T17:58:04.716Z"
   },
   {
    "duration": 43,
    "start_time": "2021-08-09T17:58:04.794Z"
   },
   {
    "duration": 57,
    "start_time": "2021-08-09T17:58:04.839Z"
   },
   {
    "duration": 95,
    "start_time": "2021-08-09T17:58:04.898Z"
   },
   {
    "duration": 113480,
    "start_time": "2021-08-09T17:58:04.996Z"
   },
   {
    "duration": 25,
    "start_time": "2021-08-09T17:59:58.479Z"
   },
   {
    "duration": 118,
    "start_time": "2021-08-09T17:59:58.506Z"
   },
   {
    "duration": 248,
    "start_time": "2021-08-09T17:59:58.627Z"
   },
   {
    "duration": 373,
    "start_time": "2021-08-09T17:59:58.877Z"
   },
   {
    "duration": 838,
    "start_time": "2021-08-09T17:59:59.255Z"
   },
   {
    "duration": 22,
    "start_time": "2021-08-09T18:00:00.095Z"
   },
   {
    "duration": 115,
    "start_time": "2021-08-09T18:00:00.119Z"
   },
   {
    "duration": 6,
    "start_time": "2021-08-09T18:00:00.236Z"
   },
   {
    "duration": 50,
    "start_time": "2021-08-09T18:00:00.244Z"
   },
   {
    "duration": 4,
    "start_time": "2021-08-09T18:04:16.121Z"
   },
   {
    "duration": 34,
    "start_time": "2021-08-09T18:04:23.130Z"
   },
   {
    "duration": 4,
    "start_time": "2021-08-09T18:04:34.624Z"
   },
   {
    "duration": 576,
    "start_time": "2021-08-09T18:21:28.708Z"
   },
   {
    "duration": 1511,
    "start_time": "2021-08-09T18:21:38.963Z"
   },
   {
    "duration": 61,
    "start_time": "2021-08-09T18:21:44.275Z"
   },
   {
    "duration": 7,
    "start_time": "2021-08-09T18:21:59.867Z"
   },
   {
    "duration": 15,
    "start_time": "2021-08-09T18:23:11.658Z"
   },
   {
    "duration": 127,
    "start_time": "2021-08-09T18:23:16.057Z"
   },
   {
    "duration": 516,
    "start_time": "2021-08-09T18:23:30.807Z"
   },
   {
    "duration": 250,
    "start_time": "2021-08-09T18:31:43.060Z"
   },
   {
    "duration": 5,
    "start_time": "2021-08-09T18:31:50.348Z"
   },
   {
    "duration": 22993,
    "start_time": "2021-08-09T18:31:54.571Z"
   },
   {
    "duration": 9312,
    "start_time": "2021-08-09T18:32:47.025Z"
   },
   {
    "duration": 1116,
    "start_time": "2021-08-09T18:32:56.340Z"
   },
   {
    "duration": 40,
    "start_time": "2021-08-09T18:32:57.459Z"
   },
   {
    "duration": 4,
    "start_time": "2021-08-09T18:32:57.502Z"
   },
   {
    "duration": 11,
    "start_time": "2021-08-09T18:32:57.508Z"
   },
   {
    "duration": 2538,
    "start_time": "2021-08-09T18:32:57.521Z"
   },
   {
    "duration": 447,
    "start_time": "2021-08-09T18:33:00.062Z"
   },
   {
    "duration": 15,
    "start_time": "2021-08-09T18:33:00.514Z"
   },
   {
    "duration": 134,
    "start_time": "2021-08-09T18:33:00.554Z"
   },
   {
    "duration": 125,
    "start_time": "2021-08-09T18:33:00.690Z"
   },
   {
    "duration": 4850,
    "start_time": "2021-08-09T18:33:00.817Z"
   },
   {
    "duration": 115,
    "start_time": "2021-08-09T18:33:05.669Z"
   },
   {
    "duration": 3996,
    "start_time": "2021-08-09T18:33:05.787Z"
   },
   {
    "duration": 105,
    "start_time": "2021-08-09T18:33:09.786Z"
   },
   {
    "duration": 224,
    "start_time": "2021-08-09T18:33:09.893Z"
   },
   {
    "duration": 5,
    "start_time": "2021-08-09T18:33:10.120Z"
   },
   {
    "duration": 25,
    "start_time": "2021-08-09T18:33:10.128Z"
   },
   {
    "duration": 150,
    "start_time": "2021-08-09T18:33:10.156Z"
   },
   {
    "duration": 49,
    "start_time": "2021-08-09T18:33:10.308Z"
   },
   {
    "duration": 113,
    "start_time": "2021-08-09T18:33:10.360Z"
   },
   {
    "duration": 42,
    "start_time": "2021-08-09T18:33:10.476Z"
   },
   {
    "duration": 521,
    "start_time": "2021-08-09T18:33:10.521Z"
   },
   {
    "duration": 16,
    "start_time": "2021-08-09T18:33:11.056Z"
   },
   {
    "duration": 454,
    "start_time": "2021-08-09T18:33:11.076Z"
   },
   {
    "duration": 193,
    "start_time": "2021-08-09T18:33:11.532Z"
   },
   {
    "duration": 6690,
    "start_time": "2021-08-09T18:33:11.727Z"
   },
   {
    "duration": 61,
    "start_time": "2021-08-09T18:33:18.420Z"
   },
   {
    "duration": 44,
    "start_time": "2021-08-09T18:33:18.484Z"
   },
   {
    "duration": 71,
    "start_time": "2021-08-09T18:33:18.531Z"
   },
   {
    "duration": 60,
    "start_time": "2021-08-09T18:33:18.605Z"
   },
   {
    "duration": 100,
    "start_time": "2021-08-09T18:33:18.667Z"
   },
   {
    "duration": 44,
    "start_time": "2021-08-09T18:33:18.769Z"
   },
   {
    "duration": 66,
    "start_time": "2021-08-09T18:33:18.815Z"
   },
   {
    "duration": 102,
    "start_time": "2021-08-09T18:33:18.884Z"
   },
   {
    "duration": 104202,
    "start_time": "2021-08-09T18:33:18.989Z"
   },
   {
    "duration": 26,
    "start_time": "2021-08-09T18:35:03.193Z"
   },
   {
    "duration": 120,
    "start_time": "2021-08-09T18:35:03.221Z"
   },
   {
    "duration": 270,
    "start_time": "2021-08-09T18:35:03.343Z"
   },
   {
    "duration": 350,
    "start_time": "2021-08-09T18:35:03.616Z"
   },
   {
    "duration": 888,
    "start_time": "2021-08-09T18:35:03.969Z"
   },
   {
    "duration": 23,
    "start_time": "2021-08-09T18:35:04.859Z"
   },
   {
    "duration": 113,
    "start_time": "2021-08-09T18:35:04.884Z"
   },
   {
    "duration": 6,
    "start_time": "2021-08-09T18:35:05.000Z"
   },
   {
    "duration": 48,
    "start_time": "2021-08-09T18:35:05.009Z"
   },
   {
    "duration": 18,
    "start_time": "2021-08-09T18:35:05.060Z"
   },
   {
    "duration": 13,
    "start_time": "2021-08-09T18:35:05.080Z"
   },
   {
    "duration": 1619,
    "start_time": "2021-08-09T18:35:05.096Z"
   },
   {
    "duration": 19,
    "start_time": "2021-08-09T18:35:06.717Z"
   },
   {
    "duration": 74,
    "start_time": "2021-08-09T18:35:06.739Z"
   },
   {
    "duration": 7,
    "start_time": "2021-08-09T18:35:06.815Z"
   },
   {
    "duration": 36,
    "start_time": "2021-08-09T18:35:06.824Z"
   },
   {
    "duration": 148,
    "start_time": "2021-08-09T18:35:06.862Z"
   },
   {
    "duration": 409,
    "start_time": "2021-08-09T18:35:07.012Z"
   },
   {
    "duration": 10,
    "start_time": "2021-08-09T18:35:07.423Z"
   },
   {
    "duration": 1310329,
    "start_time": "2021-08-09T18:35:07.435Z"
   },
   {
    "duration": 18,
    "start_time": "2021-08-09T18:56:57.766Z"
   },
   {
    "duration": 410,
    "start_time": "2021-08-09T18:56:57.786Z"
   },
   {
    "duration": 5,
    "start_time": "2021-08-09T18:56:58.199Z"
   },
   {
    "duration": 242961,
    "start_time": "2021-08-09T18:56:58.206Z"
   },
   {
    "duration": 16,
    "start_time": "2021-08-09T19:01:01.170Z"
   },
   {
    "duration": 25382,
    "start_time": "2021-08-09T19:01:01.188Z"
   },
   {
    "duration": 16,
    "start_time": "2021-08-09T19:01:26.572Z"
   },
   {
    "duration": 24769,
    "start_time": "2021-08-09T19:06:16.214Z"
   },
   {
    "duration": 81,
    "start_time": "2021-08-09T19:06:40.985Z"
   },
   {
    "duration": 89,
    "start_time": "2021-08-09T19:10:07.756Z"
   },
   {
    "duration": 86,
    "start_time": "2021-08-09T19:10:21.899Z"
   },
   {
    "duration": 7,
    "start_time": "2021-08-09T19:10:28.211Z"
   },
   {
    "duration": 7,
    "start_time": "2021-08-09T19:10:41.154Z"
   },
   {
    "duration": 85,
    "start_time": "2021-08-09T19:11:42.756Z"
   },
   {
    "duration": 418,
    "start_time": "2021-08-09T19:11:52.410Z"
   },
   {
    "duration": 7,
    "start_time": "2021-08-09T19:12:10.778Z"
   },
   {
    "duration": 7,
    "start_time": "2021-08-09T19:12:18.921Z"
   },
   {
    "duration": 6,
    "start_time": "2021-08-09T19:12:38.609Z"
   },
   {
    "duration": 7,
    "start_time": "2021-08-09T19:12:49.832Z"
   },
   {
    "duration": 6407,
    "start_time": "2021-08-09T19:13:06.400Z"
   },
   {
    "duration": 93,
    "start_time": "2021-08-09T19:13:18.880Z"
   },
   {
    "duration": 7,
    "start_time": "2021-08-09T19:13:26.247Z"
   },
   {
    "duration": 5,
    "start_time": "2021-08-09T19:13:40.544Z"
   },
   {
    "duration": 7,
    "start_time": "2021-08-09T19:13:44.264Z"
   },
   {
    "duration": 11,
    "start_time": "2021-08-09T19:14:43.519Z"
   },
   {
    "duration": 11,
    "start_time": "2021-08-09T19:14:59.311Z"
   },
   {
    "duration": 102,
    "start_time": "2021-08-09T19:15:09.398Z"
   },
   {
    "duration": 14,
    "start_time": "2021-08-09T19:15:16.510Z"
   },
   {
    "duration": 89,
    "start_time": "2021-08-09T19:22:08.761Z"
   },
   {
    "duration": 9432,
    "start_time": "2021-08-09T19:26:24.107Z"
   },
   {
    "duration": 1109,
    "start_time": "2021-08-09T19:26:33.542Z"
   },
   {
    "duration": 43,
    "start_time": "2021-08-09T19:26:34.658Z"
   },
   {
    "duration": 5,
    "start_time": "2021-08-09T19:26:34.703Z"
   },
   {
    "duration": 8,
    "start_time": "2021-08-09T19:26:34.711Z"
   },
   {
    "duration": 2409,
    "start_time": "2021-08-09T19:26:34.721Z"
   },
   {
    "duration": 429,
    "start_time": "2021-08-09T19:26:37.134Z"
   },
   {
    "duration": 15,
    "start_time": "2021-08-09T19:26:37.566Z"
   },
   {
    "duration": 149,
    "start_time": "2021-08-09T19:26:37.584Z"
   },
   {
    "duration": 119,
    "start_time": "2021-08-09T19:26:37.735Z"
   },
   {
    "duration": 5251,
    "start_time": "2021-08-09T19:26:37.857Z"
   },
   {
    "duration": 115,
    "start_time": "2021-08-09T19:26:43.110Z"
   },
   {
    "duration": 3976,
    "start_time": "2021-08-09T19:26:43.228Z"
   },
   {
    "duration": 106,
    "start_time": "2021-08-09T19:26:47.206Z"
   },
   {
    "duration": 211,
    "start_time": "2021-08-09T19:26:47.315Z"
   },
   {
    "duration": 6,
    "start_time": "2021-08-09T19:26:47.529Z"
   },
   {
    "duration": 19,
    "start_time": "2021-08-09T19:26:47.537Z"
   },
   {
    "duration": 160,
    "start_time": "2021-08-09T19:26:47.559Z"
   },
   {
    "duration": 42,
    "start_time": "2021-08-09T19:26:47.722Z"
   },
   {
    "duration": 122,
    "start_time": "2021-08-09T19:26:47.766Z"
   },
   {
    "duration": 43,
    "start_time": "2021-08-09T19:26:47.891Z"
   },
   {
    "duration": 527,
    "start_time": "2021-08-09T19:26:47.955Z"
   },
   {
    "duration": 18,
    "start_time": "2021-08-09T19:26:48.486Z"
   },
   {
    "duration": 482,
    "start_time": "2021-08-09T19:26:48.506Z"
   },
   {
    "duration": 203,
    "start_time": "2021-08-09T19:26:48.990Z"
   },
   {
    "duration": 6785,
    "start_time": "2021-08-09T19:26:49.195Z"
   },
   {
    "duration": 43,
    "start_time": "2021-08-09T19:26:55.982Z"
   },
   {
    "duration": 60,
    "start_time": "2021-08-09T19:26:56.028Z"
   },
   {
    "duration": 66,
    "start_time": "2021-08-09T19:26:56.090Z"
   },
   {
    "duration": 44,
    "start_time": "2021-08-09T19:26:56.158Z"
   },
   {
    "duration": 67,
    "start_time": "2021-08-09T19:26:56.205Z"
   },
   {
    "duration": 42,
    "start_time": "2021-08-09T19:26:56.275Z"
   },
   {
    "duration": 62,
    "start_time": "2021-08-09T19:26:56.320Z"
   },
   {
    "duration": 91,
    "start_time": "2021-08-09T19:26:56.385Z"
   },
   {
    "duration": 105047,
    "start_time": "2021-08-09T19:26:56.479Z"
   },
   {
    "duration": 37,
    "start_time": "2021-08-09T19:28:41.529Z"
   },
   {
    "duration": 108,
    "start_time": "2021-08-09T19:28:41.568Z"
   },
   {
    "duration": 257,
    "start_time": "2021-08-09T19:28:41.679Z"
   },
   {
    "duration": 348,
    "start_time": "2021-08-09T19:28:41.939Z"
   },
   {
    "duration": 846,
    "start_time": "2021-08-09T19:28:42.289Z"
   },
   {
    "duration": 32,
    "start_time": "2021-08-09T19:28:43.137Z"
   },
   {
    "duration": 115,
    "start_time": "2021-08-09T19:28:43.172Z"
   },
   {
    "duration": 9,
    "start_time": "2021-08-09T19:28:43.290Z"
   },
   {
    "duration": 60,
    "start_time": "2021-08-09T19:28:43.302Z"
   },
   {
    "duration": 19,
    "start_time": "2021-08-09T19:28:43.365Z"
   },
   {
    "duration": 6,
    "start_time": "2021-08-09T19:28:43.387Z"
   },
   {
    "duration": 1693,
    "start_time": "2021-08-09T19:28:43.396Z"
   },
   {
    "duration": 19,
    "start_time": "2021-08-09T19:28:45.091Z"
   },
   {
    "duration": 79,
    "start_time": "2021-08-09T19:28:45.112Z"
   },
   {
    "duration": 8,
    "start_time": "2021-08-09T19:28:45.193Z"
   },
   {
    "duration": 17,
    "start_time": "2021-08-09T19:28:45.203Z"
   },
   {
    "duration": 157,
    "start_time": "2021-08-09T19:28:45.223Z"
   },
   {
    "duration": 395,
    "start_time": "2021-08-09T19:28:45.382Z"
   },
   {
    "duration": 10,
    "start_time": "2021-08-09T19:28:45.780Z"
   },
   {
    "duration": 2029065,
    "start_time": "2021-08-09T19:28:45.792Z"
   },
   {
    "duration": 20,
    "start_time": "2021-08-09T20:02:34.860Z"
   },
   {
    "duration": 435,
    "start_time": "2021-08-09T20:02:34.882Z"
   },
   {
    "duration": 7,
    "start_time": "2021-08-09T20:02:35.320Z"
   },
   {
    "duration": 237636,
    "start_time": "2021-08-09T20:02:35.329Z"
   },
   {
    "duration": 14,
    "start_time": "2021-08-09T20:06:32.968Z"
   },
   {
    "duration": 26791,
    "start_time": "2021-08-09T20:06:32.984Z"
   },
   {
    "duration": 88,
    "start_time": "2021-08-09T20:06:59.778Z"
   },
   {
    "duration": 413,
    "start_time": "2021-08-10T09:23:33.682Z"
   },
   {
    "duration": 17493,
    "start_time": "2021-08-10T09:23:51.423Z"
   },
   {
    "duration": 1118,
    "start_time": "2021-08-10T09:24:08.919Z"
   },
   {
    "duration": 45,
    "start_time": "2021-08-10T09:24:10.040Z"
   },
   {
    "duration": 5,
    "start_time": "2021-08-10T09:24:10.102Z"
   },
   {
    "duration": 18,
    "start_time": "2021-08-10T09:24:10.110Z"
   },
   {
    "duration": 2431,
    "start_time": "2021-08-10T09:24:10.130Z"
   },
   {
    "duration": 403,
    "start_time": "2021-08-10T09:24:12.564Z"
   },
   {
    "duration": 30,
    "start_time": "2021-08-10T09:24:12.972Z"
   },
   {
    "duration": 137,
    "start_time": "2021-08-10T09:24:13.006Z"
   },
   {
    "duration": 120,
    "start_time": "2021-08-10T09:24:13.145Z"
   },
   {
    "duration": 4681,
    "start_time": "2021-08-10T09:24:13.268Z"
   },
   {
    "duration": 112,
    "start_time": "2021-08-10T09:24:17.951Z"
   },
   {
    "duration": 3858,
    "start_time": "2021-08-10T09:24:18.066Z"
   },
   {
    "duration": 99,
    "start_time": "2021-08-10T09:24:21.926Z"
   },
   {
    "duration": 220,
    "start_time": "2021-08-10T09:24:22.028Z"
   },
   {
    "duration": 5,
    "start_time": "2021-08-10T09:24:22.250Z"
   },
   {
    "duration": 23,
    "start_time": "2021-08-10T09:24:22.257Z"
   },
   {
    "duration": 155,
    "start_time": "2021-08-10T09:24:22.282Z"
   },
   {
    "duration": 31,
    "start_time": "2021-08-10T09:24:22.440Z"
   },
   {
    "duration": 135,
    "start_time": "2021-08-10T09:24:22.474Z"
   },
   {
    "duration": 44,
    "start_time": "2021-08-10T09:24:22.612Z"
   },
   {
    "duration": 506,
    "start_time": "2021-08-10T09:24:22.659Z"
   },
   {
    "duration": 29,
    "start_time": "2021-08-10T09:24:23.172Z"
   },
   {
    "duration": 441,
    "start_time": "2021-08-10T09:24:23.205Z"
   },
   {
    "duration": 191,
    "start_time": "2021-08-10T09:24:23.649Z"
   },
   {
    "duration": 6295,
    "start_time": "2021-08-10T09:24:23.843Z"
   },
   {
    "duration": 58,
    "start_time": "2021-08-10T09:24:30.141Z"
   },
   {
    "duration": 43,
    "start_time": "2021-08-10T09:24:30.202Z"
   },
   {
    "duration": 75,
    "start_time": "2021-08-10T09:24:30.248Z"
   },
   {
    "duration": 45,
    "start_time": "2021-08-10T09:24:30.327Z"
   },
   {
    "duration": 79,
    "start_time": "2021-08-10T09:24:30.375Z"
   },
   {
    "duration": 60,
    "start_time": "2021-08-10T09:24:30.457Z"
   },
   {
    "duration": 46,
    "start_time": "2021-08-10T09:24:30.520Z"
   },
   {
    "duration": 98,
    "start_time": "2021-08-10T09:24:30.569Z"
   },
   {
    "duration": 102267,
    "start_time": "2021-08-10T09:24:30.670Z"
   },
   {
    "duration": 23,
    "start_time": "2021-08-10T09:26:12.940Z"
   },
   {
    "duration": 126,
    "start_time": "2021-08-10T09:26:12.966Z"
   },
   {
    "duration": 253,
    "start_time": "2021-08-10T09:26:13.095Z"
   },
   {
    "duration": 335,
    "start_time": "2021-08-10T09:26:13.350Z"
   },
   {
    "duration": 830,
    "start_time": "2021-08-10T09:26:13.687Z"
   },
   {
    "duration": 20,
    "start_time": "2021-08-10T09:26:14.520Z"
   },
   {
    "duration": 109,
    "start_time": "2021-08-10T09:26:14.543Z"
   },
   {
    "duration": 7,
    "start_time": "2021-08-10T09:26:14.655Z"
   },
   {
    "duration": 47,
    "start_time": "2021-08-10T09:26:14.665Z"
   },
   {
    "duration": 19,
    "start_time": "2021-08-10T09:26:14.715Z"
   },
   {
    "duration": 4,
    "start_time": "2021-08-10T09:26:14.737Z"
   },
   {
    "duration": 1402,
    "start_time": "2021-08-10T09:26:14.744Z"
   },
   {
    "duration": 18,
    "start_time": "2021-08-10T09:26:16.149Z"
   },
   {
    "duration": 80,
    "start_time": "2021-08-10T09:26:16.170Z"
   },
   {
    "duration": 7,
    "start_time": "2021-08-10T09:26:16.252Z"
   },
   {
    "duration": 19,
    "start_time": "2021-08-10T09:26:16.261Z"
   },
   {
    "duration": 163,
    "start_time": "2021-08-10T09:26:16.283Z"
   },
   {
    "duration": 508,
    "start_time": "2021-08-10T09:26:16.449Z"
   },
   {
    "duration": 10,
    "start_time": "2021-08-10T09:26:16.959Z"
   },
   {
    "duration": 1418,
    "start_time": "2021-08-10T09:26:16.971Z"
   },
   {
    "duration": 3667,
    "start_time": "2021-08-10T09:26:14.725Z"
   },
   {
    "duration": 3664,
    "start_time": "2021-08-10T09:26:14.730Z"
   },
   {
    "duration": 3660,
    "start_time": "2021-08-10T09:26:14.735Z"
   },
   {
    "duration": 3655,
    "start_time": "2021-08-10T09:26:14.741Z"
   },
   {
    "duration": 3650,
    "start_time": "2021-08-10T09:26:14.748Z"
   },
   {
    "duration": 3645,
    "start_time": "2021-08-10T09:26:14.754Z"
   },
   {
    "duration": 3643,
    "start_time": "2021-08-10T09:26:14.758Z"
   },
   {
    "duration": 10567,
    "start_time": "2021-08-10T09:29:50.587Z"
   },
   {
    "duration": 1140,
    "start_time": "2021-08-10T09:30:01.157Z"
   },
   {
    "duration": 42,
    "start_time": "2021-08-10T09:30:02.301Z"
   },
   {
    "duration": 5,
    "start_time": "2021-08-10T09:30:02.345Z"
   },
   {
    "duration": 60,
    "start_time": "2021-08-10T09:30:02.352Z"
   },
   {
    "duration": 2350,
    "start_time": "2021-08-10T09:30:02.414Z"
   },
   {
    "duration": 395,
    "start_time": "2021-08-10T09:30:04.767Z"
   },
   {
    "duration": 15,
    "start_time": "2021-08-10T09:30:05.165Z"
   },
   {
    "duration": 142,
    "start_time": "2021-08-10T09:30:05.184Z"
   },
   {
    "duration": 114,
    "start_time": "2021-08-10T09:30:05.329Z"
   },
   {
    "duration": 4741,
    "start_time": "2021-08-10T09:30:05.445Z"
   },
   {
    "duration": 104,
    "start_time": "2021-08-10T09:30:10.188Z"
   },
   {
    "duration": 3985,
    "start_time": "2021-08-10T09:30:10.300Z"
   },
   {
    "duration": 90,
    "start_time": "2021-08-10T09:30:14.300Z"
   },
   {
    "duration": 216,
    "start_time": "2021-08-10T09:30:14.400Z"
   },
   {
    "duration": 5,
    "start_time": "2021-08-10T09:30:14.619Z"
   },
   {
    "duration": 8,
    "start_time": "2021-08-10T09:30:14.626Z"
   },
   {
    "duration": 187,
    "start_time": "2021-08-10T09:30:14.637Z"
   },
   {
    "duration": 35,
    "start_time": "2021-08-10T09:30:14.827Z"
   },
   {
    "duration": 123,
    "start_time": "2021-08-10T09:30:14.864Z"
   },
   {
    "duration": 52,
    "start_time": "2021-08-10T09:30:14.989Z"
   },
   {
    "duration": 508,
    "start_time": "2021-08-10T09:30:15.043Z"
   },
   {
    "duration": 16,
    "start_time": "2021-08-10T09:30:15.557Z"
   },
   {
    "duration": 466,
    "start_time": "2021-08-10T09:30:15.576Z"
   },
   {
    "duration": 200,
    "start_time": "2021-08-10T09:30:16.045Z"
   },
   {
    "duration": 6484,
    "start_time": "2021-08-10T09:30:16.247Z"
   },
   {
    "duration": 43,
    "start_time": "2021-08-10T09:30:22.734Z"
   },
   {
    "duration": 58,
    "start_time": "2021-08-10T09:30:22.780Z"
   },
   {
    "duration": 69,
    "start_time": "2021-08-10T09:30:22.841Z"
   },
   {
    "duration": 42,
    "start_time": "2021-08-10T09:30:22.912Z"
   },
   {
    "duration": 83,
    "start_time": "2021-08-10T09:30:22.957Z"
   },
   {
    "duration": 58,
    "start_time": "2021-08-10T09:30:23.042Z"
   },
   {
    "duration": 45,
    "start_time": "2021-08-10T09:30:23.102Z"
   },
   {
    "duration": 98,
    "start_time": "2021-08-10T09:30:23.150Z"
   },
   {
    "duration": 106443,
    "start_time": "2021-08-10T09:30:23.251Z"
   },
   {
    "duration": 24,
    "start_time": "2021-08-10T09:32:09.699Z"
   },
   {
    "duration": 118,
    "start_time": "2021-08-10T09:32:09.726Z"
   },
   {
    "duration": 243,
    "start_time": "2021-08-10T09:32:09.846Z"
   },
   {
    "duration": 358,
    "start_time": "2021-08-10T09:32:10.091Z"
   },
   {
    "duration": 854,
    "start_time": "2021-08-10T09:32:10.451Z"
   },
   {
    "duration": 31,
    "start_time": "2021-08-10T09:32:11.308Z"
   },
   {
    "duration": 130,
    "start_time": "2021-08-10T09:32:11.343Z"
   },
   {
    "duration": 7,
    "start_time": "2021-08-10T09:32:11.476Z"
   },
   {
    "duration": 38,
    "start_time": "2021-08-10T09:32:11.500Z"
   },
   {
    "duration": 21,
    "start_time": "2021-08-10T09:32:11.540Z"
   },
   {
    "duration": 7,
    "start_time": "2021-08-10T09:32:11.563Z"
   },
   {
    "duration": 1573,
    "start_time": "2021-08-10T09:32:11.573Z"
   },
   {
    "duration": 19,
    "start_time": "2021-08-10T09:32:13.148Z"
   },
   {
    "duration": 79,
    "start_time": "2021-08-10T09:32:13.169Z"
   },
   {
    "duration": 7,
    "start_time": "2021-08-10T09:32:13.250Z"
   },
   {
    "duration": 16,
    "start_time": "2021-08-10T09:32:13.259Z"
   },
   {
    "duration": 162,
    "start_time": "2021-08-10T09:32:13.278Z"
   },
   {
    "duration": 376,
    "start_time": "2021-08-10T09:32:13.442Z"
   },
   {
    "duration": 9,
    "start_time": "2021-08-10T09:32:13.821Z"
   },
   {
    "duration": 1307873,
    "start_time": "2021-08-10T09:32:13.833Z"
   },
   {
    "duration": 19,
    "start_time": "2021-08-10T09:54:01.709Z"
   },
   {
    "duration": 409,
    "start_time": "2021-08-10T09:54:01.731Z"
   },
   {
    "duration": 5,
    "start_time": "2021-08-10T09:54:02.142Z"
   },
   {
    "duration": 238265,
    "start_time": "2021-08-10T09:54:02.150Z"
   },
   {
    "duration": 531,
    "start_time": "2021-08-10T09:58:00.417Z"
   },
   {
    "duration": 3656,
    "start_time": "2021-08-10T09:57:57.295Z"
   },
   {
    "duration": 3651,
    "start_time": "2021-08-10T09:57:57.301Z"
   },
   {
    "duration": 16,
    "start_time": "2021-08-10T10:38:06.058Z"
   },
   {
    "duration": 16,
    "start_time": "2021-08-10T10:38:21.480Z"
   },
   {
    "duration": 10088,
    "start_time": "2021-08-10T10:38:36.654Z"
   },
   {
    "duration": 1099,
    "start_time": "2021-08-10T10:38:46.746Z"
   },
   {
    "duration": 56,
    "start_time": "2021-08-10T10:38:47.848Z"
   },
   {
    "duration": 4,
    "start_time": "2021-08-10T10:38:47.907Z"
   },
   {
    "duration": 12,
    "start_time": "2021-08-10T10:38:47.913Z"
   },
   {
    "duration": 2362,
    "start_time": "2021-08-10T10:38:47.928Z"
   },
   {
    "duration": 408,
    "start_time": "2021-08-10T10:38:50.292Z"
   },
   {
    "duration": 16,
    "start_time": "2021-08-10T10:38:50.706Z"
   },
   {
    "duration": 134,
    "start_time": "2021-08-10T10:38:50.725Z"
   },
   {
    "duration": 114,
    "start_time": "2021-08-10T10:38:50.862Z"
   },
   {
    "duration": 4764,
    "start_time": "2021-08-10T10:38:50.978Z"
   },
   {
    "duration": 107,
    "start_time": "2021-08-10T10:38:55.744Z"
   },
   {
    "duration": 3933,
    "start_time": "2021-08-10T10:38:55.853Z"
   },
   {
    "duration": 91,
    "start_time": "2021-08-10T10:38:59.788Z"
   },
   {
    "duration": 216,
    "start_time": "2021-08-10T10:38:59.882Z"
   },
   {
    "duration": 6,
    "start_time": "2021-08-10T10:39:00.102Z"
   },
   {
    "duration": 21,
    "start_time": "2021-08-10T10:39:00.111Z"
   },
   {
    "duration": 160,
    "start_time": "2021-08-10T10:39:00.134Z"
   },
   {
    "duration": 32,
    "start_time": "2021-08-10T10:39:00.296Z"
   },
   {
    "duration": 124,
    "start_time": "2021-08-10T10:39:00.331Z"
   },
   {
    "duration": 44,
    "start_time": "2021-08-10T10:39:00.458Z"
   },
   {
    "duration": 483,
    "start_time": "2021-08-10T10:39:00.505Z"
   },
   {
    "duration": 16,
    "start_time": "2021-08-10T10:39:01.001Z"
   },
   {
    "duration": 528,
    "start_time": "2021-08-10T10:39:01.020Z"
   },
   {
    "duration": 205,
    "start_time": "2021-08-10T10:39:01.550Z"
   },
   {
    "duration": 6278,
    "start_time": "2021-08-10T10:39:01.758Z"
   },
   {
    "duration": 40,
    "start_time": "2021-08-10T10:39:08.039Z"
   },
   {
    "duration": 59,
    "start_time": "2021-08-10T10:39:08.082Z"
   },
   {
    "duration": 68,
    "start_time": "2021-08-10T10:39:08.143Z"
   },
   {
    "duration": 70,
    "start_time": "2021-08-10T10:39:08.214Z"
   },
   {
    "duration": 44,
    "start_time": "2021-08-10T10:39:08.301Z"
   },
   {
    "duration": 59,
    "start_time": "2021-08-10T10:39:08.348Z"
   },
   {
    "duration": 44,
    "start_time": "2021-08-10T10:39:08.410Z"
   },
   {
    "duration": 108,
    "start_time": "2021-08-10T10:39:08.457Z"
   },
   {
    "duration": 101385,
    "start_time": "2021-08-10T10:39:08.568Z"
   },
   {
    "duration": 25,
    "start_time": "2021-08-10T10:40:49.956Z"
   },
   {
    "duration": 120,
    "start_time": "2021-08-10T10:40:49.984Z"
   },
   {
    "duration": 257,
    "start_time": "2021-08-10T10:40:50.107Z"
   },
   {
    "duration": 378,
    "start_time": "2021-08-10T10:40:50.366Z"
   },
   {
    "duration": 876,
    "start_time": "2021-08-10T10:40:50.747Z"
   },
   {
    "duration": 27,
    "start_time": "2021-08-10T10:40:51.625Z"
   },
   {
    "duration": 113,
    "start_time": "2021-08-10T10:40:51.654Z"
   },
   {
    "duration": 7,
    "start_time": "2021-08-10T10:40:51.770Z"
   },
   {
    "duration": 47,
    "start_time": "2021-08-10T10:40:51.779Z"
   },
   {
    "duration": 18,
    "start_time": "2021-08-10T10:40:51.828Z"
   },
   {
    "duration": 7,
    "start_time": "2021-08-10T10:40:51.848Z"
   },
   {
    "duration": 1472,
    "start_time": "2021-08-10T10:40:51.857Z"
   },
   {
    "duration": 19,
    "start_time": "2021-08-10T10:40:53.331Z"
   },
   {
    "duration": 78,
    "start_time": "2021-08-10T10:40:53.353Z"
   },
   {
    "duration": 7,
    "start_time": "2021-08-10T10:40:53.434Z"
   },
   {
    "duration": 16,
    "start_time": "2021-08-10T10:40:53.443Z"
   },
   {
    "duration": 153,
    "start_time": "2021-08-10T10:40:53.462Z"
   },
   {
    "duration": 374,
    "start_time": "2021-08-10T10:40:53.618Z"
   },
   {
    "duration": 14,
    "start_time": "2021-08-10T10:40:53.994Z"
   },
   {
    "duration": 1311100,
    "start_time": "2021-08-10T10:40:54.010Z"
   },
   {
    "duration": 18,
    "start_time": "2021-08-10T11:02:45.113Z"
   },
   {
    "duration": 362,
    "start_time": "2021-08-10T11:02:45.201Z"
   },
   {
    "duration": 6,
    "start_time": "2021-08-10T11:02:45.565Z"
   },
   {
    "duration": 260830,
    "start_time": "2021-08-10T11:02:45.573Z"
   },
   {
    "duration": 16,
    "start_time": "2021-08-10T11:07:06.406Z"
   },
   {
    "duration": 29276,
    "start_time": "2021-08-10T11:07:06.425Z"
   },
   {
    "duration": 13,
    "start_time": "2021-08-10T11:07:35.703Z"
   }
  ],
  "kernelspec": {
   "display_name": "Python 3",
   "language": "python",
   "name": "python3"
  },
  "language_info": {
   "codemirror_mode": {
    "name": "ipython",
    "version": 3
   },
   "file_extension": ".py",
   "mimetype": "text/x-python",
   "name": "python",
   "nbconvert_exporter": "python",
   "pygments_lexer": "ipython3",
   "version": "3.7.6"
  },
  "toc": {
   "base_numbering": 1,
   "nav_menu": {},
   "number_sections": true,
   "sideBar": true,
   "skip_h1_title": true,
   "title_cell": "Table of Contents",
   "title_sidebar": "Contents",
   "toc_cell": false,
   "toc_position": {},
   "toc_section_display": true,
   "toc_window_display": false
  }
 },
 "nbformat": 4,
 "nbformat_minor": 2
}
